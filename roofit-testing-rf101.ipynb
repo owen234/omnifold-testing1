{
 "cells": [
  {
   "cell_type": "markdown",
   "id": "16e56c2d",
   "metadata": {},
   "source": [
    "## rf101_basics.py\n",
    "From tutorials/roofit"
   ]
  },
  {
   "cell_type": "code",
   "execution_count": 1,
   "id": "d2c12f94",
   "metadata": {},
   "outputs": [
    {
     "name": "stdout",
     "output_type": "stream",
     "text": [
      "Welcome to JupyROOT 6.24/07\n"
     ]
    }
   ],
   "source": [
    "import ROOT"
   ]
  },
  {
   "cell_type": "code",
   "execution_count": 2,
   "id": "58987d66",
   "metadata": {},
   "outputs": [
    {
     "name": "stdout",
     "output_type": "stream",
     "text": [
      "\n",
      "\u001b[1mRooFit v3.60 -- Developed by Wouter Verkerke and David Kirkby\u001b[0m \n",
      "                Copyright (C) 2000-2013 NIKHEF, University of California & Stanford University\n",
      "                All rights reserved, please read http://roofit.sourceforge.net/license.txt\n",
      "\n"
     ]
    }
   ],
   "source": [
    "# Set up model\n",
    "# ---------------------\n",
    "# Declare variables x,mean,sigma with associated name, title, initial\n",
    "# value and allowed range\n",
    "x = ROOT.RooRealVar(\"x\", \"x\", -10, 10)\n",
    "mean = ROOT.RooRealVar(\"mean\", \"mean of gaussian\", 1, -10, 10)\n",
    "sigma = ROOT.RooRealVar(\"sigma\", \"width of gaussian\", 1, 0.1, 10)"
   ]
  },
  {
   "cell_type": "code",
   "execution_count": 3,
   "id": "9cb4c6df",
   "metadata": {},
   "outputs": [],
   "source": [
    "# Build gaussian pdf in terms of x,mean and sigma\n",
    "gauss = ROOT.RooGaussian(\"gauss\", \"gaussian PDF\", x, mean, sigma)\n",
    "\n"
   ]
  },
  {
   "cell_type": "code",
   "execution_count": 4,
   "id": "50d85ca5",
   "metadata": {},
   "outputs": [],
   "source": [
    "# Construct plot frame in 'x'\n",
    "xframe = x.frame(ROOT.RooFit.Title(\"Gaussian pdf\"))  # RooPlot\n"
   ]
  },
  {
   "cell_type": "code",
   "execution_count": 5,
   "id": "1ed45c0c",
   "metadata": {},
   "outputs": [
    {
     "data": {
      "text/plain": [
       "<cppyy.gbl.RooPlot object at 0x5646c1ee79a0>"
      ]
     },
     "execution_count": 5,
     "metadata": {},
     "output_type": "execute_result"
    }
   ],
   "source": [
    "# Plot model and change parameter values\n",
    "# ---------------------------------------------------------------------------\n",
    "# Plot gauss in frame (i.e. in x)\n",
    "gauss.plotOn(xframe)\n",
    "\n"
   ]
  },
  {
   "cell_type": "code",
   "execution_count": 6,
   "id": "a60b6898",
   "metadata": {},
   "outputs": [],
   "source": [
    "# Change the value of sigma to 3\n",
    "sigma.setVal(3)\n"
   ]
  },
  {
   "cell_type": "code",
   "execution_count": 7,
   "id": "75872952",
   "metadata": {},
   "outputs": [
    {
     "data": {
      "text/plain": [
       "<cppyy.gbl.RooPlot object at 0x5646c1ee79a0>"
      ]
     },
     "execution_count": 7,
     "metadata": {},
     "output_type": "execute_result"
    }
   ],
   "source": [
    "# Plot gauss in frame (i.e. in x) and draw frame on canvas\n",
    "gauss.plotOn(xframe, ROOT.RooFit.LineColor(ROOT.kRed))\n"
   ]
  },
  {
   "cell_type": "code",
   "execution_count": 8,
   "id": "3b8ec2f8",
   "metadata": {},
   "outputs": [],
   "source": [
    "# Generate events\n",
    "# -----------------------------\n",
    "# Generate a dataset of 1000 events in x from gauss\n",
    "data = gauss.generate(ROOT.RooArgSet(x), 10000)  # ROOT.RooDataSet\n"
   ]
  },
  {
   "cell_type": "code",
   "execution_count": 9,
   "id": "5877b3ba",
   "metadata": {},
   "outputs": [
    {
     "data": {
      "text/plain": [
       "<cppyy.gbl.RooPlot object at 0x5646c2457710>"
      ]
     },
     "execution_count": 9,
     "metadata": {},
     "output_type": "execute_result"
    }
   ],
   "source": [
    "# Make a second plot frame in x and draw both the\n",
    "# data and the pdf in the frame\n",
    "xframe2 = x.frame(ROOT.RooFit.Title(\n",
    "    \"Gaussian pdf with data\"))  # RooPlot\n",
    "data.plotOn(xframe2)\n",
    "gauss.plotOn(xframe2)\n"
   ]
  },
  {
   "cell_type": "code",
   "execution_count": 10,
   "id": "21ed31b0",
   "metadata": {},
   "outputs": [
    {
     "data": {
      "text/plain": [
       "<cppyy.gbl.RooFitResult object at 0x(nil)>"
      ]
     },
     "execution_count": 10,
     "metadata": {},
     "output_type": "execute_result"
    },
    {
     "name": "stdout",
     "output_type": "stream",
     "text": [
      "[#1] INFO:Minization -- RooMinimizer::optimizeConst: activating const optimization\n",
      " **********\n",
      " **    1 **SET PRINT           1\n",
      " **********\n",
      " **********\n",
      " **    2 **SET NOGRAD\n",
      " **********\n",
      " PARAMETER DEFINITIONS:\n",
      "    NO.   NAME         VALUE      STEP SIZE      LIMITS\n",
      "     1 mean         1.00000e+00  2.00000e+00   -1.00000e+01  1.00000e+01\n",
      "     2 sigma        3.00000e+00  9.90000e-01    1.00000e-01  1.00000e+01\n",
      " **********\n",
      " **    3 **SET ERR         0.5\n",
      " **********\n",
      " **********\n",
      " **    4 **SET PRINT           1\n",
      " **********\n",
      " **********\n",
      " **    5 **SET STR           1\n",
      " **********\n",
      " NOW USING STRATEGY  1: TRY TO BALANCE SPEED AGAINST RELIABILITY\n",
      " **********\n",
      " **    6 **MIGRAD        1000           1\n",
      " **********\n",
      " FIRST CALL TO USER FUNCTION AT NEW START POINT, WITH IFLAG=4.\n",
      " START MIGRAD MINIMIZATION.  STRATEGY  1.  CONVERGENCE WHEN EDM .LT. 1.00e-03\n",
      " FCN=25019.2 FROM MIGRAD    STATUS=INITIATE       10 CALLS          11 TOTAL\n",
      "                     EDM= unknown      STRATEGY= 1      NO ERROR MATRIX       \n",
      "  EXT PARAMETER               CURRENT GUESS       STEP         FIRST   \n",
      "  NO.   NAME      VALUE            ERROR          SIZE      DERIVATIVE \n",
      "   1  mean         1.00000e+00   2.00000e+00   2.02430e-01  -1.99004e+02\n",
      "   2  sigma        3.00000e+00   9.90000e-01   2.22742e-01   1.98823e+02\n",
      "                               ERR DEF= 0.5\n",
      " MIGRAD MINIMIZATION HAS CONVERGED.\n",
      " MIGRAD WILL VERIFY CONVERGENCE AND ERROR MATRIX.\n",
      " COVARIANCE MATRIX CALCULATED SUCCESSFULLY\n",
      " FCN=25018.5 FROM MIGRAD    STATUS=CONVERGED      32 CALLS          33 TOTAL\n",
      "                     EDM=5.80039e-07    STRATEGY= 1      ERROR MATRIX ACCURATE \n",
      "  EXT PARAMETER                                   STEP         FIRST   \n",
      "  NO.   NAME      VALUE            ERROR          SIZE      DERIVATIVE \n",
      "   1  mean         1.01746e+00   3.00149e-02   3.29345e-04  -8.41130e-02\n",
      "   2  sigma        2.97870e+00   2.19221e-02   5.32112e-04   1.48724e-01\n",
      "                               ERR DEF= 0.5\n",
      " EXTERNAL ERROR MATRIX.    NDIM=  25    NPAR=  2    ERR DEF=0.5\n",
      "  9.009e-04  1.839e-05 \n",
      "  1.839e-05  4.806e-04 \n",
      " PARAMETER  CORRELATION COEFFICIENTS  \n",
      "       NO.  GLOBAL      1      2\n",
      "        1  0.02795   1.000  0.028\n",
      "        2  0.02795   0.028  1.000\n",
      " **********\n",
      " **    7 **SET ERR         0.5\n",
      " **********\n",
      " **********\n",
      " **    8 **SET PRINT           1\n",
      " **********\n",
      " **********\n",
      " **    9 **HESSE        1000\n",
      " **********\n",
      " COVARIANCE MATRIX CALCULATED SUCCESSFULLY\n",
      " FCN=25018.5 FROM HESSE     STATUS=OK             10 CALLS          43 TOTAL\n",
      "                     EDM=5.80381e-07    STRATEGY= 1      ERROR MATRIX ACCURATE \n",
      "  EXT PARAMETER                                INTERNAL      INTERNAL  \n",
      "  NO.   NAME      VALUE            ERROR       STEP SIZE       VALUE   \n",
      "   1  mean         1.01746e+00   3.00144e-02   6.58691e-05   1.01922e-01\n",
      "   2  sigma        2.97870e+00   2.19217e-02   2.12845e-05  -4.31732e-01\n",
      "                               ERR DEF= 0.5\n",
      " EXTERNAL ERROR MATRIX.    NDIM=  25    NPAR=  2    ERR DEF=0.5\n",
      "  9.009e-04  1.792e-05 \n",
      "  1.792e-05  4.806e-04 \n",
      " PARAMETER  CORRELATION COEFFICIENTS  \n",
      "       NO.  GLOBAL      1      2\n",
      "        1  0.02723   1.000  0.027\n",
      "        2  0.02723   0.027  1.000\n",
      "[#1] INFO:Minization -- RooMinimizer::optimizeConst: deactivating const optimization\n"
     ]
    }
   ],
   "source": [
    "# Fit model to data\n",
    "# -----------------------------\n",
    "# Fit pdf to data\n",
    "gauss.fitTo(data)\n"
   ]
  },
  {
   "cell_type": "code",
   "execution_count": 11,
   "id": "cff16e35",
   "metadata": {},
   "outputs": [
    {
     "name": "stdout",
     "output_type": "stream",
     "text": [
      "RooRealVar::mean = 1.01746 +/- 0.0300144  L(-10 - 10) \n",
      "RooRealVar::sigma = 2.9787 +/- 0.0219217  L(0.1 - 10) \n"
     ]
    }
   ],
   "source": [
    "# Print values of mean and sigma (that now reflect fitted values and\n",
    "# errors)\n",
    "mean.Print()\n",
    "sigma.Print()\n"
   ]
  },
  {
   "cell_type": "code",
   "execution_count": 12,
   "id": "c51d2432",
   "metadata": {},
   "outputs": [],
   "source": [
    "# Draw all frames on a canvas\n",
    "c = ROOT.TCanvas(\"rf101_basics\", \"rf101_basics\", 800, 400)\n",
    "c.Divide(2)\n",
    "c.cd(1)\n",
    "ROOT.gPad.SetLeftMargin(0.15)\n",
    "xframe.GetYaxis().SetTitleOffset(1.6)\n",
    "xframe.Draw()\n",
    "c.cd(2)\n",
    "ROOT.gPad.SetLeftMargin(0.15)\n",
    "xframe2.GetYaxis().SetTitleOffset(1.6)\n",
    "xframe2.Draw()"
   ]
  },
  {
   "cell_type": "code",
   "execution_count": 13,
   "id": "78aa618d",
   "metadata": {},
   "outputs": [
    {
     "data": {
      "image/png": "[encoded data removed]",
      "text/plain": [
       "<IPython.core.display.Image object>"
      ]
     },
     "metadata": {},
     "output_type": "display_data"
    }
   ],
   "source": [
    "c.Draw()"
   ]
  },
  {
   "cell_type": "code",
   "execution_count": 14,
   "id": "bff1a5cd",
   "metadata": {},
   "outputs": [
    {
     "name": "stderr",
     "output_type": "stream",
     "text": [
      "Info in <TCanvas::Print>: png file rf101_basics.png has been created\n"
     ]
    }
   ],
   "source": [
    "c.SaveAs(\"rf101_basics.png\")"
   ]
  },
  {
   "cell_type": "code",
   "execution_count": null,
   "id": "ffcfa19d",
   "metadata": {},
   "outputs": [],
   "source": []
  }
 ],
 "metadata": {
  "kernelspec": {
   "display_name": "Python 3 (ipykernel)",
   "language": "python",
   "name": "python3"
  },
  "language_info": {
   "codemirror_mode": {
    "name": "ipython",
    "version": 3
   },
   "file_extension": ".py",
   "mimetype": "text/x-python",
   "name": "python",
   "nbconvert_exporter": "python",
   "pygments_lexer": "ipython3",
   "version": "3.10.12"
  }
 },
 "nbformat": 4,
 "nbformat_minor": 5
}
