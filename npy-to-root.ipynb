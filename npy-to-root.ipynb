{
 "cells": [
  {
   "cell_type": "markdown",
   "id": "dd4ab48f",
   "metadata": {},
   "source": [
    "## Import as .npy, export as a TTree in .root"
   ]
  },
  {
   "cell_type": "code",
   "execution_count": 1,
   "id": "3d769374",
   "metadata": {},
   "outputs": [],
   "source": [
    "import time\n",
    "import numpy as np\n",
    "import uproot\n"
   ]
  },
  {
   "cell_type": "code",
   "execution_count": 2,
   "id": "23cf903a",
   "metadata": {},
   "outputs": [],
   "source": [
    "#input_filebase = 'bootstrap-9d-output-test1f'\n",
    "#output_filename = 'bootstrap-9d-export1f.root'\n",
    "\n",
    "\n",
    "#input_filebase = 'bootstrap-output-test1c'\n",
    "\n",
    "input_filebase = 'bootstrap-9d-output-test1g-diagonal-cov'\n",
    "output_filename = 'bootstrap-9d-export1g-diagonal-cov.root'"
   ]
  },
  {
   "cell_type": "code",
   "execution_count": 3,
   "id": "26419f2f",
   "metadata": {},
   "outputs": [],
   "source": [
    "with open('%s.npy' % input_filebase,'rb') as f :\n",
    "    train_pts = np.load(f)\n",
    "    train_det_pts = np.load(f)\n",
    "    true_pts = np.load(f)\n",
    "    true_det_pts = np.load(f)\n",
    "    bootstrap_weights = np.load(f)"
   ]
  },
  {
   "cell_type": "code",
   "execution_count": 4,
   "id": "a354cd5c",
   "metadata": {},
   "outputs": [
    {
     "name": "stdout",
     "output_type": "stream",
     "text": [
      "\n",
      "\n",
      " train_pts:  shape (400000, 9) ,  number of features in the data:  9 ,  nevts = 400000 \n",
      "\n",
      "\n"
     ]
    }
   ],
   "source": [
    "nevts = len(train_pts)\n",
    "nfeatures = len(train_pts[0,:])\n",
    "\n",
    "print(\"\\n\\n train_pts:  shape %s ,  number of features in the data:  %d ,  nevts = %d \\n\\n\" \n",
    "      % (str(train_pts.shape), nfeatures, nevts))"
   ]
  },
  {
   "cell_type": "code",
   "execution_count": 5,
   "id": "c6feec28",
   "metadata": {},
   "outputs": [
    {
     "name": "stdout",
     "output_type": "stream",
     "text": [
      "\n",
      "\n",
      " bootstrap_weights:  shape (50, 400000) ,  number of bootstrap samples:  50\n",
      "\n",
      "\n"
     ]
    }
   ],
   "source": [
    "nboot = len(bootstrap_weights)\n",
    "\n",
    "print(\"\\n\\n bootstrap_weights:  shape %s ,  number of bootstrap samples:  %d\\n\\n\" \n",
    "      % ( str(bootstrap_weights.shape), nboot) ) "
   ]
  },
  {
   "cell_type": "code",
   "execution_count": null,
   "id": "81fee0c5",
   "metadata": {},
   "outputs": [],
   "source": []
  },
  {
   "cell_type": "code",
   "execution_count": 6,
   "id": "eacdcdd8",
   "metadata": {},
   "outputs": [],
   "source": [
    "uproot4_branches = {}\n",
    "\n",
    "for bi in range( nfeatures ) :\n",
    "    uproot4_branches[ \"x%d\" % bi ] = \"f4\"\n",
    "\n",
    "uproot4_branches[ \"weight\" ] = \"f4\"\n",
    "uproot4_branches[ \"dset_index\"] = \"i4\"\n",
    "    "
   ]
  },
  {
   "cell_type": "code",
   "execution_count": 7,
   "id": "c5de4299",
   "metadata": {},
   "outputs": [
    {
     "data": {
      "text/plain": [
       "{'x0': 'f4',\n",
       " 'x1': 'f4',\n",
       " 'x2': 'f4',\n",
       " 'x3': 'f4',\n",
       " 'x4': 'f4',\n",
       " 'x5': 'f4',\n",
       " 'x6': 'f4',\n",
       " 'x7': 'f4',\n",
       " 'x8': 'f4',\n",
       " 'weight': 'f4',\n",
       " 'dset_index': 'i4'}"
      ]
     },
     "execution_count": 7,
     "metadata": {},
     "output_type": "execute_result"
    }
   ],
   "source": [
    "uproot4_branches"
   ]
  },
  {
   "cell_type": "code",
   "execution_count": 8,
   "id": "38428161",
   "metadata": {},
   "outputs": [
    {
     "name": "stdout",
     "output_type": "stream",
     "text": [
      "CPU times: user 24.7 s, sys: 957 ms, total: 25.7 s\n",
      "Wall time: 25.7 s\n"
     ]
    }
   ],
   "source": [
    "%%time\n",
    "\n",
    "with uproot.recreate(output_filename) as file :\n",
    "    \n",
    "    file.mktree( \"boot_ttree\", uproot4_branches, \"Bootstrap ttree\")\n",
    "    \n",
    "    for bi in range(nboot) :\n",
    "        extend_dict = {}\n",
    "        for fi in range(nfeatures) :\n",
    "            extend_dict[ \"x%d\" % fi ] = train_pts[:,fi][bootstrap_weights[bi,:]<10]\n",
    "        extend_dict[\"weight\"] = bootstrap_weights[bi,:][bootstrap_weights[bi,:]<10]\n",
    "        extend_dict[\"dset_index\"] = bi * np.ones( len(bootstrap_weights[bi,:][bootstrap_weights[bi,:]<10]) )\n",
    "        file[\"boot_ttree\"].extend( extend_dict )\n",
    "\n"
   ]
  },
  {
   "cell_type": "code",
   "execution_count": 9,
   "id": "2e9d3121",
   "metadata": {},
   "outputs": [
    {
     "data": {
      "text/plain": [
       "(399993,)"
      ]
     },
     "execution_count": 9,
     "metadata": {},
     "output_type": "execute_result"
    }
   ],
   "source": [
    "bi=1\n",
    "np.shape(train_pts[:,fi][bootstrap_weights[bi,:]<10])"
   ]
  },
  {
   "cell_type": "code",
   "execution_count": 10,
   "id": "93e6cf12",
   "metadata": {},
   "outputs": [
    {
     "data": {
      "text/plain": [
       "(399993,)"
      ]
     },
     "execution_count": 10,
     "metadata": {},
     "output_type": "execute_result"
    }
   ],
   "source": [
    "np.shape(bootstrap_weights[bi,:][bootstrap_weights[bi,:]<10])"
   ]
  },
  {
   "cell_type": "code",
   "execution_count": null,
   "id": "62b20802",
   "metadata": {},
   "outputs": [],
   "source": []
  }
 ],
 "metadata": {
  "kernelspec": {
   "display_name": "Python 3 (ipykernel)",
   "language": "python",
   "name": "python3"
  },
  "language_info": {
   "codemirror_mode": {
    "name": "ipython",
    "version": 3
   },
   "file_extension": ".py",
   "mimetype": "text/x-python",
   "name": "python",
   "nbconvert_exporter": "python",
   "pygments_lexer": "ipython3",
   "version": "3.10.12"
  }
 },
 "nbformat": 4,
 "nbformat_minor": 5
}
