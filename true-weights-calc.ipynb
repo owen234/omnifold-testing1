{
 "cells": [
  {
   "cell_type": "code",
   "execution_count": 1,
   "id": "d4b48374",
   "metadata": {},
   "outputs": [],
   "source": [
    "import matplotlib.pyplot as plt\n",
    "import numpy as np\n",
    "\n",
    "import time\n",
    "\n",
    "import sys\n",
    "import os\n",
    "\n",
    "from datetime import datetime\n",
    "import subprocess\n",
    "\n",
    "from os.path import exists\n",
    "\n",
    "import read_config_utils as cu\n",
    "\n",
    "import matplotlib as mpl"
   ]
  },
  {
   "cell_type": "code",
   "execution_count": 2,
   "id": "e9ba6be8",
   "metadata": {},
   "outputs": [
    {
     "name": "stdout",
     "output_type": "stream",
     "text": [
      "\n",
      "\n",
      "\n",
      " shape of train_pts:  (100000, 1)\n",
      " shape of true_pts:   (10000, 1)\n",
      "\n",
      "\n",
      "\n"
     ]
    }
   ],
   "source": [
    "\n",
    "\n",
    "\n",
    "#input_dir = 'bootstrap-toy-study8a-1d-1d-nominal-resolution'\n",
    "#input_dir = 'hist-pdf-toy-study-1d-1a-nominal-resolution-5k-toys'\n",
    "#input_dir = 'simple-pdf-toy-study6b-1d-1a'\n",
    "\n",
    "\n",
    "\n",
    "\n",
    "#input_dir = 'hist-pdf-toy-study-1d-1a-perfect'\n",
    "#input_dir = 'hist-pdf-toy-study-1d-1a-goodres'\n",
    "#input_dir = 'hist-pdf-toy-study-1d-1a-nominal-resolution'\n",
    "#input_dir = 'hist-pdf-toy-study-1d-1b-mediumbad'\n",
    "\n",
    "input_dir = 'hist-pdf-toy-study-1d-1b-read-points-nominal-resolution'\n",
    "\n",
    "\n",
    "#input_dir = 'bootstrap-toy-study8a-1d-1d-perfect'\n",
    "#input_dir = 'bootstrap-toy-study8a-1d-1d'\n",
    "#input_dir = 'bootstrap-toy-study8a-1d-1d-nominal-resolution'\n",
    "#input_dir = 'bootstrap-toy-study8a-1d-1d-gpu0'\n",
    "\n",
    "\n",
    "\n",
    "#weights_file = 'omnifold-output-weights.npy'\n",
    "\n",
    "weights_file = 'bootstrap-weights-003.npy'\n",
    "\n",
    "\n",
    "with open( '%s/train-and-true-samples.npy' % input_dir, 'rb') as f :\n",
    "    train_pts = np.load(f)\n",
    "    train_det_pts = np.load(f)\n",
    "    true_pts = np.load(f)\n",
    "    true_det_pts = np.load(f)\n",
    "    \n",
    "print('\\n\\n')\n",
    "print(' shape of train_pts:  %s' % str(train_pts.shape))\n",
    "print(' shape of true_pts:   %s' % str(true_pts.shape))\n",
    "print('\\n\\n')\n",
    "\n"
   ]
  },
  {
   "cell_type": "code",
   "execution_count": 3,
   "id": "ef407180",
   "metadata": {},
   "outputs": [],
   "source": [
    "config_file = '%s/config.txt' % (input_dir)\n",
    "\n",
    "if not exists(config_file) :\n",
    "    \n",
    "    print(\"\\n\\n\\n ******* Input file does not exist: %s\\n\\n\\n\" % config_file )\n",
    "    sys.exit()\n",
    "    "
   ]
  },
  {
   "cell_type": "code",
   "execution_count": 4,
   "id": "ba54e13b",
   "metadata": {},
   "outputs": [
    {
     "name": "stdout",
     "output_type": "stream",
     "text": [
      "\n",
      "\n",
      " Number of feature dimensions: 1\n",
      "\n",
      "\n"
     ]
    }
   ],
   "source": [
    "ndim = int(cu.get_par( config_file, \"ndim\"))\n",
    "print(\"\\n\\n Number of feature dimensions: %d\\n\\n\" % ndim)\n",
    "\n",
    "with open( '%s/config-pars.npy' % input_dir, 'rb') as f :\n",
    "    train_mu = np.load(f, allow_pickle=True )\n",
    "    train_rho = np.load(f, allow_pickle=True)\n",
    "    train_sig = np.load(f, allow_pickle=True)    \n",
    "    true_mu = np.load(f, allow_pickle=True )\n",
    "    true_rho = np.load(f, allow_pickle=True)\n",
    "    true_sig = np.load(f, allow_pickle=True)  \n",
    "    resolution = np.load(f, allow_pickle=True)\n",
    "    train_cov = np.load(f, allow_pickle=True)\n",
    "    true_cov = np.load(f, allow_pickle=True)"
   ]
  },
  {
   "cell_type": "code",
   "execution_count": 5,
   "id": "ef14d0fe",
   "metadata": {},
   "outputs": [],
   "source": [
    "with open( \"%s/%s\" % (input_dir, weights_file),'rb') as f :\n",
    "    omnifold_weights = np.load(f)\n"
   ]
  },
  {
   "cell_type": "code",
   "execution_count": 6,
   "id": "f04e1bfb",
   "metadata": {},
   "outputs": [
    {
     "data": {
      "text/plain": [
       "array([0.09604334, 0.10739119, 0.10262409, ..., 0.12534732, 0.12273081,\n",
       "       0.10435996])"
      ]
     },
     "execution_count": 6,
     "metadata": {},
     "output_type": "execute_result"
    }
   ],
   "source": [
    "omnifold_weights"
   ]
  },
  {
   "cell_type": "code",
   "execution_count": null,
   "id": "51bcb037",
   "metadata": {},
   "outputs": [],
   "source": []
  },
  {
   "cell_type": "code",
   "execution_count": null,
   "id": "7eccb3ed",
   "metadata": {},
   "outputs": [],
   "source": []
  },
  {
   "cell_type": "code",
   "execution_count": 7,
   "id": "c4c59255",
   "metadata": {},
   "outputs": [],
   "source": [
    "train_cov_inv = np.linalg.inv( train_cov )\n",
    "true_cov_inv = np.linalg.inv( true_cov )\n",
    "\n",
    "train_pts_minus_train_mu = train_pts - train_mu\n",
    "train_pts_minus_true_mu = train_pts - true_mu\n",
    "\n",
    "true_cov_inv_times_v = np.tensordot( true_cov_inv, train_pts_minus_true_mu.T, axes=(1,0) )\n",
    "v_times_true_cov_inv_times_v =  np.sum( train_pts_minus_true_mu.T * true_cov_inv_times_v, axis=0)\n",
    "\n",
    "train_cov_inv_times_v = np.tensordot( train_cov_inv, train_pts_minus_train_mu.T, axes=(1,0) )\n",
    "v_times_train_cov_inv_times_v =  np.sum( train_pts_minus_train_mu.T * train_cov_inv_times_v, axis=0)\n",
    "\n",
    "exp_v_times_train_cov_inv_times_v = np.exp( -0.5 * v_times_train_cov_inv_times_v )\n",
    "exp_v_times_true_cov_inv_times_v  = np.exp( -0.5 * v_times_true_cov_inv_times_v  )\n",
    "\n",
    "true_cov_det = np.linalg.det( true_cov )\n",
    "train_cov_det = np.linalg.det( train_cov )\n",
    "\n",
    "norm2_true = np.power( 3.14159265, ndim) * true_cov_det\n",
    "norm2_train = np.power( 3.14159265, ndim) * train_cov_det\n",
    "\n",
    "pdf_train = exp_v_times_train_cov_inv_times_v / np.sqrt(norm2_train)\n",
    "pdf_true = exp_v_times_true_cov_inv_times_v / np.sqrt(norm2_true)\n",
    "\n",
    "pdf_ratio = pdf_true / pdf_train\n",
    "\n",
    "sample_sf = (1.*len(true_pts))/(1.*len(train_pts))\n",
    "\n",
    "calc_weight = pdf_ratio\n",
    "calc_weight_scaled = sample_sf * pdf_ratio\n"
   ]
  },
  {
   "cell_type": "code",
   "execution_count": 8,
   "id": "da236bf0",
   "metadata": {},
   "outputs": [
    {
     "data": {
      "text/plain": [
       "array([0.09427797, 0.10903639, 0.10247616, ..., 0.12336848, 0.12334703,\n",
       "       0.10481374])"
      ]
     },
     "execution_count": 8,
     "metadata": {},
     "output_type": "execute_result"
    }
   ],
   "source": [
    "calc_weight_scaled"
   ]
  },
  {
   "cell_type": "code",
   "execution_count": 9,
   "id": "0ff33ebc",
   "metadata": {},
   "outputs": [
    {
     "data": {
      "text/plain": [
       "<function matplotlib.pyplot.show(close=None, block=None)>"
      ]
     },
     "execution_count": 9,
     "metadata": {},
     "output_type": "execute_result"
    },
    {
     "data": {
      "image/png": "[encoded data removed]",
      "text/plain": [
       "<Figure size 576x576 with 1 Axes>"
      ]
     },
     "metadata": {
      "needs_background": "light"
     },
     "output_type": "display_data"
    }
   ],
   "source": [
    "fig,ax = plt.subplots( 1, 1, figsize=(8,8))\n",
    "\n",
    "max_weight = 0.2\n",
    "ax.hist2d( calc_weight_scaled, omnifold_weights, \n",
    "          bins=[100,100], range=([0,max_weight],[0,max_weight]))\n",
    "ax.plot([0,max_weight],[0,max_weight])\n",
    "plt.show"
   ]
  },
  {
   "cell_type": "code",
   "execution_count": 10,
   "id": "ee39b077",
   "metadata": {},
   "outputs": [
    {
     "data": {
      "text/plain": [
       "array([-0.46336226,  0.02393367, -0.20724547, ...,  1.12523375,\n",
       "        0.97045159, -0.12846198])"
      ]
     },
     "execution_count": 10,
     "metadata": {},
     "output_type": "execute_result"
    }
   ],
   "source": [
    "train_pts[:,0]"
   ]
  },
  {
   "cell_type": "code",
   "execution_count": 11,
   "id": "9b481736",
   "metadata": {
    "scrolled": false
   },
   "outputs": [
    {
     "data": {
      "text/plain": [
       "<function matplotlib.pyplot.show(close=None, block=None)>"
      ]
     },
     "execution_count": 11,
     "metadata": {},
     "output_type": "execute_result"
    },
    {
     "data": {
      "image/png": "[encoded data removed]",
      "text/plain": [
       "<Figure size 1728x576 with 3 Axes>"
      ]
     },
     "metadata": {
      "needs_background": "light"
     },
     "output_type": "display_data"
    }
   ],
   "source": [
    "fig,ax = plt.subplots( 1, 3, figsize=(3*8,8))\n",
    "\n",
    "ax[0].hist2d( train_pts[:,0], calc_weight_scaled, bins=[100,100])\n",
    "ax[1].hist2d( train_pts[:,0], omnifold_weights, bins=[100,100])\n",
    "ax[2].hist2d( train_pts[:,0], omnifold_weights/calc_weight_scaled, \n",
    "             bins=[100,100], range=([-5,5],[0.75,1.25]))\n",
    "ax[2].plot([-5,5],[1.,1.])\n",
    "\n",
    "\n",
    "ax[0].set_ylabel('True weight', fontsize=22)\n",
    "ax[1].set_ylabel('OmniFold weight', fontsize=22)\n",
    "ax[2].set_ylabel('OmniFold / True weight ratio', fontsize=22)\n",
    "\n",
    "ax[0].set_xlabel('feature 0', fontsize=22)\n",
    "ax[1].set_xlabel('feature 0', fontsize=22)\n",
    "ax[2].set_xlabel('feature 0', fontsize=22)\n",
    "\n",
    "\n",
    "plt.show"
   ]
  },
  {
   "cell_type": "code",
   "execution_count": null,
   "id": "bd2d87c2",
   "metadata": {},
   "outputs": [],
   "source": []
  }
 ],
 "metadata": {
  "kernelspec": {
   "display_name": "Python 3 (ipykernel)",
   "language": "python",
   "name": "python3"
  },
  "language_info": {
   "codemirror_mode": {
    "name": "ipython",
    "version": 3
   },
   "file_extension": ".py",
   "mimetype": "text/x-python",
   "name": "python",
   "nbconvert_exporter": "python",
   "pygments_lexer": "ipython3",
   "version": "3.10.12"
  }
 },
 "nbformat": 4,
 "nbformat_minor": 5
}
