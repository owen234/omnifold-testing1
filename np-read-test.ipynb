{
 "cells": [
  {
   "cell_type": "code",
   "execution_count": 7,
   "id": "d0ca688c",
   "metadata": {},
   "outputs": [],
   "source": [
    "import numpy as np"
   ]
  },
  {
   "cell_type": "code",
   "execution_count": 19,
   "id": "35fee3b1",
   "metadata": {},
   "outputs": [],
   "source": [
    "with open( 'write-test1.npy', 'rb') as f :\n",
    "    train_mu = np.load(f, allow_pickle=True )\n",
    "    train_rho = np.load(f, allow_pickle=True)\n",
    "    train_sig = np.load(f, allow_pickle=True)    \n",
    "    true_mu = np.load(f, allow_pickle=True )\n",
    "    true_rho = np.load(f, allow_pickle=True)\n",
    "    true_sig = np.load(f, allow_pickle=True)  \n",
    "    resolution = np.load(f, allow_pickle=True)\n",
    "    \n",
    "    \n",
    "    \n",
    "    "
   ]
  },
  {
   "cell_type": "code",
   "execution_count": 20,
   "id": "fbe8a27a",
   "metadata": {},
   "outputs": [
    {
     "name": "stdout",
     "output_type": "stream",
     "text": [
      "train_mu : [ 1.   0.  -0.5  0.5]\n",
      "train_rho : [list([0.3, -0.2, 0.1]) list([-0.5, 0.1]) list([0.7])]\n",
      "train_sig : [1.  0.7 1.1 0.8]\n",
      "true_mu : [ 0.8  0.1 -0.6  0.7]\n",
      "true_rho : [list([0.4, -0.3, 0.0]) list([-0.4, 0.2]) list([0.5])]\n",
      "true_sig : [0.8 0.6 1.  0.6]\n",
      "resolution: [0.4 0.5 0.6 0.3]\n"
     ]
    }
   ],
   "source": [
    "print( \"train_mu : %s\" % train_mu )\n",
    "print( \"train_rho : %s\" % train_rho )\n",
    "print( \"train_sig : %s\" % train_sig )\n",
    "print( \"true_mu : %s\" % true_mu )\n",
    "print( \"true_rho : %s\" % true_rho )\n",
    "print( \"true_sig : %s\" % true_sig )\n",
    "print( \"resolution: %s\" % resolution )"
   ]
  },
  {
   "cell_type": "code",
   "execution_count": 13,
   "id": "3be66818",
   "metadata": {},
   "outputs": [
    {
     "data": {
      "text/plain": [
       "-0.2"
      ]
     },
     "execution_count": 13,
     "metadata": {},
     "output_type": "execute_result"
    }
   ],
   "source": [
    "train_rho[0][1]"
   ]
  },
  {
   "cell_type": "code",
   "execution_count": null,
   "id": "e40cc82d",
   "metadata": {},
   "outputs": [],
   "source": []
  }
 ],
 "metadata": {
  "kernelspec": {
   "display_name": "Python 3 (ipykernel)",
   "language": "python",
   "name": "python3"
  },
  "language_info": {
   "codemirror_mode": {
    "name": "ipython",
    "version": 3
   },
   "file_extension": ".py",
   "mimetype": "text/x-python",
   "name": "python",
   "nbconvert_exporter": "python",
   "pygments_lexer": "ipython3",
   "version": "3.10.12"
  }
 },
 "nbformat": 4,
 "nbformat_minor": 5
}
