{
 "cells": [
  {
   "cell_type": "code",
   "execution_count": 1,
   "id": "a498f19f",
   "metadata": {},
   "outputs": [
    {
     "name": "stdout",
     "output_type": "stream",
     "text": [
      "Welcome to JupyROOT 6.24/07\n"
     ]
    }
   ],
   "source": [
    "import ROOT"
   ]
  },
  {
   "cell_type": "code",
   "execution_count": 2,
   "id": "170f794d",
   "metadata": {},
   "outputs": [
    {
     "data": {
      "text/plain": [
       "0"
      ]
     },
     "execution_count": 2,
     "metadata": {},
     "output_type": "execute_result"
    },
    {
     "name": "stdout",
     "output_type": "stream",
     "text": [
      "\n",
      "\u001b[1mRooFit v3.60 -- Developed by Wouter Verkerke and David Kirkby\u001b[0m \n",
      "                Copyright (C) 2000-2013 NIKHEF, University of California & Stanford University\n",
      "                All rights reserved, please read http://roofit.sourceforge.net/license.txt\n",
      "\n"
     ]
    }
   ],
   "source": [
    "ROOT.gSystem.Load('./RooMvn2d_cxx.so')"
   ]
  },
  {
   "cell_type": "code",
   "execution_count": 3,
   "id": "3f08b574",
   "metadata": {},
   "outputs": [],
   "source": [
    "import matplotlib.pyplot as plt\n",
    "import numpy as np\n",
    "\n",
    "import time"
   ]
  },
  {
   "cell_type": "code",
   "execution_count": 4,
   "id": "bc5ac81b",
   "metadata": {},
   "outputs": [],
   "source": [
    "true_mean_x = 0.2\n",
    "true_mean_y = 0.8\n",
    "true_sigma_x = 1.0\n",
    "true_sigma_y = 1.5\n",
    "true_rho_xy = -0.6\n",
    "true_sigma2_x = true_sigma_x * true_sigma_x\n",
    "true_sigma2_y = true_sigma_y * true_sigma_y\n",
    "true_cov_xy = true_rho_xy * true_sigma_x * true_sigma_y\n",
    "\n",
    "true_cov = np.array( [[true_sigma2_x, true_cov_xy], [true_cov_xy, true_sigma2_y]] )\n",
    "true_mu = np.array( [true_mean_x, true_mean_y])\n",
    "\n"
   ]
  },
  {
   "cell_type": "code",
   "execution_count": 5,
   "id": "eaa3a3cd",
   "metadata": {},
   "outputs": [],
   "source": [
    "ngen = 10000\n",
    "\n",
    "true_pts = np.random.multivariate_normal(true_mu, true_cov, size=ngen)"
   ]
  },
  {
   "cell_type": "code",
   "execution_count": 6,
   "id": "87631282",
   "metadata": {},
   "outputs": [],
   "source": [
    "\n",
    "eff = 1.-1./(1.+np.exp(-1*true_pts[:,0]))\n",
    "\n",
    "rndm = np.random.rand(len(true_pts))\n",
    "weight = 1./eff"
   ]
  },
  {
   "cell_type": "code",
   "execution_count": 7,
   "id": "3df5b1c7",
   "metadata": {},
   "outputs": [],
   "source": [
    "selected_pts = true_pts[ rndm < eff ]\n",
    "selected_weights = weight[ rndm < eff]"
   ]
  },
  {
   "cell_type": "code",
   "execution_count": 8,
   "id": "1502d3ad",
   "metadata": {},
   "outputs": [
    {
     "data": {
      "text/plain": [
       "(4509, 2)"
      ]
     },
     "execution_count": 8,
     "metadata": {},
     "output_type": "execute_result"
    }
   ],
   "source": [
    "selected_pts.shape"
   ]
  },
  {
   "cell_type": "code",
   "execution_count": 9,
   "id": "5118d384",
   "metadata": {},
   "outputs": [
    {
     "data": {
      "text/plain": [
       "(4509,)"
      ]
     },
     "execution_count": 9,
     "metadata": {},
     "output_type": "execute_result"
    }
   ],
   "source": [
    "selected_weights.shape"
   ]
  },
  {
   "cell_type": "code",
   "execution_count": 10,
   "id": "d4b8a35d",
   "metadata": {},
   "outputs": [
    {
     "data": {
      "text/plain": [
       "<function matplotlib.pyplot.show(close=None, block=None)>"
      ]
     },
     "execution_count": 10,
     "metadata": {},
     "output_type": "execute_result"
    },
    {
     "data": {
      "image/png": "[encoded data removed]",
      "text/plain": [
       "<Figure size 864x864 with 4 Axes>"
      ]
     },
     "metadata": {
      "needs_background": "light"
     },
     "output_type": "display_data"
    }
   ],
   "source": [
    "fig,ax = plt.subplots( 2, 2, figsize=(12,12))\n",
    "\n",
    "hbins = 80\n",
    "hmin = -6\n",
    "hmax = 6\n",
    "\n",
    "ax[0][0].hist2d( true_pts[:,0], true_pts[:,1], bins=(hbins,hbins), range=([hmin,hmax],[hmin,hmax]))\n",
    "\n",
    "ax[0][1].hist2d( selected_pts[:,0], selected_pts[:,1], bins=(hbins,hbins), range=([hmin,hmax],[hmin,hmax]))\n",
    "\n",
    "ax[1][0].hist( true_pts[:,0], bins=hbins, range=[hmin,hmax])\n",
    "ax[1][0].hist( selected_pts[:,0], bins=hbins, range=[hmin,hmax], alpha=0.8)\n",
    "\n",
    "ax[1][1].hist( selected_weights[:], bins=hbins)\n",
    "\n",
    "plt.show"
   ]
  },
  {
   "cell_type": "code",
   "execution_count": null,
   "id": "dee254e0",
   "metadata": {},
   "outputs": [],
   "source": []
  },
  {
   "cell_type": "code",
   "execution_count": null,
   "id": "cf1740a8",
   "metadata": {},
   "outputs": [],
   "source": []
  },
  {
   "cell_type": "code",
   "execution_count": null,
   "id": "8cca1c28",
   "metadata": {},
   "outputs": [],
   "source": []
  },
  {
   "cell_type": "code",
   "execution_count": null,
   "id": "5803cb7e",
   "metadata": {},
   "outputs": [],
   "source": []
  },
  {
   "cell_type": "code",
   "execution_count": null,
   "id": "94afd061",
   "metadata": {},
   "outputs": [],
   "source": []
  },
  {
   "cell_type": "code",
   "execution_count": 11,
   "id": "16d49222",
   "metadata": {},
   "outputs": [],
   "source": [
    "x = ROOT.RooRealVar(\"x\",\"x\",-10.,10.)\n",
    "y = ROOT.RooRealVar(\"y\",\"y\",-10.,10.)\n",
    "mean_x = ROOT.RooRealVar(\"mean_x\",\"mean_x\", true_mean_x, -3., 3.)\n",
    "mean_y = ROOT.RooRealVar(\"mean_y\",\"mean_y\", true_mean_y, -3., 3.)\n",
    "sigma2_x = ROOT.RooRealVar(\"sigma2_x\",\"sigma2_x\", true_sigma2_x, 0.1, 9. )\n",
    "sigma2_y = ROOT.RooRealVar(\"sigma2_y\",\"sigma2_y\", true_sigma2_y, 0.1, 9. )\n",
    "cov_xy = ROOT.RooRealVar(\"cov_xy\",\"cov_xy\", true_cov_xy, -9., 9.)\n",
    "\n",
    "weight = ROOT.RooRealVar(\"weight\",\"weight\", 0., 100. )"
   ]
  },
  {
   "cell_type": "code",
   "execution_count": 12,
   "id": "ac43244e",
   "metadata": {},
   "outputs": [],
   "source": [
    "rmvn = ROOT.RooMvn2d( \"rmvn\", \"rmvn\", x, y, mean_x, mean_y, sigma2_x, sigma2_y, cov_xy )"
   ]
  },
  {
   "cell_type": "code",
   "execution_count": 13,
   "id": "e25988a1",
   "metadata": {},
   "outputs": [],
   "source": [
    "data_weighted = ROOT.RooDataSet(\"data_weighted\",\"data_weighted\", ROOT.RooArgSet(x,y,weight), ROOT.RooFit.WeightVar(\"weight\"))"
   ]
  },
  {
   "cell_type": "code",
   "execution_count": 14,
   "id": "63ebb198",
   "metadata": {},
   "outputs": [],
   "source": [
    "for i in range( len(selected_pts) ) :\n",
    "    x.setVal(selected_pts[i,0])\n",
    "    y.setVal(selected_pts[i,1])\n",
    "    weight.setVal(selected_weights[i])\n",
    "    data_weighted.add( ROOT.RooArgSet(x,y,weight), weight.getVal())"
   ]
  },
  {
   "cell_type": "code",
   "execution_count": null,
   "id": "192478d8",
   "metadata": {},
   "outputs": [],
   "source": []
  },
  {
   "cell_type": "code",
   "execution_count": 15,
   "id": "dc8bd676",
   "metadata": {
    "scrolled": true
   },
   "outputs": [
    {
     "name": "stdout",
     "output_type": "stream",
     "text": [
      "CPU times: user 650 ms, sys: 17.6 ms, total: 667 ms\n",
      "Wall time: 661 ms\n",
      "[#1] INFO:NumericIntegration -- RooRealIntegral::init(rmvn_Int[x,y]) using numeric integrator RooAdaptiveIntegratorND to calculate Int(x,y)\n",
      "[#1] INFO:Minization -- RooMinimizer::optimizeConst: activating const optimization\n",
      " **********\n",
      " **    1 **SET PRINT           1\n",
      " **********\n",
      " **********\n",
      " **    2 **SET NOGRAD\n",
      " **********\n",
      " PARAMETER DEFINITIONS:\n",
      "    NO.   NAME         VALUE      STEP SIZE      LIMITS\n",
      "     1 cov_xy      -9.00000e-01  1.80000e+00   -9.00000e+00  9.00000e+00\n",
      "     2 mean_x       2.00000e-01  6.00000e-01   -3.00000e+00  3.00000e+00\n",
      "     3 mean_y       8.00000e-01  6.00000e-01   -3.00000e+00  3.00000e+00\n",
      "     4 sigma2_x     1.00000e+00  4.50000e-01    1.00000e-01  9.00000e+00\n",
      "     5 sigma2_y     2.25000e+00  8.90000e-01    1.00000e-01  9.00000e+00\n",
      " **********\n",
      " **    3 **SET ERR         0.5\n",
      " **********\n",
      " **********\n",
      " **    4 **SET PRINT           1\n",
      " **********\n",
      " **********\n",
      " **    5 **SET STR           1\n",
      " **********\n",
      " NOW USING STRATEGY  1: TRY TO BALANCE SPEED AGAINST RELIABILITY\n",
      " **********\n",
      " **    6 **MIGRAD        2500           1\n",
      " **********\n",
      " FIRST CALL TO USER FUNCTION AT NEW START POINT, WITH IFLAG=4.\n",
      " START MIGRAD MINIMIZATION.  STRATEGY  1.  CONVERGENCE WHEN EDM .LT. 1.00e-03\n",
      " FCN=29928.7 FROM MIGRAD    STATUS=INITIATE       24 CALLS          25 TOTAL\n",
      "                     EDM= unknown      STRATEGY= 1      NO ERROR MATRIX       \n",
      "  EXT PARAMETER               CURRENT GUESS       STEP         FIRST   \n",
      "  NO.   NAME      VALUE            ERROR          SIZE      DERIVATIVE \n",
      "   1  cov_xy      -9.00000e-01   1.80000e+00   2.02430e-01  -3.25565e+03\n",
      "   2  mean_x       2.00000e-01   6.00000e-01   2.01832e-01   1.37449e+02\n",
      "   3  mean_y       8.00000e-01   6.00000e-01   2.09401e-01   2.48270e+02\n",
      "   4  sigma2_x     1.00000e+00   4.50000e-01   1.73255e-01  -9.49121e+02\n",
      "   5  sigma2_y     2.25000e+00   8.90000e-01   2.38434e-01  -3.64432e+02\n",
      "                               ERR DEF= 0.5\n",
      " MIGRAD MINIMIZATION HAS CONVERGED.\n",
      " MIGRAD WILL VERIFY CONVERGENCE AND ERROR MATRIX.\n",
      " COVARIANCE MATRIX CALCULATED SUCCESSFULLY\n",
      " FCN=29922.6 FROM MIGRAD    STATUS=CONVERGED     133 CALLS         134 TOTAL\n",
      "                     EDM=8.33207e-06    STRATEGY= 1      ERROR MATRIX ACCURATE \n",
      "  EXT PARAMETER                                   STEP         FIRST   \n",
      "  NO.   NAME      VALUE            ERROR          SIZE      DERIVATIVE \n",
      "   1  cov_xy      -8.90916e-01   1.74214e-02   1.15414e-04   1.99368e+00\n",
      "   2  mean_x       2.03180e-01   1.01917e-02   3.29288e-04  -6.24851e-02\n",
      "   3  mean_y       7.84571e-01   1.51516e-02   5.06040e-04   2.67237e-01\n",
      "   4  sigma2_x     1.02111e+00   1.43823e-02   4.20597e-04   9.16391e-02\n",
      "   5  sigma2_y     2.25679e+00   3.17874e-02   6.60877e-04   3.35651e-01\n",
      "                               ERR DEF= 0.5\n",
      " EXTERNAL ERROR MATRIX.    NDIM=  25    NPAR=  5    ERR DEF=0.5\n",
      "  3.035e-04  4.678e-09 -6.102e-09 -1.773e-04 -3.919e-04 \n",
      "  4.678e-09  1.039e-04 -9.062e-05  9.850e-08 -1.373e-07 \n",
      " -6.102e-09 -9.062e-05  2.296e-04 -8.441e-08  3.466e-07 \n",
      " -1.773e-04  9.850e-08 -8.441e-08  2.069e-04  1.508e-04 \n",
      " -3.919e-04 -1.373e-07  3.466e-07  1.508e-04  1.010e-03 \n",
      " PARAMETER  CORRELATION COEFFICIENTS  \n",
      "       NO.  GLOBAL      1      2      3      4      5\n",
      "        1  0.86781   1.000  0.000 -0.000 -0.708 -0.708\n",
      "        2  0.58684   0.000  1.000 -0.587  0.001 -0.000\n",
      "        3  0.58684  -0.000 -0.587  1.000 -0.000  0.001\n",
      "        4  0.74785  -0.708  0.001 -0.000  1.000  0.330\n",
      "        5  0.74782  -0.708 -0.000  0.001  0.330  1.000\n",
      " **********\n",
      " **    7 **SET ERR         0.5\n",
      " **********\n",
      " **********\n",
      " **    8 **SET PRINT           1\n",
      " **********\n",
      " **********\n",
      " **    9 **HESSE        2500\n",
      " **********\n",
      " COVARIANCE MATRIX CALCULATED SUCCESSFULLY\n",
      " FCN=29922.6 FROM HESSE     STATUS=OK             31 CALLS         165 TOTAL\n",
      "                     EDM=8.38463e-06    STRATEGY= 1      ERROR MATRIX ACCURATE \n",
      "  EXT PARAMETER                                INTERNAL      INTERNAL  \n",
      "  NO.   NAME      VALUE            ERROR       STEP SIZE       VALUE   \n",
      "   1  cov_xy      -8.90916e-01   1.77396e-02   4.61654e-06  -9.91531e-02\n",
      "   2  mean_x       2.03180e-01   1.01921e-02   6.58576e-05   6.77787e-02\n",
      "   3  mean_y       7.84571e-01   1.51522e-02   1.01208e-04   2.64600e-01\n",
      "   4  sigma2_x     1.02111e+00   1.45575e-02   1.68239e-05  -9.15733e-01\n",
      "   5  sigma2_y     2.25679e+00   3.21743e-02   2.64351e-05  -5.41390e-01\n",
      "                               ERR DEF= 0.5\n",
      " EXTERNAL ERROR MATRIX.    NDIM=  25    NPAR=  5    ERR DEF=0.5\n",
      "  3.147e-04  3.252e-09 -4.399e-09 -1.848e-04 -4.084e-04 \n",
      "  3.252e-09  1.039e-04 -9.063e-05  1.838e-08 -3.060e-08 \n",
      " -4.399e-09 -9.063e-05  2.296e-04 -1.605e-08  7.776e-08 \n",
      " -1.848e-04  1.838e-08 -1.605e-08  2.119e-04  1.610e-04 \n",
      " -4.084e-04 -3.060e-08  7.776e-08  1.610e-04  1.035e-03 \n",
      " PARAMETER  CORRELATION COEFFICIENTS  \n",
      "       NO.  GLOBAL      1      2      3      4      5\n",
      "        1  0.87284   1.000  0.000 -0.000 -0.715 -0.715\n",
      "        2  0.58688   0.000  1.000 -0.587  0.000 -0.000\n",
      "        3  0.58688  -0.000 -0.587  1.000 -0.000  0.000\n",
      "        4  0.75483  -0.715  0.000 -0.000  1.000  0.344\n",
      "        5  0.75483  -0.715 -0.000  0.000  0.344  1.000\n",
      "[#1] INFO:Minization -- RooMinimizer::optimizeConst: deactivating const optimization\n"
     ]
    }
   ],
   "source": [
    "%%time\n",
    "\n",
    "rfr = rmvn.fitTo( data_weighted, ROOT.RooFit.SumW2Error(False), ROOT.RooFit.Save(True))"
   ]
  },
  {
   "cell_type": "code",
   "execution_count": 16,
   "id": "48ae9b58",
   "metadata": {},
   "outputs": [
    {
     "name": "stdout",
     "output_type": "stream",
     "text": [
      "\n",
      " true mean_x = 0.20\n",
      " true mean_y = 0.80\n",
      " true sigma2_x = 1.00\n",
      " true sigma2_y = 2.25\n",
      " true cov_xy = -0.900\n",
      "\n",
      "RooRealVar::mean_x = 0.20318 +/- 0.0101921  L(-3 - 3) \n",
      "RooRealVar::mean_y = 0.784571 +/- 0.0151522  L(-3 - 3) \n",
      "RooRealVar::sigma2_x = 1.02111 +/- 0.0145575  L(0.1 - 9) \n",
      "RooRealVar::sigma2_y = 2.25679 +/- 0.0321743  L(0.1 - 9) \n",
      "RooRealVar::cov_xy = -0.890916 +/- 0.0177396  L(-9 - 9) \n"
     ]
    }
   ],
   "source": [
    "print('')\n",
    "print(' true mean_x = %.2f' % true_mean_x )\n",
    "print(' true mean_y = %.2f' % true_mean_y )\n",
    "print(' true sigma2_x = %.2f' % true_sigma2_x )\n",
    "print(' true sigma2_y = %.2f' % true_sigma2_y )\n",
    "print(' true cov_xy = %.3f' % true_cov_xy )\n",
    "print('')\n",
    "mean_x.Print()\n",
    "mean_y.Print()\n",
    "sigma2_x.Print()\n",
    "sigma2_y.Print()\n",
    "cov_xy.Print()"
   ]
  },
  {
   "cell_type": "code",
   "execution_count": 17,
   "id": "361ce69e",
   "metadata": {},
   "outputs": [
    {
     "name": "stdout",
     "output_type": "stream",
     "text": [
      "CPU times: user 536 ms, sys: 9.27 ms, total: 545 ms\n",
      "Wall time: 540 ms\n",
      "[#1] INFO:Minization -- RooMinimizer::optimizeConst: activating const optimization\n",
      " **********\n",
      " **   10 **SET PRINT           1\n",
      " **********\n",
      " **********\n",
      " **   11 **SET NOGRAD\n",
      " **********\n",
      " PARAMETER DEFINITIONS:\n",
      "    NO.   NAME         VALUE      STEP SIZE      LIMITS\n",
      "     1 cov_xy      -8.90916e-01  1.77396e-02   -9.00000e+00  9.00000e+00\n",
      "     2 mean_x       2.03180e-01  1.01921e-02   -3.00000e+00  3.00000e+00\n",
      "     3 mean_y       7.84571e-01  1.51522e-02   -3.00000e+00  3.00000e+00\n",
      "     4 sigma2_x     1.02111e+00  1.45575e-02    1.00000e-01  9.00000e+00\n",
      "     5 sigma2_y     2.25679e+00  3.21743e-02    1.00000e-01  9.00000e+00\n",
      " **********\n",
      " **   12 **SET ERR         0.5\n",
      " **********\n",
      " **********\n",
      " **   13 **SET PRINT           1\n",
      " **********\n",
      " **********\n",
      " **   14 **SET STR           1\n",
      " **********\n",
      " NOW USING STRATEGY  1: TRY TO BALANCE SPEED AGAINST RELIABILITY\n",
      " **********\n",
      " **   15 **MIGRAD        2500           1\n",
      " **********\n",
      " FIRST CALL TO USER FUNCTION AT NEW START POINT, WITH IFLAG=4.\n",
      " START MIGRAD MINIMIZATION.  STRATEGY  1.  CONVERGENCE WHEN EDM .LT. 1.00e-03\n",
      "[#1] INFO:NumericIntegration -- RooRealIntegral::init(rmvn_Int[x,y]) using numeric integrator RooAdaptiveIntegratorND to calculate Int(x,y)\n",
      " FCN=29922.6 FROM MIGRAD    STATUS=INITIATE       16 CALLS          17 TOTAL\n",
      "                     EDM= unknown      STRATEGY= 1      NO ERROR MATRIX       \n",
      "  EXT PARAMETER               CURRENT GUESS       STEP         FIRST   \n",
      "  NO.   NAME      VALUE            ERROR          SIZE      DERIVATIVE \n",
      "   1  cov_xy      -8.90916e-01   1.77396e-02   1.98080e-03   1.86270e+00\n",
      "   2  mean_x       2.03180e-01   1.01921e-02   3.40520e-03  -6.31886e-02\n",
      "   3  mean_y       7.84571e-01   1.51522e-02   5.23287e-03   2.65495e-01\n",
      "   4  sigma2_x     1.02111e+00   1.45575e-02   5.36997e-03   6.07548e-02\n",
      "   5  sigma2_y     2.25679e+00   3.21743e-02   8.43689e-03   3.15507e-01\n",
      "                               ERR DEF= 0.5\n",
      " MIGRAD MINIMIZATION HAS CONVERGED.\n",
      " MIGRAD WILL VERIFY CONVERGENCE AND ERROR MATRIX.\n",
      " COVARIANCE MATRIX CALCULATED SUCCESSFULLY\n",
      " FCN=29922.6 FROM MIGRAD    STATUS=CONVERGED      65 CALLS          66 TOTAL\n",
      "                     EDM=3.19232e-06    STRATEGY= 1      ERROR MATRIX ACCURATE \n",
      "  EXT PARAMETER                                   STEP         FIRST   \n",
      "  NO.   NAME      VALUE            ERROR          SIZE      DERIVATIVE \n",
      "   1  cov_xy      -8.90926e-01   1.74214e-02   1.15460e-04  -1.49455e-01\n",
      "   2  mean_x       2.03181e-01   1.01918e-02   3.29338e-04  -1.76475e-01\n",
      "   3  mean_y       7.84562e-01   1.51516e-02   5.06117e-04   1.11143e-01\n",
      "   4  sigma2_x     1.02111e+00   1.43823e-02   4.20703e-04  -2.94692e-01\n",
      "   5  sigma2_y     2.25677e+00   3.17868e-02   6.61020e-04  -2.76103e-02\n",
      "                               ERR DEF= 0.5\n",
      " EXTERNAL ERROR MATRIX.    NDIM=  25    NPAR=  5    ERR DEF=0.5\n",
      "  3.035e-04  3.805e-09 -5.223e-09 -1.773e-04 -3.919e-04 \n",
      "  3.805e-09  1.039e-04 -9.062e-05  9.827e-08 -1.367e-07 \n",
      " -5.223e-09 -9.062e-05  2.296e-04 -8.420e-08  3.435e-07 \n",
      " -1.773e-04  9.827e-08 -8.420e-08  2.069e-04  1.509e-04 \n",
      " -3.919e-04 -1.367e-07  3.435e-07  1.509e-04  1.010e-03 \n",
      " PARAMETER  CORRELATION COEFFICIENTS  \n",
      "       NO.  GLOBAL      1      2      3      4      5\n",
      "        1  0.86783   1.000  0.000 -0.000 -0.708 -0.708\n",
      "        2  0.58685   0.000  1.000 -0.587  0.001 -0.000\n",
      "        3  0.58685  -0.000 -0.587  1.000 -0.000  0.001\n",
      "        4  0.74787  -0.708  0.001 -0.000  1.000  0.330\n",
      "        5  0.74784  -0.708 -0.000  0.001  0.330  1.000\n",
      " **********\n",
      " **   16 **SET ERR         0.5\n",
      " **********\n",
      " **********\n",
      " **   17 **SET PRINT           1\n",
      " **********\n",
      " **********\n",
      " **   18 **HESSE        2500\n",
      " **********\n",
      " COVARIANCE MATRIX CALCULATED SUCCESSFULLY\n",
      " FCN=29922.6 FROM HESSE     STATUS=OK             31 CALLS          97 TOTAL\n",
      "                     EDM=3.2409e-06    STRATEGY= 1      ERROR MATRIX ACCURATE \n",
      "  EXT PARAMETER                                INTERNAL      INTERNAL  \n",
      "  NO.   NAME      VALUE            ERROR       STEP SIZE       VALUE   \n",
      "   1  cov_xy      -8.90926e-01   1.77398e-02   4.61841e-06  -9.91542e-02\n",
      "   2  mean_x       2.03181e-01   1.01921e-02   6.58675e-05   6.77790e-02\n",
      "   3  mean_y       7.84562e-01   1.51521e-02   1.01223e-04   2.64597e-01\n",
      "   4  sigma2_x     1.02111e+00   1.45576e-02   1.68281e-05  -9.15734e-01\n",
      "   5  sigma2_y     2.25677e+00   3.21740e-02   2.64408e-05  -5.41396e-01\n",
      "                               ERR DEF= 0.5\n",
      " EXTERNAL ERROR MATRIX.    NDIM=  25    NPAR=  5    ERR DEF=0.5\n",
      "  3.147e-04  2.240e-09 -3.273e-09 -1.848e-04 -4.084e-04 \n",
      "  2.240e-09  1.039e-04 -9.063e-05  1.851e-08 -2.897e-08 \n",
      " -3.273e-09 -9.063e-05  2.296e-04 -1.621e-08  7.351e-08 \n",
      " -1.848e-04  1.851e-08 -1.621e-08  2.119e-04  1.611e-04 \n",
      " -4.084e-04 -2.897e-08  7.351e-08  1.611e-04  1.035e-03 \n",
      " PARAMETER  CORRELATION COEFFICIENTS  \n",
      "       NO.  GLOBAL      1      2      3      4      5\n",
      "        1  0.87286   1.000  0.000 -0.000 -0.715 -0.715\n",
      "        2  0.58689   0.000  1.000 -0.587  0.000 -0.000\n",
      "        3  0.58689  -0.000 -0.587  1.000 -0.000  0.000\n",
      "        4  0.75486  -0.715  0.000 -0.000  1.000  0.344\n",
      "        5  0.75486  -0.715 -0.000  0.000  0.344  1.000\n",
      "[#1] INFO:Fitting -- RooAbsPdf::fitTo(rmvn) Calculating sum-of-weights-squared correction matrix for covariance matrix\n",
      " **********\n",
      " **   19 **SET ERR         0.5\n",
      " **********\n",
      " **********\n",
      " **   20 **SET PRINT           1\n",
      " **********\n",
      " **********\n",
      " **   21 **HESSE        2500\n",
      " **********\n",
      " COVARIANCE MATRIX CALCULATED SUCCESSFULLY\n",
      " FCN=103684 FROM HESSE     STATUS=OK             41 CALLS         138 TOTAL\n",
      "                     EDM=15081.9    STRATEGY= 1      ERROR MATRIX ACCURATE \n",
      "  EXT PARAMETER                                INTERNAL      INTERNAL  \n",
      "  NO.   NAME      VALUE            ERROR       STEP SIZE       VALUE   \n",
      "   1  cov_xy      -8.90926e-01   9.07376e-03   9.42156e-05  -9.91542e-02\n",
      "   2  mean_x       2.03181e-01   7.75188e-03   1.34370e-03   6.77790e-02\n",
      "   3  mean_y       7.84562e-01   1.06324e-02   2.06496e-03   2.64597e-01\n",
      "   4  sigma2_x     1.02111e+00   7.60902e-03   3.43294e-04  -9.15734e-01\n",
      "   5  sigma2_y     2.25677e+00   1.70269e-02   5.39392e-04  -5.41396e-01\n",
      "                               ERR DEF= 0.5\n",
      " EXTERNAL ERROR MATRIX.    NDIM=  25    NPAR=  5    ERR DEF=0.5\n",
      "  8.233e-05  3.429e-05 -5.637e-05 -5.053e-05 -1.064e-04 \n",
      "  3.429e-05  6.009e-05 -5.236e-05 -3.935e-05 -3.008e-05 \n",
      " -5.637e-05 -5.236e-05  1.130e-04  3.432e-05  7.290e-05 \n",
      " -5.053e-05 -3.935e-05  3.432e-05  5.790e-05  4.429e-05 \n",
      " -1.064e-04 -3.008e-05  7.290e-05  4.429e-05  2.899e-04 \n",
      " PARAMETER  CORRELATION COEFFICIENTS  \n",
      "       NO.  GLOBAL      1      2      3      4      5\n",
      "        1  0.89133   1.000  0.487 -0.584 -0.732 -0.689\n",
      "        2  0.79620   0.487  1.000 -0.635 -0.667 -0.228\n",
      "        3  0.75207  -0.584 -0.635  1.000  0.424  0.403\n",
      "        4  0.85210  -0.732 -0.667  0.424  1.000  0.342\n",
      "        5  0.72877  -0.689 -0.228  0.403  0.342  1.000\n",
      "[#1] INFO:Minization -- RooMinimizer::optimizeConst: deactivating const optimization\n"
     ]
    }
   ],
   "source": [
    "%%time\n",
    "\n",
    "rfr = rmvn.fitTo( data_weighted, ROOT.RooFit.SumW2Error(True), ROOT.RooFit.Save(True))"
   ]
  },
  {
   "cell_type": "code",
   "execution_count": 18,
   "id": "89eb5535",
   "metadata": {},
   "outputs": [
    {
     "name": "stdout",
     "output_type": "stream",
     "text": [
      "\n",
      " true mean_x = 0.20\n",
      " true mean_y = 0.80\n",
      " true sigma2_x = 1.00\n",
      " true sigma2_y = 2.25\n",
      " true cov_xy = -0.900\n",
      "\n",
      "RooRealVar::mean_x = 0.203181 +/- 0.0179895  L(-3 - 3) \n",
      "RooRealVar::mean_y = 0.784562 +/- 0.026608  L(-3 - 3) \n",
      "RooRealVar::sigma2_x = 1.02111 +/- 0.0373873  L(0.1 - 9) \n",
      "RooRealVar::sigma2_y = 2.25677 +/- 0.0691599  L(0.1 - 9) \n",
      "RooRealVar::cov_xy = -0.890926 +/- 0.0436666  L(-9 - 9) \n"
     ]
    }
   ],
   "source": [
    "print('')\n",
    "print(' true mean_x = %.2f' % true_mean_x )\n",
    "print(' true mean_y = %.2f' % true_mean_y )\n",
    "print(' true sigma2_x = %.2f' % true_sigma2_x )\n",
    "print(' true sigma2_y = %.2f' % true_sigma2_y )\n",
    "print(' true cov_xy = %.3f' % true_cov_xy )\n",
    "print('')\n",
    "mean_x.Print()\n",
    "mean_y.Print()\n",
    "sigma2_x.Print()\n",
    "sigma2_y.Print()\n",
    "cov_xy.Print()"
   ]
  },
  {
   "cell_type": "code",
   "execution_count": 19,
   "id": "7fa7ad4c",
   "metadata": {},
   "outputs": [
    {
     "name": "stdout",
     "output_type": "stream",
     "text": [
      "CPU times: user 5min 19s, sys: 2 s, total: 5min 21s\n",
      "Wall time: 5min 17s\n",
      "[#1] INFO:Minization -- RooMinimizer::optimizeConst: activating const optimization\n",
      " **********\n",
      " **   22 **SET PRINT           1\n",
      " **********\n",
      " **********\n",
      " **   23 **SET NOGRAD\n",
      " **********\n",
      " PARAMETER DEFINITIONS:\n",
      "    NO.   NAME         VALUE      STEP SIZE      LIMITS\n",
      "     1 cov_xy      -8.90926e-01  4.36666e-02   -9.00000e+00  9.00000e+00\n",
      "     2 mean_x       2.03181e-01  1.79895e-02   -3.00000e+00  3.00000e+00\n",
      "     3 mean_y       7.84562e-01  2.66080e-02   -3.00000e+00  3.00000e+00\n",
      "     4 sigma2_x     1.02111e+00  3.73873e-02    1.00000e-01  9.00000e+00\n",
      "     5 sigma2_y     2.25677e+00  6.91599e-02    1.00000e-01  9.00000e+00\n",
      " **********\n",
      " **   24 **SET ERR         0.5\n",
      " **********\n",
      " **********\n",
      " **   25 **SET PRINT           1\n",
      " **********\n",
      " **********\n",
      " **   26 **SET STR           1\n",
      " **********\n",
      " NOW USING STRATEGY  1: TRY TO BALANCE SPEED AGAINST RELIABILITY\n",
      " **********\n",
      " **   27 **MIGRAD        2500           1\n",
      " **********\n",
      " FIRST CALL TO USER FUNCTION AT NEW START POINT, WITH IFLAG=4.\n",
      " START MIGRAD MINIMIZATION.  STRATEGY  1.  CONVERGENCE WHEN EDM .LT. 1.00e-03\n",
      "[#1] INFO:NumericIntegration -- RooRealIntegral::init(rmvn_Int[x,y]) using numeric integrator RooAdaptiveIntegratorND to calculate Int(x,y)\n",
      " FCN=29922.6 FROM MIGRAD    STATUS=INITIATE       20 CALLS          21 TOTAL\n",
      "                     EDM= unknown      STRATEGY= 1      NO ERROR MATRIX       \n",
      "  EXT PARAMETER               CURRENT GUESS       STEP         FIRST   \n",
      "  NO.   NAME      VALUE            ERROR          SIZE      DERIVATIVE \n",
      "   1  cov_xy      -8.90926e-01   4.36666e-02   4.87582e-03  -2.80435e-01\n",
      "   2  mean_x       2.03181e-01   1.79895e-02   6.01034e-03  -1.77008e-01\n",
      "   3  mean_y       7.84562e-01   2.66080e-02   9.18928e-03   1.09344e-01\n",
      "   4  sigma2_x     1.02111e+00   3.73873e-02   1.37937e-02  -3.25577e-01\n",
      "   5  sigma2_y     2.25677e+00   6.91599e-02   1.81371e-02  -4.77536e-02\n",
      "                               ERR DEF= 0.5\n",
      " MIGRAD MINIMIZATION HAS CONVERGED.\n",
      " MIGRAD WILL VERIFY CONVERGENCE AND ERROR MATRIX.\n",
      " COVARIANCE MATRIX CALCULATED SUCCESSFULLY\n",
      " FCN=29922.6 FROM MIGRAD    STATUS=CONVERGED      69 CALLS          70 TOTAL\n",
      "                     EDM=1.96524e-06    STRATEGY= 1      ERROR MATRIX ACCURATE \n",
      "  EXT PARAMETER                                   STEP         FIRST   \n",
      "  NO.   NAME      VALUE            ERROR          SIZE      DERIVATIVE \n",
      "   1  cov_xy      -8.90925e-01   1.74214e-02   1.15454e-04   7.63680e-01\n",
      "   2  mean_x       2.03184e-01   1.01918e-02   3.29335e-04  -1.22458e-01\n",
      "   3  mean_y       7.84558e-01   1.51516e-02   5.06093e-04   8.23807e-02\n",
      "   4  sigma2_x     1.02111e+00   1.43824e-02   4.20689e-04  -1.46125e-02\n",
      "   5  sigma2_y     2.25677e+00   3.17869e-02   6.60987e-04   7.86306e-02\n",
      "                               ERR DEF= 0.5\n",
      " EXTERNAL ERROR MATRIX.    NDIM=  25    NPAR=  5    ERR DEF=0.5\n",
      "  3.035e-04  3.174e-09 -4.268e-09 -1.773e-04 -3.919e-04 \n",
      "  3.174e-09  1.039e-04 -9.062e-05  9.883e-08 -1.360e-07 \n",
      " -4.268e-09 -9.062e-05  2.296e-04 -8.468e-08  3.417e-07 \n",
      " -1.773e-04  9.883e-08 -8.468e-08  2.069e-04  1.509e-04 \n",
      " -3.919e-04 -1.360e-07  3.417e-07  1.509e-04  1.010e-03 \n",
      " PARAMETER  CORRELATION COEFFICIENTS  \n",
      "       NO.  GLOBAL      1      2      3      4      5\n",
      "        1  0.86782   1.000  0.000 -0.000 -0.708 -0.708\n",
      "        2  0.58685   0.000  1.000 -0.587  0.001 -0.000\n",
      "        3  0.58685  -0.000 -0.587  1.000 -0.000  0.001\n",
      "        4  0.74786  -0.708  0.001 -0.000  1.000  0.330\n",
      "        5  0.74783  -0.708 -0.000  0.001  0.330  1.000\n",
      " **********\n",
      " **   28 **SET ERR         0.5\n",
      " **********\n",
      " **********\n",
      " **   29 **SET PRINT           1\n",
      " **********\n",
      " **********\n",
      " **   30 **HESSE        2500\n",
      " **********\n",
      " COVARIANCE MATRIX CALCULATED SUCCESSFULLY\n",
      " FCN=29922.6 FROM HESSE     STATUS=OK             31 CALLS         101 TOTAL\n",
      "                     EDM=2.00403e-06    STRATEGY= 1      ERROR MATRIX ACCURATE \n",
      "  EXT PARAMETER                                INTERNAL      INTERNAL  \n",
      "  NO.   NAME      VALUE            ERROR       STEP SIZE       VALUE   \n",
      "   1  cov_xy      -8.90925e-01   1.77399e-02   4.61815e-06  -9.91540e-02\n",
      "   2  mean_x       2.03184e-01   1.01922e-02   6.58669e-05   6.77799e-02\n",
      "   3  mean_y       7.84558e-01   1.51521e-02   1.01219e-04   2.64596e-01\n",
      "   4  sigma2_x     1.02111e+00   1.45578e-02   1.68275e-05  -9.15731e-01\n",
      "   5  sigma2_y     2.25677e+00   3.21740e-02   2.64395e-05  -5.41395e-01\n",
      "                               ERR DEF= 0.5\n",
      " EXTERNAL ERROR MATRIX.    NDIM=  25    NPAR=  5    ERR DEF=0.5\n",
      "  3.147e-04  1.591e-09 -2.461e-09 -1.848e-04 -4.084e-04 \n",
      "  1.591e-09  1.039e-04 -9.063e-05  1.911e-08 -2.833e-08 \n",
      " -2.461e-09 -9.063e-05  2.296e-04 -1.663e-08  7.197e-08 \n",
      " -1.848e-04  1.911e-08 -1.663e-08  2.119e-04  1.611e-04 \n",
      " -4.084e-04 -2.833e-08  7.197e-08  1.611e-04  1.035e-03 \n",
      " PARAMETER  CORRELATION COEFFICIENTS  \n",
      "       NO.  GLOBAL      1      2      3      4      5\n",
      "        1  0.87285   1.000  0.000 -0.000 -0.715 -0.715\n",
      "        2  0.58689   0.000  1.000 -0.587  0.000 -0.000\n",
      "        3  0.58689  -0.000 -0.587  1.000 -0.000  0.000\n",
      "        4  0.75485  -0.715  0.000 -0.000  1.000  0.344\n",
      "        5  0.75485  -0.715 -0.000  0.000  0.344  1.000\n",
      "[#1] INFO:Fitting -- RooAbsPdf::fitTo(rmvn) Calculating covariance matrix according to the asymptotically correct approach. If you find this method useful please consider citing https://arxiv.org/abs/1911.01303.\n",
      "[#1] INFO:NumericIntegration -- RooRealIntegral::init(rmvn_Int[x,y]) using numeric integrator RooAdaptiveIntegratorND to calculate Int(x,y)\n",
      "[#1] INFO:Minization -- RooMinimizer::optimizeConst: deactivating const optimization\n"
     ]
    }
   ],
   "source": [
    "%%time\n",
    "\n",
    "rfr = rmvn.fitTo( data_weighted, ROOT.RooFit.AsymptoticError(True), ROOT.RooFit.Save(True))"
   ]
  },
  {
   "cell_type": "code",
   "execution_count": 20,
   "id": "ad7d8d67",
   "metadata": {},
   "outputs": [
    {
     "name": "stdout",
     "output_type": "stream",
     "text": [
      "\n",
      " true mean_x = 0.20\n",
      " true mean_y = 0.80\n",
      " true sigma2_x = 1.00\n",
      " true sigma2_y = 2.25\n",
      " true cov_xy = -0.900\n",
      "\n",
      "RooRealVar::mean_x = 0.203184 +/- 0.023663  L(-3 - 3) \n",
      "RooRealVar::mean_y = 0.784558 +/- 0.0299614  L(-3 - 3) \n",
      "RooRealVar::sigma2_x = 1.02111 +/- 0.0428682  L(0.1 - 9) \n",
      "RooRealVar::sigma2_y = 2.25677 +/- 0.0719032  L(0.1 - 9) \n",
      "RooRealVar::cov_xy = -0.890925 +/- 0.047979  L(-9 - 9) \n"
     ]
    }
   ],
   "source": [
    "print('')\n",
    "print(' true mean_x = %.2f' % true_mean_x )\n",
    "print(' true mean_y = %.2f' % true_mean_y )\n",
    "print(' true sigma2_x = %.2f' % true_sigma2_x )\n",
    "print(' true sigma2_y = %.2f' % true_sigma2_y )\n",
    "print(' true cov_xy = %.3f' % true_cov_xy )\n",
    "print('')\n",
    "mean_x.Print()\n",
    "mean_y.Print()\n",
    "sigma2_x.Print()\n",
    "sigma2_y.Print()\n",
    "cov_xy.Print()"
   ]
  },
  {
   "cell_type": "code",
   "execution_count": 21,
   "id": "e56bd743",
   "metadata": {},
   "outputs": [
    {
     "name": "stdout",
     "output_type": "stream",
     "text": [
      "[#1] INFO:InputArguments -- RooAbsData::plotOn(data_weighted) INFO: dataset has non-integer weights, auto-selecting SumW2 errors instead of Poisson errors\n",
      "[#1] INFO:Plotting -- RooAbsReal::plotOn(rmvn) plot on x integrates over variables (y)\n",
      "[#1] INFO:NumericIntegration -- RooRealIntegral::init(rmvn_Int[y]_Norm[x,y]) using numeric integrator RooIntegrator1D to calculate Int(y)\n",
      "[#1] INFO:InputArguments -- RooAbsData::plotOn(data_weighted) INFO: dataset has non-integer weights, auto-selecting SumW2 errors instead of Poisson errors\n",
      "[#1] INFO:Plotting -- RooAbsReal::plotOn(rmvn) plot on y integrates over variables (x)\n",
      "[#1] INFO:NumericIntegration -- RooRealIntegral::init(rmvn_Int[x]_Norm[x,y]) using numeric integrator RooIntegrator1D to calculate Int(x)\n"
     ]
    },
    {
     "data": {
      "image/png": "[encoded data removed]",
      "text/plain": [
       "<IPython.core.display.Image object>"
      ]
     },
     "metadata": {},
     "output_type": "display_data"
    }
   ],
   "source": [
    "can = ROOT.TCanvas(\"can\",\"can\", 1200, 500)\n",
    "can.Divide(2,1)\n",
    "\n",
    "can.cd(1)\n",
    "xframe = x.frame(ROOT.RooFit.Title(\"data\"))\n",
    "data_weighted.plotOn(xframe)\n",
    "rmvn.plotOn(xframe)\n",
    "xframe.Draw()\n",
    "can.Draw()\n",
    "\n",
    "can.cd(2)\n",
    "yframe = y.frame(ROOT.RooFit.Title(\"data\"))\n",
    "data_weighted.plotOn(yframe)\n",
    "rmvn.plotOn(yframe)\n",
    "yframe.Draw()\n",
    "can.Draw()\n"
   ]
  },
  {
   "cell_type": "code",
   "execution_count": null,
   "id": "b33d4cb8",
   "metadata": {},
   "outputs": [],
   "source": []
  }
 ],
 "metadata": {
  "kernelspec": {
   "display_name": "Python 3 (ipykernel)",
   "language": "python",
   "name": "python3"
  },
  "language_info": {
   "codemirror_mode": {
    "name": "ipython",
    "version": 3
   },
   "file_extension": ".py",
   "mimetype": "text/x-python",
   "name": "python",
   "nbconvert_exporter": "python",
   "pygments_lexer": "ipython3",
   "version": "3.10.12"
  }
 },
 "nbformat": 4,
 "nbformat_minor": 5
}
