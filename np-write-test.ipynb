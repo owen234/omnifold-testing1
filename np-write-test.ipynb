{
 "cells": [
  {
   "cell_type": "code",
   "execution_count": 2,
   "id": "edc9d619",
   "metadata": {},
   "outputs": [],
   "source": [
    "import numpy as np"
   ]
  },
  {
   "cell_type": "code",
   "execution_count": 3,
   "id": "965c79d3",
   "metadata": {},
   "outputs": [],
   "source": [
    "\n",
    "\n",
    "train_mu = [ 1.,  0.,  -0.5,   0.5 ]\n",
    "\n",
    "train_rho = [ \n",
    "              [0.3, -0.2, 0.1   ],  #0\n",
    "              [-0.5, 0.1],  #1\n",
    "              [0.7],  #2\n",
    "            ]\n",
    "\n",
    "train_sig = [ 1., 0.7, 1.1, 0.8 ]\n",
    "\n",
    "\n",
    "\n",
    "\n",
    "\n",
    "\n",
    "\n",
    "true_mu = [ 0.8,  0.1,  -0.6, 0.7 ]\n",
    "\n",
    "true_rho  = [ \n",
    "              [0.4, -0.3, 0.0   ],  #0\n",
    "              [-0.4, 0.2],  #1\n",
    "              [0.5],  #2\n",
    "            ]\n",
    "\n",
    "true_sig = [ 0.8, 0.6, 1.0,    0.6 ]\n",
    "\n",
    "\n",
    "\n",
    "\n",
    "\n",
    "\n",
    "resolution = [ 0.4, 0.5, 0.6,   0.3  ]\n",
    "\n"
   ]
  },
  {
   "cell_type": "code",
   "execution_count": 7,
   "id": "6495684c",
   "metadata": {},
   "outputs": [],
   "source": [
    "with open( 'write-test1.npy', 'wb' ) as f :\n",
    "    np.save( f, train_mu )\n",
    "    np.save( f, train_rho )\n",
    "    np.save( f, train_sig )\n",
    "    np.save( f, true_mu )\n",
    "    np.save( f, true_rho )\n",
    "    np.save( f, true_sig )\n",
    "    np.save( f, resolution )\n",
    "    "
   ]
  },
  {
   "cell_type": "code",
   "execution_count": null,
   "id": "dec76457",
   "metadata": {},
   "outputs": [],
   "source": []
  }
 ],
 "metadata": {
  "kernelspec": {
   "display_name": "Python 3 (ipykernel)",
   "language": "python",
   "name": "python3"
  },
  "language_info": {
   "codemirror_mode": {
    "name": "ipython",
    "version": 3
   },
   "file_extension": ".py",
   "mimetype": "text/x-python",
   "name": "python",
   "nbconvert_exporter": "python",
   "pygments_lexer": "ipython3",
   "version": "3.10.12"
  }
 },
 "nbformat": 4,
 "nbformat_minor": 5
}
