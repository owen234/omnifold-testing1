{
 "cells": [
  {
   "cell_type": "code",
   "execution_count": 1,
   "id": "c4827ba1",
   "metadata": {},
   "outputs": [],
   "source": [
    "import matplotlib.pyplot as plt\n",
    "import numpy as np"
   ]
  },
  {
   "cell_type": "code",
   "execution_count": 2,
   "id": "c2b45d22",
   "metadata": {},
   "outputs": [],
   "source": [
    "\n",
    "sample_name = 'test1q'\n",
    "\n",
    "input_filebase = 'bootstrap-output-%s' % sample_name\n",
    "\n",
    "#input_filebase = 'toygen-output-%s' % sample_name\n",
    "\n",
    "ncalc = 1000\n",
    "npoints = 1000"
   ]
  },
  {
   "cell_type": "code",
   "execution_count": 3,
   "id": "d9cb4843",
   "metadata": {},
   "outputs": [],
   "source": [
    "with open('%s.npy' % input_filebase,'rb') as f :\n",
    "    train_pts = np.load(f)\n",
    "    train_det_pts = np.load(f)\n",
    "    true_pts = np.load(f)\n",
    "    true_det_pts = np.load(f)\n",
    "    bootstrap_weights = np.load(f)"
   ]
  },
  {
   "cell_type": "code",
   "execution_count": 4,
   "id": "8577ae8d",
   "metadata": {},
   "outputs": [
    {
     "data": {
      "text/plain": [
       "(100000, 2)"
      ]
     },
     "execution_count": 4,
     "metadata": {},
     "output_type": "execute_result"
    }
   ],
   "source": [
    "train_pts.shape"
   ]
  },
  {
   "cell_type": "markdown",
   "id": "41c69d97",
   "metadata": {},
   "source": [
    "## Check the particle and detector distributions"
   ]
  },
  {
   "cell_type": "code",
   "execution_count": 5,
   "id": "d89cdc77",
   "metadata": {},
   "outputs": [
    {
     "data": {
      "text/plain": [
       "<function matplotlib.pyplot.show(close=None, block=None)>"
      ]
     },
     "execution_count": 5,
     "metadata": {},
     "output_type": "execute_result"
    },
    {
     "data": {
      "image/png": "[encoded data removed]",
      "text/plain": [
       "<Figure size 792x360 with 2 Axes>"
      ]
     },
     "metadata": {
      "needs_background": "light"
     },
     "output_type": "display_data"
    }
   ],
   "source": [
    "fig,ax = plt.subplots( 1, 2, figsize=(11,5))\n",
    "\n",
    "hbins=40\n",
    "x0min=-5\n",
    "x0max=5\n",
    "x1min=-6\n",
    "x1max=6\n",
    "\n",
    "ax[0].hist( train_pts[:,0], bins=hbins, range=[x0min,x0max] )\n",
    "ax[0].hist( train_det_pts[:,0], bins=hbins, range=[x0min,x0max], alpha=0.5 )\n",
    "\n",
    "ax[1].hist( train_pts[:,1], bins=hbins, range=[x1min,x1max] )\n",
    "ax[1].hist( train_det_pts[:,1], bins=hbins, range=[x1min,x1max], alpha=0.5 )\n",
    "\n",
    "plt.show"
   ]
  },
  {
   "cell_type": "code",
   "execution_count": null,
   "id": "c72b896a",
   "metadata": {},
   "outputs": [],
   "source": []
  },
  {
   "cell_type": "code",
   "execution_count": 6,
   "id": "68502d11",
   "metadata": {},
   "outputs": [
    {
     "data": {
      "text/plain": [
       "array([[ 1.01526748,  1.17128025],\n",
       "       [-2.85927191,  1.85756474],\n",
       "       [-0.21974432,  0.33502947],\n",
       "       ...,\n",
       "       [ 0.02278741,  0.94862594],\n",
       "       [ 2.04799432,  2.68492884],\n",
       "       [ 0.92243278,  1.06224067]])"
      ]
     },
     "execution_count": 6,
     "metadata": {},
     "output_type": "execute_result"
    }
   ],
   "source": [
    "train_det_pts"
   ]
  },
  {
   "cell_type": "code",
   "execution_count": 7,
   "id": "99ac9ceb",
   "metadata": {},
   "outputs": [
    {
     "data": {
      "text/plain": [
       "array([[-0.33854906,  0.97505979],\n",
       "       [ 0.00823275,  3.40365172],\n",
       "       [ 0.54558851,  3.07761729],\n",
       "       ...,\n",
       "       [ 2.16396004, -3.32099241],\n",
       "       [-0.28297049,  2.3937366 ],\n",
       "       [-0.06159399,  0.88009894]])"
      ]
     },
     "execution_count": 7,
     "metadata": {},
     "output_type": "execute_result"
    }
   ],
   "source": [
    "true_det_pts"
   ]
  },
  {
   "cell_type": "code",
   "execution_count": 8,
   "id": "ac1c4b33",
   "metadata": {},
   "outputs": [
    {
     "data": {
      "text/plain": [
       "(1000, 2)"
      ]
     },
     "execution_count": 8,
     "metadata": {},
     "output_type": "execute_result"
    }
   ],
   "source": [
    "true_det_pts.shape"
   ]
  },
  {
   "cell_type": "code",
   "execution_count": 9,
   "id": "62e70a3e",
   "metadata": {},
   "outputs": [
    {
     "data": {
      "text/plain": [
       "array([[0.01586571, 0.00702024, 0.01332512, ..., 0.00604053, 0.00658777,\n",
       "        0.01276954],\n",
       "       [0.01835   , 0.00565197, 0.01382688, ..., 0.00611988, 0.01102332,\n",
       "        0.01788197],\n",
       "       [0.01156018, 0.00409588, 0.01183704, ..., 0.00592581, 0.00473687,\n",
       "        0.01012579],\n",
       "       ...,\n",
       "       [0.01317356, 0.00417217, 0.01270001, ..., 0.00510016, 0.00127831,\n",
       "        0.01357153],\n",
       "       [0.01217829, 0.00954852, 0.01278063, ..., 0.0095922 , 0.00165397,\n",
       "        0.01217937],\n",
       "       [0.01155929, 0.00593151, 0.01202866, ..., 0.00679699, 0.00047194,\n",
       "        0.01100221]])"
      ]
     },
     "execution_count": 9,
     "metadata": {},
     "output_type": "execute_result"
    }
   ],
   "source": [
    "bootstrap_weights"
   ]
  },
  {
   "cell_type": "code",
   "execution_count": 10,
   "id": "bbc3456d",
   "metadata": {},
   "outputs": [
    {
     "data": {
      "text/plain": [
       "(250, 100000)"
      ]
     },
     "execution_count": 10,
     "metadata": {},
     "output_type": "execute_result"
    }
   ],
   "source": [
    "bootstrap_weights.shape"
   ]
  },
  {
   "cell_type": "code",
   "execution_count": 11,
   "id": "6ed9a8ef",
   "metadata": {},
   "outputs": [
    {
     "name": "stdout",
     "output_type": "stream",
     "text": [
      " ncalc = 1000\n"
     ]
    }
   ],
   "source": [
    "#ncalc = len(bootstrap_weights[0])\n",
    "\n",
    "corr_array = np.zeros( ncalc )\n",
    "print(\" ncalc = %d\" % ncalc)\n",
    "\n",
    "point_index = 57\n",
    "\n",
    "for i in range(ncalc) :\n",
    "    pair_cor = np.corrcoef( np.row_stack( (bootstrap_weights[:,point_index], bootstrap_weights[:,i]) ))\n",
    "    corr_array[i] = pair_cor[0,1]\n"
   ]
  },
  {
   "cell_type": "code",
   "execution_count": 12,
   "id": "d2ef1b44",
   "metadata": {},
   "outputs": [
    {
     "data": {
      "text/plain": [
       "<function matplotlib.pyplot.show(close=None, block=None)>"
      ]
     },
     "execution_count": 12,
     "metadata": {},
     "output_type": "execute_result"
    },
    {
     "data": {
      "image/png": "[encoded data removed]",
      "text/plain": [
       "<Figure size 432x288 with 1 Axes>"
      ]
     },
     "metadata": {
      "needs_background": "light"
     },
     "output_type": "display_data"
    }
   ],
   "source": [
    "plt.hist( corr_array, bins=40)\n",
    "plt.show"
   ]
  },
  {
   "cell_type": "code",
   "execution_count": 13,
   "id": "bc1ef1aa",
   "metadata": {},
   "outputs": [
    {
     "data": {
      "text/plain": [
       "array([-1.12005439,  0.9155488 ])"
      ]
     },
     "execution_count": 13,
     "metadata": {},
     "output_type": "execute_result"
    }
   ],
   "source": [
    "train_pts[point_index]"
   ]
  },
  {
   "cell_type": "code",
   "execution_count": 14,
   "id": "53d51898",
   "metadata": {},
   "outputs": [],
   "source": [
    "df0 = train_pts[:,0] - train_pts[point_index,0]\n",
    "df1 = train_pts[:,1] - train_pts[point_index,1]\n",
    "dr = np.sqrt( df0*df0 + df1*df1)"
   ]
  },
  {
   "cell_type": "code",
   "execution_count": 15,
   "id": "6192a2cc",
   "metadata": {},
   "outputs": [
    {
     "data": {
      "text/plain": [
       "(1000,)"
      ]
     },
     "execution_count": 15,
     "metadata": {},
     "output_type": "execute_result"
    }
   ],
   "source": [
    "corr_array.shape"
   ]
  },
  {
   "cell_type": "code",
   "execution_count": 16,
   "id": "60827b32",
   "metadata": {},
   "outputs": [
    {
     "data": {
      "text/plain": [
       "(100000,)"
      ]
     },
     "execution_count": 16,
     "metadata": {},
     "output_type": "execute_result"
    }
   ],
   "source": [
    "df0.shape"
   ]
  },
  {
   "cell_type": "code",
   "execution_count": 17,
   "id": "b4db9e68",
   "metadata": {},
   "outputs": [
    {
     "data": {
      "text/plain": [
       "(1000,)"
      ]
     },
     "execution_count": 17,
     "metadata": {},
     "output_type": "execute_result"
    }
   ],
   "source": [
    "df0[:ncalc].shape"
   ]
  },
  {
   "cell_type": "code",
   "execution_count": null,
   "id": "44353a7c",
   "metadata": {},
   "outputs": [],
   "source": []
  },
  {
   "cell_type": "code",
   "execution_count": 18,
   "id": "d585fa8c",
   "metadata": {},
   "outputs": [
    {
     "data": {
      "text/plain": [
       "<function matplotlib.pyplot.show(close=None, block=None)>"
      ]
     },
     "execution_count": 18,
     "metadata": {},
     "output_type": "execute_result"
    },
    {
     "data": {
      "image/png": "[encoded data removed]",
      "text/plain": [
       "<Figure size 1296x360 with 3 Axes>"
      ]
     },
     "metadata": {
      "needs_background": "light"
     },
     "output_type": "display_data"
    }
   ],
   "source": [
    "fig,ax = plt.subplots( 1, 3, figsize=(18,5))\n",
    "ax[0].hist2d( df0[:ncalc], corr_array, bins=[80,80], range=([-4,4],[-1,1]))\n",
    "ax[1].hist2d( df1[:ncalc], corr_array, bins=[80,80], range=([-4,4],[-1,1]))\n",
    "ax[2].hist2d( dr[:ncalc], corr_array, bins=[80,80], range=([0,5],[-1,1]))\n",
    "plt.show"
   ]
  },
  {
   "cell_type": "code",
   "execution_count": null,
   "id": "3952ace0",
   "metadata": {},
   "outputs": [],
   "source": []
  },
  {
   "cell_type": "code",
   "execution_count": null,
   "id": "ee3776c7",
   "metadata": {},
   "outputs": [],
   "source": []
  },
  {
   "cell_type": "code",
   "execution_count": 19,
   "id": "56ad5952",
   "metadata": {
    "scrolled": true
   },
   "outputs": [
    {
     "name": "stdout",
     "output_type": "stream",
     "text": [
      " Working on point   0\n",
      " Working on point 100\n",
      " Working on point 200\n",
      " Working on point 300\n",
      " Working on point 400\n",
      " Working on point 500\n",
      " Working on point 600\n",
      " Working on point 700\n",
      " Working on point 800\n",
      " Working on point 900\n",
      "CPU times: user 55.3 s, sys: 3.34 s, total: 58.6 s\n",
      "Wall time: 58.6 s\n"
     ]
    }
   ],
   "source": [
    "%%time\n",
    "\n",
    "\n",
    "\n",
    "for point_index in range(npoints) :\n",
    "    \n",
    "    if (point_index % (npoints/10) == 0 ) :\n",
    "        print(\" Working on point %3d\" % point_index)\n",
    "        \n",
    "    this_point_corr_array = np.zeros(ncalc)\n",
    "    \n",
    "    for i in range(ncalc) :\n",
    "        #if i == point_index : continue\n",
    "        pair_cor = np.corrcoef( np.row_stack( (bootstrap_weights[:,point_index], bootstrap_weights[:,i]) ))\n",
    "        this_point_corr_array[i] = pair_cor[0,1]\n",
    "    \n",
    "    if point_index == 0 :\n",
    "        all_points_df0 = train_pts[:ncalc,0] - train_pts[point_index,0]\n",
    "        all_points_df1 = train_pts[:ncalc,1] - train_pts[point_index,1]\n",
    "        all_points_dr = np.sqrt( all_points_df0*all_points_df0 + all_points_df1*all_points_df1)\n",
    "        all_points_corr_array = this_point_corr_array\n",
    "        all_points_f0b = train_pts[:ncalc,0]\n",
    "        all_points_f1b = train_pts[:ncalc,1]\n",
    "    else :\n",
    "        this_point_df0 = train_pts[:ncalc,0] - train_pts[point_index,0]\n",
    "        this_point_df1 = train_pts[:ncalc,1] - train_pts[point_index,1]  \n",
    "        this_point_dr = np.sqrt( this_point_df0*this_point_df0 + this_point_df1*this_point_df1 )\n",
    "        all_points_df0 = np.append( all_points_df0, this_point_df0 )\n",
    "        all_points_df1 = np.append( all_points_df1, this_point_df1 )\n",
    "        all_points_dr = np.append( all_points_dr, this_point_dr )\n",
    "        all_points_corr_array = np.append(all_points_corr_array, this_point_corr_array)\n",
    "        all_points_f0b = np.append(all_points_f0b, train_pts[:ncalc,0] )\n",
    "        all_points_f1b = np.append(all_points_f1b, train_pts[:ncalc,1] )\n"
   ]
  },
  {
   "cell_type": "code",
   "execution_count": 20,
   "id": "29820da0",
   "metadata": {},
   "outputs": [
    {
     "data": {
      "text/plain": [
       "(1000000,)"
      ]
     },
     "execution_count": 20,
     "metadata": {},
     "output_type": "execute_result"
    }
   ],
   "source": [
    "all_points_corr_array.shape"
   ]
  },
  {
   "cell_type": "code",
   "execution_count": 21,
   "id": "d2785a9d",
   "metadata": {},
   "outputs": [
    {
     "data": {
      "text/plain": [
       "(1000000,)"
      ]
     },
     "execution_count": 21,
     "metadata": {},
     "output_type": "execute_result"
    }
   ],
   "source": [
    "all_points_df0.shape"
   ]
  },
  {
   "cell_type": "code",
   "execution_count": null,
   "id": "5c2ac87b",
   "metadata": {},
   "outputs": [],
   "source": []
  },
  {
   "cell_type": "code",
   "execution_count": 22,
   "id": "60ec7e63",
   "metadata": {},
   "outputs": [
    {
     "data": {
      "text/plain": [
       "<function matplotlib.pyplot.show(close=None, block=None)>"
      ]
     },
     "execution_count": 22,
     "metadata": {},
     "output_type": "execute_result"
    },
    {
     "data": {
      "image/png": "[encoded data removed]",
      "text/plain": [
       "<Figure size 1296x360 with 3 Axes>"
      ]
     },
     "metadata": {
      "needs_background": "light"
     },
     "output_type": "display_data"
    }
   ],
   "source": [
    "fig,ax = plt.subplots( 1, 3, figsize=(18,5))\n",
    "ax[0].hist2d( all_points_df0, all_points_corr_array, bins=[80,80], range=([-4,4],[-1,1]))\n",
    "ax[1].hist2d( all_points_df1, all_points_corr_array, bins=[80,80], range=([-4,4],[-1,1]))\n",
    "ax[2].hist2d( all_points_dr, all_points_corr_array, bins=[80,80], range=([0,5],[-1,1]))\n",
    "\n",
    "plt.savefig('plots/correlation-vs-distance-%s.png' % sample_name, bbox_inches='tight')\n",
    "plt.savefig('plots/correlation-vs-distance-%s.pdf' % sample_name, bbox_inches='tight')\n",
    "\n",
    "plt.show"
   ]
  },
  {
   "cell_type": "code",
   "execution_count": null,
   "id": "f1bc181e",
   "metadata": {},
   "outputs": [],
   "source": []
  },
  {
   "cell_type": "code",
   "execution_count": 23,
   "id": "38f4d955",
   "metadata": {},
   "outputs": [
    {
     "data": {
      "text/plain": [
       "<function matplotlib.pyplot.show(close=None, block=None)>"
      ]
     },
     "execution_count": 23,
     "metadata": {},
     "output_type": "execute_result"
    },
    {
     "data": {
      "image/png": "[encoded data removed]",
      "text/plain": [
       "<Figure size 432x288 with 1 Axes>"
      ]
     },
     "metadata": {
      "needs_background": "light"
     },
     "output_type": "display_data"
    }
   ],
   "source": [
    "plt.hist2d( all_points_f0b, all_points_f1b, bins=[80,80] )\n",
    "plt.show"
   ]
  },
  {
   "cell_type": "code",
   "execution_count": 24,
   "id": "a803d4f0",
   "metadata": {},
   "outputs": [
    {
     "data": {
      "text/plain": [
       "<function matplotlib.pyplot.show(close=None, block=None)>"
      ]
     },
     "execution_count": 24,
     "metadata": {},
     "output_type": "execute_result"
    },
    {
     "data": {
      "image/png": "[encoded data removed]",
      "text/plain": [
       "<Figure size 432x288 with 1 Axes>"
      ]
     },
     "metadata": {
      "needs_background": "light"
     },
     "output_type": "display_data"
    }
   ],
   "source": [
    "plt.hist2d( all_points_f0b[all_points_corr_array>0.8], all_points_f1b[all_points_corr_array>0.8], bins=[80,80] )\n",
    "plt.show"
   ]
  },
  {
   "cell_type": "markdown",
   "id": "2810d336",
   "metadata": {},
   "source": [
    "## Save the output"
   ]
  },
  {
   "cell_type": "code",
   "execution_count": 25,
   "id": "3754d629",
   "metadata": {},
   "outputs": [],
   "source": [
    "output_filebase = 'correlations/correlations-%s' % sample_name"
   ]
  },
  {
   "cell_type": "code",
   "execution_count": 26,
   "id": "e4be7434",
   "metadata": {},
   "outputs": [],
   "source": [
    "with open( '%s.npy' % output_filebase, 'wb') as f :\n",
    "    np.save(f, all_points_df0)\n",
    "    np.save(f, all_points_df1)\n",
    "    np.save(f, all_points_dr)\n",
    "    np.save(f, all_points_corr_array)\n",
    "    "
   ]
  },
  {
   "cell_type": "code",
   "execution_count": 27,
   "id": "6ffe6e49",
   "metadata": {},
   "outputs": [],
   "source": [
    "with open( '%s-feature-coords.npy' % output_filebase, 'wb') as f :\n",
    "    np.save(f, all_points_f0b)\n",
    "    np.save(f, all_points_f1b)"
   ]
  },
  {
   "cell_type": "code",
   "execution_count": null,
   "id": "d0b81bdc",
   "metadata": {},
   "outputs": [],
   "source": []
  },
  {
   "cell_type": "markdown",
   "id": "e7932616",
   "metadata": {},
   "source": [
    "## Check the particle and detector distributions"
   ]
  },
  {
   "cell_type": "code",
   "execution_count": 28,
   "id": "954fc727",
   "metadata": {},
   "outputs": [
    {
     "data": {
      "text/plain": [
       "<function matplotlib.pyplot.show(close=None, block=None)>"
      ]
     },
     "execution_count": 28,
     "metadata": {},
     "output_type": "execute_result"
    },
    {
     "data": {
      "image/png": "[encoded data removed]",
      "text/plain": [
       "<Figure size 792x360 with 2 Axes>"
      ]
     },
     "metadata": {
      "needs_background": "light"
     },
     "output_type": "display_data"
    }
   ],
   "source": [
    "fig,ax = plt.subplots( 1, 2, figsize=(11,5))\n",
    "\n",
    "hbins=40\n",
    "x0min=-5\n",
    "x0max=5\n",
    "x1min=-6\n",
    "x1max=6\n",
    "\n",
    "ax[0].hist( train_pts[:,0], bins=hbins, range=[x0min,x0max] )\n",
    "ax[0].hist( train_det_pts[:,0], bins=hbins, range=[x0min,x0max], alpha=0.5 )\n",
    "\n",
    "ax[1].hist( train_pts[:,1], bins=hbins, range=[x1min,x1max] )\n",
    "ax[1].hist( train_det_pts[:,1], bins=hbins, range=[x1min,x1max], alpha=0.5 )\n",
    "\n",
    "plt.show"
   ]
  },
  {
   "cell_type": "code",
   "execution_count": null,
   "id": "3126b147",
   "metadata": {},
   "outputs": [],
   "source": []
  },
  {
   "cell_type": "code",
   "execution_count": null,
   "id": "43312fd5",
   "metadata": {},
   "outputs": [],
   "source": []
  },
  {
   "cell_type": "code",
   "execution_count": null,
   "id": "edd29869",
   "metadata": {},
   "outputs": [],
   "source": []
  },
  {
   "cell_type": "code",
   "execution_count": 29,
   "id": "90a5e445",
   "metadata": {},
   "outputs": [
    {
     "ename": "NameError",
     "evalue": "name 'asdfdsa' is not defined",
     "output_type": "error",
     "traceback": [
      "\u001b[0;31m---------------------------------------------------------------------------\u001b[0m",
      "\u001b[0;31mNameError\u001b[0m                                 Traceback (most recent call last)",
      "\u001b[0;32m/tmp/ipykernel_4051481/2092143657.py\u001b[0m in \u001b[0;36m<module>\u001b[0;34m\u001b[0m\n\u001b[0;32m----> 1\u001b[0;31m \u001b[0masdfdsa\u001b[0m\u001b[0;34m\u001b[0m\u001b[0;34m\u001b[0m\u001b[0m\n\u001b[0m",
      "\u001b[0;31mNameError\u001b[0m: name 'asdfdsa' is not defined"
     ]
    }
   ],
   "source": [
    "asdfdsa"
   ]
  },
  {
   "cell_type": "markdown",
   "id": "8e2f13b1",
   "metadata": {},
   "source": [
    "## Rerun OmniFold for these samples"
   ]
  },
  {
   "cell_type": "code",
   "execution_count": null,
   "id": "a212f101",
   "metadata": {},
   "outputs": [],
   "source": [
    "import time\n",
    "\n",
    "import os\n",
    "\n",
    "os.environ['CUDA_VISIBLE_DEVICES']=\"1\"\n",
    "\n",
    "from keras.layers import Dense, Input\n",
    "from keras.models import Model\n",
    "\n",
    "import omnifold as of\n",
    "import os\n",
    "import tensorflow as tf\n"
   ]
  },
  {
   "cell_type": "code",
   "execution_count": null,
   "id": "f478cdcd",
   "metadata": {},
   "outputs": [],
   "source": [
    "inputs = Input((2, ))\n",
    "hidden_layer_1 = Dense(50, activation='relu')(inputs)\n",
    "hidden_layer_2 = Dense(50, activation='relu')(hidden_layer_1)\n",
    "hidden_layer_3 = Dense(50, activation='relu')(hidden_layer_2)\n",
    "outputs = Dense(1, activation='sigmoid')(hidden_layer_3)\n",
    "model = Model(inputs=inputs, outputs=outputs)"
   ]
  },
  {
   "cell_type": "code",
   "execution_count": null,
   "id": "e24572eb",
   "metadata": {},
   "outputs": [],
   "source": [
    "train_both = np.stack([train_pts, train_det_pts], axis=1)"
   ]
  },
  {
   "cell_type": "code",
   "execution_count": null,
   "id": "9e6e8efc",
   "metadata": {
    "scrolled": true
   },
   "outputs": [],
   "source": [
    "%%time\n",
    "\n",
    "\n",
    "verbose = True\n",
    "\n",
    "of_niter = 4\n",
    "\n",
    "of_weights = of.omnifold( train_both, true_det_pts, of_niter, model, verbose)"
   ]
  },
  {
   "cell_type": "code",
   "execution_count": null,
   "id": "8f77f6c1",
   "metadata": {},
   "outputs": [],
   "source": [
    "\n",
    "fig,ax = plt.subplots( of_niter, 2, figsize=(18,7*of_niter))\n",
    "\n",
    "hmin=-6\n",
    "hmax=6\n",
    "hbins=40\n",
    "\n",
    "lfontsize = 17\n",
    "\n",
    "plt.subplots_adjust( hspace=0.30)\n",
    "plt.subplots_adjust( wspace=0.25)\n",
    "\n",
    "\n",
    "\n",
    "for ofi in range(0,of_niter) :\n",
    "\n",
    "    ax[ofi][0].hist( train_pts[:,0], bins=hbins, range=[hmin,hmax], density=True, label='train particle' )\n",
    "    ax[ofi][0].hist( train_pts[:,0], weights=of_weights[ofi,1,:], bins=hbins, range=[hmin,hmax], density=True, label='OF weighted particle', alpha=0.5 )\n",
    "    ax[ofi][0].hist( true_pts[:,0], bins=hbins, range=[hmin,hmax], density=True, label='true particle', histtype='step', color='black' )\n",
    "\n",
    "    ax[ofi][1].hist( train_pts[:,1], bins=hbins, range=[hmin,hmax], density=True, label='train particle' )\n",
    "    ax[ofi][1].hist( train_pts[:,1], weights=of_weights[ofi,1,:], bins=hbins, range=[hmin,hmax], density=True, label='OF weighted particle', alpha=0.5 )\n",
    "    ax[ofi][1].hist( true_pts[:,1], bins=hbins, range=[hmin,hmax], density=True, label='true particle', histtype='step', color='black' )\n",
    "\n",
    "\n",
    "    ax[ofi][0].legend(loc='best', fontsize=13)\n",
    "    ax[ofi][1].legend(loc='best', fontsize=13)\n",
    "    \n",
    "    \n",
    "    ax[ofi][0].set_xlabel('Feature 0', fontsize=lfontsize )\n",
    "    \n",
    "    ax[ofi][1].set_xlabel('Feature 1', fontsize=lfontsize )\n",
    "    \n",
    "    ax[ofi][0].set_title('Iteration %d' % ofi, fontsize=lfontsize )\n",
    "\n",
    "\n",
    "\n",
    "plt.show"
   ]
  },
  {
   "cell_type": "code",
   "execution_count": null,
   "id": "49ddfda6",
   "metadata": {},
   "outputs": [],
   "source": []
  }
 ],
 "metadata": {
  "kernelspec": {
   "display_name": "Python 3 (ipykernel)",
   "language": "python",
   "name": "python3"
  },
  "language_info": {
   "codemirror_mode": {
    "name": "ipython",
    "version": 3
   },
   "file_extension": ".py",
   "mimetype": "text/x-python",
   "name": "python",
   "nbconvert_exporter": "python",
   "pygments_lexer": "ipython3",
   "version": "3.10.12"
  }
 },
 "nbformat": 4,
 "nbformat_minor": 5
}
