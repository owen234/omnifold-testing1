{
 "cells": [
  {
   "cell_type": "code",
   "execution_count": 1,
   "id": "c4827ba1",
   "metadata": {},
   "outputs": [],
   "source": [
    "import matplotlib.pyplot as plt\n",
    "import numpy as np"
   ]
  },
  {
   "cell_type": "code",
   "execution_count": 2,
   "id": "6c89daa0",
   "metadata": {},
   "outputs": [],
   "source": [
    "\n",
    "#input_dir = 'output-files-bootstrap-test6b-4d-2a'\n",
    "\n",
    "\n",
    "#input_dir = 'output-files-bootstrap-test6b-2d-2a'\n",
    "\n",
    "#input_dir = 'bootstrap-simple-pdf-toy-study6b-2d-v1b'\n",
    "\n",
    "#input_dir = 'output-files-bootstrap-test6b-2d-2a-100k'\n",
    "\n",
    "#input_dir = 'bootstrap-toy-study6b-2d-4c'\n",
    "#input_dir = 'bootstrap-simple-pdf-toy-study6b-2d-4c'\n",
    "\n",
    "#input_dir = 'freshtoys-toy-study6b-2d-4c'\n",
    "#input_dir = 'freshtoys-simple-pdf-toy-study6b-2d-4c'\n",
    "\n",
    "#input_dir = 'freshtoys-toy-study6b-2d-4c-save-model'\n",
    "#input_dir = 'freshtoys-toy-study6b-2d-4c-save-model/freshmc-01'\n",
    "#input_dir = 'freshtoys-toy-study6b-2d-4c-save-model/freshmc-02'\n",
    "\n",
    "\n",
    "#input_dir = 'fit-pdf-toy-study-2d-1a'\n",
    "\n",
    "#input_dir = 'hist-pdf-toy-study-1d-1a'\n",
    "\n",
    "\n",
    "\n",
    "#input_dir = 'hist-pdf-toy-study-1d-1a-perfect'\n",
    "#input_dir = 'hist-pdf-toy-study-1d-1a-goodres'\n",
    "#input_dir = 'hist-pdf-toy-study-1d-1a-nominal-resolution'\n",
    "#input_dir = 'hist-pdf-toy-study-1d-1b-mediumbad'\n",
    "\n",
    "\n",
    "#input_dir = 'bootstrap-toy-study8a-1d-1d-perfect'\n",
    "#input_dir = 'bootstrap-toy-study8a-1d-1d'\n",
    "input_dir = 'bootstrap-toy-study8a-1d-1d-nominal-resolution'\n",
    "#input_dir = 'bootstrap-toy-study8a-1d-1d-gpu0'\n",
    "\n",
    "\n",
    "#input_dir = 'bootstrap-toy-study8a-1d-1c'\n",
    "\n",
    "\n",
    "#input_dir = 'bootstrap-toy-study8a-1d-1d'\n",
    "\n",
    "\n",
    "\n",
    "\n",
    "\n",
    "\n"
   ]
  },
  {
   "cell_type": "code",
   "execution_count": 3,
   "id": "1f3efe69",
   "metadata": {},
   "outputs": [],
   "source": [
    "with open( '%s/correlations.npy' % input_dir, 'rb') as f :\n",
    "    all_points_df0 = np.load(f)\n",
    "    all_points_corr_array = np.load(f)\n"
   ]
  },
  {
   "cell_type": "code",
   "execution_count": 4,
   "id": "aff563be",
   "metadata": {},
   "outputs": [
    {
     "name": "stdout",
     "output_type": "stream",
     "text": [
      "\n",
      "\n",
      "\n",
      "\n",
      "  all_points_df0 shape:  (4000000,)\n",
      "  all_points_corr_array shape:  (4000000,)\n",
      "\n",
      "\n",
      "\n",
      "\n"
     ]
    }
   ],
   "source": [
    "print(\"\\n\\n\\n\")\n",
    "print(\"  all_points_df0 shape:  %s\" % str(all_points_df0.shape))\n",
    "print(\"  all_points_corr_array shape:  %s\" % str(all_points_corr_array.shape))\n",
    "print(\"\\n\\n\\n\")"
   ]
  },
  {
   "cell_type": "code",
   "execution_count": 5,
   "id": "3952ace0",
   "metadata": {},
   "outputs": [],
   "source": [
    "with open( '%s/correlation-points-feature-coords.npy' % input_dir, 'rb') as f :\n",
    "    all_points_f0b = np.load(f)\n",
    "    "
   ]
  },
  {
   "cell_type": "code",
   "execution_count": null,
   "id": "ee3776c7",
   "metadata": {},
   "outputs": [],
   "source": []
  },
  {
   "cell_type": "markdown",
   "id": "9971afed",
   "metadata": {},
   "source": [
    "## Remove the points with correlation = 1 (self pairs)"
   ]
  },
  {
   "cell_type": "code",
   "execution_count": 6,
   "id": "62558c49",
   "metadata": {},
   "outputs": [
    {
     "name": "stdout",
     "output_type": "stream",
     "text": [
      " shape of array after mask: (3995624,)\n"
     ]
    }
   ],
   "source": [
    "mask =  (all_points_corr_array<0.99999) \n",
    "\n",
    "all_points_corr_array = all_points_corr_array[mask]\n",
    "print(\" shape of array after mask: %s\" % str(all_points_corr_array.shape))\n",
    "\n",
    "all_points_df0 = all_points_df0[mask]\n",
    "\n",
    "\n",
    "all_points_f0b = all_points_f0b[mask]\n",
    "\n"
   ]
  },
  {
   "cell_type": "code",
   "execution_count": 7,
   "id": "4009cba3",
   "metadata": {},
   "outputs": [
    {
     "data": {
      "text/plain": [
       "array([False,  True,  True, ...,  True,  True, False])"
      ]
     },
     "execution_count": 7,
     "metadata": {},
     "output_type": "execute_result"
    }
   ],
   "source": [
    "mask"
   ]
  },
  {
   "cell_type": "code",
   "execution_count": 8,
   "id": "55d88185",
   "metadata": {},
   "outputs": [
    {
     "data": {
      "text/plain": [
       "0.9999899922310065"
      ]
     },
     "execution_count": 8,
     "metadata": {},
     "output_type": "execute_result"
    }
   ],
   "source": [
    "np.max(all_points_corr_array)"
   ]
  },
  {
   "cell_type": "code",
   "execution_count": null,
   "id": "94dbb26a",
   "metadata": {},
   "outputs": [],
   "source": []
  },
  {
   "cell_type": "code",
   "execution_count": 9,
   "id": "60ec7e63",
   "metadata": {},
   "outputs": [
    {
     "data": {
      "text/plain": [
       "<function matplotlib.pyplot.show(close=None, block=None)>"
      ]
     },
     "execution_count": 9,
     "metadata": {},
     "output_type": "execute_result"
    },
    {
     "data": {
      "image/png": "[encoded data removed]",
      "text/plain": [
       "<Figure size 1296x360 with 3 Axes>"
      ]
     },
     "metadata": {
      "needs_background": "light"
     },
     "output_type": "display_data"
    }
   ],
   "source": [
    "fig,ax = plt.subplots( 1, 3, figsize=(18,5))\n",
    "ax[0].hist2d( all_points_df0, all_points_corr_array, bins=[80,80], range=([-4,4],[-1,1]))\n",
    "\n",
    "#ax[2].hist2d( all_points_dr, all_points_corr_array, bins=[80,80], range=([0,5],[-1,1]))\n",
    "\n",
    "#plt.savefig('correlation-vs-distance.png', bbox_inches='tight')\n",
    "#plt.savefig('correlation-vs-distance.pdf', bbox_inches='tight')\n",
    "\n",
    "plt.show"
   ]
  },
  {
   "cell_type": "code",
   "execution_count": 10,
   "id": "13175249",
   "metadata": {},
   "outputs": [],
   "source": [
    "import matplotlib as mpl"
   ]
  },
  {
   "cell_type": "code",
   "execution_count": 11,
   "id": "f1bc181e",
   "metadata": {},
   "outputs": [
    {
     "data": {
      "text/plain": [
       "<function matplotlib.pyplot.show(close=None, block=None)>"
      ]
     },
     "execution_count": 11,
     "metadata": {},
     "output_type": "execute_result"
    },
    {
     "data": {
      "image/png": "[encoded data removed]",
      "text/plain": [
       "<Figure size 1296x360 with 3 Axes>"
      ]
     },
     "metadata": {
      "needs_background": "light"
     },
     "output_type": "display_data"
    }
   ],
   "source": [
    "fig,ax = plt.subplots( 1, 3, figsize=(18,5))\n",
    "ax[0].hist2d( all_points_df0, all_points_corr_array, bins=[80,80], norm=mpl.colors.LogNorm(), range=([-4,4],[-1,1]))\n",
    "#ax[1].hist2d( all_points_df1, all_points_corr_array, bins=[80,80], norm=mpl.colors.LogNorm(), range=([-4,4],[-1,1]))\n",
    "#ax[2].hist2d( all_points_dr, all_points_corr_array, bins=[80,80], norm=mpl.colors.LogNorm(), range=([0,5],[-1,1]))\n",
    "\n",
    "#plt.savefig('correlation-vs-distance.png', bbox_inches='tight')\n",
    "#plt.savefig('correlation-vs-distance.pdf', bbox_inches='tight')\n",
    "\n",
    "plt.show"
   ]
  },
  {
   "cell_type": "code",
   "execution_count": null,
   "id": "a56ac780",
   "metadata": {},
   "outputs": [],
   "source": []
  },
  {
   "cell_type": "code",
   "execution_count": null,
   "id": "0465e6f3",
   "metadata": {},
   "outputs": [],
   "source": []
  },
  {
   "cell_type": "code",
   "execution_count": null,
   "id": "ef10da63",
   "metadata": {},
   "outputs": [],
   "source": []
  },
  {
   "cell_type": "code",
   "execution_count": null,
   "id": "65b6a4ee",
   "metadata": {},
   "outputs": [],
   "source": []
  },
  {
   "cell_type": "code",
   "execution_count": null,
   "id": "602bef38",
   "metadata": {},
   "outputs": [],
   "source": []
  },
  {
   "cell_type": "code",
   "execution_count": null,
   "id": "1c1762b7",
   "metadata": {},
   "outputs": [],
   "source": []
  },
  {
   "cell_type": "code",
   "execution_count": null,
   "id": "f1b19237",
   "metadata": {},
   "outputs": [],
   "source": []
  },
  {
   "cell_type": "code",
   "execution_count": 12,
   "id": "9e350607",
   "metadata": {},
   "outputs": [],
   "source": [
    "def profile2d( axis, xvals, yvals, hbins, hrange, drawhist=True, drawline=True ) :\n",
    "    \n",
    "    hist_data = axis.hist2d( xvals, yvals, bins=hbins, range=hrange)\n",
    "    \n",
    "    if not drawhist :\n",
    "        ax.cla()\n",
    "\n",
    "    nybins = len(hist_data[0][0])\n",
    "    print(\"number of y bins: %d\" % nybins)\n",
    "\n",
    "    nxbins = len(hist_data[0])\n",
    "    print(\"number of x bins: %d\" % nxbins)\n",
    "\n",
    "\n",
    "\n",
    "    x_vals = np.zeros( nxbins )\n",
    "    avey_vals = np.zeros( nxbins )\n",
    "    rmsy_vals = np.zeros( nxbins )\n",
    "\n",
    "    for xbi in range( nxbins ) :\n",
    "\n",
    "        wsum = 0\n",
    "        ywsum = 0\n",
    "        yywsum = 0\n",
    "\n",
    "        xval = 0.5 * ( hist_data[1][xbi] + hist_data[1][xbi+1] )\n",
    "        #print(\" xbin %d has center at %6.3f\" % ( xbin_ind, xval ))\n",
    "\n",
    "        for ybi in range( nybins ) :  \n",
    "            yval = 0.5 * ( hist_data[2][ybi] + hist_data[2][ybi+1] )\n",
    "            bin_content = hist_data[0][xbi][ybi]\n",
    "            wsum = wsum + bin_content\n",
    "            ywsum = ywsum + yval * bin_content\n",
    "            yywsum = yywsum + yval * yval * bin_content\n",
    "            #print(\"  %3d : y = %6.3f  bin content = %7d\" % (bi, yval, bin_content))\n",
    "\n",
    "        ave_y = ywsum / wsum\n",
    "        ave_yy = yywsum / wsum\n",
    "        rms_y = ave_yy - ave_y * ave_y\n",
    "        #print(\" Ave y = %.3f, RMS y = %.3f\" % ( ave_y, rms_y) )\n",
    "\n",
    "        x_vals[xbi] = xval\n",
    "        avey_vals[xbi] = ave_y\n",
    "        rmsy_vals[xbi] = rms_y\n",
    "\n",
    "\n",
    "    #for xbi in range( nxbins ) :\n",
    "        #print(\"  %4d :  x = %7.3f   ave y = %7.3f  rms y = %7.3f\" % ( xbi, x_vals[xbi], avey_vals[xbi], rmsy_vals[xbi]))\n",
    "\n",
    "    if drawline :\n",
    "        ax.plot( (hist_data[1][0], hist_data[1][-1]), (0,0) )  \n",
    "    \n",
    "    ax.errorbar( x_vals, avey_vals, yerr=rmsy_vals, fmt='-o')\n",
    "\n",
    "    \n",
    "    plt.show\n",
    "    "
   ]
  },
  {
   "cell_type": "code",
   "execution_count": 13,
   "id": "8c221643",
   "metadata": {
    "scrolled": false
   },
   "outputs": [
    {
     "name": "stdout",
     "output_type": "stream",
     "text": [
      "number of y bins: 80\n",
      "number of x bins: 80\n"
     ]
    },
    {
     "data": {
      "image/png": "[encoded data removed]",
      "text/plain": [
       "<Figure size 648x504 with 1 Axes>"
      ]
     },
     "metadata": {
      "needs_background": "light"
     },
     "output_type": "display_data"
    }
   ],
   "source": [
    "fig,ax = plt.subplots(1,1,figsize=(9,7))\n",
    "\n",
    "#profile2d( ax, all_points_df0, all_points_corr_array, hbins=[80,80], hrange=([0,5],[-0.5,1]), drawhist=True)\n",
    "\n",
    "profile2d( ax, all_points_df0, all_points_corr_array, hbins=[80,80], hrange=([0,5],[-0.9,1]), drawhist=True)\n",
    "\n"
   ]
  },
  {
   "cell_type": "code",
   "execution_count": null,
   "id": "cad50ce0",
   "metadata": {},
   "outputs": [],
   "source": []
  },
  {
   "cell_type": "code",
   "execution_count": null,
   "id": "3f9522e5",
   "metadata": {},
   "outputs": [],
   "source": []
  }
 ],
 "metadata": {
  "kernelspec": {
   "display_name": "Python 3 (ipykernel)",
   "language": "python",
   "name": "python3"
  },
  "language_info": {
   "codemirror_mode": {
    "name": "ipython",
    "version": 3
   },
   "file_extension": ".py",
   "mimetype": "text/x-python",
   "name": "python",
   "nbconvert_exporter": "python",
   "pygments_lexer": "ipython3",
   "version": "3.10.12"
  }
 },
 "nbformat": 4,
 "nbformat_minor": 5
}
