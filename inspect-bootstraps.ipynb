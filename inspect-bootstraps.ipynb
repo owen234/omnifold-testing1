{
 "cells": [
  {
   "cell_type": "code",
   "execution_count": 1,
   "id": "1c1a549e",
   "metadata": {},
   "outputs": [],
   "source": [
    "import matplotlib.pyplot as plt\n",
    "import numpy as np\n",
    "\n",
    "import time\n",
    "\n",
    "import sys\n",
    "import os\n",
    "\n",
    "from datetime import datetime\n",
    "import subprocess\n",
    "\n",
    "from os.path import exists\n",
    "\n",
    "import read_config_utils as cu"
   ]
  },
  {
   "cell_type": "code",
   "execution_count": 2,
   "id": "cb746b1c",
   "metadata": {},
   "outputs": [
    {
     "name": "stdout",
     "output_type": "stream",
     "text": [
      "\n",
      "\n",
      "\n",
      " shape of train_pts:  (4000000, 4)\n",
      " shape of true_pts:   (400000, 4)\n",
      "\n",
      "\n",
      "\n"
     ]
    }
   ],
   "source": [
    "input_dir = 'output-files-bootstrap-test6b-4d-1a'\n",
    "\n",
    "\n",
    "with open( '%s/train-and-true-samples.npy' % input_dir, 'rb') as f :\n",
    "    train_pts = np.load(f)\n",
    "    train_det_pts = np.load(f)\n",
    "    true_pts = np.load(f)\n",
    "    true_det_pts = np.load(f)\n",
    "    \n",
    "print('\\n\\n')\n",
    "print(' shape of train_pts:  %s' % str(train_pts.shape))\n",
    "print(' shape of true_pts:   %s' % str(true_pts.shape))\n",
    "print('\\n\\n')\n",
    "\n"
   ]
  },
  {
   "cell_type": "code",
   "execution_count": null,
   "id": "99bbf301",
   "metadata": {},
   "outputs": [],
   "source": []
  },
  {
   "cell_type": "code",
   "execution_count": null,
   "id": "706075d7",
   "metadata": {},
   "outputs": [],
   "source": []
  },
  {
   "cell_type": "code",
   "execution_count": 3,
   "id": "efdcf99f",
   "metadata": {},
   "outputs": [],
   "source": [
    "config_file = '%s/config.txt' % (input_dir)\n",
    "\n",
    "if not exists(config_file) :\n",
    "    \n",
    "    print(\"\\n\\n\\n ******* Input file does not exist: %s\\n\\n\\n\" % config_file )\n",
    "    sys.exit()\n",
    "    "
   ]
  },
  {
   "cell_type": "code",
   "execution_count": 4,
   "id": "728d9e18",
   "metadata": {},
   "outputs": [
    {
     "name": "stdout",
     "output_type": "stream",
     "text": [
      "\n",
      "\n",
      " Number of feature dimensions: 4\n",
      "\n",
      "\n"
     ]
    }
   ],
   "source": [
    "ndim = int(cu.get_par( config_file, \"ndim\"))\n",
    "print(\"\\n\\n Number of feature dimensions: %d\\n\\n\" % ndim)"
   ]
  },
  {
   "cell_type": "code",
   "execution_count": 5,
   "id": "dd582d37",
   "metadata": {},
   "outputs": [],
   "source": [
    "with open( '%s/config-pars.npy' % input_dir, 'rb') as f :\n",
    "    train_mu = np.load(f, allow_pickle=True )\n",
    "    train_rho = np.load(f, allow_pickle=True)\n",
    "    train_sig = np.load(f, allow_pickle=True)    \n",
    "    true_mu = np.load(f, allow_pickle=True )\n",
    "    true_rho = np.load(f, allow_pickle=True)\n",
    "    true_sig = np.load(f, allow_pickle=True)  \n",
    "    resolution = np.load(f, allow_pickle=True)"
   ]
  },
  {
   "cell_type": "code",
   "execution_count": null,
   "id": "d397c276",
   "metadata": {},
   "outputs": [],
   "source": []
  },
  {
   "cell_type": "code",
   "execution_count": 6,
   "id": "f233f314",
   "metadata": {},
   "outputs": [
    {
     "data": {
      "text/plain": [
       "<function matplotlib.pyplot.show(close=None, block=None)>"
      ]
     },
     "execution_count": 6,
     "metadata": {},
     "output_type": "execute_result"
    },
    {
     "data": {
      "image/png": "[encoded data removed]",
      "text/plain": [
       "<Figure size 1440x360 with 4 Axes>"
      ]
     },
     "metadata": {
      "needs_background": "light"
     },
     "output_type": "display_data"
    }
   ],
   "source": [
    "fig,ax = plt.subplots( 1, 4, figsize=(20,5))\n",
    "\n",
    "\n",
    "\n",
    "hmin=-5\n",
    "hmax=5\n",
    "\n",
    "\n",
    "hmin=-9\n",
    "hmax=9\n",
    "\n",
    "hbins=40\n",
    "\n",
    "\n",
    "for i in range(ndim) :\n",
    "        ax[i].hist( train_det_pts[:,i],bins=hbins, range=[hmin,hmax], density=True )\n",
    "        ax[i].hist( true_det_pts[:,i],bins=hbins, range=[hmin,hmax], density=True, alpha=0.5 )\n",
    "    \n",
    "plt.show"
   ]
  },
  {
   "cell_type": "code",
   "execution_count": 7,
   "id": "0f368d18",
   "metadata": {},
   "outputs": [
    {
     "data": {
      "text/plain": [
       "<function matplotlib.pyplot.show(close=None, block=None)>"
      ]
     },
     "execution_count": 7,
     "metadata": {},
     "output_type": "execute_result"
    },
    {
     "data": {
      "image/png": "[encoded data removed]",
      "text/plain": [
       "<Figure size 1440x360 with 4 Axes>"
      ]
     },
     "metadata": {
      "needs_background": "light"
     },
     "output_type": "display_data"
    }
   ],
   "source": [
    "fig,ax = plt.subplots( 1, 4, figsize=(20,5))\n",
    "\n",
    "hbins=40\n",
    "\n",
    "\n",
    "for i in range(ndim) :\n",
    "        ax[i].hist( train_det_pts[:,i],bins=hbins, range=[hmin,hmax], density=True )\n",
    "        ax[i].hist( true_det_pts[:,i],bins=hbins, range=[hmin,hmax], density=True, alpha=0.5 )\n",
    "        ax[i].set_yscale('log')\n",
    "    \n",
    "plt.show"
   ]
  },
  {
   "cell_type": "code",
   "execution_count": null,
   "id": "bd2f5ecd",
   "metadata": {},
   "outputs": [],
   "source": []
  },
  {
   "cell_type": "code",
   "execution_count": 8,
   "id": "1886f4fd",
   "metadata": {},
   "outputs": [],
   "source": [
    "with open( \"%s/omnifold-output-weights.npy\" % input_dir,'rb') as f :\n",
    "    main_sample_omnifold_weights = np.load(f)\n"
   ]
  },
  {
   "cell_type": "code",
   "execution_count": 9,
   "id": "7cd9c7b1",
   "metadata": {},
   "outputs": [
    {
     "data": {
      "text/plain": [
       "<function matplotlib.pyplot.show(close=None, block=None)>"
      ]
     },
     "execution_count": 9,
     "metadata": {},
     "output_type": "execute_result"
    },
    {
     "data": {
      "image/png": "[encoded data removed]",
      "text/plain": [
       "<Figure size 1008x360 with 2 Axes>"
      ]
     },
     "metadata": {
      "needs_background": "light"
     },
     "output_type": "display_data"
    }
   ],
   "source": [
    "fig,ax = plt.subplots( 1, 2, figsize=(2*7,5))\n",
    "\n",
    "hbins = 60\n",
    "ax[0].hist( np.log10(main_sample_omnifold_weights), bins=hbins)\n",
    "ax[1].hist( main_sample_omnifold_weights, bins=hbins)\n",
    "ax[1].set_yscale('log')\n",
    "plt.show"
   ]
  },
  {
   "cell_type": "code",
   "execution_count": null,
   "id": "12d75312",
   "metadata": {},
   "outputs": [],
   "source": []
  },
  {
   "cell_type": "code",
   "execution_count": 10,
   "id": "d62b0546",
   "metadata": {},
   "outputs": [
    {
     "data": {
      "text/plain": [
       "array([list([0.4, -0.3, 0.0]), list([0.0, 0.2]), list([0.5])],\n",
       "      dtype=object)"
      ]
     },
     "execution_count": 10,
     "metadata": {},
     "output_type": "execute_result"
    }
   ],
   "source": [
    "true_rho"
   ]
  },
  {
   "cell_type": "code",
   "execution_count": 11,
   "id": "4e0d6c27",
   "metadata": {},
   "outputs": [
    {
     "data": {
      "text/plain": [
       "(4,)"
      ]
     },
     "execution_count": 11,
     "metadata": {},
     "output_type": "execute_result"
    }
   ],
   "source": [
    "true_mu.shape"
   ]
  },
  {
   "cell_type": "code",
   "execution_count": 12,
   "id": "2d65ce2e",
   "metadata": {},
   "outputs": [
    {
     "name": "stdout",
     "output_type": "stream",
     "text": [
      " 0, 1, 2\n",
      " 0, 2, 1\n",
      " 0, 3, 0\n",
      " 1, 2, 1\n",
      " 1, 3, 0\n",
      " 2, 3, 0\n"
     ]
    }
   ],
   "source": [
    "true_cov = np.zeros( shape=(ndim,ndim) )\n",
    "\n",
    "for i in range(ndim) :\n",
    "    for j in range(ndim) :\n",
    "        k = ndim - j - 1\n",
    "        if i == j :\n",
    "            true_cov[i][j] = true_sig[i]*true_sig[i]\n",
    "        elif j > i :\n",
    "            print(\" %d, %d, %d\" % (i,j,k))\n",
    "            true_cov[i][j] = true_rho[i][k] * true_sig[i] * true_sig[j]"
   ]
  },
  {
   "cell_type": "code",
   "execution_count": 13,
   "id": "b6582258",
   "metadata": {},
   "outputs": [
    {
     "data": {
      "text/plain": [
       "array([[ 0.64 ,  0.   , -0.24 ,  0.192],\n",
       "       [ 0.   ,  0.36 ,  0.12 ,  0.   ],\n",
       "       [ 0.   ,  0.   ,  1.   ,  0.3  ],\n",
       "       [ 0.   ,  0.   ,  0.   ,  0.36 ]])"
      ]
     },
     "execution_count": 13,
     "metadata": {},
     "output_type": "execute_result"
    }
   ],
   "source": [
    "true_cov"
   ]
  },
  {
   "cell_type": "code",
   "execution_count": null,
   "id": "1fbc5ace",
   "metadata": {},
   "outputs": [],
   "source": []
  },
  {
   "cell_type": "code",
   "execution_count": null,
   "id": "c32571b2",
   "metadata": {},
   "outputs": [],
   "source": []
  },
  {
   "cell_type": "code",
   "execution_count": null,
   "id": "9bf44517",
   "metadata": {},
   "outputs": [],
   "source": []
  },
  {
   "cell_type": "code",
   "execution_count": 14,
   "id": "7c663b9f",
   "metadata": {},
   "outputs": [
    {
     "name": "stdout",
     "output_type": "stream",
     "text": [
      "\n",
      "\n",
      " Have fit results file.\n",
      "\n",
      "\n"
     ]
    }
   ],
   "source": [
    "have_fits = False\n",
    "\n",
    "if exists( \"%s/fit-results.npy\" % input_dir ) :\n",
    "    have_fits = True\n",
    "    print(\"\\n\\n Have fit results file.\\n\\n\")"
   ]
  },
  {
   "cell_type": "code",
   "execution_count": 15,
   "id": "1824cfea",
   "metadata": {},
   "outputs": [],
   "source": [
    "if have_fits :\n",
    "    \n",
    "    with open( '%s/fit-results.npy' % input_dir, 'rb' ) as f :\n",
    "        fit_results_mean_val = np.load(f, allow_pickle=True )\n",
    "        fit_results_mean_err = np.load(f, allow_pickle=True )\n",
    "        fit_results_cov_val = np.load(f, allow_pickle=True )\n",
    "        fit_results_cov_err = np.load(f, allow_pickle=True )        \n",
    "        \n",
    "\n",
    "    ave_fit_err_mean = np.zeros( ndim )\n",
    "\n",
    "    for fi in range(ndim) :\n",
    "    \n",
    "        ave_fit_err_mean[fi] = np.mean( fit_results_mean_err[fi,:])\n",
    "    "
   ]
  },
  {
   "cell_type": "code",
   "execution_count": null,
   "id": "56e76fbd",
   "metadata": {},
   "outputs": [],
   "source": []
  },
  {
   "cell_type": "code",
   "execution_count": null,
   "id": "bf2a2d42",
   "metadata": {},
   "outputs": [],
   "source": []
  },
  {
   "cell_type": "code",
   "execution_count": 16,
   "id": "cec505a9",
   "metadata": {},
   "outputs": [],
   "source": [
    "def calc_mean( weights, fi ) :\n",
    "    \n",
    "    mean = ( np.sum( weights * train_pts[:,fi]) ) / ( np.sum( weights ) )\n",
    "    \n",
    "    return mean"
   ]
  },
  {
   "cell_type": "code",
   "execution_count": 17,
   "id": "4eca21da",
   "metadata": {},
   "outputs": [],
   "source": [
    "def calc_rms( weights, fi ) :\n",
    "    \n",
    "    x = calc_mean( weights, fi )\n",
    "    xx = ( np.sum( weights * train_pts[:,fi] * train_pts[:,fi] ) ) / ( np.sum( weights ) )\n",
    "    \n",
    "    #print(\" x = %f,  xx = %f\" % (x, xx))\n",
    "    \n",
    "    return np.sqrt(xx - x*x)\n"
   ]
  },
  {
   "cell_type": "code",
   "execution_count": 18,
   "id": "fdec65ac",
   "metadata": {},
   "outputs": [],
   "source": [
    "def calc_cov( weights, fi1, fi2 ) :\n",
    "    \n",
    "    x1 = calc_mean( weights, fi1 )\n",
    "    x2 = calc_mean( weights, fi2 )\n",
    "    x1x2 = ( np.sum( weights * train_pts[:,fi1] * train_pts[:,fi2] ) ) / ( np.sum( weights ) )\n",
    "    \n",
    "    return np.sqrt( x1x2 - x1*x2 )\n",
    "    "
   ]
  },
  {
   "cell_type": "code",
   "execution_count": 19,
   "id": "509e43b6",
   "metadata": {},
   "outputs": [],
   "source": [
    "def calc_mean_cov( weights, fi1, fi2 ) :\n",
    "\n",
    "    return_dict = {}\n",
    "    \n",
    "    wsum = np.sum( weights )\n",
    "    \n",
    "    wx1 = np.sum( weights * train_pts[:,fi1] )\n",
    "    wx2 = np.sum( weights * train_pts[:,fi2] )\n",
    "    wx1x2 = np.sum( weights * train_pts[:,fi1] * train_pts[:,fi2] )\n",
    "\n",
    "    x1 = wx1 / wsum\n",
    "    x2 = wx2 / wsum\n",
    "\n",
    "    x1x2 = wx1x2 / wsum\n",
    "    \n",
    "    cov12 = x1x2 - x1*x2\n",
    "\n",
    "    \n",
    "    return_dict[\"mean_x1\"] = x1\n",
    "    return_dict[\"mean_x2\"] = x2\n",
    "    return_dict[\"cov_x1x2\"] = cov12    \n",
    "    \n",
    "    if fi1 != fi2 :\n",
    "        wx1x1 = np.sum( weights * train_pts[:,fi1] * train_pts[:,fi1] )\n",
    "        wx2x2 = np.sum( weights * train_pts[:,fi2] * train_pts[:,fi2] )\n",
    "        cov11 = wx1x1 / wsum - x1*x1\n",
    "        cov22 = wx2x2 / wsum - x2*x2\n",
    "\n",
    "        rms1 = np.sqrt(cov11)\n",
    "        rms2 = np.sqrt(cov22)\n",
    "        rho12 = cov12 / (rms1*rms2)     \n",
    "    \n",
    "        return_dict[\"rho12\"] = rho12\n",
    "        return_dict[\"rms1\"] = rms1\n",
    "        return_dict[\"rms2\"] = rms2\n",
    "    else :\n",
    "        rms1 = np.sqrt(cov12)\n",
    "        return_dict[\"rms1\"] = rms1\n",
    "        \n",
    "    return return_dict\n",
    "\n",
    "\n",
    "    "
   ]
  },
  {
   "cell_type": "code",
   "execution_count": 20,
   "id": "ab3cee63",
   "metadata": {},
   "outputs": [
    {
     "name": "stdout",
     "output_type": "stream",
     "text": [
      "\n",
      "\n",
      " Found 50 bootstrap samples.\n",
      "\n",
      "\n"
     ]
    }
   ],
   "source": [
    "n_samples = 0\n",
    "\n",
    "for fi in range(1000) :\n",
    "    \n",
    "    fname = '%s/bootstrap-weights-%03d.npy' % (input_dir, fi)\n",
    "    \n",
    "    if exists(fname) :\n",
    "        n_samples = n_samples + 1\n",
    "        \n",
    "print(\"\\n\\n Found %d bootstrap samples.\\n\\n\" % n_samples )"
   ]
  },
  {
   "cell_type": "code",
   "execution_count": 21,
   "id": "73c3238b",
   "metadata": {
    "scrolled": true
   },
   "outputs": [
    {
     "name": "stdout",
     "output_type": "stream",
     "text": [
      "\n",
      "----- output-files-bootstrap-test6b-4d-1a/bootstrap-weights-000.npy exists\n",
      "4000000\n",
      "[0.02070318 0.02826934 0.06413373 ... 0.03830937 0.07524047 0.03379093]\n",
      "[ 0.6176891   0.61758615 -0.72189844 ...  0.39585613  0.1060989\n",
      "  1.00935076]\n",
      "  0 0  :  mean =   0.7974, RMS =   0.8006, cov =   0.6409\n",
      "  0 1  :  rho =  -0.0031,  cov =  -0.0015\n",
      "  0 2  :  rho =  -0.2999,  cov =  -0.2405\n",
      "  0 3  :  rho =   0.3933,  cov =   0.1890\n",
      "  1 1  :  mean =   0.1004, RMS =   0.6061, cov =   0.3673\n",
      "  1 2  :  rho =   0.2045,  cov =   0.1242\n",
      "  1 3  :  rho =   0.0036,  cov =   0.0013\n",
      "  2 2  :  mean =  -0.5981, RMS =   1.0019, cov =   1.0037\n",
      "  2 3  :  rho =   0.5005,  cov =   0.3010\n",
      "  3 3  :  mean =   0.6982, RMS =   0.6002, cov =   0.3602\n",
      "\n",
      "----- output-files-bootstrap-test6b-4d-1a/bootstrap-weights-001.npy exists\n",
      "4000000\n",
      "[0.020529   0.02635229 0.06627814 ... 0.04066649 0.07971533 0.03102656]\n",
      "[ 0.6176891   0.61758615 -0.72189844 ...  0.39585613  0.1060989\n",
      "  1.00935076]\n",
      "  0 0  :  mean =   0.8016, RMS =   0.8016, cov =   0.6426\n",
      "  0 1  :  rho =  -0.0032,  cov =  -0.0015\n",
      "  0 2  :  rho =  -0.2941,  cov =  -0.2364\n",
      "  0 3  :  rho =   0.3944,  cov =   0.1899\n",
      "  1 1  :  mean =   0.1033, RMS =   0.6006, cov =   0.3607\n",
      "  1 2  :  rho =   0.2013,  cov =   0.1212\n",
      "  1 3  :  rho =   0.0032,  cov =   0.0011\n",
      "  2 2  :  mean =  -0.6013, RMS =   1.0027, cov =   1.0053\n",
      "  2 3  :  rho =   0.5043,  cov =   0.3036\n",
      "  3 3  :  mean =   0.6992, RMS =   0.6005, cov =   0.3606\n",
      "\n",
      "----- output-files-bootstrap-test6b-4d-1a/bootstrap-weights-002.npy exists\n",
      "4000000\n",
      "[0.02472704 0.02950212 0.06738491 ... 0.03543921 0.07045292 0.02838591]\n",
      "[ 0.6176891   0.61758615 -0.72189844 ...  0.39585613  0.1060989\n",
      "  1.00935076]\n",
      "  0 0  :  mean =   0.7965, RMS =   0.8012, cov =   0.6420\n",
      "  0 1  :  rho =  -0.0022,  cov =  -0.0011\n",
      "  0 2  :  rho =  -0.2996,  cov =  -0.2398\n",
      "  0 3  :  rho =   0.3997,  cov =   0.1922\n",
      "  1 1  :  mean =   0.1018, RMS =   0.6010, cov =   0.3612\n",
      "  1 2  :  rho =   0.2004,  cov =   0.1203\n",
      "  1 3  :  rho =   0.0020,  cov =   0.0007\n",
      "  2 2  :  mean =  -0.5959, RMS =   0.9988, cov =   0.9977\n",
      "  2 3  :  rho =   0.4988,  cov =   0.2990\n",
      "  3 3  :  mean =   0.6988, RMS =   0.6001, cov =   0.3602\n",
      "\n",
      "----- output-files-bootstrap-test6b-4d-1a/bootstrap-weights-003.npy exists\n",
      "4000000\n",
      "[0.0219626  0.02455488 0.05821664 ... 0.04577714 0.07864962 0.03986608]\n",
      "[ 0.6176891   0.61758615 -0.72189844 ...  0.39585613  0.1060989\n",
      "  1.00935076]\n",
      "  0 0  :  mean =   0.7980, RMS =   0.8000, cov =   0.6400\n",
      "  0 1  :  rho =  -0.0055,  cov =  -0.0027\n",
      "  0 2  :  rho =  -0.2963,  cov =  -0.2372\n",
      "  0 3  :  rho =   0.3960,  cov =   0.1904\n",
      "  1 1  :  mean =   0.1013, RMS =   0.6047, cov =   0.3657\n",
      "  1 2  :  rho =   0.2046,  cov =   0.1238\n",
      "  1 3  :  rho =   0.0031,  cov =   0.0011\n",
      "  2 2  :  mean =  -0.5935, RMS =   1.0006, cov =   1.0012\n",
      "  2 3  :  rho =   0.5025,  cov =   0.3021\n",
      "  3 3  :  mean =   0.7024, RMS =   0.6008, cov =   0.3610\n",
      "\n",
      "----- output-files-bootstrap-test6b-4d-1a/bootstrap-weights-004.npy exists\n",
      "4000000\n",
      "[0.02335484 0.02682021 0.06473017 ... 0.04232716 0.07691445 0.03206465]\n",
      "[ 0.6176891   0.61758615 -0.72189844 ...  0.39585613  0.1060989\n",
      "  1.00935076]\n",
      "  0 0  :  mean =   0.7986, RMS =   0.8035, cov =   0.6457\n",
      "  0 1  :  rho =  -0.0025,  cov =  -0.0012\n",
      "  0 2  :  rho =  -0.3015,  cov =  -0.2419\n",
      "  0 3  :  rho =   0.3961,  cov =   0.1911\n",
      "  1 1  :  mean =   0.1004, RMS =   0.6019, cov =   0.3623\n",
      "  1 2  :  rho =   0.2037,  cov =   0.1224\n",
      "  1 3  :  rho =   0.0018,  cov =   0.0007\n",
      "  2 2  :  mean =  -0.6028, RMS =   0.9986, cov =   0.9973\n",
      "  2 3  :  rho =   0.4995,  cov =   0.2995\n",
      "  3 3  :  mean =   0.6987, RMS =   0.6005, cov =   0.3606\n",
      "\n",
      "----- output-files-bootstrap-test6b-4d-1a/bootstrap-weights-005.npy exists\n",
      "4000000\n",
      "[0.02388862 0.02498466 0.06578783 ... 0.03791608 0.08536715 0.03280672]\n",
      "[ 0.6176891   0.61758615 -0.72189844 ...  0.39585613  0.1060989\n",
      "  1.00935076]\n",
      "  0 0  :  mean =   0.7987, RMS =   0.8069, cov =   0.6511\n",
      "  0 1  :  rho =  -0.0038,  cov =  -0.0018\n",
      "  0 2  :  rho =  -0.3030,  cov =  -0.2451\n",
      "  0 3  :  rho =   0.3960,  cov =   0.1919\n",
      "  1 1  :  mean =   0.1027, RMS =   0.6024, cov =   0.3629\n",
      "  1 2  :  rho =   0.2027,  cov =   0.1225\n",
      "  1 3  :  rho =   0.0028,  cov =   0.0010\n",
      "  2 2  :  mean =  -0.5970, RMS =   1.0027, cov =   1.0054\n",
      "  2 3  :  rho =   0.4980,  cov =   0.2999\n",
      "  3 3  :  mean =   0.6997, RMS =   0.6007, cov =   0.3608\n",
      "\n",
      "----- output-files-bootstrap-test6b-4d-1a/bootstrap-weights-006.npy exists\n",
      "4000000\n",
      "[0.02053088 0.02649738 0.06940622 ... 0.03426635 0.08323932 0.03262217]\n",
      "[ 0.6176891   0.61758615 -0.72189844 ...  0.39585613  0.1060989\n",
      "  1.00935076]\n",
      "  0 0  :  mean =   0.7983, RMS =   0.8018, cov =   0.6428\n",
      "  0 1  :  rho =  -0.0022,  cov =  -0.0011\n",
      "  0 2  :  rho =  -0.2975,  cov =  -0.2383\n",
      "  0 3  :  rho =   0.3977,  cov =   0.1919\n",
      "  1 1  :  mean =   0.0982, RMS =   0.6032, cov =   0.3638\n",
      "  1 2  :  rho =   0.2018,  cov =   0.1216\n",
      "  1 3  :  rho =   0.0039,  cov =   0.0014\n",
      "  2 2  :  mean =  -0.5914, RMS =   0.9993, cov =   0.9985\n",
      "  2 3  :  rho =   0.4995,  cov =   0.3004\n",
      "  3 3  :  mean =   0.7026, RMS =   0.6018, cov =   0.3622\n",
      "\n",
      "----- output-files-bootstrap-test6b-4d-1a/bootstrap-weights-007.npy exists\n",
      "4000000\n",
      "[0.01812169 0.02959631 0.06988671 ... 0.03416285 0.08798657 0.03683487]\n",
      "[ 0.6176891   0.61758615 -0.72189844 ...  0.39585613  0.1060989\n",
      "  1.00935076]\n",
      "  0 0  :  mean =   0.7996, RMS =   0.7989, cov =   0.6382\n",
      "  0 1  :  rho =  -0.0056,  cov =  -0.0027\n",
      "  0 2  :  rho =  -0.2987,  cov =  -0.2389\n",
      "  0 3  :  rho =   0.3927,  cov =   0.1885\n",
      "  1 1  :  mean =   0.1003, RMS =   0.6007, cov =   0.3608\n",
      "  1 2  :  rho =   0.2036,  cov =   0.1224\n",
      "  1 3  :  rho =   0.0040,  cov =   0.0015\n",
      "  2 2  :  mean =  -0.6003, RMS =   1.0012, cov =   1.0024\n",
      "  2 3  :  rho =   0.5027,  cov =   0.3025\n",
      "  3 3  :  mean =   0.7005, RMS =   0.6009, cov =   0.3611\n",
      "\n",
      "----- output-files-bootstrap-test6b-4d-1a/bootstrap-weights-008.npy exists\n",
      "4000000\n",
      "[0.0223289  0.02430419 0.06634235 ... 0.04146142 0.07772441 0.03547665]\n",
      "[ 0.6176891   0.61758615 -0.72189844 ...  0.39585613  0.1060989\n",
      "  1.00935076]\n",
      "  0 0  :  mean =   0.7966, RMS =   0.8020, cov =   0.6433\n",
      "  0 1  :  rho =  -0.0015,  cov =  -0.0007\n",
      "  0 2  :  rho =  -0.2997,  cov =  -0.2398\n",
      "  0 3  :  rho =   0.3953,  cov =   0.1897\n",
      "  1 1  :  mean =   0.1016, RMS =   0.6030, cov =   0.3636\n",
      "  1 2  :  rho =   0.1985,  cov =   0.1194\n",
      "  1 3  :  rho =   0.0014,  cov =   0.0005\n",
      "  2 2  :  mean =  -0.5941, RMS =   0.9977, cov =   0.9954\n",
      "  2 3  :  rho =   0.4978,  cov =   0.2972\n",
      "  3 3  :  mean =   0.6988, RMS =   0.5984, cov =   0.3581\n",
      "\n",
      "----- output-files-bootstrap-test6b-4d-1a/bootstrap-weights-009.npy exists\n",
      "4000000\n",
      "[0.01839132 0.02550145 0.07147163 ... 0.03654939 0.07725725 0.03754676]\n",
      "[ 0.6176891   0.61758615 -0.72189844 ...  0.39585613  0.1060989\n",
      "  1.00935076]\n",
      "  0 0  :  mean =   0.7972, RMS =   0.8029, cov =   0.6447\n",
      "  0 1  :  rho =  -0.0055,  cov =  -0.0027\n",
      "  0 2  :  rho =  -0.3041,  cov =  -0.2443\n",
      "  0 3  :  rho =   0.3929,  cov =   0.1898\n",
      "  1 1  :  mean =   0.1034, RMS =   0.6027, cov =   0.3632\n",
      "  1 2  :  rho =   0.2029,  cov =   0.1224\n",
      "  1 3  :  rho =   0.0046,  cov =   0.0017\n",
      "  2 2  :  mean =  -0.5979, RMS =   1.0008, cov =   1.0015\n",
      "  2 3  :  rho =   0.4955,  cov =   0.2983\n",
      "  3 3  :  mean =   0.6999, RMS =   0.6015, cov =   0.3618\n",
      "\n",
      "----- output-files-bootstrap-test6b-4d-1a/bootstrap-weights-010.npy exists\n",
      "4000000\n",
      "[0.01545237 0.02573566 0.06212765 ... 0.0313242  0.08170299 0.03343568]\n",
      "[ 0.6176891   0.61758615 -0.72189844 ...  0.39585613  0.1060989\n",
      "  1.00935076]\n",
      "  0 0  :  mean =   0.7978, RMS =   0.8042, cov =   0.6468\n",
      "  0 1  :  rho =  -0.0049,  cov =  -0.0024\n",
      "  0 2  :  rho =  -0.3019,  cov =  -0.2434\n",
      "  0 3  :  rho =   0.3979,  cov =   0.1925\n",
      "  1 1  :  mean =   0.1003, RMS =   0.6028, cov =   0.3634\n",
      "  1 2  :  rho =   0.1989,  cov =   0.1202\n",
      "  1 3  :  rho =  -0.0014,  cov =  -0.0005\n",
      "  2 2  :  mean =  -0.6018, RMS =   1.0025, cov =   1.0051\n",
      "  2 3  :  rho =   0.4990,  cov =   0.3009\n",
      "  3 3  :  mean =   0.6969, RMS =   0.6015, cov =   0.3618\n",
      "\n",
      "----- output-files-bootstrap-test6b-4d-1a/bootstrap-weights-011.npy exists\n",
      "4000000\n",
      "[0.01637575 0.02597461 0.07139698 ... 0.03649694 0.08036464 0.0308192 ]\n",
      "[ 0.6176891   0.61758615 -0.72189844 ...  0.39585613  0.1060989\n",
      "  1.00935076]\n",
      "  0 0  :  mean =   0.8005, RMS =   0.8049, cov =   0.6479\n",
      "  0 1  :  rho =  -0.0013,  cov =  -0.0006\n",
      "  0 2  :  rho =  -0.2993,  cov =  -0.2417\n"
     ]
    },
    {
     "name": "stdout",
     "output_type": "stream",
     "text": [
      "  0 3  :  rho =   0.3978,  cov =   0.1930\n",
      "  1 1  :  mean =   0.0978, RMS =   0.6034, cov =   0.3640\n",
      "  1 2  :  rho =   0.1995,  cov =   0.1207\n",
      "  1 3  :  rho =   0.0072,  cov =   0.0026\n",
      "  2 2  :  mean =  -0.6004, RMS =   1.0031, cov =   1.0062\n",
      "  2 3  :  rho =   0.4993,  cov =   0.3018\n",
      "  3 3  :  mean =   0.7002, RMS =   0.6027, cov =   0.3632\n",
      "\n",
      "----- output-files-bootstrap-test6b-4d-1a/bootstrap-weights-012.npy exists\n",
      "4000000\n",
      "[0.01798952 0.02817121 0.06338759 ... 0.03500437 0.09721212 0.03330248]\n",
      "[ 0.6176891   0.61758615 -0.72189844 ...  0.39585613  0.1060989\n",
      "  1.00935076]\n",
      "  0 0  :  mean =   0.8007, RMS =   0.8027, cov =   0.6444\n",
      "  0 1  :  rho =  -0.0043,  cov =  -0.0021\n",
      "  0 2  :  rho =  -0.2966,  cov =  -0.2385\n",
      "  0 3  :  rho =   0.3982,  cov =   0.1916\n",
      "  1 1  :  mean =   0.1031, RMS =   0.6022, cov =   0.3626\n",
      "  1 2  :  rho =   0.2030,  cov =   0.1225\n",
      "  1 3  :  rho =   0.0048,  cov =   0.0017\n",
      "  2 2  :  mean =  -0.5975, RMS =   1.0017, cov =   1.0034\n",
      "  2 3  :  rho =   0.4983,  cov =   0.2992\n",
      "  3 3  :  mean =   0.6996, RMS =   0.5995, cov =   0.3594\n",
      "\n",
      "----- output-files-bootstrap-test6b-4d-1a/bootstrap-weights-013.npy exists\n",
      "4000000\n",
      "[0.01711785 0.02651369 0.06463951 ... 0.03348382 0.07649446 0.03774859]\n",
      "[ 0.6176891   0.61758615 -0.72189844 ...  0.39585613  0.1060989\n",
      "  1.00935076]\n",
      "  0 0  :  mean =   0.7952, RMS =   0.8024, cov =   0.6438\n",
      "  0 1  :  rho =  -0.0022,  cov =  -0.0010\n",
      "  0 2  :  rho =  -0.2999,  cov =  -0.2411\n",
      "  0 3  :  rho =   0.3978,  cov =   0.1917\n",
      "  1 1  :  mean =   0.0993, RMS =   0.6014, cov =   0.3617\n",
      "  1 2  :  rho =   0.1987,  cov =   0.1197\n",
      "  1 3  :  rho =   0.0004,  cov =   0.0001\n",
      "  2 2  :  mean =  -0.5962, RMS =   1.0020, cov =   1.0041\n",
      "  2 3  :  rho =   0.4952,  cov =   0.2980\n",
      "  3 3  :  mean =   0.6993, RMS =   0.6005, cov =   0.3606\n",
      "\n",
      "----- output-files-bootstrap-test6b-4d-1a/bootstrap-weights-014.npy exists\n",
      "4000000\n",
      "[0.01848402 0.02817361 0.06686248 ... 0.03092934 0.08740513 0.0374242 ]\n",
      "[ 0.6176891   0.61758615 -0.72189844 ...  0.39585613  0.1060989\n",
      "  1.00935076]\n",
      "  0 0  :  mean =   0.7976, RMS =   0.7997, cov =   0.6395\n",
      "  0 1  :  rho =  -0.0027,  cov =  -0.0013\n",
      "  0 2  :  rho =  -0.2985,  cov =  -0.2390\n",
      "  0 3  :  rho =   0.3931,  cov =   0.1890\n",
      "  1 1  :  mean =   0.1015, RMS =   0.6024, cov =   0.3628\n",
      "  1 2  :  rho =   0.1979,  cov =   0.1193\n",
      "  1 3  :  rho =   0.0023,  cov =   0.0008\n",
      "  2 2  :  mean =  -0.5954, RMS =   1.0012, cov =   1.0024\n",
      "  2 3  :  rho =   0.5002,  cov =   0.3010\n",
      "  3 3  :  mean =   0.7009, RMS =   0.6010, cov =   0.3612\n",
      "\n",
      "----- output-files-bootstrap-test6b-4d-1a/bootstrap-weights-015.npy exists\n",
      "4000000\n",
      "[0.01597529 0.02800146 0.06371648 ... 0.03426644 0.08309509 0.03608349]\n",
      "[ 0.6176891   0.61758615 -0.72189844 ...  0.39585613  0.1060989\n",
      "  1.00935076]\n",
      "  0 0  :  mean =   0.7987, RMS =   0.8034, cov =   0.6455\n",
      "  0 1  :  rho =  -0.0024,  cov =  -0.0012\n",
      "  0 2  :  rho =  -0.3011,  cov =  -0.2420\n",
      "  0 3  :  rho =   0.3988,  cov =   0.1925\n",
      "  1 1  :  mean =   0.1035, RMS =   0.6028, cov =   0.3633\n",
      "  1 2  :  rho =   0.1983,  cov =   0.1195\n",
      "  1 3  :  rho =   0.0025,  cov =   0.0009\n",
      "  2 2  :  mean =  -0.6002, RMS =   1.0002, cov =   1.0004\n",
      "  2 3  :  rho =   0.4955,  cov =   0.2977\n",
      "  3 3  :  mean =   0.6986, RMS =   0.6007, cov =   0.3608\n",
      "\n",
      "----- output-files-bootstrap-test6b-4d-1a/bootstrap-weights-016.npy exists\n",
      "4000000\n",
      "[0.01840542 0.02595454 0.07486979 ... 0.03624188 0.08771832 0.03448628]\n",
      "[ 0.6176891   0.61758615 -0.72189844 ...  0.39585613  0.1060989\n",
      "  1.00935076]\n",
      "  0 0  :  mean =   0.7978, RMS =   0.8010, cov =   0.6416\n",
      "  0 1  :  rho =  -0.0035,  cov =  -0.0017\n",
      "  0 2  :  rho =  -0.2985,  cov =  -0.2392\n",
      "  0 3  :  rho =   0.3942,  cov =   0.1889\n",
      "  1 1  :  mean =   0.1002, RMS =   0.6030, cov =   0.3637\n",
      "  1 2  :  rho =   0.2005,  cov =   0.1209\n",
      "  1 3  :  rho =   0.0000,  cov =   0.0000\n",
      "  2 2  :  mean =  -0.5966, RMS =   1.0003, cov =   1.0007\n",
      "  2 3  :  rho =   0.4988,  cov =   0.2986\n",
      "  3 3  :  mean =   0.7007, RMS =   0.5983, cov =   0.3580\n",
      "\n",
      "----- output-files-bootstrap-test6b-4d-1a/bootstrap-weights-017.npy exists\n",
      "4000000\n",
      "[0.0186786  0.0311608  0.06710216 ... 0.03376565 0.08957616 0.03486754]\n",
      "[ 0.6176891   0.61758615 -0.72189844 ...  0.39585613  0.1060989\n",
      "  1.00935076]\n",
      "  0 0  :  mean =   0.7987, RMS =   0.8030, cov =   0.6448\n",
      "  0 1  :  rho =   0.0007,  cov =   0.0003\n",
      "  0 2  :  rho =  -0.2988,  cov =  -0.2401\n",
      "  0 3  :  rho =   0.3958,  cov =   0.1911\n",
      "  1 1  :  mean =   0.1008, RMS =   0.6025, cov =   0.3630\n",
      "  1 2  :  rho =   0.1966,  cov =   0.1185\n",
      "  1 3  :  rho =   0.0020,  cov =   0.0007\n",
      "  2 2  :  mean =  -0.5993, RMS =   1.0007, cov =   1.0014\n",
      "  2 3  :  rho =   0.4999,  cov =   0.3008\n",
      "  3 3  :  mean =   0.6993, RMS =   0.6012, cov =   0.3615\n",
      "\n",
      "----- output-files-bootstrap-test6b-4d-1a/bootstrap-weights-018.npy exists\n",
      "4000000\n",
      "[0.01786626 0.03046889 0.06816957 ... 0.02799451 0.08734621 0.03182954]\n",
      "[ 0.6176891   0.61758615 -0.72189844 ...  0.39585613  0.1060989\n",
      "  1.00935076]\n",
      "  0 0  :  mean =   0.8012, RMS =   0.8045, cov =   0.6472\n",
      "  0 1  :  rho =  -0.0049,  cov =  -0.0024\n",
      "  0 2  :  rho =  -0.3020,  cov =  -0.2428\n",
      "  0 3  :  rho =   0.3976,  cov =   0.1918\n",
      "  1 1  :  mean =   0.1032, RMS =   0.6021, cov =   0.3626\n",
      "  1 2  :  rho =   0.2007,  cov =   0.1208\n",
      "  1 3  :  rho =   0.0046,  cov =   0.0016\n",
      "  2 2  :  mean =  -0.5979, RMS =   0.9993, cov =   0.9987\n",
      "  2 3  :  rho =   0.4982,  cov =   0.2986\n",
      "  3 3  :  mean =   0.7014, RMS =   0.5998, cov =   0.3598\n",
      "\n",
      "----- output-files-bootstrap-test6b-4d-1a/bootstrap-weights-019.npy exists\n",
      "4000000\n",
      "[0.01741979 0.02883275 0.07164463 ... 0.03472949 0.08329226 0.03405066]\n",
      "[ 0.6176891   0.61758615 -0.72189844 ...  0.39585613  0.1060989\n",
      "  1.00935076]\n",
      "  0 0  :  mean =   0.7960, RMS =   0.8035, cov =   0.6457\n",
      "  0 1  :  rho =  -0.0018,  cov =  -0.0009\n",
      "  0 2  :  rho =  -0.3003,  cov =  -0.2408\n",
      "  0 3  :  rho =   0.3967,  cov =   0.1908\n",
      "  1 1  :  mean =   0.1010, RMS =   0.6023, cov =   0.3628\n",
      "  1 2  :  rho =   0.2011,  cov =   0.1208\n",
      "  1 3  :  rho =   0.0046,  cov =   0.0017\n",
      "  2 2  :  mean =  -0.5963, RMS =   0.9977, cov =   0.9954\n",
      "  2 3  :  rho =   0.4967,  cov =   0.2966\n",
      "  3 3  :  mean =   0.6996, RMS =   0.5986, cov =   0.3583\n",
      "\n",
      "----- output-files-bootstrap-test6b-4d-1a/bootstrap-weights-020.npy exists\n",
      "4000000\n",
      "[0.02266224 0.02588171 0.06841025 ... 0.03785985 0.0826297  0.03444535]\n",
      "[ 0.6176891   0.61758615 -0.72189844 ...  0.39585613  0.1060989\n",
      "  1.00935076]\n",
      "  0 0  :  mean =   0.7986, RMS =   0.8016, cov =   0.6426\n",
      "  0 1  :  rho =  -0.0022,  cov =  -0.0011\n",
      "  0 2  :  rho =  -0.3002,  cov =  -0.2404\n",
      "  0 3  :  rho =   0.3948,  cov =   0.1894\n",
      "  1 1  :  mean =   0.1030, RMS =   0.6046, cov =   0.3656\n",
      "  1 2  :  rho =   0.1955,  cov =   0.1181\n",
      "  1 3  :  rho =   0.0032,  cov =   0.0012\n",
      "  2 2  :  mean =  -0.5977, RMS =   0.9991, cov =   0.9982\n",
      "  2 3  :  rho =   0.5006,  cov =   0.2993\n",
      "  3 3  :  mean =   0.6988, RMS =   0.5984, cov =   0.3581\n",
      "\n",
      "----- output-files-bootstrap-test6b-4d-1a/bootstrap-weights-021.npy exists\n",
      "4000000\n",
      "[0.02159269 0.02881124 0.07013526 ... 0.0402074  0.0897885  0.03154529]\n",
      "[ 0.6176891   0.61758615 -0.72189844 ...  0.39585613  0.1060989\n",
      "  1.00935076]\n",
      "  0 0  :  mean =   0.7988, RMS =   0.8044, cov =   0.6470\n",
      "  0 1  :  rho =  -0.0021,  cov =  -0.0010\n",
      "  0 2  :  rho =  -0.2985,  cov =  -0.2405\n",
      "  0 3  :  rho =   0.3952,  cov =   0.1908\n",
      "  1 1  :  mean =   0.1006, RMS =   0.6010, cov =   0.3612\n",
      "  1 2  :  rho =   0.1978,  cov =   0.1191\n",
      "  1 3  :  rho =   0.0031,  cov =   0.0011\n",
      "  2 2  :  mean =  -0.5984, RMS =   1.0016, cov =   1.0032\n",
      "  2 3  :  rho =   0.5005,  cov =   0.3008\n",
      "  3 3  :  mean =   0.6995, RMS =   0.6001, cov =   0.3601\n",
      "\n",
      "----- output-files-bootstrap-test6b-4d-1a/bootstrap-weights-022.npy exists\n",
      "4000000\n",
      "[0.01939838 0.03117518 0.06220671 ... 0.03819713 0.08481358 0.03563934]\n",
      "[ 0.6176891   0.61758615 -0.72189844 ...  0.39585613  0.1060989\n",
      "  1.00935076]\n",
      "  0 0  :  mean =   0.7989, RMS =   0.8020, cov =   0.6432\n",
      "  0 1  :  rho =  -0.0028,  cov =  -0.0014\n",
      "  0 2  :  rho =  -0.3007,  cov =  -0.2412\n",
      "  0 3  :  rho =   0.3929,  cov =   0.1889\n",
      "  1 1  :  mean =   0.1019, RMS =   0.6035, cov =   0.3642\n",
      "  1 2  :  rho =   0.1957,  cov =   0.1181\n",
      "  1 3  :  rho =   0.0012,  cov =   0.0004\n",
      "  2 2  :  mean =  -0.5921, RMS =   1.0002, cov =   1.0005\n",
      "  2 3  :  rho =   0.4981,  cov =   0.2987\n",
      "  3 3  :  mean =   0.6996, RMS =   0.5995, cov =   0.3594\n",
      "\n",
      "----- output-files-bootstrap-test6b-4d-1a/bootstrap-weights-023.npy exists\n",
      "4000000\n",
      "[0.02153786 0.02574072 0.06360274 ... 0.0409989  0.08095888 0.03134906]\n",
      "[ 0.6176891   0.61758615 -0.72189844 ...  0.39585613  0.1060989\n",
      "  1.00935076]\n",
      "  0 0  :  mean =   0.7957, RMS =   0.8025, cov =   0.6440\n",
      "  0 1  :  rho =  -0.0054,  cov =  -0.0026\n",
      "  0 2  :  rho =  -0.2982,  cov =  -0.2405\n"
     ]
    },
    {
     "name": "stdout",
     "output_type": "stream",
     "text": [
      "  0 3  :  rho =   0.3963,  cov =   0.1907\n",
      "  1 1  :  mean =   0.1034, RMS =   0.6037, cov =   0.3644\n",
      "  1 2  :  rho =   0.1997,  cov =   0.1211\n",
      "  1 3  :  rho =  -0.0005,  cov =  -0.0002\n",
      "  2 2  :  mean =  -0.5970, RMS =   1.0050, cov =   1.0099\n",
      "  2 3  :  rho =   0.4979,  cov =   0.3000\n",
      "  3 3  :  mean =   0.6975, RMS =   0.5996, cov =   0.3595\n",
      "\n",
      "----- output-files-bootstrap-test6b-4d-1a/bootstrap-weights-024.npy exists\n",
      "4000000\n",
      "[0.0216301  0.02609871 0.06541698 ... 0.03408188 0.09194567 0.03240699]\n",
      "[ 0.6176891   0.61758615 -0.72189844 ...  0.39585613  0.1060989\n",
      "  1.00935076]\n",
      "  0 0  :  mean =   0.8020, RMS =   0.8034, cov =   0.6454\n",
      "  0 1  :  rho =  -0.0031,  cov =  -0.0015\n",
      "  0 2  :  rho =  -0.2997,  cov =  -0.2413\n",
      "  0 3  :  rho =   0.3997,  cov =   0.1925\n",
      "  1 1  :  mean =   0.1001, RMS =   0.6028, cov =   0.3634\n",
      "  1 2  :  rho =   0.1999,  cov =   0.1208\n",
      "  1 3  :  rho =   0.0015,  cov =   0.0005\n",
      "  2 2  :  mean =  -0.6049, RMS =   1.0023, cov =   1.0045\n",
      "  2 3  :  rho =   0.4959,  cov =   0.2979\n",
      "  3 3  :  mean =   0.6971, RMS =   0.5995, cov =   0.3593\n",
      "\n",
      "----- output-files-bootstrap-test6b-4d-1a/bootstrap-weights-025.npy exists\n",
      "4000000\n",
      "[0.02632161 0.02903132 0.07147442 ... 0.0411111  0.08641792 0.0344867 ]\n",
      "[ 0.6176891   0.61758615 -0.72189844 ...  0.39585613  0.1060989\n",
      "  1.00935076]\n",
      "  0 0  :  mean =   0.7997, RMS =   0.8038, cov =   0.6461\n",
      "  0 1  :  rho =  -0.0002,  cov =  -0.0001\n",
      "  0 2  :  rho =  -0.2978,  cov =  -0.2399\n",
      "  0 3  :  rho =   0.3980,  cov =   0.1924\n",
      "  1 1  :  mean =   0.1018, RMS =   0.6045, cov =   0.3654\n",
      "  1 2  :  rho =   0.1995,  cov =   0.1209\n",
      "  1 3  :  rho =   0.0034,  cov =   0.0012\n",
      "  2 2  :  mean =  -0.6009, RMS =   1.0023, cov =   1.0046\n",
      "  2 3  :  rho =   0.4980,  cov =   0.3001\n",
      "  3 3  :  mean =   0.6988, RMS =   0.6013, cov =   0.3616\n",
      "\n",
      "----- output-files-bootstrap-test6b-4d-1a/bootstrap-weights-026.npy exists\n",
      "4000000\n",
      "[0.017772   0.02812994 0.06375772 ... 0.03988325 0.0869839  0.03448501]\n",
      "[ 0.6176891   0.61758615 -0.72189844 ...  0.39585613  0.1060989\n",
      "  1.00935076]\n",
      "  0 0  :  mean =   0.7975, RMS =   0.8023, cov =   0.6437\n",
      "  0 1  :  rho =  -0.0005,  cov =  -0.0003\n",
      "  0 2  :  rho =  -0.2986,  cov =  -0.2397\n",
      "  0 3  :  rho =   0.3945,  cov =   0.1897\n",
      "  1 1  :  mean =   0.0994, RMS =   0.6032, cov =   0.3638\n",
      "  1 2  :  rho =   0.1974,  cov =   0.1191\n",
      "  1 3  :  rho =   0.0021,  cov =   0.0008\n",
      "  2 2  :  mean =  -0.6020, RMS =   1.0004, cov =   1.0008\n",
      "  2 3  :  rho =   0.4991,  cov =   0.2992\n",
      "  3 3  :  mean =   0.6973, RMS =   0.5993, cov =   0.3592\n",
      "\n",
      "----- output-files-bootstrap-test6b-4d-1a/bootstrap-weights-027.npy exists\n",
      "4000000\n",
      "[0.0186229  0.02921029 0.07012588 ... 0.0341566  0.09054612 0.03868577]\n",
      "[ 0.6176891   0.61758615 -0.72189844 ...  0.39585613  0.1060989\n",
      "  1.00935076]\n",
      "  0 0  :  mean =   0.8003, RMS =   0.8011, cov =   0.6418\n",
      "  0 1  :  rho =  -0.0049,  cov =  -0.0024\n",
      "  0 2  :  rho =  -0.3004,  cov =  -0.2405\n",
      "  0 3  :  rho =   0.3941,  cov =   0.1896\n",
      "  1 1  :  mean =   0.0989, RMS =   0.6034, cov =   0.3640\n",
      "  1 2  :  rho =   0.1991,  cov =   0.1200\n",
      "  1 3  :  rho =   0.0015,  cov =   0.0006\n",
      "  2 2  :  mean =  -0.5979, RMS =   0.9994, cov =   0.9988\n",
      "  2 3  :  rho =   0.4990,  cov =   0.2996\n",
      "  3 3  :  mean =   0.6999, RMS =   0.6007, cov =   0.3609\n",
      "\n",
      "----- output-files-bootstrap-test6b-4d-1a/bootstrap-weights-028.npy exists\n",
      "4000000\n",
      "[0.01992357 0.03486987 0.06609502 ... 0.03378544 0.08787487 0.03488648]\n",
      "[ 0.6176891   0.61758615 -0.72189844 ...  0.39585613  0.1060989\n",
      "  1.00935076]\n",
      "  0 0  :  mean =   0.7997, RMS =   0.8006, cov =   0.6409\n",
      "  0 1  :  rho =   0.0017,  cov =   0.0008\n",
      "  0 2  :  rho =  -0.2940,  cov =  -0.2344\n",
      "  0 3  :  rho =   0.3980,  cov =   0.1911\n",
      "  1 1  :  mean =   0.1016, RMS =   0.6016, cov =   0.3619\n",
      "  1 2  :  rho =   0.1965,  cov =   0.1178\n",
      "  1 3  :  rho =   0.0034,  cov =   0.0012\n",
      "  2 2  :  mean =  -0.5972, RMS =   0.9962, cov =   0.9924\n",
      "  2 3  :  rho =   0.4989,  cov =   0.2980\n",
      "  3 3  :  mean =   0.7003, RMS =   0.5997, cov =   0.3596\n",
      "\n",
      "----- output-files-bootstrap-test6b-4d-1a/bootstrap-weights-029.npy exists\n",
      "4000000\n",
      "[0.01905264 0.03258649 0.06879291 ... 0.03476138 0.09254719 0.03984527]\n",
      "[ 0.6176891   0.61758615 -0.72189844 ...  0.39585613  0.1060989\n",
      "  1.00935076]\n",
      "  0 0  :  mean =   0.7983, RMS =   0.8036, cov =   0.6458\n",
      "  0 1  :  rho =  -0.0011,  cov =  -0.0005\n",
      "  0 2  :  rho =  -0.3012,  cov =  -0.2419\n",
      "  0 3  :  rho =   0.3962,  cov =   0.1909\n",
      "  1 1  :  mean =   0.1019, RMS =   0.6009, cov =   0.3611\n",
      "  1 2  :  rho =   0.1964,  cov =   0.1179\n",
      "  1 3  :  rho =   0.0004,  cov =   0.0002\n",
      "  2 2  :  mean =  -0.5979, RMS =   0.9991, cov =   0.9982\n",
      "  2 3  :  rho =   0.4954,  cov =   0.2967\n",
      "  3 3  :  mean =   0.6992, RMS =   0.5995, cov =   0.3594\n",
      "\n",
      "----- output-files-bootstrap-test6b-4d-1a/bootstrap-weights-030.npy exists\n",
      "4000000\n",
      "[0.02057019 0.02947517 0.06291169 ... 0.03516338 0.08850441 0.04208226]\n",
      "[ 0.6176891   0.61758615 -0.72189844 ...  0.39585613  0.1060989\n",
      "  1.00935076]\n",
      "  0 0  :  mean =   0.7997, RMS =   0.8033, cov =   0.6452\n",
      "  0 1  :  rho =   0.0009,  cov =   0.0004\n",
      "  0 2  :  rho =  -0.2965,  cov =  -0.2373\n",
      "  0 3  :  rho =   0.3994,  cov =   0.1927\n",
      "  1 1  :  mean =   0.1010, RMS =   0.6015, cov =   0.3618\n",
      "  1 2  :  rho =   0.2041,  cov =   0.1224\n",
      "  1 3  :  rho =   0.0042,  cov =   0.0015\n",
      "  2 2  :  mean =  -0.5981, RMS =   0.9966, cov =   0.9932\n",
      "  2 3  :  rho =   0.4967,  cov =   0.2974\n",
      "  3 3  :  mean =   0.6999, RMS =   0.6007, cov =   0.3609\n",
      "\n",
      "----- output-files-bootstrap-test6b-4d-1a/bootstrap-weights-031.npy exists\n",
      "4000000\n",
      "[0.02034642 0.02453426 0.05964174 ... 0.03757806 0.0829198  0.03804043]\n",
      "[ 0.6176891   0.61758615 -0.72189844 ...  0.39585613  0.1060989\n",
      "  1.00935076]\n",
      "  0 0  :  mean =   0.7947, RMS =   0.8011, cov =   0.6417\n",
      "  0 1  :  rho =  -0.0042,  cov =  -0.0020\n",
      "  0 2  :  rho =  -0.2995,  cov =  -0.2394\n",
      "  0 3  :  rho =   0.3950,  cov =   0.1893\n",
      "  1 1  :  mean =   0.1016, RMS =   0.6014, cov =   0.3617\n",
      "  1 2  :  rho =   0.1992,  cov =   0.1195\n",
      "  1 3  :  rho =   0.0058,  cov =   0.0021\n",
      "  2 2  :  mean =  -0.5939, RMS =   0.9978, cov =   0.9955\n",
      "  2 3  :  rho =   0.5002,  cov =   0.2985\n",
      "  3 3  :  mean =   0.7000, RMS =   0.5981, cov =   0.3577\n",
      "\n",
      "----- output-files-bootstrap-test6b-4d-1a/bootstrap-weights-032.npy exists\n",
      "4000000\n",
      "[0.02034328 0.02584608 0.06146425 ... 0.0382904  0.09325571 0.03723416]\n",
      "[ 0.6176891   0.61758615 -0.72189844 ...  0.39585613  0.1060989\n",
      "  1.00935076]\n",
      "  0 0  :  mean =   0.7982, RMS =   0.8014, cov =   0.6422\n",
      "  0 1  :  rho =  -0.0086,  cov =  -0.0041\n",
      "  0 2  :  rho =  -0.2999,  cov =  -0.2398\n",
      "  0 3  :  rho =   0.3977,  cov =   0.1913\n",
      "  1 1  :  mean =   0.0997, RMS =   0.6029, cov =   0.3635\n",
      "  1 2  :  rho =   0.2024,  cov =   0.1218\n",
      "  1 3  :  rho =   0.0038,  cov =   0.0014\n",
      "  2 2  :  mean =  -0.5977, RMS =   0.9977, cov =   0.9955\n",
      "  2 3  :  rho =   0.4997,  cov =   0.2993\n",
      "  3 3  :  mean =   0.6986, RMS =   0.6004, cov =   0.3605\n",
      "\n",
      "----- output-files-bootstrap-test6b-4d-1a/bootstrap-weights-033.npy exists\n",
      "4000000\n",
      "[0.01925508 0.03065305 0.06627423 ... 0.03600942 0.08536692 0.03911577]\n",
      "[ 0.6176891   0.61758615 -0.72189844 ...  0.39585613  0.1060989\n",
      "  1.00935076]\n",
      "  0 0  :  mean =   0.7982, RMS =   0.8012, cov =   0.6419\n",
      "  0 1  :  rho =  -0.0013,  cov =  -0.0006\n",
      "  0 2  :  rho =  -0.2965,  cov =  -0.2375\n",
      "  0 3  :  rho =   0.3974,  cov =   0.1910\n",
      "  1 1  :  mean =   0.1004, RMS =   0.6025, cov =   0.3630\n",
      "  1 2  :  rho =   0.1958,  cov =   0.1179\n",
      "  1 3  :  rho =   0.0005,  cov =   0.0002\n",
      "  2 2  :  mean =  -0.5944, RMS =   0.9999, cov =   0.9998\n",
      "  2 3  :  rho =   0.4990,  cov =   0.2993\n",
      "  3 3  :  mean =   0.6991, RMS =   0.5998, cov =   0.3597\n",
      "\n",
      "----- output-files-bootstrap-test6b-4d-1a/bootstrap-weights-034.npy exists\n",
      "4000000\n",
      "[0.01847394 0.02690544 0.06381109 ... 0.03724591 0.08500004 0.03282638]\n",
      "[ 0.6176891   0.61758615 -0.72189844 ...  0.39585613  0.1060989\n",
      "  1.00935076]\n",
      "  0 0  :  mean =   0.7994, RMS =   0.8029, cov =   0.6446\n",
      "  0 1  :  rho =  -0.0050,  cov =  -0.0024\n",
      "  0 2  :  rho =  -0.2990,  cov =  -0.2406\n",
      "  0 3  :  rho =   0.3943,  cov =   0.1906\n",
      "  1 1  :  mean =   0.1021, RMS =   0.6026, cov =   0.3631\n",
      "  1 2  :  rho =   0.1993,  cov =   0.1204\n",
      "  1 3  :  rho =   0.0049,  cov =   0.0018\n",
      "  2 2  :  mean =  -0.6010, RMS =   1.0024, cov =   1.0047\n",
      "  2 3  :  rho =   0.5016,  cov =   0.3027\n",
      "  3 3  :  mean =   0.7011, RMS =   0.6021, cov =   0.3626\n",
      "\n",
      "----- output-files-bootstrap-test6b-4d-1a/bootstrap-weights-035.npy exists\n",
      "4000000\n",
      "[0.01846703 0.0304332  0.06162508 ... 0.04134064 0.0875513  0.03858901]\n",
      "[ 0.6176891   0.61758615 -0.72189844 ...  0.39585613  0.1060989\n",
      "  1.00935076]\n",
      "  0 0  :  mean =   0.8003, RMS =   0.8046, cov =   0.6474\n",
      "  0 1  :  rho =   0.0021,  cov =   0.0010\n",
      "  0 2  :  rho =  -0.2992,  cov =  -0.2409\n"
     ]
    },
    {
     "name": "stdout",
     "output_type": "stream",
     "text": [
      "  0 3  :  rho =   0.3979,  cov =   0.1924\n",
      "  1 1  :  mean =   0.1006, RMS =   0.6020, cov =   0.3624\n",
      "  1 2  :  rho =   0.1975,  cov =   0.1189\n",
      "  1 3  :  rho =   0.0032,  cov =   0.0012\n",
      "  2 2  :  mean =  -0.5961, RMS =   1.0005, cov =   1.0010\n",
      "  2 3  :  rho =   0.4992,  cov =   0.3002\n",
      "  3 3  :  mean =   0.6998, RMS =   0.6010, cov =   0.3612\n",
      "\n",
      "----- output-files-bootstrap-test6b-4d-1a/bootstrap-weights-036.npy exists\n",
      "4000000\n",
      "[0.01934269 0.0276802  0.06044491 ... 0.03982877 0.08754407 0.03845167]\n",
      "[ 0.6176891   0.61758615 -0.72189844 ...  0.39585613  0.1060989\n",
      "  1.00935076]\n",
      "  0 0  :  mean =   0.8003, RMS =   0.8010, cov =   0.6415\n",
      "  0 1  :  rho =  -0.0005,  cov =  -0.0003\n",
      "  0 2  :  rho =  -0.2978,  cov =  -0.2390\n",
      "  0 3  :  rho =   0.3923,  cov =   0.1887\n",
      "  1 1  :  mean =   0.1036, RMS =   0.6016, cov =   0.3619\n",
      "  1 2  :  rho =   0.1972,  cov =   0.1189\n",
      "  1 3  :  rho =   0.0031,  cov =   0.0011\n",
      "  2 2  :  mean =  -0.5972, RMS =   1.0020, cov =   1.0041\n",
      "  2 3  :  rho =   0.5027,  cov =   0.3026\n",
      "  3 3  :  mean =   0.7004, RMS =   0.6007, cov =   0.3609\n",
      "\n",
      "----- output-files-bootstrap-test6b-4d-1a/bootstrap-weights-037.npy exists\n",
      "4000000\n",
      "[0.02062148 0.02554134 0.06328807 ... 0.03682006 0.08549302 0.03575464]\n",
      "[ 0.6176891   0.61758615 -0.72189844 ...  0.39585613  0.1060989\n",
      "  1.00935076]\n",
      "  0 0  :  mean =   0.7970, RMS =   0.8022, cov =   0.6435\n",
      "  0 1  :  rho =   0.0010,  cov =   0.0005\n",
      "  0 2  :  rho =  -0.2957,  cov =  -0.2375\n",
      "  0 3  :  rho =   0.3995,  cov =   0.1931\n",
      "  1 1  :  mean =   0.1043, RMS =   0.6008, cov =   0.3609\n",
      "  1 2  :  rho =   0.1986,  cov =   0.1195\n",
      "  1 3  :  rho =   0.0032,  cov =   0.0012\n",
      "  2 2  :  mean =  -0.5967, RMS =   1.0013, cov =   1.0026\n",
      "  2 3  :  rho =   0.5002,  cov =   0.3018\n",
      "  3 3  :  mean =   0.6980, RMS =   0.6025, cov =   0.3630\n",
      "\n",
      "----- output-files-bootstrap-test6b-4d-1a/bootstrap-weights-038.npy exists\n",
      "4000000\n",
      "[0.02119233 0.03059009 0.06645487 ... 0.03763474 0.07896559 0.03652127]\n",
      "[ 0.6176891   0.61758615 -0.72189844 ...  0.39585613  0.1060989\n",
      "  1.00935076]\n",
      "  0 0  :  mean =   0.7986, RMS =   0.8059, cov =   0.6494\n",
      "  0 1  :  rho =  -0.0006,  cov =  -0.0003\n",
      "  0 2  :  rho =  -0.3028,  cov =  -0.2445\n",
      "  0 3  :  rho =   0.3959,  cov =   0.1912\n",
      "  1 1  :  mean =   0.1030, RMS =   0.6034, cov =   0.3641\n",
      "  1 2  :  rho =   0.1987,  cov =   0.1201\n",
      "  1 3  :  rho =   0.0055,  cov =   0.0020\n",
      "  2 2  :  mean =  -0.5959, RMS =   1.0018, cov =   1.0037\n",
      "  2 3  :  rho =   0.4966,  cov =   0.2982\n",
      "  3 3  :  mean =   0.6999, RMS =   0.5993, cov =   0.3591\n",
      "\n",
      "----- output-files-bootstrap-test6b-4d-1a/bootstrap-weights-039.npy exists\n",
      "4000000\n",
      "[0.02316151 0.02352633 0.07133114 ... 0.0366443  0.08353726 0.03611842]\n",
      "[ 0.6176891   0.61758615 -0.72189844 ...  0.39585613  0.1060989\n",
      "  1.00935076]\n",
      "  0 0  :  mean =   0.7965, RMS =   0.8014, cov =   0.6423\n",
      "  0 1  :  rho =  -0.0024,  cov =  -0.0011\n",
      "  0 2  :  rho =  -0.2971,  cov =  -0.2383\n",
      "  0 3  :  rho =   0.3960,  cov =   0.1905\n",
      "  1 1  :  mean =   0.0998, RMS =   0.6009, cov =   0.3611\n",
      "  1 2  :  rho =   0.2037,  cov =   0.1225\n",
      "  1 3  :  rho =   0.0079,  cov =   0.0028\n",
      "  2 2  :  mean =  -0.5980, RMS =   1.0005, cov =   1.0011\n",
      "  2 3  :  rho =   0.5004,  cov =   0.3005\n",
      "  3 3  :  mean =   0.7000, RMS =   0.6002, cov =   0.3603\n",
      "\n",
      "----- output-files-bootstrap-test6b-4d-1a/bootstrap-weights-040.npy exists\n",
      "4000000\n",
      "[0.01740093 0.02949529 0.06792548 ... 0.03401908 0.08268074 0.03494073]\n",
      "[ 0.6176891   0.61758615 -0.72189844 ...  0.39585613  0.1060989\n",
      "  1.00935076]\n",
      "  0 0  :  mean =   0.7963, RMS =   0.8030, cov =   0.6448\n",
      "  0 1  :  rho =  -0.0009,  cov =  -0.0004\n",
      "  0 2  :  rho =  -0.2992,  cov =  -0.2413\n",
      "  0 3  :  rho =   0.3949,  cov =   0.1906\n",
      "  1 1  :  mean =   0.1016, RMS =   0.6023, cov =   0.3628\n",
      "  1 2  :  rho =   0.2010,  cov =   0.1216\n",
      "  1 3  :  rho =   0.0026,  cov =   0.0009\n",
      "  2 2  :  mean =  -0.5977, RMS =   1.0042, cov =   1.0084\n",
      "  2 3  :  rho =   0.5019,  cov =   0.3030\n",
      "  3 3  :  mean =   0.6984, RMS =   0.6011, cov =   0.3613\n",
      "\n",
      "----- output-files-bootstrap-test6b-4d-1a/bootstrap-weights-041.npy exists\n",
      "4000000\n",
      "[0.01990203 0.02779301 0.06734119 ... 0.03465065 0.07481467 0.03372695]\n",
      "[ 0.6176891   0.61758615 -0.72189844 ...  0.39585613  0.1060989\n",
      "  1.00935076]\n",
      "  0 0  :  mean =   0.7987, RMS =   0.8022, cov =   0.6435\n",
      "  0 1  :  rho =  -0.0024,  cov =  -0.0011\n",
      "  0 2  :  rho =  -0.2980,  cov =  -0.2392\n",
      "  0 3  :  rho =   0.3965,  cov =   0.1908\n",
      "  1 1  :  mean =   0.1025, RMS =   0.6023, cov =   0.3627\n",
      "  1 2  :  rho =   0.2039,  cov =   0.1229\n",
      "  1 3  :  rho =   0.0075,  cov =   0.0027\n",
      "  2 2  :  mean =  -0.5969, RMS =   1.0005, cov =   1.0011\n",
      "  2 3  :  rho =   0.5021,  cov =   0.3013\n",
      "  3 3  :  mean =   0.6998, RMS =   0.5998, cov =   0.3597\n",
      "\n",
      "----- output-files-bootstrap-test6b-4d-1a/bootstrap-weights-042.npy exists\n",
      "4000000\n",
      "[0.02159387 0.02727189 0.06794893 ... 0.03294109 0.07764562 0.03812863]\n",
      "[ 0.6176891   0.61758615 -0.72189844 ...  0.39585613  0.1060989\n",
      "  1.00935076]\n",
      "  0 0  :  mean =   0.7984, RMS =   0.8035, cov =   0.6456\n",
      "  0 1  :  rho =  -0.0059,  cov =  -0.0028\n",
      "  0 2  :  rho =  -0.2991,  cov =  -0.2403\n",
      "  0 3  :  rho =   0.3949,  cov =   0.1902\n",
      "  1 1  :  mean =   0.1019, RMS =   0.6011, cov =   0.3613\n",
      "  1 2  :  rho =   0.2017,  cov =   0.1212\n",
      "  1 3  :  rho =   0.0025,  cov =   0.0009\n",
      "  2 2  :  mean =  -0.5982, RMS =   1.0002, cov =   1.0003\n",
      "  2 3  :  rho =   0.5004,  cov =   0.3000\n",
      "  3 3  :  mean =   0.6994, RMS =   0.5994, cov =   0.3593\n",
      "\n",
      "----- output-files-bootstrap-test6b-4d-1a/bootstrap-weights-043.npy exists\n",
      "4000000\n",
      "[0.01961001 0.0274867  0.07074639 ... 0.03398644 0.07651084 0.03043612]\n",
      "[ 0.6176891   0.61758615 -0.72189844 ...  0.39585613  0.1060989\n",
      "  1.00935076]\n",
      "  0 0  :  mean =   0.7972, RMS =   0.8006, cov =   0.6409\n",
      "  0 1  :  rho =   0.0002,  cov =   0.0001\n",
      "  0 2  :  rho =  -0.2965,  cov =  -0.2369\n",
      "  0 3  :  rho =   0.3940,  cov =   0.1893\n",
      "  1 1  :  mean =   0.0997, RMS =   0.6038, cov =   0.3646\n",
      "  1 2  :  rho =   0.1995,  cov =   0.1202\n",
      "  1 3  :  rho =   0.0021,  cov =   0.0008\n",
      "  2 2  :  mean =  -0.5985, RMS =   0.9983, cov =   0.9965\n",
      "  2 3  :  rho =   0.5020,  cov =   0.3007\n",
      "  3 3  :  mean =   0.7002, RMS =   0.6001, cov =   0.3601\n",
      "\n",
      "----- output-files-bootstrap-test6b-4d-1a/bootstrap-weights-044.npy exists\n",
      "4000000\n",
      "[0.01944506 0.03001714 0.06701205 ... 0.03597992 0.07550161 0.02978257]\n",
      "[ 0.6176891   0.61758615 -0.72189844 ...  0.39585613  0.1060989\n",
      "  1.00935076]\n",
      "  0 0  :  mean =   0.8018, RMS =   0.8046, cov =   0.6474\n",
      "  0 1  :  rho =   0.0010,  cov =   0.0005\n",
      "  0 2  :  rho =  -0.3006,  cov =  -0.2420\n",
      "  0 3  :  rho =   0.3953,  cov =   0.1911\n",
      "  1 1  :  mean =   0.1030, RMS =   0.6036, cov =   0.3643\n",
      "  1 2  :  rho =   0.1978,  cov =   0.1194\n",
      "  1 3  :  rho =   0.0056,  cov =   0.0020\n",
      "  2 2  :  mean =  -0.6005, RMS =   1.0004, cov =   1.0008\n",
      "  2 3  :  rho =   0.4985,  cov =   0.2996\n",
      "  3 3  :  mean =   0.6995, RMS =   0.6009, cov =   0.3611\n",
      "\n",
      "----- output-files-bootstrap-test6b-4d-1a/bootstrap-weights-045.npy exists\n",
      "4000000\n",
      "[0.02200432 0.03283327 0.05960795 ... 0.03474175 0.07494202 0.03557321]\n",
      "[ 0.6176891   0.61758615 -0.72189844 ...  0.39585613  0.1060989\n",
      "  1.00935076]\n",
      "  0 0  :  mean =   0.7986, RMS =   0.8028, cov =   0.6445\n",
      "  0 1  :  rho =  -0.0043,  cov =  -0.0021\n",
      "  0 2  :  rho =  -0.2952,  cov =  -0.2366\n",
      "  0 3  :  rho =   0.3994,  cov =   0.1920\n",
      "  1 1  :  mean =   0.1052, RMS =   0.6023, cov =   0.3627\n",
      "  1 2  :  rho =   0.2043,  cov =   0.1228\n",
      "  1 3  :  rho =   0.0077,  cov =   0.0028\n",
      "  2 2  :  mean =  -0.5957, RMS =   0.9982, cov =   0.9964\n",
      "  2 3  :  rho =   0.4981,  cov =   0.2978\n",
      "  3 3  :  mean =   0.7016, RMS =   0.5988, cov =   0.3586\n",
      "\n",
      "----- output-files-bootstrap-test6b-4d-1a/bootstrap-weights-046.npy exists\n",
      "4000000\n",
      "[0.02290955 0.03046753 0.0640317  ... 0.04090841 0.08013656 0.03667112]\n",
      "[ 0.6176891   0.61758615 -0.72189844 ...  0.39585613  0.1060989\n",
      "  1.00935076]\n",
      "  0 0  :  mean =   0.8005, RMS =   0.8014, cov =   0.6422\n",
      "  0 1  :  rho =   0.0001,  cov =   0.0001\n",
      "  0 2  :  rho =  -0.3009,  cov =  -0.2420\n",
      "  0 3  :  rho =   0.3929,  cov =   0.1895\n",
      "  1 1  :  mean =   0.1014, RMS =   0.6039, cov =   0.3647\n",
      "  1 2  :  rho =   0.2017,  cov =   0.1222\n",
      "  1 3  :  rho =   0.0044,  cov =   0.0016\n",
      "  2 2  :  mean =  -0.5994, RMS =   1.0035, cov =   1.0070\n",
      "  2 3  :  rho =   0.4992,  cov =   0.3015\n",
      "  3 3  :  mean =   0.6992, RMS =   0.6017, cov =   0.3621\n",
      "\n",
      "----- output-files-bootstrap-test6b-4d-1a/bootstrap-weights-047.npy exists\n",
      "4000000\n",
      "[0.02043713 0.02795096 0.06724493 ... 0.03524754 0.08780963 0.03399953]\n",
      "[ 0.6176891   0.61758615 -0.72189844 ...  0.39585613  0.1060989\n",
      "  1.00935076]\n",
      "  0 0  :  mean =   0.8018, RMS =   0.8061, cov =   0.6497\n",
      "  0 1  :  rho =  -0.0010,  cov =  -0.0005\n",
      "  0 2  :  rho =  -0.2949,  cov =  -0.2375\n"
     ]
    },
    {
     "name": "stdout",
     "output_type": "stream",
     "text": [
      "  0 3  :  rho =   0.3979,  cov =   0.1924\n",
      "  1 1  :  mean =   0.1023, RMS =   0.6004, cov =   0.3605\n",
      "  1 2  :  rho =   0.1991,  cov =   0.1194\n",
      "  1 3  :  rho =   0.0023,  cov =   0.0008\n",
      "  2 2  :  mean =  -0.5987, RMS =   0.9989, cov =   0.9979\n",
      "  2 3  :  rho =   0.4986,  cov =   0.2988\n",
      "  3 3  :  mean =   0.7011, RMS =   0.5999, cov =   0.3599\n",
      "\n",
      "----- output-files-bootstrap-test6b-4d-1a/bootstrap-weights-048.npy exists\n",
      "4000000\n",
      "[0.01796733 0.02686152 0.06610249 ... 0.03642186 0.09099682 0.03448119]\n",
      "[ 0.6176891   0.61758615 -0.72189844 ...  0.39585613  0.1060989\n",
      "  1.00935076]\n",
      "  0 0  :  mean =   0.8015, RMS =   0.8014, cov =   0.6423\n",
      "  0 1  :  rho =  -0.0050,  cov =  -0.0024\n",
      "  0 2  :  rho =  -0.2923,  cov =  -0.2338\n",
      "  0 3  :  rho =   0.3990,  cov =   0.1925\n",
      "  1 1  :  mean =   0.1001, RMS =   0.6037, cov =   0.3645\n",
      "  1 2  :  rho =   0.2020,  cov =   0.1217\n",
      "  1 3  :  rho =   0.0035,  cov =   0.0013\n",
      "  2 2  :  mean =  -0.5994, RMS =   0.9982, cov =   0.9964\n",
      "  2 3  :  rho =   0.5025,  cov =   0.3020\n",
      "  3 3  :  mean =   0.7006, RMS =   0.6019, cov =   0.3623\n",
      "\n",
      "----- output-files-bootstrap-test6b-4d-1a/bootstrap-weights-049.npy exists\n",
      "4000000\n",
      "[0.01970835 0.02620249 0.06803175 ... 0.03873058 0.08611505 0.035575  ]\n",
      "[ 0.6176891   0.61758615 -0.72189844 ...  0.39585613  0.1060989\n",
      "  1.00935076]\n",
      "  0 0  :  mean =   0.8004, RMS =   0.8033, cov =   0.6452\n",
      "  0 1  :  rho =  -0.0013,  cov =  -0.0006\n",
      "  0 2  :  rho =  -0.3022,  cov =  -0.2424\n",
      "  0 3  :  rho =   0.3942,  cov =   0.1901\n",
      "  1 1  :  mean =   0.1029, RMS =   0.6027, cov =   0.3633\n",
      "  1 2  :  rho =   0.1973,  cov =   0.1187\n",
      "  1 3  :  rho =   0.0051,  cov =   0.0019\n",
      "  2 2  :  mean =  -0.5986, RMS =   0.9985, cov =   0.9969\n",
      "  2 3  :  rho =   0.4981,  cov =   0.2985\n",
      "  3 3  :  mean =   0.7015, RMS =   0.6003, cov =   0.3604\n",
      "CPU times: user 23.8 s, sys: 223 ms, total: 24 s\n",
      "Wall time: 23.9 s\n"
     ]
    }
   ],
   "source": [
    "%%time\n",
    "\n",
    "all_mean = np.zeros( shape=(ndim,n_samples) )\n",
    "all_rms = np.zeros( shape=(ndim,n_samples) )\n",
    "all_cov = np.zeros( shape=(ndim,ndim,n_samples) )\n",
    "all_rho = np.zeros( shape=(ndim,ndim,n_samples) )\n",
    "\n",
    "\n",
    "si = 0\n",
    "\n",
    "for fi in range(200) :\n",
    "    \n",
    "    fname = '%s/bootstrap-weights-%03d.npy' % (input_dir, fi)\n",
    "    \n",
    "    if exists(fname) :\n",
    "        \n",
    "        print('\\n----- %s exists' % fname )\n",
    "        \n",
    "        with open(fname,'rb') as f :\n",
    "            \n",
    "            final_push_weights_scaled = np.load(f)\n",
    "            print( len(final_push_weights_scaled))\n",
    "            print( final_push_weights_scaled )\n",
    "            print( true_pts[:,0])\n",
    "            \n",
    "            for fi1 in range(ndim) :\n",
    "                for fi2 in range(fi1,ndim) :\n",
    "                    mean_cov = calc_mean_cov( final_push_weights_scaled, fi1, fi2 )\n",
    "                    all_cov[fi1,fi2,si] = mean_cov[\"cov_x1x2\"]\n",
    "                    all_cov[fi2,fi1,si] = mean_cov[\"cov_x1x2\"]\n",
    "                    if ( fi1 == fi2 ) :\n",
    "                        print( \"  %d %d  :  mean = %8.4f, RMS = %8.4f, cov = %8.4f\" % \n",
    "                              (fi1, fi2, mean_cov[\"mean_x1\"], mean_cov[\"rms1\"], mean_cov[\"cov_x1x2\"]))\n",
    "                        all_mean[fi1,si] = mean_cov[\"mean_x1\"]\n",
    "                        all_rms[fi1,si] = mean_cov[\"rms1\"]\n",
    "                    else :\n",
    "                        print( \"  %d %d  :  rho = %8.4f,  cov = %8.4f\" %\n",
    "                              (fi1, fi2, mean_cov[\"rho12\"], mean_cov[\"cov_x1x2\"]) )\n",
    "                        all_rho[fi1,fi2,si] = mean_cov[\"rho12\"]\n",
    "                        all_rho[fi2,fi1,si] = mean_cov[\"rho12\"]\n",
    "                        \n",
    "        si = si + 1\n",
    "        \n",
    "            "
   ]
  },
  {
   "cell_type": "code",
   "execution_count": 22,
   "id": "04d3f4ab",
   "metadata": {},
   "outputs": [
    {
     "data": {
      "text/plain": [
       "<function matplotlib.pyplot.show(close=None, block=None)>"
      ]
     },
     "execution_count": 22,
     "metadata": {},
     "output_type": "execute_result"
    },
    {
     "data": {
      "image/png": "[encoded data removed]",
      "text/plain": [
       "<Figure size 1440x720 with 8 Axes>"
      ]
     },
     "metadata": {
      "needs_background": "light"
     },
     "output_type": "display_data"
    }
   ],
   "source": [
    "fig,ax = plt.subplots( 2, 4, figsize=(20,10))\n",
    "\n",
    "ymax = 10\n",
    "\n",
    "for i in range(ndim) :\n",
    "    \n",
    "    ax[0][i].hist( all_mean[i], bins=40)\n",
    "    ax[1][i].hist( all_rms[i], bins=40)\n",
    "    \n",
    "    ax[0][i].plot( (true_mu[i], true_mu[i]), (0,ymax), linewidth=3 )\n",
    "    ax[1][i].plot( (true_sig[i], true_sig[i]), (0,ymax), linewidth=3 )\n",
    "\n",
    "plt.show"
   ]
  },
  {
   "cell_type": "code",
   "execution_count": 23,
   "id": "8c9863c9",
   "metadata": {},
   "outputs": [
    {
     "data": {
      "text/plain": [
       "<function matplotlib.pyplot.show(close=None, block=None)>"
      ]
     },
     "execution_count": 23,
     "metadata": {},
     "output_type": "execute_result"
    },
    {
     "data": {
      "image/png": "[encoded data removed]",
      "text/plain": [
       "<Figure size 1440x1440 with 16 Axes>"
      ]
     },
     "metadata": {
      "needs_background": "light"
     },
     "output_type": "display_data"
    }
   ],
   "source": [
    "fig,ax = plt.subplots( 4, 4, figsize=(20,20))\n",
    "\n",
    "ymax = 10\n",
    "\n",
    "for i in range(0,ndim-1) :\n",
    "    \n",
    "    for j in range(i+1,ndim) :\n",
    "        \n",
    "        k = ndim - j - 1\n",
    "        \n",
    "        ax[i][j].hist( all_rho[i,j], bins=40)\n",
    "        \n",
    "        ax[i][j].plot( (true_rho[i][k], true_rho[i][k]), (0, ymax), linewidth=3 )\n",
    "    \n",
    "\n",
    "\n",
    "plt.show"
   ]
  },
  {
   "cell_type": "code",
   "execution_count": null,
   "id": "b443d87d",
   "metadata": {},
   "outputs": [],
   "source": []
  },
  {
   "cell_type": "code",
   "execution_count": 24,
   "id": "f27c1fdd",
   "metadata": {},
   "outputs": [
    {
     "name": "stdout",
     "output_type": "stream",
     "text": [
      "\n",
      "\n",
      "  feature 0  :  mean   ave   0.7987  (true   0.8000), rms   0.0018\n",
      "  feature 1  :  mean   ave   0.1015  (true   0.1000), rms   0.0016\n",
      "  feature 2  :  mean   ave  -0.5979  (true  -0.6000), rms   0.0026\n",
      "  feature 3  :  mean   ave   0.6996  (true   0.7000), rms   0.0012\n",
      "\n",
      "\n",
      "  feature 0  :  RMS    ave   0.8026  (true   0.8000), rms   0.0017\n",
      "  feature 1  :  RMS    ave   0.6025  (true   0.6000), rms   0.0012\n",
      "  feature 2  :  RMS    ave   1.0004  (true   1.0000), rms   0.0019\n",
      "  feature 3  :  RMS    ave   0.6003  (true   0.6000), rms   0.0011\n",
      "\n",
      "\n",
      "  feature 0, 1  :  rho    ave  -0.0024  (true   0.0000), rms   0.0023\n",
      "  feature 0, 2  :  rho    ave  -0.2989  (true  -0.3000), rms   0.0024\n",
      "  feature 0, 3  :  rho    ave   0.3961  (true   0.4000), rms   0.0021\n",
      "  feature 1, 2  :  rho    ave   0.2000  (true   0.2000), rms   0.0026\n",
      "  feature 1, 3  :  rho    ave   0.0032  (true   0.0000), rms   0.0020\n",
      "  feature 2, 3  :  rho    ave   0.4992  (true   0.5000), rms   0.0021\n",
      "\n",
      "\n",
      "  feature 0, 0  :  cov    ave   0.6441  (true   0.6400), rms   0.0027\n",
      "  feature 0, 1  :  cov    ave  -0.0012  (true   0.0000), rms   0.0011\n",
      "  feature 0, 2  :  cov    ave  -0.2400  (true  -0.2400), rms   0.0023\n",
      "  feature 0, 3  :  cov    ave   0.1908  (true   0.1920), rms   0.0013\n",
      "  feature 1, 1  :  cov    ave   0.3630  (true   0.3600), rms   0.0014\n",
      "  feature 1, 2  :  cov    ave   0.1206  (true   0.1200), rms   0.0016\n",
      "  feature 1, 3  :  cov    ave   0.0012  (true   0.0000), rms   0.0007\n",
      "  feature 2, 2  :  cov    ave   1.0008  (true   1.0000), rms   0.0039\n",
      "  feature 2, 3  :  cov    ave   0.2998  (true   0.3000), rms   0.0017\n",
      "  feature 3, 3  :  cov    ave   0.3604  (true   0.3600), rms   0.0013\n",
      "\n",
      "\n"
     ]
    }
   ],
   "source": [
    "print('\\n')\n",
    "\n",
    "ave_mean = np.zeros( ndim )\n",
    "rms_mean = np.zeros( ndim )\n",
    "\n",
    "ave_cov = np.zeros( shape=(ndim,ndim) )\n",
    "rms_cov = np.zeros( shape=(ndim,ndim) )\n",
    "\n",
    "\n",
    "for fi in range(ndim) :\n",
    "    \n",
    "    ave_mean[fi] = np.mean( all_mean[fi] )\n",
    "    ave_mean2 = np.mean( all_mean[fi]*all_mean[fi])\n",
    "    rms_mean[fi] = np.sqrt( ave_mean2 - ave_mean[fi]*ave_mean[fi] )\n",
    "    print(\"  feature %d  :  mean   ave %8.4f  (true %8.4f), rms %8.4f\" % (fi, ave_mean[fi], true_mu[fi], rms_mean[fi] ))\n",
    "    \n",
    "print('\\n')\n",
    "\n",
    "for fi in range(ndim) :\n",
    "    \n",
    "    ave_rms = np.mean( all_rms[fi] )\n",
    "    ave_rms2 = np.mean( all_rms[fi]*all_rms[fi])\n",
    "    rms_rms = np.sqrt( ave_rms2 - ave_rms*ave_rms )\n",
    "    print(\"  feature %d  :  RMS    ave %8.4f  (true %8.4f), rms %8.4f\" % (fi, ave_rms, true_sig[fi], rms_rms ))\n",
    "    \n",
    "print('\\n')\n",
    "\n",
    "for fi1 in range(0,ndim-1) :\n",
    "    for fi2 in range(fi1+1, ndim) :\n",
    "        k = ndim - fi2 - 1\n",
    "        ave_rho = np.mean( all_rho[fi1,fi2])\n",
    "        ave_rho2 = np.mean( all_rho[fi1,fi2]*all_rho[fi1,fi2] )\n",
    "        rms_rho = np.sqrt( ave_rho2 - ave_rho*ave_rho )\n",
    "        print(\"  feature %d, %d  :  rho    ave %8.4f  (true %8.4f), rms %8.4f\" % ( fi1, fi2, ave_rho, true_rho[fi1][k], rms_rho ))\n",
    "        \n",
    "print(\"\\n\")\n",
    "\n",
    "for fi1 in range(0,ndim) :\n",
    "    for fi2 in range(fi1,ndim) :\n",
    "        ave_cov[fi1,fi2] = np.mean( all_cov[fi1][fi2] )\n",
    "        ave_cov2 = np.mean( all_cov[fi1][fi2]*all_cov[fi1][fi2] )\n",
    "        rms_cov[fi1,fi2] = np.sqrt( ave_cov2 - ave_cov[fi1,fi2]*ave_cov[fi1,fi2] )\n",
    "        print(\"  feature %d, %d  :  cov    ave %8.4f  (true %8.4f), rms %8.4f\" %\n",
    "              (fi1, fi2, ave_cov[fi1,fi2], true_cov[fi1,fi2], rms_cov[fi1,fi2] ) )\n",
    "\n",
    "print(\"\\n\")"
   ]
  },
  {
   "cell_type": "code",
   "execution_count": null,
   "id": "9e67026d",
   "metadata": {},
   "outputs": [],
   "source": []
  },
  {
   "cell_type": "code",
   "execution_count": null,
   "id": "5e57da2c",
   "metadata": {},
   "outputs": [],
   "source": []
  },
  {
   "cell_type": "markdown",
   "id": "bf96d999",
   "metadata": {},
   "source": [
    "## Save the simple direct calculation results for setting fit parameter ranges from RMS."
   ]
  },
  {
   "cell_type": "code",
   "execution_count": 25,
   "id": "c63bfb8e",
   "metadata": {},
   "outputs": [],
   "source": [
    "with open( '%s/simple-calc-results.npy' % input_dir, 'wb' ) as f :\n",
    "    np.save( f, ave_mean )\n",
    "    np.save( f, rms_mean )\n",
    "    np.save( f, ave_cov )\n",
    "    np.save( f, rms_cov )"
   ]
  },
  {
   "cell_type": "code",
   "execution_count": null,
   "id": "3b9a8d6f",
   "metadata": {},
   "outputs": [],
   "source": []
  },
  {
   "cell_type": "code",
   "execution_count": null,
   "id": "81e9f657",
   "metadata": {},
   "outputs": [],
   "source": []
  },
  {
   "cell_type": "code",
   "execution_count": null,
   "id": "11a9ad8f",
   "metadata": {},
   "outputs": [],
   "source": []
  },
  {
   "cell_type": "code",
   "execution_count": 26,
   "id": "78ccb589",
   "metadata": {
    "scrolled": true
   },
   "outputs": [
    {
     "name": "stdout",
     "output_type": "stream",
     "text": [
      "  sample   0 :  mean1   calc    0.1004  fit   0.1004\n",
      "  sample   1 :  mean1   calc    0.1033  fit   0.1034\n",
      "  sample   2 :  mean1   calc    0.1018  fit   0.1018\n",
      "  sample   3 :  mean1   calc    0.1013  fit   0.1013\n",
      "  sample   4 :  mean1   calc    0.1004  fit   0.1004\n",
      "  sample   5 :  mean1   calc    0.1027  fit   0.1027\n",
      "  sample   6 :  mean1   calc    0.0982  fit   0.0982\n",
      "  sample   7 :  mean1   calc    0.1003  fit   0.1003\n",
      "  sample   8 :  mean1   calc    0.1016  fit   0.1016\n",
      "  sample   9 :  mean1   calc    0.1034  fit   0.1034\n",
      "  sample  10 :  mean1   calc    0.1003  fit   0.1003\n",
      "  sample  11 :  mean1   calc    0.0978  fit   0.0978\n",
      "  sample  12 :  mean1   calc    0.1031  fit   0.1031\n",
      "  sample  13 :  mean1   calc    0.0993  fit   0.0993\n",
      "  sample  14 :  mean1   calc    0.1015  fit   0.1015\n",
      "  sample  15 :  mean1   calc    0.1035  fit   0.1035\n",
      "  sample  16 :  mean1   calc    0.1002  fit   0.1002\n",
      "  sample  17 :  mean1   calc    0.1008  fit   0.1008\n",
      "  sample  18 :  mean1   calc    0.1032  fit   0.1032\n",
      "  sample  19 :  mean1   calc    0.1010  fit   0.1010\n",
      "  sample  20 :  mean1   calc    0.1030  fit   0.1030\n",
      "  sample  21 :  mean1   calc    0.1006  fit   0.1006\n",
      "  sample  22 :  mean1   calc    0.1019  fit   0.1019\n",
      "  sample  23 :  mean1   calc    0.1034  fit   0.1034\n",
      "  sample  24 :  mean1   calc    0.1001  fit   0.1001\n",
      "  sample  25 :  mean1   calc    0.1018  fit   0.1018\n",
      "  sample  26 :  mean1   calc    0.0994  fit   0.0994\n",
      "  sample  27 :  mean1   calc    0.0989  fit   0.0989\n",
      "  sample  28 :  mean1   calc    0.1016  fit   0.1016\n",
      "  sample  29 :  mean1   calc    0.1019  fit   0.1019\n",
      "  sample  30 :  mean1   calc    0.1010  fit   0.1010\n",
      "  sample  31 :  mean1   calc    0.1016  fit   0.1016\n",
      "  sample  32 :  mean1   calc    0.0997  fit   0.0997\n",
      "  sample  33 :  mean1   calc    0.1004  fit   0.1004\n",
      "  sample  34 :  mean1   calc    0.1021  fit   0.1021\n",
      "  sample  35 :  mean1   calc    0.1006  fit   0.1006\n",
      "  sample  36 :  mean1   calc    0.1036  fit   0.1036\n",
      "  sample  37 :  mean1   calc    0.1043  fit   0.1043\n",
      "  sample  38 :  mean1   calc    0.1030  fit   0.1030\n",
      "  sample  39 :  mean1   calc    0.0998  fit   0.0998\n",
      "  sample  40 :  mean1   calc    0.1016  fit   0.1016\n",
      "  sample  41 :  mean1   calc    0.1025  fit   0.1025\n",
      "  sample  42 :  mean1   calc    0.1019  fit   0.1019\n",
      "  sample  43 :  mean1   calc    0.0997  fit   0.0997\n",
      "  sample  44 :  mean1   calc    0.1030  fit   0.1030\n",
      "  sample  45 :  mean1   calc    0.1052  fit   0.1052\n",
      "  sample  46 :  mean1   calc    0.1014  fit   0.1014\n",
      "  sample  47 :  mean1   calc    0.1023  fit   0.1024\n",
      "  sample  48 :  mean1   calc    0.1001  fit   0.1001\n",
      "  sample  49 :  mean1   calc    0.1029  fit   0.1029\n"
     ]
    }
   ],
   "source": [
    "if have_fits :\n",
    "    \n",
    "    for si in range( n_samples ) :\n",
    "        \n",
    "        for fi in range( 1,2 ) :\n",
    "            print(\"  sample %3d :  mean%d   calc  %8.4f  fit %8.4f\" % \n",
    "                  (si, fi, all_mean[fi,si], fit_results_mean_val[fi,si]))"
   ]
  },
  {
   "cell_type": "code",
   "execution_count": 27,
   "id": "88bea9bb",
   "metadata": {},
   "outputs": [
    {
     "name": "stdout",
     "output_type": "stream",
     "text": [
      "   0 : x axis limits:  0.794, 0.802    y axis limits  0.794, 0.802\n",
      "   1 : x axis limits:  0.097, 0.106    y axis limits  0.097, 0.106\n",
      "   2 : x axis limits:  -0.606, -0.591    y axis limits  -0.606, -0.591\n",
      "   3 : x axis limits:  0.697, 0.703    y axis limits  0.697, 0.703\n"
     ]
    },
    {
     "data": {
      "text/plain": [
       "<function matplotlib.pyplot.show(close=None, block=None)>"
      ]
     },
     "execution_count": 27,
     "metadata": {},
     "output_type": "execute_result"
    },
    {
     "data": {
      "image/png": "[encoded data removed]",
      "text/plain": [
       "<Figure size 1440x720 with 8 Axes>"
      ]
     },
     "metadata": {
      "needs_background": "light"
     },
     "output_type": "display_data"
    }
   ],
   "source": [
    "fig,ax = plt.subplots( 2, ndim, figsize=(5*ndim,5*2))\n",
    "\n",
    "hbins=40\n",
    "hmax = 10\n",
    "\n",
    "for fi in range(ndim) :\n",
    "    ax[0][fi].scatter( all_mean[fi,:], fit_results_mean_val[fi,:])\n",
    "    xlow, xhigh = ax[0][fi].get_xlim()\n",
    "    ylow, yhigh = ax[0][fi].get_ylim()\n",
    "    print(\"  %2d : x axis limits:  %.3f, %.3f    y axis limits  %.3f, %.3f\" % \n",
    "              (fi, xlow, xhigh, ylow, yhigh))\n",
    "    ax[0][fi].plot( (xlow, xhigh), (true_mu[fi], true_mu[fi]))\n",
    "    ax[0][fi].plot( (true_mu[fi], true_mu[fi]), (ylow, yhigh))\n",
    "    \n",
    "\n",
    "    ax[1][fi].hist( fit_results_mean_val[fi,:], bins=hbins, \n",
    "                   range=[ave_mean[fi]-3*rms_mean[fi], ave_mean[fi]+3*rms_mean[fi]])\n",
    "    ax[1][fi].hist( all_mean[fi,:], bins=hbins, alpha=0.5,\n",
    "                   range=[ave_mean[fi]-3*rms_mean[fi], ave_mean[fi]+3*rms_mean[fi]])\n",
    "    ax[1][fi].plot( (true_mu[fi],true_mu[fi]),(0,hmax), linewidth=3)\n",
    "    \n",
    "\n",
    "plt.show"
   ]
  },
  {
   "cell_type": "code",
   "execution_count": 28,
   "id": "f971f4dc",
   "metadata": {},
   "outputs": [
    {
     "name": "stdout",
     "output_type": "stream",
     "text": [
      "   0,  0 : x axis limits:  0.638, 0.652    y axis limits  0.638, 0.652\n",
      "   0,  1 : x axis limits:  -0.004, 0.001    y axis limits  -0.004, 0.001\n",
      "   0,  2 : x axis limits:  -0.246, -0.233    y axis limits  -0.246, -0.233\n",
      "   0,  3 : x axis limits:  0.188, 0.193    y axis limits  0.188, 0.193\n",
      "   1,  1 : x axis limits:  0.360, 0.368    y axis limits  0.360, 0.368\n",
      "   1,  2 : x axis limits:  0.117, 0.124    y axis limits  0.117, 0.124\n",
      "   1,  3 : x axis limits:  -0.001, 0.003    y axis limits  -0.001, 0.003\n",
      "   2,  2 : x axis limits:  0.992, 1.011    y axis limits  0.991, 1.011\n",
      "   2,  3 : x axis limits:  0.296, 0.304    y axis limits  0.296, 0.304\n",
      "   3,  3 : x axis limits:  0.357, 0.364    y axis limits  0.357, 0.364\n"
     ]
    },
    {
     "data": {
      "text/plain": [
       "<function matplotlib.pyplot.show(close=None, block=None)>"
      ]
     },
     "execution_count": 28,
     "metadata": {},
     "output_type": "execute_result"
    },
    {
     "data": {
      "image/png": "[encoded data removed]",
      "text/plain": [
       "<Figure size 1440x1440 with 16 Axes>"
      ]
     },
     "metadata": {
      "needs_background": "light"
     },
     "output_type": "display_data"
    }
   ],
   "source": [
    "fig,ax = plt.subplots( ndim, ndim, figsize=(5*ndim,5*ndim))\n",
    "\n",
    "for fi1 in range(ndim) :\n",
    "    for fi2 in range(fi1,ndim) :\n",
    "        ax[fi1][fi2].scatter( all_cov[fi1,fi2,:], fit_results_cov_val[fi1,fi2,:])\n",
    "        xlow, xhigh = ax[fi1][fi2].get_xlim()\n",
    "        ylow, yhigh = ax[fi1][fi2].get_ylim()\n",
    "        print(\"  %2d, %2d : x axis limits:  %.3f, %.3f    y axis limits  %.3f, %.3f\" % \n",
    "              (fi1, fi2, xlow, xhigh, ylow, yhigh))\n",
    "        ax[fi1][fi2].plot((xlow,xhigh),(true_cov[fi1][fi2], true_cov[fi1][fi2]))\n",
    "        ax[fi1][fi2].plot((true_cov[fi1][fi2], true_cov[fi1][fi2]),(ylow,yhigh))\n",
    "\n",
    "plt.show"
   ]
  },
  {
   "cell_type": "code",
   "execution_count": 29,
   "id": "deb2b4be",
   "metadata": {},
   "outputs": [
    {
     "name": "stdout",
     "output_type": "stream",
     "text": [
      "   0,  0 : x axis limits:  0.635, 0.653    y axis limits  0.000, 5.250\n",
      "   0,  1 : x axis limits:  -0.005, 0.002    y axis limits  0.000, 7.350\n",
      "   0,  2 : x axis limits:  -0.248, -0.232    y axis limits  0.000, 7.350\n",
      "   0,  3 : x axis limits:  0.187, 0.195    y axis limits  0.000, 6.300\n",
      "   1,  1 : x axis limits:  0.358, 0.368    y axis limits  0.000, 4.200\n",
      "   1,  2 : x axis limits:  0.115, 0.126    y axis limits  0.000, 7.350\n",
      "   1,  3 : x axis limits:  -0.001, 0.004    y axis limits  0.000, 7.350\n",
      "   2,  2 : x axis limits:  0.988, 1.014    y axis limits  0.000, 6.300\n",
      "   2,  3 : x axis limits:  0.294, 0.305    y axis limits  0.000, 4.200\n",
      "   3,  3 : x axis limits:  0.356, 0.365    y axis limits  0.000, 5.250\n"
     ]
    },
    {
     "data": {
      "text/plain": [
       "<function matplotlib.pyplot.show(close=None, block=None)>"
      ]
     },
     "execution_count": 29,
     "metadata": {},
     "output_type": "execute_result"
    },
    {
     "data": {
      "image/png": "[encoded data removed]",
      "text/plain": [
       "<Figure size 1440x1440 with 16 Axes>"
      ]
     },
     "metadata": {
      "needs_background": "light"
     },
     "output_type": "display_data"
    }
   ],
   "source": [
    "fig,ax = plt.subplots( ndim, ndim, figsize=(5*ndim,5*ndim))\n",
    "\n",
    "hbins=40\n",
    "hmax=10\n",
    "\n",
    "for fi1 in range(ndim) :\n",
    "    for fi2 in range(fi1,ndim) :\n",
    "        ax[fi1][fi2].hist( fit_results_cov_val[fi1,fi2,:], bins=hbins, \n",
    "                         range=[ave_cov[fi1,fi2]-3*rms_cov[fi1,fi2], ave_cov[fi1,fi2]+3*rms_cov[fi1][fi2]] )\n",
    "        ax[fi1][fi2].hist( all_cov[fi1,fi2,:], bins=hbins, alpha=0.5,\n",
    "                         range=[ave_cov[fi1,fi2]-3*rms_cov[fi1,fi2], ave_cov[fi1,fi2]+3*rms_cov[fi1][fi2]] )\n",
    "        xlow, xhigh = ax[fi1][fi2].get_xlim()\n",
    "        ylow, yhigh = ax[fi1][fi2].get_ylim()\n",
    "        print(\"  %2d, %2d : x axis limits:  %.3f, %.3f    y axis limits  %.3f, %.3f\" % \n",
    "              (fi1, fi2, xlow, xhigh, ylow, yhigh))\n",
    "\n",
    "        ax[fi1][fi2].plot((true_cov[fi1][fi2], true_cov[fi1][fi2]),(0,hmax), linewidth=3)\n",
    "\n",
    "plt.show"
   ]
  },
  {
   "cell_type": "code",
   "execution_count": null,
   "id": "2de961c3",
   "metadata": {},
   "outputs": [],
   "source": []
  },
  {
   "cell_type": "code",
   "execution_count": null,
   "id": "ecd333e7",
   "metadata": {},
   "outputs": [],
   "source": []
  },
  {
   "cell_type": "code",
   "execution_count": 30,
   "id": "cdba36dd",
   "metadata": {},
   "outputs": [
    {
     "data": {
      "text/plain": [
       "<function matplotlib.pyplot.show(close=None, block=None)>"
      ]
     },
     "execution_count": 30,
     "metadata": {},
     "output_type": "execute_result"
    },
    {
     "data": {
      "image/png": "[encoded data removed]",
      "text/plain": [
       "<Figure size 1440x360 with 4 Axes>"
      ]
     },
     "metadata": {
      "needs_background": "light"
     },
     "output_type": "display_data"
    }
   ],
   "source": [
    "fig,ax = plt.subplots( 1, ndim, figsize=(5*ndim,5))\n",
    "\n",
    "hbins = 40\n",
    "hmax = 10\n",
    "\n",
    "for fi in range(ndim) :\n",
    "    ax[fi].hist( fit_results_mean_err[fi,:], bins=hbins )\n",
    "    ax[fi].plot( (rms_mean[fi], rms_mean[fi]), (0,hmax) )\n",
    "    \n",
    "    \n",
    "plt.show"
   ]
  },
  {
   "cell_type": "code",
   "execution_count": null,
   "id": "67af76ee",
   "metadata": {},
   "outputs": [],
   "source": []
  },
  {
   "cell_type": "code",
   "execution_count": 31,
   "id": "b212bbe1",
   "metadata": {},
   "outputs": [
    {
     "name": "stdout",
     "output_type": "stream",
     "text": [
      "  feature 0 mean:   rms bootstraps   0.0018,  ave fit err   0.0013    ratio      1.40\n",
      "  feature 1 mean:   rms bootstraps   0.0016,  ave fit err   0.0010    ratio      1.65\n",
      "  feature 2 mean:   rms bootstraps   0.0026,  ave fit err   0.0016    ratio      1.65\n",
      "  feature 3 mean:   rms bootstraps   0.0012,  ave fit err   0.0009    ratio      1.28\n"
     ]
    }
   ],
   "source": [
    "for fi in range(ndim) :\n",
    "    \n",
    "    print(\"  feature %d mean:   rms bootstraps %8.4f,  ave fit err %8.4f    ratio  %8.2f\"\n",
    "         % (fi, rms_mean[fi], ave_fit_err_mean[fi], rms_mean[fi] / ave_fit_err_mean[fi] ))"
   ]
  },
  {
   "cell_type": "code",
   "execution_count": null,
   "id": "1d600c7d",
   "metadata": {},
   "outputs": [],
   "source": []
  }
 ],
 "metadata": {
  "kernelspec": {
   "display_name": "Python 3 (ipykernel)",
   "language": "python",
   "name": "python3"
  },
  "language_info": {
   "codemirror_mode": {
    "name": "ipython",
    "version": 3
   },
   "file_extension": ".py",
   "mimetype": "text/x-python",
   "name": "python",
   "nbconvert_exporter": "python",
   "pygments_lexer": "ipython3",
   "version": "3.10.12"
  }
 },
 "nbformat": 4,
 "nbformat_minor": 5
}
