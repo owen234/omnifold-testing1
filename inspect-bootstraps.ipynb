{
 "cells": [
  {
   "cell_type": "code",
   "execution_count": 1,
   "id": "1c1a549e",
   "metadata": {},
   "outputs": [],
   "source": [
    "import matplotlib.pyplot as plt\n",
    "import numpy as np\n",
    "\n",
    "import time\n",
    "\n",
    "import sys\n",
    "import os\n",
    "\n",
    "from datetime import datetime\n",
    "import subprocess\n",
    "\n",
    "from os.path import exists\n",
    "\n",
    "import read_config_utils as cu"
   ]
  },
  {
   "cell_type": "code",
   "execution_count": 2,
   "id": "cb746b1c",
   "metadata": {},
   "outputs": [
    {
     "name": "stdout",
     "output_type": "stream",
     "text": [
      "\n",
      "\n",
      "\n",
      " shape of train_pts:  (1000000, 2)\n",
      " shape of true_pts:   (100000, 2)\n",
      "\n",
      "\n",
      "\n"
     ]
    }
   ],
   "source": [
    "input_dir = 'output-files-bootstrap-test6-2d-1a'\n",
    "\n",
    "\n",
    "with open( '%s/train-and-true-samples.npy' % input_dir, 'rb') as f :\n",
    "    train_pts = np.load(f)\n",
    "    train_det_pts = np.load(f)\n",
    "    true_pts = np.load(f)\n",
    "    true_det_pts = np.load(f)\n",
    "    \n",
    "print('\\n\\n')\n",
    "print(' shape of train_pts:  %s' % str(train_pts.shape))\n",
    "print(' shape of true_pts:   %s' % str(true_pts.shape))\n",
    "print('\\n\\n')\n",
    "\n"
   ]
  },
  {
   "cell_type": "code",
   "execution_count": null,
   "id": "99bbf301",
   "metadata": {},
   "outputs": [],
   "source": []
  },
  {
   "cell_type": "code",
   "execution_count": null,
   "id": "706075d7",
   "metadata": {},
   "outputs": [],
   "source": []
  },
  {
   "cell_type": "code",
   "execution_count": 3,
   "id": "efdcf99f",
   "metadata": {},
   "outputs": [],
   "source": [
    "config_file = '%s/config.txt' % (input_dir)\n",
    "\n",
    "if not exists(config_file) :\n",
    "    \n",
    "    print(\"\\n\\n\\n ******* Input file does not exist: %s\\n\\n\\n\" % config_file )\n",
    "    sys.exit()\n",
    "    "
   ]
  },
  {
   "cell_type": "code",
   "execution_count": 4,
   "id": "728d9e18",
   "metadata": {},
   "outputs": [
    {
     "name": "stdout",
     "output_type": "stream",
     "text": [
      "\n",
      "\n",
      " Number of feature dimensions: 2\n",
      "\n",
      "\n"
     ]
    }
   ],
   "source": [
    "ndim = int(cu.get_par( config_file, \"ndim\"))\n",
    "print(\"\\n\\n Number of feature dimensions: %d\\n\\n\" % ndim)"
   ]
  },
  {
   "cell_type": "code",
   "execution_count": 5,
   "id": "dd582d37",
   "metadata": {},
   "outputs": [],
   "source": [
    "with open( '%s/config-pars.npy' % input_dir, 'rb') as f :\n",
    "    train_mu = np.load(f, allow_pickle=True )\n",
    "    train_rho = np.load(f, allow_pickle=True)\n",
    "    train_sig = np.load(f, allow_pickle=True)    \n",
    "    true_mu = np.load(f, allow_pickle=True )\n",
    "    true_rho = np.load(f, allow_pickle=True)\n",
    "    true_sig = np.load(f, allow_pickle=True)  \n",
    "    resolution = np.load(f, allow_pickle=True)"
   ]
  },
  {
   "cell_type": "code",
   "execution_count": null,
   "id": "d397c276",
   "metadata": {},
   "outputs": [],
   "source": []
  },
  {
   "cell_type": "code",
   "execution_count": 6,
   "id": "f233f314",
   "metadata": {},
   "outputs": [
    {
     "data": {
      "text/plain": [
       "<function matplotlib.pyplot.show(close=None, block=None)>"
      ]
     },
     "execution_count": 6,
     "metadata": {},
     "output_type": "execute_result"
    },
    {
     "data": {
      "image/png": "[encoded data removed]",
      "text/plain": [
       "<Figure size 1440x360 with 4 Axes>"
      ]
     },
     "metadata": {
      "needs_background": "light"
     },
     "output_type": "display_data"
    }
   ],
   "source": [
    "fig,ax = plt.subplots( 1, 4, figsize=(20,5))\n",
    "\n",
    "\n",
    "\n",
    "hmin=-5\n",
    "hmax=5\n",
    "\n",
    "\n",
    "hmin=-9\n",
    "hmax=9\n",
    "\n",
    "hbins=40\n",
    "\n",
    "\n",
    "for i in range(ndim) :\n",
    "        ax[i].hist( train_det_pts[:,i],bins=hbins, range=[hmin,hmax], density=True )\n",
    "        ax[i].hist( true_det_pts[:,i],bins=hbins, range=[hmin,hmax], density=True, alpha=0.5 )\n",
    "    \n",
    "plt.show"
   ]
  },
  {
   "cell_type": "code",
   "execution_count": 7,
   "id": "0f368d18",
   "metadata": {},
   "outputs": [
    {
     "data": {
      "text/plain": [
       "<function matplotlib.pyplot.show(close=None, block=None)>"
      ]
     },
     "execution_count": 7,
     "metadata": {},
     "output_type": "execute_result"
    },
    {
     "data": {
      "image/png": "[encoded data removed]",
      "text/plain": [
       "<Figure size 1440x360 with 4 Axes>"
      ]
     },
     "metadata": {
      "needs_background": "light"
     },
     "output_type": "display_data"
    }
   ],
   "source": [
    "fig,ax = plt.subplots( 1, 4, figsize=(20,5))\n",
    "\n",
    "hbins=40\n",
    "\n",
    "\n",
    "for i in range(ndim) :\n",
    "        ax[i].hist( train_det_pts[:,i],bins=hbins, range=[hmin,hmax], density=True )\n",
    "        ax[i].hist( true_det_pts[:,i],bins=hbins, range=[hmin,hmax], density=True, alpha=0.5 )\n",
    "        ax[i].set_yscale('log')\n",
    "    \n",
    "plt.show"
   ]
  },
  {
   "cell_type": "code",
   "execution_count": null,
   "id": "bd2f5ecd",
   "metadata": {},
   "outputs": [],
   "source": []
  },
  {
   "cell_type": "code",
   "execution_count": 8,
   "id": "dc425c09",
   "metadata": {},
   "outputs": [
    {
     "data": {
      "text/plain": [
       "(1, 1)"
      ]
     },
     "execution_count": 8,
     "metadata": {},
     "output_type": "execute_result"
    }
   ],
   "source": [
    "true_rho.shape"
   ]
  },
  {
   "cell_type": "code",
   "execution_count": 9,
   "id": "d62b0546",
   "metadata": {},
   "outputs": [
    {
     "data": {
      "text/plain": [
       "array([[-0.6]])"
      ]
     },
     "execution_count": 9,
     "metadata": {},
     "output_type": "execute_result"
    }
   ],
   "source": [
    "true_rho"
   ]
  },
  {
   "cell_type": "code",
   "execution_count": 10,
   "id": "4e0d6c27",
   "metadata": {},
   "outputs": [
    {
     "data": {
      "text/plain": [
       "(2,)"
      ]
     },
     "execution_count": 10,
     "metadata": {},
     "output_type": "execute_result"
    }
   ],
   "source": [
    "true_mu.shape"
   ]
  },
  {
   "cell_type": "code",
   "execution_count": 11,
   "id": "2d65ce2e",
   "metadata": {},
   "outputs": [
    {
     "name": "stdout",
     "output_type": "stream",
     "text": [
      " 0, 1, 0\n"
     ]
    }
   ],
   "source": [
    "true_cov = np.zeros( shape=(ndim,ndim) )\n",
    "\n",
    "for i in range(ndim) :\n",
    "    for j in range(ndim) :\n",
    "        k = ndim - j - 1\n",
    "        if i == j :\n",
    "            true_cov[i][j] = true_sig[i]*true_sig[i]\n",
    "        elif j > i :\n",
    "            print(\" %d, %d, %d\" % (i,j,k))\n",
    "            true_cov[i][j] = true_rho[i][k] * true_sig[i] * true_sig[j]"
   ]
  },
  {
   "cell_type": "code",
   "execution_count": 12,
   "id": "b6582258",
   "metadata": {},
   "outputs": [
    {
     "data": {
      "text/plain": [
       "array([[ 0.81 , -0.702],\n",
       "       [ 0.   ,  1.69 ]])"
      ]
     },
     "execution_count": 12,
     "metadata": {},
     "output_type": "execute_result"
    }
   ],
   "source": [
    "true_cov"
   ]
  },
  {
   "cell_type": "code",
   "execution_count": null,
   "id": "1fbc5ace",
   "metadata": {},
   "outputs": [],
   "source": []
  },
  {
   "cell_type": "code",
   "execution_count": null,
   "id": "c32571b2",
   "metadata": {},
   "outputs": [],
   "source": []
  },
  {
   "cell_type": "code",
   "execution_count": null,
   "id": "9bf44517",
   "metadata": {},
   "outputs": [],
   "source": []
  },
  {
   "cell_type": "code",
   "execution_count": 13,
   "id": "7c663b9f",
   "metadata": {},
   "outputs": [
    {
     "name": "stdout",
     "output_type": "stream",
     "text": [
      "\n",
      "\n",
      " Have fit results file.\n",
      "\n",
      "\n"
     ]
    }
   ],
   "source": [
    "have_fits = False\n",
    "\n",
    "if exists( \"%s/fit-results.npy\" % input_dir ) :\n",
    "    have_fits = True\n",
    "    print(\"\\n\\n Have fit results file.\\n\\n\")"
   ]
  },
  {
   "cell_type": "code",
   "execution_count": 14,
   "id": "1824cfea",
   "metadata": {},
   "outputs": [],
   "source": [
    "if have_fits :\n",
    "    \n",
    "    with open( '%s/fit-results.npy' % input_dir, 'rb' ) as f :\n",
    "        fit_results_mean_val = np.load(f, allow_pickle=True )\n",
    "        fit_results_mean_err = np.load(f, allow_pickle=True )\n",
    "        fit_results_cov_val = np.load(f, allow_pickle=True )\n",
    "        fit_results_cov_err = np.load(f, allow_pickle=True )        \n",
    "        \n",
    "\n",
    "    ave_fit_err_mean = np.zeros( ndim )\n",
    "\n",
    "    for fi in range(ndim) :\n",
    "    \n",
    "        ave_fit_err_mean[fi] = np.mean( fit_results_mean_err[fi,:])\n",
    "    "
   ]
  },
  {
   "cell_type": "code",
   "execution_count": null,
   "id": "56e76fbd",
   "metadata": {},
   "outputs": [],
   "source": []
  },
  {
   "cell_type": "code",
   "execution_count": null,
   "id": "bf2a2d42",
   "metadata": {},
   "outputs": [],
   "source": []
  },
  {
   "cell_type": "code",
   "execution_count": 15,
   "id": "cec505a9",
   "metadata": {},
   "outputs": [],
   "source": [
    "def calc_mean( weights, fi ) :\n",
    "    \n",
    "    mean = ( np.sum( weights * train_pts[:,fi]) ) / ( np.sum( weights ) )\n",
    "    \n",
    "    return mean"
   ]
  },
  {
   "cell_type": "code",
   "execution_count": 16,
   "id": "4eca21da",
   "metadata": {},
   "outputs": [],
   "source": [
    "def calc_rms( weights, fi ) :\n",
    "    \n",
    "    x = calc_mean( weights, fi )\n",
    "    xx = ( np.sum( weights * train_pts[:,fi] * train_pts[:,fi] ) ) / ( np.sum( weights ) )\n",
    "    \n",
    "    #print(\" x = %f,  xx = %f\" % (x, xx))\n",
    "    \n",
    "    return np.sqrt(xx - x*x)\n"
   ]
  },
  {
   "cell_type": "code",
   "execution_count": 17,
   "id": "fdec65ac",
   "metadata": {},
   "outputs": [],
   "source": [
    "def calc_cov( weights, fi1, fi2 ) :\n",
    "    \n",
    "    x1 = calc_mean( weights, fi1 )\n",
    "    x2 = calc_mean( weights, fi2 )\n",
    "    x1x2 = ( np.sum( weights * train_pts[:,fi1] * train_pts[:,fi2] ) ) / ( np.sum( weights ) )\n",
    "    \n",
    "    return np.sqrt( x1x2 - x1*x2 )\n",
    "    "
   ]
  },
  {
   "cell_type": "code",
   "execution_count": 18,
   "id": "509e43b6",
   "metadata": {},
   "outputs": [],
   "source": [
    "def calc_mean_cov( weights, fi1, fi2 ) :\n",
    "\n",
    "    return_dict = {}\n",
    "    \n",
    "    wsum = np.sum( weights )\n",
    "    \n",
    "    wx1 = np.sum( weights * train_pts[:,fi1] )\n",
    "    wx2 = np.sum( weights * train_pts[:,fi2] )\n",
    "    wx1x2 = np.sum( weights * train_pts[:,fi1] * train_pts[:,fi2] )\n",
    "\n",
    "    x1 = wx1 / wsum\n",
    "    x2 = wx2 / wsum\n",
    "\n",
    "    x1x2 = wx1x2 / wsum\n",
    "    \n",
    "    cov12 = x1x2 - x1*x2\n",
    "\n",
    "    \n",
    "    return_dict[\"mean_x1\"] = x1\n",
    "    return_dict[\"mean_x2\"] = x2\n",
    "    return_dict[\"cov_x1x2\"] = cov12    \n",
    "    \n",
    "    if fi1 != fi2 :\n",
    "        wx1x1 = np.sum( weights * train_pts[:,fi1] * train_pts[:,fi1] )\n",
    "        wx2x2 = np.sum( weights * train_pts[:,fi2] * train_pts[:,fi2] )\n",
    "        cov11 = wx1x1 / wsum - x1*x1\n",
    "        cov22 = wx2x2 / wsum - x2*x2\n",
    "\n",
    "        rms1 = np.sqrt(cov11)\n",
    "        rms2 = np.sqrt(cov22)\n",
    "        rho12 = cov12 / (rms1*rms2)     \n",
    "    \n",
    "        return_dict[\"rho12\"] = rho12\n",
    "        return_dict[\"rms1\"] = rms1\n",
    "        return_dict[\"rms2\"] = rms2\n",
    "    else :\n",
    "        rms1 = np.sqrt(cov12)\n",
    "        return_dict[\"rms1\"] = rms1\n",
    "        \n",
    "    return return_dict\n",
    "\n",
    "\n",
    "    "
   ]
  },
  {
   "cell_type": "code",
   "execution_count": 19,
   "id": "ab3cee63",
   "metadata": {},
   "outputs": [
    {
     "name": "stdout",
     "output_type": "stream",
     "text": [
      "\n",
      "\n",
      " Found 50 bootstrap samples.\n",
      "\n",
      "\n"
     ]
    }
   ],
   "source": [
    "n_samples = 0\n",
    "\n",
    "for fi in range(1000) :\n",
    "    \n",
    "    fname = '%s/bootstrap-weights-%03d.npy' % (input_dir, fi)\n",
    "    \n",
    "    if exists(fname) :\n",
    "        n_samples = n_samples + 1\n",
    "        \n",
    "print(\"\\n\\n Found %d bootstrap samples.\\n\\n\" % n_samples )"
   ]
  },
  {
   "cell_type": "code",
   "execution_count": 20,
   "id": "73c3238b",
   "metadata": {
    "scrolled": true
   },
   "outputs": [
    {
     "name": "stdout",
     "output_type": "stream",
     "text": [
      "\n",
      "----- output-files-bootstrap-test6-2d-1a/bootstrap-weights-000.npy exists\n",
      "1000000\n",
      "[0.12122112 0.13742593 0.08113122 ... 0.03074327 0.15596808 0.03280347]\n",
      "[ 2.26735717 -0.73197332 -0.36372183 ...  0.39319069 -1.16843171\n",
      " -1.43896347]\n",
      "  0 0  :  mean =   0.1942, RMS =   0.8918, cov =   0.7953\n",
      "  0 1  :  rho =  -0.5844,  cov =  -0.6758\n",
      "  1 1  :  mean =   0.7908, RMS =   1.2966, cov =   1.6812\n",
      "\n",
      "----- output-files-bootstrap-test6-2d-1a/bootstrap-weights-001.npy exists\n",
      "1000000\n",
      "[0.11819334 0.12798826 0.08290569 ... 0.0295603  0.13909921 0.02822454]\n",
      "[ 2.26735717 -0.73197332 -0.36372183 ...  0.39319069 -1.16843171\n",
      " -1.43896347]\n",
      "  0 0  :  mean =   0.2016, RMS =   0.9058, cov =   0.8204\n",
      "  0 1  :  rho =  -0.5869,  cov =  -0.6938\n",
      "  1 1  :  mean =   0.7961, RMS =   1.3051, cov =   1.7033\n",
      "\n",
      "----- output-files-bootstrap-test6-2d-1a/bootstrap-weights-002.npy exists\n",
      "1000000\n",
      "[0.11733811 0.12898463 0.08356484 ... 0.03857498 0.1395086  0.03188284]\n",
      "[ 2.26735717 -0.73197332 -0.36372183 ...  0.39319069 -1.16843171\n",
      " -1.43896347]\n",
      "  0 0  :  mean =   0.1943, RMS =   0.8984, cov =   0.8071\n",
      "  0 1  :  rho =  -0.5822,  cov =  -0.6841\n",
      "  1 1  :  mean =   0.7969, RMS =   1.3079, cov =   1.7107\n",
      "\n",
      "----- output-files-bootstrap-test6-2d-1a/bootstrap-weights-003.npy exists\n",
      "1000000\n",
      "[0.12274493 0.13435517 0.08347613 ... 0.02790326 0.15297962 0.02351349]\n",
      "[ 2.26735717 -0.73197332 -0.36372183 ...  0.39319069 -1.16843171\n",
      " -1.43896347]\n",
      "  0 0  :  mean =   0.1978, RMS =   0.8935, cov =   0.7984\n",
      "  0 1  :  rho =  -0.5849,  cov =  -0.6814\n",
      "  1 1  :  mean =   0.7901, RMS =   1.3039, cov =   1.7003\n",
      "\n",
      "----- output-files-bootstrap-test6-2d-1a/bootstrap-weights-004.npy exists\n",
      "1000000\n",
      "[0.11414823 0.12886304 0.08214444 ... 0.03256981 0.14302837 0.03214478]\n",
      "[ 2.26735717 -0.73197332 -0.36372183 ...  0.39319069 -1.16843171\n",
      " -1.43896347]\n",
      "  0 0  :  mean =   0.1944, RMS =   0.9041, cov =   0.8174\n",
      "  0 1  :  rho =  -0.5881,  cov =  -0.6946\n",
      "  1 1  :  mean =   0.8055, RMS =   1.3064, cov =   1.7068\n",
      "\n",
      "----- output-files-bootstrap-test6-2d-1a/bootstrap-weights-005.npy exists\n",
      "1000000\n",
      "[0.11860429 0.13618398 0.08380931 ... 0.02278604 0.13716321 0.02358899]\n",
      "[ 2.26735717 -0.73197332 -0.36372183 ...  0.39319069 -1.16843171\n",
      " -1.43896347]\n",
      "  0 0  :  mean =   0.1949, RMS =   0.8989, cov =   0.8080\n",
      "  0 1  :  rho =  -0.5938,  cov =  -0.6966\n",
      "  1 1  :  mean =   0.7994, RMS =   1.3050, cov =   1.7030\n",
      "\n",
      "----- output-files-bootstrap-test6-2d-1a/bootstrap-weights-006.npy exists\n",
      "1000000\n",
      "[0.12281074 0.12049571 0.08490356 ... 0.03204687 0.13748998 0.03482809]\n",
      "[ 2.26735717 -0.73197332 -0.36372183 ...  0.39319069 -1.16843171\n",
      " -1.43896347]\n",
      "  0 0  :  mean =   0.1956, RMS =   0.9044, cov =   0.8180\n",
      "  0 1  :  rho =  -0.5901,  cov =  -0.6977\n",
      "  1 1  :  mean =   0.7976, RMS =   1.3072, cov =   1.7088\n",
      "\n",
      "----- output-files-bootstrap-test6-2d-1a/bootstrap-weights-007.npy exists\n",
      "1000000\n",
      "[0.11908695 0.1310526  0.08351386 ... 0.03514207 0.15440526 0.02221507]\n",
      "[ 2.26735717 -0.73197332 -0.36372183 ...  0.39319069 -1.16843171\n",
      " -1.43896347]\n",
      "  0 0  :  mean =   0.1980, RMS =   0.8993, cov =   0.8087\n",
      "  0 1  :  rho =  -0.5905,  cov =  -0.6919\n",
      "  1 1  :  mean =   0.7982, RMS =   1.3029, cov =   1.6975\n",
      "\n",
      "----- output-files-bootstrap-test6-2d-1a/bootstrap-weights-008.npy exists\n",
      "1000000\n",
      "[0.11526713 0.12859181 0.0849308  ... 0.02949379 0.13820777 0.02370848]\n",
      "[ 2.26735717 -0.73197332 -0.36372183 ...  0.39319069 -1.16843171\n",
      " -1.43896347]\n",
      "  0 0  :  mean =   0.1958, RMS =   0.9036, cov =   0.8166\n",
      "  0 1  :  rho =  -0.5934,  cov =  -0.6984\n",
      "  1 1  :  mean =   0.8007, RMS =   1.3023, cov =   1.6960\n",
      "\n",
      "----- output-files-bootstrap-test6-2d-1a/bootstrap-weights-009.npy exists\n",
      "1000000\n",
      "[0.11749903 0.13419307 0.0868691  ... 0.03800133 0.15903818 0.03046806]\n",
      "[ 2.26735717 -0.73197332 -0.36372183 ...  0.39319069 -1.16843171\n",
      " -1.43896347]\n",
      "  0 0  :  mean =   0.1956, RMS =   0.9044, cov =   0.8180\n",
      "  0 1  :  rho =  -0.5900,  cov =  -0.6963\n",
      "  1 1  :  mean =   0.8015, RMS =   1.3049, cov =   1.7028\n",
      "\n",
      "----- output-files-bootstrap-test6-2d-1a/bootstrap-weights-010.npy exists\n",
      "1000000\n",
      "[0.12252023 0.13432726 0.07887244 ... 0.03544567 0.13851989 0.02285161]\n",
      "[ 2.26735717 -0.73197332 -0.36372183 ...  0.39319069 -1.16843171\n",
      " -1.43896347]\n",
      "  0 0  :  mean =   0.1938, RMS =   0.8996, cov =   0.8093\n",
      "  0 1  :  rho =  -0.5934,  cov =  -0.6953\n",
      "  1 1  :  mean =   0.7956, RMS =   1.3024, cov =   1.6963\n",
      "\n",
      "----- output-files-bootstrap-test6-2d-1a/bootstrap-weights-011.npy exists\n",
      "1000000\n",
      "[0.11526144 0.13273027 0.08461214 ... 0.03460836 0.14488325 0.02798459]\n",
      "[ 2.26735717 -0.73197332 -0.36372183 ...  0.39319069 -1.16843171\n",
      " -1.43896347]\n",
      "  0 0  :  mean =   0.1945, RMS =   0.9008, cov =   0.8114\n",
      "  0 1  :  rho =  -0.5879,  cov =  -0.6903\n",
      "  1 1  :  mean =   0.8105, RMS =   1.3035, cov =   1.6992\n",
      "\n",
      "----- output-files-bootstrap-test6-2d-1a/bootstrap-weights-012.npy exists\n",
      "1000000\n",
      "[0.11650961 0.13096935 0.08309337 ... 0.04225359 0.15305556 0.02694121]\n",
      "[ 2.26735717 -0.73197332 -0.36372183 ...  0.39319069 -1.16843171\n",
      " -1.43896347]\n",
      "  0 0  :  mean =   0.1949, RMS =   0.8993, cov =   0.8087\n",
      "  0 1  :  rho =  -0.5910,  cov =  -0.6940\n",
      "  1 1  :  mean =   0.7992, RMS =   1.3059, cov =   1.7053\n",
      "\n",
      "----- output-files-bootstrap-test6-2d-1a/bootstrap-weights-013.npy exists\n",
      "1000000\n",
      "[0.11243064 0.13902582 0.08538795 ... 0.03284778 0.14987028 0.02559021]\n",
      "[ 2.26735717 -0.73197332 -0.36372183 ...  0.39319069 -1.16843171\n",
      " -1.43896347]\n",
      "  0 0  :  mean =   0.1905, RMS =   0.8996, cov =   0.8093\n",
      "  0 1  :  rho =  -0.5866,  cov =  -0.6896\n",
      "  1 1  :  mean =   0.8108, RMS =   1.3068, cov =   1.7076\n",
      "\n",
      "----- output-files-bootstrap-test6-2d-1a/bootstrap-weights-014.npy exists\n",
      "1000000\n",
      "[0.12643101 0.14494183 0.08496768 ... 0.03154372 0.15046137 0.03479729]\n",
      "[ 2.26735717 -0.73197332 -0.36372183 ...  0.39319069 -1.16843171\n",
      " -1.43896347]\n",
      "  0 0  :  mean =   0.1986, RMS =   0.8991, cov =   0.8083\n",
      "  0 1  :  rho =  -0.5892,  cov =  -0.6876\n",
      "  1 1  :  mean =   0.8059, RMS =   1.2980, cov =   1.6848\n",
      "\n",
      "----- output-files-bootstrap-test6-2d-1a/bootstrap-weights-015.npy exists\n",
      "1000000\n",
      "[0.13276007 0.13360976 0.08600133 ... 0.03605509 0.14610835 0.03789491]\n",
      "[ 2.26735717 -0.73197332 -0.36372183 ...  0.39319069 -1.16843171\n",
      " -1.43896347]\n",
      "  0 0  :  mean =   0.1935, RMS =   0.9003, cov =   0.8105\n",
      "  0 1  :  rho =  -0.5873,  cov =  -0.6868\n",
      "  1 1  :  mean =   0.8031, RMS =   1.2991, cov =   1.6876\n",
      "\n",
      "----- output-files-bootstrap-test6-2d-1a/bootstrap-weights-016.npy exists\n",
      "1000000\n",
      "[0.11975794 0.12917273 0.08625301 ... 0.02774738 0.14330031 0.0325631 ]\n",
      "[ 2.26735717 -0.73197332 -0.36372183 ...  0.39319069 -1.16843171\n",
      " -1.43896347]\n",
      "  0 0  :  mean =   0.1932, RMS =   0.8983, cov =   0.8069\n",
      "  0 1  :  rho =  -0.5941,  cov =  -0.6940\n",
      "  1 1  :  mean =   0.7931, RMS =   1.3004, cov =   1.6909\n",
      "\n",
      "----- output-files-bootstrap-test6-2d-1a/bootstrap-weights-017.npy exists\n",
      "1000000\n",
      "[0.12353442 0.13192989 0.08792748 ... 0.03189703 0.1516236  0.03018561]\n",
      "[ 2.26735717 -0.73197332 -0.36372183 ...  0.39319069 -1.16843171\n",
      " -1.43896347]\n",
      "  0 0  :  mean =   0.1923, RMS =   0.8972, cov =   0.8049\n",
      "  0 1  :  rho =  -0.5885,  cov =  -0.6884\n",
      "  1 1  :  mean =   0.8030, RMS =   1.3039, cov =   1.7002\n",
      "\n",
      "----- output-files-bootstrap-test6-2d-1a/bootstrap-weights-018.npy exists\n",
      "1000000\n",
      "[0.12377    0.13122336 0.08305654 ... 0.02795851 0.15701194 0.03016896]\n",
      "[ 2.26735717 -0.73197332 -0.36372183 ...  0.39319069 -1.16843171\n",
      " -1.43896347]\n",
      "  0 0  :  mean =   0.1871, RMS =   0.8982, cov =   0.8068\n",
      "  0 1  :  rho =  -0.5873,  cov =  -0.6885\n",
      "  1 1  :  mean =   0.7989, RMS =   1.3052, cov =   1.7037\n",
      "\n",
      "----- output-files-bootstrap-test6-2d-1a/bootstrap-weights-019.npy exists\n",
      "1000000\n",
      "[0.12231359 0.1293781  0.08564893 ... 0.03323064 0.15374137 0.03137367]\n",
      "[ 2.26735717 -0.73197332 -0.36372183 ...  0.39319069 -1.16843171\n",
      " -1.43896347]\n",
      "  0 0  :  mean =   0.1925, RMS =   0.9006, cov =   0.8110\n",
      "  0 1  :  rho =  -0.5907,  cov =  -0.6956\n",
      "  1 1  :  mean =   0.8005, RMS =   1.3076, cov =   1.7098\n",
      "\n",
      "----- output-files-bootstrap-test6-2d-1a/bootstrap-weights-020.npy exists\n",
      "1000000\n",
      "[0.12033577 0.12643369 0.08314022 ... 0.03260951 0.15157852 0.0314883 ]\n",
      "[ 2.26735717 -0.73197332 -0.36372183 ...  0.39319069 -1.16843171\n",
      " -1.43896347]\n",
      "  0 0  :  mean =   0.1975, RMS =   0.8930, cov =   0.7974\n",
      "  0 1  :  rho =  -0.5866,  cov =  -0.6814\n",
      "  1 1  :  mean =   0.7982, RMS =   1.3007, cov =   1.6919\n",
      "\n",
      "----- output-files-bootstrap-test6-2d-1a/bootstrap-weights-021.npy exists\n",
      "1000000\n",
      "[0.11178471 0.13425074 0.08504021 ... 0.03599757 0.14206033 0.02702908]\n",
      "[ 2.26735717 -0.73197332 -0.36372183 ...  0.39319069 -1.16843171\n",
      " -1.43896347]\n",
      "  0 0  :  mean =   0.1987, RMS =   0.9006, cov =   0.8111\n",
      "  0 1  :  rho =  -0.5908,  cov =  -0.6958\n",
      "  1 1  :  mean =   0.8033, RMS =   1.3077, cov =   1.7100\n",
      "\n",
      "----- output-files-bootstrap-test6-2d-1a/bootstrap-weights-022.npy exists\n",
      "1000000\n",
      "[0.11563607 0.12997153 0.08918889 ... 0.03273243 0.14419732 0.0293072 ]\n",
      "[ 2.26735717 -0.73197332 -0.36372183 ...  0.39319069 -1.16843171\n",
      " -1.43896347]\n",
      "  0 0  :  mean =   0.1956, RMS =   0.9023, cov =   0.8142\n",
      "  0 1  :  rho =  -0.5943,  cov =  -0.7036\n",
      "  1 1  :  mean =   0.7981, RMS =   1.3120, cov =   1.7215\n",
      "\n",
      "----- output-files-bootstrap-test6-2d-1a/bootstrap-weights-023.npy exists\n",
      "1000000\n",
      "[0.11533476 0.13495898 0.08440248 ... 0.02686833 0.15802681 0.02712119]\n",
      "[ 2.26735717 -0.73197332 -0.36372183 ...  0.39319069 -1.16843171\n",
      " -1.43896347]\n",
      "  0 0  :  mean =   0.1952, RMS =   0.9030, cov =   0.8154\n",
      "  0 1  :  rho =  -0.5953,  cov =  -0.6995\n",
      "  1 1  :  mean =   0.7932, RMS =   1.3012, cov =   1.6932\n",
      "\n",
      "----- output-files-bootstrap-test6-2d-1a/bootstrap-weights-024.npy exists\n",
      "1000000\n",
      "[0.11774203 0.13870425 0.08802008 ... 0.03514133 0.14026482 0.03103338]\n",
      "[ 2.26735717 -0.73197332 -0.36372183 ...  0.39319069 -1.16843171\n",
      " -1.43896347]\n",
      "  0 0  :  mean =   0.1897, RMS =   0.9000, cov =   0.8099\n",
      "  0 1  :  rho =  -0.5937,  cov =  -0.6986\n",
      "  1 1  :  mean =   0.8029, RMS =   1.3074, cov =   1.7094\n",
      "\n",
      "----- output-files-bootstrap-test6-2d-1a/bootstrap-weights-025.npy exists\n",
      "1000000\n",
      "[0.11656275 0.13139914 0.08164648 ... 0.02705969 0.13970327 0.02720893]\n",
      "[ 2.26735717 -0.73197332 -0.36372183 ...  0.39319069 -1.16843171\n",
      " -1.43896347]\n",
      "  0 0  :  mean =   0.1913, RMS =   0.9026, cov =   0.8146\n"
     ]
    },
    {
     "name": "stdout",
     "output_type": "stream",
     "text": [
      "  0 1  :  rho =  -0.5892,  cov =  -0.6912\n",
      "  1 1  :  mean =   0.8044, RMS =   1.2998, cov =   1.6896\n",
      "\n",
      "----- output-files-bootstrap-test6-2d-1a/bootstrap-weights-026.npy exists\n",
      "1000000\n",
      "[0.11177371 0.1386558  0.08541292 ... 0.03222697 0.14306909 0.02576979]\n",
      "[ 2.26735717 -0.73197332 -0.36372183 ...  0.39319069 -1.16843171\n",
      " -1.43896347]\n",
      "  0 0  :  mean =   0.1926, RMS =   0.8963, cov =   0.8033\n",
      "  0 1  :  rho =  -0.5870,  cov =  -0.6833\n",
      "  1 1  :  mean =   0.8099, RMS =   1.2988, cov =   1.6869\n",
      "\n",
      "----- output-files-bootstrap-test6-2d-1a/bootstrap-weights-027.npy exists\n",
      "1000000\n",
      "[0.11366062 0.13765855 0.08400768 ... 0.03348289 0.14458783 0.02458212]\n",
      "[ 2.26735717 -0.73197332 -0.36372183 ...  0.39319069 -1.16843171\n",
      " -1.43896347]\n",
      "  0 0  :  mean =   0.2007, RMS =   0.9014, cov =   0.8125\n",
      "  0 1  :  rho =  -0.5876,  cov =  -0.6917\n",
      "  1 1  :  mean =   0.8039, RMS =   1.3059, cov =   1.7053\n",
      "\n",
      "----- output-files-bootstrap-test6-2d-1a/bootstrap-weights-028.npy exists\n",
      "1000000\n",
      "[0.09937067 0.13115995 0.08351135 ... 0.03692604 0.14122556 0.02921975]\n",
      "[ 2.26735717 -0.73197332 -0.36372183 ...  0.39319069 -1.16843171\n",
      " -1.43896347]\n",
      "  0 0  :  mean =   0.1895, RMS =   0.8985, cov =   0.8072\n",
      "  0 1  :  rho =  -0.5894,  cov =  -0.6882\n",
      "  1 1  :  mean =   0.8107, RMS =   1.2996, cov =   1.6888\n",
      "\n",
      "----- output-files-bootstrap-test6-2d-1a/bootstrap-weights-029.npy exists\n",
      "1000000\n",
      "[0.10337933 0.1389013  0.08707977 ... 0.0304709  0.14939914 0.02809164]\n",
      "[ 2.26735717 -0.73197332 -0.36372183 ...  0.39319069 -1.16843171\n",
      " -1.43896347]\n",
      "  0 0  :  mean =   0.1962, RMS =   0.8999, cov =   0.8097\n",
      "  0 1  :  rho =  -0.5944,  cov =  -0.6979\n",
      "  1 1  :  mean =   0.8006, RMS =   1.3047, cov =   1.7024\n",
      "\n",
      "----- output-files-bootstrap-test6-2d-1a/bootstrap-weights-030.npy exists\n",
      "1000000\n",
      "[0.11475083 0.13354065 0.0837545  ... 0.02586517 0.14479953 0.03068735]\n",
      "[ 2.26735717 -0.73197332 -0.36372183 ...  0.39319069 -1.16843171\n",
      " -1.43896347]\n",
      "  0 0  :  mean =   0.1938, RMS =   0.9008, cov =   0.8114\n",
      "  0 1  :  rho =  -0.5921,  cov =  -0.6966\n",
      "  1 1  :  mean =   0.8099, RMS =   1.3062, cov =   1.7061\n",
      "\n",
      "----- output-files-bootstrap-test6-2d-1a/bootstrap-weights-031.npy exists\n",
      "1000000\n",
      "[0.10999716 0.12882885 0.08436825 ... 0.02667088 0.13440836 0.02996563]\n",
      "[ 2.26735717 -0.73197332 -0.36372183 ...  0.39319069 -1.16843171\n",
      " -1.43896347]\n",
      "  0 0  :  mean =   0.1971, RMS =   0.9023, cov =   0.8141\n",
      "  0 1  :  rho =  -0.5947,  cov =  -0.7006\n",
      "  1 1  :  mean =   0.8058, RMS =   1.3057, cov =   1.7048\n",
      "\n",
      "----- output-files-bootstrap-test6-2d-1a/bootstrap-weights-032.npy exists\n",
      "1000000\n",
      "[0.11425829 0.13271992 0.08399975 ... 0.03207036 0.14140492 0.02758059]\n",
      "[ 2.26735717 -0.73197332 -0.36372183 ...  0.39319069 -1.16843171\n",
      " -1.43896347]\n",
      "  0 0  :  mean =   0.1975, RMS =   0.8977, cov =   0.8058\n",
      "  0 1  :  rho =  -0.5907,  cov =  -0.6884\n",
      "  1 1  :  mean =   0.7924, RMS =   1.2983, cov =   1.6855\n",
      "\n",
      "----- output-files-bootstrap-test6-2d-1a/bootstrap-weights-033.npy exists\n",
      "1000000\n",
      "[0.11096543 0.14021804 0.08354063 ... 0.03409007 0.14360093 0.02875834]\n",
      "[ 2.26735717 -0.73197332 -0.36372183 ...  0.39319069 -1.16843171\n",
      " -1.43896347]\n",
      "  0 0  :  mean =   0.1965, RMS =   0.9029, cov =   0.8152\n",
      "  0 1  :  rho =  -0.5894,  cov =  -0.6939\n",
      "  1 1  :  mean =   0.7923, RMS =   1.3040, cov =   1.7005\n",
      "\n",
      "----- output-files-bootstrap-test6-2d-1a/bootstrap-weights-034.npy exists\n",
      "1000000\n",
      "[0.11378785 0.13188633 0.08540095 ... 0.02997447 0.13829196 0.02347956]\n",
      "[ 2.26735717 -0.73197332 -0.36372183 ...  0.39319069 -1.16843171\n",
      " -1.43896347]\n",
      "  0 0  :  mean =   0.1927, RMS =   0.9030, cov =   0.8155\n",
      "  0 1  :  rho =  -0.5893,  cov =  -0.6939\n",
      "  1 1  :  mean =   0.8079, RMS =   1.3040, cov =   1.7004\n",
      "\n",
      "----- output-files-bootstrap-test6-2d-1a/bootstrap-weights-035.npy exists\n",
      "1000000\n",
      "[0.11164599 0.13551721 0.08839253 ... 0.0298522  0.14577901 0.03050621]\n",
      "[ 2.26735717 -0.73197332 -0.36372183 ...  0.39319069 -1.16843171\n",
      " -1.43896347]\n",
      "  0 0  :  mean =   0.1955, RMS =   0.8991, cov =   0.8084\n",
      "  0 1  :  rho =  -0.5852,  cov =  -0.6862\n",
      "  1 1  :  mean =   0.7981, RMS =   1.3041, cov =   1.7008\n",
      "\n",
      "----- output-files-bootstrap-test6-2d-1a/bootstrap-weights-036.npy exists\n",
      "1000000\n",
      "[0.11561821 0.13424451 0.08355514 ... 0.03489207 0.14194493 0.02875686]\n",
      "[ 2.26735717 -0.73197332 -0.36372183 ...  0.39319069 -1.16843171\n",
      " -1.43896347]\n",
      "  0 0  :  mean =   0.1929, RMS =   0.8993, cov =   0.8087\n",
      "  0 1  :  rho =  -0.5839,  cov =  -0.6820\n",
      "  1 1  :  mean =   0.8012, RMS =   1.2987, cov =   1.6867\n",
      "\n",
      "----- output-files-bootstrap-test6-2d-1a/bootstrap-weights-037.npy exists\n",
      "1000000\n",
      "[0.1171417  0.13890626 0.08241782 ... 0.03125033 0.14595453 0.03097914]\n",
      "[ 2.26735717 -0.73197332 -0.36372183 ...  0.39319069 -1.16843171\n",
      " -1.43896347]\n",
      "  0 0  :  mean =   0.1993, RMS =   0.8984, cov =   0.8071\n",
      "  0 1  :  rho =  -0.5879,  cov =  -0.6868\n",
      "  1 1  :  mean =   0.7991, RMS =   1.3003, cov =   1.6908\n",
      "\n",
      "----- output-files-bootstrap-test6-2d-1a/bootstrap-weights-038.npy exists\n",
      "1000000\n",
      "[0.1137472  0.13292528 0.08242097 ... 0.03375947 0.14175562 0.03322712]\n",
      "[ 2.26735717 -0.73197332 -0.36372183 ...  0.39319069 -1.16843171\n",
      " -1.43896347]\n",
      "  0 0  :  mean =   0.1926, RMS =   0.8992, cov =   0.8086\n",
      "  0 1  :  rho =  -0.5800,  cov =  -0.6814\n",
      "  1 1  :  mean =   0.8038, RMS =   1.3065, cov =   1.7070\n",
      "\n",
      "----- output-files-bootstrap-test6-2d-1a/bootstrap-weights-039.npy exists\n",
      "1000000\n",
      "[0.11578121 0.13270891 0.08526583 ... 0.03190807 0.15381975 0.02426855]\n",
      "[ 2.26735717 -0.73197332 -0.36372183 ...  0.39319069 -1.16843171\n",
      " -1.43896347]\n",
      "  0 0  :  mean =   0.1950, RMS =   0.8993, cov =   0.8087\n",
      "  0 1  :  rho =  -0.5894,  cov =  -0.6891\n",
      "  1 1  :  mean =   0.8049, RMS =   1.3002, cov =   1.6905\n",
      "\n",
      "----- output-files-bootstrap-test6-2d-1a/bootstrap-weights-040.npy exists\n",
      "1000000\n",
      "[0.11784544 0.13386869 0.08276758 ... 0.03471692 0.15475404 0.02922761]\n",
      "[ 2.26735717 -0.73197332 -0.36372183 ...  0.39319069 -1.16843171\n",
      " -1.43896347]\n",
      "  0 0  :  mean =   0.2044, RMS =   0.9029, cov =   0.8152\n",
      "  0 1  :  rho =  -0.5856,  cov =  -0.6913\n",
      "  1 1  :  mean =   0.7999, RMS =   1.3074, cov =   1.7093\n",
      "\n",
      "----- output-files-bootstrap-test6-2d-1a/bootstrap-weights-041.npy exists\n",
      "1000000\n",
      "[0.11166387 0.1333412  0.08342696 ... 0.02450523 0.14726772 0.03270314]\n",
      "[ 2.26735717 -0.73197332 -0.36372183 ...  0.39319069 -1.16843171\n",
      " -1.43896347]\n",
      "  0 0  :  mean =   0.1977, RMS =   0.8925, cov =   0.7965\n",
      "  0 1  :  rho =  -0.5781,  cov =  -0.6727\n",
      "  1 1  :  mean =   0.7983, RMS =   1.3038, cov =   1.6999\n",
      "\n",
      "----- output-files-bootstrap-test6-2d-1a/bootstrap-weights-042.npy exists\n",
      "1000000\n",
      "[0.11480868 0.1325149  0.08744646 ... 0.03065767 0.14223139 0.03011382]\n",
      "[ 2.26735717 -0.73197332 -0.36372183 ...  0.39319069 -1.16843171\n",
      " -1.43896347]\n",
      "  0 0  :  mean =   0.1958, RMS =   0.9057, cov =   0.8203\n",
      "  0 1  :  rho =  -0.5883,  cov =  -0.6969\n",
      "  1 1  :  mean =   0.8043, RMS =   1.3078, cov =   1.7103\n",
      "\n",
      "----- output-files-bootstrap-test6-2d-1a/bootstrap-weights-043.npy exists\n",
      "1000000\n",
      "[0.11381173 0.12639141 0.08930215 ... 0.02841443 0.14857877 0.03276318]\n",
      "[ 2.26735717 -0.73197332 -0.36372183 ...  0.39319069 -1.16843171\n",
      " -1.43896347]\n",
      "  0 0  :  mean =   0.1980, RMS =   0.9011, cov =   0.8121\n",
      "  0 1  :  rho =  -0.5895,  cov =  -0.6913\n",
      "  1 1  :  mean =   0.7995, RMS =   1.3014, cov =   1.6937\n",
      "\n",
      "----- output-files-bootstrap-test6-2d-1a/bootstrap-weights-044.npy exists\n",
      "1000000\n",
      "[0.10676303 0.13133837 0.08553605 ... 0.02895629 0.14179215 0.0286149 ]\n",
      "[ 2.26735717 -0.73197332 -0.36372183 ...  0.39319069 -1.16843171\n",
      " -1.43896347]\n",
      "  0 0  :  mean =   0.1963, RMS =   0.8948, cov =   0.8006\n",
      "  0 1  :  rho =  -0.5871,  cov =  -0.6859\n",
      "  1 1  :  mean =   0.8012, RMS =   1.3058, cov =   1.7051\n",
      "\n",
      "----- output-files-bootstrap-test6-2d-1a/bootstrap-weights-045.npy exists\n",
      "1000000\n",
      "[0.11447055 0.13274993 0.0871125  ... 0.03232259 0.13917046 0.03039185]\n",
      "[ 2.26735717 -0.73197332 -0.36372183 ...  0.39319069 -1.16843171\n",
      " -1.43896347]\n",
      "  0 0  :  mean =   0.1922, RMS =   0.8947, cov =   0.8006\n",
      "  0 1  :  rho =  -0.5857,  cov =  -0.6808\n",
      "  1 1  :  mean =   0.8005, RMS =   1.2992, cov =   1.6880\n",
      "\n",
      "----- output-files-bootstrap-test6-2d-1a/bootstrap-weights-046.npy exists\n",
      "1000000\n",
      "[0.11942034 0.12531203 0.08696505 ... 0.03205193 0.14582627 0.02746061]\n",
      "[ 2.26735717 -0.73197332 -0.36372183 ...  0.39319069 -1.16843171\n",
      " -1.43896347]\n",
      "  0 0  :  mean =   0.1901, RMS =   0.9011, cov =   0.8119\n",
      "  0 1  :  rho =  -0.5886,  cov =  -0.6903\n",
      "  1 1  :  mean =   0.8107, RMS =   1.3014, cov =   1.6937\n",
      "\n",
      "----- output-files-bootstrap-test6-2d-1a/bootstrap-weights-047.npy exists\n",
      "1000000\n",
      "[0.10953196 0.12656995 0.08851507 ... 0.02814806 0.14825696 0.02976621]\n",
      "[ 2.26735717 -0.73197332 -0.36372183 ...  0.39319069 -1.16843171\n",
      " -1.43896347]\n",
      "  0 0  :  mean =   0.1949, RMS =   0.8980, cov =   0.8064\n",
      "  0 1  :  rho =  -0.5865,  cov =  -0.6849\n",
      "  1 1  :  mean =   0.8044, RMS =   1.3005, cov =   1.6912\n",
      "\n",
      "----- output-files-bootstrap-test6-2d-1a/bootstrap-weights-048.npy exists\n",
      "1000000\n",
      "[0.11204256 0.13044919 0.08741038 ... 0.03016625 0.14448034 0.03420261]\n",
      "[ 2.26735717 -0.73197332 -0.36372183 ...  0.39319069 -1.16843171\n",
      " -1.43896347]\n",
      "  0 0  :  mean =   0.1942, RMS =   0.9031, cov =   0.8157\n",
      "  0 1  :  rho =  -0.5810,  cov =  -0.6823\n",
      "  1 1  :  mean =   0.8073, RMS =   1.3002, cov =   1.6905\n",
      "\n",
      "----- output-files-bootstrap-test6-2d-1a/bootstrap-weights-049.npy exists\n",
      "1000000\n",
      "[0.11228527 0.12688358 0.08582801 ... 0.03242666 0.15047769 0.03012728]\n",
      "[ 2.26735717 -0.73197332 -0.36372183 ...  0.39319069 -1.16843171\n",
      " -1.43896347]\n",
      "  0 0  :  mean =   0.1972, RMS =   0.9009, cov =   0.8117\n",
      "  0 1  :  rho =  -0.5849,  cov =  -0.6849\n",
      "  1 1  :  mean =   0.8001, RMS =   1.2996, cov =   1.6890\n",
      "CPU times: user 1.11 s, sys: 55.2 ms, total: 1.16 s\n",
      "Wall time: 1.13 s\n"
     ]
    }
   ],
   "source": [
    "%%time\n",
    "\n",
    "all_mean = np.zeros( shape=(ndim,n_samples) )\n",
    "all_rms = np.zeros( shape=(ndim,n_samples) )\n",
    "all_cov = np.zeros( shape=(ndim,ndim,n_samples) )\n",
    "all_rho = np.zeros( shape=(ndim,ndim,n_samples) )\n",
    "\n",
    "\n",
    "si = 0\n",
    "\n",
    "for fi in range(200) :\n",
    "    \n",
    "    fname = '%s/bootstrap-weights-%03d.npy' % (input_dir, fi)\n",
    "    \n",
    "    if exists(fname) :\n",
    "        \n",
    "        print('\\n----- %s exists' % fname )\n",
    "        \n",
    "        with open(fname,'rb') as f :\n",
    "            \n",
    "            final_push_weights_scaled = np.load(f)\n",
    "            print( len(final_push_weights_scaled))\n",
    "            print( final_push_weights_scaled )\n",
    "            print( true_pts[:,0])\n",
    "            \n",
    "            for fi1 in range(ndim) :\n",
    "                for fi2 in range(fi1,ndim) :\n",
    "                    mean_cov = calc_mean_cov( final_push_weights_scaled, fi1, fi2 )\n",
    "                    all_cov[fi1,fi2,si] = mean_cov[\"cov_x1x2\"]\n",
    "                    all_cov[fi2,fi1,si] = mean_cov[\"cov_x1x2\"]\n",
    "                    if ( fi1 == fi2 ) :\n",
    "                        print( \"  %d %d  :  mean = %8.4f, RMS = %8.4f, cov = %8.4f\" % \n",
    "                              (fi1, fi2, mean_cov[\"mean_x1\"], mean_cov[\"rms1\"], mean_cov[\"cov_x1x2\"]))\n",
    "                        all_mean[fi1,si] = mean_cov[\"mean_x1\"]\n",
    "                        all_rms[fi1,si] = mean_cov[\"rms1\"]\n",
    "                    else :\n",
    "                        print( \"  %d %d  :  rho = %8.4f,  cov = %8.4f\" %\n",
    "                              (fi1, fi2, mean_cov[\"rho12\"], mean_cov[\"cov_x1x2\"]) )\n",
    "                        all_rho[fi1,fi2,si] = mean_cov[\"rho12\"]\n",
    "                        all_rho[fi2,fi1,si] = mean_cov[\"rho12\"]\n",
    "                        \n",
    "        si = si + 1\n",
    "        \n",
    "            "
   ]
  },
  {
   "cell_type": "code",
   "execution_count": 21,
   "id": "04d3f4ab",
   "metadata": {},
   "outputs": [
    {
     "data": {
      "text/plain": [
       "<function matplotlib.pyplot.show(close=None, block=None)>"
      ]
     },
     "execution_count": 21,
     "metadata": {},
     "output_type": "execute_result"
    },
    {
     "data": {
      "image/png": "[encoded data removed]",
      "text/plain": [
       "<Figure size 1440x720 with 8 Axes>"
      ]
     },
     "metadata": {
      "needs_background": "light"
     },
     "output_type": "display_data"
    }
   ],
   "source": [
    "fig,ax = plt.subplots( 2, 4, figsize=(20,10))\n",
    "\n",
    "ymax = 10\n",
    "\n",
    "for i in range(ndim) :\n",
    "    \n",
    "    ax[0][i].hist( all_mean[i], bins=40)\n",
    "    ax[1][i].hist( all_rms[i], bins=40)\n",
    "    \n",
    "    ax[0][i].plot( (true_mu[i], true_mu[i]), (0,ymax), linewidth=3 )\n",
    "    ax[1][i].plot( (true_sig[i], true_sig[i]), (0,ymax), linewidth=3 )\n",
    "\n",
    "plt.show"
   ]
  },
  {
   "cell_type": "code",
   "execution_count": 22,
   "id": "8c9863c9",
   "metadata": {},
   "outputs": [
    {
     "data": {
      "text/plain": [
       "<function matplotlib.pyplot.show(close=None, block=None)>"
      ]
     },
     "execution_count": 22,
     "metadata": {},
     "output_type": "execute_result"
    },
    {
     "data": {
      "image/png": "[encoded data removed]",
      "text/plain": [
       "<Figure size 1440x1440 with 16 Axes>"
      ]
     },
     "metadata": {
      "needs_background": "light"
     },
     "output_type": "display_data"
    }
   ],
   "source": [
    "fig,ax = plt.subplots( 4, 4, figsize=(20,20))\n",
    "\n",
    "ymax = 10\n",
    "\n",
    "for i in range(0,ndim-1) :\n",
    "    \n",
    "    for j in range(i+1,ndim) :\n",
    "        \n",
    "        k = ndim - j - 1\n",
    "        \n",
    "        ax[i][j].hist( all_rho[i,j], bins=40)\n",
    "        \n",
    "        ax[i][j].plot( (true_rho[i][k], true_rho[i][k]), (0, ymax), linewidth=3 )\n",
    "    \n",
    "\n",
    "\n",
    "plt.show"
   ]
  },
  {
   "cell_type": "code",
   "execution_count": null,
   "id": "b443d87d",
   "metadata": {},
   "outputs": [],
   "source": []
  },
  {
   "cell_type": "code",
   "execution_count": 23,
   "id": "f27c1fdd",
   "metadata": {},
   "outputs": [
    {
     "name": "stdout",
     "output_type": "stream",
     "text": [
      "\n",
      "\n",
      "  feature 0  :  mean   ave   0.1951  (true   0.2000), rms   0.0032\n",
      "  feature 1  :  mean   ave   0.8013  (true   0.8000), rms   0.0053\n",
      "\n",
      "\n",
      "  feature 0  :  RMS    ave   0.8998  (true   0.9000), rms   0.0032\n",
      "  feature 1  :  RMS    ave   1.3034  (true   1.3000), rms   0.0034\n",
      "\n",
      "\n",
      "  feature 0, 1  :  rho    ave  -0.5885  (true  -0.6000), rms   0.0038\n",
      "\n",
      "\n",
      "  feature 0, 0  :  cov    ave   0.8097  (true   0.8100), rms   0.0058\n",
      "  feature 0, 1  :  cov    ave  -0.6902  (true  -0.7020), rms   0.0066\n",
      "  feature 1, 1  :  cov    ave   1.6988  (true   1.6900), rms   0.0088\n",
      "\n",
      "\n"
     ]
    }
   ],
   "source": [
    "print('\\n')\n",
    "\n",
    "ave_mean = np.zeros( ndim )\n",
    "rms_mean = np.zeros( ndim )\n",
    "\n",
    "ave_cov = np.zeros( shape=(ndim,ndim) )\n",
    "rms_cov = np.zeros( shape=(ndim,ndim) )\n",
    "\n",
    "\n",
    "for fi in range(ndim) :\n",
    "    \n",
    "    ave_mean[fi] = np.mean( all_mean[fi] )\n",
    "    ave_mean2 = np.mean( all_mean[fi]*all_mean[fi])\n",
    "    rms_mean[fi] = np.sqrt( ave_mean2 - ave_mean[fi]*ave_mean[fi] )\n",
    "    print(\"  feature %d  :  mean   ave %8.4f  (true %8.4f), rms %8.4f\" % (fi, ave_mean[fi], true_mu[fi], rms_mean[fi] ))\n",
    "    \n",
    "print('\\n')\n",
    "\n",
    "for fi in range(ndim) :\n",
    "    \n",
    "    ave_rms = np.mean( all_rms[fi] )\n",
    "    ave_rms2 = np.mean( all_rms[fi]*all_rms[fi])\n",
    "    rms_rms = np.sqrt( ave_rms2 - ave_rms*ave_rms )\n",
    "    print(\"  feature %d  :  RMS    ave %8.4f  (true %8.4f), rms %8.4f\" % (fi, ave_rms, true_sig[fi], rms_rms ))\n",
    "    \n",
    "print('\\n')\n",
    "\n",
    "for fi1 in range(0,ndim-1) :\n",
    "    for fi2 in range(fi1+1, ndim) :\n",
    "        k = ndim - fi2 - 1\n",
    "        ave_rho = np.mean( all_rho[fi1,fi2])\n",
    "        ave_rho2 = np.mean( all_rho[fi1,fi2]*all_rho[fi1,fi2] )\n",
    "        rms_rho = np.sqrt( ave_rho2 - ave_rho*ave_rho )\n",
    "        print(\"  feature %d, %d  :  rho    ave %8.4f  (true %8.4f), rms %8.4f\" % ( fi1, fi2, ave_rho, true_rho[fi1][k], rms_rho ))\n",
    "        \n",
    "print(\"\\n\")\n",
    "\n",
    "for fi1 in range(0,ndim) :\n",
    "    for fi2 in range(fi1,ndim) :\n",
    "        ave_cov[fi1,fi2] = np.mean( all_cov[fi1][fi2] )\n",
    "        ave_cov2 = np.mean( all_cov[fi1][fi2]*all_cov[fi1][fi2] )\n",
    "        rms_cov[fi1,fi2] = np.sqrt( ave_cov2 - ave_cov[fi1,fi2]*ave_cov[fi1,fi2] )\n",
    "        print(\"  feature %d, %d  :  cov    ave %8.4f  (true %8.4f), rms %8.4f\" %\n",
    "              (fi1, fi2, ave_cov[fi1,fi2], true_cov[fi1,fi2], rms_cov[fi1,fi2] ) )\n",
    "\n",
    "print(\"\\n\")"
   ]
  },
  {
   "cell_type": "code",
   "execution_count": null,
   "id": "9e67026d",
   "metadata": {},
   "outputs": [],
   "source": []
  },
  {
   "cell_type": "code",
   "execution_count": null,
   "id": "5e57da2c",
   "metadata": {},
   "outputs": [],
   "source": []
  },
  {
   "cell_type": "markdown",
   "id": "bf96d999",
   "metadata": {},
   "source": [
    "## Save the simple direct calculation results for setting fit parameter ranges from RMS."
   ]
  },
  {
   "cell_type": "code",
   "execution_count": 24,
   "id": "c63bfb8e",
   "metadata": {},
   "outputs": [],
   "source": [
    "with open( '%s/simple-calc-results.npy' % input_dir, 'wb' ) as f :\n",
    "    np.save( f, ave_mean )\n",
    "    np.save( f, rms_mean )\n",
    "    np.save( f, ave_cov )\n",
    "    np.save( f, rms_cov )"
   ]
  },
  {
   "cell_type": "code",
   "execution_count": null,
   "id": "3b9a8d6f",
   "metadata": {},
   "outputs": [],
   "source": []
  },
  {
   "cell_type": "code",
   "execution_count": null,
   "id": "81e9f657",
   "metadata": {},
   "outputs": [],
   "source": []
  },
  {
   "cell_type": "code",
   "execution_count": null,
   "id": "11a9ad8f",
   "metadata": {},
   "outputs": [],
   "source": []
  },
  {
   "cell_type": "code",
   "execution_count": 25,
   "id": "78ccb589",
   "metadata": {
    "scrolled": true
   },
   "outputs": [
    {
     "name": "stdout",
     "output_type": "stream",
     "text": [
      "  sample   0 :  mean1   calc    0.7908  fit   0.7908\n",
      "  sample   1 :  mean1   calc    0.7961  fit   0.7961\n",
      "  sample   2 :  mean1   calc    0.7969  fit   0.7969\n",
      "  sample   3 :  mean1   calc    0.7901  fit   0.7901\n",
      "  sample   4 :  mean1   calc    0.8055  fit   0.8055\n",
      "  sample   5 :  mean1   calc    0.7994  fit   0.7994\n",
      "  sample   6 :  mean1   calc    0.7976  fit   0.7976\n",
      "  sample   7 :  mean1   calc    0.7982  fit   0.7982\n",
      "  sample   8 :  mean1   calc    0.8007  fit   0.8007\n",
      "  sample   9 :  mean1   calc    0.8015  fit   0.8015\n",
      "  sample  10 :  mean1   calc    0.7956  fit   0.7956\n",
      "  sample  11 :  mean1   calc    0.8105  fit   0.8105\n",
      "  sample  12 :  mean1   calc    0.7992  fit   0.7992\n",
      "  sample  13 :  mean1   calc    0.8108  fit   0.8108\n",
      "  sample  14 :  mean1   calc    0.8059  fit   0.8059\n",
      "  sample  15 :  mean1   calc    0.8031  fit   0.8031\n",
      "  sample  16 :  mean1   calc    0.7931  fit   0.7931\n",
      "  sample  17 :  mean1   calc    0.8030  fit   0.8030\n",
      "  sample  18 :  mean1   calc    0.7989  fit   0.7989\n",
      "  sample  19 :  mean1   calc    0.8005  fit   0.8005\n",
      "  sample  20 :  mean1   calc    0.7982  fit   0.7982\n",
      "  sample  21 :  mean1   calc    0.8033  fit   0.8033\n",
      "  sample  22 :  mean1   calc    0.7981  fit   0.7981\n",
      "  sample  23 :  mean1   calc    0.7932  fit   0.7933\n",
      "  sample  24 :  mean1   calc    0.8029  fit   0.8029\n",
      "  sample  25 :  mean1   calc    0.8044  fit   0.8044\n",
      "  sample  26 :  mean1   calc    0.8099  fit   0.8099\n",
      "  sample  27 :  mean1   calc    0.8039  fit   0.8039\n",
      "  sample  28 :  mean1   calc    0.8107  fit   0.8107\n",
      "  sample  29 :  mean1   calc    0.8006  fit   0.8006\n",
      "  sample  30 :  mean1   calc    0.8099  fit   0.8099\n",
      "  sample  31 :  mean1   calc    0.8058  fit   0.8058\n",
      "  sample  32 :  mean1   calc    0.7924  fit   0.7924\n",
      "  sample  33 :  mean1   calc    0.7923  fit   0.7923\n",
      "  sample  34 :  mean1   calc    0.8079  fit   0.8079\n",
      "  sample  35 :  mean1   calc    0.7981  fit   0.7981\n",
      "  sample  36 :  mean1   calc    0.8012  fit   0.8012\n",
      "  sample  37 :  mean1   calc    0.7991  fit   0.7991\n",
      "  sample  38 :  mean1   calc    0.8038  fit   0.8038\n",
      "  sample  39 :  mean1   calc    0.8049  fit   0.8049\n",
      "  sample  40 :  mean1   calc    0.7999  fit   0.7999\n",
      "  sample  41 :  mean1   calc    0.7983  fit   0.7983\n",
      "  sample  42 :  mean1   calc    0.8043  fit   0.8043\n",
      "  sample  43 :  mean1   calc    0.7995  fit   0.7995\n",
      "  sample  44 :  mean1   calc    0.8012  fit   0.8012\n",
      "  sample  45 :  mean1   calc    0.8005  fit   0.8005\n",
      "  sample  46 :  mean1   calc    0.8107  fit   0.8107\n",
      "  sample  47 :  mean1   calc    0.8044  fit   0.8044\n",
      "  sample  48 :  mean1   calc    0.8073  fit   0.8073\n",
      "  sample  49 :  mean1   calc    0.8001  fit   0.8001\n"
     ]
    }
   ],
   "source": [
    "if have_fits :\n",
    "    \n",
    "    for si in range( n_samples ) :\n",
    "        \n",
    "        for fi in range( 1,2 ) :\n",
    "            print(\"  sample %3d :  mean%d   calc  %8.4f  fit %8.4f\" % \n",
    "                  (si, fi, all_mean[fi,si], fit_results_mean_val[fi,si]))"
   ]
  },
  {
   "cell_type": "code",
   "execution_count": 26,
   "id": "88bea9bb",
   "metadata": {},
   "outputs": [
    {
     "name": "stdout",
     "output_type": "stream",
     "text": [
      "   0 : x axis limits:  0.186, 0.205    y axis limits  0.186, 0.205\n",
      "   1 : x axis limits:  0.789, 0.812    y axis limits  0.789, 0.812\n"
     ]
    },
    {
     "data": {
      "text/plain": [
       "<function matplotlib.pyplot.show(close=None, block=None)>"
      ]
     },
     "execution_count": 26,
     "metadata": {},
     "output_type": "execute_result"
    },
    {
     "data": {
      "image/png": "[encoded data removed]",
      "text/plain": [
       "<Figure size 720x720 with 4 Axes>"
      ]
     },
     "metadata": {
      "needs_background": "light"
     },
     "output_type": "display_data"
    }
   ],
   "source": [
    "fig,ax = plt.subplots( 2, ndim, figsize=(5*ndim,5*2))\n",
    "\n",
    "hbins=40\n",
    "hmax = 10\n",
    "\n",
    "for fi in range(ndim) :\n",
    "    ax[0][fi].scatter( all_mean[fi,:], fit_results_mean_val[fi,:])\n",
    "    xlow, xhigh = ax[0][fi].get_xlim()\n",
    "    ylow, yhigh = ax[0][fi].get_ylim()\n",
    "    print(\"  %2d : x axis limits:  %.3f, %.3f    y axis limits  %.3f, %.3f\" % \n",
    "              (fi, xlow, xhigh, ylow, yhigh))\n",
    "    ax[0][fi].plot( (xlow, xhigh), (true_mu[fi], true_mu[fi]))\n",
    "    ax[0][fi].plot( (true_mu[fi], true_mu[fi]), (ylow, yhigh))\n",
    "    \n",
    "\n",
    "    ax[1][fi].hist( fit_results_mean_val[fi,:], bins=hbins, \n",
    "                   range=[ave_mean[fi]-3*rms_mean[fi], ave_mean[fi]+3*rms_mean[fi]])\n",
    "    ax[1][fi].hist( all_mean[fi,:], bins=hbins, alpha=0.5,\n",
    "                   range=[ave_mean[fi]-3*rms_mean[fi], ave_mean[fi]+3*rms_mean[fi]])\n",
    "    ax[1][fi].plot( (true_mu[fi],true_mu[fi]),(0,hmax), linewidth=3)\n",
    "    \n",
    "\n",
    "plt.show"
   ]
  },
  {
   "cell_type": "code",
   "execution_count": 27,
   "id": "f971f4dc",
   "metadata": {},
   "outputs": [
    {
     "name": "stdout",
     "output_type": "stream",
     "text": [
      "   0,  0 : x axis limits:  0.794, 0.822    y axis limits  0.794, 0.822\n",
      "   0,  1 : x axis limits:  -0.705, -0.671    y axis limits  -0.705, -0.671\n",
      "   1,  1 : x axis limits:  1.679, 1.723    y axis limits  1.679, 1.723\n"
     ]
    },
    {
     "data": {
      "text/plain": [
       "<function matplotlib.pyplot.show(close=None, block=None)>"
      ]
     },
     "execution_count": 27,
     "metadata": {},
     "output_type": "execute_result"
    },
    {
     "data": {
      "image/png": "[encoded data removed]",
      "text/plain": [
       "<Figure size 720x720 with 4 Axes>"
      ]
     },
     "metadata": {
      "needs_background": "light"
     },
     "output_type": "display_data"
    }
   ],
   "source": [
    "fig,ax = plt.subplots( ndim, ndim, figsize=(5*ndim,5*ndim))\n",
    "\n",
    "for fi1 in range(ndim) :\n",
    "    for fi2 in range(fi1,ndim) :\n",
    "        ax[fi1][fi2].scatter( all_cov[fi1,fi2,:], fit_results_cov_val[fi1,fi2,:])\n",
    "        xlow, xhigh = ax[fi1][fi2].get_xlim()\n",
    "        ylow, yhigh = ax[fi1][fi2].get_ylim()\n",
    "        print(\"  %2d, %2d : x axis limits:  %.3f, %.3f    y axis limits  %.3f, %.3f\" % \n",
    "              (fi1, fi2, xlow, xhigh, ylow, yhigh))\n",
    "        ax[fi1][fi2].plot((xlow,xhigh),(true_cov[fi1][fi2], true_cov[fi1][fi2]))\n",
    "        ax[fi1][fi2].plot((true_cov[fi1][fi2], true_cov[fi1][fi2]),(ylow,yhigh))\n",
    "\n",
    "plt.show"
   ]
  },
  {
   "cell_type": "code",
   "execution_count": 28,
   "id": "deb2b4be",
   "metadata": {},
   "outputs": [
    {
     "name": "stdout",
     "output_type": "stream",
     "text": [
      "   0,  0 : x axis limits:  0.790, 0.829    y axis limits  0.000, 8.400\n",
      "   0,  1 : x axis limits:  -0.712, -0.669    y axis limits  0.000, 5.250\n",
      "   1,  1 : x axis limits:  1.670, 1.728    y axis limits  0.000, 5.250\n"
     ]
    },
    {
     "data": {
      "text/plain": [
       "<function matplotlib.pyplot.show(close=None, block=None)>"
      ]
     },
     "execution_count": 28,
     "metadata": {},
     "output_type": "execute_result"
    },
    {
     "data": {
      "image/png": "[encoded data removed]",
      "text/plain": [
       "<Figure size 720x720 with 4 Axes>"
      ]
     },
     "metadata": {
      "needs_background": "light"
     },
     "output_type": "display_data"
    }
   ],
   "source": [
    "fig,ax = plt.subplots( ndim, ndim, figsize=(5*ndim,5*ndim))\n",
    "\n",
    "hbins=40\n",
    "hmax=10\n",
    "\n",
    "for fi1 in range(ndim) :\n",
    "    for fi2 in range(fi1,ndim) :\n",
    "        ax[fi1][fi2].hist( fit_results_cov_val[fi1,fi2,:], bins=hbins, \n",
    "                         range=[ave_cov[fi1,fi2]-3*rms_cov[fi1,fi2], ave_cov[fi1,fi2]+3*rms_cov[fi1][fi2]] )\n",
    "        ax[fi1][fi2].hist( all_cov[fi1,fi2,:], bins=hbins, alpha=0.5,\n",
    "                         range=[ave_cov[fi1,fi2]-3*rms_cov[fi1,fi2], ave_cov[fi1,fi2]+3*rms_cov[fi1][fi2]] )\n",
    "        xlow, xhigh = ax[fi1][fi2].get_xlim()\n",
    "        ylow, yhigh = ax[fi1][fi2].get_ylim()\n",
    "        print(\"  %2d, %2d : x axis limits:  %.3f, %.3f    y axis limits  %.3f, %.3f\" % \n",
    "              (fi1, fi2, xlow, xhigh, ylow, yhigh))\n",
    "\n",
    "        ax[fi1][fi2].plot((true_cov[fi1][fi2], true_cov[fi1][fi2]),(0,hmax), linewidth=3)\n",
    "\n",
    "plt.show"
   ]
  },
  {
   "cell_type": "code",
   "execution_count": null,
   "id": "2de961c3",
   "metadata": {},
   "outputs": [],
   "source": []
  },
  {
   "cell_type": "code",
   "execution_count": null,
   "id": "ecd333e7",
   "metadata": {},
   "outputs": [],
   "source": []
  },
  {
   "cell_type": "code",
   "execution_count": 29,
   "id": "cdba36dd",
   "metadata": {},
   "outputs": [
    {
     "data": {
      "text/plain": [
       "<function matplotlib.pyplot.show(close=None, block=None)>"
      ]
     },
     "execution_count": 29,
     "metadata": {},
     "output_type": "execute_result"
    },
    {
     "data": {
      "image/png": "[encoded data removed]",
      "text/plain": [
       "<Figure size 720x360 with 2 Axes>"
      ]
     },
     "metadata": {
      "needs_background": "light"
     },
     "output_type": "display_data"
    }
   ],
   "source": [
    "fig,ax = plt.subplots( 1, ndim, figsize=(5*ndim,5))\n",
    "\n",
    "hbins = 40\n",
    "hmax = 10\n",
    "\n",
    "for fi in range(ndim) :\n",
    "    ax[fi].hist( fit_results_mean_err[fi,:], bins=hbins )\n",
    "    ax[fi].plot( (rms_mean[fi], rms_mean[fi]), (0,hmax) )\n",
    "    \n",
    "    \n",
    "plt.show"
   ]
  },
  {
   "cell_type": "code",
   "execution_count": null,
   "id": "67af76ee",
   "metadata": {},
   "outputs": [],
   "source": []
  },
  {
   "cell_type": "code",
   "execution_count": 30,
   "id": "b212bbe1",
   "metadata": {},
   "outputs": [
    {
     "name": "stdout",
     "output_type": "stream",
     "text": [
      "  feature 0 mean:   rms bootstraps   0.0032,  ave fit err   0.0028    ratio      1.12\n",
      "  feature 1 mean:   rms bootstraps   0.0053,  ave fit err   0.0041    ratio      1.29\n"
     ]
    }
   ],
   "source": [
    "for fi in range(ndim) :\n",
    "    \n",
    "    print(\"  feature %d mean:   rms bootstraps %8.4f,  ave fit err %8.4f    ratio  %8.2f\"\n",
    "         % (fi, rms_mean[fi], ave_fit_err_mean[fi], rms_mean[fi] / ave_fit_err_mean[fi] ))"
   ]
  },
  {
   "cell_type": "code",
   "execution_count": null,
   "id": "1d600c7d",
   "metadata": {},
   "outputs": [],
   "source": []
  }
 ],
 "metadata": {
  "kernelspec": {
   "display_name": "Python 3 (ipykernel)",
   "language": "python",
   "name": "python3"
  },
  "language_info": {
   "codemirror_mode": {
    "name": "ipython",
    "version": 3
   },
   "file_extension": ".py",
   "mimetype": "text/x-python",
   "name": "python",
   "nbconvert_exporter": "python",
   "pygments_lexer": "ipython3",
   "version": "3.10.12"
  }
 },
 "nbformat": 4,
 "nbformat_minor": 5
}
