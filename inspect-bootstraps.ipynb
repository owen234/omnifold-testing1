{
 "cells": [
  {
   "cell_type": "code",
   "execution_count": 1,
   "id": "1c1a549e",
   "metadata": {},
   "outputs": [],
   "source": [
    "import matplotlib.pyplot as plt\n",
    "import numpy as np\n",
    "\n",
    "import time\n",
    "\n",
    "import sys\n",
    "import os\n",
    "\n",
    "from datetime import datetime\n",
    "import subprocess\n",
    "\n",
    "from os.path import exists\n",
    "\n",
    "import read_config_utils as cu\n",
    "\n",
    "import matplotlib as mpl"
   ]
  },
  {
   "cell_type": "code",
   "execution_count": 2,
   "id": "cb746b1c",
   "metadata": {},
   "outputs": [
    {
     "name": "stdout",
     "output_type": "stream",
     "text": [
      "\n",
      "\n",
      "\n",
      " shape of train_pts:  (100000, 2)\n",
      " shape of true_pts:   (10000, 2)\n",
      "\n",
      "\n",
      "\n"
     ]
    }
   ],
   "source": [
    "#input_dir = 'output-files-bootstrap-test7-2d'\n",
    "\n",
    "#input_dir = 'output-files-bootstrap-test6b-2d-2a-100k'\n",
    "\n",
    "#input_dir = 'bootstrap-simple-pdf-toy-study6b-2d-v1b'\n",
    "\n",
    "#input_dir = 'output-files-bootstrap-test6b-2d-2a'\n",
    "\n",
    "\n",
    "\n",
    "\n",
    "#input_dir = 'bootstrap-toy-study6b-2d-4c'\n",
    "\n",
    "input_dir = 'bootstrap-simple-pdf-toy-study6b-2d-4c'\n",
    "\n",
    "\n",
    "\n",
    "\n",
    "\n",
    "with open( '%s/train-and-true-samples.npy' % input_dir, 'rb') as f :\n",
    "    train_pts = np.load(f)\n",
    "    train_det_pts = np.load(f)\n",
    "    true_pts = np.load(f)\n",
    "    true_det_pts = np.load(f)\n",
    "    \n",
    "print('\\n\\n')\n",
    "print(' shape of train_pts:  %s' % str(train_pts.shape))\n",
    "print(' shape of true_pts:   %s' % str(true_pts.shape))\n",
    "print('\\n\\n')\n",
    "\n"
   ]
  },
  {
   "cell_type": "code",
   "execution_count": null,
   "id": "99bbf301",
   "metadata": {},
   "outputs": [],
   "source": []
  },
  {
   "cell_type": "code",
   "execution_count": null,
   "id": "706075d7",
   "metadata": {},
   "outputs": [],
   "source": []
  },
  {
   "cell_type": "code",
   "execution_count": 3,
   "id": "efdcf99f",
   "metadata": {},
   "outputs": [],
   "source": [
    "config_file = '%s/config.txt' % (input_dir)\n",
    "\n",
    "if not exists(config_file) :\n",
    "    \n",
    "    print(\"\\n\\n\\n ******* Input file does not exist: %s\\n\\n\\n\" % config_file )\n",
    "    sys.exit()\n",
    "    "
   ]
  },
  {
   "cell_type": "code",
   "execution_count": 4,
   "id": "728d9e18",
   "metadata": {},
   "outputs": [
    {
     "name": "stdout",
     "output_type": "stream",
     "text": [
      "\n",
      "\n",
      " Number of feature dimensions: 2\n",
      "\n",
      "\n"
     ]
    }
   ],
   "source": [
    "ndim = int(cu.get_par( config_file, \"ndim\"))\n",
    "print(\"\\n\\n Number of feature dimensions: %d\\n\\n\" % ndim)"
   ]
  },
  {
   "cell_type": "code",
   "execution_count": 5,
   "id": "dd582d37",
   "metadata": {},
   "outputs": [],
   "source": [
    "with open( '%s/config-pars.npy' % input_dir, 'rb') as f :\n",
    "    train_mu = np.load(f, allow_pickle=True )\n",
    "    train_rho = np.load(f, allow_pickle=True)\n",
    "    train_sig = np.load(f, allow_pickle=True)    \n",
    "    true_mu = np.load(f, allow_pickle=True )\n",
    "    true_rho = np.load(f, allow_pickle=True)\n",
    "    true_sig = np.load(f, allow_pickle=True)  \n",
    "    resolution = np.load(f, allow_pickle=True)"
   ]
  },
  {
   "cell_type": "code",
   "execution_count": null,
   "id": "d397c276",
   "metadata": {},
   "outputs": [],
   "source": []
  },
  {
   "cell_type": "code",
   "execution_count": 6,
   "id": "f233f314",
   "metadata": {},
   "outputs": [
    {
     "data": {
      "text/plain": [
       "<function matplotlib.pyplot.show(close=None, block=None)>"
      ]
     },
     "execution_count": 6,
     "metadata": {},
     "output_type": "execute_result"
    },
    {
     "data": {
      "image/png": "[encoded data removed]",
      "text/plain": [
       "<Figure size 720x360 with 2 Axes>"
      ]
     },
     "metadata": {
      "needs_background": "light"
     },
     "output_type": "display_data"
    }
   ],
   "source": [
    "fig,ax = plt.subplots( 1, ndim, figsize=(5*ndim,5))\n",
    "\n",
    "\n",
    "\n",
    "hmin=-5\n",
    "hmax=5\n",
    "\n",
    "\n",
    "hmin=-14\n",
    "hmax=14\n",
    "\n",
    "hbins=40\n",
    "\n",
    "\n",
    "for i in range(ndim) :\n",
    "        ax[i].hist( train_det_pts[:,i],bins=hbins, range=[hmin,hmax], density=True )\n",
    "        ax[i].hist( true_det_pts[:,i],bins=hbins, range=[hmin,hmax], density=True, alpha=0.5 )\n",
    "    \n",
    "plt.show"
   ]
  },
  {
   "cell_type": "code",
   "execution_count": 7,
   "id": "0f368d18",
   "metadata": {},
   "outputs": [
    {
     "data": {
      "text/plain": [
       "<function matplotlib.pyplot.show(close=None, block=None)>"
      ]
     },
     "execution_count": 7,
     "metadata": {},
     "output_type": "execute_result"
    },
    {
     "data": {
      "image/png": "[encoded data removed]",
      "text/plain": [
       "<Figure size 720x360 with 2 Axes>"
      ]
     },
     "metadata": {
      "needs_background": "light"
     },
     "output_type": "display_data"
    }
   ],
   "source": [
    "fig,ax = plt.subplots( 1, ndim, figsize=(5*ndim,5))\n",
    "\n",
    "hbins=40\n",
    "\n",
    "\n",
    "for i in range(ndim) :\n",
    "        ax[i].hist( train_det_pts[:,i],bins=hbins, range=[hmin,hmax], density=True )\n",
    "        ax[i].hist( true_det_pts[:,i],bins=hbins, range=[hmin,hmax], density=True, alpha=0.5 )\n",
    "        ax[i].set_yscale('log')\n",
    "    \n",
    "plt.show"
   ]
  },
  {
   "cell_type": "code",
   "execution_count": null,
   "id": "bd2f5ecd",
   "metadata": {},
   "outputs": [],
   "source": []
  },
  {
   "cell_type": "code",
   "execution_count": 8,
   "id": "1886f4fd",
   "metadata": {},
   "outputs": [],
   "source": [
    "with open( \"%s/omnifold-output-weights.npy\" % input_dir,'rb') as f :\n",
    "    main_sample_omnifold_weights = np.load(f)\n"
   ]
  },
  {
   "cell_type": "code",
   "execution_count": 9,
   "id": "658df349",
   "metadata": {},
   "outputs": [],
   "source": [
    "main_sample_omnifold_weights = np.clip( main_sample_omnifold_weights, 1e-11, 1e11)"
   ]
  },
  {
   "cell_type": "code",
   "execution_count": 10,
   "id": "7cd9c7b1",
   "metadata": {},
   "outputs": [
    {
     "data": {
      "text/plain": [
       "<function matplotlib.pyplot.show(close=None, block=None)>"
      ]
     },
     "execution_count": 10,
     "metadata": {},
     "output_type": "execute_result"
    },
    {
     "data": {
      "image/png": "[encoded data removed]",
      "text/plain": [
       "<Figure size 1008x360 with 2 Axes>"
      ]
     },
     "metadata": {
      "needs_background": "light"
     },
     "output_type": "display_data"
    }
   ],
   "source": [
    "fig,ax = plt.subplots( 1, 2, figsize=(2*7,5))\n",
    "\n",
    "hbins = 60\n",
    "ax[0].hist( np.log10(main_sample_omnifold_weights), bins=hbins)\n",
    "ax[1].hist( main_sample_omnifold_weights, bins=hbins)\n",
    "ax[1].set_yscale('log')\n",
    "plt.show"
   ]
  },
  {
   "cell_type": "code",
   "execution_count": null,
   "id": "12d75312",
   "metadata": {},
   "outputs": [],
   "source": []
  },
  {
   "cell_type": "code",
   "execution_count": 11,
   "id": "d62b0546",
   "metadata": {},
   "outputs": [
    {
     "data": {
      "text/plain": [
       "array([[-0.6]])"
      ]
     },
     "execution_count": 11,
     "metadata": {},
     "output_type": "execute_result"
    }
   ],
   "source": [
    "true_rho"
   ]
  },
  {
   "cell_type": "code",
   "execution_count": 12,
   "id": "4e0d6c27",
   "metadata": {},
   "outputs": [
    {
     "data": {
      "text/plain": [
       "(2,)"
      ]
     },
     "execution_count": 12,
     "metadata": {},
     "output_type": "execute_result"
    }
   ],
   "source": [
    "true_mu.shape"
   ]
  },
  {
   "cell_type": "code",
   "execution_count": 13,
   "id": "2d65ce2e",
   "metadata": {},
   "outputs": [
    {
     "name": "stdout",
     "output_type": "stream",
     "text": [
      " 0, 1, 0\n"
     ]
    }
   ],
   "source": [
    "true_cov = np.zeros( shape=(ndim,ndim) )\n",
    "\n",
    "for i in range(ndim) :\n",
    "    for j in range(ndim) :\n",
    "        k = ndim - j - 1\n",
    "        if i == j :\n",
    "            true_cov[i][j] = true_sig[i]*true_sig[i]\n",
    "        elif j > i :\n",
    "            print(\" %d, %d, %d\" % (i,j,k))\n",
    "            true_cov[i][j] = true_rho[i][k] * true_sig[i] * true_sig[j]"
   ]
  },
  {
   "cell_type": "code",
   "execution_count": 14,
   "id": "b6582258",
   "metadata": {},
   "outputs": [
    {
     "data": {
      "text/plain": [
       "array([[ 0.81 , -0.702],\n",
       "       [ 0.   ,  1.69 ]])"
      ]
     },
     "execution_count": 14,
     "metadata": {},
     "output_type": "execute_result"
    }
   ],
   "source": [
    "true_cov"
   ]
  },
  {
   "cell_type": "code",
   "execution_count": null,
   "id": "1fbc5ace",
   "metadata": {},
   "outputs": [],
   "source": []
  },
  {
   "cell_type": "code",
   "execution_count": null,
   "id": "c32571b2",
   "metadata": {},
   "outputs": [],
   "source": []
  },
  {
   "cell_type": "code",
   "execution_count": null,
   "id": "9bf44517",
   "metadata": {},
   "outputs": [],
   "source": []
  },
  {
   "cell_type": "code",
   "execution_count": 15,
   "id": "7c663b9f",
   "metadata": {},
   "outputs": [
    {
     "name": "stdout",
     "output_type": "stream",
     "text": [
      "\n",
      "\n",
      " Have fit results file.\n",
      "\n",
      "\n"
     ]
    }
   ],
   "source": [
    "have_fits = False\n",
    "\n",
    "if exists( \"%s/fit-results.npy\" % input_dir ) :\n",
    "    have_fits = True\n",
    "    print(\"\\n\\n Have fit results file.\\n\\n\")"
   ]
  },
  {
   "cell_type": "code",
   "execution_count": 16,
   "id": "1824cfea",
   "metadata": {},
   "outputs": [
    {
     "name": "stdout",
     "output_type": "stream",
     "text": [
      "0 : ave fit error, mean :    0.0090\n",
      "1 : ave fit error, mean :    0.0128\n",
      "fi1, fi2 : 0, 0    ave fit error, cov :   0.0117\n",
      "fi1, fi2 : 0, 1    ave fit error, cov :   0.0136\n",
      "fi1, fi2 : 1, 1    ave fit error, cov :   0.0237\n"
     ]
    }
   ],
   "source": [
    "if have_fits :\n",
    "    \n",
    "    with open( '%s/fit-results.npy' % input_dir, 'rb' ) as f :\n",
    "        fit_results_mean_val = np.load(f, allow_pickle=True )\n",
    "        fit_results_mean_err = np.load(f, allow_pickle=True )\n",
    "        fit_results_cov_val = np.load(f, allow_pickle=True )\n",
    "        fit_results_cov_err = np.load(f, allow_pickle=True )        \n",
    "        \n",
    "\n",
    "    ave_fit_err_mean = np.zeros( ndim )\n",
    "    \n",
    "    ave_fit_err_cov = np.zeros( shape=(ndim,ndim) )\n",
    "\n",
    "    for fi in range(ndim) :\n",
    "    \n",
    "        ave_fit_err_mean[fi] = np.mean( fit_results_mean_err[fi,:])\n",
    "        \n",
    "        print( '%d : ave fit error, mean :  %8.4f' % (fi, ave_fit_err_mean[fi]))\n",
    "        \n",
    "    for fi1 in range(ndim) :\n",
    "        for fi2 in range(fi1,ndim) :\n",
    "            \n",
    "            \n",
    "            ave_fit_err_cov[fi1,fi2] = np.mean( fit_results_cov_err[fi1,fi2,:])\n",
    "            \n",
    "            print( 'fi1, fi2 : %d, %d    ave fit error, cov : %8.4f' % (fi1,fi2, ave_fit_err_cov[fi1,fi2]))\n",
    "    "
   ]
  },
  {
   "cell_type": "code",
   "execution_count": null,
   "id": "56e76fbd",
   "metadata": {},
   "outputs": [],
   "source": []
  },
  {
   "cell_type": "code",
   "execution_count": null,
   "id": "bf2a2d42",
   "metadata": {},
   "outputs": [],
   "source": []
  },
  {
   "cell_type": "code",
   "execution_count": 17,
   "id": "cec505a9",
   "metadata": {},
   "outputs": [],
   "source": [
    "def calc_mean( weights, fi ) :\n",
    "    \n",
    "    mean = ( np.sum( weights * train_pts[:,fi]) ) / ( np.sum( weights ) )\n",
    "    \n",
    "    return mean"
   ]
  },
  {
   "cell_type": "code",
   "execution_count": 18,
   "id": "4eca21da",
   "metadata": {},
   "outputs": [],
   "source": [
    "def calc_rms( weights, fi ) :\n",
    "    \n",
    "    x = calc_mean( weights, fi )\n",
    "    xx = ( np.sum( weights * train_pts[:,fi] * train_pts[:,fi] ) ) / ( np.sum( weights ) )\n",
    "    \n",
    "    #print(\" x = %f,  xx = %f\" % (x, xx))\n",
    "    \n",
    "    return np.sqrt(xx - x*x)\n"
   ]
  },
  {
   "cell_type": "code",
   "execution_count": 19,
   "id": "fdec65ac",
   "metadata": {},
   "outputs": [],
   "source": [
    "def calc_cov( weights, fi1, fi2 ) :\n",
    "    \n",
    "    x1 = calc_mean( weights, fi1 )\n",
    "    x2 = calc_mean( weights, fi2 )\n",
    "    x1x2 = ( np.sum( weights * train_pts[:,fi1] * train_pts[:,fi2] ) ) / ( np.sum( weights ) )\n",
    "    \n",
    "    return np.sqrt( x1x2 - x1*x2 )\n",
    "    "
   ]
  },
  {
   "cell_type": "code",
   "execution_count": 20,
   "id": "509e43b6",
   "metadata": {},
   "outputs": [],
   "source": [
    "def calc_mean_cov( weights, fi1, fi2 ) :\n",
    "\n",
    "    return_dict = {}\n",
    "    \n",
    "    wsum = np.sum( weights )\n",
    "    \n",
    "    wx1 = np.sum( weights * train_pts[:,fi1] )\n",
    "    wx2 = np.sum( weights * train_pts[:,fi2] )\n",
    "    wx1x2 = np.sum( weights * train_pts[:,fi1] * train_pts[:,fi2] )\n",
    "\n",
    "    x1 = wx1 / wsum\n",
    "    x2 = wx2 / wsum\n",
    "\n",
    "    x1x2 = wx1x2 / wsum\n",
    "    \n",
    "    cov12 = x1x2 - x1*x2\n",
    "\n",
    "    \n",
    "    return_dict[\"mean_x1\"] = x1\n",
    "    return_dict[\"mean_x2\"] = x2\n",
    "    return_dict[\"cov_x1x2\"] = cov12    \n",
    "    \n",
    "    if fi1 != fi2 :\n",
    "        wx1x1 = np.sum( weights * train_pts[:,fi1] * train_pts[:,fi1] )\n",
    "        wx2x2 = np.sum( weights * train_pts[:,fi2] * train_pts[:,fi2] )\n",
    "        cov11 = wx1x1 / wsum - x1*x1\n",
    "        cov22 = wx2x2 / wsum - x2*x2\n",
    "\n",
    "        rms1 = np.sqrt(cov11)\n",
    "        rms2 = np.sqrt(cov22)\n",
    "        rho12 = cov12 / (rms1*rms2)     \n",
    "    \n",
    "        return_dict[\"rho12\"] = rho12\n",
    "        return_dict[\"rms1\"] = rms1\n",
    "        return_dict[\"rms2\"] = rms2\n",
    "    else :\n",
    "        rms1 = np.sqrt(cov12)\n",
    "        return_dict[\"rms1\"] = rms1\n",
    "        \n",
    "    return return_dict\n",
    "\n",
    "\n",
    "    "
   ]
  },
  {
   "cell_type": "code",
   "execution_count": 21,
   "id": "ab3cee63",
   "metadata": {},
   "outputs": [
    {
     "name": "stdout",
     "output_type": "stream",
     "text": [
      "\n",
      "\n",
      " Found 100 bootstrap samples.\n",
      "\n",
      "\n"
     ]
    }
   ],
   "source": [
    "n_samples = 0\n",
    "\n",
    "for fi in range(1000) :\n",
    "    \n",
    "    fname = '%s/bootstrap-weights-%03d.npy' % (input_dir, fi)\n",
    "    \n",
    "    if exists(fname) :\n",
    "        n_samples = n_samples + 1\n",
    "        \n",
    "print(\"\\n\\n Found %d bootstrap samples.\\n\\n\" % n_samples )"
   ]
  },
  {
   "cell_type": "code",
   "execution_count": 22,
   "id": "73c3238b",
   "metadata": {
    "scrolled": true
   },
   "outputs": [
    {
     "name": "stdout",
     "output_type": "stream",
     "text": [
      "\n",
      "----- bootstrap-simple-pdf-toy-study6b-2d-4c/bootstrap-weights-000.npy exists\n",
      "100000\n",
      "[0.06123674 0.08537678 0.02759656 ... 0.07235463 0.10618998 0.10120787]\n",
      "[ 0.34426023 -0.15155005  0.31560852 ...  0.21250232  1.45614692\n",
      "  0.08527077]\n",
      "  0 0  :  mean =   0.2005, RMS =   0.9207, cov =   0.8478\n",
      "  0 1  :  rho =  -0.5778,  cov =  -0.6953\n",
      "  1 1  :  mean =   0.8072, RMS =   1.3069, cov =   1.7079\n",
      "\n",
      "----- bootstrap-simple-pdf-toy-study6b-2d-4c/bootstrap-weights-001.npy exists\n",
      "100000\n",
      "[0.05833136 0.08620518 0.03377933 ... 0.07567951 0.10280617 0.0971358 ]\n",
      "[ 0.34426023 -0.15155005  0.31560852 ...  0.21250232  1.45614692\n",
      "  0.08527077]\n",
      "  0 0  :  mean =   0.2090, RMS =   0.9260, cov =   0.8576\n",
      "  0 1  :  rho =  -0.5936,  cov =  -0.7242\n",
      "  1 1  :  mean =   0.8038, RMS =   1.3175, cov =   1.7357\n",
      "\n",
      "----- bootstrap-simple-pdf-toy-study6b-2d-4c/bootstrap-weights-002.npy exists\n",
      "100000\n",
      "[0.0571016  0.09269365 0.03367377 ... 0.07289527 0.09591309 0.10330868]\n",
      "[ 0.34426023 -0.15155005  0.31560852 ...  0.21250232  1.45614692\n",
      "  0.08527077]\n",
      "  0 0  :  mean =   0.2205, RMS =   0.9280, cov =   0.8612\n",
      "  0 1  :  rho =  -0.5814,  cov =  -0.7126\n",
      "  1 1  :  mean =   0.7674, RMS =   1.3207, cov =   1.7443\n",
      "\n",
      "----- bootstrap-simple-pdf-toy-study6b-2d-4c/bootstrap-weights-003.npy exists\n",
      "100000\n",
      "[0.06156684 0.09437113 0.03010672 ... 0.07382649 0.10237318 0.09770364]\n",
      "[ 0.34426023 -0.15155005  0.31560852 ...  0.21250232  1.45614692\n",
      "  0.08527077]\n",
      "  0 0  :  mean =   0.2157, RMS =   0.9308, cov =   0.8663\n",
      "  0 1  :  rho =  -0.5878,  cov =  -0.7310\n",
      "  1 1  :  mean =   0.8013, RMS =   1.3361, cov =   1.7851\n",
      "\n",
      "----- bootstrap-simple-pdf-toy-study6b-2d-4c/bootstrap-weights-004.npy exists\n",
      "100000\n",
      "[0.06206021 0.08696391 0.03678027 ... 0.07128299 0.10129635 0.10217328]\n",
      "[ 0.34426023 -0.15155005  0.31560852 ...  0.21250232  1.45614692\n",
      "  0.08527077]\n",
      "  0 0  :  mean =   0.2081, RMS =   0.9290, cov =   0.8631\n",
      "  0 1  :  rho =  -0.5950,  cov =  -0.7273\n",
      "  1 1  :  mean =   0.7731, RMS =   1.3157, cov =   1.7312\n",
      "\n",
      "----- bootstrap-simple-pdf-toy-study6b-2d-4c/bootstrap-weights-005.npy exists\n",
      "100000\n",
      "[0.05196399 0.08759835 0.04527316 ... 0.07026843 0.10201821 0.09950444]\n",
      "[ 0.34426023 -0.15155005  0.31560852 ...  0.21250232  1.45614692\n",
      "  0.08527077]\n",
      "  0 0  :  mean =   0.2067, RMS =   0.9145, cov =   0.8363\n",
      "  0 1  :  rho =  -0.5699,  cov =  -0.6796\n",
      "  1 1  :  mean =   0.7941, RMS =   1.3041, cov =   1.7006\n",
      "\n",
      "----- bootstrap-simple-pdf-toy-study6b-2d-4c/bootstrap-weights-006.npy exists\n",
      "100000\n",
      "[0.05521762 0.08116968 0.0527554  ... 0.06916755 0.09739456 0.1101278 ]\n",
      "[ 0.34426023 -0.15155005  0.31560852 ...  0.21250232  1.45614692\n",
      "  0.08527077]\n",
      "  0 0  :  mean =   0.2039, RMS =   0.9160, cov =   0.8391\n",
      "  0 1  :  rho =  -0.5653,  cov =  -0.6716\n",
      "  1 1  :  mean =   0.7917, RMS =   1.2969, cov =   1.6820\n",
      "\n",
      "----- bootstrap-simple-pdf-toy-study6b-2d-4c/bootstrap-weights-007.npy exists\n",
      "100000\n",
      "[0.05616697 0.09285472 0.06558592 ... 0.07136627 0.09863169 0.09988973]\n",
      "[ 0.34426023 -0.15155005  0.31560852 ...  0.21250232  1.45614692\n",
      "  0.08527077]\n",
      "  0 0  :  mean =   0.2099, RMS =   0.9285, cov =   0.8622\n",
      "  0 1  :  rho =  -0.5807,  cov =  -0.7034\n",
      "  1 1  :  mean =   0.7805, RMS =   1.3044, cov =   1.7015\n",
      "\n",
      "----- bootstrap-simple-pdf-toy-study6b-2d-4c/bootstrap-weights-008.npy exists\n",
      "100000\n",
      "[0.05435691 0.08180808 0.04999412 ... 0.07296657 0.10113295 0.10280314]\n",
      "[ 0.34426023 -0.15155005  0.31560852 ...  0.21250232  1.45614692\n",
      "  0.08527077]\n",
      "  0 0  :  mean =   0.2038, RMS =   0.9274, cov =   0.8600\n",
      "  0 1  :  rho =  -0.5787,  cov =  -0.7093\n",
      "  1 1  :  mean =   0.7913, RMS =   1.3217, cov =   1.7469\n",
      "\n",
      "----- bootstrap-simple-pdf-toy-study6b-2d-4c/bootstrap-weights-009.npy exists\n",
      "100000\n",
      "[0.05910976 0.08526136 0.03162425 ... 0.06920585 0.105305   0.10314197]\n",
      "[ 0.34426023 -0.15155005  0.31560852 ...  0.21250232  1.45614692\n",
      "  0.08527077]\n",
      "  0 0  :  mean =   0.2076, RMS =   0.9260, cov =   0.8574\n",
      "  0 1  :  rho =  -0.5775,  cov =  -0.6927\n",
      "  1 1  :  mean =   0.7891, RMS =   1.2953, cov =   1.6778\n",
      "\n",
      "----- bootstrap-simple-pdf-toy-study6b-2d-4c/bootstrap-weights-010.npy exists\n",
      "100000\n",
      "[0.05849062 0.09264035 0.06831603 ... 0.07059445 0.09690117 0.10406319]\n",
      "[ 0.34426023 -0.15155005  0.31560852 ...  0.21250232  1.45614692\n",
      "  0.08527077]\n",
      "  0 0  :  mean =   0.2075, RMS =   0.9299, cov =   0.8648\n",
      "  0 1  :  rho =  -0.5745,  cov =  -0.7003\n",
      "  1 1  :  mean =   0.7770, RMS =   1.3109, cov =   1.7184\n",
      "\n",
      "----- bootstrap-simple-pdf-toy-study6b-2d-4c/bootstrap-weights-011.npy exists\n",
      "100000\n",
      "[0.05913982 0.08689654 0.04399307 ... 0.07466312 0.10519356 0.10151864]\n",
      "[ 0.34426023 -0.15155005  0.31560852 ...  0.21250232  1.45614692\n",
      "  0.08527077]\n",
      "  0 0  :  mean =   0.2066, RMS =   0.9259, cov =   0.8574\n",
      "  0 1  :  rho =  -0.5848,  cov =  -0.7103\n",
      "  1 1  :  mean =   0.7963, RMS =   1.3117, cov =   1.7205\n",
      "\n",
      "----- bootstrap-simple-pdf-toy-study6b-2d-4c/bootstrap-weights-012.npy exists\n",
      "100000\n",
      "[0.05765151 0.09042439 0.02863209 ... 0.07544281 0.09983854 0.10387893]\n",
      "[ 0.34426023 -0.15155005  0.31560852 ...  0.21250232  1.45614692\n",
      "  0.08527077]\n",
      "  0 0  :  mean =   0.1958, RMS =   0.9201, cov =   0.8466\n",
      "  0 1  :  rho =  -0.5671,  cov =  -0.6840\n",
      "  1 1  :  mean =   0.8051, RMS =   1.3109, cov =   1.7185\n",
      "\n",
      "----- bootstrap-simple-pdf-toy-study6b-2d-4c/bootstrap-weights-013.npy exists\n",
      "100000\n",
      "[0.05748578 0.08957265 0.01470785 ... 0.07105683 0.1054758  0.10300773]\n",
      "[ 0.34426023 -0.15155005  0.31560852 ...  0.21250232  1.45614692\n",
      "  0.08527077]\n",
      "  0 0  :  mean =   0.2073, RMS =   0.9218, cov =   0.8497\n",
      "  0 1  :  rho =  -0.5830,  cov =  -0.7016\n",
      "  1 1  :  mean =   0.7836, RMS =   1.3055, cov =   1.7043\n",
      "\n",
      "----- bootstrap-simple-pdf-toy-study6b-2d-4c/bootstrap-weights-014.npy exists\n",
      "100000\n",
      "[0.05510309 0.0955449  0.02178844 ... 0.07049562 0.09615337 0.10308174]\n",
      "[ 0.34426023 -0.15155005  0.31560852 ...  0.21250232  1.45614692\n",
      "  0.08527077]\n",
      "  0 0  :  mean =   0.2271, RMS =   0.9336, cov =   0.8716\n",
      "  0 1  :  rho =  -0.5809,  cov =  -0.7135\n",
      "  1 1  :  mean =   0.7503, RMS =   1.3157, cov =   1.7311\n",
      "\n",
      "----- bootstrap-simple-pdf-toy-study6b-2d-4c/bootstrap-weights-015.npy exists\n",
      "100000\n",
      "[0.05691313 0.08925923 0.0505195  ... 0.07300603 0.10152985 0.10530038]\n",
      "[ 0.34426023 -0.15155005  0.31560852 ...  0.21250232  1.45614692\n",
      "  0.08527077]\n",
      "  0 0  :  mean =   0.2130, RMS =   0.9283, cov =   0.8618\n",
      "  0 1  :  rho =  -0.5728,  cov =  -0.7000\n",
      "  1 1  :  mean =   0.7839, RMS =   1.3165, cov =   1.7331\n",
      "\n",
      "----- bootstrap-simple-pdf-toy-study6b-2d-4c/bootstrap-weights-016.npy exists\n",
      "100000\n",
      "[0.05672479 0.09001551 0.03308315 ... 0.07137668 0.09722034 0.09953409]\n",
      "[ 0.34426023 -0.15155005  0.31560852 ...  0.21250232  1.45614692\n",
      "  0.08527077]\n",
      "  0 0  :  mean =   0.2165, RMS =   0.9260, cov =   0.8574\n",
      "  0 1  :  rho =  -0.5809,  cov =  -0.6999\n",
      "  1 1  :  mean =   0.7747, RMS =   1.3012, cov =   1.6930\n",
      "\n",
      "----- bootstrap-simple-pdf-toy-study6b-2d-4c/bootstrap-weights-017.npy exists\n",
      "100000\n",
      "[0.05214887 0.09865123 0.03988833 ... 0.06610361 0.10560795 0.10489701]\n",
      "[ 0.34426023 -0.15155005  0.31560852 ...  0.21250232  1.45614692\n",
      "  0.08527077]\n",
      "  0 0  :  mean =   0.1842, RMS =   0.9169, cov =   0.8407\n",
      "  0 1  :  rho =  -0.5609,  cov =  -0.6793\n",
      "  1 1  :  mean =   0.7905, RMS =   1.3209, cov =   1.7448\n",
      "\n",
      "----- bootstrap-simple-pdf-toy-study6b-2d-4c/bootstrap-weights-018.npy exists\n",
      "100000\n",
      "[0.06597936 0.09215218 0.02740043 ... 0.08014843 0.10702155 0.10551826]\n",
      "[ 0.34426023 -0.15155005  0.31560852 ...  0.21250232  1.45614692\n",
      "  0.08527077]\n",
      "  0 0  :  mean =   0.1792, RMS =   0.9121, cov =   0.8319\n",
      "  0 1  :  rho =  -0.5709,  cov =  -0.6810\n",
      "  1 1  :  mean =   0.8245, RMS =   1.3078, cov =   1.7103\n",
      "\n",
      "----- bootstrap-simple-pdf-toy-study6b-2d-4c/bootstrap-weights-019.npy exists\n",
      "100000\n",
      "[0.05939329 0.08919747 0.02555841 ... 0.07427318 0.1041055  0.09924076]\n",
      "[ 0.34426023 -0.15155005  0.31560852 ...  0.21250232  1.45614692\n",
      "  0.08527077]\n",
      "  0 0  :  mean =   0.2141, RMS =   0.9289, cov =   0.8629\n",
      "  0 1  :  rho =  -0.5932,  cov =  -0.7276\n",
      "  1 1  :  mean =   0.7938, RMS =   1.3204, cov =   1.7435\n",
      "\n",
      "----- bootstrap-simple-pdf-toy-study6b-2d-4c/bootstrap-weights-020.npy exists\n",
      "100000\n",
      "[0.05892893 0.09213694 0.01931184 ... 0.07675516 0.10087425 0.10143607]\n",
      "[ 0.34426023 -0.15155005  0.31560852 ...  0.21250232  1.45614692\n",
      "  0.08527077]\n",
      "  0 0  :  mean =   0.2131, RMS =   0.9194, cov =   0.8452\n",
      "  0 1  :  rho =  -0.5875,  cov =  -0.7136\n",
      "  1 1  :  mean =   0.7850, RMS =   1.3212, cov =   1.7456\n",
      "\n",
      "----- bootstrap-simple-pdf-toy-study6b-2d-4c/bootstrap-weights-021.npy exists\n",
      "100000\n",
      "[0.05570929 0.08546588 0.05459881 ... 0.06874396 0.10698358 0.10809666]\n",
      "[ 0.34426023 -0.15155005  0.31560852 ...  0.21250232  1.45614692\n",
      "  0.08527077]\n",
      "  0 0  :  mean =   0.1961, RMS =   0.9181, cov =   0.8429\n",
      "  0 1  :  rho =  -0.5797,  cov =  -0.6988\n",
      "  1 1  :  mean =   0.7896, RMS =   1.3130, cov =   1.7239\n",
      "\n",
      "----- bootstrap-simple-pdf-toy-study6b-2d-4c/bootstrap-weights-022.npy exists\n",
      "100000\n",
      "[0.06387531 0.08564148 0.03780264 ... 0.07765696 0.10359804 0.1026782 ]\n",
      "[ 0.34426023 -0.15155005  0.31560852 ...  0.21250232  1.45614692\n",
      "  0.08527077]\n",
      "  0 0  :  mean =   0.2113, RMS =   0.9373, cov =   0.8786\n",
      "  0 1  :  rho =  -0.5895,  cov =  -0.7324\n",
      "  1 1  :  mean =   0.7905, RMS =   1.3253, cov =   1.7565\n",
      "\n",
      "----- bootstrap-simple-pdf-toy-study6b-2d-4c/bootstrap-weights-023.npy exists\n",
      "100000\n",
      "[0.06180355 0.08819261 0.02068116 ... 0.07531096 0.10137923 0.10074549]\n",
      "[ 0.34426023 -0.15155005  0.31560852 ...  0.21250232  1.45614692\n",
      "  0.08527077]\n",
      "  0 0  :  mean =   0.1945, RMS =   0.9351, cov =   0.8744\n",
      "  0 1  :  rho =  -0.5822,  cov =  -0.7236\n",
      "  1 1  :  mean =   0.8094, RMS =   1.3291, cov =   1.7665\n",
      "\n",
      "----- bootstrap-simple-pdf-toy-study6b-2d-4c/bootstrap-weights-024.npy exists\n",
      "100000\n",
      "[0.0538359  0.08888014 0.03177297 ... 0.06820872 0.09809613 0.11261385]\n",
      "[ 0.34426023 -0.15155005  0.31560852 ...  0.21250232  1.45614692\n",
      "  0.08527077]\n",
      "  0 0  :  mean =   0.1998, RMS =   0.9241, cov =   0.8540\n",
      "  0 1  :  rho =  -0.5719,  cov =  -0.6863\n",
      "  1 1  :  mean =   0.7809, RMS =   1.2986, cov =   1.6865\n",
      "\n",
      "----- bootstrap-simple-pdf-toy-study6b-2d-4c/bootstrap-weights-025.npy exists\n",
      "100000\n",
      "[0.05931167 0.08273613 0.02487447 ... 0.07226604 0.10242124 0.10477129]\n",
      "[ 0.34426023 -0.15155005  0.31560852 ...  0.21250232  1.45614692\n",
      "  0.08527077]\n",
      "  0 0  :  mean =   0.2032, RMS =   0.9291, cov =   0.8632\n",
      "  0 1  :  rho =  -0.5931,  cov =  -0.7212\n",
      "  1 1  :  mean =   0.8001, RMS =   1.3087, cov =   1.7128\n",
      "\n",
      "----- bootstrap-simple-pdf-toy-study6b-2d-4c/bootstrap-weights-026.npy exists\n",
      "100000\n",
      "[0.05461631 0.08644023 0.01324424 ... 0.07199539 0.10214678 0.09799066]\n",
      "[ 0.34426023 -0.15155005  0.31560852 ...  0.21250232  1.45614692\n",
      "  0.08527077]\n",
      "  0 0  :  mean =   0.2093, RMS =   0.9277, cov =   0.8606\n",
      "  0 1  :  rho =  -0.5721,  cov =  -0.6843\n",
      "  1 1  :  mean =   0.7872, RMS =   1.2893, cov =   1.6624\n",
      "\n",
      "----- bootstrap-simple-pdf-toy-study6b-2d-4c/bootstrap-weights-027.npy exists\n",
      "100000\n",
      "[0.0452215  0.08863426 0.02508726 ... 0.06915368 0.10353615 0.10501366]\n",
      "[ 0.34426023 -0.15155005  0.31560852 ...  0.21250232  1.45614692\n",
      "  0.08527077]\n",
      "  0 0  :  mean =   0.2114, RMS =   0.9201, cov =   0.8465\n",
      "  0 1  :  rho =  -0.5783,  cov =  -0.6958\n",
      "  1 1  :  mean =   0.7752, RMS =   1.3076, cov =   1.7099\n",
      "\n",
      "----- bootstrap-simple-pdf-toy-study6b-2d-4c/bootstrap-weights-028.npy exists\n",
      "100000\n",
      "[0.05716053 0.09145898 0.03680556 ... 0.06996141 0.10154139 0.10303636]\n",
      "[ 0.34426023 -0.15155005  0.31560852 ...  0.21250232  1.45614692\n",
      "  0.08527077]\n",
      "  0 0  :  mean =   0.2266, RMS =   0.9114, cov =   0.8307\n",
      "  0 1  :  rho =  -0.5746,  cov =  -0.6855\n",
      "  1 1  :  mean =   0.7860, RMS =   1.3089, cov =   1.7131\n",
      "\n",
      "----- bootstrap-simple-pdf-toy-study6b-2d-4c/bootstrap-weights-029.npy exists\n",
      "100000\n",
      "[0.05739538 0.08969541 0.03280035 ... 0.07352325 0.10136436 0.10704002]\n",
      "[ 0.34426023 -0.15155005  0.31560852 ...  0.21250232  1.45614692\n",
      "  0.08527077]\n",
      "  0 0  :  mean =   0.2069, RMS =   0.9246, cov =   0.8550\n",
      "  0 1  :  rho =  -0.5876,  cov =  -0.7101\n",
      "  1 1  :  mean =   0.7699, RMS =   1.3070, cov =   1.7082\n",
      "\n",
      "----- bootstrap-simple-pdf-toy-study6b-2d-4c/bootstrap-weights-030.npy exists\n",
      "100000\n",
      "[0.05143352 0.08548493 0.02516187 ... 0.06934033 0.10443301 0.11025729]\n",
      "[ 0.34426023 -0.15155005  0.31560852 ...  0.21250232  1.45614692\n",
      "  0.08527077]\n",
      "  0 0  :  mean =   0.2137, RMS =   0.9122, cov =   0.8321\n",
      "  0 1  :  rho =  -0.5737,  cov =  -0.6849\n",
      "  1 1  :  mean =   0.7916, RMS =   1.3088, cov =   1.7129\n",
      "\n",
      "----- bootstrap-simple-pdf-toy-study6b-2d-4c/bootstrap-weights-031.npy exists\n",
      "100000\n",
      "[0.04739549 0.08665505 0.04837718 ... 0.06657566 0.10835557 0.09652325]\n",
      "[ 0.34426023 -0.15155005  0.31560852 ...  0.21250232  1.45614692\n",
      "  0.08527077]\n",
      "  0 0  :  mean =   0.2155, RMS =   0.9162, cov =   0.8393\n",
      "  0 1  :  rho =  -0.5744,  cov =  -0.6924\n",
      "  1 1  :  mean =   0.8032, RMS =   1.3157, cov =   1.7311\n",
      "\n",
      "----- bootstrap-simple-pdf-toy-study6b-2d-4c/bootstrap-weights-032.npy exists\n",
      "100000\n",
      "[0.06282642 0.09019919 0.02229338 ... 0.08047961 0.10155407 0.10148141]\n",
      "[ 0.34426023 -0.15155005  0.31560852 ...  0.21250232  1.45614692\n",
      "  0.08527077]\n",
      "  0 0  :  mean =   0.1824, RMS =   0.9182, cov =   0.8431\n",
      "  0 1  :  rho =  -0.5777,  cov =  -0.6868\n",
      "  1 1  :  mean =   0.8063, RMS =   1.2946, cov =   1.6761\n",
      "\n",
      "----- bootstrap-simple-pdf-toy-study6b-2d-4c/bootstrap-weights-033.npy exists\n",
      "100000\n",
      "[0.05561375 0.08760793 0.02469588 ... 0.07108888 0.1056135  0.10559359]\n",
      "[ 0.34426023 -0.15155005  0.31560852 ...  0.21250232  1.45614692\n",
      "  0.08527077]\n",
      "  0 0  :  mean =   0.2004, RMS =   0.9124, cov =   0.8324\n",
      "  0 1  :  rho =  -0.5855,  cov =  -0.7005\n",
      "  1 1  :  mean =   0.8028, RMS =   1.3112, cov =   1.7194\n",
      "\n",
      "----- bootstrap-simple-pdf-toy-study6b-2d-4c/bootstrap-weights-034.npy exists\n",
      "100000\n",
      "[0.05663441 0.09252847 0.04082001 ... 0.0666407  0.10139042 0.10885518]\n",
      "[ 0.34426023 -0.15155005  0.31560852 ...  0.21250232  1.45614692\n",
      "  0.08527077]\n",
      "  0 0  :  mean =   0.2078, RMS =   0.9294, cov =   0.8638\n",
      "  0 1  :  rho =  -0.5709,  cov =  -0.6949\n",
      "  1 1  :  mean =   0.7794, RMS =   1.3097, cov =   1.7153\n",
      "\n",
      "----- bootstrap-simple-pdf-toy-study6b-2d-4c/bootstrap-weights-035.npy exists\n",
      "100000\n",
      "[0.05499979 0.08165252 0.03633167 ... 0.07195779 0.10909509 0.10419241]\n",
      "[ 0.34426023 -0.15155005  0.31560852 ...  0.21250232  1.45614692\n",
      "  0.08527077]\n",
      "  0 0  :  mean =   0.2127, RMS =   0.9152, cov =   0.8376\n",
      "  0 1  :  rho =  -0.5769,  cov =  -0.6880\n",
      "  1 1  :  mean =   0.8069, RMS =   1.3031, cov =   1.6981\n",
      "\n",
      "----- bootstrap-simple-pdf-toy-study6b-2d-4c/bootstrap-weights-036.npy exists\n",
      "100000\n",
      "[0.05666477 0.09435215 0.01641682 ... 0.07192531 0.10397838 0.10730496]\n",
      "[ 0.34426023 -0.15155005  0.31560852 ...  0.21250232  1.45614692\n",
      "  0.08527077]\n",
      "  0 0  :  mean =   0.1984, RMS =   0.9147, cov =   0.8366\n",
      "  0 1  :  rho =  -0.5785,  cov =  -0.6846\n",
      "  1 1  :  mean =   0.7769, RMS =   1.2938, cov =   1.6738\n",
      "\n",
      "----- bootstrap-simple-pdf-toy-study6b-2d-4c/bootstrap-weights-037.npy exists\n",
      "100000\n",
      "[0.05174662 0.0969349  0.02574451 ... 0.06944761 0.10598032 0.10155335]\n",
      "[ 0.34426023 -0.15155005  0.31560852 ...  0.21250232  1.45614692\n",
      "  0.08527077]\n",
      "  0 0  :  mean =   0.2046, RMS =   0.9180, cov =   0.8427\n",
      "  0 1  :  rho =  -0.5677,  cov =  -0.6931\n",
      "  1 1  :  mean =   0.7866, RMS =   1.3299, cov =   1.7686\n",
      "\n",
      "----- bootstrap-simple-pdf-toy-study6b-2d-4c/bootstrap-weights-038.npy exists\n",
      "100000\n",
      "[0.06092246 0.08620303 0.05626299 ... 0.07041222 0.10322476 0.10353305]\n",
      "[ 0.34426023 -0.15155005  0.31560852 ...  0.21250232  1.45614692\n",
      "  0.08527077]\n",
      "  0 0  :  mean =   0.1909, RMS =   0.9277, cov =   0.8606\n",
      "  0 1  :  rho =  -0.5792,  cov =  -0.7096\n",
      "  1 1  :  mean =   0.7970, RMS =   1.3206, cov =   1.7441\n",
      "\n",
      "----- bootstrap-simple-pdf-toy-study6b-2d-4c/bootstrap-weights-039.npy exists\n",
      "100000\n",
      "[0.06021989 0.08150708 0.03019368 ... 0.07998482 0.10115704 0.10160725]\n",
      "[ 0.34426023 -0.15155005  0.31560852 ...  0.21250232  1.45614692\n",
      "  0.08527077]\n",
      "  0 0  :  mean =   0.1978, RMS =   0.9378, cov =   0.8795\n",
      "  0 1  :  rho =  -0.5986,  cov =  -0.7459\n",
      "  1 1  :  mean =   0.7986, RMS =   1.3288, cov =   1.7657\n",
      "\n",
      "----- bootstrap-simple-pdf-toy-study6b-2d-4c/bootstrap-weights-040.npy exists\n",
      "100000\n",
      "[0.05399284 0.09826739 0.01849581 ... 0.07189023 0.10379159 0.10513386]\n",
      "[ 0.34426023 -0.15155005  0.31560852 ...  0.21250232  1.45614692\n",
      "  0.08527077]\n",
      "  0 0  :  mean =   0.2085, RMS =   0.9104, cov =   0.8289\n",
      "  0 1  :  rho =  -0.5734,  cov =  -0.6856\n",
      "  1 1  :  mean =   0.7734, RMS =   1.3134, cov =   1.7249\n",
      "\n",
      "----- bootstrap-simple-pdf-toy-study6b-2d-4c/bootstrap-weights-041.npy exists\n",
      "100000\n",
      "[0.05152209 0.09052777 0.034168   ... 0.06871459 0.10389251 0.10511692]\n",
      "[ 0.34426023 -0.15155005  0.31560852 ...  0.21250232  1.45614692\n",
      "  0.08527077]\n",
      "  0 0  :  mean =   0.2251, RMS =   0.9133, cov =   0.8342\n",
      "  0 1  :  rho =  -0.5710,  cov =  -0.6794\n",
      "  1 1  :  mean =   0.7664, RMS =   1.3028, cov =   1.6973\n",
      "\n",
      "----- bootstrap-simple-pdf-toy-study6b-2d-4c/bootstrap-weights-042.npy exists\n",
      "100000\n",
      "[0.06242229 0.0958034  0.03794113 ... 0.07519714 0.09818492 0.10166621]\n",
      "[ 0.34426023 -0.15155005  0.31560852 ...  0.21250232  1.45614692\n",
      "  0.08527077]\n",
      "  0 0  :  mean =   0.2047, RMS =   0.9311, cov =   0.8669\n",
      "  0 1  :  rho =  -0.5818,  cov =  -0.7162\n",
      "  1 1  :  mean =   0.7817, RMS =   1.3221, cov =   1.7479\n",
      "\n",
      "----- bootstrap-simple-pdf-toy-study6b-2d-4c/bootstrap-weights-043.npy exists\n",
      "100000\n",
      "[0.05477778 0.08712589 0.03090601 ... 0.07111561 0.10323123 0.10587125]\n",
      "[ 0.34426023 -0.15155005  0.31560852 ...  0.21250232  1.45614692\n",
      "  0.08527077]\n",
      "  0 0  :  mean =   0.2082, RMS =   0.9289, cov =   0.8628\n",
      "  0 1  :  rho =  -0.5887,  cov =  -0.7285\n",
      "  1 1  :  mean =   0.7907, RMS =   1.3322, cov =   1.7748\n",
      "\n",
      "----- bootstrap-simple-pdf-toy-study6b-2d-4c/bootstrap-weights-044.npy exists\n",
      "100000\n",
      "[0.05168762 0.09042196 0.0506676  ... 0.06515234 0.10685088 0.1001202 ]\n",
      "[ 0.34426023 -0.15155005  0.31560852 ...  0.21250232  1.45614692\n",
      "  0.08527077]\n",
      "  0 0  :  mean =   0.2234, RMS =   0.9171, cov =   0.8410\n",
      "  0 1  :  rho =  -0.5754,  cov =  -0.6848\n",
      "  1 1  :  mean =   0.7901, RMS =   1.2977, cov =   1.6840\n",
      "\n",
      "----- bootstrap-simple-pdf-toy-study6b-2d-4c/bootstrap-weights-045.npy exists\n",
      "100000\n",
      "[0.06101164 0.09260586 0.02207149 ... 0.07947146 0.10156445 0.10734567]\n",
      "[ 0.34426023 -0.15155005  0.31560852 ...  0.21250232  1.45614692\n",
      "  0.08527077]\n",
      "  0 0  :  mean =   0.1967, RMS =   0.9195, cov =   0.8455\n",
      "  0 1  :  rho =  -0.5725,  cov =  -0.6884\n",
      "  1 1  :  mean =   0.7975, RMS =   1.3077, cov =   1.7101\n",
      "\n",
      "----- bootstrap-simple-pdf-toy-study6b-2d-4c/bootstrap-weights-046.npy exists\n",
      "100000\n",
      "[0.04933427 0.08763896 0.02590447 ... 0.06730681 0.0997695  0.10631377]\n",
      "[ 0.34426023 -0.15155005  0.31560852 ...  0.21250232  1.45614692\n",
      "  0.08527077]\n",
      "  0 0  :  mean =   0.2170, RMS =   0.9192, cov =   0.8450\n",
      "  0 1  :  rho =  -0.5685,  cov =  -0.6830\n",
      "  1 1  :  mean =   0.7688, RMS =   1.3072, cov =   1.7087\n",
      "\n",
      "----- bootstrap-simple-pdf-toy-study6b-2d-4c/bootstrap-weights-047.npy exists\n",
      "100000\n",
      "[0.06368745 0.08701683 0.01936563 ... 0.07368011 0.10389326 0.10248834]\n",
      "[ 0.34426023 -0.15155005  0.31560852 ...  0.21250232  1.45614692\n",
      "  0.08527077]\n",
      "  0 0  :  mean =   0.1989, RMS =   0.9360, cov =   0.8762\n",
      "  0 1  :  rho =  -0.5819,  cov =  -0.7102\n",
      "  1 1  :  mean =   0.8104, RMS =   1.3037, cov =   1.6997\n",
      "\n",
      "----- bootstrap-simple-pdf-toy-study6b-2d-4c/bootstrap-weights-048.npy exists\n",
      "100000\n",
      "[0.05886368 0.08936356 0.03177448 ... 0.07143424 0.10413071 0.09748214]\n",
      "[ 0.34426023 -0.15155005  0.31560852 ...  0.21250232  1.45614692\n",
      "  0.08527077]\n",
      "  0 0  :  mean =   0.2101, RMS =   0.9179, cov =   0.8426\n",
      "  0 1  :  rho =  -0.5731,  cov =  -0.6925\n",
      "  1 1  :  mean =   0.8132, RMS =   1.3165, cov =   1.7331\n",
      "\n",
      "----- bootstrap-simple-pdf-toy-study6b-2d-4c/bootstrap-weights-049.npy exists\n",
      "100000\n",
      "[0.05121874 0.09279672 0.04462662 ... 0.06469501 0.10724721 0.11072344]\n",
      "[ 0.34426023 -0.15155005  0.31560852 ...  0.21250232  1.45614692\n",
      "  0.08527077]\n",
      "  0 0  :  mean =   0.1903, RMS =   0.9085, cov =   0.8255\n",
      "  0 1  :  rho =  -0.5691,  cov =  -0.6783\n",
      "  1 1  :  mean =   0.7945, RMS =   1.3118, cov =   1.7207\n",
      "\n",
      "----- bootstrap-simple-pdf-toy-study6b-2d-4c/bootstrap-weights-050.npy exists\n",
      "100000\n",
      "[0.05795609 0.08561036 0.03443449 ... 0.07134396 0.10519081 0.10519458]\n",
      "[ 0.34426023 -0.15155005  0.31560852 ...  0.21250232  1.45614692\n",
      "  0.08527077]\n",
      "  0 0  :  mean =   0.1846, RMS =   0.9233, cov =   0.8526\n",
      "  0 1  :  rho =  -0.5763,  cov =  -0.7036\n",
      "  1 1  :  mean =   0.8052, RMS =   1.3221, cov =   1.7481\n",
      "\n",
      "----- bootstrap-simple-pdf-toy-study6b-2d-4c/bootstrap-weights-051.npy exists\n",
      "100000\n",
      "[0.05579597 0.10236196 0.03978273 ... 0.07333761 0.0985347  0.10028139]\n",
      "[ 0.34426023 -0.15155005  0.31560852 ...  0.21250232  1.45614692\n",
      "  0.08527077]\n",
      "  0 0  :  mean =   0.2059, RMS =   0.9073, cov =   0.8233\n",
      "  0 1  :  rho =  -0.5790,  cov =  -0.6875\n",
      "  1 1  :  mean =   0.7695, RMS =   1.3087, cov =   1.7127\n",
      "\n",
      "----- bootstrap-simple-pdf-toy-study6b-2d-4c/bootstrap-weights-052.npy exists\n",
      "100000\n",
      "[0.05530208 0.10348839 0.04663925 ... 0.07147499 0.10329586 0.10092196]\n",
      "[ 0.34426023 -0.15155005  0.31560852 ...  0.21250232  1.45614692\n",
      "  0.08527077]\n",
      "  0 0  :  mean =   0.2003, RMS =   0.9181, cov =   0.8429\n",
      "  0 1  :  rho =  -0.5794,  cov =  -0.7020\n",
      "  1 1  :  mean =   0.7858, RMS =   1.3197, cov =   1.7415\n",
      "\n",
      "----- bootstrap-simple-pdf-toy-study6b-2d-4c/bootstrap-weights-053.npy exists\n",
      "100000\n",
      "[0.05800509 0.0946233  0.03867825 ... 0.0761588  0.10340097 0.10500292]\n",
      "[ 0.34426023 -0.15155005  0.31560852 ...  0.21250232  1.45614692\n",
      "  0.08527077]\n",
      "  0 0  :  mean =   0.1919, RMS =   0.9250, cov =   0.8556\n",
      "  0 1  :  rho =  -0.5731,  cov =  -0.6985\n",
      "  1 1  :  mean =   0.7990, RMS =   1.3176, cov =   1.7361\n",
      "\n",
      "----- bootstrap-simple-pdf-toy-study6b-2d-4c/bootstrap-weights-054.npy exists\n",
      "100000\n",
      "[0.05681451 0.08894566 0.032496   ... 0.06988999 0.10103506 0.10214924]\n",
      "[ 0.34426023 -0.15155005  0.31560852 ...  0.21250232  1.45614692\n",
      "  0.08527077]\n",
      "  0 0  :  mean =   0.2167, RMS =   0.9297, cov =   0.8643\n",
      "  0 1  :  rho =  -0.5785,  cov =  -0.7059\n",
      "  1 1  :  mean =   0.7751, RMS =   1.3126, cov =   1.7230\n",
      "\n",
      "----- bootstrap-simple-pdf-toy-study6b-2d-4c/bootstrap-weights-055.npy exists\n",
      "100000\n",
      "[0.06028378 0.08885089 0.03941353 ... 0.0706075  0.09990187 0.10409893]\n",
      "[ 0.34426023 -0.15155005  0.31560852 ...  0.21250232  1.45614692\n",
      "  0.08527077]\n",
      "  0 0  :  mean =   0.2178, RMS =   0.9355, cov =   0.8751\n",
      "  0 1  :  rho =  -0.5868,  cov =  -0.7248\n",
      "  1 1  :  mean =   0.7755, RMS =   1.3206, cov =   1.7439\n",
      "\n",
      "----- bootstrap-simple-pdf-toy-study6b-2d-4c/bootstrap-weights-056.npy exists\n",
      "100000\n",
      "[0.05455326 0.09425066 0.01799438 ... 0.07396531 0.10468274 0.10098424]\n",
      "[ 0.34426023 -0.15155005  0.31560852 ...  0.21250232  1.45614692\n",
      "  0.08527077]\n",
      "  0 0  :  mean =   0.1933, RMS =   0.9140, cov =   0.8354\n",
      "  0 1  :  rho =  -0.5842,  cov =  -0.7005\n",
      "  1 1  :  mean =   0.7964, RMS =   1.3118, cov =   1.7208\n",
      "\n",
      "----- bootstrap-simple-pdf-toy-study6b-2d-4c/bootstrap-weights-057.npy exists\n",
      "100000\n",
      "[0.0563006  0.08770524 0.03554255 ... 0.07006911 0.10115843 0.10775845]\n",
      "[ 0.34426023 -0.15155005  0.31560852 ...  0.21250232  1.45614692\n",
      "  0.08527077]\n",
      "  0 0  :  mean =   0.2178, RMS =   0.9188, cov =   0.8443\n",
      "  0 1  :  rho =  -0.5737,  cov =  -0.6862\n",
      "  1 1  :  mean =   0.7701, RMS =   1.3018, cov =   1.6947\n",
      "\n",
      "----- bootstrap-simple-pdf-toy-study6b-2d-4c/bootstrap-weights-058.npy exists\n",
      "100000\n",
      "[0.05979416 0.09008064 0.01327805 ... 0.07443114 0.10728234 0.10498196]\n",
      "[ 0.34426023 -0.15155005  0.31560852 ...  0.21250232  1.45614692\n",
      "  0.08527077]\n",
      "  0 0  :  mean =   0.2001, RMS =   0.9189, cov =   0.8443\n",
      "  0 1  :  rho =  -0.5753,  cov =  -0.6962\n",
      "  1 1  :  mean =   0.7996, RMS =   1.3171, cov =   1.7347\n",
      "\n",
      "----- bootstrap-simple-pdf-toy-study6b-2d-4c/bootstrap-weights-059.npy exists\n",
      "100000\n",
      "[0.05769909 0.09148271 0.02501678 ... 0.06953255 0.10178496 0.10767192]\n",
      "[ 0.34426023 -0.15155005  0.31560852 ...  0.21250232  1.45614692\n",
      "  0.08527077]\n",
      "  0 0  :  mean =   0.2083, RMS =   0.9282, cov =   0.8616\n",
      "  0 1  :  rho =  -0.5869,  cov =  -0.7188\n",
      "  1 1  :  mean =   0.7743, RMS =   1.3195, cov =   1.7410\n",
      "\n",
      "----- bootstrap-simple-pdf-toy-study6b-2d-4c/bootstrap-weights-060.npy exists\n",
      "100000\n",
      "[0.05654346 0.08387655 0.05116278 ... 0.07142195 0.10306506 0.10362498]\n",
      "[ 0.34426023 -0.15155005  0.31560852 ...  0.21250232  1.45614692\n",
      "  0.08527077]\n",
      "  0 0  :  mean =   0.1976, RMS =   0.9412, cov =   0.8858\n",
      "  0 1  :  rho =  -0.5933,  cov =  -0.7349\n",
      "  1 1  :  mean =   0.7850, RMS =   1.3162, cov =   1.7323\n",
      "\n",
      "----- bootstrap-simple-pdf-toy-study6b-2d-4c/bootstrap-weights-061.npy exists\n",
      "100000\n",
      "[0.05028878 0.09172775 0.02234628 ... 0.06572989 0.10510881 0.10843244]\n",
      "[ 0.34426023 -0.15155005  0.31560852 ...  0.21250232  1.45614692\n",
      "  0.08527077]\n",
      "  0 0  :  mean =   0.2024, RMS =   0.9014, cov =   0.8125\n",
      "  0 1  :  rho =  -0.5663,  cov =  -0.6631\n",
      "  1 1  :  mean =   0.7853, RMS =   1.2990, cov =   1.6874\n",
      "\n",
      "----- bootstrap-simple-pdf-toy-study6b-2d-4c/bootstrap-weights-062.npy exists\n",
      "100000\n",
      "[0.06052544 0.08967409 0.02973703 ... 0.07645845 0.10227143 0.10376956]\n",
      "[ 0.34426023 -0.15155005  0.31560852 ...  0.21250232  1.45614692\n",
      "  0.08527077]\n",
      "  0 0  :  mean =   0.2100, RMS =   0.9216, cov =   0.8493\n",
      "  0 1  :  rho =  -0.5734,  cov =  -0.6958\n",
      "  1 1  :  mean =   0.7980, RMS =   1.3167, cov =   1.7338\n",
      "\n",
      "----- bootstrap-simple-pdf-toy-study6b-2d-4c/bootstrap-weights-063.npy exists\n",
      "100000\n",
      "[0.05907154 0.08543009 0.02537704 ... 0.07173977 0.10373298 0.10713472]\n",
      "[ 0.34426023 -0.15155005  0.31560852 ...  0.21250232  1.45614692\n",
      "  0.08527077]\n",
      "  0 0  :  mean =   0.1921, RMS =   0.9260, cov =   0.8575\n",
      "  0 1  :  rho =  -0.5756,  cov =  -0.6930\n",
      "  1 1  :  mean =   0.7938, RMS =   1.3002, cov =   1.6905\n",
      "\n",
      "----- bootstrap-simple-pdf-toy-study6b-2d-4c/bootstrap-weights-064.npy exists\n",
      "100000\n",
      "[0.05607165 0.09165331 0.01497459 ... 0.07085657 0.10552843 0.10053536]\n",
      "[ 0.34426023 -0.15155005  0.31560852 ...  0.21250232  1.45614692\n",
      "  0.08527077]\n",
      "  0 0  :  mean =   0.2164, RMS =   0.9269, cov =   0.8592\n",
      "  0 1  :  rho =  -0.5874,  cov =  -0.7093\n",
      "  1 1  :  mean =   0.7843, RMS =   1.3028, cov =   1.6972\n",
      "\n",
      "----- bootstrap-simple-pdf-toy-study6b-2d-4c/bootstrap-weights-065.npy exists\n",
      "100000\n",
      "[0.05917183 0.08915546 0.04940313 ... 0.07238957 0.10162203 0.11811194]\n",
      "[ 0.34426023 -0.15155005  0.31560852 ...  0.21250232  1.45614692\n",
      "  0.08527077]\n",
      "  0 0  :  mean =   0.1847, RMS =   0.9170, cov =   0.8410\n",
      "  0 1  :  rho =  -0.5725,  cov =  -0.6876\n",
      "  1 1  :  mean =   0.7808, RMS =   1.3096, cov =   1.7152\n",
      "\n",
      "----- bootstrap-simple-pdf-toy-study6b-2d-4c/bootstrap-weights-066.npy exists\n",
      "100000\n",
      "[0.06181714 0.09146308 0.01856604 ... 0.07380381 0.10310142 0.10520518]\n",
      "[ 0.34426023 -0.15155005  0.31560852 ...  0.21250232  1.45614692\n",
      "  0.08527077]\n",
      "  0 0  :  mean =   0.2071, RMS =   0.9248, cov =   0.8553\n",
      "  0 1  :  rho =  -0.5787,  cov =  -0.7014\n",
      "  1 1  :  mean =   0.7878, RMS =   1.3106, cov =   1.7176\n",
      "\n",
      "----- bootstrap-simple-pdf-toy-study6b-2d-4c/bootstrap-weights-067.npy exists\n",
      "100000\n",
      "[0.06056943 0.09301332 0.03082932 ... 0.07593649 0.10432903 0.10184824]\n",
      "[ 0.34426023 -0.15155005  0.31560852 ...  0.21250232  1.45614692\n",
      "  0.08527077]\n",
      "  0 0  :  mean =   0.2014, RMS =   0.9195, cov =   0.8455\n",
      "  0 1  :  rho =  -0.5904,  cov =  -0.7171\n",
      "  1 1  :  mean =   0.7899, RMS =   1.3210, cov =   1.7451\n",
      "\n",
      "----- bootstrap-simple-pdf-toy-study6b-2d-4c/bootstrap-weights-068.npy exists\n",
      "100000\n",
      "[0.05875023 0.09078853 0.02848396 ... 0.06990541 0.10256866 0.10619757]\n",
      "[ 0.34426023 -0.15155005  0.31560852 ...  0.21250232  1.45614692\n",
      "  0.08527077]\n",
      "  0 0  :  mean =   0.2165, RMS =   0.9223, cov =   0.8506\n",
      "  0 1  :  rho =  -0.5664,  cov =  -0.6909\n",
      "  1 1  :  mean =   0.7763, RMS =   1.3226, cov =   1.7492\n",
      "\n",
      "----- bootstrap-simple-pdf-toy-study6b-2d-4c/bootstrap-weights-069.npy exists\n",
      "100000\n",
      "[0.06385662 0.09185957 0.02798255 ... 0.07624339 0.10059573 0.10529212]\n",
      "[ 0.34426023 -0.15155005  0.31560852 ...  0.21250232  1.45614692\n",
      "  0.08527077]\n",
      "  0 0  :  mean =   0.2023, RMS =   0.9276, cov =   0.8604\n",
      "  0 1  :  rho =  -0.5849,  cov =  -0.7124\n",
      "  1 1  :  mean =   0.7874, RMS =   1.3131, cov =   1.7242\n",
      "\n",
      "----- bootstrap-simple-pdf-toy-study6b-2d-4c/bootstrap-weights-070.npy exists\n",
      "100000\n",
      "[0.05181264 0.09101376 0.03285995 ... 0.07317433 0.10402924 0.10068486]\n",
      "[ 0.34426023 -0.15155005  0.31560852 ...  0.21250232  1.45614692\n",
      "  0.08527077]\n",
      "  0 0  :  mean =   0.2051, RMS =   0.9253, cov =   0.8561\n",
      "  0 1  :  rho =  -0.5887,  cov =  -0.7118\n",
      "  1 1  :  mean =   0.7857, RMS =   1.3068, cov =   1.7077\n",
      "\n",
      "----- bootstrap-simple-pdf-toy-study6b-2d-4c/bootstrap-weights-071.npy exists\n",
      "100000\n",
      "[0.05866072 0.09086652 0.05382319 ... 0.07226313 0.09897929 0.10193779]\n",
      "[ 0.34426023 -0.15155005  0.31560852 ...  0.21250232  1.45614692\n",
      "  0.08527077]\n",
      "  0 0  :  mean =   0.2155, RMS =   0.9224, cov =   0.8508\n",
      "  0 1  :  rho =  -0.5773,  cov =  -0.6974\n",
      "  1 1  :  mean =   0.7775, RMS =   1.3096, cov =   1.7152\n",
      "\n",
      "----- bootstrap-simple-pdf-toy-study6b-2d-4c/bootstrap-weights-072.npy exists\n",
      "100000\n",
      "[0.06840798 0.08946937 0.01727777 ... 0.07904848 0.09748506 0.10054594]\n",
      "[ 0.34426023 -0.15155005  0.31560852 ...  0.21250232  1.45614692\n",
      "  0.08527077]\n",
      "  0 0  :  mean =   0.2163, RMS =   0.9461, cov =   0.8952\n",
      "  0 1  :  rho =  -0.5931,  cov =  -0.7425\n",
      "  1 1  :  mean =   0.7796, RMS =   1.3232, cov =   1.7509\n",
      "\n",
      "----- bootstrap-simple-pdf-toy-study6b-2d-4c/bootstrap-weights-073.npy exists\n",
      "100000\n",
      "[0.05234527 0.08938923 0.01747283 ... 0.07062286 0.10694016 0.1029665 ]\n",
      "[ 0.34426023 -0.15155005  0.31560852 ...  0.21250232  1.45614692\n",
      "  0.08527077]\n",
      "  0 0  :  mean =   0.2176, RMS =   0.9153, cov =   0.8378\n",
      "  0 1  :  rho =  -0.5780,  cov =  -0.6896\n",
      "  1 1  :  mean =   0.7874, RMS =   1.3035, cov =   1.6991\n",
      "\n",
      "----- bootstrap-simple-pdf-toy-study6b-2d-4c/bootstrap-weights-074.npy exists\n",
      "100000\n",
      "[0.05885205 0.09412143 0.0320646  ... 0.07279482 0.10951833 0.09927342]\n",
      "[ 0.34426023 -0.15155005  0.31560852 ...  0.21250232  1.45614692\n",
      "  0.08527077]\n",
      "  0 0  :  mean =   0.2037, RMS =   0.9270, cov =   0.8593\n",
      "  0 1  :  rho =  -0.5877,  cov =  -0.7218\n",
      "  1 1  :  mean =   0.7945, RMS =   1.3250, cov =   1.7555\n",
      "\n",
      "----- bootstrap-simple-pdf-toy-study6b-2d-4c/bootstrap-weights-075.npy exists\n",
      "100000\n",
      "[0.05370555 0.08605233 0.03429966 ... 0.07289492 0.09623994 0.1108094 ]\n",
      "[ 0.34426023 -0.15155005  0.31560852 ...  0.21250232  1.45614692\n",
      "  0.08527077]\n",
      "  0 0  :  mean =   0.2021, RMS =   0.9199, cov =   0.8462\n",
      "  0 1  :  rho =  -0.5769,  cov =  -0.6851\n",
      "  1 1  :  mean =   0.7948, RMS =   1.2909, cov =   1.6664\n",
      "\n",
      "----- bootstrap-simple-pdf-toy-study6b-2d-4c/bootstrap-weights-076.npy exists\n",
      "100000\n",
      "[0.06034764 0.08641974 0.0139098  ... 0.07388746 0.10516004 0.10579756]\n",
      "[ 0.34426023 -0.15155005  0.31560852 ...  0.21250232  1.45614692\n",
      "  0.08527077]\n",
      "  0 0  :  mean =   0.2082, RMS =   0.9241, cov =   0.8540\n",
      "  0 1  :  rho =  -0.5839,  cov =  -0.7118\n",
      "  1 1  :  mean =   0.7945, RMS =   1.3191, cov =   1.7401\n",
      "\n",
      "----- bootstrap-simple-pdf-toy-study6b-2d-4c/bootstrap-weights-077.npy exists\n",
      "100000\n",
      "[0.05535332 0.09890541 0.03317101 ... 0.07396593 0.10090957 0.1050287 ]\n",
      "[ 0.34426023 -0.15155005  0.31560852 ...  0.21250232  1.45614692\n",
      "  0.08527077]\n",
      "  0 0  :  mean =   0.2002, RMS =   0.9199, cov =   0.8462\n",
      "  0 1  :  rho =  -0.5942,  cov =  -0.7177\n",
      "  1 1  :  mean =   0.7653, RMS =   1.3132, cov =   1.7244\n",
      "\n",
      "----- bootstrap-simple-pdf-toy-study6b-2d-4c/bootstrap-weights-078.npy exists\n",
      "100000\n",
      "[0.05489638 0.09076819 0.02165645 ... 0.06941104 0.10656694 0.10445053]\n",
      "[ 0.34426023 -0.15155005  0.31560852 ...  0.21250232  1.45614692\n",
      "  0.08527077]\n",
      "  0 0  :  mean =   0.2256, RMS =   0.9121, cov =   0.8319\n",
      "  0 1  :  rho =  -0.5716,  cov =  -0.6871\n",
      "  1 1  :  mean =   0.7770, RMS =   1.3178, cov =   1.7366\n",
      "\n",
      "----- bootstrap-simple-pdf-toy-study6b-2d-4c/bootstrap-weights-079.npy exists\n",
      "100000\n",
      "[0.05896116 0.0868755  0.02132791 ... 0.07444897 0.10270419 0.10176416]\n",
      "[ 0.34426023 -0.15155005  0.31560852 ...  0.21250232  1.45614692\n",
      "  0.08527077]\n",
      "  0 0  :  mean =   0.2149, RMS =   0.9345, cov =   0.8733\n",
      "  0 1  :  rho =  -0.5825,  cov =  -0.7104\n",
      "  1 1  :  mean =   0.7742, RMS =   1.3050, cov =   1.7030\n",
      "\n",
      "----- bootstrap-simple-pdf-toy-study6b-2d-4c/bootstrap-weights-080.npy exists\n",
      "100000\n",
      "[0.0623558  0.09493394 0.01698175 ... 0.07593721 0.10176169 0.1082896 ]\n",
      "[ 0.34426023 -0.15155005  0.31560852 ...  0.21250232  1.45614692\n",
      "  0.08527077]\n",
      "  0 0  :  mean =   0.1961, RMS =   0.9229, cov =   0.8517\n",
      "  0 1  :  rho =  -0.5797,  cov =  -0.6980\n",
      "  1 1  :  mean =   0.7839, RMS =   1.3047, cov =   1.7022\n",
      "\n",
      "----- bootstrap-simple-pdf-toy-study6b-2d-4c/bootstrap-weights-081.npy exists\n",
      "100000\n",
      "[0.05574071 0.09380678 0.03234103 ... 0.06971958 0.10246239 0.10450871]\n",
      "[ 0.34426023 -0.15155005  0.31560852 ...  0.21250232  1.45614692\n",
      "  0.08527077]\n",
      "  0 0  :  mean =   0.2184, RMS =   0.9178, cov =   0.8423\n",
      "  0 1  :  rho =  -0.5765,  cov =  -0.7000\n",
      "  1 1  :  mean =   0.7775, RMS =   1.3229, cov =   1.7502\n",
      "\n",
      "----- bootstrap-simple-pdf-toy-study6b-2d-4c/bootstrap-weights-082.npy exists\n",
      "100000\n",
      "[0.05512324 0.09067886 0.02387096 ... 0.07136906 0.10653791 0.09871671]\n",
      "[ 0.34426023 -0.15155005  0.31560852 ...  0.21250232  1.45614692\n",
      "  0.08527077]\n",
      "  0 0  :  mean =   0.2008, RMS =   0.9112, cov =   0.8303\n",
      "  0 1  :  rho =  -0.5666,  cov =  -0.6690\n",
      "  1 1  :  mean =   0.8073, RMS =   1.2958, cov =   1.6790\n",
      "\n",
      "----- bootstrap-simple-pdf-toy-study6b-2d-4c/bootstrap-weights-083.npy exists\n",
      "100000\n",
      "[0.05496522 0.08808566 0.02890976 ... 0.06999232 0.10058597 0.10644615]\n",
      "[ 0.34426023 -0.15155005  0.31560852 ...  0.21250232  1.45614692\n",
      "  0.08527077]\n",
      "  0 0  :  mean =   0.2020, RMS =   0.9161, cov =   0.8392\n",
      "  0 1  :  rho =  -0.5802,  cov =  -0.6922\n",
      "  1 1  :  mean =   0.7860, RMS =   1.3022, cov =   1.6956\n",
      "\n",
      "----- bootstrap-simple-pdf-toy-study6b-2d-4c/bootstrap-weights-084.npy exists\n",
      "100000\n",
      "[0.05240608 0.09170023 0.02287751 ... 0.06669878 0.100878   0.10368712]\n",
      "[ 0.34426023 -0.15155005  0.31560852 ...  0.21250232  1.45614692\n",
      "  0.08527077]\n",
      "  0 0  :  mean =   0.2058, RMS =   0.9323, cov =   0.8691\n",
      "  0 1  :  rho =  -0.5659,  cov =  -0.6923\n",
      "  1 1  :  mean =   0.7945, RMS =   1.3122, cov =   1.7219\n",
      "\n",
      "----- bootstrap-simple-pdf-toy-study6b-2d-4c/bootstrap-weights-085.npy exists\n",
      "100000\n",
      "[0.05831843 0.09489197 0.0203989  ... 0.07296596 0.1024119  0.10362264]\n",
      "[ 0.34426023 -0.15155005  0.31560852 ...  0.21250232  1.45614692\n",
      "  0.08527077]\n",
      "  0 0  :  mean =   0.2001, RMS =   0.9197, cov =   0.8458\n",
      "  0 1  :  rho =  -0.5950,  cov =  -0.7191\n",
      "  1 1  :  mean =   0.7805, RMS =   1.3143, cov =   1.7273\n",
      "\n",
      "----- bootstrap-simple-pdf-toy-study6b-2d-4c/bootstrap-weights-086.npy exists\n",
      "100000\n",
      "[0.06300935 0.08711625 0.03287897 ... 0.07302843 0.10487696 0.10537939]\n",
      "[ 0.34426023 -0.15155005  0.31560852 ...  0.21250232  1.45614692\n",
      "  0.08527077]\n",
      "  0 0  :  mean =   0.1940, RMS =   0.9246, cov =   0.8548\n",
      "  0 1  :  rho =  -0.5933,  cov =  -0.7271\n",
      "  1 1  :  mean =   0.7956, RMS =   1.3255, cov =   1.7570\n",
      "\n",
      "----- bootstrap-simple-pdf-toy-study6b-2d-4c/bootstrap-weights-087.npy exists\n",
      "100000\n",
      "[0.058512   0.08474684 0.03399843 ... 0.07394067 0.0995593  0.09987796]\n",
      "[ 0.34426023 -0.15155005  0.31560852 ...  0.21250232  1.45614692\n",
      "  0.08527077]\n",
      "  0 0  :  mean =   0.1932, RMS =   0.9296, cov =   0.8642\n",
      "  0 1  :  rho =  -0.5750,  cov =  -0.6981\n"
     ]
    },
    {
     "name": "stdout",
     "output_type": "stream",
     "text": [
      "  1 1  :  mean =   0.7949, RMS =   1.3061, cov =   1.7058\n",
      "\n",
      "----- bootstrap-simple-pdf-toy-study6b-2d-4c/bootstrap-weights-088.npy exists\n",
      "100000\n",
      "[0.05714101 0.08528569 0.02640701 ... 0.06976521 0.11261315 0.10363807]\n",
      "[ 0.34426023 -0.15155005  0.31560852 ...  0.21250232  1.45614692\n",
      "  0.08527077]\n",
      "  0 0  :  mean =   0.1940, RMS =   0.9107, cov =   0.8293\n",
      "  0 1  :  rho =  -0.5737,  cov =  -0.6874\n",
      "  1 1  :  mean =   0.8240, RMS =   1.3158, cov =   1.7313\n",
      "\n",
      "----- bootstrap-simple-pdf-toy-study6b-2d-4c/bootstrap-weights-089.npy exists\n",
      "100000\n",
      "[0.05517936 0.09625846 0.0293247  ... 0.07064988 0.10210439 0.10135299]\n",
      "[ 0.34426023 -0.15155005  0.31560852 ...  0.21250232  1.45614692\n",
      "  0.08527077]\n",
      "  0 0  :  mean =   0.2106, RMS =   0.9270, cov =   0.8594\n",
      "  0 1  :  rho =  -0.5832,  cov =  -0.7188\n",
      "  1 1  :  mean =   0.7816, RMS =   1.3296, cov =   1.7677\n",
      "\n",
      "----- bootstrap-simple-pdf-toy-study6b-2d-4c/bootstrap-weights-090.npy exists\n",
      "100000\n",
      "[0.05897293 0.09840072 0.02159508 ... 0.07770938 0.09623012 0.1051199 ]\n",
      "[ 0.34426023 -0.15155005  0.31560852 ...  0.21250232  1.45614692\n",
      "  0.08527077]\n",
      "  0 0  :  mean =   0.1987, RMS =   0.9262, cov =   0.8578\n",
      "  0 1  :  rho =  -0.5721,  cov =  -0.6897\n",
      "  1 1  :  mean =   0.7773, RMS =   1.3016, cov =   1.6941\n",
      "\n",
      "----- bootstrap-simple-pdf-toy-study6b-2d-4c/bootstrap-weights-091.npy exists\n",
      "100000\n",
      "[0.06084679 0.09097642 0.03056624 ... 0.07189759 0.10401704 0.10844529]\n",
      "[ 0.34426023 -0.15155005  0.31560852 ...  0.21250232  1.45614692\n",
      "  0.08527077]\n",
      "  0 0  :  mean =   0.2069, RMS =   0.9182, cov =   0.8431\n",
      "  0 1  :  rho =  -0.5793,  cov =  -0.7093\n",
      "  1 1  :  mean =   0.7833, RMS =   1.3335, cov =   1.7783\n",
      "\n",
      "----- bootstrap-simple-pdf-toy-study6b-2d-4c/bootstrap-weights-092.npy exists\n",
      "100000\n",
      "[0.05690994 0.08787611 0.02147175 ... 0.07268109 0.10347413 0.10533427]\n",
      "[ 0.34426023 -0.15155005  0.31560852 ...  0.21250232  1.45614692\n",
      "  0.08527077]\n",
      "  0 0  :  mean =   0.1895, RMS =   0.9225, cov =   0.8511\n",
      "  0 1  :  rho =  -0.5697,  cov =  -0.6828\n",
      "  1 1  :  mean =   0.7964, RMS =   1.2990, cov =   1.6874\n",
      "\n",
      "----- bootstrap-simple-pdf-toy-study6b-2d-4c/bootstrap-weights-093.npy exists\n",
      "100000\n",
      "[0.06009848 0.09344986 0.01867712 ... 0.07379536 0.10422417 0.09799999]\n",
      "[ 0.34426023 -0.15155005  0.31560852 ...  0.21250232  1.45614692\n",
      "  0.08527077]\n",
      "  0 0  :  mean =   0.2090, RMS =   0.9271, cov =   0.8594\n",
      "  0 1  :  rho =  -0.5895,  cov =  -0.7206\n",
      "  1 1  :  mean =   0.7908, RMS =   1.3184, cov =   1.7383\n",
      "\n",
      "----- bootstrap-simple-pdf-toy-study6b-2d-4c/bootstrap-weights-094.npy exists\n",
      "100000\n",
      "[0.05979547 0.09168659 0.02413861 ... 0.07371237 0.10257943 0.10875964]\n",
      "[ 0.34426023 -0.15155005  0.31560852 ...  0.21250232  1.45614692\n",
      "  0.08527077]\n",
      "  0 0  :  mean =   0.1929, RMS =   0.9143, cov =   0.8359\n",
      "  0 1  :  rho =  -0.5754,  cov =  -0.6839\n",
      "  1 1  :  mean =   0.7879, RMS =   1.3000, cov =   1.6900\n",
      "\n",
      "----- bootstrap-simple-pdf-toy-study6b-2d-4c/bootstrap-weights-095.npy exists\n",
      "100000\n",
      "[0.05124719 0.09230511 0.0286978  ... 0.06701849 0.10401916 0.09947386]\n",
      "[ 0.34426023 -0.15155005  0.31560852 ...  0.21250232  1.45614692\n",
      "  0.08527077]\n",
      "  0 0  :  mean =   0.2241, RMS =   0.9129, cov =   0.8334\n",
      "  0 1  :  rho =  -0.5781,  cov =  -0.6895\n",
      "  1 1  :  mean =   0.7716, RMS =   1.3065, cov =   1.7068\n",
      "\n",
      "----- bootstrap-simple-pdf-toy-study6b-2d-4c/bootstrap-weights-096.npy exists\n",
      "100000\n",
      "[0.06343056 0.09086215 0.04765576 ... 0.07336816 0.10026888 0.10059415]\n",
      "[ 0.34426023 -0.15155005  0.31560852 ...  0.21250232  1.45614692\n",
      "  0.08527077]\n",
      "  0 0  :  mean =   0.1887, RMS =   0.9309, cov =   0.8665\n",
      "  0 1  :  rho =  -0.5800,  cov =  -0.7132\n",
      "  1 1  :  mean =   0.8182, RMS =   1.3210, cov =   1.7450\n",
      "\n",
      "----- bootstrap-simple-pdf-toy-study6b-2d-4c/bootstrap-weights-097.npy exists\n",
      "100000\n",
      "[0.05389721 0.09726715 0.02539202 ... 0.07140571 0.09962175 0.10743261]\n",
      "[ 0.34426023 -0.15155005  0.31560852 ...  0.21250232  1.45614692\n",
      "  0.08527077]\n",
      "  0 0  :  mean =   0.2004, RMS =   0.9201, cov =   0.8465\n",
      "  0 1  :  rho =  -0.5723,  cov =  -0.6817\n",
      "  1 1  :  mean =   0.7697, RMS =   1.2946, cov =   1.6759\n",
      "\n",
      "----- bootstrap-simple-pdf-toy-study6b-2d-4c/bootstrap-weights-098.npy exists\n",
      "100000\n",
      "[0.05618069 0.09026791 0.03557776 ... 0.06557726 0.10295731 0.1038128 ]\n",
      "[ 0.34426023 -0.15155005  0.31560852 ...  0.21250232  1.45614692\n",
      "  0.08527077]\n",
      "  0 0  :  mean =   0.2101, RMS =   0.9154, cov =   0.8380\n",
      "  0 1  :  rho =  -0.5703,  cov =  -0.6849\n",
      "  1 1  :  mean =   0.7829, RMS =   1.3117, cov =   1.7207\n",
      "\n",
      "----- bootstrap-simple-pdf-toy-study6b-2d-4c/bootstrap-weights-099.npy exists\n",
      "100000\n",
      "[0.05211247 0.0836479  0.03142688 ... 0.07019065 0.10321532 0.10770606]\n",
      "[ 0.34426023 -0.15155005  0.31560852 ...  0.21250232  1.45614692\n",
      "  0.08527077]\n",
      "  0 0  :  mean =   0.2094, RMS =   0.9165, cov =   0.8400\n",
      "  0 1  :  rho =  -0.5731,  cov =  -0.6791\n",
      "  1 1  :  mean =   0.7944, RMS =   1.2928, cov =   1.6712\n",
      "CPU times: user 181 ms, sys: 31 ms, total: 212 ms\n",
      "Wall time: 194 ms\n"
     ]
    }
   ],
   "source": [
    "%%time\n",
    "\n",
    "all_mean = np.zeros( shape=(ndim,n_samples) )\n",
    "all_rms = np.zeros( shape=(ndim,n_samples) )\n",
    "all_cov = np.zeros( shape=(ndim,ndim,n_samples) )\n",
    "all_rho = np.zeros( shape=(ndim,ndim,n_samples) )\n",
    "\n",
    "all_weight_min = np.zeros( n_samples )\n",
    "all_weight_max = np.zeros( n_samples )\n",
    "\n",
    "\n",
    "si = 0\n",
    "\n",
    "for fi in range(500) :\n",
    "    \n",
    "    fname = '%s/bootstrap-weights-%03d.npy' % (input_dir, fi)\n",
    "    \n",
    "    if exists(fname) :\n",
    "        \n",
    "        print('\\n----- %s exists' % fname )\n",
    "        \n",
    "        with open(fname,'rb') as f :\n",
    "            \n",
    "            final_push_weights_scaled = np.load(f)\n",
    "            print( len(final_push_weights_scaled))\n",
    "            print( final_push_weights_scaled )\n",
    "            print( true_pts[:,0])\n",
    "            \n",
    "            all_weight_min[si] = np.min( final_push_weights_scaled )\n",
    "            all_weight_max[si] = np.max( final_push_weights_scaled )\n",
    "            \n",
    "            for fi1 in range(ndim) :\n",
    "                for fi2 in range(fi1,ndim) :\n",
    "                    mean_cov = calc_mean_cov( final_push_weights_scaled, fi1, fi2 )\n",
    "                    all_cov[fi1,fi2,si] = mean_cov[\"cov_x1x2\"]\n",
    "                    all_cov[fi2,fi1,si] = mean_cov[\"cov_x1x2\"]\n",
    "                    if ( fi1 == fi2 ) :\n",
    "                        print( \"  %d %d  :  mean = %8.4f, RMS = %8.4f, cov = %8.4f\" % \n",
    "                              (fi1, fi2, mean_cov[\"mean_x1\"], mean_cov[\"rms1\"], mean_cov[\"cov_x1x2\"]))\n",
    "                        all_mean[fi1,si] = mean_cov[\"mean_x1\"]\n",
    "                        all_rms[fi1,si] = mean_cov[\"rms1\"]\n",
    "                    else :\n",
    "                        print( \"  %d %d  :  rho = %8.4f,  cov = %8.4f\" %\n",
    "                              (fi1, fi2, mean_cov[\"rho12\"], mean_cov[\"cov_x1x2\"]) )\n",
    "                        all_rho[fi1,fi2,si] = mean_cov[\"rho12\"]\n",
    "                        all_rho[fi2,fi1,si] = mean_cov[\"rho12\"]\n",
    "                        \n",
    "        si = si + 1\n",
    "        \n",
    "            "
   ]
  },
  {
   "cell_type": "code",
   "execution_count": 23,
   "id": "04d3f4ab",
   "metadata": {},
   "outputs": [
    {
     "data": {
      "text/plain": [
       "<function matplotlib.pyplot.show(close=None, block=None)>"
      ]
     },
     "execution_count": 23,
     "metadata": {},
     "output_type": "execute_result"
    },
    {
     "data": {
      "image/png": "[encoded data removed]",
      "text/plain": [
       "<Figure size 720x720 with 4 Axes>"
      ]
     },
     "metadata": {
      "needs_background": "light"
     },
     "output_type": "display_data"
    }
   ],
   "source": [
    "fig,ax = plt.subplots( ndim, 2, figsize=(2*5,ndim*5))\n",
    "\n",
    "ymax = 10\n",
    "\n",
    "for i in range(ndim) :\n",
    "    \n",
    "    ax[i][0].hist( all_mean[i], bins=40)\n",
    "    ax[i][1].hist( all_rms[i], bins=40)\n",
    "    \n",
    "    ax[i][0].plot( (true_mu[i], true_mu[i]), (0,ymax), linewidth=3 )\n",
    "    ax[i][1].plot( (true_sig[i], true_sig[i]), (0,ymax), linewidth=3 )\n",
    "\n",
    "plt.show"
   ]
  },
  {
   "cell_type": "code",
   "execution_count": 24,
   "id": "8c9863c9",
   "metadata": {},
   "outputs": [
    {
     "data": {
      "text/plain": [
       "<function matplotlib.pyplot.show(close=None, block=None)>"
      ]
     },
     "execution_count": 24,
     "metadata": {},
     "output_type": "execute_result"
    },
    {
     "data": {
      "image/png": "[encoded data removed]",
      "text/plain": [
       "<Figure size 720x720 with 4 Axes>"
      ]
     },
     "metadata": {
      "needs_background": "light"
     },
     "output_type": "display_data"
    }
   ],
   "source": [
    "fig,ax = plt.subplots( ndim, ndim, figsize=(ndim*5,ndim*5))\n",
    "\n",
    "ymax = 10\n",
    "\n",
    "for i in range(0,ndim-1) :\n",
    "    \n",
    "    for j in range(i+1,ndim) :\n",
    "        \n",
    "        k = ndim - j - 1\n",
    "        \n",
    "        ax[i][j].hist( all_rho[i,j], bins=40)\n",
    "        \n",
    "        ax[i][j].plot( (true_rho[i][k], true_rho[i][k]), (0, ymax), linewidth=3 )\n",
    "    \n",
    "\n",
    "\n",
    "plt.show"
   ]
  },
  {
   "cell_type": "code",
   "execution_count": null,
   "id": "b443d87d",
   "metadata": {},
   "outputs": [],
   "source": []
  },
  {
   "cell_type": "code",
   "execution_count": 25,
   "id": "f27c1fdd",
   "metadata": {},
   "outputs": [
    {
     "name": "stdout",
     "output_type": "stream",
     "text": [
      "\n",
      "\n",
      "  feature 0  :  mean   ave   0.2054  (true   0.2000), rms   0.0103\n",
      "  feature 1  :  mean   ave   0.7884  (true   0.8000), rms   0.0131\n",
      "\n",
      "\n",
      "  feature 0  :  RMS    ave   0.9225  (true   0.9000), rms   0.0079\n",
      "  feature 1  :  RMS    ave   1.3117  (true   1.3000), rms   0.0102\n",
      "\n",
      "\n",
      "  feature 0, 1  :  rho    ave  -0.5790  (true  -0.6000), rms   0.0081\n",
      "\n",
      "\n",
      "  feature 0, 0  :  cov    ave   0.8511  (true   0.8100), rms   0.0145\n",
      "  feature 0, 1  :  cov    ave  -0.7006  (true  -0.7020), rms   0.0169\n",
      "  feature 1, 1  :  cov    ave   1.7206  (true   1.6900), rms   0.0267\n",
      "\n",
      "\n"
     ]
    }
   ],
   "source": [
    "print('\\n')\n",
    "\n",
    "ave_mean = np.zeros( ndim )\n",
    "rms_mean = np.zeros( ndim )\n",
    "\n",
    "ave_cov = np.zeros( shape=(ndim,ndim) )\n",
    "rms_cov = np.zeros( shape=(ndim,ndim) )\n",
    "\n",
    "\n",
    "for fi in range(ndim) :\n",
    "    \n",
    "    ave_mean[fi] = np.mean( all_mean[fi] )\n",
    "    ave_mean2 = np.mean( all_mean[fi]*all_mean[fi])\n",
    "    rms_mean[fi] = np.sqrt( ave_mean2 - ave_mean[fi]*ave_mean[fi] )\n",
    "    print(\"  feature %d  :  mean   ave %8.4f  (true %8.4f), rms %8.4f\" % (fi, ave_mean[fi], true_mu[fi], rms_mean[fi] ))\n",
    "    \n",
    "print('\\n')\n",
    "\n",
    "for fi in range(ndim) :\n",
    "    \n",
    "    ave_rms = np.mean( all_rms[fi] )\n",
    "    ave_rms2 = np.mean( all_rms[fi]*all_rms[fi])\n",
    "    rms_rms = np.sqrt( ave_rms2 - ave_rms*ave_rms )\n",
    "    print(\"  feature %d  :  RMS    ave %8.4f  (true %8.4f), rms %8.4f\" % (fi, ave_rms, true_sig[fi], rms_rms ))\n",
    "    \n",
    "print('\\n')\n",
    "\n",
    "for fi1 in range(0,ndim-1) :\n",
    "    for fi2 in range(fi1+1, ndim) :\n",
    "        k = ndim - fi2 - 1\n",
    "        ave_rho = np.mean( all_rho[fi1,fi2])\n",
    "        ave_rho2 = np.mean( all_rho[fi1,fi2]*all_rho[fi1,fi2] )\n",
    "        rms_rho = np.sqrt( ave_rho2 - ave_rho*ave_rho )\n",
    "        print(\"  feature %d, %d  :  rho    ave %8.4f  (true %8.4f), rms %8.4f\" % ( fi1, fi2, ave_rho, true_rho[fi1][k], rms_rho ))\n",
    "        \n",
    "print(\"\\n\")\n",
    "\n",
    "for fi1 in range(0,ndim) :\n",
    "    for fi2 in range(fi1,ndim) :\n",
    "        ave_cov[fi1,fi2] = np.mean( all_cov[fi1][fi2] )\n",
    "        ave_cov2 = np.mean( all_cov[fi1][fi2]*all_cov[fi1][fi2] )\n",
    "        rms_cov[fi1,fi2] = np.sqrt( ave_cov2 - ave_cov[fi1,fi2]*ave_cov[fi1,fi2] )\n",
    "        print(\"  feature %d, %d  :  cov    ave %8.4f  (true %8.4f), rms %8.4f\" %\n",
    "              (fi1, fi2, ave_cov[fi1,fi2], true_cov[fi1,fi2], rms_cov[fi1,fi2] ) )\n",
    "\n",
    "print(\"\\n\")"
   ]
  },
  {
   "cell_type": "code",
   "execution_count": null,
   "id": "9e67026d",
   "metadata": {},
   "outputs": [],
   "source": []
  },
  {
   "cell_type": "code",
   "execution_count": null,
   "id": "5e57da2c",
   "metadata": {},
   "outputs": [],
   "source": []
  },
  {
   "cell_type": "markdown",
   "id": "bf96d999",
   "metadata": {},
   "source": [
    "## Save the simple direct calculation results for setting fit parameter ranges from RMS."
   ]
  },
  {
   "cell_type": "code",
   "execution_count": 26,
   "id": "c63bfb8e",
   "metadata": {},
   "outputs": [],
   "source": [
    "with open( '%s/simple-calc-results.npy' % input_dir, 'wb' ) as f :\n",
    "    np.save( f, ave_mean )\n",
    "    np.save( f, rms_mean )\n",
    "    np.save( f, ave_cov )\n",
    "    np.save( f, rms_cov )"
   ]
  },
  {
   "cell_type": "code",
   "execution_count": null,
   "id": "3b9a8d6f",
   "metadata": {},
   "outputs": [],
   "source": []
  },
  {
   "cell_type": "code",
   "execution_count": null,
   "id": "81e9f657",
   "metadata": {},
   "outputs": [],
   "source": []
  },
  {
   "cell_type": "code",
   "execution_count": null,
   "id": "11a9ad8f",
   "metadata": {},
   "outputs": [],
   "source": []
  },
  {
   "cell_type": "code",
   "execution_count": 27,
   "id": "78ccb589",
   "metadata": {
    "scrolled": true
   },
   "outputs": [
    {
     "name": "stdout",
     "output_type": "stream",
     "text": [
      "  sample   0 :  mean1   calc    0.8072  fit   0.8072\n",
      "  sample   1 :  mean1   calc    0.8038  fit   0.8038\n",
      "  sample   2 :  mean1   calc    0.7674  fit   0.7674\n",
      "  sample   3 :  mean1   calc    0.8013  fit   0.8013\n",
      "  sample   4 :  mean1   calc    0.7731  fit   0.7731\n",
      "  sample   5 :  mean1   calc    0.7941  fit   0.7941\n",
      "  sample   6 :  mean1   calc    0.7917  fit   0.7917\n",
      "  sample   7 :  mean1   calc    0.7805  fit   0.7805\n",
      "  sample   8 :  mean1   calc    0.7913  fit   0.7913\n",
      "  sample   9 :  mean1   calc    0.7891  fit   0.7891\n",
      "  sample  10 :  mean1   calc    0.7770  fit   0.7770\n",
      "  sample  11 :  mean1   calc    0.7963  fit   0.7963\n",
      "  sample  12 :  mean1   calc    0.8051  fit   0.8051\n",
      "  sample  13 :  mean1   calc    0.7836  fit   0.7836\n",
      "  sample  14 :  mean1   calc    0.7503  fit   0.7503\n",
      "  sample  15 :  mean1   calc    0.7839  fit   0.7839\n",
      "  sample  16 :  mean1   calc    0.7747  fit   0.7747\n",
      "  sample  17 :  mean1   calc    0.7905  fit   0.7905\n",
      "  sample  18 :  mean1   calc    0.8245  fit   0.8245\n",
      "  sample  19 :  mean1   calc    0.7938  fit   0.7938\n",
      "  sample  20 :  mean1   calc    0.7850  fit   0.7850\n",
      "  sample  21 :  mean1   calc    0.7896  fit   0.7896\n",
      "  sample  22 :  mean1   calc    0.7905  fit   0.7905\n",
      "  sample  23 :  mean1   calc    0.8094  fit   0.8094\n",
      "  sample  24 :  mean1   calc    0.7809  fit   0.7809\n",
      "  sample  25 :  mean1   calc    0.8001  fit   0.8001\n",
      "  sample  26 :  mean1   calc    0.7872  fit   0.7872\n",
      "  sample  27 :  mean1   calc    0.7752  fit   0.7752\n",
      "  sample  28 :  mean1   calc    0.7860  fit   0.7860\n",
      "  sample  29 :  mean1   calc    0.7699  fit   0.7699\n",
      "  sample  30 :  mean1   calc    0.7916  fit   0.7916\n",
      "  sample  31 :  mean1   calc    0.8032  fit   0.8032\n",
      "  sample  32 :  mean1   calc    0.8063  fit   0.8063\n",
      "  sample  33 :  mean1   calc    0.8028  fit   0.8028\n",
      "  sample  34 :  mean1   calc    0.7794  fit   0.7794\n",
      "  sample  35 :  mean1   calc    0.8069  fit   0.8069\n",
      "  sample  36 :  mean1   calc    0.7769  fit   0.7769\n",
      "  sample  37 :  mean1   calc    0.7866  fit   0.7866\n",
      "  sample  38 :  mean1   calc    0.7970  fit   0.7969\n",
      "  sample  39 :  mean1   calc    0.7986  fit   0.7986\n",
      "  sample  40 :  mean1   calc    0.7734  fit   0.7734\n",
      "  sample  41 :  mean1   calc    0.7664  fit   0.7663\n",
      "  sample  42 :  mean1   calc    0.7817  fit   0.7817\n",
      "  sample  43 :  mean1   calc    0.7907  fit   0.7907\n",
      "  sample  44 :  mean1   calc    0.7901  fit   0.7901\n",
      "  sample  45 :  mean1   calc    0.7975  fit   0.7975\n",
      "  sample  46 :  mean1   calc    0.7688  fit   0.7687\n",
      "  sample  47 :  mean1   calc    0.8104  fit   0.8103\n",
      "  sample  48 :  mean1   calc    0.8132  fit   0.8132\n",
      "  sample  49 :  mean1   calc    0.7945  fit   0.7945\n",
      "  sample  50 :  mean1   calc    0.8052  fit   0.8052\n",
      "  sample  51 :  mean1   calc    0.7695  fit   0.7695\n",
      "  sample  52 :  mean1   calc    0.7858  fit   0.7858\n",
      "  sample  53 :  mean1   calc    0.7990  fit   0.7990\n",
      "  sample  54 :  mean1   calc    0.7751  fit   0.7751\n",
      "  sample  55 :  mean1   calc    0.7755  fit   0.7754\n",
      "  sample  56 :  mean1   calc    0.7964  fit   0.7964\n",
      "  sample  57 :  mean1   calc    0.7701  fit   0.7702\n",
      "  sample  58 :  mean1   calc    0.7996  fit   0.7996\n",
      "  sample  59 :  mean1   calc    0.7743  fit   0.7743\n",
      "  sample  60 :  mean1   calc    0.7850  fit   0.7850\n",
      "  sample  61 :  mean1   calc    0.7853  fit   0.7853\n",
      "  sample  62 :  mean1   calc    0.7980  fit   0.7981\n",
      "  sample  63 :  mean1   calc    0.7938  fit   0.7938\n",
      "  sample  64 :  mean1   calc    0.7843  fit   0.7843\n",
      "  sample  65 :  mean1   calc    0.7808  fit   0.7809\n",
      "  sample  66 :  mean1   calc    0.7878  fit   0.7878\n",
      "  sample  67 :  mean1   calc    0.7899  fit   0.7899\n",
      "  sample  68 :  mean1   calc    0.7763  fit   0.7763\n",
      "  sample  69 :  mean1   calc    0.7874  fit   0.7874\n",
      "  sample  70 :  mean1   calc    0.7857  fit   0.7857\n",
      "  sample  71 :  mean1   calc    0.7775  fit   0.7775\n",
      "  sample  72 :  mean1   calc    0.7796  fit   0.7797\n",
      "  sample  73 :  mean1   calc    0.7874  fit   0.7874\n",
      "  sample  74 :  mean1   calc    0.7945  fit   0.7945\n",
      "  sample  75 :  mean1   calc    0.7948  fit   0.7949\n",
      "  sample  76 :  mean1   calc    0.7945  fit   0.7945\n",
      "  sample  77 :  mean1   calc    0.7653  fit   0.7653\n",
      "  sample  78 :  mean1   calc    0.7770  fit   0.7769\n",
      "  sample  79 :  mean1   calc    0.7742  fit   0.7742\n",
      "  sample  80 :  mean1   calc    0.7839  fit   0.7839\n",
      "  sample  81 :  mean1   calc    0.7775  fit   0.7775\n",
      "  sample  82 :  mean1   calc    0.8073  fit   0.8073\n",
      "  sample  83 :  mean1   calc    0.7860  fit   0.7860\n",
      "  sample  84 :  mean1   calc    0.7945  fit   0.7945\n",
      "  sample  85 :  mean1   calc    0.7805  fit   0.7805\n",
      "  sample  86 :  mean1   calc    0.7956  fit   0.7956\n",
      "  sample  87 :  mean1   calc    0.7949  fit   0.7950\n",
      "  sample  88 :  mean1   calc    0.8240  fit   0.8240\n",
      "  sample  89 :  mean1   calc    0.7816  fit   0.7816\n",
      "  sample  90 :  mean1   calc    0.7773  fit   0.7773\n",
      "  sample  91 :  mean1   calc    0.7833  fit   0.7832\n",
      "  sample  92 :  mean1   calc    0.7964  fit   0.7964\n",
      "  sample  93 :  mean1   calc    0.7908  fit   0.7908\n",
      "  sample  94 :  mean1   calc    0.7879  fit   0.7879\n",
      "  sample  95 :  mean1   calc    0.7716  fit   0.7716\n",
      "  sample  96 :  mean1   calc    0.8182  fit   0.8182\n",
      "  sample  97 :  mean1   calc    0.7697  fit   0.7697\n",
      "  sample  98 :  mean1   calc    0.7829  fit   0.7828\n",
      "  sample  99 :  mean1   calc    0.7944  fit   0.7944\n"
     ]
    }
   ],
   "source": [
    "if have_fits :\n",
    "    \n",
    "    for si in range( n_samples ) :\n",
    "        \n",
    "        for fi in range( 1,2 ) :\n",
    "            print(\"  sample %3d :  mean%d   calc  %8.4f  fit %8.4f\" % \n",
    "                  (si, fi, all_mean[fi,si], fit_results_mean_val[fi,si]))"
   ]
  },
  {
   "cell_type": "code",
   "execution_count": 28,
   "id": "88bea9bb",
   "metadata": {},
   "outputs": [
    {
     "name": "stdout",
     "output_type": "stream",
     "text": [
      "   0 : x axis limits:  0.177, 0.229    y axis limits  0.177, 0.229\n",
      "   1 : x axis limits:  0.747, 0.828    y axis limits  0.747, 0.828\n"
     ]
    },
    {
     "data": {
      "text/plain": [
       "<function matplotlib.pyplot.show(close=None, block=None)>"
      ]
     },
     "execution_count": 28,
     "metadata": {},
     "output_type": "execute_result"
    },
    {
     "data": {
      "image/png": "[encoded data removed]",
      "text/plain": [
       "<Figure size 720x720 with 4 Axes>"
      ]
     },
     "metadata": {
      "needs_background": "light"
     },
     "output_type": "display_data"
    }
   ],
   "source": [
    "fig,ax = plt.subplots( 2, ndim, figsize=(5*ndim,5*2))\n",
    "\n",
    "hbins=40\n",
    "hmax = 10\n",
    "\n",
    "for fi in range(ndim) :\n",
    "    ax[0][fi].scatter( all_mean[fi,:], fit_results_mean_val[fi,:])\n",
    "    xlow, xhigh = ax[0][fi].get_xlim()\n",
    "    ylow, yhigh = ax[0][fi].get_ylim()\n",
    "    print(\"  %2d : x axis limits:  %.3f, %.3f    y axis limits  %.3f, %.3f\" % \n",
    "              (fi, xlow, xhigh, ylow, yhigh))\n",
    "    ax[0][fi].plot( (xlow, xhigh), (true_mu[fi], true_mu[fi]))\n",
    "    ax[0][fi].plot( (true_mu[fi], true_mu[fi]), (ylow, yhigh))\n",
    "    \n",
    "\n",
    "    ax[1][fi].hist( fit_results_mean_val[fi,:], bins=hbins, \n",
    "                   range=[ave_mean[fi]-3*rms_mean[fi], ave_mean[fi]+3*rms_mean[fi]])\n",
    "    ax[1][fi].hist( all_mean[fi,:], bins=hbins, alpha=0.5,\n",
    "                   range=[ave_mean[fi]-3*rms_mean[fi], ave_mean[fi]+3*rms_mean[fi]])\n",
    "    ax[1][fi].plot( (true_mu[fi],true_mu[fi]),(0,hmax), linewidth=3)\n",
    "    \n",
    "\n",
    "plt.show"
   ]
  },
  {
   "cell_type": "code",
   "execution_count": 29,
   "id": "f971f4dc",
   "metadata": {},
   "outputs": [
    {
     "name": "stdout",
     "output_type": "stream",
     "text": [
      "   0,  0 : x axis limits:  0.808, 0.899    y axis limits  0.808, 0.899\n",
      "   0,  1 : x axis limits:  -0.750, -0.659    y axis limits  -0.750, -0.659\n",
      "   1,  1 : x axis limits:  1.656, 1.791    y axis limits  1.656, 1.791\n"
     ]
    },
    {
     "data": {
      "text/plain": [
       "<function matplotlib.pyplot.show(close=None, block=None)>"
      ]
     },
     "execution_count": 29,
     "metadata": {},
     "output_type": "execute_result"
    },
    {
     "data": {
      "image/png": "[encoded data removed]",
      "text/plain": [
       "<Figure size 720x720 with 4 Axes>"
      ]
     },
     "metadata": {
      "needs_background": "light"
     },
     "output_type": "display_data"
    }
   ],
   "source": [
    "fig,ax = plt.subplots( ndim, ndim, figsize=(5*ndim,5*ndim))\n",
    "\n",
    "for fi1 in range(ndim) :\n",
    "    for fi2 in range(fi1,ndim) :\n",
    "        ax[fi1][fi2].scatter( all_cov[fi1,fi2,:], fit_results_cov_val[fi1,fi2,:])\n",
    "        xlow, xhigh = ax[fi1][fi2].get_xlim()\n",
    "        ylow, yhigh = ax[fi1][fi2].get_ylim()\n",
    "        print(\"  %2d, %2d : x axis limits:  %.3f, %.3f    y axis limits  %.3f, %.3f\" % \n",
    "              (fi1, fi2, xlow, xhigh, ylow, yhigh))\n",
    "        ax[fi1][fi2].plot((xlow,xhigh),(true_cov[fi1][fi2], true_cov[fi1][fi2]))\n",
    "        ax[fi1][fi2].plot((true_cov[fi1][fi2], true_cov[fi1][fi2]),(ylow,yhigh))\n",
    "\n",
    "plt.show"
   ]
  },
  {
   "cell_type": "code",
   "execution_count": 30,
   "id": "deb2b4be",
   "metadata": {},
   "outputs": [
    {
     "name": "stdout",
     "output_type": "stream",
     "text": [
      "   0,  0 : x axis limits:  0.803, 0.899    y axis limits  0.000, 10.500\n",
      "   0,  1 : x axis limits:  -0.756, -0.645    y axis limits  0.000, 9.450\n",
      "   1,  1 : x axis limits:  1.633, 1.809    y axis limits  0.000, 8.400\n"
     ]
    },
    {
     "data": {
      "text/plain": [
       "<function matplotlib.pyplot.show(close=None, block=None)>"
      ]
     },
     "execution_count": 30,
     "metadata": {},
     "output_type": "execute_result"
    },
    {
     "data": {
      "image/png": "[encoded data removed]",
      "text/plain": [
       "<Figure size 720x720 with 4 Axes>"
      ]
     },
     "metadata": {
      "needs_background": "light"
     },
     "output_type": "display_data"
    }
   ],
   "source": [
    "fig,ax = plt.subplots( ndim, ndim, figsize=(5*ndim,5*ndim))\n",
    "\n",
    "hbins=40\n",
    "hmax=10\n",
    "\n",
    "for fi1 in range(ndim) :\n",
    "    for fi2 in range(fi1,ndim) :\n",
    "        ax[fi1][fi2].hist( fit_results_cov_val[fi1,fi2,:], bins=hbins, \n",
    "                         range=[ave_cov[fi1,fi2]-3*rms_cov[fi1,fi2], ave_cov[fi1,fi2]+3*rms_cov[fi1][fi2]] )\n",
    "        ax[fi1][fi2].hist( all_cov[fi1,fi2,:], bins=hbins, alpha=0.5,\n",
    "                         range=[ave_cov[fi1,fi2]-3*rms_cov[fi1,fi2], ave_cov[fi1,fi2]+3*rms_cov[fi1][fi2]] )\n",
    "        xlow, xhigh = ax[fi1][fi2].get_xlim()\n",
    "        ylow, yhigh = ax[fi1][fi2].get_ylim()\n",
    "        print(\"  %2d, %2d : x axis limits:  %.3f, %.3f    y axis limits  %.3f, %.3f\" % \n",
    "              (fi1, fi2, xlow, xhigh, ylow, yhigh))\n",
    "\n",
    "        ax[fi1][fi2].plot((true_cov[fi1][fi2], true_cov[fi1][fi2]),(0,hmax), linewidth=3)\n",
    "\n",
    "plt.show"
   ]
  },
  {
   "cell_type": "code",
   "execution_count": null,
   "id": "2de961c3",
   "metadata": {},
   "outputs": [],
   "source": []
  },
  {
   "cell_type": "code",
   "execution_count": null,
   "id": "ecd333e7",
   "metadata": {},
   "outputs": [],
   "source": []
  },
  {
   "cell_type": "code",
   "execution_count": 31,
   "id": "cdba36dd",
   "metadata": {},
   "outputs": [
    {
     "data": {
      "text/plain": [
       "<function matplotlib.pyplot.show(close=None, block=None)>"
      ]
     },
     "execution_count": 31,
     "metadata": {},
     "output_type": "execute_result"
    },
    {
     "data": {
      "image/png": "[encoded data removed]",
      "text/plain": [
       "<Figure size 720x360 with 2 Axes>"
      ]
     },
     "metadata": {
      "needs_background": "light"
     },
     "output_type": "display_data"
    }
   ],
   "source": [
    "fig,ax = plt.subplots( 1, ndim, figsize=(5*ndim,5))\n",
    "\n",
    "hbins = 40\n",
    "hmax = 10\n",
    "\n",
    "for fi in range(ndim) :\n",
    "    ax[fi].hist( fit_results_mean_err[fi,:], bins=hbins )\n",
    "    ax[fi].plot( (rms_mean[fi], rms_mean[fi]), (0,hmax) )\n",
    "    \n",
    "    \n",
    "plt.show"
   ]
  },
  {
   "cell_type": "code",
   "execution_count": 32,
   "id": "67af76ee",
   "metadata": {},
   "outputs": [
    {
     "data": {
      "text/plain": [
       "<function matplotlib.pyplot.show(close=None, block=None)>"
      ]
     },
     "execution_count": 32,
     "metadata": {},
     "output_type": "execute_result"
    },
    {
     "data": {
      "image/png": "[encoded data removed]",
      "text/plain": [
       "<Figure size 1080x360 with 3 Axes>"
      ]
     },
     "metadata": {
      "needs_background": "light"
     },
     "output_type": "display_data"
    }
   ],
   "source": [
    "fig,ax = plt.subplots( 1, int((ndim*ndim+ndim)/2), figsize=(5*int((ndim*ndim+ndim)/2),5))\n",
    "\n",
    "hbins = 40\n",
    "hmax = 10\n",
    "\n",
    "ai = 0\n",
    "\n",
    "for fi1 in range(ndim) :\n",
    "    for fi2 in range(fi1,ndim) :\n",
    "\n",
    "        ax[ai].hist( fit_results_cov_err[fi1,fi2,:], bins=hbins )\n",
    "        ax[ai].plot( (rms_cov[fi1,fi2], rms_cov[fi1,fi2]), (0,hmax) )\n",
    "        ai = ai + 1\n",
    "    \n",
    "plt.show"
   ]
  },
  {
   "cell_type": "code",
   "execution_count": null,
   "id": "b7858ec2",
   "metadata": {},
   "outputs": [],
   "source": []
  },
  {
   "cell_type": "markdown",
   "id": "cd2c42ff",
   "metadata": {},
   "source": [
    "## Bootstrap error compared with average fit error"
   ]
  },
  {
   "cell_type": "code",
   "execution_count": 33,
   "id": "b212bbe1",
   "metadata": {},
   "outputs": [
    {
     "name": "stdout",
     "output_type": "stream",
     "text": [
      "\n",
      "\n",
      "  mean 0:  rms bootstraps   0.0103,  ave fit err   0.0090    ratio   1.14 |  val.  0.205, true  0.200, diff  0.005\n",
      "  mean 1:  rms bootstraps   0.0131,  ave fit err   0.0128    ratio   1.03 |  val.  0.788, true  0.800, diff -0.012\n",
      "\n",
      "\n",
      "  cov00:   rms bootstraps   0.0145,  ave fit err   0.0117    ratio   1.24 |  val.  0.851, true  0.810, diff  0.041\n",
      "  cov01:   rms bootstraps   0.0169,  ave fit err   0.0136    ratio   1.24 |  val. -0.701, true -0.702, diff  0.001\n",
      "  cov11:   rms bootstraps   0.0267,  ave fit err   0.0237    ratio   1.12 |  val.  1.721, true  1.690, diff  0.031\n",
      "\n",
      "\n"
     ]
    }
   ],
   "source": [
    "print('\\n')\n",
    "\n",
    "for fi in range(ndim) :\n",
    "    \n",
    "    print(\"  mean %d:  rms bootstraps %8.4f,  ave fit err %8.4f    ratio %6.2f |  val. %6.3f, true %6.3f, diff %6.3f\"\n",
    "         % (fi, rms_mean[fi], ave_fit_err_mean[fi], rms_mean[fi] / ave_fit_err_mean[fi], ave_mean[fi], true_mu[fi], ave_mean[fi]-true_mu[fi] ))\n",
    "    \n",
    "print('\\n')\n",
    "\n",
    "for fi1 in range(ndim) :\n",
    "    for fi2 in range(fi1,ndim) :\n",
    "        print(\"  cov%d%d:   rms bootstraps %8.4f,  ave fit err %8.4f    ratio %6.2f |  val. %6.3f, true %6.3f, diff %6.3f\"\n",
    "              % (fi1, fi2, rms_cov[fi1,fi2], ave_fit_err_cov[fi1,fi2], rms_cov[fi1,fi2]/ave_fit_err_cov[fi1,fi2], ave_cov[fi1,fi2], true_cov[fi1,fi2], ave_cov[fi1,fi2]-true_cov[fi1,fi2]) )\n",
    "        \n",
    "print('\\n')"
   ]
  },
  {
   "cell_type": "code",
   "execution_count": null,
   "id": "1d600c7d",
   "metadata": {},
   "outputs": [],
   "source": []
  },
  {
   "cell_type": "markdown",
   "id": "382221f5",
   "metadata": {},
   "source": [
    "## Look for outliers in feature coords and weights"
   ]
  },
  {
   "cell_type": "code",
   "execution_count": 34,
   "id": "e75b2131",
   "metadata": {},
   "outputs": [
    {
     "name": "stdout",
     "output_type": "stream",
     "text": [
      "  feature  0 :  min    -4.246143   max     4.477720 \n",
      "  feature  1 :  min    -5.776488   max     6.868711 \n"
     ]
    }
   ],
   "source": [
    "for fi in range( ndim ) :\n",
    "    \n",
    "    print( \"  feature %2d :  min %12f   max %12f \" % ( fi, np.min(train_pts[:,fi]), np.max(train_pts[:,fi])) )"
   ]
  },
  {
   "cell_type": "code",
   "execution_count": 35,
   "id": "35472289",
   "metadata": {},
   "outputs": [
    {
     "name": "stdout",
     "output_type": "stream",
     "text": [
      "    0 : weight range             0  to     0.931576 ,   max delta mean      0.000001\n",
      "    1 : weight range             0  to     0.426277 ,   max delta mean      0.000000\n",
      "    2 : weight range             0  to     0.935963 ,   max delta mean      0.000008\n",
      "    3 : weight range             0  to     0.231240 ,   max delta mean     -0.000011\n",
      "    4 : weight range             0  to     0.209001 ,   max delta mean      0.000025\n",
      "    5 : weight range             0  to     0.930854 ,   max delta mean     -0.000028\n",
      "    6 : weight range             0  to     0.196078 ,   max delta mean      0.000015\n",
      "    7 : weight range             0  to     1.998691 ,   max delta mean      0.000008\n",
      "    8 : weight range             0  to     0.888162 ,   max delta mean     -0.000004\n",
      "    9 : weight range             0  to     1.982200 ,   max delta mean     -0.000005\n",
      "   10 : weight range             0  to     0.195534 ,   max delta mean      0.000007\n",
      "   11 : weight range             0  to     0.224644 ,   max delta mean      0.000002\n",
      "   12 : weight range             0  to     0.185486 ,   max delta mean     -0.000012\n",
      "   13 : weight range             0  to     0.238071 ,   max delta mean      0.000008\n",
      "   14 : weight range             0  to     0.935266 ,   max delta mean      0.000010\n",
      "   15 : weight range             0  to     0.189724 ,   max delta mean      0.000004\n",
      "   16 : weight range             0  to     1.977948 ,   max delta mean      0.000004\n",
      "   17 : weight range             0  to     2.985193 ,   max delta mean      0.000003\n",
      "   18 : weight range             0  to     0.240000 ,   max delta mean      0.000008\n",
      "   19 : weight range             0  to     0.502881 ,   max delta mean      0.000003\n",
      "   20 : weight range             0  to     0.159782 ,   max delta mean      0.000005\n",
      "   21 : weight range             0  to     0.924218 ,   max delta mean      0.000007\n",
      "   22 : weight range             0  to     0.932778 ,   max delta mean      0.000004\n",
      "   23 : weight range             0  to     0.600905 ,   max delta mean      0.000007\n",
      "   24 : weight range             0  to     0.505657 ,   max delta mean      0.000014\n",
      "   25 : weight range             0  to     0.970224 ,   max delta mean     -0.000003\n",
      "   26 : weight range             0  to     3.006888 ,   max delta mean      0.000006\n",
      "   27 : weight range             0  to     0.951654 ,   max delta mean     -0.000006\n",
      "   28 : weight range             0  to     0.159905 ,   max delta mean     -0.000007\n",
      "   29 : weight range             0  to     0.712956 ,   max delta mean      0.000013\n",
      "   30 : weight range             0  to     3.017360 ,   max delta mean      0.000006\n",
      "   31 : weight range             0  to     1.950484 ,   max delta mean     -0.000056\n",
      "   32 : weight range             0  to     0.941633 ,   max delta mean      0.000010\n",
      "   33 : weight range             0  to     0.968980 ,   max delta mean      0.000002\n",
      "   34 : weight range             0  to     1.947174 ,   max delta mean      0.000003\n",
      "   35 : weight range             0  to     5.101569 ,   max delta mean      0.000038\n",
      "   36 : weight range             0  to     0.331645 ,   max delta mean     -0.000022\n",
      "   37 : weight range             0  to     1.951734 ,   max delta mean      0.000052\n",
      "   38 : weight range             0  to     2.984932 ,   max delta mean     -0.000039\n",
      "   39 : weight range             0  to     0.956801 ,   max delta mean     -0.000014\n",
      "   40 : weight range             0  to     1.128305 ,   max delta mean      0.000001\n",
      "   41 : weight range             0  to     0.943319 ,   max delta mean     -0.000102\n",
      "   42 : weight range             0  to     0.251874 ,   max delta mean      0.000010\n",
      "   43 : weight range             0  to     4.080251 ,   max delta mean      0.000001\n",
      "   44 : weight range             0  to     0.969543 ,   max delta mean      0.000003\n",
      "   45 : weight range             0  to     0.923746 ,   max delta mean      0.000005\n",
      "   46 : weight range             0  to     1.974712 ,   max delta mean     -0.000023\n",
      "   47 : weight range             0  to     0.416423 ,   max delta mean     -0.000044\n",
      "   48 : weight range             0  to     3.001647 ,   max delta mean     -0.000023\n",
      "   49 : weight range             0  to     0.716826 ,   max delta mean      0.000001\n",
      "   50 : weight range             0  to     1.938198 ,   max delta mean      0.000001\n",
      "   51 : weight range             0  to     0.948581 ,   max delta mean     -0.000015\n",
      "   52 : weight range             0  to     0.961794 ,   max delta mean     -0.000003\n",
      "   53 : weight range             0  to     0.940993 ,   max delta mean     -0.000014\n",
      "   54 : weight range             0  to     0.777851 ,   max delta mean     -0.000001\n",
      "   55 : weight range             0  to     0.943195 ,   max delta mean     -0.000080\n",
      "   56 : weight range             0  to     0.730843 ,   max delta mean     -0.000006\n",
      "   57 : weight range             0  to     0.168032 ,   max delta mean      0.000089\n",
      "   58 : weight range             0  to     0.189847 ,   max delta mean      0.000015\n",
      "   59 : weight range             0  to     0.957812 ,   max delta mean      0.000003\n",
      "   60 : weight range             0  to     3.036351 ,   max delta mean      0.000012\n",
      "   61 : weight range             0  to     1.987642 ,   max delta mean     -0.000057\n",
      "   62 : weight range             0  to     0.264878 ,   max delta mean      0.000099\n",
      "   63 : weight range             0  to     0.257271 ,   max delta mean      0.000003\n",
      "   64 : weight range             0  to     0.977108 ,   max delta mean     -0.000006\n",
      "   65 : weight range             0  to     1.957501 ,   max delta mean      0.000023\n",
      "   66 : weight range             0  to     0.942756 ,   max delta mean     -0.000003\n",
      "   67 : weight range             0  to     0.151327 ,   max delta mean     -0.000003\n",
      "   68 : weight range             0  to     0.909695 ,   max delta mean      0.000020\n",
      "   69 : weight range             0  to     0.462514 ,   max delta mean      0.000013\n",
      "   70 : weight range             0  to     0.955303 ,   max delta mean     -0.000001\n",
      "   71 : weight range             0  to     0.188190 ,   max delta mean     -0.000002\n",
      "   72 : weight range             0  to     0.225955 ,   max delta mean      0.000086\n",
      "   73 : weight range             0  to     1.981703 ,   max delta mean      0.000008\n",
      "   74 : weight range             0  to     1.239976 ,   max delta mean     -0.000002\n",
      "   75 : weight range             0  to     0.566121 ,   max delta mean      0.000011\n",
      "   76 : weight range             0  to     0.313630 ,   max delta mean      0.000002\n",
      "   77 : weight range             0  to     1.114029 ,   max delta mean     -0.000003\n",
      "   78 : weight range             0  to     1.954312 ,   max delta mean     -0.000073\n",
      "   79 : weight range             0  to     1.953920 ,   max delta mean      0.000009\n",
      "   80 : weight range             0  to     0.969674 ,   max delta mean     -0.000000\n",
      "   81 : weight range             0  to     1.072686 ,   max delta mean     -0.000007\n",
      "   82 : weight range             0  to     3.005942 ,   max delta mean      0.000006\n",
      "   83 : weight range             0  to     0.330713 ,   max delta mean      0.000002\n",
      "   84 : weight range             0  to     1.973860 ,   max delta mean     -0.000005\n",
      "   85 : weight range             0  to     0.151381 ,   max delta mean      0.000009\n",
      "   86 : weight range             0  to     0.959563 ,   max delta mean     -0.000003\n",
      "   87 : weight range             0  to     0.285998 ,   max delta mean      0.000061\n",
      "   88 : weight range             0  to     0.957799 ,   max delta mean     -0.000019\n",
      "   89 : weight range             0  to     0.568076 ,   max delta mean      0.000032\n",
      "   90 : weight range             0  to     0.933069 ,   max delta mean      0.000010\n",
      "   91 : weight range             0  to     0.152675 ,   max delta mean     -0.000031\n",
      "   92 : weight range             0  to     4.020535 ,   max delta mean      0.000035\n",
      "   93 : weight range             0  to     0.261428 ,   max delta mean      0.000007\n",
      "   94 : weight range             0  to     0.947296 ,   max delta mean      0.000002\n",
      "   95 : weight range             0  to     0.938109 ,   max delta mean     -0.000003\n",
      "   96 : weight range             0  to     0.163812 ,   max delta mean      0.000003\n",
      "   97 : weight range             0  to     0.173933 ,   max delta mean     -0.000023\n",
      "   98 : weight range             0  to     1.935861 ,   max delta mean     -0.000088\n",
      "   99 : weight range             0  to     0.205461 ,   max delta mean     -0.000005\n"
     ]
    }
   ],
   "source": [
    "for si in range( n_samples ) :\n",
    "    \n",
    "    max_delta_mean = 0\n",
    "    for fi in range(ndim) :\n",
    "        delta = fit_results_mean_val[fi,si] - all_mean[fi,si] \n",
    "        if np.abs(delta) > max_delta_mean :\n",
    "            max_delta_mean = delta\n",
    "        \n",
    "    print(\"  %3d : weight range  %12g  to %12f ,   max delta mean  %12f\"\n",
    "         % (si, all_weight_min[si], all_weight_max[si], max_delta_mean ))"
   ]
  },
  {
   "cell_type": "code",
   "execution_count": null,
   "id": "e20efde0",
   "metadata": {},
   "outputs": [],
   "source": []
  },
  {
   "cell_type": "markdown",
   "id": "d0f7f7ac",
   "metadata": {},
   "source": [
    "## Look deeper into bootstrap with an outlier"
   ]
  },
  {
   "cell_type": "code",
   "execution_count": 36,
   "id": "1847f3c0",
   "metadata": {},
   "outputs": [],
   "source": [
    "si = 35\n",
    "\n",
    "fname = '%s/bootstrap-weights-%03d.npy' % (input_dir, si)\n",
    "            \n",
    "with open(fname,'rb') as f :\n",
    "            \n",
    "    final_push_weights_scaled = np.load(f)"
   ]
  },
  {
   "cell_type": "code",
   "execution_count": 37,
   "id": "47aec5a2",
   "metadata": {},
   "outputs": [
    {
     "name": "stderr",
     "output_type": "stream",
     "text": [
      "/tmp/ipykernel_4045621/2170943159.py:4: RuntimeWarning: divide by zero encountered in log10\n",
      "  ax[0].hist( np.log10(final_push_weights_scaled), bins=hbins)\n"
     ]
    },
    {
     "ename": "ValueError",
     "evalue": "supplied range of [-inf, 0.7077037404010275] is not finite",
     "output_type": "error",
     "traceback": [
      "\u001b[0;31m---------------------------------------------------------------------------\u001b[0m",
      "\u001b[0;31mValueError\u001b[0m                                Traceback (most recent call last)",
      "\u001b[0;32m/tmp/ipykernel_4045621/2170943159.py\u001b[0m in \u001b[0;36m<module>\u001b[0;34m\u001b[0m\n\u001b[1;32m      2\u001b[0m \u001b[0;34m\u001b[0m\u001b[0m\n\u001b[1;32m      3\u001b[0m \u001b[0mhbins\u001b[0m \u001b[0;34m=\u001b[0m \u001b[0;36m60\u001b[0m\u001b[0;34m\u001b[0m\u001b[0;34m\u001b[0m\u001b[0m\n\u001b[0;32m----> 4\u001b[0;31m \u001b[0max\u001b[0m\u001b[0;34m[\u001b[0m\u001b[0;36m0\u001b[0m\u001b[0;34m]\u001b[0m\u001b[0;34m.\u001b[0m\u001b[0mhist\u001b[0m\u001b[0;34m(\u001b[0m \u001b[0mnp\u001b[0m\u001b[0;34m.\u001b[0m\u001b[0mlog10\u001b[0m\u001b[0;34m(\u001b[0m\u001b[0mfinal_push_weights_scaled\u001b[0m\u001b[0;34m)\u001b[0m\u001b[0;34m,\u001b[0m \u001b[0mbins\u001b[0m\u001b[0;34m=\u001b[0m\u001b[0mhbins\u001b[0m\u001b[0;34m)\u001b[0m\u001b[0;34m\u001b[0m\u001b[0;34m\u001b[0m\u001b[0m\n\u001b[0m\u001b[1;32m      5\u001b[0m \u001b[0max\u001b[0m\u001b[0;34m[\u001b[0m\u001b[0;36m1\u001b[0m\u001b[0;34m]\u001b[0m\u001b[0;34m.\u001b[0m\u001b[0mhist\u001b[0m\u001b[0;34m(\u001b[0m \u001b[0mfinal_push_weights_scaled\u001b[0m\u001b[0;34m,\u001b[0m \u001b[0mbins\u001b[0m\u001b[0;34m=\u001b[0m\u001b[0mhbins\u001b[0m\u001b[0;34m)\u001b[0m\u001b[0;34m\u001b[0m\u001b[0;34m\u001b[0m\u001b[0m\n\u001b[1;32m      6\u001b[0m \u001b[0max\u001b[0m\u001b[0;34m[\u001b[0m\u001b[0;36m1\u001b[0m\u001b[0;34m]\u001b[0m\u001b[0;34m.\u001b[0m\u001b[0mset_yscale\u001b[0m\u001b[0;34m(\u001b[0m\u001b[0;34m'log'\u001b[0m\u001b[0;34m)\u001b[0m\u001b[0;34m\u001b[0m\u001b[0;34m\u001b[0m\u001b[0m\n",
      "\u001b[0;32m/usr/lib/python3/dist-packages/matplotlib/__init__.py\u001b[0m in \u001b[0;36minner\u001b[0;34m(ax, data, *args, **kwargs)\u001b[0m\n\u001b[1;32m   1414\u001b[0m     \u001b[0;32mdef\u001b[0m \u001b[0minner\u001b[0m\u001b[0;34m(\u001b[0m\u001b[0max\u001b[0m\u001b[0;34m,\u001b[0m \u001b[0;34m*\u001b[0m\u001b[0margs\u001b[0m\u001b[0;34m,\u001b[0m \u001b[0mdata\u001b[0m\u001b[0;34m=\u001b[0m\u001b[0;32mNone\u001b[0m\u001b[0;34m,\u001b[0m \u001b[0;34m**\u001b[0m\u001b[0mkwargs\u001b[0m\u001b[0;34m)\u001b[0m\u001b[0;34m:\u001b[0m\u001b[0;34m\u001b[0m\u001b[0;34m\u001b[0m\u001b[0m\n\u001b[1;32m   1415\u001b[0m         \u001b[0;32mif\u001b[0m \u001b[0mdata\u001b[0m \u001b[0;32mis\u001b[0m \u001b[0;32mNone\u001b[0m\u001b[0;34m:\u001b[0m\u001b[0;34m\u001b[0m\u001b[0;34m\u001b[0m\u001b[0m\n\u001b[0;32m-> 1416\u001b[0;31m             \u001b[0;32mreturn\u001b[0m \u001b[0mfunc\u001b[0m\u001b[0;34m(\u001b[0m\u001b[0max\u001b[0m\u001b[0;34m,\u001b[0m \u001b[0;34m*\u001b[0m\u001b[0mmap\u001b[0m\u001b[0;34m(\u001b[0m\u001b[0msanitize_sequence\u001b[0m\u001b[0;34m,\u001b[0m \u001b[0margs\u001b[0m\u001b[0;34m)\u001b[0m\u001b[0;34m,\u001b[0m \u001b[0;34m**\u001b[0m\u001b[0mkwargs\u001b[0m\u001b[0;34m)\u001b[0m\u001b[0;34m\u001b[0m\u001b[0;34m\u001b[0m\u001b[0m\n\u001b[0m\u001b[1;32m   1417\u001b[0m \u001b[0;34m\u001b[0m\u001b[0m\n\u001b[1;32m   1418\u001b[0m         \u001b[0mbound\u001b[0m \u001b[0;34m=\u001b[0m \u001b[0mnew_sig\u001b[0m\u001b[0;34m.\u001b[0m\u001b[0mbind\u001b[0m\u001b[0;34m(\u001b[0m\u001b[0max\u001b[0m\u001b[0;34m,\u001b[0m \u001b[0;34m*\u001b[0m\u001b[0margs\u001b[0m\u001b[0;34m,\u001b[0m \u001b[0;34m**\u001b[0m\u001b[0mkwargs\u001b[0m\u001b[0;34m)\u001b[0m\u001b[0;34m\u001b[0m\u001b[0;34m\u001b[0m\u001b[0m\n",
      "\u001b[0;32m/usr/lib/python3/dist-packages/matplotlib/axes/_axes.py\u001b[0m in \u001b[0;36mhist\u001b[0;34m(self, x, bins, range, density, weights, cumulative, bottom, histtype, align, orientation, rwidth, log, color, label, stacked, **kwargs)\u001b[0m\n\u001b[1;32m   6637\u001b[0m             \u001b[0;31m# this will automatically overwrite bins,\u001b[0m\u001b[0;34m\u001b[0m\u001b[0;34m\u001b[0m\u001b[0m\n\u001b[1;32m   6638\u001b[0m             \u001b[0;31m# so that each histogram uses the same bins\u001b[0m\u001b[0;34m\u001b[0m\u001b[0;34m\u001b[0m\u001b[0m\n\u001b[0;32m-> 6639\u001b[0;31m             \u001b[0mm\u001b[0m\u001b[0;34m,\u001b[0m \u001b[0mbins\u001b[0m \u001b[0;34m=\u001b[0m \u001b[0mnp\u001b[0m\u001b[0;34m.\u001b[0m\u001b[0mhistogram\u001b[0m\u001b[0;34m(\u001b[0m\u001b[0mx\u001b[0m\u001b[0;34m[\u001b[0m\u001b[0mi\u001b[0m\u001b[0;34m]\u001b[0m\u001b[0;34m,\u001b[0m \u001b[0mbins\u001b[0m\u001b[0;34m,\u001b[0m \u001b[0mweights\u001b[0m\u001b[0;34m=\u001b[0m\u001b[0mw\u001b[0m\u001b[0;34m[\u001b[0m\u001b[0mi\u001b[0m\u001b[0;34m]\u001b[0m\u001b[0;34m,\u001b[0m \u001b[0;34m**\u001b[0m\u001b[0mhist_kwargs\u001b[0m\u001b[0;34m)\u001b[0m\u001b[0;34m\u001b[0m\u001b[0;34m\u001b[0m\u001b[0m\n\u001b[0m\u001b[1;32m   6640\u001b[0m             \u001b[0mtops\u001b[0m\u001b[0;34m.\u001b[0m\u001b[0mappend\u001b[0m\u001b[0;34m(\u001b[0m\u001b[0mm\u001b[0m\u001b[0;34m)\u001b[0m\u001b[0;34m\u001b[0m\u001b[0;34m\u001b[0m\u001b[0m\n\u001b[1;32m   6641\u001b[0m         \u001b[0mtops\u001b[0m \u001b[0;34m=\u001b[0m \u001b[0mnp\u001b[0m\u001b[0;34m.\u001b[0m\u001b[0marray\u001b[0m\u001b[0;34m(\u001b[0m\u001b[0mtops\u001b[0m\u001b[0;34m,\u001b[0m \u001b[0mfloat\u001b[0m\u001b[0;34m)\u001b[0m  \u001b[0;31m# causes problems later if it's an int\u001b[0m\u001b[0;34m\u001b[0m\u001b[0;34m\u001b[0m\u001b[0m\n",
      "\u001b[0;32m~/.local/lib/python3.10/site-packages/numpy/lib/histograms.py\u001b[0m in \u001b[0;36mhistogram\u001b[0;34m(a, bins, range, density, weights)\u001b[0m\n\u001b[1;32m    778\u001b[0m     \u001b[0ma\u001b[0m\u001b[0;34m,\u001b[0m \u001b[0mweights\u001b[0m \u001b[0;34m=\u001b[0m \u001b[0m_ravel_and_check_weights\u001b[0m\u001b[0;34m(\u001b[0m\u001b[0ma\u001b[0m\u001b[0;34m,\u001b[0m \u001b[0mweights\u001b[0m\u001b[0;34m)\u001b[0m\u001b[0;34m\u001b[0m\u001b[0;34m\u001b[0m\u001b[0m\n\u001b[1;32m    779\u001b[0m \u001b[0;34m\u001b[0m\u001b[0m\n\u001b[0;32m--> 780\u001b[0;31m     \u001b[0mbin_edges\u001b[0m\u001b[0;34m,\u001b[0m \u001b[0muniform_bins\u001b[0m \u001b[0;34m=\u001b[0m \u001b[0m_get_bin_edges\u001b[0m\u001b[0;34m(\u001b[0m\u001b[0ma\u001b[0m\u001b[0;34m,\u001b[0m \u001b[0mbins\u001b[0m\u001b[0;34m,\u001b[0m \u001b[0mrange\u001b[0m\u001b[0;34m,\u001b[0m \u001b[0mweights\u001b[0m\u001b[0;34m)\u001b[0m\u001b[0;34m\u001b[0m\u001b[0;34m\u001b[0m\u001b[0m\n\u001b[0m\u001b[1;32m    781\u001b[0m \u001b[0;34m\u001b[0m\u001b[0m\n\u001b[1;32m    782\u001b[0m     \u001b[0;31m# Histogram is an integer or a float array depending on the weights.\u001b[0m\u001b[0;34m\u001b[0m\u001b[0;34m\u001b[0m\u001b[0m\n",
      "\u001b[0;32m~/.local/lib/python3.10/site-packages/numpy/lib/histograms.py\u001b[0m in \u001b[0;36m_get_bin_edges\u001b[0;34m(a, bins, range, weights)\u001b[0m\n\u001b[1;32m    424\u001b[0m             \u001b[0;32mraise\u001b[0m \u001b[0mValueError\u001b[0m\u001b[0;34m(\u001b[0m\u001b[0;34m'`bins` must be positive, when an integer'\u001b[0m\u001b[0;34m)\u001b[0m\u001b[0;34m\u001b[0m\u001b[0;34m\u001b[0m\u001b[0m\n\u001b[1;32m    425\u001b[0m \u001b[0;34m\u001b[0m\u001b[0m\n\u001b[0;32m--> 426\u001b[0;31m         \u001b[0mfirst_edge\u001b[0m\u001b[0;34m,\u001b[0m \u001b[0mlast_edge\u001b[0m \u001b[0;34m=\u001b[0m \u001b[0m_get_outer_edges\u001b[0m\u001b[0;34m(\u001b[0m\u001b[0ma\u001b[0m\u001b[0;34m,\u001b[0m \u001b[0mrange\u001b[0m\u001b[0;34m)\u001b[0m\u001b[0;34m\u001b[0m\u001b[0;34m\u001b[0m\u001b[0m\n\u001b[0m\u001b[1;32m    427\u001b[0m \u001b[0;34m\u001b[0m\u001b[0m\n\u001b[1;32m    428\u001b[0m     \u001b[0;32melif\u001b[0m \u001b[0mnp\u001b[0m\u001b[0;34m.\u001b[0m\u001b[0mndim\u001b[0m\u001b[0;34m(\u001b[0m\u001b[0mbins\u001b[0m\u001b[0;34m)\u001b[0m \u001b[0;34m==\u001b[0m \u001b[0;36m1\u001b[0m\u001b[0;34m:\u001b[0m\u001b[0;34m\u001b[0m\u001b[0;34m\u001b[0m\u001b[0m\n",
      "\u001b[0;32m~/.local/lib/python3.10/site-packages/numpy/lib/histograms.py\u001b[0m in \u001b[0;36m_get_outer_edges\u001b[0;34m(a, range)\u001b[0m\n\u001b[1;32m    313\u001b[0m                 'max must be larger than min in range parameter.')\n\u001b[1;32m    314\u001b[0m         \u001b[0;32mif\u001b[0m \u001b[0;32mnot\u001b[0m \u001b[0;34m(\u001b[0m\u001b[0mnp\u001b[0m\u001b[0;34m.\u001b[0m\u001b[0misfinite\u001b[0m\u001b[0;34m(\u001b[0m\u001b[0mfirst_edge\u001b[0m\u001b[0;34m)\u001b[0m \u001b[0;32mand\u001b[0m \u001b[0mnp\u001b[0m\u001b[0;34m.\u001b[0m\u001b[0misfinite\u001b[0m\u001b[0;34m(\u001b[0m\u001b[0mlast_edge\u001b[0m\u001b[0;34m)\u001b[0m\u001b[0;34m)\u001b[0m\u001b[0;34m:\u001b[0m\u001b[0;34m\u001b[0m\u001b[0;34m\u001b[0m\u001b[0m\n\u001b[0;32m--> 315\u001b[0;31m             raise ValueError(\n\u001b[0m\u001b[1;32m    316\u001b[0m                 \"supplied range of [{}, {}] is not finite\".format(first_edge, last_edge))\n\u001b[1;32m    317\u001b[0m     \u001b[0;32melif\u001b[0m \u001b[0ma\u001b[0m\u001b[0;34m.\u001b[0m\u001b[0msize\u001b[0m \u001b[0;34m==\u001b[0m \u001b[0;36m0\u001b[0m\u001b[0;34m:\u001b[0m\u001b[0;34m\u001b[0m\u001b[0;34m\u001b[0m\u001b[0m\n",
      "\u001b[0;31mValueError\u001b[0m: supplied range of [-inf, 0.7077037404010275] is not finite"
     ]
    },
    {
     "data": {
      "image/png": "[encoded data removed]",
      "text/plain": [
       "<Figure size 1008x360 with 2 Axes>"
      ]
     },
     "metadata": {
      "needs_background": "light"
     },
     "output_type": "display_data"
    }
   ],
   "source": [
    "fig,ax = plt.subplots( 1, 2, figsize=(2*7,5))\n",
    "\n",
    "hbins = 60\n",
    "ax[0].hist( np.log10(final_push_weights_scaled), bins=hbins)\n",
    "ax[1].hist( final_push_weights_scaled, bins=hbins)\n",
    "ax[1].set_yscale('log')\n",
    "\n",
    "plt.show"
   ]
  },
  {
   "cell_type": "code",
   "execution_count": null,
   "id": "abe787e8",
   "metadata": {},
   "outputs": [],
   "source": []
  },
  {
   "cell_type": "code",
   "execution_count": null,
   "id": "b849430d",
   "metadata": {},
   "outputs": [],
   "source": [
    "selection_mask = final_push_weights_scaled < 100\n",
    "train_pts_sel = train_pts[ selection_mask ]\n",
    "weights_sel = final_push_weights_scaled[ selection_mask ]\n",
    "\n",
    "print(\" number of events before selection  %d\" % len(train_pts))\n",
    "print(\" number of events passing selection %d\" % len(train_pts_sel))\n",
    "print(\" max weight before selection : %f\" % np.max(final_push_weights_scaled))\n",
    "print(\" max weight passing selection: %f\" % np.max(weights_sel))"
   ]
  },
  {
   "cell_type": "code",
   "execution_count": null,
   "id": "b9019f4c",
   "metadata": {},
   "outputs": [],
   "source": [
    "for fi in range( ndim ) :\n",
    "    \n",
    "    fit_mean = fit_results_mean_val[fi,si]\n",
    "    mean_all_evts = all_mean[fi,si]\n",
    "    mean_sel = ( np.sum( weights_sel * train_pts_sel[:,fi]) ) / ( np.sum( weights_sel ) )\n",
    "    mean_diff = mean_sel - mean_all_evts\n",
    "    print(\" %2d :  fit mean  %10f   mean all  %10f   selected  %10f   diff %10f  fit diff %10f\" % \n",
    "          ( fi, fit_mean, mean_all_evts, mean_sel, mean_diff, (mean_sel-fit_mean) ))"
   ]
  },
  {
   "cell_type": "markdown",
   "id": "a4094cac",
   "metadata": {},
   "source": [
    "## Look at outlier point"
   ]
  },
  {
   "cell_type": "code",
   "execution_count": null,
   "id": "d88a54e8",
   "metadata": {},
   "outputs": [],
   "source": [
    "train_pts_antisel = train_pts[ final_push_weights_scaled > 100 ]\n",
    "train_pts_antisel.shape"
   ]
  },
  {
   "cell_type": "code",
   "execution_count": null,
   "id": "12ab14fa",
   "metadata": {},
   "outputs": [],
   "source": [
    "for fi in range( ndim ) :\n",
    "    \n",
    "    sigma = np.sqrt(ave_cov[fi,fi])\n",
    "    \n",
    "    print(\" %2d :  val %10f   mean %10f   sigma %10f  diff/sigma %10f\" %\n",
    "          (fi, train_pts_antisel[0,fi], ave_mean[fi], sigma, (train_pts_antisel[0,fi]-ave_mean[fi])/sigma )\n",
    "         )"
   ]
  },
  {
   "cell_type": "code",
   "execution_count": null,
   "id": "9506f674",
   "metadata": {},
   "outputs": [],
   "source": [
    "true_sig"
   ]
  },
  {
   "cell_type": "code",
   "execution_count": null,
   "id": "ca1b7b09",
   "metadata": {},
   "outputs": [],
   "source": []
  },
  {
   "cell_type": "markdown",
   "id": "30759a9d",
   "metadata": {},
   "source": [
    "## Calculate the true weights and compare with unfolding weights"
   ]
  },
  {
   "cell_type": "code",
   "execution_count": null,
   "id": "73fd72e6",
   "metadata": {},
   "outputs": [],
   "source": []
  }
 ],
 "metadata": {
  "kernelspec": {
   "display_name": "Python 3 (ipykernel)",
   "language": "python",
   "name": "python3"
  },
  "language_info": {
   "codemirror_mode": {
    "name": "ipython",
    "version": 3
   },
   "file_extension": ".py",
   "mimetype": "text/x-python",
   "name": "python",
   "nbconvert_exporter": "python",
   "pygments_lexer": "ipython3",
   "version": "3.10.12"
  }
 },
 "nbformat": 4,
 "nbformat_minor": 5
}
