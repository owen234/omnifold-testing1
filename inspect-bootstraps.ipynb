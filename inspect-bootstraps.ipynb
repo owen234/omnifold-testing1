{
 "cells": [
  {
   "cell_type": "code",
   "execution_count": 1,
   "id": "1c1a549e",
   "metadata": {},
   "outputs": [],
   "source": [
    "import matplotlib.pyplot as plt\n",
    "import numpy as np\n",
    "\n",
    "import time\n",
    "\n",
    "import sys\n",
    "import os\n",
    "\n",
    "from datetime import datetime\n",
    "import subprocess\n",
    "\n",
    "from os.path import exists\n",
    "\n",
    "import read_config_utils as cu\n",
    "\n",
    "import matplotlib as mpl"
   ]
  },
  {
   "cell_type": "code",
   "execution_count": 2,
   "id": "cb746b1c",
   "metadata": {},
   "outputs": [
    {
     "name": "stdout",
     "output_type": "stream",
     "text": [
      "\n",
      "\n",
      "\n",
      " shape of train_pts:  (100000, 2)\n",
      " shape of true_pts:   (10000, 2)\n",
      "\n",
      "\n",
      "\n"
     ]
    }
   ],
   "source": [
    "#input_dir = 'output-files-bootstrap-test7-2d'\n",
    "\n",
    "input_dir = 'output-files-bootstrap-test6b-2d-2a-100k'\n",
    "\n",
    "#input_dir = 'bootstrap-simple-pdf-toy-study6b-2d-v1b'\n",
    "\n",
    "#input_dir = 'output-files-bootstrap-test6b-2d-2a'\n",
    "\n",
    "with open( '%s/train-and-true-samples.npy' % input_dir, 'rb') as f :\n",
    "    train_pts = np.load(f)\n",
    "    train_det_pts = np.load(f)\n",
    "    true_pts = np.load(f)\n",
    "    true_det_pts = np.load(f)\n",
    "    \n",
    "print('\\n\\n')\n",
    "print(' shape of train_pts:  %s' % str(train_pts.shape))\n",
    "print(' shape of true_pts:   %s' % str(true_pts.shape))\n",
    "print('\\n\\n')\n",
    "\n"
   ]
  },
  {
   "cell_type": "code",
   "execution_count": null,
   "id": "99bbf301",
   "metadata": {},
   "outputs": [],
   "source": []
  },
  {
   "cell_type": "code",
   "execution_count": null,
   "id": "706075d7",
   "metadata": {},
   "outputs": [],
   "source": []
  },
  {
   "cell_type": "code",
   "execution_count": 3,
   "id": "efdcf99f",
   "metadata": {},
   "outputs": [],
   "source": [
    "config_file = '%s/config.txt' % (input_dir)\n",
    "\n",
    "if not exists(config_file) :\n",
    "    \n",
    "    print(\"\\n\\n\\n ******* Input file does not exist: %s\\n\\n\\n\" % config_file )\n",
    "    sys.exit()\n",
    "    "
   ]
  },
  {
   "cell_type": "code",
   "execution_count": 4,
   "id": "728d9e18",
   "metadata": {},
   "outputs": [
    {
     "name": "stdout",
     "output_type": "stream",
     "text": [
      "\n",
      "\n",
      " Number of feature dimensions: 2\n",
      "\n",
      "\n"
     ]
    }
   ],
   "source": [
    "ndim = int(cu.get_par( config_file, \"ndim\"))\n",
    "print(\"\\n\\n Number of feature dimensions: %d\\n\\n\" % ndim)"
   ]
  },
  {
   "cell_type": "code",
   "execution_count": 5,
   "id": "dd582d37",
   "metadata": {},
   "outputs": [],
   "source": [
    "with open( '%s/config-pars.npy' % input_dir, 'rb') as f :\n",
    "    train_mu = np.load(f, allow_pickle=True )\n",
    "    train_rho = np.load(f, allow_pickle=True)\n",
    "    train_sig = np.load(f, allow_pickle=True)    \n",
    "    true_mu = np.load(f, allow_pickle=True )\n",
    "    true_rho = np.load(f, allow_pickle=True)\n",
    "    true_sig = np.load(f, allow_pickle=True)  \n",
    "    resolution = np.load(f, allow_pickle=True)"
   ]
  },
  {
   "cell_type": "code",
   "execution_count": null,
   "id": "d397c276",
   "metadata": {},
   "outputs": [],
   "source": []
  },
  {
   "cell_type": "code",
   "execution_count": 6,
   "id": "f233f314",
   "metadata": {},
   "outputs": [
    {
     "data": {
      "text/plain": [
       "<function matplotlib.pyplot.show(close=None, block=None)>"
      ]
     },
     "execution_count": 6,
     "metadata": {},
     "output_type": "execute_result"
    },
    {
     "data": {
      "image/png": "[encoded data removed]",
      "text/plain": [
       "<Figure size 720x360 with 2 Axes>"
      ]
     },
     "metadata": {
      "needs_background": "light"
     },
     "output_type": "display_data"
    }
   ],
   "source": [
    "fig,ax = plt.subplots( 1, ndim, figsize=(5*ndim,5))\n",
    "\n",
    "\n",
    "\n",
    "hmin=-5\n",
    "hmax=5\n",
    "\n",
    "\n",
    "hmin=-14\n",
    "hmax=14\n",
    "\n",
    "hbins=40\n",
    "\n",
    "\n",
    "for i in range(ndim) :\n",
    "        ax[i].hist( train_det_pts[:,i],bins=hbins, range=[hmin,hmax], density=True )\n",
    "        ax[i].hist( true_det_pts[:,i],bins=hbins, range=[hmin,hmax], density=True, alpha=0.5 )\n",
    "    \n",
    "plt.show"
   ]
  },
  {
   "cell_type": "code",
   "execution_count": 7,
   "id": "0f368d18",
   "metadata": {},
   "outputs": [
    {
     "data": {
      "text/plain": [
       "<function matplotlib.pyplot.show(close=None, block=None)>"
      ]
     },
     "execution_count": 7,
     "metadata": {},
     "output_type": "execute_result"
    },
    {
     "data": {
      "image/png": "[encoded data removed]",
      "text/plain": [
       "<Figure size 720x360 with 2 Axes>"
      ]
     },
     "metadata": {
      "needs_background": "light"
     },
     "output_type": "display_data"
    }
   ],
   "source": [
    "fig,ax = plt.subplots( 1, ndim, figsize=(5*ndim,5))\n",
    "\n",
    "hbins=40\n",
    "\n",
    "\n",
    "for i in range(ndim) :\n",
    "        ax[i].hist( train_det_pts[:,i],bins=hbins, range=[hmin,hmax], density=True )\n",
    "        ax[i].hist( true_det_pts[:,i],bins=hbins, range=[hmin,hmax], density=True, alpha=0.5 )\n",
    "        ax[i].set_yscale('log')\n",
    "    \n",
    "plt.show"
   ]
  },
  {
   "cell_type": "code",
   "execution_count": null,
   "id": "bd2f5ecd",
   "metadata": {},
   "outputs": [],
   "source": []
  },
  {
   "cell_type": "code",
   "execution_count": 8,
   "id": "1886f4fd",
   "metadata": {},
   "outputs": [],
   "source": [
    "with open( \"%s/omnifold-output-weights.npy\" % input_dir,'rb') as f :\n",
    "    main_sample_omnifold_weights = np.load(f)\n"
   ]
  },
  {
   "cell_type": "code",
   "execution_count": 9,
   "id": "658df349",
   "metadata": {},
   "outputs": [],
   "source": [
    "main_sample_omnifold_weights = np.clip( main_sample_omnifold_weights, 1e-11, 1e11)"
   ]
  },
  {
   "cell_type": "code",
   "execution_count": 10,
   "id": "7cd9c7b1",
   "metadata": {},
   "outputs": [
    {
     "data": {
      "text/plain": [
       "<function matplotlib.pyplot.show(close=None, block=None)>"
      ]
     },
     "execution_count": 10,
     "metadata": {},
     "output_type": "execute_result"
    },
    {
     "data": {
      "image/png": "[encoded data removed]",
      "text/plain": [
       "<Figure size 1008x360 with 2 Axes>"
      ]
     },
     "metadata": {
      "needs_background": "light"
     },
     "output_type": "display_data"
    }
   ],
   "source": [
    "fig,ax = plt.subplots( 1, 2, figsize=(2*7,5))\n",
    "\n",
    "hbins = 60\n",
    "ax[0].hist( np.log10(main_sample_omnifold_weights), bins=hbins)\n",
    "ax[1].hist( main_sample_omnifold_weights, bins=hbins)\n",
    "ax[1].set_yscale('log')\n",
    "plt.show"
   ]
  },
  {
   "cell_type": "code",
   "execution_count": null,
   "id": "12d75312",
   "metadata": {},
   "outputs": [],
   "source": []
  },
  {
   "cell_type": "code",
   "execution_count": 11,
   "id": "d62b0546",
   "metadata": {},
   "outputs": [
    {
     "data": {
      "text/plain": [
       "array([[-0.6]])"
      ]
     },
     "execution_count": 11,
     "metadata": {},
     "output_type": "execute_result"
    }
   ],
   "source": [
    "true_rho"
   ]
  },
  {
   "cell_type": "code",
   "execution_count": 12,
   "id": "4e0d6c27",
   "metadata": {},
   "outputs": [
    {
     "data": {
      "text/plain": [
       "(2,)"
      ]
     },
     "execution_count": 12,
     "metadata": {},
     "output_type": "execute_result"
    }
   ],
   "source": [
    "true_mu.shape"
   ]
  },
  {
   "cell_type": "code",
   "execution_count": 13,
   "id": "2d65ce2e",
   "metadata": {},
   "outputs": [
    {
     "name": "stdout",
     "output_type": "stream",
     "text": [
      " 0, 1, 0\n"
     ]
    }
   ],
   "source": [
    "true_cov = np.zeros( shape=(ndim,ndim) )\n",
    "\n",
    "for i in range(ndim) :\n",
    "    for j in range(ndim) :\n",
    "        k = ndim - j - 1\n",
    "        if i == j :\n",
    "            true_cov[i][j] = true_sig[i]*true_sig[i]\n",
    "        elif j > i :\n",
    "            print(\" %d, %d, %d\" % (i,j,k))\n",
    "            true_cov[i][j] = true_rho[i][k] * true_sig[i] * true_sig[j]"
   ]
  },
  {
   "cell_type": "code",
   "execution_count": 14,
   "id": "b6582258",
   "metadata": {},
   "outputs": [
    {
     "data": {
      "text/plain": [
       "array([[ 0.81 , -0.702],\n",
       "       [ 0.   ,  1.69 ]])"
      ]
     },
     "execution_count": 14,
     "metadata": {},
     "output_type": "execute_result"
    }
   ],
   "source": [
    "true_cov"
   ]
  },
  {
   "cell_type": "code",
   "execution_count": null,
   "id": "1fbc5ace",
   "metadata": {},
   "outputs": [],
   "source": []
  },
  {
   "cell_type": "code",
   "execution_count": null,
   "id": "c32571b2",
   "metadata": {},
   "outputs": [],
   "source": []
  },
  {
   "cell_type": "code",
   "execution_count": null,
   "id": "9bf44517",
   "metadata": {},
   "outputs": [],
   "source": []
  },
  {
   "cell_type": "code",
   "execution_count": 15,
   "id": "7c663b9f",
   "metadata": {},
   "outputs": [
    {
     "name": "stdout",
     "output_type": "stream",
     "text": [
      "\n",
      "\n",
      " Have fit results file.\n",
      "\n",
      "\n"
     ]
    }
   ],
   "source": [
    "have_fits = False\n",
    "\n",
    "if exists( \"%s/fit-results.npy\" % input_dir ) :\n",
    "    have_fits = True\n",
    "    print(\"\\n\\n Have fit results file.\\n\\n\")"
   ]
  },
  {
   "cell_type": "code",
   "execution_count": 16,
   "id": "1824cfea",
   "metadata": {},
   "outputs": [],
   "source": [
    "if have_fits :\n",
    "    \n",
    "    with open( '%s/fit-results.npy' % input_dir, 'rb' ) as f :\n",
    "        fit_results_mean_val = np.load(f, allow_pickle=True )\n",
    "        fit_results_mean_err = np.load(f, allow_pickle=True )\n",
    "        fit_results_cov_val = np.load(f, allow_pickle=True )\n",
    "        fit_results_cov_err = np.load(f, allow_pickle=True )        \n",
    "        \n",
    "\n",
    "    ave_fit_err_mean = np.zeros( ndim )\n",
    "\n",
    "    for fi in range(ndim) :\n",
    "    \n",
    "        ave_fit_err_mean[fi] = np.mean( fit_results_mean_err[fi,:])\n",
    "    "
   ]
  },
  {
   "cell_type": "code",
   "execution_count": null,
   "id": "56e76fbd",
   "metadata": {},
   "outputs": [],
   "source": []
  },
  {
   "cell_type": "code",
   "execution_count": null,
   "id": "bf2a2d42",
   "metadata": {},
   "outputs": [],
   "source": []
  },
  {
   "cell_type": "code",
   "execution_count": 17,
   "id": "cec505a9",
   "metadata": {},
   "outputs": [],
   "source": [
    "def calc_mean( weights, fi ) :\n",
    "    \n",
    "    mean = ( np.sum( weights * train_pts[:,fi]) ) / ( np.sum( weights ) )\n",
    "    \n",
    "    return mean"
   ]
  },
  {
   "cell_type": "code",
   "execution_count": 18,
   "id": "4eca21da",
   "metadata": {},
   "outputs": [],
   "source": [
    "def calc_rms( weights, fi ) :\n",
    "    \n",
    "    x = calc_mean( weights, fi )\n",
    "    xx = ( np.sum( weights * train_pts[:,fi] * train_pts[:,fi] ) ) / ( np.sum( weights ) )\n",
    "    \n",
    "    #print(\" x = %f,  xx = %f\" % (x, xx))\n",
    "    \n",
    "    return np.sqrt(xx - x*x)\n"
   ]
  },
  {
   "cell_type": "code",
   "execution_count": 19,
   "id": "fdec65ac",
   "metadata": {},
   "outputs": [],
   "source": [
    "def calc_cov( weights, fi1, fi2 ) :\n",
    "    \n",
    "    x1 = calc_mean( weights, fi1 )\n",
    "    x2 = calc_mean( weights, fi2 )\n",
    "    x1x2 = ( np.sum( weights * train_pts[:,fi1] * train_pts[:,fi2] ) ) / ( np.sum( weights ) )\n",
    "    \n",
    "    return np.sqrt( x1x2 - x1*x2 )\n",
    "    "
   ]
  },
  {
   "cell_type": "code",
   "execution_count": 20,
   "id": "509e43b6",
   "metadata": {},
   "outputs": [],
   "source": [
    "def calc_mean_cov( weights, fi1, fi2 ) :\n",
    "\n",
    "    return_dict = {}\n",
    "    \n",
    "    wsum = np.sum( weights )\n",
    "    \n",
    "    wx1 = np.sum( weights * train_pts[:,fi1] )\n",
    "    wx2 = np.sum( weights * train_pts[:,fi2] )\n",
    "    wx1x2 = np.sum( weights * train_pts[:,fi1] * train_pts[:,fi2] )\n",
    "\n",
    "    x1 = wx1 / wsum\n",
    "    x2 = wx2 / wsum\n",
    "\n",
    "    x1x2 = wx1x2 / wsum\n",
    "    \n",
    "    cov12 = x1x2 - x1*x2\n",
    "\n",
    "    \n",
    "    return_dict[\"mean_x1\"] = x1\n",
    "    return_dict[\"mean_x2\"] = x2\n",
    "    return_dict[\"cov_x1x2\"] = cov12    \n",
    "    \n",
    "    if fi1 != fi2 :\n",
    "        wx1x1 = np.sum( weights * train_pts[:,fi1] * train_pts[:,fi1] )\n",
    "        wx2x2 = np.sum( weights * train_pts[:,fi2] * train_pts[:,fi2] )\n",
    "        cov11 = wx1x1 / wsum - x1*x1\n",
    "        cov22 = wx2x2 / wsum - x2*x2\n",
    "\n",
    "        rms1 = np.sqrt(cov11)\n",
    "        rms2 = np.sqrt(cov22)\n",
    "        rho12 = cov12 / (rms1*rms2)     \n",
    "    \n",
    "        return_dict[\"rho12\"] = rho12\n",
    "        return_dict[\"rms1\"] = rms1\n",
    "        return_dict[\"rms2\"] = rms2\n",
    "    else :\n",
    "        rms1 = np.sqrt(cov12)\n",
    "        return_dict[\"rms1\"] = rms1\n",
    "        \n",
    "    return return_dict\n",
    "\n",
    "\n",
    "    "
   ]
  },
  {
   "cell_type": "code",
   "execution_count": 21,
   "id": "ab3cee63",
   "metadata": {},
   "outputs": [
    {
     "name": "stdout",
     "output_type": "stream",
     "text": [
      "\n",
      "\n",
      " Found 50 bootstrap samples.\n",
      "\n",
      "\n"
     ]
    }
   ],
   "source": [
    "n_samples = 0\n",
    "\n",
    "for fi in range(1000) :\n",
    "    \n",
    "    fname = '%s/bootstrap-weights-%03d.npy' % (input_dir, fi)\n",
    "    \n",
    "    if exists(fname) :\n",
    "        n_samples = n_samples + 1\n",
    "        \n",
    "print(\"\\n\\n Found %d bootstrap samples.\\n\\n\" % n_samples )"
   ]
  },
  {
   "cell_type": "code",
   "execution_count": 22,
   "id": "73c3238b",
   "metadata": {
    "scrolled": true
   },
   "outputs": [
    {
     "name": "stdout",
     "output_type": "stream",
     "text": [
      "\n",
      "----- output-files-bootstrap-test6b-2d-2a-100k/bootstrap-weights-000.npy exists\n",
      "100000\n",
      "[0.04687802 0.11799523 0.05866844 ... 0.08327871 0.0682585  0.08233292]\n",
      "[0.34903505 0.2475683  1.79380263 ... 2.28812334 0.32411313 0.08986465]\n",
      "  0 0  :  mean =   0.1716, RMS =   0.9022, cov =   0.8140\n",
      "  0 1  :  rho =  -0.5772,  cov =  -0.6819\n",
      "  1 1  :  mean =   0.8265, RMS =   1.3092, cov =   1.7141\n",
      "\n",
      "----- output-files-bootstrap-test6b-2d-2a-100k/bootstrap-weights-001.npy exists\n",
      "100000\n",
      "[0.04852846 0.13602738 0.04786434 ... 0.09551027 0.05444359 0.09037348]\n",
      "[0.34903505 0.2475683  1.79380263 ... 2.28812334 0.32411313 0.08986465]\n",
      "  0 0  :  mean =   0.1973, RMS =   0.9013, cov =   0.8124\n",
      "  0 1  :  rho =  -0.5788,  cov =  -0.6734\n",
      "  1 1  :  mean =   0.8146, RMS =   1.2908, cov =   1.6663\n",
      "\n",
      "----- output-files-bootstrap-test6b-2d-2a-100k/bootstrap-weights-002.npy exists\n",
      "100000\n",
      "[0.06732123 0.12999234 0.06747337 ... 0.07407887 0.08669627 0.07701041]\n",
      "[0.34903505 0.2475683  1.79380263 ... 2.28812334 0.32411313 0.08986465]\n",
      "  0 0  :  mean =   0.1985, RMS =   0.9176, cov =   0.8420\n",
      "  0 1  :  rho =  -0.5992,  cov =  -0.7202\n",
      "  1 1  :  mean =   0.8327, RMS =   1.3099, cov =   1.7158\n",
      "\n",
      "----- output-files-bootstrap-test6b-2d-2a-100k/bootstrap-weights-003.npy exists\n",
      "100000\n",
      "[0.08424798 0.1096369  0.05694072 ... 0.06870083 0.06201154 0.07763608]\n",
      "[0.34903505 0.2475683  1.79380263 ... 2.28812334 0.32411313 0.08986465]\n",
      "  0 0  :  mean =   0.1856, RMS =   0.9132, cov =   0.8339\n",
      "  0 1  :  rho =  -0.5892,  cov =  -0.7004\n",
      "  1 1  :  mean =   0.8220, RMS =   1.3019, cov =   1.6949\n",
      "\n",
      "----- output-files-bootstrap-test6b-2d-2a-100k/bootstrap-weights-004.npy exists\n",
      "100000\n",
      "[0.07877538 0.11467347 0.07062244 ... 0.07507028 0.07994494 0.07359578]\n",
      "[0.34903505 0.2475683  1.79380263 ... 2.28812334 0.32411313 0.08986465]\n",
      "  0 0  :  mean =   0.1864, RMS =   0.9124, cov =   0.8325\n",
      "  0 1  :  rho =  -0.5908,  cov =  -0.7088\n",
      "  1 1  :  mean =   0.8108, RMS =   1.3148, cov =   1.7287\n",
      "\n",
      "----- output-files-bootstrap-test6b-2d-2a-100k/bootstrap-weights-005.npy exists\n",
      "100000\n",
      "[0.0812367  0.09217906 0.04914029 ... 0.07873424 0.05514866 0.06799618]\n",
      "[0.34903505 0.2475683  1.79380263 ... 2.28812334 0.32411313 0.08986465]\n",
      "  0 0  :  mean =   0.1968, RMS =   0.9092, cov =   0.8267\n",
      "  0 1  :  rho =  -0.5767,  cov =  -0.6786\n",
      "  1 1  :  mean =   0.7999, RMS =   1.2941, cov =   1.6747\n",
      "\n",
      "----- output-files-bootstrap-test6b-2d-2a-100k/bootstrap-weights-006.npy exists\n",
      "100000\n",
      "[0.08007603 0.08877865 0.08743162 ... 0.08591174 0.09984525 0.07483327]\n",
      "[0.34903505 0.2475683  1.79380263 ... 2.28812334 0.32411313 0.08986465]\n",
      "  0 0  :  mean =   0.2018, RMS =   0.9273, cov =   0.8599\n",
      "  0 1  :  rho =  -0.5885,  cov =  -0.7253\n",
      "  1 1  :  mean =   0.8519, RMS =   1.3292, cov =   1.7668\n",
      "\n",
      "----- output-files-bootstrap-test6b-2d-2a-100k/bootstrap-weights-007.npy exists\n",
      "100000\n",
      "[0.07905126 0.10939998 0.07204258 ... 0.07754662 0.09113938 0.06697996]\n",
      "[0.34903505 0.2475683  1.79380263 ... 2.28812334 0.32411313 0.08986465]\n",
      "  0 0  :  mean =   0.1962, RMS =   0.9016, cov =   0.8129\n",
      "  0 1  :  rho =  -0.5672,  cov =  -0.6597\n",
      "  1 1  :  mean =   0.8182, RMS =   1.2900, cov =   1.6640\n",
      "\n",
      "----- output-files-bootstrap-test6b-2d-2a-100k/bootstrap-weights-008.npy exists\n",
      "100000\n",
      "[0.08321086 0.11834321 0.08796262 ... 0.0724918  0.09144003 0.08435045]\n",
      "[0.34903505 0.2475683  1.79380263 ... 2.28812334 0.32411313 0.08986465]\n",
      "  0 0  :  mean =   0.1983, RMS =   0.9034, cov =   0.8162\n",
      "  0 1  :  rho =  -0.5623,  cov =  -0.6601\n",
      "  1 1  :  mean =   0.8075, RMS =   1.2992, cov =   1.6880\n",
      "\n",
      "----- output-files-bootstrap-test6b-2d-2a-100k/bootstrap-weights-009.npy exists\n",
      "100000\n",
      "[0.07079565 0.13276264 0.08092848 ... 0.11287617 0.07928414 0.13397332]\n",
      "[0.34903505 0.2475683  1.79380263 ... 2.28812334 0.32411313 0.08986465]\n",
      "  0 0  :  mean =   0.1865, RMS =   0.9128, cov =   0.8331\n",
      "  0 1  :  rho =  -0.5834,  cov =  -0.6907\n",
      "  1 1  :  mean =   0.8458, RMS =   1.2971, cov =   1.6824\n",
      "\n",
      "----- output-files-bootstrap-test6b-2d-2a-100k/bootstrap-weights-010.npy exists\n",
      "100000\n",
      "[0.05171882 0.13581766 0.07998468 ... 0.09580717 0.07904487 0.12284554]\n",
      "[0.34903505 0.2475683  1.79380263 ... 2.28812334 0.32411313 0.08986465]\n",
      "  0 0  :  mean =   0.1941, RMS =   0.9057, cov =   0.8202\n",
      "  0 1  :  rho =  -0.5878,  cov =  -0.6793\n",
      "  1 1  :  mean =   0.8358, RMS =   1.2762, cov =   1.6286\n",
      "\n",
      "----- output-files-bootstrap-test6b-2d-2a-100k/bootstrap-weights-011.npy exists\n",
      "100000\n",
      "[0.05653897 0.11937109 0.115763   ... 0.11433671 0.09973235 0.10917748]\n",
      "[0.34903505 0.2475683  1.79380263 ... 2.28812334 0.32411313 0.08986465]\n",
      "  0 0  :  mean =   0.1993, RMS =   0.9051, cov =   0.8192\n",
      "  0 1  :  rho =  -0.5732,  cov =  -0.6759\n",
      "  1 1  :  mean =   0.8326, RMS =   1.3029, cov =   1.6975\n",
      "\n",
      "----- output-files-bootstrap-test6b-2d-2a-100k/bootstrap-weights-012.npy exists\n",
      "100000\n",
      "[0.0531081  0.15643743 0.06903618 ... 0.14134372 0.08760737 0.12082092]\n",
      "[0.34903505 0.2475683  1.79380263 ... 2.28812334 0.32411313 0.08986465]\n",
      "  0 0  :  mean =   0.2049, RMS =   0.9090, cov =   0.8263\n",
      "  0 1  :  rho =  -0.5751,  cov =  -0.6806\n",
      "  1 1  :  mean =   0.8183, RMS =   1.3018, cov =   1.6948\n",
      "\n",
      "----- output-files-bootstrap-test6b-2d-2a-100k/bootstrap-weights-013.npy exists\n",
      "100000\n",
      "[0.08850894 0.12187747 0.06930752 ... 0.06528994 0.08134906 0.08989914]\n",
      "[0.34903505 0.2475683  1.79380263 ... 2.28812334 0.32411313 0.08986465]\n",
      "  0 0  :  mean =   0.2110, RMS =   0.9167, cov =   0.8403\n",
      "  0 1  :  rho =  -0.5898,  cov =  -0.6932\n",
      "  1 1  :  mean =   0.8091, RMS =   1.2821, cov =   1.6438\n",
      "\n",
      "----- output-files-bootstrap-test6b-2d-2a-100k/bootstrap-weights-014.npy exists\n",
      "100000\n",
      "[0.0709614  0.16043434 0.09122489 ... 0.07384204 0.08289516 0.0950955 ]\n",
      "[0.34903505 0.2475683  1.79380263 ... 2.28812334 0.32411313 0.08986465]\n",
      "  0 0  :  mean =   0.1921, RMS =   0.8985, cov =   0.8072\n",
      "  0 1  :  rho =  -0.5797,  cov =  -0.6832\n",
      "  1 1  :  mean =   0.8459, RMS =   1.3116, cov =   1.7202\n",
      "\n",
      "----- output-files-bootstrap-test6b-2d-2a-100k/bootstrap-weights-015.npy exists\n",
      "100000\n",
      "[0.06192275 0.08113575 0.07380463 ... 0.06288441 0.08460143 0.12637101]\n",
      "[0.34903505 0.2475683  1.79380263 ... 2.28812334 0.32411313 0.08986465]\n",
      "  0 0  :  mean =   0.2313, RMS =   0.9174, cov =   0.8415\n",
      "  0 1  :  rho =  -0.5985,  cov =  -0.7170\n",
      "  1 1  :  mean =   0.7776, RMS =   1.3059, cov =   1.7053\n",
      "\n",
      "----- output-files-bootstrap-test6b-2d-2a-100k/bootstrap-weights-016.npy exists\n",
      "100000\n",
      "[0.07920358 0.11424987 0.06342307 ... 0.06634805 0.09505301 0.11060612]\n",
      "[0.34903505 0.2475683  1.79380263 ... 2.28812334 0.32411313 0.08986465]\n",
      "  0 0  :  mean =   0.2049, RMS =   0.9249, cov =   0.8554\n",
      "  0 1  :  rho =  -0.6030,  cov =  -0.7318\n",
      "  1 1  :  mean =   0.8149, RMS =   1.3122, cov =   1.7219\n",
      "\n",
      "----- output-files-bootstrap-test6b-2d-2a-100k/bootstrap-weights-017.npy exists\n",
      "100000\n",
      "[0.07606729 0.09381995 0.05010279 ... 0.14961523 0.05863236 0.14310993]\n",
      "[0.34903505 0.2475683  1.79380263 ... 2.28812334 0.32411313 0.08986465]\n",
      "  0 0  :  mean =   0.1702, RMS =   0.9278, cov =   0.8607\n",
      "  0 1  :  rho =  -0.5813,  cov =  -0.6957\n",
      "  1 1  :  mean =   0.8177, RMS =   1.2900, cov =   1.6641\n",
      "\n",
      "----- output-files-bootstrap-test6b-2d-2a-100k/bootstrap-weights-018.npy exists\n",
      "100000\n",
      "[0.05064643 0.1216809  0.07349421 ... 0.13512459 0.08193068 0.16205089]\n",
      "[0.34903505 0.2475683  1.79380263 ... 2.28812334 0.32411313 0.08986465]\n",
      "  0 0  :  mean =   0.1924, RMS =   0.9179, cov =   0.8424\n",
      "  0 1  :  rho =  -0.5922,  cov =  -0.7154\n",
      "  1 1  :  mean =   0.8303, RMS =   1.3162, cov =   1.7323\n",
      "\n",
      "----- output-files-bootstrap-test6b-2d-2a-100k/bootstrap-weights-019.npy exists\n",
      "100000\n",
      "[0.05840612 0.12207707 0.04849583 ... 0.08406074 0.06794349 0.17984382]\n",
      "[0.34903505 0.2475683  1.79380263 ... 2.28812334 0.32411313 0.08986465]\n",
      "  0 0  :  mean =   0.1985, RMS =   0.9003, cov =   0.8106\n",
      "  0 1  :  rho =  -0.5768,  cov =  -0.6687\n",
      "  1 1  :  mean =   0.8569, RMS =   1.2876, cov =   1.6579\n",
      "\n",
      "----- output-files-bootstrap-test6b-2d-2a-100k/bootstrap-weights-020.npy exists\n",
      "100000\n",
      "[0.04239906 0.1070358  0.09094991 ... 0.09522743 0.10327403 0.14407011]\n",
      "[0.34903505 0.2475683  1.79380263 ... 2.28812334 0.32411313 0.08986465]\n",
      "  0 0  :  mean =   0.2065, RMS =   0.9148, cov =   0.8368\n",
      "  0 1  :  rho =  -0.5864,  cov =  -0.7022\n",
      "  1 1  :  mean =   0.8299, RMS =   1.3091, cov =   1.7136\n",
      "\n",
      "----- output-files-bootstrap-test6b-2d-2a-100k/bootstrap-weights-021.npy exists\n",
      "100000\n",
      "[0.07519351 0.09904387 0.05968128 ... 0.08679533 0.0718531  0.13968359]\n",
      "[0.34903505 0.2475683  1.79380263 ... 2.28812334 0.32411313 0.08986465]\n",
      "  0 0  :  mean =   0.1849, RMS =   0.9157, cov =   0.8385\n",
      "  0 1  :  rho =  -0.5809,  cov =  -0.6880\n",
      "  1 1  :  mean =   0.8755, RMS =   1.2934, cov =   1.6729\n",
      "\n",
      "----- output-files-bootstrap-test6b-2d-2a-100k/bootstrap-weights-022.npy exists\n",
      "100000\n",
      "[0.05924728 0.13967217 0.08417539 ... 0.11091779 0.07003663 0.12571795]\n",
      "[0.34903505 0.2475683  1.79380263 ... 2.28812334 0.32411313 0.08986465]\n",
      "  0 0  :  mean =   0.1896, RMS =   0.9052, cov =   0.8194\n",
      "  0 1  :  rho =  -0.5832,  cov =  -0.6872\n",
      "  1 1  :  mean =   0.8351, RMS =   1.3017, cov =   1.6945\n",
      "\n",
      "----- output-files-bootstrap-test6b-2d-2a-100k/bootstrap-weights-023.npy exists\n",
      "100000\n",
      "[0.04309752 0.1375501  0.04953136 ... 0.07890226 0.08568993 0.16738336]\n",
      "[0.34903505 0.2475683  1.79380263 ... 2.28812334 0.32411313 0.08986465]\n",
      "  0 0  :  mean =   0.1853, RMS =   0.9032, cov =   0.8158\n",
      "  0 1  :  rho =  -0.5893,  cov =  -0.6961\n",
      "  1 1  :  mean =   0.8682, RMS =   1.3078, cov =   1.7105\n",
      "\n",
      "----- output-files-bootstrap-test6b-2d-2a-100k/bootstrap-weights-024.npy exists\n",
      "100000\n",
      "[0.07068199 0.1143097  0.04138028 ... 0.10317562 0.09971927 0.15339373]\n",
      "[0.34903505 0.2475683  1.79380263 ... 2.28812334 0.32411313 0.08986465]\n",
      "  0 0  :  mean =   0.1884, RMS =   0.9154, cov =   0.8379\n",
      "  0 1  :  rho =  -0.5612,  cov =  -0.6701\n",
      "  1 1  :  mean =   0.8181, RMS =   1.3043, cov =   1.7013\n",
      "\n",
      "----- output-files-bootstrap-test6b-2d-2a-100k/bootstrap-weights-025.npy exists\n",
      "100000\n",
      "[0.06327046 0.09895066 0.05877293 ... 0.18060824 0.09966785 0.18195239]\n",
      "[0.34903505 0.2475683  1.79380263 ... 2.28812334 0.32411313 0.08986465]\n",
      "  0 0  :  mean =   0.1992, RMS =   0.8967, cov =   0.8041\n",
      "  0 1  :  rho =  -0.5675,  cov =  -0.6614\n",
      "  1 1  :  mean =   0.7913, RMS =   1.2997, cov =   1.6892\n",
      "\n",
      "----- output-files-bootstrap-test6b-2d-2a-100k/bootstrap-weights-026.npy exists\n",
      "100000\n",
      "[0.05955448 0.11745107 0.04093116 ... 0.05331631 0.07502133 0.20912429]\n",
      "[0.34903505 0.2475683  1.79380263 ... 2.28812334 0.32411313 0.08986465]\n",
      "  0 0  :  mean =   0.1810, RMS =   0.9313, cov =   0.8673\n",
      "  0 1  :  rho =  -0.5961,  cov =  -0.7318\n",
      "  1 1  :  mean =   0.8056, RMS =   1.3182, cov =   1.7378\n",
      "\n",
      "----- output-files-bootstrap-test6b-2d-2a-100k/bootstrap-weights-027.npy exists\n",
      "100000\n",
      "[0.0531723  0.1412664  0.07492696 ... 0.08658046 0.09276255 0.15966976]\n",
      "[0.34903505 0.2475683  1.79380263 ... 2.28812334 0.32411313 0.08986465]\n",
      "  0 0  :  mean =   0.2192, RMS =   0.8949, cov =   0.8008\n",
      "  0 1  :  rho =  -0.5636,  cov =  -0.6583\n",
      "  1 1  :  mean =   0.7960, RMS =   1.3053, cov =   1.7039\n",
      "\n",
      "----- output-files-bootstrap-test6b-2d-2a-100k/bootstrap-weights-028.npy exists\n",
      "100000\n",
      "[0.08519179 0.13665535 0.07720037 ... 0.0815042  0.09837523 0.15574141]\n",
      "[0.34903505 0.2475683  1.79380263 ... 2.28812334 0.32411313 0.08986465]\n",
      "  0 0  :  mean =   0.1801, RMS =   0.9169, cov =   0.8407\n",
      "  0 1  :  rho =  -0.5677,  cov =  -0.6740\n",
      "  1 1  :  mean =   0.8353, RMS =   1.2948, cov =   1.6766\n",
      "\n",
      "----- output-files-bootstrap-test6b-2d-2a-100k/bootstrap-weights-029.npy exists\n",
      "100000\n",
      "[0.03788782 0.12225844 0.05013898 ... 0.07648766 0.06294294 0.09089676]\n",
      "[0.34903505 0.2475683  1.79380263 ... 2.28812334 0.32411313 0.08986465]\n",
      "  0 0  :  mean =   0.1900, RMS =   0.9352, cov =   0.8746\n",
      "  0 1  :  rho =  -0.5742,  cov =  -0.6987\n",
      "  1 1  :  mean =   0.7993, RMS =   1.3012, cov =   1.6930\n",
      "\n",
      "----- output-files-bootstrap-test6b-2d-2a-100k/bootstrap-weights-030.npy exists\n",
      "100000\n",
      "[0.06156303 0.09048637 0.06805699 ... 0.11541515 0.11229156 0.16292405]\n",
      "[0.34903505 0.2475683  1.79380263 ... 2.28812334 0.32411313 0.08986465]\n",
      "  0 0  :  mean =   0.1689, RMS =   0.9157, cov =   0.8384\n",
      "  0 1  :  rho =  -0.5837,  cov =  -0.6922\n",
      "  1 1  :  mean =   0.8399, RMS =   1.2951, cov =   1.6774\n",
      "\n",
      "----- output-files-bootstrap-test6b-2d-2a-100k/bootstrap-weights-031.npy exists\n",
      "100000\n",
      "[0.07569518 0.08036896 0.04595736 ... 0.1048792  0.1001561  0.16154209]\n",
      "[0.34903505 0.2475683  1.79380263 ... 2.28812334 0.32411313 0.08986465]\n",
      "  0 0  :  mean =   0.2122, RMS =   0.9196, cov =   0.8456\n",
      "  0 1  :  rho =  -0.5686,  cov =  -0.6830\n",
      "  1 1  :  mean =   0.8028, RMS =   1.3064, cov =   1.7067\n",
      "\n",
      "----- output-files-bootstrap-test6b-2d-2a-100k/bootstrap-weights-032.npy exists\n",
      "100000\n",
      "[0.05241509 0.0709681  0.07963853 ... 0.11925617 0.10099684 0.14559145]\n",
      "[0.34903505 0.2475683  1.79380263 ... 2.28812334 0.32411313 0.08986465]\n",
      "  0 0  :  mean =   0.1733, RMS =   0.9021, cov =   0.8138\n",
      "  0 1  :  rho =  -0.5681,  cov =  -0.6606\n",
      "  1 1  :  mean =   0.8200, RMS =   1.2889, cov =   1.6613\n",
      "\n",
      "----- output-files-bootstrap-test6b-2d-2a-100k/bootstrap-weights-033.npy exists\n",
      "100000\n",
      "[0.02512821 0.10288646 0.07648945 ... 0.11035827 0.10575997 0.22712726]\n",
      "[0.34903505 0.2475683  1.79380263 ... 2.28812334 0.32411313 0.08986465]\n",
      "  0 0  :  mean =   0.2158, RMS =   0.9081, cov =   0.8247\n",
      "  0 1  :  rho =  -0.5967,  cov =  -0.7231\n",
      "  1 1  :  mean =   0.7938, RMS =   1.3343, cov =   1.7805\n",
      "\n",
      "----- output-files-bootstrap-test6b-2d-2a-100k/bootstrap-weights-034.npy exists\n",
      "100000\n",
      "[0.04488826 0.1091691  0.05355743 ... 0.0714896  0.11306783 0.08917947]\n",
      "[0.34903505 0.2475683  1.79380263 ... 2.28812334 0.32411313 0.08986465]\n",
      "  0 0  :  mean =   0.1951, RMS =   0.9216, cov =   0.8494\n",
      "  0 1  :  rho =  -0.5657,  cov =  -0.6705\n",
      "  1 1  :  mean =   0.8204, RMS =   1.2860, cov =   1.6539\n",
      "\n",
      "----- output-files-bootstrap-test6b-2d-2a-100k/bootstrap-weights-035.npy exists\n",
      "100000\n",
      "[0.05638125 0.12493444 0.04836466 ... 0.08420296 0.10187976 0.11660269]\n",
      "[0.34903505 0.2475683  1.79380263 ... 2.28812334 0.32411313 0.08986465]\n",
      "  0 0  :  mean =   0.2063, RMS =   0.9061, cov =   0.8209\n",
      "  0 1  :  rho =  -0.5727,  cov =  -0.6709\n",
      "  1 1  :  mean =   0.8050, RMS =   1.2930, cov =   1.6718\n",
      "\n",
      "----- output-files-bootstrap-test6b-2d-2a-100k/bootstrap-weights-036.npy exists\n",
      "100000\n",
      "[0.09065765 0.13600171 0.070687   ... 0.08969718 0.08971159 0.11136867]\n",
      "[0.34903505 0.2475683  1.79380263 ... 2.28812334 0.32411313 0.08986465]\n",
      "  0 0  :  mean =   0.2117, RMS =   0.9163, cov =   0.8396\n",
      "  0 1  :  rho =  -0.5715,  cov =  -0.6722\n",
      "  1 1  :  mean =   0.8122, RMS =   1.2835, cov =   1.6474\n",
      "\n",
      "----- output-files-bootstrap-test6b-2d-2a-100k/bootstrap-weights-037.npy exists\n",
      "100000\n",
      "[0.07279303 0.12237995 0.03455593 ... 0.06280395 0.0686017  0.16099607]\n",
      "[0.34903505 0.2475683  1.79380263 ... 2.28812334 0.32411313 0.08986465]\n",
      "  0 0  :  mean =   0.2068, RMS =   0.9242, cov =   0.8542\n",
      "  0 1  :  rho =  -0.5806,  cov =  -0.6917\n",
      "  1 1  :  mean =   0.7789, RMS =   1.2892, cov =   1.6620\n",
      "\n",
      "----- output-files-bootstrap-test6b-2d-2a-100k/bootstrap-weights-038.npy exists\n",
      "100000\n",
      "[0.04706603 0.11442491 0.08079617 ... 0.07113048 0.10056393 0.15847547]\n",
      "[0.34903505 0.2475683  1.79380263 ... 2.28812334 0.32411313 0.08986465]\n",
      "  0 0  :  mean =   0.1943, RMS =   0.9100, cov =   0.8281\n",
      "  0 1  :  rho =  -0.5814,  cov =  -0.6896\n",
      "  1 1  :  mean =   0.8405, RMS =   1.3035, cov =   1.6991\n",
      "\n",
      "----- output-files-bootstrap-test6b-2d-2a-100k/bootstrap-weights-039.npy exists\n",
      "100000\n",
      "[0.06745584 0.08720291 0.07482292 ... 0.12108801 0.11976549 0.15153523]\n",
      "[0.34903505 0.2475683  1.79380263 ... 2.28812334 0.32411313 0.08986465]\n",
      "  0 0  :  mean =   0.2220, RMS =   0.9219, cov =   0.8499\n",
      "  0 1  :  rho =  -0.5652,  cov =  -0.6755\n",
      "  1 1  :  mean =   0.8152, RMS =   1.2963, cov =   1.6805\n",
      "\n",
      "----- output-files-bootstrap-test6b-2d-2a-100k/bootstrap-weights-040.npy exists\n",
      "100000\n",
      "[0.0635044  0.10978861 0.06683738 ... 0.2163434  0.08927972 0.14911241]\n",
      "[0.34903505 0.2475683  1.79380263 ... 2.28812334 0.32411313 0.08986465]\n",
      "  0 0  :  mean =   0.1977, RMS =   0.9097, cov =   0.8276\n",
      "  0 1  :  rho =  -0.5769,  cov =  -0.6802\n",
      "  1 1  :  mean =   0.8024, RMS =   1.2961, cov =   1.6799\n",
      "\n",
      "----- output-files-bootstrap-test6b-2d-2a-100k/bootstrap-weights-041.npy exists\n",
      "100000\n",
      "[0.066951   0.13788382 0.04968619 ... 0.15600968 0.06337393 0.1286027 ]\n",
      "[0.34903505 0.2475683  1.79380263 ... 2.28812334 0.32411313 0.08986465]\n",
      "  0 0  :  mean =   0.1866, RMS =   0.9239, cov =   0.8535\n",
      "  0 1  :  rho =  -0.5876,  cov =  -0.7255\n",
      "  1 1  :  mean =   0.8236, RMS =   1.3365, cov =   1.7863\n",
      "\n",
      "----- output-files-bootstrap-test6b-2d-2a-100k/bootstrap-weights-042.npy exists\n",
      "100000\n",
      "[0.08286037 0.13363964 0.05104613 ... 0.12015621 0.05314646 0.12750508]\n",
      "[0.34903505 0.2475683  1.79380263 ... 2.28812334 0.32411313 0.08986465]\n",
      "  0 0  :  mean =   0.1875, RMS =   0.9008, cov =   0.8115\n",
      "  0 1  :  rho =  -0.5788,  cov =  -0.6737\n",
      "  1 1  :  mean =   0.7956, RMS =   1.2922, cov =   1.6697\n",
      "\n",
      "----- output-files-bootstrap-test6b-2d-2a-100k/bootstrap-weights-043.npy exists\n",
      "100000\n",
      "[0.05188714 0.1381668  0.03993869 ... 0.0894377  0.05224875 0.10457912]\n",
      "[0.34903505 0.2475683  1.79380263 ... 2.28812334 0.32411313 0.08986465]\n",
      "  0 0  :  mean =   0.2198, RMS =   0.9227, cov =   0.8514\n",
      "  0 1  :  rho =  -0.5929,  cov =  -0.7209\n",
      "  1 1  :  mean =   0.8081, RMS =   1.3176, cov =   1.7361\n",
      "\n",
      "----- output-files-bootstrap-test6b-2d-2a-100k/bootstrap-weights-044.npy exists\n",
      "100000\n",
      "[0.06620843 0.15198076 0.03611201 ... 0.10438165 0.05435708 0.09377687]\n",
      "[0.34903505 0.2475683  1.79380263 ... 2.28812334 0.32411313 0.08986465]\n",
      "  0 0  :  mean =   0.1735, RMS =   0.9310, cov =   0.8667\n",
      "  0 1  :  rho =  -0.5901,  cov =  -0.7223\n",
      "  1 1  :  mean =   0.8376, RMS =   1.3146, cov =   1.7282\n",
      "\n",
      "----- output-files-bootstrap-test6b-2d-2a-100k/bootstrap-weights-045.npy exists\n",
      "100000\n",
      "[0.07059878 0.17442673 0.04969773 ... 0.13392209 0.05705837 0.08705016]\n",
      "[0.34903505 0.2475683  1.79380263 ... 2.28812334 0.32411313 0.08986465]\n",
      "  0 0  :  mean =   0.2032, RMS =   0.9169, cov =   0.8406\n",
      "  0 1  :  rho =  -0.5861,  cov =  -0.6991\n",
      "  1 1  :  mean =   0.8105, RMS =   1.3010, cov =   1.6926\n",
      "\n",
      "----- output-files-bootstrap-test6b-2d-2a-100k/bootstrap-weights-046.npy exists\n",
      "100000\n",
      "[0.05980906 0.15311051 0.05242662 ... 0.12793652 0.08708816 0.16881921]\n",
      "[0.34903505 0.2475683  1.79380263 ... 2.28812334 0.32411313 0.08986465]\n",
      "  0 0  :  mean =   0.1800, RMS =   0.8925, cov =   0.7966\n",
      "  0 1  :  rho =  -0.5624,  cov =  -0.6531\n",
      "  1 1  :  mean =   0.8096, RMS =   1.3011, cov =   1.6928\n",
      "\n",
      "----- output-files-bootstrap-test6b-2d-2a-100k/bootstrap-weights-047.npy exists\n",
      "100000\n",
      "[0.03542345 0.15453524 0.08585767 ... 0.14942274 0.11553241 0.1382258 ]\n",
      "[0.34903505 0.2475683  1.79380263 ... 2.28812334 0.32411313 0.08986465]\n",
      "  0 0  :  mean =   0.1879, RMS =   0.9041, cov =   0.8175\n",
      "  0 1  :  rho =  -0.5848,  cov =  -0.6953\n",
      "  1 1  :  mean =   0.8491, RMS =   1.3149, cov =   1.7290\n",
      "\n",
      "----- output-files-bootstrap-test6b-2d-2a-100k/bootstrap-weights-048.npy exists\n",
      "100000\n",
      "[0.06490515 0.16093923 0.0908504  ... 0.10340495 0.10299953 0.13510752]\n",
      "[0.34903505 0.2475683  1.79380263 ... 2.28812334 0.32411313 0.08986465]\n",
      "  0 0  :  mean =   0.1932, RMS =   0.8989, cov =   0.8080\n",
      "  0 1  :  rho =  -0.5894,  cov =  -0.6949\n",
      "  1 1  :  mean =   0.8353, RMS =   1.3115, cov =   1.7200\n",
      "\n",
      "----- output-files-bootstrap-test6b-2d-2a-100k/bootstrap-weights-049.npy exists\n",
      "100000\n",
      "[0.06325013 0.14654719 0.05599406 ... 0.14456986 0.08497307 0.10454295]\n",
      "[0.34903505 0.2475683  1.79380263 ... 2.28812334 0.32411313 0.08986465]\n",
      "  0 0  :  mean =   0.1780, RMS =   0.9220, cov =   0.8501\n",
      "  0 1  :  rho =  -0.5953,  cov =  -0.7107\n",
      "  1 1  :  mean =   0.8269, RMS =   1.2950, cov =   1.6770\n",
      "CPU times: user 97.9 ms, sys: 18.6 ms, total: 116 ms\n",
      "Wall time: 105 ms\n"
     ]
    }
   ],
   "source": [
    "%%time\n",
    "\n",
    "all_mean = np.zeros( shape=(ndim,n_samples) )\n",
    "all_rms = np.zeros( shape=(ndim,n_samples) )\n",
    "all_cov = np.zeros( shape=(ndim,ndim,n_samples) )\n",
    "all_rho = np.zeros( shape=(ndim,ndim,n_samples) )\n",
    "\n",
    "all_weight_min = np.zeros( n_samples )\n",
    "all_weight_max = np.zeros( n_samples )\n",
    "\n",
    "\n",
    "si = 0\n",
    "\n",
    "for fi in range(500) :\n",
    "    \n",
    "    fname = '%s/bootstrap-weights-%03d.npy' % (input_dir, fi)\n",
    "    \n",
    "    if exists(fname) :\n",
    "        \n",
    "        print('\\n----- %s exists' % fname )\n",
    "        \n",
    "        with open(fname,'rb') as f :\n",
    "            \n",
    "            final_push_weights_scaled = np.load(f)\n",
    "            print( len(final_push_weights_scaled))\n",
    "            print( final_push_weights_scaled )\n",
    "            print( true_pts[:,0])\n",
    "            \n",
    "            all_weight_min[si] = np.min( final_push_weights_scaled )\n",
    "            all_weight_max[si] = np.max( final_push_weights_scaled )\n",
    "            \n",
    "            for fi1 in range(ndim) :\n",
    "                for fi2 in range(fi1,ndim) :\n",
    "                    mean_cov = calc_mean_cov( final_push_weights_scaled, fi1, fi2 )\n",
    "                    all_cov[fi1,fi2,si] = mean_cov[\"cov_x1x2\"]\n",
    "                    all_cov[fi2,fi1,si] = mean_cov[\"cov_x1x2\"]\n",
    "                    if ( fi1 == fi2 ) :\n",
    "                        print( \"  %d %d  :  mean = %8.4f, RMS = %8.4f, cov = %8.4f\" % \n",
    "                              (fi1, fi2, mean_cov[\"mean_x1\"], mean_cov[\"rms1\"], mean_cov[\"cov_x1x2\"]))\n",
    "                        all_mean[fi1,si] = mean_cov[\"mean_x1\"]\n",
    "                        all_rms[fi1,si] = mean_cov[\"rms1\"]\n",
    "                    else :\n",
    "                        print( \"  %d %d  :  rho = %8.4f,  cov = %8.4f\" %\n",
    "                              (fi1, fi2, mean_cov[\"rho12\"], mean_cov[\"cov_x1x2\"]) )\n",
    "                        all_rho[fi1,fi2,si] = mean_cov[\"rho12\"]\n",
    "                        all_rho[fi2,fi1,si] = mean_cov[\"rho12\"]\n",
    "                        \n",
    "        si = si + 1\n",
    "        \n",
    "            "
   ]
  },
  {
   "cell_type": "code",
   "execution_count": 23,
   "id": "04d3f4ab",
   "metadata": {},
   "outputs": [
    {
     "data": {
      "text/plain": [
       "<function matplotlib.pyplot.show(close=None, block=None)>"
      ]
     },
     "execution_count": 23,
     "metadata": {},
     "output_type": "execute_result"
    },
    {
     "data": {
      "image/png": "[encoded data removed]",
      "text/plain": [
       "<Figure size 720x720 with 4 Axes>"
      ]
     },
     "metadata": {
      "needs_background": "light"
     },
     "output_type": "display_data"
    }
   ],
   "source": [
    "fig,ax = plt.subplots( ndim, 2, figsize=(2*5,ndim*5))\n",
    "\n",
    "ymax = 10\n",
    "\n",
    "for i in range(ndim) :\n",
    "    \n",
    "    ax[i][0].hist( all_mean[i], bins=40)\n",
    "    ax[i][1].hist( all_rms[i], bins=40)\n",
    "    \n",
    "    ax[i][0].plot( (true_mu[i], true_mu[i]), (0,ymax), linewidth=3 )\n",
    "    ax[i][1].plot( (true_sig[i], true_sig[i]), (0,ymax), linewidth=3 )\n",
    "\n",
    "plt.show"
   ]
  },
  {
   "cell_type": "code",
   "execution_count": 24,
   "id": "8c9863c9",
   "metadata": {},
   "outputs": [
    {
     "data": {
      "text/plain": [
       "<function matplotlib.pyplot.show(close=None, block=None)>"
      ]
     },
     "execution_count": 24,
     "metadata": {},
     "output_type": "execute_result"
    },
    {
     "data": {
      "image/png": "[encoded data removed]",
      "text/plain": [
       "<Figure size 720x720 with 4 Axes>"
      ]
     },
     "metadata": {
      "needs_background": "light"
     },
     "output_type": "display_data"
    }
   ],
   "source": [
    "fig,ax = plt.subplots( ndim, ndim, figsize=(ndim*5,ndim*5))\n",
    "\n",
    "ymax = 10\n",
    "\n",
    "for i in range(0,ndim-1) :\n",
    "    \n",
    "    for j in range(i+1,ndim) :\n",
    "        \n",
    "        k = ndim - j - 1\n",
    "        \n",
    "        ax[i][j].hist( all_rho[i,j], bins=40)\n",
    "        \n",
    "        ax[i][j].plot( (true_rho[i][k], true_rho[i][k]), (0, ymax), linewidth=3 )\n",
    "    \n",
    "\n",
    "\n",
    "plt.show"
   ]
  },
  {
   "cell_type": "code",
   "execution_count": null,
   "id": "b443d87d",
   "metadata": {},
   "outputs": [],
   "source": []
  },
  {
   "cell_type": "code",
   "execution_count": 25,
   "id": "f27c1fdd",
   "metadata": {},
   "outputs": [
    {
     "name": "stdout",
     "output_type": "stream",
     "text": [
      "\n",
      "\n",
      "  feature 0  :  mean   ave   0.1951  (true   0.2000), rms   0.0140\n",
      "  feature 1  :  mean   ave   0.8210  (true   0.8000), rms   0.0207\n",
      "\n",
      "\n",
      "  feature 0  :  RMS    ave   0.9124  (true   0.9000), rms   0.0102\n",
      "  feature 1  :  RMS    ave   1.3023  (true   1.3000), rms   0.0126\n",
      "\n",
      "\n",
      "  feature 0, 1  :  rho    ave  -0.5808  (true  -0.6000), rms   0.0108\n",
      "\n",
      "\n",
      "  feature 0, 0  :  cov    ave   0.8326  (true   0.8100), rms   0.0187\n",
      "  feature 0, 1  :  cov    ave  -0.6903  (true  -0.7020), rms   0.0211\n",
      "  feature 1, 1  :  cov    ave   1.6962  (true   1.6900), rms   0.0328\n",
      "\n",
      "\n"
     ]
    }
   ],
   "source": [
    "print('\\n')\n",
    "\n",
    "ave_mean = np.zeros( ndim )\n",
    "rms_mean = np.zeros( ndim )\n",
    "\n",
    "ave_cov = np.zeros( shape=(ndim,ndim) )\n",
    "rms_cov = np.zeros( shape=(ndim,ndim) )\n",
    "\n",
    "\n",
    "for fi in range(ndim) :\n",
    "    \n",
    "    ave_mean[fi] = np.mean( all_mean[fi] )\n",
    "    ave_mean2 = np.mean( all_mean[fi]*all_mean[fi])\n",
    "    rms_mean[fi] = np.sqrt( ave_mean2 - ave_mean[fi]*ave_mean[fi] )\n",
    "    print(\"  feature %d  :  mean   ave %8.4f  (true %8.4f), rms %8.4f\" % (fi, ave_mean[fi], true_mu[fi], rms_mean[fi] ))\n",
    "    \n",
    "print('\\n')\n",
    "\n",
    "for fi in range(ndim) :\n",
    "    \n",
    "    ave_rms = np.mean( all_rms[fi] )\n",
    "    ave_rms2 = np.mean( all_rms[fi]*all_rms[fi])\n",
    "    rms_rms = np.sqrt( ave_rms2 - ave_rms*ave_rms )\n",
    "    print(\"  feature %d  :  RMS    ave %8.4f  (true %8.4f), rms %8.4f\" % (fi, ave_rms, true_sig[fi], rms_rms ))\n",
    "    \n",
    "print('\\n')\n",
    "\n",
    "for fi1 in range(0,ndim-1) :\n",
    "    for fi2 in range(fi1+1, ndim) :\n",
    "        k = ndim - fi2 - 1\n",
    "        ave_rho = np.mean( all_rho[fi1,fi2])\n",
    "        ave_rho2 = np.mean( all_rho[fi1,fi2]*all_rho[fi1,fi2] )\n",
    "        rms_rho = np.sqrt( ave_rho2 - ave_rho*ave_rho )\n",
    "        print(\"  feature %d, %d  :  rho    ave %8.4f  (true %8.4f), rms %8.4f\" % ( fi1, fi2, ave_rho, true_rho[fi1][k], rms_rho ))\n",
    "        \n",
    "print(\"\\n\")\n",
    "\n",
    "for fi1 in range(0,ndim) :\n",
    "    for fi2 in range(fi1,ndim) :\n",
    "        ave_cov[fi1,fi2] = np.mean( all_cov[fi1][fi2] )\n",
    "        ave_cov2 = np.mean( all_cov[fi1][fi2]*all_cov[fi1][fi2] )\n",
    "        rms_cov[fi1,fi2] = np.sqrt( ave_cov2 - ave_cov[fi1,fi2]*ave_cov[fi1,fi2] )\n",
    "        print(\"  feature %d, %d  :  cov    ave %8.4f  (true %8.4f), rms %8.4f\" %\n",
    "              (fi1, fi2, ave_cov[fi1,fi2], true_cov[fi1,fi2], rms_cov[fi1,fi2] ) )\n",
    "\n",
    "print(\"\\n\")"
   ]
  },
  {
   "cell_type": "code",
   "execution_count": null,
   "id": "9e67026d",
   "metadata": {},
   "outputs": [],
   "source": []
  },
  {
   "cell_type": "code",
   "execution_count": null,
   "id": "5e57da2c",
   "metadata": {},
   "outputs": [],
   "source": []
  },
  {
   "cell_type": "markdown",
   "id": "bf96d999",
   "metadata": {},
   "source": [
    "## Save the simple direct calculation results for setting fit parameter ranges from RMS."
   ]
  },
  {
   "cell_type": "code",
   "execution_count": 26,
   "id": "c63bfb8e",
   "metadata": {},
   "outputs": [],
   "source": [
    "with open( '%s/simple-calc-results.npy' % input_dir, 'wb' ) as f :\n",
    "    np.save( f, ave_mean )\n",
    "    np.save( f, rms_mean )\n",
    "    np.save( f, ave_cov )\n",
    "    np.save( f, rms_cov )"
   ]
  },
  {
   "cell_type": "code",
   "execution_count": null,
   "id": "3b9a8d6f",
   "metadata": {},
   "outputs": [],
   "source": []
  },
  {
   "cell_type": "code",
   "execution_count": null,
   "id": "81e9f657",
   "metadata": {},
   "outputs": [],
   "source": []
  },
  {
   "cell_type": "code",
   "execution_count": null,
   "id": "11a9ad8f",
   "metadata": {},
   "outputs": [],
   "source": []
  },
  {
   "cell_type": "code",
   "execution_count": 27,
   "id": "78ccb589",
   "metadata": {
    "scrolled": true
   },
   "outputs": [
    {
     "name": "stdout",
     "output_type": "stream",
     "text": [
      "  sample   0 :  mean1   calc    0.8265  fit   0.8265\n",
      "  sample   1 :  mean1   calc    0.8146  fit   0.8146\n",
      "  sample   2 :  mean1   calc    0.8327  fit   0.8327\n",
      "  sample   3 :  mean1   calc    0.8220  fit   0.8220\n",
      "  sample   4 :  mean1   calc    0.8108  fit   0.8108\n",
      "  sample   5 :  mean1   calc    0.7999  fit   0.7999\n",
      "  sample   6 :  mean1   calc    0.8519  fit   0.8518\n",
      "  sample   7 :  mean1   calc    0.8182  fit   0.8182\n",
      "  sample   8 :  mean1   calc    0.8075  fit   0.8075\n",
      "  sample   9 :  mean1   calc    0.8458  fit   0.8458\n",
      "  sample  10 :  mean1   calc    0.8358  fit   0.8358\n",
      "  sample  11 :  mean1   calc    0.8326  fit   0.8326\n",
      "  sample  12 :  mean1   calc    0.8183  fit   0.8183\n",
      "  sample  13 :  mean1   calc    0.8091  fit   0.8091\n",
      "  sample  14 :  mean1   calc    0.8459  fit   0.8459\n",
      "  sample  15 :  mean1   calc    0.7776  fit   0.7776\n",
      "  sample  16 :  mean1   calc    0.8149  fit   0.8149\n",
      "  sample  17 :  mean1   calc    0.8177  fit   0.8177\n",
      "  sample  18 :  mean1   calc    0.8303  fit   0.8303\n",
      "  sample  19 :  mean1   calc    0.8569  fit   0.8569\n",
      "  sample  20 :  mean1   calc    0.8299  fit   0.8299\n",
      "  sample  21 :  mean1   calc    0.8755  fit   0.8755\n",
      "  sample  22 :  mean1   calc    0.8351  fit   0.8351\n",
      "  sample  23 :  mean1   calc    0.8682  fit   0.8682\n",
      "  sample  24 :  mean1   calc    0.8181  fit   0.8181\n",
      "  sample  25 :  mean1   calc    0.7913  fit   0.7913\n",
      "  sample  26 :  mean1   calc    0.8056  fit   0.8056\n",
      "  sample  27 :  mean1   calc    0.7960  fit   0.7960\n",
      "  sample  28 :  mean1   calc    0.8353  fit   0.8352\n",
      "  sample  29 :  mean1   calc    0.7993  fit   0.7993\n",
      "  sample  30 :  mean1   calc    0.8399  fit   0.8400\n",
      "  sample  31 :  mean1   calc    0.8028  fit   0.8028\n",
      "  sample  32 :  mean1   calc    0.8200  fit   0.8200\n",
      "  sample  33 :  mean1   calc    0.7938  fit   0.7938\n",
      "  sample  34 :  mean1   calc    0.8204  fit   0.8204\n",
      "  sample  35 :  mean1   calc    0.8050  fit   0.8049\n",
      "  sample  36 :  mean1   calc    0.8122  fit   0.8121\n",
      "  sample  37 :  mean1   calc    0.7789  fit   0.7789\n",
      "  sample  38 :  mean1   calc    0.8405  fit   0.8405\n",
      "  sample  39 :  mean1   calc    0.8152  fit   0.8152\n",
      "  sample  40 :  mean1   calc    0.8024  fit   0.8024\n",
      "  sample  41 :  mean1   calc    0.8236  fit   0.8235\n",
      "  sample  42 :  mean1   calc    0.7956  fit   0.7956\n",
      "  sample  43 :  mean1   calc    0.8081  fit   0.8081\n",
      "  sample  44 :  mean1   calc    0.8376  fit   0.8377\n",
      "  sample  45 :  mean1   calc    0.8105  fit   0.8104\n",
      "  sample  46 :  mean1   calc    0.8096  fit   0.8096\n",
      "  sample  47 :  mean1   calc    0.8491  fit   0.8491\n",
      "  sample  48 :  mean1   calc    0.8353  fit   0.8353\n",
      "  sample  49 :  mean1   calc    0.8269  fit   0.8270\n"
     ]
    }
   ],
   "source": [
    "if have_fits :\n",
    "    \n",
    "    for si in range( n_samples ) :\n",
    "        \n",
    "        for fi in range( 1,2 ) :\n",
    "            print(\"  sample %3d :  mean%d   calc  %8.4f  fit %8.4f\" % \n",
    "                  (si, fi, all_mean[fi,si], fit_results_mean_val[fi,si]))"
   ]
  },
  {
   "cell_type": "code",
   "execution_count": 28,
   "id": "88bea9bb",
   "metadata": {},
   "outputs": [
    {
     "name": "stdout",
     "output_type": "stream",
     "text": [
      "   0 : x axis limits:  0.166, 0.234    y axis limits  0.166, 0.234\n",
      "   1 : x axis limits:  0.773, 0.880    y axis limits  0.773, 0.880\n"
     ]
    },
    {
     "data": {
      "text/plain": [
       "<function matplotlib.pyplot.show(close=None, block=None)>"
      ]
     },
     "execution_count": 28,
     "metadata": {},
     "output_type": "execute_result"
    },
    {
     "data": {
      "image/png": "[encoded data removed]",
      "text/plain": [
       "<Figure size 720x720 with 4 Axes>"
      ]
     },
     "metadata": {
      "needs_background": "light"
     },
     "output_type": "display_data"
    }
   ],
   "source": [
    "fig,ax = plt.subplots( 2, ndim, figsize=(5*ndim,5*2))\n",
    "\n",
    "hbins=40\n",
    "hmax = 10\n",
    "\n",
    "for fi in range(ndim) :\n",
    "    ax[0][fi].scatter( all_mean[fi,:], fit_results_mean_val[fi,:])\n",
    "    xlow, xhigh = ax[0][fi].get_xlim()\n",
    "    ylow, yhigh = ax[0][fi].get_ylim()\n",
    "    print(\"  %2d : x axis limits:  %.3f, %.3f    y axis limits  %.3f, %.3f\" % \n",
    "              (fi, xlow, xhigh, ylow, yhigh))\n",
    "    ax[0][fi].plot( (xlow, xhigh), (true_mu[fi], true_mu[fi]))\n",
    "    ax[0][fi].plot( (true_mu[fi], true_mu[fi]), (ylow, yhigh))\n",
    "    \n",
    "\n",
    "    ax[1][fi].hist( fit_results_mean_val[fi,:], bins=hbins, \n",
    "                   range=[ave_mean[fi]-3*rms_mean[fi], ave_mean[fi]+3*rms_mean[fi]])\n",
    "    ax[1][fi].hist( all_mean[fi,:], bins=hbins, alpha=0.5,\n",
    "                   range=[ave_mean[fi]-3*rms_mean[fi], ave_mean[fi]+3*rms_mean[fi]])\n",
    "    ax[1][fi].plot( (true_mu[fi],true_mu[fi]),(0,hmax), linewidth=3)\n",
    "    \n",
    "\n",
    "plt.show"
   ]
  },
  {
   "cell_type": "code",
   "execution_count": 29,
   "id": "f971f4dc",
   "metadata": {},
   "outputs": [
    {
     "name": "stdout",
     "output_type": "stream",
     "text": [
      "   0,  0 : x axis limits:  0.793, 0.879    y axis limits  0.793, 0.879\n",
      "   0,  1 : x axis limits:  -0.736, -0.649    y axis limits  -0.736, -0.649\n",
      "   1,  1 : x axis limits:  1.621, 1.794    y axis limits  1.621, 1.794\n"
     ]
    },
    {
     "data": {
      "text/plain": [
       "<function matplotlib.pyplot.show(close=None, block=None)>"
      ]
     },
     "execution_count": 29,
     "metadata": {},
     "output_type": "execute_result"
    },
    {
     "data": {
      "image/png": "[encoded data removed]",
      "text/plain": [
       "<Figure size 720x720 with 4 Axes>"
      ]
     },
     "metadata": {
      "needs_background": "light"
     },
     "output_type": "display_data"
    }
   ],
   "source": [
    "fig,ax = plt.subplots( ndim, ndim, figsize=(5*ndim,5*ndim))\n",
    "\n",
    "for fi1 in range(ndim) :\n",
    "    for fi2 in range(fi1,ndim) :\n",
    "        ax[fi1][fi2].scatter( all_cov[fi1,fi2,:], fit_results_cov_val[fi1,fi2,:])\n",
    "        xlow, xhigh = ax[fi1][fi2].get_xlim()\n",
    "        ylow, yhigh = ax[fi1][fi2].get_ylim()\n",
    "        print(\"  %2d, %2d : x axis limits:  %.3f, %.3f    y axis limits  %.3f, %.3f\" % \n",
    "              (fi1, fi2, xlow, xhigh, ylow, yhigh))\n",
    "        ax[fi1][fi2].plot((xlow,xhigh),(true_cov[fi1][fi2], true_cov[fi1][fi2]))\n",
    "        ax[fi1][fi2].plot((true_cov[fi1][fi2], true_cov[fi1][fi2]),(ylow,yhigh))\n",
    "\n",
    "plt.show"
   ]
  },
  {
   "cell_type": "code",
   "execution_count": 30,
   "id": "deb2b4be",
   "metadata": {},
   "outputs": [
    {
     "name": "stdout",
     "output_type": "stream",
     "text": [
      "   0,  0 : x axis limits:  0.771, 0.894    y axis limits  0.000, 6.300\n",
      "   0,  1 : x axis limits:  -0.760, -0.621    y axis limits  0.000, 4.200\n",
      "   1,  1 : x axis limits:  1.588, 1.804    y axis limits  0.000, 6.300\n"
     ]
    },
    {
     "data": {
      "text/plain": [
       "<function matplotlib.pyplot.show(close=None, block=None)>"
      ]
     },
     "execution_count": 30,
     "metadata": {},
     "output_type": "execute_result"
    },
    {
     "data": {
      "image/png": "[encoded data removed]",
      "text/plain": [
       "<Figure size 720x720 with 4 Axes>"
      ]
     },
     "metadata": {
      "needs_background": "light"
     },
     "output_type": "display_data"
    }
   ],
   "source": [
    "fig,ax = plt.subplots( ndim, ndim, figsize=(5*ndim,5*ndim))\n",
    "\n",
    "hbins=40\n",
    "hmax=10\n",
    "\n",
    "for fi1 in range(ndim) :\n",
    "    for fi2 in range(fi1,ndim) :\n",
    "        ax[fi1][fi2].hist( fit_results_cov_val[fi1,fi2,:], bins=hbins, \n",
    "                         range=[ave_cov[fi1,fi2]-3*rms_cov[fi1,fi2], ave_cov[fi1,fi2]+3*rms_cov[fi1][fi2]] )\n",
    "        ax[fi1][fi2].hist( all_cov[fi1,fi2,:], bins=hbins, alpha=0.5,\n",
    "                         range=[ave_cov[fi1,fi2]-3*rms_cov[fi1,fi2], ave_cov[fi1,fi2]+3*rms_cov[fi1][fi2]] )\n",
    "        xlow, xhigh = ax[fi1][fi2].get_xlim()\n",
    "        ylow, yhigh = ax[fi1][fi2].get_ylim()\n",
    "        print(\"  %2d, %2d : x axis limits:  %.3f, %.3f    y axis limits  %.3f, %.3f\" % \n",
    "              (fi1, fi2, xlow, xhigh, ylow, yhigh))\n",
    "\n",
    "        ax[fi1][fi2].plot((true_cov[fi1][fi2], true_cov[fi1][fi2]),(0,hmax), linewidth=3)\n",
    "\n",
    "plt.show"
   ]
  },
  {
   "cell_type": "code",
   "execution_count": null,
   "id": "2de961c3",
   "metadata": {},
   "outputs": [],
   "source": []
  },
  {
   "cell_type": "code",
   "execution_count": null,
   "id": "ecd333e7",
   "metadata": {},
   "outputs": [],
   "source": []
  },
  {
   "cell_type": "code",
   "execution_count": 31,
   "id": "cdba36dd",
   "metadata": {},
   "outputs": [
    {
     "data": {
      "text/plain": [
       "<function matplotlib.pyplot.show(close=None, block=None)>"
      ]
     },
     "execution_count": 31,
     "metadata": {},
     "output_type": "execute_result"
    },
    {
     "data": {
      "image/png": "[encoded data removed]",
      "text/plain": [
       "<Figure size 720x360 with 2 Axes>"
      ]
     },
     "metadata": {
      "needs_background": "light"
     },
     "output_type": "display_data"
    }
   ],
   "source": [
    "fig,ax = plt.subplots( 1, ndim, figsize=(5*ndim,5))\n",
    "\n",
    "hbins = 40\n",
    "hmax = 10\n",
    "\n",
    "for fi in range(ndim) :\n",
    "    ax[fi].hist( fit_results_mean_err[fi,:], bins=hbins )\n",
    "    ax[fi].plot( (rms_mean[fi], rms_mean[fi]), (0,hmax) )\n",
    "    \n",
    "    \n",
    "plt.show"
   ]
  },
  {
   "cell_type": "code",
   "execution_count": null,
   "id": "67af76ee",
   "metadata": {},
   "outputs": [],
   "source": []
  },
  {
   "cell_type": "code",
   "execution_count": null,
   "id": "b7858ec2",
   "metadata": {},
   "outputs": [],
   "source": []
  },
  {
   "cell_type": "markdown",
   "id": "cd2c42ff",
   "metadata": {},
   "source": [
    "## Bootstrap error compared with average fit error"
   ]
  },
  {
   "cell_type": "code",
   "execution_count": 32,
   "id": "b212bbe1",
   "metadata": {},
   "outputs": [
    {
     "name": "stdout",
     "output_type": "stream",
     "text": [
      "  feature 0 mean:   rms bootstraps   0.0140,  ave fit err   0.0091    ratio      1.53\n",
      "  feature 1 mean:   rms bootstraps   0.0207,  ave fit err   0.0130    ratio      1.59\n"
     ]
    }
   ],
   "source": [
    "for fi in range(ndim) :\n",
    "    \n",
    "    print(\"  feature %d mean:   rms bootstraps %8.4f,  ave fit err %8.4f    ratio  %8.2f\"\n",
    "         % (fi, rms_mean[fi], ave_fit_err_mean[fi], rms_mean[fi] / ave_fit_err_mean[fi] ))"
   ]
  },
  {
   "cell_type": "code",
   "execution_count": null,
   "id": "1d600c7d",
   "metadata": {},
   "outputs": [],
   "source": []
  },
  {
   "cell_type": "markdown",
   "id": "382221f5",
   "metadata": {},
   "source": [
    "## Look for outliers in feature coords and weights"
   ]
  },
  {
   "cell_type": "code",
   "execution_count": 33,
   "id": "e75b2131",
   "metadata": {},
   "outputs": [
    {
     "name": "stdout",
     "output_type": "stream",
     "text": [
      "  feature  0 :  min    -4.276633   max     4.330136 \n",
      "  feature  1 :  min    -5.870869   max     7.616782 \n"
     ]
    }
   ],
   "source": [
    "for fi in range( ndim ) :\n",
    "    \n",
    "    print( \"  feature %2d :  min %12f   max %12f \" % ( fi, np.min(train_pts[:,fi]), np.max(train_pts[:,fi])) )"
   ]
  },
  {
   "cell_type": "code",
   "execution_count": 34,
   "id": "35472289",
   "metadata": {},
   "outputs": [
    {
     "name": "stdout",
     "output_type": "stream",
     "text": [
      "    0 : weight range    0.00175071  to     0.364907 ,   max delta mean     -0.000002\n",
      "    1 : weight range   0.000589918  to     0.837807 ,   max delta mean     -0.000001\n",
      "    2 : weight range    0.00030122  to     1.891740 ,   max delta mean      0.000002\n",
      "    3 : weight range   0.000262979  to     2.846634 ,   max delta mean      0.000002\n",
      "    4 : weight range   0.000459724  to     0.553482 ,   max delta mean      0.000006\n",
      "    5 : weight range   7.91741e-05  to     0.794096 ,   max delta mean      0.000006\n",
      "    6 : weight range   2.87377e-05  to     0.579593 ,   max delta mean      0.000031\n",
      "    7 : weight range   2.18637e-05  to     0.341785 ,   max delta mean     -0.000023\n",
      "    8 : weight range    0.00117384  to     0.814893 ,   max delta mean      0.000002\n",
      "    9 : weight range   0.000229075  to     0.639465 ,   max delta mean     -0.000012\n",
      "   10 : weight range   5.38358e-06  to     1.404896 ,   max delta mean     -0.000000\n",
      "   11 : weight range   5.17498e-05  to     1.275502 ,   max delta mean     -0.000009\n",
      "   12 : weight range   5.13095e-07  to     0.965049 ,   max delta mean      0.000025\n",
      "   13 : weight range   6.72298e-06  to     1.254680 ,   max delta mean      0.000004\n",
      "   14 : weight range   2.30974e-05  to     0.713264 ,   max delta mean      0.000012\n",
      "   15 : weight range   8.08382e-10  to     1.153757 ,   max delta mean      0.000020\n",
      "   16 : weight range   3.53106e-07  to     0.742209 ,   max delta mean     -0.000018\n",
      "   17 : weight range   3.32214e-07  to     1.027732 ,   max delta mean      0.000029\n",
      "   18 : weight range   1.25189e-05  to     0.945345 ,   max delta mean      0.000010\n",
      "   19 : weight range   6.96957e-06  to     0.723409 ,   max delta mean      0.000010\n",
      "   20 : weight range   9.41606e-08  to     0.992472 ,   max delta mean      0.000005\n",
      "   21 : weight range   7.84919e-08  to     0.986229 ,   max delta mean      0.000006\n",
      "   22 : weight range   1.40796e-08  to     0.714353 ,   max delta mean      0.000004\n",
      "   23 : weight range   5.82933e-07  to     0.776469 ,   max delta mean     -0.000001\n",
      "   24 : weight range   4.16457e-11  to     0.910228 ,   max delta mean      0.000002\n",
      "   25 : weight range   4.60728e-09  to     0.825797 ,   max delta mean      0.000001\n",
      "   26 : weight range   1.87517e-06  to     0.842153 ,   max delta mean      0.000036\n",
      "   27 : weight range   3.84202e-08  to     0.978410 ,   max delta mean     -0.000003\n",
      "   28 : weight range   5.79807e-08  to     1.384746 ,   max delta mean      0.000013\n",
      "   29 : weight range   1.68549e-07  to     0.756601 ,   max delta mean      0.000008\n",
      "   30 : weight range   4.62106e-06  to     0.860392 ,   max delta mean      0.000006\n",
      "   31 : weight range   5.29302e-11  to     0.987832 ,   max delta mean     -0.000004\n",
      "   32 : weight range   1.12691e-06  to     0.792796 ,   max delta mean      0.000018\n",
      "   33 : weight range   4.92303e-08  to     1.354591 ,   max delta mean      0.000004\n",
      "   34 : weight range   1.49845e-19  to     1.796323 ,   max delta mean      0.000001\n",
      "   35 : weight range   3.41065e-09  to     0.741297 ,   max delta mean     -0.000098\n",
      "   36 : weight range   1.72246e-07  to     1.022165 ,   max delta mean     -0.000040\n",
      "   37 : weight range   6.65947e-09  to     1.290005 ,   max delta mean      0.000006\n",
      "   38 : weight range   9.19073e-10  to     1.802521 ,   max delta mean     -0.000043\n",
      "   39 : weight range   1.33785e-08  to     2.081415 ,   max delta mean      0.000003\n",
      "   40 : weight range   9.36931e-10  to     1.127592 ,   max delta mean      0.000007\n",
      "   41 : weight range   1.46252e-13  to     1.232394 ,   max delta mean     -0.000037\n",
      "   42 : weight range    6.3919e-12  to     0.776065 ,   max delta mean     -0.000002\n",
      "   43 : weight range   2.34677e-14  to     1.006099 ,   max delta mean      0.000008\n",
      "   44 : weight range   6.06761e-13  to     2.525910 ,   max delta mean      0.000016\n",
      "   45 : weight range   1.70081e-07  to     3.047500 ,   max delta mean     -0.000017\n",
      "   46 : weight range   2.42544e-11  to     1.803537 ,   max delta mean      0.000003\n",
      "   47 : weight range   2.38641e-15  to     2.610895 ,   max delta mean      0.000010\n",
      "   48 : weight range   1.40721e-11  to     1.610889 ,   max delta mean     -0.000002\n",
      "   49 : weight range   1.07268e-10  to     1.758330 ,   max delta mean      0.000089\n"
     ]
    }
   ],
   "source": [
    "for si in range( n_samples ) :\n",
    "    \n",
    "    max_delta_mean = 0\n",
    "    for fi in range(ndim) :\n",
    "        delta = fit_results_mean_val[fi,si] - all_mean[fi,si] \n",
    "        if np.abs(delta) > max_delta_mean :\n",
    "            max_delta_mean = delta\n",
    "        \n",
    "    print(\"  %3d : weight range  %12g  to %12f ,   max delta mean  %12f\"\n",
    "         % (si, all_weight_min[si], all_weight_max[si], max_delta_mean ))"
   ]
  },
  {
   "cell_type": "code",
   "execution_count": null,
   "id": "e20efde0",
   "metadata": {},
   "outputs": [],
   "source": []
  },
  {
   "cell_type": "markdown",
   "id": "d0f7f7ac",
   "metadata": {},
   "source": [
    "## Look deeper into bootstrap with an outlier"
   ]
  },
  {
   "cell_type": "code",
   "execution_count": 35,
   "id": "1847f3c0",
   "metadata": {},
   "outputs": [],
   "source": [
    "si = 35\n",
    "\n",
    "fname = '%s/bootstrap-weights-%03d.npy' % (input_dir, si)\n",
    "            \n",
    "with open(fname,'rb') as f :\n",
    "            \n",
    "    final_push_weights_scaled = np.load(f)"
   ]
  },
  {
   "cell_type": "code",
   "execution_count": 36,
   "id": "47aec5a2",
   "metadata": {},
   "outputs": [
    {
     "data": {
      "text/plain": [
       "<function matplotlib.pyplot.show(close=None, block=None)>"
      ]
     },
     "execution_count": 36,
     "metadata": {},
     "output_type": "execute_result"
    },
    {
     "data": {
      "image/png": "[encoded data removed]",
      "text/plain": [
       "<Figure size 1008x360 with 2 Axes>"
      ]
     },
     "metadata": {
      "needs_background": "light"
     },
     "output_type": "display_data"
    }
   ],
   "source": [
    "fig,ax = plt.subplots( 1, 2, figsize=(2*7,5))\n",
    "\n",
    "hbins = 60\n",
    "ax[0].hist( np.log10(final_push_weights_scaled), bins=hbins)\n",
    "ax[1].hist( final_push_weights_scaled, bins=hbins)\n",
    "ax[1].set_yscale('log')\n",
    "\n",
    "plt.show"
   ]
  },
  {
   "cell_type": "code",
   "execution_count": null,
   "id": "abe787e8",
   "metadata": {},
   "outputs": [],
   "source": []
  },
  {
   "cell_type": "code",
   "execution_count": 37,
   "id": "b849430d",
   "metadata": {},
   "outputs": [
    {
     "name": "stdout",
     "output_type": "stream",
     "text": [
      " number of events before selection  100000\n",
      " number of events passing selection 100000\n",
      " max weight before selection : 0.741297\n",
      " max weight passing selection: 0.741297\n"
     ]
    }
   ],
   "source": [
    "selection_mask = final_push_weights_scaled < 100\n",
    "train_pts_sel = train_pts[ selection_mask ]\n",
    "weights_sel = final_push_weights_scaled[ selection_mask ]\n",
    "\n",
    "print(\" number of events before selection  %d\" % len(train_pts))\n",
    "print(\" number of events passing selection %d\" % len(train_pts_sel))\n",
    "print(\" max weight before selection : %f\" % np.max(final_push_weights_scaled))\n",
    "print(\" max weight passing selection: %f\" % np.max(weights_sel))"
   ]
  },
  {
   "cell_type": "code",
   "execution_count": 38,
   "id": "b9019f4c",
   "metadata": {},
   "outputs": [
    {
     "name": "stdout",
     "output_type": "stream",
     "text": [
      "  0 :  fit mean    0.206334   mean all    0.206267   selected    0.206267   diff   0.000000  fit diff  -0.000067\n",
      "  1 :  fit mean    0.804934   mean all    0.805032   selected    0.805032   diff   0.000000  fit diff   0.000098\n"
     ]
    }
   ],
   "source": [
    "for fi in range( ndim ) :\n",
    "    \n",
    "    fit_mean = fit_results_mean_val[fi,si]\n",
    "    mean_all_evts = all_mean[fi,si]\n",
    "    mean_sel = ( np.sum( weights_sel * train_pts_sel[:,fi]) ) / ( np.sum( weights_sel ) )\n",
    "    mean_diff = mean_sel - mean_all_evts\n",
    "    print(\" %2d :  fit mean  %10f   mean all  %10f   selected  %10f   diff %10f  fit diff %10f\" % \n",
    "          ( fi, fit_mean, mean_all_evts, mean_sel, mean_diff, (mean_sel-fit_mean) ))"
   ]
  },
  {
   "cell_type": "markdown",
   "id": "a4094cac",
   "metadata": {},
   "source": [
    "## Look at outlier point"
   ]
  },
  {
   "cell_type": "code",
   "execution_count": 39,
   "id": "d88a54e8",
   "metadata": {},
   "outputs": [
    {
     "data": {
      "text/plain": [
       "(0, 2)"
      ]
     },
     "execution_count": 39,
     "metadata": {},
     "output_type": "execute_result"
    }
   ],
   "source": [
    "train_pts_antisel = train_pts[ final_push_weights_scaled > 100 ]\n",
    "train_pts_antisel.shape"
   ]
  },
  {
   "cell_type": "code",
   "execution_count": 40,
   "id": "12ab14fa",
   "metadata": {},
   "outputs": [
    {
     "ename": "IndexError",
     "evalue": "index 0 is out of bounds for axis 0 with size 0",
     "output_type": "error",
     "traceback": [
      "\u001b[0;31m---------------------------------------------------------------------------\u001b[0m",
      "\u001b[0;31mIndexError\u001b[0m                                Traceback (most recent call last)",
      "\u001b[0;32m/tmp/ipykernel_1020106/2849291415.py\u001b[0m in \u001b[0;36m<module>\u001b[0;34m\u001b[0m\n\u001b[1;32m      4\u001b[0m \u001b[0;34m\u001b[0m\u001b[0m\n\u001b[1;32m      5\u001b[0m     print(\" %2d :  val %10f   mean %10f   sigma %10f  diff/sigma %10f\" %\n\u001b[0;32m----> 6\u001b[0;31m           \u001b[0;34m(\u001b[0m\u001b[0mfi\u001b[0m\u001b[0;34m,\u001b[0m \u001b[0mtrain_pts_antisel\u001b[0m\u001b[0;34m[\u001b[0m\u001b[0;36m0\u001b[0m\u001b[0;34m,\u001b[0m\u001b[0mfi\u001b[0m\u001b[0;34m]\u001b[0m\u001b[0;34m,\u001b[0m \u001b[0mave_mean\u001b[0m\u001b[0;34m[\u001b[0m\u001b[0mfi\u001b[0m\u001b[0;34m]\u001b[0m\u001b[0;34m,\u001b[0m \u001b[0msigma\u001b[0m\u001b[0;34m,\u001b[0m \u001b[0;34m(\u001b[0m\u001b[0mtrain_pts_antisel\u001b[0m\u001b[0;34m[\u001b[0m\u001b[0;36m0\u001b[0m\u001b[0;34m,\u001b[0m\u001b[0mfi\u001b[0m\u001b[0;34m]\u001b[0m\u001b[0;34m-\u001b[0m\u001b[0mave_mean\u001b[0m\u001b[0;34m[\u001b[0m\u001b[0mfi\u001b[0m\u001b[0;34m]\u001b[0m\u001b[0;34m)\u001b[0m\u001b[0;34m/\u001b[0m\u001b[0msigma\u001b[0m \u001b[0;34m)\u001b[0m\u001b[0;34m\u001b[0m\u001b[0;34m\u001b[0m\u001b[0m\n\u001b[0m\u001b[1;32m      7\u001b[0m          )\n",
      "\u001b[0;31mIndexError\u001b[0m: index 0 is out of bounds for axis 0 with size 0"
     ]
    }
   ],
   "source": [
    "for fi in range( ndim ) :\n",
    "    \n",
    "    sigma = np.sqrt(ave_cov[fi,fi])\n",
    "    \n",
    "    print(\" %2d :  val %10f   mean %10f   sigma %10f  diff/sigma %10f\" %\n",
    "          (fi, train_pts_antisel[0,fi], ave_mean[fi], sigma, (train_pts_antisel[0,fi]-ave_mean[fi])/sigma )\n",
    "         )"
   ]
  },
  {
   "cell_type": "code",
   "execution_count": null,
   "id": "9506f674",
   "metadata": {},
   "outputs": [],
   "source": [
    "true_sig"
   ]
  },
  {
   "cell_type": "code",
   "execution_count": null,
   "id": "ca1b7b09",
   "metadata": {},
   "outputs": [],
   "source": []
  },
  {
   "cell_type": "markdown",
   "id": "30759a9d",
   "metadata": {},
   "source": [
    "## Calculate the true weights and compare with unfolding weights"
   ]
  },
  {
   "cell_type": "code",
   "execution_count": null,
   "id": "73fd72e6",
   "metadata": {},
   "outputs": [],
   "source": []
  }
 ],
 "metadata": {
  "kernelspec": {
   "display_name": "Python 3 (ipykernel)",
   "language": "python",
   "name": "python3"
  },
  "language_info": {
   "codemirror_mode": {
    "name": "ipython",
    "version": 3
   },
   "file_extension": ".py",
   "mimetype": "text/x-python",
   "name": "python",
   "nbconvert_exporter": "python",
   "pygments_lexer": "ipython3",
   "version": "3.10.12"
  }
 },
 "nbformat": 4,
 "nbformat_minor": 5
}
