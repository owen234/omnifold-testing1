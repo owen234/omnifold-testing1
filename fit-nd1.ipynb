{
 "cells": [
  {
   "cell_type": "code",
   "execution_count": 1,
   "id": "101a4f62",
   "metadata": {},
   "outputs": [
    {
     "name": "stderr",
     "output_type": "stream",
     "text": [
      "Module libc not found.\n"
     ]
    },
    {
     "name": "stdout",
     "output_type": "stream",
     "text": [
      "Welcome to JupyROOT 6.24/07\n"
     ]
    }
   ],
   "source": [
    "import ROOT"
   ]
  },
  {
   "cell_type": "code",
   "execution_count": 2,
   "id": "7e2b2407",
   "metadata": {},
   "outputs": [
    {
     "data": {
      "text/plain": [
       "0"
      ]
     },
     "execution_count": 2,
     "metadata": {},
     "output_type": "execute_result"
    },
    {
     "name": "stdout",
     "output_type": "stream",
     "text": [
      "\n",
      "\u001b[1mRooFit v3.60 -- Developed by Wouter Verkerke and David Kirkby\u001b[0m \n",
      "                Copyright (C) 2000-2013 NIKHEF, University of California & Stanford University\n",
      "                All rights reserved, please read http://roofit.sourceforge.net/license.txt\n",
      "\n"
     ]
    }
   ],
   "source": [
    "ROOT.gSystem.Load('./RooMultiVarGaussian2e_cxx.so')"
   ]
  },
  {
   "cell_type": "code",
   "execution_count": 3,
   "id": "1e590dc8",
   "metadata": {},
   "outputs": [],
   "source": [
    "import matplotlib.pyplot as plt\n",
    "import numpy as np\n",
    "\n",
    "from os.path import exists\n",
    "\n",
    "import read_config_utils as cu"
   ]
  },
  {
   "cell_type": "code",
   "execution_count": 4,
   "id": "3309b69e",
   "metadata": {},
   "outputs": [],
   "source": [
    "import sys\n",
    "import time"
   ]
  },
  {
   "cell_type": "code",
   "execution_count": 5,
   "id": "3783a672",
   "metadata": {},
   "outputs": [],
   "source": [
    "input_dir = 'output-files-bootstrap-test6-4d-1b'\n",
    "points_file = 'train-and-true-samples.npy'\n",
    "\n",
    "\n",
    "weights_file = 'omnifold-output-weights.npy'\n",
    "#weights_file = 'bootstrap-weights-000.npy'\n"
   ]
  },
  {
   "cell_type": "code",
   "execution_count": 6,
   "id": "20011728",
   "metadata": {},
   "outputs": [],
   "source": [
    "config_file = '%s/config.txt' % (input_dir)\n",
    "\n",
    "if not exists(config_file) :\n",
    "    \n",
    "    print(\"\\n\\n\\n ******* Input file does not exist: %s\\n\\n\\n\" % config_file )\n",
    "    sys.exit()\n",
    "    "
   ]
  },
  {
   "cell_type": "code",
   "execution_count": 7,
   "id": "7921ec66",
   "metadata": {},
   "outputs": [
    {
     "name": "stdout",
     "output_type": "stream",
     "text": [
      "\n",
      "\n",
      " Number of feature dimensions: 4\n",
      "\n",
      "\n"
     ]
    }
   ],
   "source": [
    "ndim = int(cu.get_par( config_file, \"ndim\"))\n",
    "print(\"\\n\\n Number of feature dimensions: %d\\n\\n\" % ndim)"
   ]
  },
  {
   "cell_type": "code",
   "execution_count": 8,
   "id": "1f7b51fb",
   "metadata": {},
   "outputs": [],
   "source": [
    "with open( '%s/config-pars.npy' % input_dir, 'rb') as f :\n",
    "    train_mu = np.load(f, allow_pickle=True )\n",
    "    train_rho = np.load(f, allow_pickle=True)\n",
    "    train_sig = np.load(f, allow_pickle=True)    \n",
    "    true_mu = np.load(f, allow_pickle=True )\n",
    "    true_rho = np.load(f, allow_pickle=True)\n",
    "    true_sig = np.load(f, allow_pickle=True)  \n",
    "    resolution = np.load(f, allow_pickle=True)"
   ]
  },
  {
   "cell_type": "code",
   "execution_count": 9,
   "id": "19fc02b7",
   "metadata": {},
   "outputs": [],
   "source": [
    "with open('%s/%s' % (input_dir, points_file),'rb') as f :\n",
    "    train_pts = np.load(f)\n",
    "    train_det_pts = np.load(f)\n",
    "    true_pts = np.load(f)\n",
    "    true_det_pts = np.load(f)\n"
   ]
  },
  {
   "cell_type": "code",
   "execution_count": 10,
   "id": "260f06fe",
   "metadata": {},
   "outputs": [],
   "source": [
    "with open('%s/%s' % (input_dir, weights_file),'rb') as f :\n",
    "    sample_weights = np.load(f)"
   ]
  },
  {
   "cell_type": "code",
   "execution_count": 11,
   "id": "dbe18ead",
   "metadata": {},
   "outputs": [
    {
     "name": "stdout",
     "output_type": "stream",
     "text": [
      "train_pts shape:  (4000000, 4)\n",
      "weights:  (4000000,)\n",
      "number of MC events: 4000000\n"
     ]
    }
   ],
   "source": [
    "\n",
    "nmcevts = len(train_pts)\n",
    "\n",
    "print( \"train_pts shape:  %s\" % str(train_pts.shape))\n",
    "print( \"weights:  %s\" % str(sample_weights.shape))\n",
    "\n",
    "print( \"number of MC events: %d\" % nmcevts)"
   ]
  },
  {
   "cell_type": "code",
   "execution_count": null,
   "id": "8b0d43e6",
   "metadata": {},
   "outputs": [],
   "source": []
  },
  {
   "cell_type": "code",
   "execution_count": 12,
   "id": "325cb01a",
   "metadata": {
    "scrolled": true
   },
   "outputs": [
    {
     "name": "stdout",
     "output_type": "stream",
     "text": [
      "   0,  0 : diagonal    0.6400\n",
      "   0,  1 : diagonal     0.800 *    0.600 *    0.000 =   0.0000\n",
      "   0,  2 : diagonal     0.800 *    1.000 *   -0.300 =  -0.2400\n",
      "   0,  3 : diagonal     0.800 *    0.600 *    0.400 =   0.1920\n",
      "   1,  1 : diagonal    0.3600\n",
      "   1,  2 : diagonal     0.600 *    1.000 *    0.200 =   0.1200\n",
      "   1,  3 : diagonal     0.600 *    0.600 *   -0.400 =  -0.1440\n",
      "   2,  2 : diagonal    1.0000\n",
      "   2,  3 : diagonal     1.000 *    0.600 *    0.500 =   0.3000\n",
      "   3,  3 : diagonal    0.3600\n"
     ]
    }
   ],
   "source": [
    "\n",
    "\n",
    "true_cov  = np.zeros( shape=(ndim,ndim) )\n",
    "\n",
    "for i in range(ndim) :\n",
    "    for j in range(ndim) :\n",
    "        if j < i : continue\n",
    "        if i == j :\n",
    "            true_cov[i][j] = true_sig[i] * true_sig[j]\n",
    "            print(\"  %2d, %2d : diagonal  %8.4f\" % (i,j, true_cov[i][j]))\n",
    "        else :\n",
    "            k = ndim - j - 1\n",
    "            true_cov[i][j] = true_sig[i] * true_sig[j] * true_rho[i][k]\n",
    "            true_cov[j][i] = true_cov[i][j]\n",
    "            print(\"  %2d, %2d : diagonal  %8.3f * %8.3f * %8.3f = %8.4f\" % \n",
    "                  (i,j, true_sig[i], true_sig[j], true_rho[i][k], true_cov[i][j]))\n",
    "            \n",
    "            \n",
    "   "
   ]
  },
  {
   "cell_type": "code",
   "execution_count": null,
   "id": "9c886671",
   "metadata": {},
   "outputs": [],
   "source": []
  },
  {
   "cell_type": "markdown",
   "id": "89178255",
   "metadata": {},
   "source": [
    "## Read in the simple calculation results to set the fit parameter limits."
   ]
  },
  {
   "cell_type": "code",
   "execution_count": 13,
   "id": "b4aca616",
   "metadata": {},
   "outputs": [],
   "source": [
    "with open( '%s/simple-calc-results.npy' % input_dir, 'rb') as f :\n",
    "    sc_ave_mean_val = np.load(f, allow_pickle=True )\n",
    "    sc_ave_mean_rms = np.load(f, allow_pickle=True)\n",
    "    sc_ave_cov_val  = np.load(f, allow_pickle=True)    \n",
    "    sc_ave_cov_rms  = np.load(f, allow_pickle=True )\n",
    "\n"
   ]
  },
  {
   "cell_type": "code",
   "execution_count": 14,
   "id": "d98a0365",
   "metadata": {},
   "outputs": [
    {
     "data": {
      "text/plain": [
       "array([[ 0.6415273 , -0.0010646 , -0.24042171,  0.18600525],\n",
       "       [ 0.        ,  0.35954001,  0.11911643, -0.14381041],\n",
       "       [ 0.        ,  0.        ,  0.99747429,  0.3007882 ],\n",
       "       [ 0.        ,  0.        ,  0.        ,  0.36036636]])"
      ]
     },
     "execution_count": 14,
     "metadata": {},
     "output_type": "execute_result"
    }
   ],
   "source": [
    "sc_ave_cov_val"
   ]
  },
  {
   "cell_type": "code",
   "execution_count": 15,
   "id": "ffb3823f",
   "metadata": {},
   "outputs": [
    {
     "name": "stdout",
     "output_type": "stream",
     "text": [
      "\n",
      "\n",
      "\n",
      "  Simple direct calculation results from the bootstrap samples.\n",
      "\n",
      "  feature 0  mean:     0.8058  (true   0.8000) RMS    0.0070\n",
      "  feature 1  mean:     0.0940  (true   0.1000) RMS    0.0035\n",
      "  feature 2  mean:    -0.5904  (true  -0.6000) RMS    0.0107\n",
      "  feature 3  mean:     0.6958  (true   0.7000) RMS    0.0037\n",
      "\n",
      "\n",
      "   0, 0  cov:     0.6415  (true   0.6400) RMS    0.0063\n",
      "   0, 1  cov:    -0.0011  (true   0.0000) RMS    0.0032\n",
      "   0, 2  cov:    -0.2404  (true  -0.2400) RMS    0.0117\n",
      "   0, 3  cov:     0.1860  (true   0.1920) RMS    0.0035\n",
      "   1, 1  cov:     0.3595  (true   0.3600) RMS    0.0035\n",
      "   1, 2  cov:     0.1191  (true   0.1200) RMS    0.0050\n",
      "   1, 3  cov:    -0.1438  (true  -0.1440) RMS    0.0018\n",
      "   2, 2  cov:     0.9975  (true   1.0000) RMS    0.0157\n",
      "   2, 3  cov:     0.3008  (true   0.3000) RMS    0.0036\n",
      "   3, 3  cov:     0.3604  (true   0.3600) RMS    0.0020\n",
      "\n",
      "\n",
      "\n"
     ]
    }
   ],
   "source": [
    "print('\\n\\n')\n",
    "print('  Simple direct calculation results from the bootstrap samples.\\n')\n",
    "\n",
    "for fi in range(ndim) :\n",
    "    print('  feature %d  mean:   %8.4f  (true %8.4f) RMS  %8.4f'\n",
    "         % (fi, sc_ave_mean_val[fi], true_mu[fi], sc_ave_mean_rms[fi]) )\n",
    "    \n",
    "print('\\n')\n",
    "\n",
    "for i in range(ndim) :\n",
    "    for j in range(i,ndim) :\n",
    "        print('   %d, %d  cov:   %8.4f  (true %8.4f) RMS  %8.4f'\n",
    "              % ( i, j, sc_ave_cov_val[i][j], true_cov[i,j], sc_ave_cov_rms[i][j]) )\n",
    "\n",
    "print('\\n\\n')"
   ]
  },
  {
   "cell_type": "code",
   "execution_count": null,
   "id": "76735149",
   "metadata": {},
   "outputs": [],
   "source": []
  },
  {
   "cell_type": "code",
   "execution_count": 16,
   "id": "6400885d",
   "metadata": {},
   "outputs": [],
   "source": [
    "width_factor_mean = 10\n",
    "width_factor_cov = 10"
   ]
  },
  {
   "cell_type": "markdown",
   "id": "83a617c2",
   "metadata": {},
   "source": [
    "###  Do it this way to keep all the RooRealVars in memory in separate objects (different elements in the dictionary)."
   ]
  },
  {
   "cell_type": "code",
   "execution_count": 17,
   "id": "37545f99",
   "metadata": {},
   "outputs": [
    {
     "name": "stdout",
     "output_type": "stream",
     "text": [
      " parameter cov00  min   0.5781, max   0.7049\n",
      " parameter cov01  min  -0.0335, max   0.0314\n",
      " parameter cov02  min  -0.3573, max  -0.1235\n",
      " parameter cov03  min   0.1513, max   0.2207\n",
      " parameter cov11  min   0.3243, max   0.3948\n",
      " parameter cov12  min   0.0688, max   0.1694\n",
      " parameter cov13  min  -0.1616, max  -0.1260\n",
      " parameter cov22  min   0.8406, max   1.1544\n",
      " parameter cov23  min   0.2647, max   0.3368\n",
      " parameter cov33  min   0.3401, max   0.3806\n",
      "RooRealVar::cov00 = 0.641527  L(0.578145 - 0.70491) \n",
      "RooRealVar::cov01 = -0.0010646  L(-0.0335337 - 0.0314045) \n",
      "RooRealVar::cov02 = -0.240422  L(-0.357295 - -0.123548) \n",
      "RooRealVar::cov03 = 0.186005  L(0.151347 - 0.220664) \n",
      "RooRealVar::cov11 = 0.35954  L(0.324294 - 0.394786) \n",
      "RooRealVar::cov12 = 0.119116  L(0.0688481 - 0.169385) \n",
      "RooRealVar::cov13 = -0.14381  L(-0.16161 - -0.126011) \n",
      "RooRealVar::cov22 = 0.997474  L(0.840588 - 1.15436) \n",
      "RooRealVar::cov23 = 0.300788  L(0.264744 - 0.336832) \n",
      "RooRealVar::cov33 = 0.360366  L(0.340104 - 0.380629) \n"
     ]
    }
   ],
   "source": [
    "covdict = {}\n",
    "\n",
    "\n",
    "for i in range(ndim) :\n",
    "    for j in range(ndim) :\n",
    "        if ( j < i ) : continue\n",
    "        vname = \"cov%d%d\" % (i,j)\n",
    "        startval = sc_ave_cov_val[i][j]\n",
    "        minval = sc_ave_cov_val[i][j] - width_factor_cov * sc_ave_cov_rms[i][j]\n",
    "        maxval = sc_ave_cov_val[i][j] + width_factor_cov * sc_ave_cov_rms[i][j]\n",
    "        print(' parameter %s  min %8.4f, max %8.4f' % (vname, minval, maxval))\n",
    "        if ( i == j ) :\n",
    "            ######covdict[vname] =  ROOT.RooRealVar( \"cov%d%d\" % (i,j), \"cov%d%d\" % (i,j), true_cov[i][j], 0.02, 2.0 ) \n",
    "            covdict[vname] =  ROOT.RooRealVar( \"cov%d%d\" % (i,j), \"cov%d%d\" % (i,j), startval, minval, maxval )\n",
    "                                              \n",
    "        else :\n",
    "            \n",
    "            ######covdict[vname] =   ROOT.RooRealVar( \"cov%d%d\" % (i,j), \"cov%d%d\" % (i,j), true_cov[i][j], -1.1, 1.1 ) \n",
    "            covdict[vname] =   ROOT.RooRealVar( \"cov%d%d\" % (i,j), \"cov%d%d\" % (i,j), startval, minval, maxval )\n",
    "        covdict[vname].Print()    \n",
    "\n"
   ]
  },
  {
   "cell_type": "code",
   "execution_count": 18,
   "id": "f6caca13",
   "metadata": {
    "scrolled": true
   },
   "outputs": [],
   "source": [
    "covRAL = ROOT.RooArgList()\n",
    "\n",
    "\n",
    "for i in range(ndim) :\n",
    "    for j in range(ndim) :\n",
    "        if ( j < i ) : continue\n",
    "        vname = \"cov%d%d\" % (i,j)\n",
    "        covRAL.add( covdict[vname] )\n"
   ]
  },
  {
   "cell_type": "code",
   "execution_count": null,
   "id": "6bd822e7",
   "metadata": {},
   "outputs": [],
   "source": []
  },
  {
   "cell_type": "code",
   "execution_count": 19,
   "id": "f9473bd9",
   "metadata": {
    "scrolled": true
   },
   "outputs": [
    {
     "name": "stdout",
     "output_type": "stream",
     "text": [
      "  0, 0 :   0 :  cov00     0.642\n",
      "  0, 1 :   1 :  cov01    -0.001\n",
      "  0, 2 :   2 :  cov02    -0.240\n",
      "  0, 3 :   3 :  cov03     0.186\n",
      "  1, 1 :   4 :  cov11     0.360\n",
      "  1, 2 :   5 :  cov12     0.119\n",
      "  1, 3 :   6 :  cov13    -0.144\n",
      "  2, 2 :   7 :  cov22     0.997\n",
      "  2, 3 :   8 :  cov23     0.301\n",
      "  3, 3 :   9 :  cov33     0.360\n"
     ]
    }
   ],
   "source": [
    "ralind = 0\n",
    "for i in range(ndim) :\n",
    "    for j in range(ndim) :\n",
    "        if ( j < i ) : continue\n",
    "        print( \"  %d, %d :  %2d :  %s  %8.3f\" % (i,j, ralind, covRAL.at(ralind).GetName(), covRAL.at(ralind).getVal() )) \n",
    "        ralind = ralind + 1"
   ]
  },
  {
   "cell_type": "code",
   "execution_count": null,
   "id": "851e9256",
   "metadata": {},
   "outputs": [],
   "source": []
  },
  {
   "cell_type": "markdown",
   "id": "e18d3f53",
   "metadata": {},
   "source": [
    "### The Dict keeps the variables defined in memory"
   ]
  },
  {
   "cell_type": "code",
   "execution_count": 20,
   "id": "7e754703",
   "metadata": {},
   "outputs": [
    {
     "name": "stdout",
     "output_type": "stream",
     "text": [
      "  feature 0  mean :  min   0.7358, max   0.8758\n",
      "  feature 1  mean :  min   0.0595, max   0.1285\n",
      "  feature 2  mean :  min  -0.6975, max  -0.4832\n",
      "  feature 3  mean :  min   0.6588, max   0.7329\n",
      "RooRealVar::mu_x0 = 0.805756  L(0.735756 - 0.875756) \n",
      "RooRealVar::mu_x1 = 0.093986  L(0.0594663 - 0.128506) \n",
      "RooRealVar::mu_x2 = -0.590376  L(-0.697505 - -0.483247) \n",
      "RooRealVar::mu_x3 = 0.695847  L(0.658782 - 0.732911) \n"
     ]
    }
   ],
   "source": [
    "xDict = {}\n",
    "muDict = {}\n",
    "\n",
    "xVec = ROOT.RooArgList()\n",
    "muVec = ROOT.RooArgList()\n",
    "\n",
    "\n",
    "for i in range(ndim) :\n",
    "    vname = \"x%d\" % i\n",
    "    xDict[vname] = ROOT.RooRealVar( vname, vname, 0., -10., 10. )\n",
    "    xVec.add( xDict[vname] )\n",
    "    vname = \"mu_x%d\" % i\n",
    "    startval = sc_ave_mean_val[i]\n",
    "    minval = sc_ave_mean_val[i] - width_factor_mean * sc_ave_mean_rms[i]\n",
    "    maxval = sc_ave_mean_val[i] + width_factor_mean * sc_ave_mean_rms[i]\n",
    "    print('  feature %d  mean :  min %8.4f, max %8.4f' % (i, minval, maxval))\n",
    "    #####muDict[vname] =  ROOT.RooRealVar( vname, vname, true_mu[i], -2., 2. )\n",
    "    muDict[vname] =  ROOT.RooRealVar( vname, vname, startval, minval, maxval )\n",
    "    muDict[vname].Print()\n",
    "    muVec.add( muDict[vname] )\n",
    "    \n",
    "weight = ROOT.RooRealVar(\"weight\",\"weight\", 0., 100. )"
   ]
  },
  {
   "cell_type": "code",
   "execution_count": null,
   "id": "8e6b4b9d",
   "metadata": {},
   "outputs": [],
   "source": []
  },
  {
   "cell_type": "code",
   "execution_count": null,
   "id": "190fc8bc",
   "metadata": {},
   "outputs": [],
   "source": []
  },
  {
   "cell_type": "code",
   "execution_count": 21,
   "id": "61f9ee19",
   "metadata": {},
   "outputs": [
    {
     "name": "stdout",
     "output_type": "stream",
     "text": [
      "  Setting _prevCovVals[0] to 0.641527\n",
      "  Setting _prevCovVals[1] to -0.001065\n",
      "  Setting _prevCovVals[2] to -0.240422\n",
      "  Setting _prevCovVals[3] to 0.186005\n",
      "  Setting _prevCovVals[4] to 0.359540\n",
      "  Setting _prevCovVals[5] to 0.119116\n",
      "  Setting _prevCovVals[6] to -0.143810\n",
      "  Setting _prevCovVals[7] to 0.997474\n",
      "  Setting _prevCovVals[8] to 0.300788\n",
      "  Setting _prevCovVals[9] to 0.360366\n",
      " i,j = 0,0\n",
      " i,j = 0,1\n",
      " i,j = 0,2\n",
      " i,j = 0,3\n",
      " i,j = 1,1\n",
      " i,j = 1,2\n",
      " i,j = 1,3\n",
      " i,j = 2,2\n",
      " i,j = 2,3\n",
      " i,j = 3,3\n",
      "\n",
      "4x4 matrix is as follows\n",
      "\n",
      "     |      0    |      1    |      2    |      3    |\n",
      "---------------------------------------------------------\n",
      "   0 |     0.6415   -0.001065     -0.2404       0.186 \n",
      "   1 |  -0.001065      0.3595      0.1191     -0.1438 \n",
      "   2 |    -0.2404      0.1191      0.9975      0.3008 \n",
      "   3 |      0.186     -0.1438      0.3008      0.3604 \n",
      "\n",
      "\n",
      "4x4 matrix is as follows\n",
      "\n",
      "     |      0    |      1    |      2    |      3    |\n",
      "---------------------------------------------------------\n",
      "   0 |          0           1           2           3 \n",
      "   1 |          1           4           5           6 \n",
      "   2 |          2           5           7           8 \n",
      "   3 |          3           6           8           9 \n",
      "\n",
      "\n",
      "\n",
      " cov inverse.\n",
      "\n",
      "4x4 matrix is as follows\n",
      "\n",
      "     |      0    |      1    |      2    |      3    |\n",
      "---------------------------------------------------------\n",
      "   0 |      6.308      -5.593       5.136      -9.775 \n",
      "   1 |     -5.593       9.392      -5.974       11.62 \n",
      "   2 |      5.136      -5.974       5.976      -10.02 \n",
      "   3 |     -9.775       11.62      -10.02       20.82 \n",
      "\n",
      "\n",
      "\n",
      " Check of inverse\n",
      "\n",
      "4x4 matrix is as follows\n",
      "\n",
      "     |      0    |      1    |      2    |      3    |\n",
      "---------------------------------------------------------\n",
      "   0 |          1   8.882e-16           0   1.332e-15 \n",
      "   1 |  4.441e-16           1           0  -8.882e-16 \n",
      "   2 | -4.441e-16           0           1   8.882e-16 \n",
      "   3 |  4.441e-16  -8.882e-16   4.441e-16           1 \n",
      "\n"
     ]
    }
   ],
   "source": [
    "rmvg = ROOT.RooMultiVarGaussian2e(\"rmvg\",\"rmvg\", xVec, muVec, covRAL )"
   ]
  },
  {
   "cell_type": "code",
   "execution_count": null,
   "id": "e25b9c87",
   "metadata": {},
   "outputs": [],
   "source": []
  },
  {
   "cell_type": "code",
   "execution_count": null,
   "id": "4096c635",
   "metadata": {},
   "outputs": [],
   "source": []
  },
  {
   "cell_type": "code",
   "execution_count": 22,
   "id": "e375a1fe",
   "metadata": {},
   "outputs": [
    {
     "name": "stdout",
     "output_type": "stream",
     "text": [
      "  1) RooRealVar:: x0 = 0\n",
      "  2) RooRealVar:: x1 = 0\n",
      "  3) RooRealVar:: x2 = 0\n",
      "  4) RooRealVar:: x3 = 0\n"
     ]
    }
   ],
   "source": [
    "xVec.Print(\"V\")"
   ]
  },
  {
   "cell_type": "code",
   "execution_count": null,
   "id": "55eff128",
   "metadata": {},
   "outputs": [],
   "source": []
  },
  {
   "cell_type": "code",
   "execution_count": null,
   "id": "fe175341",
   "metadata": {},
   "outputs": [],
   "source": []
  },
  {
   "cell_type": "code",
   "execution_count": 23,
   "id": "34c6cec6",
   "metadata": {},
   "outputs": [],
   "source": [
    "data_test = ROOT.RooDataSet( \"data_test\", \"data_test\", ROOT.RooArgSet(xVec, weight) , ROOT.RooFit.WeightVar(\"weight\"))"
   ]
  },
  {
   "cell_type": "code",
   "execution_count": 24,
   "id": "db801f35",
   "metadata": {
    "scrolled": true
   },
   "outputs": [
    {
     "name": "stdout",
     "output_type": "stream",
     "text": [
      "         0 /   4000000  (     0)%\n",
      "     40000 /   4000000  (     1)%\n",
      "     80000 /   4000000  (     2)%\n",
      "    120000 /   4000000  (     3)%\n",
      "    160000 /   4000000  (     4)%\n",
      "    200000 /   4000000  (     5)%\n",
      "    240000 /   4000000  (     6)%\n",
      "    280000 /   4000000  (     7)%\n",
      "    320000 /   4000000  (     8)%\n",
      "    360000 /   4000000  (     9)%\n",
      "    400000 /   4000000  (    10)%\n",
      "    440000 /   4000000  (    11)%\n",
      "    480000 /   4000000  (    12)%\n",
      "    520000 /   4000000  (    13)%\n",
      "    560000 /   4000000  (    14)%\n",
      "    600000 /   4000000  (    15)%\n",
      "    640000 /   4000000  (    16)%\n",
      "    680000 /   4000000  (    17)%\n",
      "    720000 /   4000000  (    18)%\n",
      "    760000 /   4000000  (    19)%\n",
      "    800000 /   4000000  (    20)%\n",
      "    840000 /   4000000  (    21)%\n",
      "    880000 /   4000000  (    22)%\n",
      "    920000 /   4000000  (    23)%\n",
      "    960000 /   4000000  (    24)%\n",
      "   1000000 /   4000000  (    25)%\n",
      "   1040000 /   4000000  (    26)%\n",
      "   1080000 /   4000000  (    27)%\n",
      "   1120000 /   4000000  (    28)%\n",
      "   1160000 /   4000000  (    29)%\n",
      "   1200000 /   4000000  (    30)%\n",
      "   1240000 /   4000000  (    31)%\n",
      "   1280000 /   4000000  (    32)%\n",
      "   1320000 /   4000000  (    33)%\n",
      "   1360000 /   4000000  (    34)%\n",
      "   1400000 /   4000000  (    35)%\n",
      "   1440000 /   4000000  (    36)%\n",
      "   1480000 /   4000000  (    37)%\n",
      "   1520000 /   4000000  (    38)%\n",
      "   1560000 /   4000000  (    39)%\n",
      "   1600000 /   4000000  (    40)%\n",
      "   1640000 /   4000000  (    41)%\n",
      "   1680000 /   4000000  (    42)%\n",
      "   1720000 /   4000000  (    43)%\n",
      "   1760000 /   4000000  (    44)%\n",
      "   1800000 /   4000000  (    45)%\n",
      "   1840000 /   4000000  (    46)%\n",
      "   1880000 /   4000000  (    47)%\n",
      "   1920000 /   4000000  (    48)%\n",
      "   1960000 /   4000000  (    49)%\n",
      "   2000000 /   4000000  (    50)%\n",
      "   2040000 /   4000000  (    51)%\n",
      "   2080000 /   4000000  (    52)%\n",
      "   2120000 /   4000000  (    53)%\n",
      "   2160000 /   4000000  (    54)%\n",
      "   2200000 /   4000000  (    55)%\n",
      "   2240000 /   4000000  (    56)%\n",
      "   2280000 /   4000000  (    57)%\n",
      "   2320000 /   4000000  (    58)%\n",
      "   2360000 /   4000000  (    59)%\n",
      "   2400000 /   4000000  (    60)%\n",
      "   2440000 /   4000000  (    61)%\n",
      "   2480000 /   4000000  (    62)%\n",
      "   2520000 /   4000000  (    63)%\n",
      "   2560000 /   4000000  (    64)%\n",
      "   2600000 /   4000000  (    65)%\n",
      "   2640000 /   4000000  (    66)%\n",
      "   2680000 /   4000000  (    67)%\n",
      "   2720000 /   4000000  (    68)%\n",
      "   2760000 /   4000000  (    69)%\n",
      "   2800000 /   4000000  (    70)%\n",
      "   2840000 /   4000000  (    71)%\n",
      "   2880000 /   4000000  (    72)%\n",
      "   2920000 /   4000000  (    73)%\n",
      "   2960000 /   4000000  (    74)%\n",
      "   3000000 /   4000000  (    75)%\n",
      "   3040000 /   4000000  (    76)%\n",
      "   3080000 /   4000000  (    77)%\n",
      "   3120000 /   4000000  (    78)%\n",
      "   3160000 /   4000000  (    79)%\n",
      "   3200000 /   4000000  (    80)%\n",
      "   3240000 /   4000000  (    81)%\n",
      "   3280000 /   4000000  (    82)%\n",
      "   3320000 /   4000000  (    83)%\n",
      "   3360000 /   4000000  (    84)%\n",
      "   3400000 /   4000000  (    85)%\n",
      "   3440000 /   4000000  (    86)%\n",
      "   3480000 /   4000000  (    87)%\n",
      "   3520000 /   4000000  (    88)%\n",
      "   3560000 /   4000000  (    89)%\n",
      "   3600000 /   4000000  (    90)%\n",
      "   3640000 /   4000000  (    91)%\n",
      "   3680000 /   4000000  (    92)%\n",
      "   3720000 /   4000000  (    93)%\n",
      "   3760000 /   4000000  (    94)%\n",
      "   3800000 /   4000000  (    95)%\n",
      "   3840000 /   4000000  (    96)%\n",
      "   3880000 /   4000000  (    97)%\n",
      "   3920000 /   4000000  (    98)%\n",
      "   3960000 /   4000000  (    99)%\n",
      "CPU times: user 33 s, sys: 5.88 s, total: 38.9 s\n",
      "Wall time: 38.7 s\n"
     ]
    }
   ],
   "source": [
    "%%time\n",
    "\n",
    "for i in range( len(sample_weights) ) :\n",
    "    if i % (len(sample_weights)/100 ) == 0 : print( \" %9d / %9d  (%6.0f)%%\" % (i, len(sample_weights), 100*i/len(sample_weights)))\n",
    "    for j in range( ndim ) :\n",
    "        xVec[j].setVal( train_pts[i,j] )\n",
    "    weight.setVal( sample_weights[i])\n",
    "    data_test.add( ROOT.RooArgSet(xVec, weight), weight.getVal() )"
   ]
  },
  {
   "cell_type": "code",
   "execution_count": 25,
   "id": "b4ecb948",
   "metadata": {},
   "outputs": [
    {
     "data": {
      "text/plain": [
       "<cppyy.gbl.RooDataSet object at 0x55e46c00e760>"
      ]
     },
     "execution_count": 25,
     "metadata": {},
     "output_type": "execute_result"
    }
   ],
   "source": [
    "data_test"
   ]
  },
  {
   "cell_type": "code",
   "execution_count": 26,
   "id": "f8fa9294",
   "metadata": {},
   "outputs": [
    {
     "name": "stdout",
     "output_type": "stream",
     "text": [
      "DataStore data_test (data_test)\n",
      "  Contains 4000000 entries\n",
      "  Observables: \n",
      "    1)  x0 = 0.657444  L(-10 - 10)  \"x0\"\n",
      "    2)  x1 = -0.235405  L(-10 - 10)  \"x1\"\n",
      "    3)  x2 = -1.03358  L(-10 - 10)  \"x2\"\n",
      "    4)  x3 = -0.533827  L(-10 - 10)  \"x3\"\n",
      "  Dataset variable \"weight\" is interpreted as the event weight\n"
     ]
    }
   ],
   "source": [
    "data_test.Print(\"V\")"
   ]
  },
  {
   "cell_type": "code",
   "execution_count": 27,
   "id": "06503e79",
   "metadata": {},
   "outputs": [
    {
     "name": "stdout",
     "output_type": "stream",
     "text": [
      "  1) RooRealVar:: x0 = 1.3158\n",
      "  2) RooRealVar:: x1 = 0.313693\n",
      "  3) RooRealVar:: x2 = -0.320132\n",
      "  4) RooRealVar:: x3 = 0.383565\n"
     ]
    }
   ],
   "source": [
    "data_test.get(0).Print(\"V\")"
   ]
  },
  {
   "cell_type": "code",
   "execution_count": 28,
   "id": "e3bef475",
   "metadata": {},
   "outputs": [],
   "source": [
    "\n",
    "for i in range(ndim) :\n",
    "    for j in range(ndim) :\n",
    "        if ( j < i ) : continue\n",
    "        if ( i == j ) : continue\n",
    "        vname = \"cov%d%d\" % (i,j)\n",
    "        #covRAL.find(vname).setConstant()"
   ]
  },
  {
   "cell_type": "code",
   "execution_count": 29,
   "id": "1b9f3bb7",
   "metadata": {
    "scrolled": true
   },
   "outputs": [
    {
     "name": "stdout",
     "output_type": "stream",
     "text": [
      "  1) RooRealVar:: cov00 = 0.641527\n",
      "  2) RooRealVar:: cov01 = -0.0010646\n",
      "  3) RooRealVar:: cov02 = -0.240422\n",
      "  4) RooRealVar:: cov03 = 0.186005\n",
      "  5) RooRealVar:: cov11 = 0.35954\n",
      "  6) RooRealVar:: cov12 = 0.119116\n",
      "  7) RooRealVar:: cov13 = -0.14381\n",
      "  8) RooRealVar:: cov22 = 0.997474\n",
      "  9) RooRealVar:: cov23 = 0.300788\n",
      " 10) RooRealVar:: cov33 = 0.360366\n"
     ]
    }
   ],
   "source": [
    "covRAL.Print(\"V\")"
   ]
  },
  {
   "cell_type": "code",
   "execution_count": 30,
   "id": "a10f15e0",
   "metadata": {},
   "outputs": [
    {
     "data": {
      "text/plain": [
       "False"
      ]
     },
     "execution_count": 30,
     "metadata": {},
     "output_type": "execute_result"
    }
   ],
   "source": [
    "covRAL.find(\"cov00\").isConstant()"
   ]
  },
  {
   "cell_type": "code",
   "execution_count": 31,
   "id": "c081b051",
   "metadata": {},
   "outputs": [
    {
     "data": {
      "text/plain": [
       "False"
      ]
     },
     "execution_count": 31,
     "metadata": {},
     "output_type": "execute_result"
    }
   ],
   "source": [
    "covRAL.find(\"cov01\").isConstant()"
   ]
  },
  {
   "cell_type": "code",
   "execution_count": null,
   "id": "e4b7f44c",
   "metadata": {},
   "outputs": [],
   "source": []
  },
  {
   "cell_type": "code",
   "execution_count": null,
   "id": "55c87e8a",
   "metadata": {},
   "outputs": [],
   "source": []
  },
  {
   "cell_type": "code",
   "execution_count": null,
   "id": "f970de86",
   "metadata": {},
   "outputs": [],
   "source": []
  },
  {
   "cell_type": "code",
   "execution_count": 32,
   "id": "caf1c2fa",
   "metadata": {},
   "outputs": [
    {
     "name": "stdout",
     "output_type": "stream",
     "text": [
      "CPU times: user 383 ms, sys: 988 ms, total: 1.37 s\n",
      "Wall time: 48.7 s\n",
      "[#1] INFO:Minization -- RooMinimizer::optimizeConst: activating const optimization\n",
      "  copy constructor, Setting _prevCovVals[0] to 0.641527\n",
      "  copy constructor, Setting _prevCovVals[1] to -0.001065\n",
      "  copy constructor, Setting _prevCovVals[2] to -0.240422\n",
      "  copy constructor, Setting _prevCovVals[3] to 0.186005\n",
      "  copy constructor, Setting _prevCovVals[4] to 0.359540\n",
      "  copy constructor, Setting _prevCovVals[5] to 0.119116\n",
      "  copy constructor, Setting _prevCovVals[6] to -0.143810\n",
      "  copy constructor, Setting _prevCovVals[7] to 0.997474\n",
      "  copy constructor, Setting _prevCovVals[8] to 0.300788\n",
      "  copy constructor, Setting _prevCovVals[9] to 0.360366\n",
      "[#1] INFO:Eval -- RooAbsTestStatistic::initMPMode: started 28 remote server process.\n",
      " **********\n",
      " **    1 **SET PRINT           1\n",
      " **********\n",
      " **********\n",
      " **    2 **SET NOGRAD\n",
      " **********\n",
      " PARAMETER DEFINITIONS:\n",
      "    NO.   NAME         VALUE      STEP SIZE      LIMITS\n",
      "     1 cov00        6.41527e-01  1.26765e-02    5.78145e-01  7.04910e-01\n",
      "     2 cov01       -1.06460e-03  6.49383e-03   -3.35337e-02  3.14045e-02\n",
      "     3 cov02       -2.40422e-01  2.33747e-02   -3.57295e-01 -1.23548e-01\n",
      "     4 cov03        1.86005e-01  6.93166e-03    1.51347e-01  2.20664e-01\n",
      "     5 cov11        3.59540e-01  7.04922e-03    3.24294e-01  3.94786e-01\n",
      "     6 cov12        1.19116e-01  1.00537e-02    6.88481e-02  1.69385e-01\n",
      "     7 cov13       -1.43810e-01  3.55982e-03   -1.61610e-01 -1.26011e-01\n",
      "     8 cov22        9.97474e-01  3.13773e-02    8.40588e-01  1.15436e+00\n",
      "     9 cov23        3.00788e-01  7.20876e-03    2.64744e-01  3.36832e-01\n",
      "    10 cov33        3.60366e-01  4.05248e-03    3.40104e-01  3.80629e-01\n",
      "    11 mu_x0        8.05756e-01  1.40001e-02    7.35756e-01  8.75756e-01\n",
      "    12 mu_x1        9.39860e-02  6.90395e-03    5.94663e-02  1.28506e-01\n",
      "    13 mu_x2       -5.90376e-01  2.14259e-02   -6.97505e-01 -4.83247e-01\n",
      "    14 mu_x3        6.95847e-01  7.41292e-03    6.58782e-01  7.32911e-01\n",
      " **********\n",
      " **    3 **SET ERR         0.5\n",
      " **********\n",
      " **********\n",
      " **    4 **SET PRINT           1\n",
      " **********\n",
      " **********\n",
      " **    5 **SET STR           1\n",
      " **********\n",
      " NOW USING STRATEGY  1: TRY TO BALANCE SPEED AGAINST RELIABILITY\n",
      " **********\n",
      " **    6 **MIGRAD        7000           1\n",
      " **********\n",
      " FIRST CALL TO USER FUNCTION AT NEW START POINT, WITH IFLAG=4.\n",
      " START MIGRAD MINIMIZATION.  STRATEGY  1.  CONVERGENCE WHEN EDM .LT. 1.00e-03\n",
      " FCN=1.32165e+06 FROM MIGRAD    STATUS=INITIATE      128 CALLS         129 TOTAL\n",
      "                     EDM= unknown      STRATEGY= 1      NO ERROR MATRIX       \n",
      "  EXT PARAMETER               CURRENT GUESS       STEP         FIRST   \n",
      "  NO.   NAME      VALUE            ERROR          SIZE      DERIVATIVE \n",
      "   1  cov00        6.35437e-01   1.26765e-02  -9.62395e-02  -9.34601e+01\n",
      "   2  cov01       -1.06460e-03   6.49383e-03   0.00000e+00  -9.06865e+02\n",
      "   3  cov02       -2.40422e-01   2.33747e-02   0.00000e+00   3.13355e+03\n",
      "   4  cov03        1.86005e-01   6.93166e-03   0.00000e+00  -1.54520e+03\n",
      "   5  cov11        3.59540e-01   7.04922e-03   0.00000e+00   1.08570e+03\n",
      "   6  cov12        1.19116e-01   1.00537e-02   0.00000e+00  -3.00662e+03\n",
      "   7  cov13       -1.43810e-01   3.55982e-03   0.00000e+00   1.77644e+03\n",
      "   8  cov22        9.97474e-01   3.13773e-02   0.00000e+00   4.63113e+03\n",
      "   9  cov23        3.00788e-01   7.20876e-03   0.00000e+00  -3.29457e+03\n",
      "  10  cov33        3.60366e-01   4.05248e-03   0.00000e+00   1.59239e+03\n",
      "  11  mu_x0        8.05756e-01   1.40001e-02   0.00000e+00   1.79669e+02\n",
      "  12  mu_x1        9.39860e-02   6.90395e-03   0.00000e+00  -2.99959e+01\n",
      "  13  mu_x2       -5.90376e-01   2.14259e-02   0.00000e+00  -2.18053e+02\n",
      "  14  mu_x3        6.95847e-01   7.41292e-03   0.00000e+00  -1.28370e+02\n",
      "                               ERR DEF= 0.5\n",
      " MIGRAD MINIMIZATION HAS CONVERGED.\n",
      " MIGRAD WILL VERIFY CONVERGENCE AND ERROR MATRIX.\n",
      " COVARIANCE MATRIX CALCULATED SUCCESSFULLY\n",
      " FCN=1.32148e+06 FROM MIGRAD    STATUS=CONVERGED     913 CALLS         914 TOTAL\n",
      "                     EDM=0.000369882    STRATEGY= 1      ERROR MATRIX ACCURATE \n",
      "  EXT PARAMETER                                   STEP         FIRST   \n",
      "  NO.   NAME      VALUE            ERROR          SIZE      DERIVATIVE \n",
      "   1  cov00        6.42795e-01   1.54239e-03   4.28430e-03   4.49072e-01\n",
      "   2  cov01       -2.32783e-03   9.74790e-04   3.90662e-03  -4.82701e-01\n",
      "   3  cov02       -2.36826e-01   1.16384e-03   1.28241e-03   1.78694e+00\n",
      "   4  cov03        1.89264e-01   1.08671e-03   2.31274e-03  -1.38150e+00\n",
      "   5  cov11        3.60192e-01   7.84580e-04   5.18023e-03   3.63707e-01\n",
      "   6  cov12        1.20187e-01   1.24533e-03   2.48889e-03  -1.06455e+00\n",
      "   7  cov13       -1.44544e-01   5.16322e-04   3.71810e-03   3.11828e-01\n",
      "   8  cov22        9.79911e-01   2.59036e-03   1.81294e-03   6.80714e-01\n",
      "   9  cov23        2.95915e-01   1.73939e-03   2.23112e-03  -9.73519e-01\n",
      "  10  cov33        3.59206e-01   8.57109e-04   4.02798e-03   4.65301e-01\n",
      "  11  mu_x0        8.02042e-01   1.27144e-03   7.03280e-03  -9.26503e-02\n",
      "  12  mu_x1        9.41354e-02   9.51115e-04   1.16777e-02   3.88530e-02\n",
      "  13  mu_x2       -5.80839e-01   1.56714e-03   4.70075e-03  -1.12013e-01\n",
      "  14  mu_x3        6.99010e-01   9.48080e-04   7.29390e-03   1.01845e-01\n",
      "                               ERR DEF= 0.5\n",
      " EXTERNAL ERROR MATRIX.    NDIM=  25    NPAR= 14    ERR DEF=0.5\n",
      " ELEMENTS ABOVE DIAGONAL ARE NOT PRINTED.\n",
      "  2.379e-06 \n",
      " -3.668e-07  9.505e-07 \n",
      " -5.122e-07  2.234e-07  1.355e-06 \n",
      "  1.150e-06 -6.488e-07  2.790e-07  1.181e-06 \n",
      "  8.611e-08 -6.904e-08 -4.936e-08  6.836e-08  6.157e-07 \n",
      "  4.383e-07 -7.084e-07 -1.566e-07  5.931e-07  4.289e-07  1.551e-06 \n",
      " -1.798e-08  1.484e-07  6.829e-08 -6.002e-08 -1.667e-07  1.523e-07  2.667e-07 \n",
      " -9.605e-07  6.697e-07 -3.552e-07 -1.155e-06 -2.014e-07 -4.528e-07  2.589e-07  6.711e-06 \n",
      " -1.057e-06  9.053e-07  5.750e-07 -8.863e-07 -3.881e-07 -1.258e-06  9.643e-08  3.582e-06  3.028e-06 \n",
      "  2.855e-08  6.313e-08  3.742e-07  1.683e-07 -7.134e-08 -4.158e-07 -1.342e-07  1.074e-06  1.045e-06  7.351e-07 \n",
      "  6.903e-10  5.097e-11  6.342e-11 -5.446e-11 -1.193e-11 -5.205e-12  3.220e-11 -5.396e-11  1.640e-10  1.644e-10  1.617e-06 \n",
      "  3.967e-12  1.244e-11  4.799e-11  2.000e-11  3.338e-10 -3.953e-11  5.529e-12  2.369e-10  9.641e-11 -3.858e-11 -4.734e-09 \n",
      "  3.967e-12  1.244e-11  4.799e-11  2.000e-11  3.338e-10 -3.953e-11  5.529e-12  2.369e-10  9.641e-11 -3.858e-11 -4.734e-09  9.048e-07 \n",
      " -1.932e-10  1.366e-11  1.106e-10  9.936e-11  1.177e-10  5.192e-11  3.939e-11  1.098e-09 -4.367e-11  2.030e-10 -5.968e-07 \n",
      " -1.932e-10  1.366e-11  1.106e-10  9.936e-11  1.177e-10  5.192e-11  3.939e-11  1.098e-09 -4.367e-11  2.030e-10 -5.968e-07  3.029e-07  2.456e-06 \n",
      "  2.297e-10  2.644e-11  5.793e-11  1.023e-11 -1.352e-10  5.119e-11  3.593e-11  3.781e-10  9.738e-13  2.240e-10  4.749e-07 \n",
      "  2.297e-10  2.644e-11  5.793e-11  1.023e-11 -1.352e-10  5.119e-11  3.593e-11  3.781e-10  9.738e-13  2.240e-10  4.749e-07 -3.620e-07  7.387e-07  8.991e-07 \n",
      " PARAMETER  CORRELATION COEFFICIENTS  \n",
      "       NO.  GLOBAL      1      2      3      4      5      6      7      8      9     10     11     12     13     14\n",
      "        1  0.97511   1.000 -0.244 -0.285  0.686  0.071  0.228 -0.023 -0.240 -0.394  0.022  0.000  0.000 -0.000  0.000\n",
      "        2  0.98650  -0.244  1.000  0.197 -0.612 -0.090 -0.583  0.295  0.265  0.534  0.076  0.000  0.000  0.000  0.000\n",
      "        3  0.98676  -0.285  0.197  1.000  0.221 -0.054 -0.108  0.114 -0.118  0.284  0.375  0.000  0.000  0.000  0.000\n",
      "        4  0.99572   0.686 -0.612  0.221  1.000  0.080  0.438 -0.107 -0.410 -0.469  0.181 -0.000  0.000  0.000  0.000\n",
      "        5  0.95608   0.071 -0.090 -0.054  0.080  1.000  0.439 -0.411 -0.099 -0.284 -0.106 -0.000  0.000  0.000 -0.000\n",
      "        6  0.99196   0.228 -0.583 -0.108  0.438  0.439  1.000  0.237 -0.140 -0.581 -0.389 -0.000 -0.000  0.000  0.000\n",
      "        7  0.98691  -0.023  0.295  0.114 -0.107 -0.411  0.237  1.000  0.194  0.107 -0.303  0.000  0.000  0.000  0.000\n",
      "        8  0.99051  -0.240  0.265 -0.118 -0.410 -0.099 -0.140  0.194  1.000  0.795  0.484 -0.000  0.000  0.000  0.000\n",
      "        9  0.99833  -0.394  0.534  0.284 -0.469 -0.284 -0.581  0.107  0.795  1.000  0.701  0.000  0.000 -0.000  0.000\n",
      "       10  0.99280   0.022  0.076  0.375  0.181 -0.106 -0.389 -0.303  0.484  0.701  1.000  0.000 -0.000  0.000  0.000\n",
      "       11  0.87337   0.000  0.000  0.000 -0.000 -0.000 -0.000  0.000 -0.000  0.000  0.000  1.000 -0.004 -0.300  0.394\n",
      "       12  0.84558   0.000  0.000  0.000  0.000  0.000 -0.000  0.000  0.000  0.000 -0.000 -0.004  1.000  0.203 -0.401\n",
      "       13  0.91511  -0.000  0.000  0.000  0.000  0.000  0.000  0.000  0.000 -0.000  0.000 -0.300  0.203  1.000  0.497\n",
      "       14  0.93377   0.000  0.000  0.000  0.000 -0.000  0.000  0.000  0.000  0.000  0.000  0.394 -0.401  0.497  1.000\n",
      " ELEMENTS ABOVE DIAGONAL ARE NOT PRINTED.\n",
      " **********\n",
      " **    7 **SET ERR         0.5\n",
      " **********\n",
      " **********\n",
      " **    8 **SET PRINT           1\n",
      " **********\n",
      " **********\n",
      " **    9 **HESSE        7000\n",
      " **********\n",
      " COVARIANCE MATRIX CALCULATED SUCCESSFULLY\n",
      " FCN=1.32148e+06 FROM HESSE     STATUS=OK            148 CALLS        1062 TOTAL\n",
      "                     EDM=0.00029228    STRATEGY= 1      ERROR MATRIX ACCURATE \n",
      "  EXT PARAMETER                                INTERNAL      INTERNAL  \n",
      "  NO.   NAME      VALUE            ERROR       STEP SIZE       VALUE   \n",
      "   1  cov00        6.42795e-01   1.44009e-03   1.71372e-04   2.00027e-02\n",
      "   2  cov01       -2.32783e-03   7.65834e-04   1.56265e-04  -3.89152e-02\n",
      "   3  cov02       -2.36826e-01   1.30455e-03   5.12965e-05   3.07687e-02\n",
      "   4  cov03        1.89264e-01   8.23466e-04   9.25097e-05   9.41731e-02\n",
      "   5  cov11        3.60192e-01   8.05024e-04   2.07209e-04   1.85070e-02\n",
      "   6  cov12        1.20187e-01   9.65352e-04   9.95554e-05   2.13016e-02\n",
      "   7  cov13       -1.44544e-01   6.09117e-04   1.48724e-04  -4.12254e-02\n",
      "   8  cov22        9.79911e-01   2.19848e-03   7.25177e-05  -1.12183e-01\n",
      "   9  cov23        2.95915e-01   1.06283e-03   8.92447e-05  -1.35628e-01\n",
      "  10  cov33        3.59206e-01   8.03944e-04   1.61119e-04  -5.73037e-02\n",
      "  11  mu_x0        8.02042e-01   1.27130e-03   2.81312e-04  -5.30867e-02\n",
      "  12  mu_x1        9.41354e-02   9.51551e-04   2.33553e-03   4.32799e-03\n",
      "  13  mu_x2       -5.80839e-01   1.56957e-03   1.88030e-04   8.91454e-02\n",
      "  14  mu_x3        6.99010e-01   9.50201e-04   2.91756e-04   8.54651e-02\n",
      "                               ERR DEF= 0.5\n",
      " EXTERNAL ERROR MATRIX.    NDIM=  25    NPAR= 14    ERR DEF=0.5\n",
      " ELEMENTS ABOVE DIAGONAL ARE NOT PRINTED.\n",
      "  2.074e-06 \n",
      " -1.054e-08  5.866e-07 \n",
      " -7.480e-07  1.936e-07  1.702e-06 \n",
      "  6.214e-07 -2.401e-07  3.639e-07  6.782e-07 \n",
      "  9.051e-11 -2.973e-09 -2.321e-09  5.421e-10  6.482e-07 \n",
      "  6.314e-09 -2.226e-07 -7.644e-08  9.123e-08  2.228e-07  9.320e-07 \n",
      " -1.895e-09  1.698e-07  5.573e-08 -6.907e-08 -2.559e-07  2.214e-07  3.712e-07 \n",
      "  2.528e-07 -1.332e-07 -1.134e-06 -3.581e-07  6.987e-08  5.801e-07  1.799e-07  4.834e-06 \n",
      " -2.348e-07  1.521e-07  2.949e-07 -8.182e-08 -9.233e-08 -2.776e-07  3.576e-09  1.487e-06  1.130e-06 \n",
      "  1.797e-07 -1.340e-07  2.830e-07  3.398e-07  9.830e-08 -2.151e-07 -2.545e-07  4.514e-07  5.410e-07  6.467e-07 \n",
      "  1.754e-11 -1.101e-12  1.942e-13 -6.507e-12 -2.249e-12 -7.250e-12 -2.846e-12  1.001e-12  1.144e-11  9.319e-12  1.616e-06 \n",
      " -9.062e-13  1.117e-12  1.505e-12 -3.315e-13  7.334e-11  3.388e-12  2.245e-12  5.760e-12 -1.709e-12 -6.537e-12 -5.811e-09 \n",
      " -9.062e-13  1.117e-12  1.505e-12 -3.315e-13  7.334e-11  3.388e-12  2.245e-12  5.760e-12 -1.709e-12 -6.537e-12 -5.811e-09  9.057e-07 \n",
      " -5.454e-12  1.566e-12  1.003e-11  7.382e-12  2.032e-11 -7.458e-12  3.406e-15  7.682e-11  2.495e-11  2.485e-11 -5.956e-07 \n",
      " -5.454e-12  1.566e-12  1.003e-11  7.382e-12  2.032e-11 -7.458e-12  3.406e-15  7.682e-11  2.495e-11  2.485e-11 -5.956e-07  3.022e-07  2.464e-06 \n",
      "  6.178e-12 -6.764e-13  4.399e-12  1.027e-12 -3.275e-11 -9.982e-12 -2.984e-12  3.545e-11  1.990e-11  2.262e-11  4.759e-07 \n",
      "  6.178e-12 -6.764e-13  4.399e-12  1.027e-12 -3.275e-11 -9.982e-12 -2.984e-12  3.545e-11  1.990e-11  2.262e-11  4.759e-07 -3.634e-07  7.439e-07  9.031e-07 \n",
      " PARAMETER  CORRELATION COEFFICIENTS  \n",
      "       NO.  GLOBAL      1      2      3      4      5      6      7      8      9     10     11     12     13     14\n",
      "        1  0.97139   1.000 -0.010 -0.398  0.524  0.000  0.005 -0.002  0.080 -0.153  0.155  0.000 -0.000 -0.000  0.000\n",
      "        2  0.97803  -0.010  1.000  0.194 -0.381 -0.005 -0.301  0.364 -0.079  0.187 -0.218 -0.000  0.000  0.000 -0.000\n",
      "        3  0.98948  -0.398  0.194  1.000  0.339 -0.002 -0.061  0.070 -0.395  0.213  0.270  0.000  0.000  0.000  0.000\n",
      "        4  0.99253   0.524 -0.381  0.339  1.000  0.001  0.115 -0.138 -0.198 -0.093  0.513 -0.000 -0.000  0.000  0.000\n",
      "        5  0.95833   0.000 -0.005 -0.002  0.001  1.000  0.287 -0.522  0.039 -0.108  0.152 -0.000  0.000  0.000 -0.000\n",
      "        6  0.98659   0.005 -0.301 -0.061  0.115  0.287  1.000  0.376  0.273 -0.271 -0.277 -0.000  0.000 -0.000 -0.000\n",
      "        7  0.99061  -0.002  0.364  0.070 -0.138 -0.522  0.376  1.000  0.134  0.006 -0.519 -0.000  0.000  0.000 -0.000\n",
      "        8  0.98680   0.080 -0.079 -0.395 -0.198  0.039  0.273  0.134  1.000  0.636  0.255  0.000  0.000  0.000  0.000\n",
      "        9  0.99553  -0.153  0.187  0.213 -0.093 -0.108 -0.271  0.006  0.636  1.000  0.633  0.000 -0.000  0.000  0.000\n",
      "       10  0.99181   0.155 -0.218  0.270  0.513  0.152 -0.277 -0.519  0.255  0.633  1.000  0.000 -0.000  0.000  0.000\n",
      "       11  0.87334   0.000 -0.000  0.000 -0.000 -0.000 -0.000 -0.000  0.000  0.000  0.000  1.000 -0.005 -0.298  0.394\n",
      "       12  0.84574  -0.000  0.000  0.000 -0.000  0.000  0.000  0.000  0.000 -0.000 -0.000 -0.005  1.000  0.202 -0.402\n",
      "       13  0.91539  -0.000  0.000  0.000  0.000  0.000 -0.000  0.000  0.000  0.000  0.000 -0.298  0.202  1.000  0.499\n",
      "       14  0.93408   0.000 -0.000  0.000  0.000 -0.000 -0.000 -0.000  0.000  0.000  0.000  0.394 -0.402  0.499  1.000\n",
      " ELEMENTS ABOVE DIAGONAL ARE NOT PRINTED.\n",
      "[#1] INFO:Minization -- RooMinimizer::optimizeConst: deactivating const optimization\n"
     ]
    }
   ],
   "source": [
    "%%time\n",
    "\n",
    "rfr = rmvg.fitTo( data_test, ROOT.RooFit.SumW2Error(False), ROOT.RooFit.Save(True), ROOT.RooFit.NumCPU(28))\n",
    "\n"
   ]
  },
  {
   "cell_type": "code",
   "execution_count": null,
   "id": "bf78f504",
   "metadata": {},
   "outputs": [],
   "source": []
  },
  {
   "cell_type": "code",
   "execution_count": 33,
   "id": "ddcf110a",
   "metadata": {},
   "outputs": [
    {
     "name": "stdout",
     "output_type": "stream",
     "text": [
      "  1) RooRealVar:: cov00 = 0.642795 +/- 0.00144009\n",
      "  2) RooRealVar:: cov01 = -0.00232783 +/- 0.000765834\n",
      "  3) RooRealVar:: cov02 = -0.236826 +/- 0.00130455\n",
      "  4) RooRealVar:: cov03 = 0.189264 +/- 0.000823466\n",
      "  5) RooRealVar:: cov11 = 0.360192 +/- 0.000805024\n",
      "  6) RooRealVar:: cov12 = 0.120187 +/- 0.000965352\n",
      "  7) RooRealVar:: cov13 = -0.144544 +/- 0.000609117\n",
      "  8) RooRealVar:: cov22 = 0.979911 +/- 0.00219848\n",
      "  9) RooRealVar:: cov23 = 0.295915 +/- 0.00106283\n",
      " 10) RooRealVar:: cov33 = 0.359206 +/- 0.000803944\n"
     ]
    }
   ],
   "source": [
    "covRAL.Print(\"V\")"
   ]
  },
  {
   "cell_type": "code",
   "execution_count": null,
   "id": "adb00363",
   "metadata": {},
   "outputs": [],
   "source": []
  },
  {
   "cell_type": "code",
   "execution_count": 34,
   "id": "a24e36cd",
   "metadata": {},
   "outputs": [
    {
     "name": "stdout",
     "output_type": "stream",
     "text": [
      "   0 :  mu =   0.8020   (true   0.8000) err   0.0013  diff   0.0020   diff/err   1.61\n",
      "   1 :  mu =   0.0941   (true   0.1000) err   0.0010  diff  -0.0059   diff/err  -6.16\n",
      "   2 :  mu =  -0.5808   (true  -0.6000) err   0.0016  diff   0.0192   diff/err  12.21\n",
      "   3 :  mu =   0.6990   (true   0.7000) err   0.0010  diff  -0.0010   diff/err  -1.04\n",
      "\n",
      "\n",
      "  0,  0 :  cov    0.6428  (true   0.6400) err   0.0014  diff   0.0028   diff/err   1.94\n",
      "  0,  1 :  cov   -0.0023  (true   0.0000) err   0.0008  diff  -0.0023   diff/err  -3.04\n",
      "  0,  2 :  cov   -0.2368  (true  -0.2400) err   0.0013  diff   0.0032   diff/err   2.43\n",
      "  0,  3 :  cov    0.1893  (true   0.1920) err   0.0008  diff  -0.0027   diff/err  -3.32\n",
      "  1,  1 :  cov    0.3602  (true   0.3600) err   0.0008  diff   0.0002   diff/err   0.24\n",
      "  1,  2 :  cov    0.1202  (true   0.1200) err   0.0010  diff   0.0002   diff/err   0.19\n",
      "  1,  3 :  cov   -0.1445  (true  -0.1440) err   0.0006  diff  -0.0005   diff/err  -0.89\n",
      "  2,  2 :  cov    0.9799  (true   1.0000) err   0.0022  diff  -0.0201   diff/err  -9.14\n",
      "  2,  3 :  cov    0.2959  (true   0.3000) err   0.0011  diff  -0.0041   diff/err  -3.84\n",
      "  3,  3 :  cov    0.3592  (true   0.3600) err   0.0008  diff  -0.0008   diff/err  -0.99\n"
     ]
    }
   ],
   "source": [
    "for i in range(ndim) :\n",
    "    fit_mean = muDict[\"mu_x%d\" % i].getVal()\n",
    "    fit_mean_err = muDict[\"mu_x%d\" % i].getError()\n",
    "    print(\"  %2d :  mu = %8.4f   (true %8.4f) err %8.4f  diff %8.4f   diff/err  %5.2f\" % \n",
    "          (i, fit_mean, true_mu[i], fit_mean_err, (fit_mean-true_mu[i]), (fit_mean-true_mu[i])/fit_mean_err) )\n",
    "\n",
    "print(\"\\n\")\n",
    "\n",
    "for i in range(ndim) :\n",
    "    for j in range(ndim) :\n",
    "        if ( j < i ) : continue\n",
    "        fit_cov = covdict[\"cov%d%d\" % (i,j)].getVal()\n",
    "        fit_cov_err = covdict[\"cov%d%d\" % (i,j)].getError()\n",
    "        print(\" %2d, %2d :  cov  %8.4f  (true %8.4f) err %8.4f  diff %8.4f   diff/err  %5.2f\" % \n",
    "              (i,j, fit_cov, true_cov[i][j], fit_cov_err, \n",
    "               (fit_cov-true_cov[i][j]), (fit_cov-true_cov[i][j])/fit_cov_err)  )"
   ]
  },
  {
   "cell_type": "code",
   "execution_count": null,
   "id": "e48bc7a6",
   "metadata": {},
   "outputs": [],
   "source": []
  },
  {
   "cell_type": "code",
   "execution_count": 35,
   "id": "b76ce67d",
   "metadata": {},
   "outputs": [],
   "source": [
    "def calc_mean_cov( weights, fi1, fi2 ) :\n",
    "\n",
    "    return_dict = {}\n",
    "    \n",
    "    wsum = np.sum( weights )\n",
    "    \n",
    "    wx1 = np.sum( weights * train_pts[:,fi1] )\n",
    "    wx2 = np.sum( weights * train_pts[:,fi2] )\n",
    "    wx1x2 = np.sum( weights * train_pts[:,fi1] * train_pts[:,fi2] )\n",
    "\n",
    "    x1 = wx1 / wsum\n",
    "    x2 = wx2 / wsum\n",
    "\n",
    "    x1x2 = wx1x2 / wsum\n",
    "    \n",
    "    cov12 = x1x2 - x1*x2\n",
    "\n",
    "    \n",
    "    return_dict[\"mean_x1\"] = x1\n",
    "    return_dict[\"mean_x2\"] = x2\n",
    "    return_dict[\"cov_x1x2\"] = cov12    \n",
    "    \n",
    "    if fi1 != fi2 :\n",
    "        wx1x1 = np.sum( weights * train_pts[:,fi1] * train_pts[:,fi1] )\n",
    "        wx2x2 = np.sum( weights * train_pts[:,fi2] * train_pts[:,fi2] )\n",
    "        cov11 = wx1x1 / wsum - x1*x1\n",
    "        cov22 = wx2x2 / wsum - x2*x2\n",
    "\n",
    "        rms1 = np.sqrt(cov11)\n",
    "        rms2 = np.sqrt(cov22)\n",
    "        rho12 = cov12 / (rms1*rms2)     \n",
    "    \n",
    "        return_dict[\"rho12\"] = rho12\n",
    "        return_dict[\"rms1\"] = rms1\n",
    "        return_dict[\"rms2\"] = rms2\n",
    "    else :\n",
    "        rms1 = np.sqrt(cov12)\n",
    "        return_dict[\"rms1\"] = rms1\n",
    "        \n",
    "    return return_dict\n",
    "\n"
   ]
  },
  {
   "cell_type": "code",
   "execution_count": null,
   "id": "222adfdf",
   "metadata": {},
   "outputs": [],
   "source": []
  },
  {
   "cell_type": "code",
   "execution_count": 36,
   "id": "b68a9234",
   "metadata": {},
   "outputs": [
    {
     "name": "stdout",
     "output_type": "stream",
     "text": [
      "  0 0  :  mean =   0.8054, RMS =   0.8021, cov =   0.6434\n",
      "  0 1  :  rho =  -0.0052,  cov =  -0.0025\n",
      "  0 2  :  rho =  -0.3033,  cov =  -0.2420\n",
      "  0 3  :  rho =   0.3923,  cov =   0.1882\n",
      "  1 1  :  mean =   0.0939, RMS =   0.5990, cov =   0.3588\n",
      "  1 2  :  rho =   0.2018,  cov =   0.1202\n",
      "  1 3  :  rho =  -0.4017,  cov =  -0.1439\n",
      "  2 2  :  mean =  -0.5884, RMS =   0.9945, cov =   0.9891\n",
      "  2 3  :  rho =   0.4961,  cov =   0.2951\n",
      "  3 3  :  mean =   0.6989, RMS =   0.5982, cov =   0.3578\n"
     ]
    }
   ],
   "source": [
    "simple_calc_mean = np.zeros( shape=(ndim) )\n",
    "simple_calc_rms = np.zeros( shape=(ndim) )\n",
    "simple_calc_cov = np.zeros( shape=(ndim,ndim) )\n",
    "simple_calc_rho = np.zeros( shape=(ndim,ndim) )\n",
    "\n",
    "            \n",
    "for fi1 in range(ndim) :\n",
    "    for fi2 in range(fi1,ndim) :\n",
    "        mean_cov = calc_mean_cov( sample_weights, fi1, fi2 )\n",
    "        simple_calc_cov[fi1,fi2] = mean_cov[\"cov_x1x2\"]\n",
    "        simple_calc_cov[fi2,fi1] = mean_cov[\"cov_x1x2\"]\n",
    "        if ( fi1 == fi2 ) :\n",
    "            print( \"  %d %d  :  mean = %8.4f, RMS = %8.4f, cov = %8.4f\" % \n",
    "                   (fi1, fi2, mean_cov[\"mean_x1\"], mean_cov[\"rms1\"], mean_cov[\"cov_x1x2\"]))\n",
    "            simple_calc_mean[fi1] = mean_cov[\"mean_x1\"]\n",
    "            simple_calc_rms[fi1] = mean_cov[\"rms1\"]\n",
    "        else :\n",
    "            print( \"  %d %d  :  rho = %8.4f,  cov = %8.4f\" %\n",
    "                    (fi1, fi2, mean_cov[\"rho12\"], mean_cov[\"cov_x1x2\"]) )\n",
    "            simple_calc_rho[fi1,fi2] = mean_cov[\"rho12\"]\n",
    "            simple_calc_rho[fi2,fi1] = mean_cov[\"rho12\"]\n",
    "                        \n"
   ]
  },
  {
   "cell_type": "code",
   "execution_count": null,
   "id": "ad869151",
   "metadata": {},
   "outputs": [],
   "source": []
  },
  {
   "cell_type": "code",
   "execution_count": 37,
   "id": "62d083b4",
   "metadata": {},
   "outputs": [
    {
     "name": "stdout",
     "output_type": "stream",
     "text": [
      "   0 :  mu =   0.8020   (simple calc   0.8054) err   0.0013  diff  -0.003329   diff/err  -2.62\n",
      "   1 :  mu =   0.0941   (simple calc   0.0939) err   0.0010  diff   0.000197   diff/err   0.21\n",
      "   2 :  mu =  -0.5808   (simple calc  -0.5884) err   0.0016  diff   0.007581   diff/err   4.83\n",
      "   3 :  mu =   0.6990   (simple calc   0.6989) err   0.0010  diff   0.000128   diff/err   0.13\n",
      "\n",
      "\n",
      "  0,  0 :  cov    0.6428  (simple calc   0.6434) err   0.0014  diff  -0.000648   diff/err  -0.45\n",
      "  0,  1 :  cov   -0.0023  (simple calc  -0.0025) err   0.0008  diff   0.000193   diff/err   0.25\n",
      "  0,  2 :  cov   -0.2368  (simple calc  -0.2420) err   0.0013  diff   0.005148   diff/err   3.95\n",
      "  0,  3 :  cov    0.1893  (simple calc   0.1882) err   0.0008  diff   0.001044   diff/err   1.27\n",
      "  1,  1 :  cov    0.3602  (simple calc   0.3588) err   0.0008  diff   0.001355   diff/err   1.68\n",
      "  1,  2 :  cov    0.1202  (simple calc   0.1202) err   0.0010  diff  -0.000039   diff/err  -0.04\n",
      "  1,  3 :  cov   -0.1445  (simple calc  -0.1439) err   0.0006  diff  -0.000612   diff/err  -1.00\n",
      "  2,  2 :  cov    0.9799  (simple calc   0.9891) err   0.0022  diff  -0.009188   diff/err  -4.18\n",
      "  2,  3 :  cov    0.2959  (simple calc   0.2951) err   0.0011  diff   0.000782   diff/err   0.74\n",
      "  3,  3 :  cov    0.3592  (simple calc   0.3578) err   0.0008  diff   0.001401   diff/err   1.74\n"
     ]
    }
   ],
   "source": [
    "for i in range(ndim) :\n",
    "    fit_mean = muDict[\"mu_x%d\" % i].getVal()\n",
    "    fit_mean_err = muDict[\"mu_x%d\" % i].getError()\n",
    "    print(\"  %2d :  mu = %8.4f   (simple calc %8.4f) err %8.4f  diff %10.6f   diff/err  %5.2f\" % \n",
    "          (i, fit_mean, simple_calc_mean[i], fit_mean_err, \n",
    "           (fit_mean-simple_calc_mean[i]), (fit_mean-simple_calc_mean[i])/fit_mean_err) )\n",
    "\n",
    "print(\"\\n\")\n",
    "\n",
    "for i in range(ndim) :\n",
    "    for j in range(ndim) :\n",
    "        if ( j < i ) : continue\n",
    "        fit_cov = covdict[\"cov%d%d\" % (i,j)].getVal()\n",
    "        fit_cov_err = covdict[\"cov%d%d\" % (i,j)].getError()\n",
    "        print(\" %2d, %2d :  cov  %8.4f  (simple calc %8.4f) err %8.4f  diff %10.6f   diff/err  %5.2f\" % \n",
    "              (i,j, fit_cov, simple_calc_cov[i][j], fit_cov_err, \n",
    "               (fit_cov-simple_calc_cov[i][j]), (fit_cov-simple_calc_cov[i][j])/fit_cov_err)  )"
   ]
  },
  {
   "cell_type": "code",
   "execution_count": null,
   "id": "e2b937cd",
   "metadata": {},
   "outputs": [],
   "source": []
  },
  {
   "cell_type": "code",
   "execution_count": 38,
   "id": "28bdc281",
   "metadata": {},
   "outputs": [
    {
     "name": "stdout",
     "output_type": "stream",
     "text": [
      "\n",
      "\n",
      "\n",
      "  weights range:  7.99508e-11  to 516.515299\n",
      "  feature 0 range:  -3.700986 to 6.363016\n",
      "  feature 1 range:  -3.703591 to 3.748888\n",
      "  feature 2 range:  -6.281835 to 4.933405\n",
      "  feature 3 range:  -3.816846 to 4.614540\n",
      "\n",
      "\n",
      "\n"
     ]
    }
   ],
   "source": [
    "print('\\n\\n')\n",
    "print('  weights range:  %g  to %f' % (np.min(sample_weights), np.max(sample_weights)))\n",
    "for fi in range(ndim) :\n",
    "    print('  feature %d range:  %f to %f' % (fi, np.min(train_pts[:,fi]), np.max(train_pts[:,fi])))\n",
    "print('\\n\\n')"
   ]
  },
  {
   "cell_type": "code",
   "execution_count": 39,
   "id": "b18cc838",
   "metadata": {},
   "outputs": [
    {
     "data": {
      "text/plain": [
       "<function matplotlib.pyplot.show(close=None, block=None)>"
      ]
     },
     "execution_count": 39,
     "metadata": {},
     "output_type": "execute_result"
    },
    {
     "data": {
      "image/png": "[encoded data removed]",
      "text/plain": [
       "<Figure size 432x288 with 1 Axes>"
      ]
     },
     "metadata": {
      "needs_background": "light"
     },
     "output_type": "display_data"
    }
   ],
   "source": [
    "plt.hist(np.log10(sample_weights),bins=60)\n",
    "plt.show"
   ]
  },
  {
   "cell_type": "code",
   "execution_count": 40,
   "id": "89143fe7",
   "metadata": {},
   "outputs": [
    {
     "data": {
      "text/plain": [
       "<function matplotlib.pyplot.show(close=None, block=None)>"
      ]
     },
     "execution_count": 40,
     "metadata": {},
     "output_type": "execute_result"
    },
    {
     "data": {
      "image/png": "[encoded data removed]",
      "text/plain": [
       "<Figure size 432x288 with 1 Axes>"
      ]
     },
     "metadata": {
      "needs_background": "light"
     },
     "output_type": "display_data"
    }
   ],
   "source": [
    "plt.hist(np.log10(sample_weights),bins=60)\n",
    "ax = plt.gca()\n",
    "ax.set_yscale('log')\n",
    "plt.show"
   ]
  },
  {
   "cell_type": "code",
   "execution_count": null,
   "id": "b352efb8",
   "metadata": {},
   "outputs": [],
   "source": []
  }
 ],
 "metadata": {
  "kernelspec": {
   "display_name": "Python 3 (ipykernel)",
   "language": "python",
   "name": "python3"
  },
  "language_info": {
   "codemirror_mode": {
    "name": "ipython",
    "version": 3
   },
   "file_extension": ".py",
   "mimetype": "text/x-python",
   "name": "python",
   "nbconvert_exporter": "python",
   "pygments_lexer": "ipython3",
   "version": "3.10.12"
  }
 },
 "nbformat": 4,
 "nbformat_minor": 5
}
