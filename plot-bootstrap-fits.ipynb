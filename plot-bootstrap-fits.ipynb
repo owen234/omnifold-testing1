{
 "cells": [
  {
   "cell_type": "code",
   "execution_count": 1,
   "id": "ffee1bf1",
   "metadata": {},
   "outputs": [],
   "source": [
    "import matplotlib.pyplot as plt\n",
    "import numpy as np\n",
    "\n",
    "import time\n",
    "\n",
    "import sys\n",
    "import os\n",
    "\n",
    "from datetime import datetime\n",
    "import subprocess\n",
    "\n",
    "from os.path import exists\n",
    "\n",
    "import read_config_utils as cu\n",
    "\n",
    "from pathlib import Path\n"
   ]
  },
  {
   "cell_type": "code",
   "execution_count": 2,
   "id": "ffa084d7",
   "metadata": {},
   "outputs": [],
   "source": [
    "base_dir = 'output-files-bootstrap-test6b-6d'"
   ]
  },
  {
   "cell_type": "code",
   "execution_count": 3,
   "id": "2d1db9b6",
   "metadata": {},
   "outputs": [],
   "source": [
    "input_dir = '%s/fit-results' % base_dir"
   ]
  },
  {
   "cell_type": "code",
   "execution_count": 4,
   "id": "4591ae2d",
   "metadata": {},
   "outputs": [],
   "source": [
    "pathlist = Path(input_dir).glob('**/fit-boot*.npy')"
   ]
  },
  {
   "cell_type": "code",
   "execution_count": 5,
   "id": "42c3add1",
   "metadata": {},
   "outputs": [
    {
     "data": {
      "text/plain": [
       "<generator object Path.glob at 0x7f9bfc6a1850>"
      ]
     },
     "execution_count": 5,
     "metadata": {},
     "output_type": "execute_result"
    }
   ],
   "source": [
    "pathlist"
   ]
  },
  {
   "cell_type": "code",
   "execution_count": 6,
   "id": "7ac64826",
   "metadata": {},
   "outputs": [
    {
     "name": "stdout",
     "output_type": "stream",
     "text": [
      "output-files-bootstrap-test6b-6d/fit-results/fit-bootstrap-weights-021.npy\n",
      "shape (6,)\n",
      "\n",
      " found 50 bootstrap fits.  ndim = 6\n",
      "\n"
     ]
    }
   ],
   "source": [
    "n_fits = 0\n",
    "ndim = 0\n",
    "pathlist = Path(input_dir).glob('**/fit-boot*.npy')\n",
    "for path in pathlist :\n",
    "    if n_fits == 0 :\n",
    "        input_file = str(path)\n",
    "        print( '%s' % input_file )\n",
    "        with open( input_file, 'rb' ) as f :\n",
    "            fit_results_mean_val = np.load(f)      \n",
    "        ndim = fit_results_mean_val.shape[0]\n",
    "        print('shape %s' % str(fit_results_mean_val.shape))\n",
    "    # print( '%s' % str(path))\n",
    "    n_fits = n_fits + 1\n",
    "    \n",
    "        \n",
    "print(\"\\n found %d bootstrap fits.  ndim = %d\\n\" % (n_fits, ndim) )"
   ]
  },
  {
   "cell_type": "code",
   "execution_count": 7,
   "id": "a6d53be0",
   "metadata": {},
   "outputs": [],
   "source": [
    "all_fit_results_mean_val = np.zeros( shape=(ndim, n_fits ) )\n",
    "all_fit_results_mean_err = np.zeros( shape=(ndim, n_fits ) )\n",
    "all_fit_results_cov_val = np.zeros( shape=(ndim, ndim, n_fits ) )\n",
    "all_fit_results_cov_err = np.zeros( shape=(ndim, ndim, n_fits ) )"
   ]
  },
  {
   "cell_type": "code",
   "execution_count": 8,
   "id": "2e4abaa9",
   "metadata": {
    "scrolled": true
   },
   "outputs": [],
   "source": [
    "#pathlist = Path(input_dir).glob('**/fit-boot*.npy')\n",
    "#fi = 0\n",
    "#for path in pathlist :\n",
    "#    input_file = str(path)\n",
    "#    print( '%s' % input_file )\n",
    "#    with open( input_file, 'rb' ) as f :\n",
    "#        fit_results_mean_val = np.load(f)\n",
    "#        fit_results_mean_err = np.load(f)\n",
    "#        fit_results_cov_val = np.load(f)\n",
    "#        fit_results_cov_err = np.load(f)\n",
    "#    print(fit_results_mean_val)\n",
    "#    all_fit_results_mean_val[:,fi] = fit_results_mean_val\n",
    "#    all_fit_results_mean_err[:,fi] = fit_results_mean_err\n",
    "#    all_fit_results_cov_val[:,:,fi] = fit_results_cov_val\n",
    "#    all_fit_results_cov_err[:,:,fi] = fit_results_cov_err\n",
    "#    fi = fi + 1"
   ]
  },
  {
   "cell_type": "code",
   "execution_count": null,
   "id": "58365bc9",
   "metadata": {},
   "outputs": [],
   "source": []
  },
  {
   "cell_type": "code",
   "execution_count": 9,
   "id": "a1661011",
   "metadata": {},
   "outputs": [
    {
     "name": "stdout",
     "output_type": "stream",
     "text": [
      "output-files-bootstrap-test6b-6d/fit-results/fit-bootstrap-weights-000.npy\n",
      "[ 0.80079333  0.10038667 -0.60384716  0.6987156  -0.80255407  0.09366647]\n",
      "output-files-bootstrap-test6b-6d/fit-results/fit-bootstrap-weights-001.npy\n",
      "[ 0.79853218  0.10162968 -0.60288977  0.70025171 -0.80479689  0.09001479]\n",
      "output-files-bootstrap-test6b-6d/fit-results/fit-bootstrap-weights-002.npy\n",
      "[ 0.80030448  0.10196455 -0.60148769  0.70056557 -0.80164687  0.09618187]\n",
      "output-files-bootstrap-test6b-6d/fit-results/fit-bootstrap-weights-003.npy\n",
      "[ 0.79921402  0.09939437 -0.60519945  0.70146158 -0.79816567  0.09691784]\n",
      "output-files-bootstrap-test6b-6d/fit-results/fit-bootstrap-weights-004.npy\n",
      "[ 0.80026079  0.10089673 -0.60417221  0.70228575 -0.79639194  0.09482374]\n",
      "output-files-bootstrap-test6b-6d/fit-results/fit-bootstrap-weights-005.npy\n",
      "[ 0.79975017  0.10249963 -0.6028425   0.69982053 -0.79724926  0.10050611]\n",
      "output-files-bootstrap-test6b-6d/fit-results/fit-bootstrap-weights-006.npy\n",
      "[ 0.79896494  0.10118139 -0.5984976   0.70121965 -0.80215066  0.09898885]\n",
      "output-files-bootstrap-test6b-6d/fit-results/fit-bootstrap-weights-007.npy\n",
      "[ 0.80134277  0.10170632 -0.60024704  0.7004402  -0.80154992  0.09529227]\n",
      "output-files-bootstrap-test6b-6d/fit-results/fit-bootstrap-weights-008.npy\n",
      "[ 0.79755627  0.10054458 -0.60283426  0.70075676 -0.79968391  0.09560313]\n",
      "output-files-bootstrap-test6b-6d/fit-results/fit-bootstrap-weights-009.npy\n",
      "[ 0.79958114  0.10068483 -0.60552397  0.69990725 -0.79824565  0.09613435]\n",
      "output-files-bootstrap-test6b-6d/fit-results/fit-bootstrap-weights-010.npy\n",
      "[ 0.79980208  0.10259046 -0.60059539  0.70112906 -0.79831461  0.10033998]\n",
      "output-files-bootstrap-test6b-6d/fit-results/fit-bootstrap-weights-011.npy\n",
      "[ 0.80094219  0.10255045 -0.59874533  0.6995502  -0.80102114  0.10159352]\n",
      "output-files-bootstrap-test6b-6d/fit-results/fit-bootstrap-weights-012.npy\n",
      "[ 0.80213641  0.10036785 -0.60150851  0.70236309 -0.79745776  0.09881429]\n",
      "output-files-bootstrap-test6b-6d/fit-results/fit-bootstrap-weights-013.npy\n",
      "[ 0.79491759  0.10331753 -0.60258044  0.70013388 -0.80603427  0.0932339 ]\n",
      "output-files-bootstrap-test6b-6d/fit-results/fit-bootstrap-weights-014.npy\n",
      "[ 0.79826739  0.09998873 -0.60367957  0.69820724 -0.80120516  0.09429238]\n",
      "output-files-bootstrap-test6b-6d/fit-results/fit-bootstrap-weights-015.npy\n",
      "[ 0.79865763  0.10156307 -0.60469953  0.69914544 -0.79584283  0.10119581]\n",
      "output-files-bootstrap-test6b-6d/fit-results/fit-bootstrap-weights-016.npy\n",
      "[ 0.79499466  0.10032248 -0.60625311  0.701452   -0.79724187  0.09889537]\n",
      "output-files-bootstrap-test6b-6d/fit-results/fit-bootstrap-weights-017.npy\n",
      "[ 0.80174484  0.10227152 -0.60350461  0.69988597 -0.7988341   0.09644858]\n",
      "output-files-bootstrap-test6b-6d/fit-results/fit-bootstrap-weights-018.npy\n",
      "[ 0.79933919  0.10313208 -0.60206419  0.7006326  -0.79976729  0.09627791]\n",
      "output-files-bootstrap-test6b-6d/fit-results/fit-bootstrap-weights-019.npy\n",
      "[ 0.79607783  0.10022119 -0.60627102  0.70089975 -0.79885764  0.09754224]\n",
      "output-files-bootstrap-test6b-6d/fit-results/fit-bootstrap-weights-020.npy\n",
      "[ 0.79728739  0.10173719 -0.60207386  0.70094112 -0.80068621  0.09720509]\n",
      "output-files-bootstrap-test6b-6d/fit-results/fit-bootstrap-weights-021.npy\n",
      "[ 0.79843063  0.09991086 -0.59954743  0.70094396 -0.80247251  0.09803196]\n",
      "output-files-bootstrap-test6b-6d/fit-results/fit-bootstrap-weights-022.npy\n",
      "[ 0.79939924  0.10024107 -0.6008873   0.69827817 -0.8029785   0.09785455]\n",
      "output-files-bootstrap-test6b-6d/fit-results/fit-bootstrap-weights-023.npy\n",
      "[ 0.80029145  0.10122366 -0.59612033  0.70123944 -0.80078716  0.09927319]\n",
      "output-files-bootstrap-test6b-6d/fit-results/fit-bootstrap-weights-024.npy\n",
      "[ 0.79532806  0.10023323 -0.60491984  0.70137039 -0.79291935  0.0940312 ]\n",
      "output-files-bootstrap-test6b-6d/fit-results/fit-bootstrap-weights-025.npy\n",
      "[ 0.80087195  0.10353216 -0.600201    0.69914003 -0.79881442  0.09863054]\n",
      "output-files-bootstrap-test6b-6d/fit-results/fit-bootstrap-weights-026.npy\n",
      "[ 0.79699456  0.10024682 -0.60364824  0.70075112 -0.79975584  0.0979753 ]\n",
      "output-files-bootstrap-test6b-6d/fit-results/fit-bootstrap-weights-027.npy\n",
      "[ 0.79967861  0.10025915 -0.6041597   0.69942166 -0.79859208  0.09623584]\n",
      "output-files-bootstrap-test6b-6d/fit-results/fit-bootstrap-weights-028.npy\n",
      "[ 0.79910853  0.10125113 -0.60241546  0.70197856 -0.79881683  0.09856251]\n",
      "output-files-bootstrap-test6b-6d/fit-results/fit-bootstrap-weights-029.npy\n",
      "[ 0.79773234  0.10324802 -0.60192756  0.70038629 -0.80113481  0.09657245]\n",
      "output-files-bootstrap-test6b-6d/fit-results/fit-bootstrap-weights-030.npy\n",
      "[ 0.79759728  0.10193845 -0.59812127  0.70033355 -0.79907521  0.09936203]\n",
      "output-files-bootstrap-test6b-6d/fit-results/fit-bootstrap-weights-031.npy\n",
      "[ 0.80009163  0.0986171  -0.60217638  0.69935448 -0.80134068  0.0967069 ]\n",
      "output-files-bootstrap-test6b-6d/fit-results/fit-bootstrap-weights-032.npy\n",
      "[ 0.79859443  0.10011071 -0.60515147  0.70022073 -0.7974114   0.09682592]\n",
      "output-files-bootstrap-test6b-6d/fit-results/fit-bootstrap-weights-033.npy\n",
      "[ 0.79701463  0.1007694  -0.60087233  0.70028122 -0.79767875  0.10252073]\n",
      "output-files-bootstrap-test6b-6d/fit-results/fit-bootstrap-weights-034.npy\n",
      "[ 0.79570256  0.1034692  -0.60293909  0.70067019 -0.7995952   0.09451308]\n",
      "output-files-bootstrap-test6b-6d/fit-results/fit-bootstrap-weights-035.npy\n",
      "[ 0.79930764  0.10232559 -0.59886701  0.70108887 -0.79935737  0.09870178]\n",
      "output-files-bootstrap-test6b-6d/fit-results/fit-bootstrap-weights-036.npy\n",
      "[ 0.79843817  0.09855363 -0.60112708  0.70161747 -0.80103262  0.09624823]\n",
      "output-files-bootstrap-test6b-6d/fit-results/fit-bootstrap-weights-037.npy\n",
      "[ 0.79832616  0.09958449 -0.60249971  0.70076365 -0.79425866  0.10325806]\n",
      "output-files-bootstrap-test6b-6d/fit-results/fit-bootstrap-weights-038.npy\n",
      "[ 0.79496659  0.10102441 -0.60508848  0.70146405 -0.80208804  0.09415594]\n",
      "output-files-bootstrap-test6b-6d/fit-results/fit-bootstrap-weights-039.npy\n",
      "[ 0.79570958  0.09891213 -0.60198759  0.70145236 -0.79965537  0.09600728]\n",
      "output-files-bootstrap-test6b-6d/fit-results/fit-bootstrap-weights-040.npy\n",
      "[ 0.79693594  0.09894584 -0.60369106  0.69999943 -0.80007281  0.09835219]\n",
      "output-files-bootstrap-test6b-6d/fit-results/fit-bootstrap-weights-041.npy\n",
      "[ 0.79914488  0.09931295 -0.60457002  0.70114116 -0.797875    0.09944833]\n",
      "output-files-bootstrap-test6b-6d/fit-results/fit-bootstrap-weights-042.npy\n",
      "[ 0.7996892   0.10184696 -0.60057769  0.69923683 -0.7990317   0.10050626]\n",
      "output-files-bootstrap-test6b-6d/fit-results/fit-bootstrap-weights-043.npy\n",
      "[ 0.79787538  0.09992013 -0.603496    0.69978533 -0.80471005  0.09422101]\n",
      "output-files-bootstrap-test6b-6d/fit-results/fit-bootstrap-weights-044.npy\n",
      "[ 0.79779143  0.10403742 -0.60244252  0.70149056 -0.79927899  0.10057427]\n",
      "output-files-bootstrap-test6b-6d/fit-results/fit-bootstrap-weights-045.npy\n",
      "[ 0.79904384  0.10005125 -0.60242263  0.70013243 -0.80146689  0.09752869]\n",
      "output-files-bootstrap-test6b-6d/fit-results/fit-bootstrap-weights-046.npy\n",
      "[ 0.79925441  0.10184138 -0.59950531  0.70220778 -0.79993307  0.10001634]\n",
      "output-files-bootstrap-test6b-6d/fit-results/fit-bootstrap-weights-047.npy\n",
      "[ 0.79828708  0.10084141 -0.6010535   0.69969492 -0.80088214  0.09921489]\n",
      "output-files-bootstrap-test6b-6d/fit-results/fit-bootstrap-weights-048.npy\n",
      "[ 0.79947274  0.10215126 -0.60452183  0.70041907 -0.79377627  0.09894428]\n",
      "output-files-bootstrap-test6b-6d/fit-results/fit-bootstrap-weights-049.npy\n",
      "[ 0.80011325  0.10269775 -0.60139521  0.7000711  -0.79947063  0.09724204]\n"
     ]
    }
   ],
   "source": [
    "for fi in range(n_fits) :\n",
    "    input_file = '%s/fit-bootstrap-weights-%03d.npy' % (input_dir, fi)\n",
    "    print( '%s' % input_file )\n",
    "    with open( input_file, 'rb' ) as f :\n",
    "        fit_results_mean_val = np.load(f)\n",
    "        fit_results_mean_err = np.load(f)\n",
    "        fit_results_cov_val = np.load(f)\n",
    "        fit_results_cov_err = np.load(f)\n",
    "    print(fit_results_mean_val)\n",
    "    all_fit_results_mean_val[:,fi] = fit_results_mean_val\n",
    "    all_fit_results_mean_err[:,fi] = fit_results_mean_err\n",
    "    all_fit_results_cov_val[:,:,fi] = fit_results_cov_val\n",
    "    all_fit_results_cov_err[:,:,fi] = fit_results_cov_err    "
   ]
  },
  {
   "cell_type": "code",
   "execution_count": null,
   "id": "d693f2d3",
   "metadata": {},
   "outputs": [],
   "source": []
  },
  {
   "cell_type": "code",
   "execution_count": 10,
   "id": "a523ed11",
   "metadata": {
    "scrolled": true
   },
   "outputs": [
    {
     "data": {
      "text/plain": [
       "array([[ 0.80079333,  0.79853218,  0.80030448,  0.79921402,  0.80026079,\n",
       "         0.79975017,  0.79896494,  0.80134277,  0.79755627,  0.79958114,\n",
       "         0.79980208,  0.80094219,  0.80213641,  0.79491759,  0.79826739,\n",
       "         0.79865763,  0.79499466,  0.80174484,  0.79933919,  0.79607783,\n",
       "         0.79728739,  0.79843063,  0.79939924,  0.80029145,  0.79532806,\n",
       "         0.80087195,  0.79699456,  0.79967861,  0.79910853,  0.79773234,\n",
       "         0.79759728,  0.80009163,  0.79859443,  0.79701463,  0.79570256,\n",
       "         0.79930764,  0.79843817,  0.79832616,  0.79496659,  0.79570958,\n",
       "         0.79693594,  0.79914488,  0.7996892 ,  0.79787538,  0.79779143,\n",
       "         0.79904384,  0.79925441,  0.79828708,  0.79947274,  0.80011325],\n",
       "       [ 0.10038667,  0.10162968,  0.10196455,  0.09939437,  0.10089673,\n",
       "         0.10249963,  0.10118139,  0.10170632,  0.10054458,  0.10068483,\n",
       "         0.10259046,  0.10255045,  0.10036785,  0.10331753,  0.09998873,\n",
       "         0.10156307,  0.10032248,  0.10227152,  0.10313208,  0.10022119,\n",
       "         0.10173719,  0.09991086,  0.10024107,  0.10122366,  0.10023323,\n",
       "         0.10353216,  0.10024682,  0.10025915,  0.10125113,  0.10324802,\n",
       "         0.10193845,  0.0986171 ,  0.10011071,  0.1007694 ,  0.1034692 ,\n",
       "         0.10232559,  0.09855363,  0.09958449,  0.10102441,  0.09891213,\n",
       "         0.09894584,  0.09931295,  0.10184696,  0.09992013,  0.10403742,\n",
       "         0.10005125,  0.10184138,  0.10084141,  0.10215126,  0.10269775],\n",
       "       [-0.60384716, -0.60288977, -0.60148769, -0.60519945, -0.60417221,\n",
       "        -0.6028425 , -0.5984976 , -0.60024704, -0.60283426, -0.60552397,\n",
       "        -0.60059539, -0.59874533, -0.60150851, -0.60258044, -0.60367957,\n",
       "        -0.60469953, -0.60625311, -0.60350461, -0.60206419, -0.60627102,\n",
       "        -0.60207386, -0.59954743, -0.6008873 , -0.59612033, -0.60491984,\n",
       "        -0.600201  , -0.60364824, -0.6041597 , -0.60241546, -0.60192756,\n",
       "        -0.59812127, -0.60217638, -0.60515147, -0.60087233, -0.60293909,\n",
       "        -0.59886701, -0.60112708, -0.60249971, -0.60508848, -0.60198759,\n",
       "        -0.60369106, -0.60457002, -0.60057769, -0.603496  , -0.60244252,\n",
       "        -0.60242263, -0.59950531, -0.6010535 , -0.60452183, -0.60139521],\n",
       "       [ 0.6987156 ,  0.70025171,  0.70056557,  0.70146158,  0.70228575,\n",
       "         0.69982053,  0.70121965,  0.7004402 ,  0.70075676,  0.69990725,\n",
       "         0.70112906,  0.6995502 ,  0.70236309,  0.70013388,  0.69820724,\n",
       "         0.69914544,  0.701452  ,  0.69988597,  0.7006326 ,  0.70089975,\n",
       "         0.70094112,  0.70094396,  0.69827817,  0.70123944,  0.70137039,\n",
       "         0.69914003,  0.70075112,  0.69942166,  0.70197856,  0.70038629,\n",
       "         0.70033355,  0.69935448,  0.70022073,  0.70028122,  0.70067019,\n",
       "         0.70108887,  0.70161747,  0.70076365,  0.70146405,  0.70145236,\n",
       "         0.69999943,  0.70114116,  0.69923683,  0.69978533,  0.70149056,\n",
       "         0.70013243,  0.70220778,  0.69969492,  0.70041907,  0.7000711 ],\n",
       "       [-0.80255407, -0.80479689, -0.80164687, -0.79816567, -0.79639194,\n",
       "        -0.79724926, -0.80215066, -0.80154992, -0.79968391, -0.79824565,\n",
       "        -0.79831461, -0.80102114, -0.79745776, -0.80603427, -0.80120516,\n",
       "        -0.79584283, -0.79724187, -0.7988341 , -0.79976729, -0.79885764,\n",
       "        -0.80068621, -0.80247251, -0.8029785 , -0.80078716, -0.79291935,\n",
       "        -0.79881442, -0.79975584, -0.79859208, -0.79881683, -0.80113481,\n",
       "        -0.79907521, -0.80134068, -0.7974114 , -0.79767875, -0.7995952 ,\n",
       "        -0.79935737, -0.80103262, -0.79425866, -0.80208804, -0.79965537,\n",
       "        -0.80007281, -0.797875  , -0.7990317 , -0.80471005, -0.79927899,\n",
       "        -0.80146689, -0.79993307, -0.80088214, -0.79377627, -0.79947063],\n",
       "       [ 0.09366647,  0.09001479,  0.09618187,  0.09691784,  0.09482374,\n",
       "         0.10050611,  0.09898885,  0.09529227,  0.09560313,  0.09613435,\n",
       "         0.10033998,  0.10159352,  0.09881429,  0.0932339 ,  0.09429238,\n",
       "         0.10119581,  0.09889537,  0.09644858,  0.09627791,  0.09754224,\n",
       "         0.09720509,  0.09803196,  0.09785455,  0.09927319,  0.0940312 ,\n",
       "         0.09863054,  0.0979753 ,  0.09623584,  0.09856251,  0.09657245,\n",
       "         0.09936203,  0.0967069 ,  0.09682592,  0.10252073,  0.09451308,\n",
       "         0.09870178,  0.09624823,  0.10325806,  0.09415594,  0.09600728,\n",
       "         0.09835219,  0.09944833,  0.10050626,  0.09422101,  0.10057427,\n",
       "         0.09752869,  0.10001634,  0.09921489,  0.09894428,  0.09724204]])"
      ]
     },
     "execution_count": 10,
     "metadata": {},
     "output_type": "execute_result"
    }
   ],
   "source": [
    "all_fit_results_mean_val"
   ]
  },
  {
   "cell_type": "code",
   "execution_count": 11,
   "id": "1e9838b5",
   "metadata": {},
   "outputs": [
    {
     "data": {
      "text/plain": [
       "array([[[ 6.38208933e-01,  6.38549847e-01,  6.40118180e-01, ...,\n",
       "          6.39364729e-01,  6.39863649e-01,  6.38855719e-01],\n",
       "        [ 2.12270392e-03,  1.12969319e-04, -9.46042103e-04, ...,\n",
       "          2.65340866e-03, -2.75016899e-03,  3.60795949e-04],\n",
       "        [ 1.54006214e-01,  1.52109636e-01,  1.53584284e-01, ...,\n",
       "          1.54128952e-01,  1.53337223e-01,  1.58019817e-01],\n",
       "        [-9.58797212e-02, -9.30840125e-02, -9.71072546e-02, ...,\n",
       "         -9.47361826e-02, -9.73259158e-02, -9.54573540e-02],\n",
       "        [ 7.87973669e-02,  7.89956847e-02,  7.87822330e-02, ...,\n",
       "          8.20264656e-02,  7.97076369e-02,  7.76017112e-02],\n",
       "        [ 1.79978427e-03,  5.49206761e-04,  2.46462695e-03, ...,\n",
       "          4.28304638e-03,  7.58385522e-04,  6.53695757e-04]],\n",
       "\n",
       "       [[ 0.00000000e+00,  0.00000000e+00,  0.00000000e+00, ...,\n",
       "          0.00000000e+00,  0.00000000e+00,  0.00000000e+00],\n",
       "        [ 3.60244574e-01,  3.59368131e-01,  3.59605551e-01, ...,\n",
       "          3.58737938e-01,  3.58931248e-01,  3.61941649e-01],\n",
       "        [ 1.98016275e-03, -1.36465011e-04, -3.66163977e-03, ...,\n",
       "         -1.30316361e-05, -5.51434864e-03, -2.55508114e-03],\n",
       "        [-3.53315679e-02, -3.48460576e-02, -3.43523048e-02, ...,\n",
       "         -3.43499857e-02, -3.36973447e-02, -3.50760320e-02],\n",
       "        [ 1.17915312e-01,  1.17436202e-01,  1.20678016e-01, ...,\n",
       "          1.20740436e-01,  1.21264031e-01,  1.19296238e-01],\n",
       "        [-1.22574418e-03, -2.86128864e-03, -2.70577565e-03, ...,\n",
       "          9.88989110e-04, -3.41867846e-03, -4.34672173e-03]],\n",
       "\n",
       "       [[ 0.00000000e+00,  0.00000000e+00,  0.00000000e+00, ...,\n",
       "          0.00000000e+00,  0.00000000e+00,  0.00000000e+00],\n",
       "        [ 0.00000000e+00,  0.00000000e+00,  0.00000000e+00, ...,\n",
       "          0.00000000e+00,  0.00000000e+00,  0.00000000e+00],\n",
       "        [ 1.00411415e+00,  1.00841913e+00,  1.01037087e+00, ...,\n",
       "          1.00652444e+00,  1.00956750e+00,  1.00968406e+00],\n",
       "        [-7.02148275e-04, -2.48575338e-03,  6.33401726e-04, ...,\n",
       "         -1.06241932e-03,  8.43739041e-04, -1.55338514e-03],\n",
       "        [-2.93365610e-01, -2.93942354e-01, -2.98266660e-01, ...,\n",
       "         -2.94485153e-01, -2.92940626e-01, -2.92093525e-01],\n",
       "        [ 4.32518893e-01,  4.34589025e-01,  4.40198569e-01, ...,\n",
       "          4.35981799e-01,  4.43389509e-01,  4.43012832e-01]],\n",
       "\n",
       "       [[ 0.00000000e+00,  0.00000000e+00,  0.00000000e+00, ...,\n",
       "          0.00000000e+00,  0.00000000e+00,  0.00000000e+00],\n",
       "        [ 0.00000000e+00,  0.00000000e+00,  0.00000000e+00, ...,\n",
       "          0.00000000e+00,  0.00000000e+00,  0.00000000e+00],\n",
       "        [ 0.00000000e+00,  0.00000000e+00,  0.00000000e+00, ...,\n",
       "          0.00000000e+00,  0.00000000e+00,  0.00000000e+00],\n",
       "        [ 3.59857208e-01,  3.57833629e-01,  3.58651065e-01, ...,\n",
       "          3.59759546e-01,  3.57832993e-01,  3.59087937e-01],\n",
       "        [ 1.20213104e-01,  1.21961436e-01,  1.18520470e-01, ...,\n",
       "          1.21426820e-01,  1.20728207e-01,  1.20517606e-01],\n",
       "        [-1.51928183e-04,  2.91633341e-03,  4.32826323e-04, ...,\n",
       "          1.03499113e-03,  3.23325354e-03,  2.19229977e-03]],\n",
       "\n",
       "       [[ 0.00000000e+00,  0.00000000e+00,  0.00000000e+00, ...,\n",
       "          0.00000000e+00,  0.00000000e+00,  0.00000000e+00],\n",
       "        [ 0.00000000e+00,  0.00000000e+00,  0.00000000e+00, ...,\n",
       "          0.00000000e+00,  0.00000000e+00,  0.00000000e+00],\n",
       "        [ 0.00000000e+00,  0.00000000e+00,  0.00000000e+00, ...,\n",
       "          0.00000000e+00,  0.00000000e+00,  0.00000000e+00],\n",
       "        [ 0.00000000e+00,  0.00000000e+00,  0.00000000e+00, ...,\n",
       "          0.00000000e+00,  0.00000000e+00,  0.00000000e+00],\n",
       "        [ 9.90175566e-01,  9.90751393e-01,  9.94826571e-01, ...,\n",
       "          9.96045680e-01,  9.93638472e-01,  9.88207839e-01],\n",
       "        [ 5.40768245e-01,  5.42810995e-01,  5.39818770e-01, ...,\n",
       "          5.40486264e-01,  5.42654636e-01,  5.38714940e-01]],\n",
       "\n",
       "       [[ 0.00000000e+00,  0.00000000e+00,  0.00000000e+00, ...,\n",
       "          0.00000000e+00,  0.00000000e+00,  0.00000000e+00],\n",
       "        [ 0.00000000e+00,  0.00000000e+00,  0.00000000e+00, ...,\n",
       "          0.00000000e+00,  0.00000000e+00,  0.00000000e+00],\n",
       "        [ 0.00000000e+00,  0.00000000e+00,  0.00000000e+00, ...,\n",
       "          0.00000000e+00,  0.00000000e+00,  0.00000000e+00],\n",
       "        [ 0.00000000e+00,  0.00000000e+00,  0.00000000e+00, ...,\n",
       "          0.00000000e+00,  0.00000000e+00,  0.00000000e+00],\n",
       "        [ 0.00000000e+00,  0.00000000e+00,  0.00000000e+00, ...,\n",
       "          0.00000000e+00,  0.00000000e+00,  0.00000000e+00],\n",
       "        [ 1.20131877e+00,  1.20024461e+00,  1.20618254e+00, ...,\n",
       "          1.19767953e+00,  1.21636784e+00,  1.20767538e+00]]])"
      ]
     },
     "execution_count": 11,
     "metadata": {},
     "output_type": "execute_result"
    }
   ],
   "source": [
    "all_fit_results_cov_val"
   ]
  },
  {
   "cell_type": "code",
   "execution_count": null,
   "id": "95364e68",
   "metadata": {},
   "outputs": [],
   "source": []
  },
  {
   "cell_type": "code",
   "execution_count": 12,
   "id": "056ba404",
   "metadata": {},
   "outputs": [],
   "source": [
    "with open( '%s/fit-results.npy' % base_dir, 'wb' ) as f :\n",
    "    np.save( f, all_fit_results_mean_val )\n",
    "    np.save( f, all_fit_results_mean_err )\n",
    "    np.save( f, all_fit_results_cov_val )\n",
    "    np.save( f, all_fit_results_cov_err )"
   ]
  }
 ],
 "metadata": {
  "kernelspec": {
   "display_name": "Python 3 (ipykernel)",
   "language": "python",
   "name": "python3"
  },
  "language_info": {
   "codemirror_mode": {
    "name": "ipython",
    "version": 3
   },
   "file_extension": ".py",
   "mimetype": "text/x-python",
   "name": "python",
   "nbconvert_exporter": "python",
   "pygments_lexer": "ipython3",
   "version": "3.10.12"
  }
 },
 "nbformat": 4,
 "nbformat_minor": 5
}
