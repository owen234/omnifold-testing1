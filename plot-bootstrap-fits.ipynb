{
 "cells": [
  {
   "cell_type": "code",
   "execution_count": 1,
   "id": "ffee1bf1",
   "metadata": {},
   "outputs": [],
   "source": [
    "import matplotlib.pyplot as plt\n",
    "import numpy as np\n",
    "\n",
    "import time\n",
    "\n",
    "import sys\n",
    "import os\n",
    "\n",
    "from datetime import datetime\n",
    "import subprocess\n",
    "\n",
    "from os.path import exists\n",
    "\n",
    "import read_config_utils as cu\n",
    "\n",
    "from pathlib import Path\n"
   ]
  },
  {
   "cell_type": "code",
   "execution_count": 2,
   "id": "ffa084d7",
   "metadata": {},
   "outputs": [],
   "source": [
    "base_dir = 'output-files-bootstrap-test6b-6d-1b'"
   ]
  },
  {
   "cell_type": "code",
   "execution_count": 3,
   "id": "2d1db9b6",
   "metadata": {},
   "outputs": [],
   "source": [
    "input_dir = '%s/fit-results' % base_dir"
   ]
  },
  {
   "cell_type": "code",
   "execution_count": 4,
   "id": "4591ae2d",
   "metadata": {},
   "outputs": [],
   "source": [
    "pathlist = Path(input_dir).glob('**/fit-boot*.npy')"
   ]
  },
  {
   "cell_type": "code",
   "execution_count": 5,
   "id": "42c3add1",
   "metadata": {},
   "outputs": [
    {
     "data": {
      "text/plain": [
       "<generator object Path.glob at 0x7fded4ec9850>"
      ]
     },
     "execution_count": 5,
     "metadata": {},
     "output_type": "execute_result"
    }
   ],
   "source": [
    "pathlist"
   ]
  },
  {
   "cell_type": "code",
   "execution_count": 6,
   "id": "7ac64826",
   "metadata": {},
   "outputs": [
    {
     "name": "stdout",
     "output_type": "stream",
     "text": [
      "output-files-bootstrap-test6b-6d-1b/fit-results/fit-bootstrap-weights-021.npy\n",
      "shape (6,)\n",
      "\n",
      " found 50 bootstrap fits.  ndim = 6\n",
      "\n"
     ]
    }
   ],
   "source": [
    "n_fits = 0\n",
    "ndim = 0\n",
    "pathlist = Path(input_dir).glob('**/fit-boot*.npy')\n",
    "for path in pathlist :\n",
    "    if n_fits == 0 :\n",
    "        input_file = str(path)\n",
    "        print( '%s' % input_file )\n",
    "        with open( input_file, 'rb' ) as f :\n",
    "            fit_results_mean_val = np.load(f)      \n",
    "        ndim = fit_results_mean_val.shape[0]\n",
    "        print('shape %s' % str(fit_results_mean_val.shape))\n",
    "    # print( '%s' % str(path))\n",
    "    n_fits = n_fits + 1\n",
    "    \n",
    "        \n",
    "print(\"\\n found %d bootstrap fits.  ndim = %d\\n\" % (n_fits, ndim) )"
   ]
  },
  {
   "cell_type": "code",
   "execution_count": 7,
   "id": "a6d53be0",
   "metadata": {},
   "outputs": [],
   "source": [
    "all_fit_results_mean_val = np.zeros( shape=(ndim, n_fits ) )\n",
    "all_fit_results_mean_err = np.zeros( shape=(ndim, n_fits ) )\n",
    "all_fit_results_cov_val = np.zeros( shape=(ndim, ndim, n_fits ) )\n",
    "all_fit_results_cov_err = np.zeros( shape=(ndim, ndim, n_fits ) )"
   ]
  },
  {
   "cell_type": "code",
   "execution_count": 8,
   "id": "2e4abaa9",
   "metadata": {
    "scrolled": true
   },
   "outputs": [],
   "source": [
    "#pathlist = Path(input_dir).glob('**/fit-boot*.npy')\n",
    "#fi = 0\n",
    "#for path in pathlist :\n",
    "#    input_file = str(path)\n",
    "#    print( '%s' % input_file )\n",
    "#    with open( input_file, 'rb' ) as f :\n",
    "#        fit_results_mean_val = np.load(f)\n",
    "#        fit_results_mean_err = np.load(f)\n",
    "#        fit_results_cov_val = np.load(f)\n",
    "#        fit_results_cov_err = np.load(f)\n",
    "#    print(fit_results_mean_val)\n",
    "#    all_fit_results_mean_val[:,fi] = fit_results_mean_val\n",
    "#    all_fit_results_mean_err[:,fi] = fit_results_mean_err\n",
    "#    all_fit_results_cov_val[:,:,fi] = fit_results_cov_val\n",
    "#    all_fit_results_cov_err[:,:,fi] = fit_results_cov_err\n",
    "#    fi = fi + 1"
   ]
  },
  {
   "cell_type": "code",
   "execution_count": null,
   "id": "58365bc9",
   "metadata": {},
   "outputs": [],
   "source": []
  },
  {
   "cell_type": "code",
   "execution_count": 9,
   "id": "a1661011",
   "metadata": {},
   "outputs": [
    {
     "name": "stdout",
     "output_type": "stream",
     "text": [
      "output-files-bootstrap-test6b-6d-1b/fit-results/fit-bootstrap-weights-000.npy\n",
      "[ 0.79936163  0.10583456 -0.61603067  0.70303986 -0.81004125  0.10848583]\n",
      "output-files-bootstrap-test6b-6d-1b/fit-results/fit-bootstrap-weights-001.npy\n",
      "[ 0.80128749  0.10330201 -0.61577636  0.70234626 -0.80316528  0.10840544]\n",
      "output-files-bootstrap-test6b-6d-1b/fit-results/fit-bootstrap-weights-002.npy\n",
      "[ 0.79782154  0.10540727 -0.62058367  0.70390759 -0.80791332  0.11015246]\n",
      "output-files-bootstrap-test6b-6d-1b/fit-results/fit-bootstrap-weights-003.npy\n",
      "[ 0.80329252  0.10955095 -0.61736856  0.70645687 -0.8072772   0.11032573]\n",
      "output-files-bootstrap-test6b-6d-1b/fit-results/fit-bootstrap-weights-004.npy\n",
      "[ 0.79934422  0.10803796 -0.62533946  0.70641455 -0.8084596   0.10688477]\n",
      "output-files-bootstrap-test6b-6d-1b/fit-results/fit-bootstrap-weights-005.npy\n",
      "[ 0.8006055   0.10688055 -0.62447599  0.70788204 -0.80551192  0.10827281]\n",
      "output-files-bootstrap-test6b-6d-1b/fit-results/fit-bootstrap-weights-006.npy\n",
      "[ 0.80554209  0.10666994 -0.62042812  0.70504028 -0.80948006  0.11147894]\n",
      "output-files-bootstrap-test6b-6d-1b/fit-results/fit-bootstrap-weights-007.npy\n",
      "[ 0.80624077  0.10598935 -0.6221954   0.70434351 -0.81215789  0.10525233]\n",
      "output-files-bootstrap-test6b-6d-1b/fit-results/fit-bootstrap-weights-008.npy\n",
      "[ 0.80502337  0.10206803 -0.62809864  0.70628199 -0.81101392  0.10726518]\n",
      "output-files-bootstrap-test6b-6d-1b/fit-results/fit-bootstrap-weights-009.npy\n",
      "[ 0.79997762  0.11275429 -0.62253326  0.703858   -0.80739155  0.11429478]\n",
      "output-files-bootstrap-test6b-6d-1b/fit-results/fit-bootstrap-weights-010.npy\n",
      "[ 0.80078904  0.11001757 -0.62213264  0.7069324  -0.81048699  0.11267941]\n",
      "output-files-bootstrap-test6b-6d-1b/fit-results/fit-bootstrap-weights-011.npy\n",
      "[ 0.80081752  0.11062622 -0.62314602  0.70384622 -0.80872439  0.10950494]\n",
      "output-files-bootstrap-test6b-6d-1b/fit-results/fit-bootstrap-weights-012.npy\n",
      "[ 0.80069922  0.10982446 -0.62221617  0.70518485 -0.80636708  0.10575145]\n",
      "output-files-bootstrap-test6b-6d-1b/fit-results/fit-bootstrap-weights-013.npy\n",
      "[ 0.80251335  0.11418813 -0.62564244  0.70520033 -0.80892414  0.10881177]\n",
      "output-files-bootstrap-test6b-6d-1b/fit-results/fit-bootstrap-weights-014.npy\n",
      "[ 0.80485749  0.10859841 -0.62065816  0.70718497 -0.80284097  0.11149502]\n",
      "output-files-bootstrap-test6b-6d-1b/fit-results/fit-bootstrap-weights-015.npy\n",
      "[ 0.8014607   0.10699541 -0.62045113  0.70686658 -0.80769545  0.11040405]\n",
      "output-files-bootstrap-test6b-6d-1b/fit-results/fit-bootstrap-weights-016.npy\n",
      "[ 0.79993325  0.10506135 -0.6227297   0.70521333 -0.81164358  0.11062651]\n",
      "output-files-bootstrap-test6b-6d-1b/fit-results/fit-bootstrap-weights-017.npy\n",
      "[ 0.80074553  0.10732348 -0.62111676  0.70816008 -0.806843    0.11192085]\n",
      "output-files-bootstrap-test6b-6d-1b/fit-results/fit-bootstrap-weights-018.npy\n",
      "[ 0.80020212  0.10888489 -0.62500135  0.70639981 -0.80543392  0.11073956]\n",
      "output-files-bootstrap-test6b-6d-1b/fit-results/fit-bootstrap-weights-019.npy\n",
      "[ 0.80252134  0.11051701 -0.62291526  0.70370345 -0.81248057  0.10837941]\n",
      "output-files-bootstrap-test6b-6d-1b/fit-results/fit-bootstrap-weights-020.npy\n",
      "[ 0.80375376  0.10955852 -0.62387806  0.70540816 -0.80599357  0.10907402]\n",
      "output-files-bootstrap-test6b-6d-1b/fit-results/fit-bootstrap-weights-021.npy\n",
      "[ 0.80002561  0.10852461 -0.62223805  0.70618835 -0.80734857  0.10886407]\n",
      "output-files-bootstrap-test6b-6d-1b/fit-results/fit-bootstrap-weights-022.npy\n",
      "[ 0.80027573  0.1123706  -0.61910711  0.70508381 -0.80123396  0.10864582]\n",
      "output-files-bootstrap-test6b-6d-1b/fit-results/fit-bootstrap-weights-023.npy\n",
      "[ 0.80256135  0.10990775 -0.61848082  0.70136319 -0.80449873  0.1127733 ]\n",
      "output-files-bootstrap-test6b-6d-1b/fit-results/fit-bootstrap-weights-024.npy\n",
      "[ 0.80324764  0.11004038 -0.62597322  0.70200206 -0.80521268  0.10456111]\n",
      "output-files-bootstrap-test6b-6d-1b/fit-results/fit-bootstrap-weights-025.npy\n",
      "[ 0.79889442  0.10914167 -0.62271333  0.70304583 -0.8090334   0.10723116]\n",
      "output-files-bootstrap-test6b-6d-1b/fit-results/fit-bootstrap-weights-026.npy\n",
      "[ 0.79683328  0.10909698 -0.62368746  0.70384629 -0.80503147  0.10841965]\n",
      "output-files-bootstrap-test6b-6d-1b/fit-results/fit-bootstrap-weights-027.npy\n",
      "[ 0.80392705  0.10295917 -0.62084191  0.7029478  -0.8047506   0.10772942]\n",
      "output-files-bootstrap-test6b-6d-1b/fit-results/fit-bootstrap-weights-028.npy\n",
      "[ 0.80334827  0.10784589 -0.6194685   0.70368362 -0.80688121  0.10759102]\n",
      "output-files-bootstrap-test6b-6d-1b/fit-results/fit-bootstrap-weights-029.npy\n",
      "[ 0.79730148  0.1084236  -0.62479395  0.70189241 -0.80604836  0.1103847 ]\n",
      "output-files-bootstrap-test6b-6d-1b/fit-results/fit-bootstrap-weights-030.npy\n",
      "[ 0.80153155  0.10921059 -0.624156    0.70315517 -0.80731761  0.1103738 ]\n",
      "output-files-bootstrap-test6b-6d-1b/fit-results/fit-bootstrap-weights-031.npy\n",
      "[ 0.79988381  0.1066276  -0.62762844  0.70392345 -0.80835609  0.10579753]\n",
      "output-files-bootstrap-test6b-6d-1b/fit-results/fit-bootstrap-weights-032.npy\n",
      "[ 0.79966559  0.1057515  -0.62473196  0.70531987 -0.80536948  0.10876165]\n",
      "output-files-bootstrap-test6b-6d-1b/fit-results/fit-bootstrap-weights-033.npy\n",
      "[ 0.79874636  0.10798841 -0.62361597  0.70057133 -0.80940344  0.10938838]\n",
      "output-files-bootstrap-test6b-6d-1b/fit-results/fit-bootstrap-weights-034.npy\n",
      "[ 0.80023468  0.10318055 -0.62321761  0.70312885 -0.80834393  0.1101177 ]\n",
      "output-files-bootstrap-test6b-6d-1b/fit-results/fit-bootstrap-weights-035.npy\n",
      "[ 0.80255422  0.10475696 -0.61857737  0.7037646  -0.81352919  0.11253725]\n",
      "output-files-bootstrap-test6b-6d-1b/fit-results/fit-bootstrap-weights-036.npy\n",
      "[ 0.79954513  0.09975119 -0.61917406  0.70252534 -0.81124393  0.10734405]\n",
      "output-files-bootstrap-test6b-6d-1b/fit-results/fit-bootstrap-weights-037.npy\n",
      "[ 0.79720251  0.10568622 -0.61714135  0.70511005 -0.80685459  0.11188965]\n",
      "output-files-bootstrap-test6b-6d-1b/fit-results/fit-bootstrap-weights-038.npy\n",
      "[ 0.80066092  0.10935296 -0.62312525  0.70333667 -0.80706758  0.10533039]\n",
      "output-files-bootstrap-test6b-6d-1b/fit-results/fit-bootstrap-weights-039.npy\n",
      "[ 0.79983867  0.10655623 -0.61916729  0.70565013 -0.80859864  0.11041861]\n",
      "output-files-bootstrap-test6b-6d-1b/fit-results/fit-bootstrap-weights-040.npy\n",
      "[ 0.8053063   0.11064566 -0.62382452  0.70568676 -0.80481526  0.1148286 ]\n",
      "output-files-bootstrap-test6b-6d-1b/fit-results/fit-bootstrap-weights-041.npy\n",
      "[ 0.80115344  0.10821418 -0.61713505  0.70506535 -0.80843259  0.10792948]\n",
      "output-files-bootstrap-test6b-6d-1b/fit-results/fit-bootstrap-weights-042.npy\n",
      "[ 0.80187357  0.1064109  -0.62756675  0.70261538 -0.80131704  0.11165006]\n",
      "output-files-bootstrap-test6b-6d-1b/fit-results/fit-bootstrap-weights-043.npy\n",
      "[ 0.80079292  0.1014772  -0.61964457  0.70611948 -0.80569705  0.11029084]\n",
      "output-files-bootstrap-test6b-6d-1b/fit-results/fit-bootstrap-weights-044.npy\n",
      "[ 0.80348077  0.10581106 -0.62575661  0.70528006 -0.80432156  0.1124393 ]\n",
      "output-files-bootstrap-test6b-6d-1b/fit-results/fit-bootstrap-weights-045.npy\n",
      "[ 0.8010173   0.10767917 -0.62045563  0.70634233 -0.80654865  0.11083838]\n",
      "output-files-bootstrap-test6b-6d-1b/fit-results/fit-bootstrap-weights-046.npy\n",
      "[ 0.79290192  0.10400372 -0.62309694  0.70640084 -0.80801029  0.10649706]\n",
      "output-files-bootstrap-test6b-6d-1b/fit-results/fit-bootstrap-weights-047.npy\n",
      "[ 0.80226775  0.10131476 -0.62071771  0.70420096 -0.81064394  0.10991575]\n",
      "output-files-bootstrap-test6b-6d-1b/fit-results/fit-bootstrap-weights-048.npy\n",
      "[ 0.80578805  0.10418263 -0.62095723  0.7064619  -0.805694    0.11273373]\n",
      "output-files-bootstrap-test6b-6d-1b/fit-results/fit-bootstrap-weights-049.npy\n",
      "[ 0.80005601  0.10535223 -0.62039311  0.70333202 -0.80570772  0.10947828]\n"
     ]
    }
   ],
   "source": [
    "for fi in range(n_fits) :\n",
    "    input_file = '%s/fit-bootstrap-weights-%03d.npy' % (input_dir, fi)\n",
    "    print( '%s' % input_file )\n",
    "    with open( input_file, 'rb' ) as f :\n",
    "        fit_results_mean_val = np.load(f)\n",
    "        fit_results_mean_err = np.load(f)\n",
    "        fit_results_cov_val = np.load(f)\n",
    "        fit_results_cov_err = np.load(f)\n",
    "    print(fit_results_mean_val)\n",
    "    all_fit_results_mean_val[:,fi] = fit_results_mean_val\n",
    "    all_fit_results_mean_err[:,fi] = fit_results_mean_err\n",
    "    all_fit_results_cov_val[:,:,fi] = fit_results_cov_val\n",
    "    all_fit_results_cov_err[:,:,fi] = fit_results_cov_err    "
   ]
  },
  {
   "cell_type": "code",
   "execution_count": null,
   "id": "d693f2d3",
   "metadata": {},
   "outputs": [],
   "source": []
  },
  {
   "cell_type": "code",
   "execution_count": 10,
   "id": "a523ed11",
   "metadata": {
    "scrolled": true
   },
   "outputs": [
    {
     "data": {
      "text/plain": [
       "array([[ 0.79936163,  0.80128749,  0.79782154,  0.80329252,  0.79934422,\n",
       "         0.8006055 ,  0.80554209,  0.80624077,  0.80502337,  0.79997762,\n",
       "         0.80078904,  0.80081752,  0.80069922,  0.80251335,  0.80485749,\n",
       "         0.8014607 ,  0.79993325,  0.80074553,  0.80020212,  0.80252134,\n",
       "         0.80375376,  0.80002561,  0.80027573,  0.80256135,  0.80324764,\n",
       "         0.79889442,  0.79683328,  0.80392705,  0.80334827,  0.79730148,\n",
       "         0.80153155,  0.79988381,  0.79966559,  0.79874636,  0.80023468,\n",
       "         0.80255422,  0.79954513,  0.79720251,  0.80066092,  0.79983867,\n",
       "         0.8053063 ,  0.80115344,  0.80187357,  0.80079292,  0.80348077,\n",
       "         0.8010173 ,  0.79290192,  0.80226775,  0.80578805,  0.80005601],\n",
       "       [ 0.10583456,  0.10330201,  0.10540727,  0.10955095,  0.10803796,\n",
       "         0.10688055,  0.10666994,  0.10598935,  0.10206803,  0.11275429,\n",
       "         0.11001757,  0.11062622,  0.10982446,  0.11418813,  0.10859841,\n",
       "         0.10699541,  0.10506135,  0.10732348,  0.10888489,  0.11051701,\n",
       "         0.10955852,  0.10852461,  0.1123706 ,  0.10990775,  0.11004038,\n",
       "         0.10914167,  0.10909698,  0.10295917,  0.10784589,  0.1084236 ,\n",
       "         0.10921059,  0.1066276 ,  0.1057515 ,  0.10798841,  0.10318055,\n",
       "         0.10475696,  0.09975119,  0.10568622,  0.10935296,  0.10655623,\n",
       "         0.11064566,  0.10821418,  0.1064109 ,  0.1014772 ,  0.10581106,\n",
       "         0.10767917,  0.10400372,  0.10131476,  0.10418263,  0.10535223],\n",
       "       [-0.61603067, -0.61577636, -0.62058367, -0.61736856, -0.62533946,\n",
       "        -0.62447599, -0.62042812, -0.6221954 , -0.62809864, -0.62253326,\n",
       "        -0.62213264, -0.62314602, -0.62221617, -0.62564244, -0.62065816,\n",
       "        -0.62045113, -0.6227297 , -0.62111676, -0.62500135, -0.62291526,\n",
       "        -0.62387806, -0.62223805, -0.61910711, -0.61848082, -0.62597322,\n",
       "        -0.62271333, -0.62368746, -0.62084191, -0.6194685 , -0.62479395,\n",
       "        -0.624156  , -0.62762844, -0.62473196, -0.62361597, -0.62321761,\n",
       "        -0.61857737, -0.61917406, -0.61714135, -0.62312525, -0.61916729,\n",
       "        -0.62382452, -0.61713505, -0.62756675, -0.61964457, -0.62575661,\n",
       "        -0.62045563, -0.62309694, -0.62071771, -0.62095723, -0.62039311],\n",
       "       [ 0.70303986,  0.70234626,  0.70390759,  0.70645687,  0.70641455,\n",
       "         0.70788204,  0.70504028,  0.70434351,  0.70628199,  0.703858  ,\n",
       "         0.7069324 ,  0.70384622,  0.70518485,  0.70520033,  0.70718497,\n",
       "         0.70686658,  0.70521333,  0.70816008,  0.70639981,  0.70370345,\n",
       "         0.70540816,  0.70618835,  0.70508381,  0.70136319,  0.70200206,\n",
       "         0.70304583,  0.70384629,  0.7029478 ,  0.70368362,  0.70189241,\n",
       "         0.70315517,  0.70392345,  0.70531987,  0.70057133,  0.70312885,\n",
       "         0.7037646 ,  0.70252534,  0.70511005,  0.70333667,  0.70565013,\n",
       "         0.70568676,  0.70506535,  0.70261538,  0.70611948,  0.70528006,\n",
       "         0.70634233,  0.70640084,  0.70420096,  0.7064619 ,  0.70333202],\n",
       "       [-0.81004125, -0.80316528, -0.80791332, -0.8072772 , -0.8084596 ,\n",
       "        -0.80551192, -0.80948006, -0.81215789, -0.81101392, -0.80739155,\n",
       "        -0.81048699, -0.80872439, -0.80636708, -0.80892414, -0.80284097,\n",
       "        -0.80769545, -0.81164358, -0.806843  , -0.80543392, -0.81248057,\n",
       "        -0.80599357, -0.80734857, -0.80123396, -0.80449873, -0.80521268,\n",
       "        -0.8090334 , -0.80503147, -0.8047506 , -0.80688121, -0.80604836,\n",
       "        -0.80731761, -0.80835609, -0.80536948, -0.80940344, -0.80834393,\n",
       "        -0.81352919, -0.81124393, -0.80685459, -0.80706758, -0.80859864,\n",
       "        -0.80481526, -0.80843259, -0.80131704, -0.80569705, -0.80432156,\n",
       "        -0.80654865, -0.80801029, -0.81064394, -0.805694  , -0.80570772],\n",
       "       [ 0.10848583,  0.10840544,  0.11015246,  0.11032573,  0.10688477,\n",
       "         0.10827281,  0.11147894,  0.10525233,  0.10726518,  0.11429478,\n",
       "         0.11267941,  0.10950494,  0.10575145,  0.10881177,  0.11149502,\n",
       "         0.11040405,  0.11062651,  0.11192085,  0.11073956,  0.10837941,\n",
       "         0.10907402,  0.10886407,  0.10864582,  0.1127733 ,  0.10456111,\n",
       "         0.10723116,  0.10841965,  0.10772942,  0.10759102,  0.1103847 ,\n",
       "         0.1103738 ,  0.10579753,  0.10876165,  0.10938838,  0.1101177 ,\n",
       "         0.11253725,  0.10734405,  0.11188965,  0.10533039,  0.11041861,\n",
       "         0.1148286 ,  0.10792948,  0.11165006,  0.11029084,  0.1124393 ,\n",
       "         0.11083838,  0.10649706,  0.10991575,  0.11273373,  0.10947828]])"
      ]
     },
     "execution_count": 10,
     "metadata": {},
     "output_type": "execute_result"
    }
   ],
   "source": [
    "all_fit_results_mean_val"
   ]
  },
  {
   "cell_type": "code",
   "execution_count": 11,
   "id": "1e9838b5",
   "metadata": {},
   "outputs": [
    {
     "data": {
      "text/plain": [
       "array([[[ 6.55051259e-01,  6.60730462e-01,  6.58153546e-01, ...,\n",
       "          6.53714357e-01,  6.51991415e-01,  6.56904454e-01],\n",
       "        [ 1.14607385e-02,  1.23542983e-02,  1.46380136e-02, ...,\n",
       "          1.55586319e-02,  1.53929289e-02,  1.58902577e-02],\n",
       "        [ 1.33593631e-01,  1.32092144e-01,  1.31867747e-01, ...,\n",
       "          1.32566532e-01,  1.32695369e-01,  1.36863448e-01],\n",
       "        [-9.14105019e-02, -9.20866243e-02, -8.85044947e-02, ...,\n",
       "         -8.70012550e-02, -8.93142690e-02, -9.22324076e-02],\n",
       "        [ 6.44873226e-02,  6.79444332e-02,  6.74582245e-02, ...,\n",
       "          6.23965235e-02,  6.38012026e-02,  6.15370211e-02],\n",
       "        [ 1.12293620e-02,  1.81884518e-02,  1.02304189e-02, ...,\n",
       "          1.02515291e-02,  1.24533725e-02,  1.51670782e-02]],\n",
       "\n",
       "       [[ 0.00000000e+00,  0.00000000e+00,  0.00000000e+00, ...,\n",
       "          0.00000000e+00,  0.00000000e+00,  0.00000000e+00],\n",
       "        [ 3.90461740e-01,  3.89812925e-01,  3.91928439e-01, ...,\n",
       "          4.00342294e-01,  4.02123793e-01,  4.05380696e-01],\n",
       "        [-1.46888174e-04, -1.34845096e-03,  6.70605695e-03, ...,\n",
       "         -9.22988541e-03, -1.31117451e-02, -1.09887274e-02],\n",
       "        [-3.57122789e-02, -3.83252061e-02, -3.65749857e-02, ...,\n",
       "         -3.62618020e-02, -3.42238228e-02, -3.45416887e-02],\n",
       "        [ 1.38702419e-01,  1.35056921e-01,  1.30782096e-01, ...,\n",
       "          1.46233632e-01,  1.50247289e-01,  1.45020452e-01],\n",
       "        [-3.03279673e-03, -7.13468181e-03, -1.10619674e-02, ...,\n",
       "         -5.05239322e-03, -3.28789687e-03, -1.16640454e-02]],\n",
       "\n",
       "       [[ 0.00000000e+00,  0.00000000e+00,  0.00000000e+00, ...,\n",
       "          0.00000000e+00,  0.00000000e+00,  0.00000000e+00],\n",
       "        [ 0.00000000e+00,  0.00000000e+00,  0.00000000e+00, ...,\n",
       "          0.00000000e+00,  0.00000000e+00,  0.00000000e+00],\n",
       "        [ 1.04546225e+00,  1.05369956e+00,  1.05692989e+00, ...,\n",
       "          1.07432702e+00,  1.08105467e+00,  1.07234518e+00],\n",
       "        [-3.17204291e-03,  2.01208256e-03, -5.83838248e-03, ...,\n",
       "         -7.80076170e-03, -6.58074699e-03, -2.50831999e-03],\n",
       "        [-3.01398603e-01, -2.98945189e-01, -3.02493663e-01, ...,\n",
       "         -3.12573957e-01, -3.24467727e-01, -3.18449672e-01],\n",
       "        [ 4.18237719e-01,  4.24946722e-01,  4.22496419e-01, ...,\n",
       "          4.27439890e-01,  4.26595568e-01,  4.24640104e-01]],\n",
       "\n",
       "       [[ 0.00000000e+00,  0.00000000e+00,  0.00000000e+00, ...,\n",
       "          0.00000000e+00,  0.00000000e+00,  0.00000000e+00],\n",
       "        [ 0.00000000e+00,  0.00000000e+00,  0.00000000e+00, ...,\n",
       "          0.00000000e+00,  0.00000000e+00,  0.00000000e+00],\n",
       "        [ 0.00000000e+00,  0.00000000e+00,  0.00000000e+00, ...,\n",
       "          0.00000000e+00,  0.00000000e+00,  0.00000000e+00],\n",
       "        [ 3.68579582e-01,  3.69328957e-01,  3.65772611e-01, ...,\n",
       "          3.66719008e-01,  3.69613915e-01,  3.64634597e-01],\n",
       "        [ 1.22244002e-01,  1.15327979e-01,  1.25265959e-01, ...,\n",
       "          1.24222490e-01,  1.29274538e-01,  1.21711577e-01],\n",
       "        [ 2.98250672e-03,  3.83390493e-04,  1.17983579e-03, ...,\n",
       "          1.66883891e-03,  5.86806642e-03,  6.38447081e-03]],\n",
       "\n",
       "       [[ 0.00000000e+00,  0.00000000e+00,  0.00000000e+00, ...,\n",
       "          0.00000000e+00,  0.00000000e+00,  0.00000000e+00],\n",
       "        [ 0.00000000e+00,  0.00000000e+00,  0.00000000e+00, ...,\n",
       "          0.00000000e+00,  0.00000000e+00,  0.00000000e+00],\n",
       "        [ 0.00000000e+00,  0.00000000e+00,  0.00000000e+00, ...,\n",
       "          0.00000000e+00,  0.00000000e+00,  0.00000000e+00],\n",
       "        [ 0.00000000e+00,  0.00000000e+00,  0.00000000e+00, ...,\n",
       "          0.00000000e+00,  0.00000000e+00,  0.00000000e+00],\n",
       "        [ 9.88966988e-01,  9.81840803e-01,  9.88972391e-01, ...,\n",
       "          9.90575636e-01,  1.00860189e+00,  9.97383256e-01],\n",
       "        [ 5.53151374e-01,  5.51585307e-01,  5.48408218e-01, ...,\n",
       "          5.50404546e-01,  5.52365315e-01,  5.49797126e-01]],\n",
       "\n",
       "       [[ 0.00000000e+00,  0.00000000e+00,  0.00000000e+00, ...,\n",
       "          0.00000000e+00,  0.00000000e+00,  0.00000000e+00],\n",
       "        [ 0.00000000e+00,  0.00000000e+00,  0.00000000e+00, ...,\n",
       "          0.00000000e+00,  0.00000000e+00,  0.00000000e+00],\n",
       "        [ 0.00000000e+00,  0.00000000e+00,  0.00000000e+00, ...,\n",
       "          0.00000000e+00,  0.00000000e+00,  0.00000000e+00],\n",
       "        [ 0.00000000e+00,  0.00000000e+00,  0.00000000e+00, ...,\n",
       "          0.00000000e+00,  0.00000000e+00,  0.00000000e+00],\n",
       "        [ 0.00000000e+00,  0.00000000e+00,  0.00000000e+00, ...,\n",
       "          0.00000000e+00,  0.00000000e+00,  0.00000000e+00],\n",
       "        [ 1.20447083e+00,  1.20154787e+00,  1.19658222e+00, ...,\n",
       "          1.20185172e+00,  1.20111723e+00,  1.20047214e+00]]])"
      ]
     },
     "execution_count": 11,
     "metadata": {},
     "output_type": "execute_result"
    }
   ],
   "source": [
    "all_fit_results_cov_val"
   ]
  },
  {
   "cell_type": "code",
   "execution_count": null,
   "id": "95364e68",
   "metadata": {},
   "outputs": [],
   "source": []
  },
  {
   "cell_type": "code",
   "execution_count": 12,
   "id": "056ba404",
   "metadata": {},
   "outputs": [],
   "source": [
    "with open( '%s/fit-results.npy' % base_dir, 'wb' ) as f :\n",
    "    np.save( f, all_fit_results_mean_val )\n",
    "    np.save( f, all_fit_results_mean_err )\n",
    "    np.save( f, all_fit_results_cov_val )\n",
    "    np.save( f, all_fit_results_cov_err )"
   ]
  }
 ],
 "metadata": {
  "kernelspec": {
   "display_name": "Python 3 (ipykernel)",
   "language": "python",
   "name": "python3"
  },
  "language_info": {
   "codemirror_mode": {
    "name": "ipython",
    "version": 3
   },
   "file_extension": ".py",
   "mimetype": "text/x-python",
   "name": "python",
   "nbconvert_exporter": "python",
   "pygments_lexer": "ipython3",
   "version": "3.10.12"
  }
 },
 "nbformat": 4,
 "nbformat_minor": 5
}
