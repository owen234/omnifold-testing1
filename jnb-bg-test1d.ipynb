{
 "cells": [
  {
   "cell_type": "code",
   "execution_count": 1,
   "id": "a498f19f",
   "metadata": {},
   "outputs": [
    {
     "name": "stderr",
     "output_type": "stream",
     "text": [
      "Module libc not found.\n"
     ]
    },
    {
     "name": "stdout",
     "output_type": "stream",
     "text": [
      "Welcome to JupyROOT 6.24/07\n"
     ]
    }
   ],
   "source": [
    "import ROOT"
   ]
  },
  {
   "cell_type": "code",
   "execution_count": 2,
   "id": "170f794d",
   "metadata": {},
   "outputs": [
    {
     "data": {
      "text/plain": [
       "0"
      ]
     },
     "execution_count": 2,
     "metadata": {},
     "output_type": "execute_result"
    },
    {
     "name": "stdout",
     "output_type": "stream",
     "text": [
      "\n",
      "\u001b[1mRooFit v3.60 -- Developed by Wouter Verkerke and David Kirkby\u001b[0m \n",
      "                Copyright (C) 2000-2013 NIKHEF, University of California & Stanford University\n",
      "                All rights reserved, please read http://roofit.sourceforge.net/license.txt\n",
      "\n"
     ]
    }
   ],
   "source": [
    "ROOT.gSystem.Load('./RooBinnedGauss1d_cxx.so')"
   ]
  },
  {
   "cell_type": "code",
   "execution_count": 3,
   "id": "71adb104",
   "metadata": {},
   "outputs": [
    {
     "name": "stderr",
     "output_type": "stream",
     "text": [
      "/usr/lib/python3/dist-packages/scipy/__init__.py:146: UserWarning: A NumPy version >=1.17.3 and <1.25.0 is required for this version of SciPy (detected version 1.26.4\n",
      "  warnings.warn(f\"A NumPy version >={np_minversion} and <{np_maxversion}\"\n"
     ]
    }
   ],
   "source": [
    "import matplotlib.pyplot as plt\n",
    "import numpy as np\n",
    "\n",
    "from scipy import special\n",
    "\n",
    "\n",
    "import time\n",
    "\n",
    "import sys\n",
    "import os\n",
    "\n",
    "from datetime import datetime\n",
    "import subprocess\n",
    "\n",
    "from os.path import exists\n",
    "\n",
    "\n",
    "\n",
    "import matplotlib as mpl"
   ]
  },
  {
   "cell_type": "code",
   "execution_count": 4,
   "id": "bc5ac81b",
   "metadata": {},
   "outputs": [],
   "source": [
    "\n",
    "\n",
    "#true_mean_x = 0.2\n",
    "#true_sigma_x = 0.9\n",
    "\n",
    "\n",
    "true_mean_x = 0.7\n",
    "true_sigma_x = 2.4\n",
    "\n",
    "\n",
    "\n",
    "\n",
    "true_sigma2_x = true_sigma_x * true_sigma_x\n",
    "\n",
    "\n",
    "ngen = 10000\n",
    "\n",
    "\n",
    "hist_xlow = -9.\n",
    "hist_xhigh = 9.\n",
    "\n",
    "\n",
    "#hist_nbins = 60\n",
    "\n",
    "hist_nbins = 10\n",
    "\n",
    "\n",
    "\n",
    "\n",
    "hist_bin_edges = np.linspace( hist_xlow, hist_xhigh, hist_nbins+1 )\n",
    "hist_binwidth = ( hist_xhigh - hist_xlow ) / hist_nbins\n",
    "\n",
    "hist_bin_centers = np.linspace( hist_xlow + 0.5*hist_binwidth, hist_xhigh - 0.5*hist_binwidth, hist_nbins )\n"
   ]
  },
  {
   "cell_type": "code",
   "execution_count": 5,
   "id": "ae0fcf4e",
   "metadata": {},
   "outputs": [
    {
     "name": "stdout",
     "output_type": "stream",
     "text": [
      "\n",
      "\n",
      "\n",
      " hist bin edges: [-9.  -7.2 -5.4 -3.6 -1.8  0.   1.8  3.6  5.4  7.2  9. ]\n",
      "\n",
      "\n",
      "\n"
     ]
    }
   ],
   "source": [
    "print('\\n\\n')\n",
    "print(' hist bin edges: ', end='')\n",
    "print( hist_bin_edges)\n",
    "print('\\n\\n')"
   ]
  },
  {
   "cell_type": "code",
   "execution_count": 6,
   "id": "16d49222",
   "metadata": {
    "scrolled": true
   },
   "outputs": [
    {
     "name": "stdout",
     "output_type": "stream",
     "text": [
      "RooConstVar::bin_edge_000 = -9\n",
      "RooConstVar::bin_edge_001 = -7.2\n",
      "RooConstVar::bin_edge_002 = -5.4\n",
      "RooConstVar::bin_edge_003 = -3.6\n",
      "RooConstVar::bin_edge_004 = -1.8\n",
      "RooConstVar::bin_edge_005 = 0\n",
      "RooConstVar::bin_edge_006 = 1.8\n",
      "RooConstVar::bin_edge_007 = 3.6\n",
      "RooConstVar::bin_edge_008 = 5.4\n",
      "RooConstVar::bin_edge_009 = 7.2\n",
      "RooConstVar::bin_edge_010 = 9\n"
     ]
    }
   ],
   "source": [
    "x = ROOT.RooRealVar(\"x\",\"x\",-10.,10.)\n",
    "\n",
    "mean_x = ROOT.RooRealVar(\"mean_x\",\"mean_x\", true_mean_x, -3., 3.)\n",
    "\n",
    "sigma2_x = ROOT.RooRealVar(\"sigma2_x\",\"sigma2_x\", true_sigma2_x, 0.1, 9. )\n",
    "\n",
    "\n",
    "#-- put these in dict to keep them in memory.\n",
    "bin_edges_dict = {}\n",
    "for bi in range( hist_nbins+1 ) :\n",
    "    bin_name = 'bin_edge_%03d' % bi\n",
    "    bin_edges_dict[bin_name] = ROOT.RooConstVar( bin_name, bin_name, hist_bin_edges[bi] )\n",
    "    bin_edges_dict[bin_name].Print()\n"
   ]
  },
  {
   "cell_type": "code",
   "execution_count": 7,
   "id": "6f47cefe",
   "metadata": {},
   "outputs": [],
   "source": [
    "ral_bin_edges = ROOT.RooArgList()\n",
    "for bi in range( hist_nbins+1 ) :\n",
    "    bin_name = 'bin_edge_%03d' % bi\n",
    "    ral_bin_edges.add( bin_edges_dict[bin_name] )"
   ]
  },
  {
   "cell_type": "code",
   "execution_count": null,
   "id": "905e84fd",
   "metadata": {},
   "outputs": [],
   "source": []
  },
  {
   "cell_type": "code",
   "execution_count": 8,
   "id": "ac43244e",
   "metadata": {
    "scrolled": true
   },
   "outputs": [
    {
     "name": "stdout",
     "output_type": "stream",
     "text": [
      "   0 :  RooConstVar::bin_edge_000 = -9\n",
      "   1 :  RooConstVar::bin_edge_001 = -7.2\n",
      "   2 :  RooConstVar::bin_edge_002 = -5.4\n",
      "   3 :  RooConstVar::bin_edge_003 = -3.6\n",
      "   4 :  RooConstVar::bin_edge_004 = -1.8\n",
      "   5 :  RooConstVar::bin_edge_005 = 0\n",
      "   6 :  RooConstVar::bin_edge_006 = 1.8\n",
      "   7 :  RooConstVar::bin_edge_007 = 3.6\n",
      "   8 :  RooConstVar::bin_edge_008 = 5.4\n",
      "   9 :  RooConstVar::bin_edge_009 = 7.2\n",
      "  10 :  RooConstVar::bin_edge_010 = 9\n"
     ]
    }
   ],
   "source": [
    "rbg = ROOT.RooBinnedGauss1d( \"rmvn\", \"rmvn\", x, mean_x, sigma2_x, hist_nbins, ral_bin_edges )"
   ]
  },
  {
   "cell_type": "code",
   "execution_count": null,
   "id": "8d176335",
   "metadata": {},
   "outputs": [],
   "source": []
  },
  {
   "cell_type": "code",
   "execution_count": null,
   "id": "a92a4926",
   "metadata": {},
   "outputs": [],
   "source": []
  },
  {
   "cell_type": "code",
   "execution_count": null,
   "id": "bc3e76c0",
   "metadata": {},
   "outputs": [],
   "source": []
  },
  {
   "cell_type": "code",
   "execution_count": 9,
   "id": "4b483c3b",
   "metadata": {},
   "outputs": [],
   "source": [
    "#data_test = ROOT.RooDataSet( \"data_test\", \"data_test\", ROOT.RooArgSet(x) )\n",
    "data_test = ROOT.RooDataSet( \"data_test\", \"data_test\", x )\n",
    "ROOT.SetOwnership( data_test, True )"
   ]
  },
  {
   "cell_type": "code",
   "execution_count": null,
   "id": "56b61d61",
   "metadata": {},
   "outputs": [],
   "source": []
  },
  {
   "cell_type": "code",
   "execution_count": 10,
   "id": "c8459397",
   "metadata": {},
   "outputs": [],
   "source": [
    "xvals_continuous = np.random.normal( true_mean_x, true_sigma_x, ngen )"
   ]
  },
  {
   "cell_type": "code",
   "execution_count": 11,
   "id": "f640a2ca",
   "metadata": {},
   "outputs": [
    {
     "data": {
      "text/plain": [
       "array([ 6.44861787,  3.37926408,  0.25121927, ..., -0.33001708,\n",
       "        2.42521434,  3.3703528 ])"
      ]
     },
     "execution_count": 11,
     "metadata": {},
     "output_type": "execute_result"
    }
   ],
   "source": [
    "xvals_continuous"
   ]
  },
  {
   "cell_type": "code",
   "execution_count": 12,
   "id": "22f713b9",
   "metadata": {},
   "outputs": [],
   "source": [
    "x_bin_indices = np.array( (xvals_continuous - hist_xlow)/hist_binwidth, dtype=int )\n",
    "x_bin_indices = np.clip( x_bin_indices, 0, hist_nbins-1 )"
   ]
  },
  {
   "cell_type": "code",
   "execution_count": 13,
   "id": "bcddb7d4",
   "metadata": {},
   "outputs": [],
   "source": [
    "xvals_discrete = hist_bin_centers[ x_bin_indices ]"
   ]
  },
  {
   "cell_type": "code",
   "execution_count": 14,
   "id": "2fbde51c",
   "metadata": {},
   "outputs": [
    {
     "data": {
      "text/plain": [
       "array([ 6.3,  2.7,  0.9, ..., -0.9,  2.7,  2.7])"
      ]
     },
     "execution_count": 14,
     "metadata": {},
     "output_type": "execute_result"
    }
   ],
   "source": [
    "xvals_discrete"
   ]
  },
  {
   "cell_type": "code",
   "execution_count": 15,
   "id": "76a5fe0b",
   "metadata": {},
   "outputs": [],
   "source": [
    "for ei in range( ngen ) :\n",
    "    x.setVal( xvals_discrete[ei] )\n",
    "    data_test.add( x )"
   ]
  },
  {
   "cell_type": "code",
   "execution_count": 16,
   "id": "defaf24d",
   "metadata": {},
   "outputs": [
    {
     "data": {
      "text/plain": [
       "<cppyy.gbl.RooDataSet object at 0x59d483c9d720>"
      ]
     },
     "execution_count": 16,
     "metadata": {},
     "output_type": "execute_result"
    }
   ],
   "source": [
    "data_test"
   ]
  },
  {
   "cell_type": "code",
   "execution_count": 17,
   "id": "f7352655",
   "metadata": {},
   "outputs": [
    {
     "name": "stdout",
     "output_type": "stream",
     "text": [
      "DataStore data_test (data_test)\n",
      "  Contains 10000 entries\n",
      "  Observables: \n",
      "    1)  x = 2.7  L(-10 - 10)  \"x\"\n"
     ]
    }
   ],
   "source": [
    "data_test.Print(\"V\")"
   ]
  },
  {
   "cell_type": "code",
   "execution_count": 18,
   "id": "3e0b8395",
   "metadata": {},
   "outputs": [
    {
     "name": "stdout",
     "output_type": "stream",
     "text": [
      "  1) RooRealVar:: x = 6.3\n"
     ]
    }
   ],
   "source": [
    "data_test.get(0).Print(\"V\")"
   ]
  },
  {
   "cell_type": "code",
   "execution_count": 19,
   "id": "85ae783f",
   "metadata": {},
   "outputs": [
    {
     "name": "stdout",
     "output_type": "stream",
     "text": [
      "  1) RooRealVar:: x = 2.7\n"
     ]
    }
   ],
   "source": [
    "data_test.get(1).Print(\"V\")"
   ]
  },
  {
   "cell_type": "code",
   "execution_count": null,
   "id": "be0d7d6a",
   "metadata": {},
   "outputs": [],
   "source": []
  },
  {
   "cell_type": "code",
   "execution_count": 20,
   "id": "dc8bd676",
   "metadata": {
    "scrolled": true
   },
   "outputs": [
    {
     "name": "stdout",
     "output_type": "stream",
     "text": [
      "[#1] INFO:NumericIntegration -- RooRealIntegral::init(rmvn_Int[x]) using numeric integrator RooIntegrator1D to calculate Int(x)\n",
      "[#1] INFO:Minization -- RooMinimizer::optimizeConst: activating const optimization\n",
      " **********\n",
      " **    1 **SET PRINT           1\n",
      " **********\n",
      " **********\n",
      " **    2 **SET NOGRAD\n",
      " **********\n",
      " PARAMETER DEFINITIONS:\n",
      "    NO.   NAME         VALUE      STEP SIZE      LIMITS\n",
      "     1 mean_x       7.00000e-01  6.00000e-01   -3.00000e+00  3.00000e+00\n",
      "     2 sigma2_x     5.76000e+00  8.90000e-01    1.00000e-01  9.00000e+00\n",
      " **********\n",
      " **    3 **SET ERR         0.5\n",
      " **********\n",
      " **********\n",
      " **    4 **SET PRINT           1\n",
      " **********\n",
      " **********\n",
      " **    5 **SET STR           1\n",
      " **********\n",
      " NOW USING STRATEGY  1: TRY TO BALANCE SPEED AGAINST RELIABILITY\n",
      " **********\n",
      " **    6 **MIGRAD        1000           1\n",
      " **********\n",
      " FIRST CALL TO USER FUNCTION AT NEW START POINT, WITH IFLAG=4.\n",
      " START MIGRAD MINIMIZATION.  STRATEGY  1.  CONVERGENCE WHEN EDM .LT. 1.00e-03\n",
      " FCN=23267.6 FROM MIGRAD    STATUS=INITIATE        8 CALLS           9 TOTAL\n",
      "                     EDM= unknown      STRATEGY= 1      NO ERROR MATRIX       \n",
      "  EXT PARAMETER               CURRENT GUESS       STEP         FIRST   \n",
      "  NO.   NAME      VALUE            ERROR          SIZE      DERIVATIVE \n",
      "   1  mean_x       7.00000e-01   6.00000e-01   2.07424e-01  -1.90825e+01\n",
      "   2  sigma2_x     5.76000e+00   8.90000e-01   2.09742e-01  -5.83305e+01\n",
      "                               ERR DEF= 0.5\n",
      " MIGRAD MINIMIZATION HAS CONVERGED.\n",
      " MIGRAD WILL VERIFY CONVERGENCE AND ERROR MATRIX.\n",
      " COVARIANCE MATRIX CALCULATED SUCCESSFULLY\n",
      " FCN=23267 FROM MIGRAD    STATUS=CONVERGED      30 CALLS          31 TOTAL\n",
      "                     EDM=4.37158e-06    STRATEGY= 1      ERROR MATRIX ACCURATE \n",
      "  EXT PARAMETER                                   STEP         FIRST   \n",
      "  NO.   NAME      VALUE            ERROR          SIZE      DERIVATIVE \n",
      "   1  mean_x       7.04630e-01   2.47399e-02   8.92945e-04  -4.39298e-02\n",
      "   2  sigma2_x     5.85835e+00   8.63077e-02   2.13284e-03  -1.00895e-01\n",
      "                               ERR DEF= 0.5\n",
      " EXTERNAL ERROR MATRIX.    NDIM=  25    NPAR=  2    ERR DEF=0.5\n",
      "  6.121e-04  5.658e-05 \n",
      "  5.658e-05  7.450e-03 \n",
      " PARAMETER  CORRELATION COEFFICIENTS  \n",
      "       NO.  GLOBAL      1      2\n",
      "        1  0.02650   1.000  0.026\n",
      "        2  0.02650   0.026  1.000\n",
      " **********\n",
      " **    7 **SET ERR         0.5\n",
      " **********\n",
      " **********\n",
      " **    8 **SET PRINT           1\n",
      " **********\n",
      " **********\n",
      " **    9 **HESSE        1000\n",
      " **********\n",
      " COVARIANCE MATRIX CALCULATED SUCCESSFULLY\n",
      " FCN=23267 FROM HESSE     STATUS=OK             10 CALLS          41 TOTAL\n",
      "                     EDM=4.37006e-06    STRATEGY= 1      ERROR MATRIX ACCURATE \n",
      "  EXT PARAMETER                                INTERNAL      INTERNAL  \n",
      "  NO.   NAME      VALUE            ERROR       STEP SIZE       VALUE   \n",
      "   1  mean_x       7.04630e-01   2.47395e-02   1.78589e-04   2.37092e-01\n",
      "   2  sigma2_x     5.85835e+00   8.63065e-02   8.53134e-05   2.98421e-01\n",
      "                               ERR DEF= 0.5\n",
      " EXTERNAL ERROR MATRIX.    NDIM=  25    NPAR=  2    ERR DEF=0.5\n",
      "  6.121e-04  5.528e-05 \n",
      "  5.528e-05  7.450e-03 \n",
      " PARAMETER  CORRELATION COEFFICIENTS  \n",
      "       NO.  GLOBAL      1      2\n",
      "        1  0.02589   1.000  0.026\n",
      "        2  0.02589   0.026  1.000\n",
      "[#1] INFO:Minization -- RooMinimizer::optimizeConst: deactivating const optimization\n"
     ]
    }
   ],
   "source": [
    "rfr = rbg.fitTo( data_test, ROOT.RooFit.Save(True))"
   ]
  },
  {
   "cell_type": "code",
   "execution_count": 21,
   "id": "ad7d8d67",
   "metadata": {},
   "outputs": [
    {
     "name": "stdout",
     "output_type": "stream",
     "text": [
      "\n",
      " true mean_x = 0.70\n",
      " true sigma2_x = 5.76\n",
      "\n",
      "RooRealVar::mean_x = 0.70463 +/- 0.0247395  L(-3 - 3) \n",
      "RooRealVar::sigma2_x = 5.85835 +/- 0.0863065  L(0.1 - 9) \n"
     ]
    }
   ],
   "source": [
    "print('')\n",
    "print(' true mean_x = %.2f' % true_mean_x )\n",
    "\n",
    "print(' true sigma2_x = %.2f' % true_sigma2_x )\n",
    "\n",
    "\n",
    "print('')\n",
    "mean_x.Print()\n",
    "\n",
    "sigma2_x.Print()\n"
   ]
  },
  {
   "cell_type": "code",
   "execution_count": 22,
   "id": "e56bd743",
   "metadata": {},
   "outputs": [
    {
     "data": {
      "image/png": "[encoded data removed]",
      "text/plain": [
       "<IPython.core.display.Image object>"
      ]
     },
     "metadata": {},
     "output_type": "display_data"
    }
   ],
   "source": [
    "can = ROOT.TCanvas(\"can\",\"can\", 1200, 500)\n",
    "can.Divide(2,1)\n",
    "\n",
    "can.cd(1)\n",
    "xframe = x.frame(ROOT.RooFit.Title(\"data\"))\n",
    "data_test.plotOn(xframe)\n",
    "#rbg.plotOn(xframe)\n",
    "xframe.Draw()\n",
    "can.Draw()\n",
    "\n",
    "\n"
   ]
  },
  {
   "cell_type": "code",
   "execution_count": 23,
   "id": "b33d4cb8",
   "metadata": {},
   "outputs": [
    {
     "name": "stdout",
     "output_type": "stream",
     "text": [
      "[#1] INFO:NumericIntegration -- RooRealIntegral::init(rmvn_Int[x]) using numeric integrator RooIntegrator1D to calculate Int(x)\n"
     ]
    },
    {
     "name": "stderr",
     "output_type": "stream",
     "text": [
      "Warning in <TCanvas::Constructor>: Deleting canvas with same name: can\n"
     ]
    },
    {
     "data": {
      "image/png": "[encoded data removed]",
      "text/plain": [
       "<IPython.core.display.Image object>"
      ]
     },
     "metadata": {},
     "output_type": "display_data"
    }
   ],
   "source": [
    "can = ROOT.TCanvas(\"can\",\"can\", 1200, 500)\n",
    "can.Divide(2,1)\n",
    "\n",
    "can.cd(1)\n",
    "xframe = x.frame(ROOT.RooFit.Title(\"data\"))\n",
    "data_test.plotOn(xframe)\n",
    "rbg.plotOn(xframe)\n",
    "xframe.Draw()\n",
    "can.Draw()"
   ]
  },
  {
   "cell_type": "code",
   "execution_count": null,
   "id": "f79a9494",
   "metadata": {},
   "outputs": [],
   "source": []
  }
 ],
 "metadata": {
  "kernelspec": {
   "display_name": "Python 3 (ipykernel)",
   "language": "python",
   "name": "python3"
  },
  "language_info": {
   "codemirror_mode": {
    "name": "ipython",
    "version": 3
   },
   "file_extension": ".py",
   "mimetype": "text/x-python",
   "name": "python",
   "nbconvert_exporter": "python",
   "pygments_lexer": "ipython3",
   "version": "3.10.12"
  }
 },
 "nbformat": 4,
 "nbformat_minor": 5
}
