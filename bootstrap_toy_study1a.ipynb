{
 "cells": [
  {
   "cell_type": "code",
   "execution_count": 1,
   "id": "2e1be84d",
   "metadata": {},
   "outputs": [],
   "source": [
    "import matplotlib.pyplot as plt\n",
    "import numpy as np\n",
    "\n",
    "import time\n",
    "\n",
    "import os\n",
    "\n",
    "os.environ['CUDA_VISIBLE_DEVICES']=\"0\"\n",
    "\n",
    "from keras.layers import Dense, Input\n",
    "from keras.models import Model\n",
    "\n",
    "import omnifold as of\n",
    "import os\n",
    "import tensorflow as tf\n"
   ]
  },
  {
   "cell_type": "code",
   "execution_count": 2,
   "id": "a708ce4e",
   "metadata": {},
   "outputs": [
    {
     "name": "stdout",
     "output_type": "stream",
     "text": [
      "\n",
      "\n",
      "\n",
      "  numpy version:  1.21.5\n",
      "  tensorflow version:  2.11.0\n",
      "\n",
      "\n",
      "\n"
     ]
    }
   ],
   "source": [
    "print(\"\\n\\n\")\n",
    "print(\"  numpy version:  %s\" % str(np.version.version) )\n",
    "print(\"  tensorflow version:  %s\" % str(tf.__version__))\n",
    "print(\"\\n\\n\")"
   ]
  },
  {
   "cell_type": "code",
   "execution_count": null,
   "id": "744ac3fe",
   "metadata": {},
   "outputs": [],
   "source": []
  },
  {
   "cell_type": "code",
   "execution_count": null,
   "id": "c8c8ca7c",
   "metadata": {},
   "outputs": [],
   "source": []
  },
  {
   "cell_type": "markdown",
   "id": "fcd5a27a",
   "metadata": {},
   "source": [
    "## Set model and resolution parameters"
   ]
  },
  {
   "cell_type": "code",
   "execution_count": 3,
   "id": "b77c63e8",
   "metadata": {},
   "outputs": [],
   "source": [
    "train_mu0 = 0.\n",
    "train_mu1 = 1.\n",
    "train_rho01 = -0.6\n",
    "\n",
    "train_sig0 = 1.0\n",
    "train_sig1 = 1.5\n",
    "\n",
    "train_cov00 = train_sig0 * train_sig0 \n",
    "train_cov11 = train_sig1 * train_sig1\n",
    "train_cov01 = train_rho01 * train_sig0 * train_sig1\n",
    "\n",
    "train_cov = np.array( [[train_cov00, train_cov01], [train_cov01, train_cov11]] )\n",
    "train_mu = np.array( [train_mu0, train_mu1])\n",
    "\n",
    "\n",
    "\n",
    "true_mu0 = 0.2\n",
    "true_mu1 = 0.8\n",
    "true_rho01 = -0.6\n",
    "\n",
    "true_sig0 = 0.9\n",
    "true_sig1 = 1.3\n",
    "\n",
    "true_cov00 = true_sig0 * true_sig0 \n",
    "true_cov11 = true_sig1 * true_sig1\n",
    "true_cov01 = true_rho01 * true_sig0 * true_sig1\n",
    "\n",
    "true_cov = np.array( [[true_cov00, true_cov01], [true_cov01, true_cov11]] )\n",
    "true_mu = np.array( [true_mu0, true_mu1])\n",
    "\n",
    "\n",
    "\n",
    "#--- resolution is in same dimensions as features (not sigma/val)\n",
    "res0 = 0.5\n",
    "res1 = 0.8\n",
    "\n",
    "\n"
   ]
  },
  {
   "cell_type": "markdown",
   "id": "bd7b4128",
   "metadata": {},
   "source": [
    "## Plots to visualize these parameter choices"
   ]
  },
  {
   "cell_type": "code",
   "execution_count": 4,
   "id": "2ff65ef2",
   "metadata": {},
   "outputs": [],
   "source": [
    "\n",
    "ngen_train = 100000\n",
    "ngen_true = 10000\n",
    "\n",
    "train_pts = np.random.multivariate_normal(train_mu, train_cov, size=ngen_train)\n",
    "true_pts = np.random.multivariate_normal(true_mu, true_cov, size=ngen_true)\n",
    "\n",
    "train_det_pts = np.random.normal( train_pts, [res0, res1])\n",
    "\n",
    "true_det_pts = np.random.normal( true_pts, [res0, res1])\n",
    "\n"
   ]
  },
  {
   "cell_type": "code",
   "execution_count": 5,
   "id": "206826c4",
   "metadata": {},
   "outputs": [
    {
     "data": {
      "text/plain": [
       "<function matplotlib.pyplot.show(close=None, block=None)>"
      ]
     },
     "execution_count": 5,
     "metadata": {},
     "output_type": "execute_result"
    },
    {
     "data": {
      "image/png": "[encoded data removed]",
      "text/plain": [
       "<Figure size 864x864 with 4 Axes>"
      ]
     },
     "metadata": {
      "needs_background": "light"
     },
     "output_type": "display_data"
    }
   ],
   "source": [
    "fig,ax = plt.subplots( 2, 2, figsize=(12,12))\n",
    "\n",
    "hmin=-6\n",
    "hmax=6\n",
    "hbins=40\n",
    "\n",
    "ax[0][0].hist2d( train_pts[:,0], train_pts[:,1], bins=[hbins,hbins], range=([hmin,hmax],[hmin,hmax]))\n",
    "\n",
    "ax[0][1].hist2d( true_pts[:,0], true_pts[:,1], bins=[hbins,hbins], range=([hmin,hmax],[hmin,hmax]))\n",
    "\n",
    "ax[1][0].hist( train_pts[:,0], bins=hbins, range=[hmin,hmax], density=True, label='Train particle' )\n",
    "ax[1][0].hist( true_pts[:,0], bins=hbins, range=[hmin,hmax], density=True, label='True particle', alpha=0.6)\n",
    "\n",
    "ax[1][1].hist( train_pts[:,1], bins=hbins, range=[hmin,hmax], density=True, label='Train particle' )\n",
    "ax[1][1].hist( true_pts[:,1], bins=hbins, range=[hmin,hmax], density=True, label='True particle', alpha=0.6)\n",
    "\n",
    "\n",
    "ax[1][0].legend(loc='best', fontsize=13)\n",
    "ax[1][1].legend(loc='best', fontsize=13)\n",
    "\n",
    "plt.show"
   ]
  },
  {
   "cell_type": "code",
   "execution_count": 6,
   "id": "065ffe12",
   "metadata": {},
   "outputs": [],
   "source": [
    "train_diff = train_det_pts - train_pts"
   ]
  },
  {
   "cell_type": "code",
   "execution_count": 7,
   "id": "e4076f78",
   "metadata": {},
   "outputs": [],
   "source": [
    "diff_cov = np.cov( train_diff.T )"
   ]
  },
  {
   "cell_type": "code",
   "execution_count": 8,
   "id": "4fa1fc32",
   "metadata": {},
   "outputs": [
    {
     "data": {
      "text/plain": [
       "array([[0.24976146, 0.00079242],\n",
       "       [0.00079242, 0.63997484]])"
      ]
     },
     "execution_count": 8,
     "metadata": {},
     "output_type": "execute_result"
    }
   ],
   "source": [
    "diff_cov"
   ]
  },
  {
   "cell_type": "code",
   "execution_count": 9,
   "id": "6b2431f5",
   "metadata": {},
   "outputs": [
    {
     "data": {
      "text/plain": [
       "0.49976140289134385"
      ]
     },
     "execution_count": 9,
     "metadata": {},
     "output_type": "execute_result"
    }
   ],
   "source": [
    "np.sqrt(diff_cov[0,0])"
   ]
  },
  {
   "cell_type": "code",
   "execution_count": 10,
   "id": "a4f83bdf",
   "metadata": {},
   "outputs": [
    {
     "data": {
      "text/plain": [
       "0.7999842734766843"
      ]
     },
     "execution_count": 10,
     "metadata": {},
     "output_type": "execute_result"
    }
   ],
   "source": [
    "np.sqrt(diff_cov[1,1])"
   ]
  },
  {
   "cell_type": "code",
   "execution_count": 11,
   "id": "6a5b9df1",
   "metadata": {
    "scrolled": false
   },
   "outputs": [
    {
     "data": {
      "text/plain": [
       "<function matplotlib.pyplot.show(close=None, block=None)>"
      ]
     },
     "execution_count": 11,
     "metadata": {},
     "output_type": "execute_result"
    },
    {
     "data": {
      "image/png": "[encoded data removed]",
      "text/plain": [
       "<Figure size 864x864 with 4 Axes>"
      ]
     },
     "metadata": {
      "needs_background": "light"
     },
     "output_type": "display_data"
    }
   ],
   "source": [
    "fig,ax = plt.subplots( 2, 2, figsize=(12,12))\n",
    "\n",
    "hmin=-6\n",
    "hmax=6\n",
    "hbins=40\n",
    "\n",
    "ax[0][0].hist2d( train_pts[:,0], train_pts[:,1], bins=[hbins,hbins], range=([hmin,hmax],[hmin,hmax]))\n",
    "\n",
    "ax[0][1].hist2d( train_det_pts[:,0], train_det_pts[:,1], bins=[hbins,hbins], range=([hmin,hmax],[hmin,hmax]))\n",
    "\n",
    "ax[1][0].hist( train_pts[:,0], bins=hbins, range=[hmin,hmax], label='train particle' )\n",
    "ax[1][0].hist( train_det_pts[:,0], bins=hbins, range=[hmin,hmax], label='train det', alpha=0.6)\n",
    "\n",
    "ax[1][1].hist( train_pts[:,1], bins=hbins, range=[hmin,hmax], label='train particle' )\n",
    "ax[1][1].hist( train_det_pts[:,1], bins=hbins, range=[hmin,hmax], label='train det', alpha=0.6)\n",
    "\n",
    "\n",
    "ax[1][0].legend(loc='best', fontsize=13)\n",
    "ax[1][1].legend(loc='best', fontsize=13)\n",
    "\n",
    "plt.show"
   ]
  },
  {
   "cell_type": "code",
   "execution_count": null,
   "id": "ee059469",
   "metadata": {},
   "outputs": [],
   "source": []
  },
  {
   "cell_type": "code",
   "execution_count": 12,
   "id": "9fd4b4e8",
   "metadata": {},
   "outputs": [
    {
     "data": {
      "text/plain": [
       "<function matplotlib.pyplot.show(close=None, block=None)>"
      ]
     },
     "execution_count": 12,
     "metadata": {},
     "output_type": "execute_result"
    },
    {
     "data": {
      "image/png": "[encoded data removed]",
      "text/plain": [
       "<Figure size 864x864 with 4 Axes>"
      ]
     },
     "metadata": {
      "needs_background": "light"
     },
     "output_type": "display_data"
    }
   ],
   "source": [
    "fig,ax = plt.subplots( 2, 2, figsize=(12,12))\n",
    "\n",
    "hmin=-6\n",
    "hmax=6\n",
    "hbins=40\n",
    "\n",
    "ax[0][0].hist2d( true_pts[:,0], true_pts[:,1], bins=[hbins,hbins], range=([hmin,hmax],[hmin,hmax]))\n",
    "\n",
    "ax[0][1].hist2d( true_det_pts[:,0], true_det_pts[:,1], bins=[hbins,hbins], range=([hmin,hmax],[hmin,hmax]))\n",
    "\n",
    "ax[1][0].hist( true_pts[:,0], bins=hbins, range=[hmin,hmax], label='true particle' )\n",
    "ax[1][0].hist( true_det_pts[:,0], bins=hbins, range=[hmin,hmax], label='true det', alpha=0.6)\n",
    "\n",
    "ax[1][1].hist( true_pts[:,1], bins=hbins, range=[hmin,hmax], label='true particle' )\n",
    "ax[1][1].hist( true_det_pts[:,1], bins=hbins, range=[hmin,hmax], label='true det', alpha=0.6)\n",
    "\n",
    "\n",
    "ax[1][0].legend(loc='best', fontsize=13)\n",
    "ax[1][1].legend(loc='best', fontsize=13)\n",
    "\n",
    "plt.show"
   ]
  },
  {
   "cell_type": "code",
   "execution_count": null,
   "id": "267fadd1",
   "metadata": {},
   "outputs": [],
   "source": []
  },
  {
   "cell_type": "code",
   "execution_count": 13,
   "id": "7490e888",
   "metadata": {},
   "outputs": [
    {
     "data": {
      "text/plain": [
       "<function matplotlib.pyplot.show(close=None, block=None)>"
      ]
     },
     "execution_count": 13,
     "metadata": {},
     "output_type": "execute_result"
    },
    {
     "data": {
      "image/png": "[encoded data removed]",
      "text/plain": [
       "<Figure size 864x864 with 4 Axes>"
      ]
     },
     "metadata": {
      "needs_background": "light"
     },
     "output_type": "display_data"
    }
   ],
   "source": [
    "fig,ax = plt.subplots( 2, 2, figsize=(12,12))\n",
    "\n",
    "hmin=-6\n",
    "hmax=6\n",
    "hbins=40\n",
    "\n",
    "ax[0][0].hist2d( train_det_pts[:,0], train_det_pts[:,1], bins=[hbins,hbins], range=([hmin,hmax],[hmin,hmax]))\n",
    "\n",
    "ax[0][1].hist2d( true_det_pts[:,0], true_det_pts[:,1], bins=[hbins,hbins], range=([hmin,hmax],[hmin,hmax]))\n",
    "\n",
    "ax[1][0].hist( train_det_pts[:,0], bins=hbins, density=True, range=[hmin,hmax], label='Train det' )\n",
    "ax[1][0].hist( true_det_pts[:,0], bins=hbins, density=True, range=[hmin,hmax], label='True det', alpha=0.6)\n",
    "\n",
    "ax[1][1].hist( train_det_pts[:,1], bins=hbins, density=True, range=[hmin,hmax], label='Train det' )\n",
    "ax[1][1].hist( true_det_pts[:,1], bins=hbins, density=True, range=[hmin,hmax], label='True det', alpha=0.6)\n",
    "\n",
    "\n",
    "ax[1][0].legend(loc='best', fontsize=13)\n",
    "ax[1][1].legend(loc='best', fontsize=13)\n",
    "\n",
    "plt.show"
   ]
  },
  {
   "cell_type": "code",
   "execution_count": null,
   "id": "08cd4f1d",
   "metadata": {},
   "outputs": [],
   "source": []
  },
  {
   "cell_type": "markdown",
   "id": "163478c2",
   "metadata": {},
   "source": [
    "## Set up NN model for OmniFold"
   ]
  },
  {
   "cell_type": "code",
   "execution_count": 14,
   "id": "c894f0a6",
   "metadata": {},
   "outputs": [
    {
     "name": "stderr",
     "output_type": "stream",
     "text": [
      "2023-10-27 13:54:40.878221: I tensorflow/compiler/xla/stream_executor/cuda/cuda_gpu_executor.cc:981] successful NUMA node read from SysFS had negative value (-1), but there must be at least one NUMA node, so returning NUMA node zero\n",
      "2023-10-27 13:54:40.894237: I tensorflow/compiler/xla/stream_executor/cuda/cuda_gpu_executor.cc:981] successful NUMA node read from SysFS had negative value (-1), but there must be at least one NUMA node, so returning NUMA node zero\n",
      "2023-10-27 13:54:40.894475: I tensorflow/compiler/xla/stream_executor/cuda/cuda_gpu_executor.cc:981] successful NUMA node read from SysFS had negative value (-1), but there must be at least one NUMA node, so returning NUMA node zero\n",
      "2023-10-27 13:54:40.897725: I tensorflow/compiler/xla/stream_executor/cuda/cuda_gpu_executor.cc:981] successful NUMA node read from SysFS had negative value (-1), but there must be at least one NUMA node, so returning NUMA node zero\n",
      "2023-10-27 13:54:40.897912: I tensorflow/compiler/xla/stream_executor/cuda/cuda_gpu_executor.cc:981] successful NUMA node read from SysFS had negative value (-1), but there must be at least one NUMA node, so returning NUMA node zero\n",
      "2023-10-27 13:54:40.898082: I tensorflow/compiler/xla/stream_executor/cuda/cuda_gpu_executor.cc:981] successful NUMA node read from SysFS had negative value (-1), but there must be at least one NUMA node, so returning NUMA node zero\n",
      "2023-10-27 13:54:41.285319: I tensorflow/compiler/xla/stream_executor/cuda/cuda_gpu_executor.cc:981] successful NUMA node read from SysFS had negative value (-1), but there must be at least one NUMA node, so returning NUMA node zero\n",
      "2023-10-27 13:54:41.285544: I tensorflow/compiler/xla/stream_executor/cuda/cuda_gpu_executor.cc:981] successful NUMA node read from SysFS had negative value (-1), but there must be at least one NUMA node, so returning NUMA node zero\n",
      "2023-10-27 13:54:41.285723: I tensorflow/compiler/xla/stream_executor/cuda/cuda_gpu_executor.cc:981] successful NUMA node read from SysFS had negative value (-1), but there must be at least one NUMA node, so returning NUMA node zero\n",
      "2023-10-27 13:54:41.285880: I tensorflow/core/common_runtime/gpu/gpu_device.cc:1613] Created device /job:localhost/replica:0/task:0/device:GPU:0 with 21639 MB memory:  -> device: 0, name: NVIDIA GeForce RTX 3090, pci bus id: 0000:41:00.0, compute capability: 8.6\n"
     ]
    }
   ],
   "source": [
    "inputs = Input((2, ))\n",
    "hidden_layer_1 = Dense(50, activation='relu')(inputs)\n",
    "hidden_layer_2 = Dense(50, activation='relu')(hidden_layer_1)\n",
    "hidden_layer_3 = Dense(50, activation='relu')(hidden_layer_2)\n",
    "outputs = Dense(1, activation='sigmoid')(hidden_layer_3)\n",
    "model = Model(inputs=inputs, outputs=outputs)"
   ]
  },
  {
   "cell_type": "code",
   "execution_count": null,
   "id": "c8d008a4",
   "metadata": {},
   "outputs": [],
   "source": []
  },
  {
   "cell_type": "markdown",
   "id": "a90ab248",
   "metadata": {},
   "source": [
    "## Package the training data for OmniFold"
   ]
  },
  {
   "cell_type": "code",
   "execution_count": 15,
   "id": "2fdd2141",
   "metadata": {},
   "outputs": [],
   "source": [
    "train_both = np.stack([train_pts, train_det_pts], axis=1)"
   ]
  },
  {
   "cell_type": "code",
   "execution_count": null,
   "id": "2044abbc",
   "metadata": {},
   "outputs": [],
   "source": []
  },
  {
   "cell_type": "markdown",
   "id": "3785505f",
   "metadata": {},
   "source": [
    "## Run OmniFold"
   ]
  },
  {
   "cell_type": "code",
   "execution_count": 16,
   "id": "2f3d1d70",
   "metadata": {
    "scrolled": true
   },
   "outputs": [
    {
     "name": "stdout",
     "output_type": "stream",
     "text": [
      "\n",
      "\n",
      "\n",
      "  shape of theta0_S : (100000, 2)\n",
      "  shape of theta_unknown_S : (10000, 2)\n",
      "  shape of xvals_1 :  (110000, 2)\n",
      "\n",
      "\n",
      "\n",
      "  shape of labels0 : (100000,)\n",
      "  shape of labels_unknown : (10000,)\n",
      "  shape of yvals_1 :  (110000,)\n",
      "\n",
      "\n",
      "\n",
      "  shape of theta0_G : (100000, 2)\n",
      "  shape of xvals_2 :  (200000, 2)\n",
      "  shape of yvals_2 :  (200000,)\n",
      "\n",
      "\n",
      "\n",
      "\n",
      "ITERATION: 1\n",
      "\n",
      "   -- ITERATION 1  STEP 1\n",
      "\n",
      "Epoch 1/20\n"
     ]
    },
    {
     "name": "stderr",
     "output_type": "stream",
     "text": [
      "2023-10-27 13:54:42.611845: I tensorflow/compiler/xla/stream_executor/cuda/cuda_blas.cc:630] TensorFloat-32 will be used for the matrix multiplication. This will only be logged once.\n",
      "2023-10-27 13:54:42.614298: I tensorflow/compiler/xla/service/service.cc:173] XLA service 0x7f3f9801c080 initialized for platform CUDA (this does not guarantee that XLA will be used). Devices:\n",
      "2023-10-27 13:54:42.614326: I tensorflow/compiler/xla/service/service.cc:181]   StreamExecutor device (0): NVIDIA GeForce RTX 3090, Compute Capability 8.6\n",
      "2023-10-27 13:54:42.621226: I tensorflow/compiler/mlir/tensorflow/utils/dump_mlir_util.cc:268] disabling MLIR crash reproducer, set env var `MLIR_CRASH_REPRODUCER_DIRECTORY` to enable.\n",
      "2023-10-27 13:54:42.731413: I tensorflow/compiler/jit/xla_compilation_cache.cc:477] Compiled cluster using XLA!  This line is logged at most once for the lifetime of the process.\n"
     ]
    },
    {
     "name": "stdout",
     "output_type": "stream",
     "text": [
      "9/9 [==============================] - 2s 21ms/step - loss: 0.5747 - accuracy: 0.4544 - val_loss: 0.4977 - val_accuracy: 0.4550\n",
      "Epoch 2/20\n",
      "9/9 [==============================] - 0s 5ms/step - loss: 0.4563 - accuracy: 0.4544 - val_loss: 0.3988 - val_accuracy: 0.4550\n",
      "Epoch 3/20\n",
      "9/9 [==============================] - 0s 4ms/step - loss: 0.3744 - accuracy: 0.4544 - val_loss: 0.3423 - val_accuracy: 0.4550\n",
      "Epoch 4/20\n",
      "9/9 [==============================] - 0s 4ms/step - loss: 0.3375 - accuracy: 0.4544 - val_loss: 0.3290 - val_accuracy: 0.4550\n",
      "Epoch 5/20\n",
      "9/9 [==============================] - 0s 4ms/step - loss: 0.3321 - accuracy: 0.4544 - val_loss: 0.3260 - val_accuracy: 0.4550\n",
      "Epoch 6/20\n",
      "9/9 [==============================] - 0s 5ms/step - loss: 0.3278 - accuracy: 0.4544 - val_loss: 0.3203 - val_accuracy: 0.4550\n",
      "Epoch 7/20\n",
      "9/9 [==============================] - 0s 5ms/step - loss: 0.3228 - accuracy: 0.4544 - val_loss: 0.3169 - val_accuracy: 0.4550\n",
      "Epoch 8/20\n",
      "9/9 [==============================] - 0s 5ms/step - loss: 0.3197 - accuracy: 0.4544 - val_loss: 0.3143 - val_accuracy: 0.4550\n",
      "Epoch 9/20\n",
      "9/9 [==============================] - 0s 5ms/step - loss: 0.3170 - accuracy: 0.4544 - val_loss: 0.3120 - val_accuracy: 0.4550\n",
      "Epoch 10/20\n",
      "9/9 [==============================] - 0s 5ms/step - loss: 0.3146 - accuracy: 0.4544 - val_loss: 0.3097 - val_accuracy: 0.4550\n",
      "Epoch 11/20\n",
      "9/9 [==============================] - 0s 5ms/step - loss: 0.3123 - accuracy: 0.4544 - val_loss: 0.3077 - val_accuracy: 0.4550\n",
      "Epoch 12/20\n",
      "9/9 [==============================] - 0s 4ms/step - loss: 0.3103 - accuracy: 0.4544 - val_loss: 0.3059 - val_accuracy: 0.4550\n",
      "Epoch 13/20\n",
      "9/9 [==============================] - 0s 4ms/step - loss: 0.3086 - accuracy: 0.4544 - val_loss: 0.3044 - val_accuracy: 0.4550\n",
      "Epoch 14/20\n",
      "9/9 [==============================] - 0s 4ms/step - loss: 0.3070 - accuracy: 0.4544 - val_loss: 0.3032 - val_accuracy: 0.4550\n",
      "Epoch 15/20\n",
      "9/9 [==============================] - 0s 5ms/step - loss: 0.3057 - accuracy: 0.4544 - val_loss: 0.3022 - val_accuracy: 0.4550\n",
      "Epoch 16/20\n",
      "9/9 [==============================] - 0s 5ms/step - loss: 0.3047 - accuracy: 0.4544 - val_loss: 0.3013 - val_accuracy: 0.4550\n",
      "Epoch 17/20\n",
      "9/9 [==============================] - 0s 4ms/step - loss: 0.3040 - accuracy: 0.4544 - val_loss: 0.3008 - val_accuracy: 0.4550\n",
      "Epoch 18/20\n",
      "9/9 [==============================] - 0s 5ms/step - loss: 0.3034 - accuracy: 0.4544 - val_loss: 0.3005 - val_accuracy: 0.4550\n",
      "Epoch 19/20\n",
      "9/9 [==============================] - 0s 4ms/step - loss: 0.3033 - accuracy: 0.4544 - val_loss: 0.3004 - val_accuracy: 0.4550\n",
      "Epoch 20/20\n",
      "9/9 [==============================] - 0s 4ms/step - loss: 0.3031 - accuracy: 0.4544 - val_loss: 0.3003 - val_accuracy: 0.4550\n",
      "10/10 [==============================] - 0s 591us/step\n",
      "10/10 [==============================] - 0s 633us/step\n",
      "\n",
      "   -- ITERATION 1  STEP 2\n",
      "\n",
      "Epoch 1/20\n",
      "75/75 [==============================] - 1s 4ms/step - loss: 0.1672 - accuracy: 0.2501 - val_loss: 0.1670 - val_accuracy: 0.2496\n",
      "Epoch 2/20\n",
      "75/75 [==============================] - 0s 3ms/step - loss: 0.1671 - accuracy: 0.2501 - val_loss: 0.1672 - val_accuracy: 0.2496\n",
      "Epoch 3/20\n",
      "75/75 [==============================] - 0s 3ms/step - loss: 0.1671 - accuracy: 0.2501 - val_loss: 0.1670 - val_accuracy: 0.2496\n",
      "Epoch 4/20\n",
      "75/75 [==============================] - 0s 3ms/step - loss: 0.1671 - accuracy: 0.2501 - val_loss: 0.1671 - val_accuracy: 0.2496\n",
      "Epoch 5/20\n",
      "75/75 [==============================] - 0s 3ms/step - loss: 0.1671 - accuracy: 0.2501 - val_loss: 0.1671 - val_accuracy: 0.2496\n",
      "Epoch 6/20\n",
      "75/75 [==============================] - 0s 3ms/step - loss: 0.1671 - accuracy: 0.2501 - val_loss: 0.1670 - val_accuracy: 0.2496\n",
      "Epoch 7/20\n",
      "75/75 [==============================] - 0s 3ms/step - loss: 0.1671 - accuracy: 0.2501 - val_loss: 0.1669 - val_accuracy: 0.2496\n",
      "Epoch 8/20\n",
      "75/75 [==============================] - 0s 2ms/step - loss: 0.1671 - accuracy: 0.2501 - val_loss: 0.1670 - val_accuracy: 0.2496\n",
      "Epoch 9/20\n",
      "75/75 [==============================] - 0s 3ms/step - loss: 0.1671 - accuracy: 0.2501 - val_loss: 0.1671 - val_accuracy: 0.2496\n",
      "Epoch 10/20\n",
      "75/75 [==============================] - 0s 3ms/step - loss: 0.1671 - accuracy: 0.2501 - val_loss: 0.1670 - val_accuracy: 0.2496\n",
      "Epoch 11/20\n",
      "75/75 [==============================] - 0s 3ms/step - loss: 0.1671 - accuracy: 0.2501 - val_loss: 0.1670 - val_accuracy: 0.2496\n",
      "Epoch 12/20\n",
      "75/75 [==============================] - 0s 3ms/step - loss: 0.1671 - accuracy: 0.2501 - val_loss: 0.1671 - val_accuracy: 0.2496\n",
      "Epoch 13/20\n",
      "75/75 [==============================] - 0s 3ms/step - loss: 0.1671 - accuracy: 0.2501 - val_loss: 0.1670 - val_accuracy: 0.2496\n",
      "Epoch 14/20\n",
      "75/75 [==============================] - 0s 3ms/step - loss: 0.1672 - accuracy: 0.2501 - val_loss: 0.1670 - val_accuracy: 0.2496\n",
      "Epoch 15/20\n",
      "75/75 [==============================] - 0s 3ms/step - loss: 0.1671 - accuracy: 0.2501 - val_loss: 0.1670 - val_accuracy: 0.2496\n",
      "Epoch 16/20\n",
      "75/75 [==============================] - 0s 3ms/step - loss: 0.1671 - accuracy: 0.2501 - val_loss: 0.1670 - val_accuracy: 0.2496\n",
      "Epoch 17/20\n",
      "75/75 [==============================] - 0s 2ms/step - loss: 0.1671 - accuracy: 0.2501 - val_loss: 0.1670 - val_accuracy: 0.2496\n",
      "Epoch 18/20\n",
      "75/75 [==============================] - 0s 3ms/step - loss: 0.1671 - accuracy: 0.2501 - val_loss: 0.1670 - val_accuracy: 0.2496\n",
      "Epoch 19/20\n",
      "75/75 [==============================] - 0s 3ms/step - loss: 0.1671 - accuracy: 0.2501 - val_loss: 0.1670 - val_accuracy: 0.2496\n",
      "Epoch 20/20\n",
      "75/75 [==============================] - 0s 2ms/step - loss: 0.1671 - accuracy: 0.2501 - val_loss: 0.1670 - val_accuracy: 0.2496\n",
      "10/10 [==============================] - 0s 695us/step\n",
      "\n",
      "ITERATION: 2\n",
      "\n",
      "   -- ITERATION 2  STEP 1\n",
      "\n",
      "Epoch 1/20\n",
      "9/9 [==============================] - 1s 17ms/step - loss: 0.2018 - accuracy: 0.4543 - val_loss: 0.1664 - val_accuracy: 0.4554\n",
      "Epoch 2/20\n",
      "9/9 [==============================] - 0s 5ms/step - loss: 0.1575 - accuracy: 0.4543 - val_loss: 0.1413 - val_accuracy: 0.4554\n",
      "Epoch 3/20\n",
      "9/9 [==============================] - 0s 5ms/step - loss: 0.1390 - accuracy: 0.4543 - val_loss: 0.1314 - val_accuracy: 0.4554\n",
      "Epoch 4/20\n",
      "9/9 [==============================] - 0s 4ms/step - loss: 0.1313 - accuracy: 0.4543 - val_loss: 0.1271 - val_accuracy: 0.4554\n",
      "Epoch 5/20\n",
      "9/9 [==============================] - 0s 5ms/step - loss: 0.1279 - accuracy: 0.4309 - val_loss: 0.1253 - val_accuracy: 0.3496\n",
      "Epoch 6/20\n",
      "9/9 [==============================] - 0s 4ms/step - loss: 0.1267 - accuracy: 0.3063 - val_loss: 0.1249 - val_accuracy: 0.2335\n",
      "Epoch 7/20\n",
      "9/9 [==============================] - 0s 4ms/step - loss: 0.1264 - accuracy: 0.1969 - val_loss: 0.1248 - val_accuracy: 0.1810\n",
      "Epoch 8/20\n",
      "9/9 [==============================] - 0s 4ms/step - loss: 0.1261 - accuracy: 0.1931 - val_loss: 0.1246 - val_accuracy: 0.2682\n",
      "Epoch 9/20\n",
      "9/9 [==============================] - 0s 4ms/step - loss: 0.1260 - accuracy: 0.3345 - val_loss: 0.1246 - val_accuracy: 0.3670\n",
      "Epoch 10/20\n",
      "9/9 [==============================] - 0s 4ms/step - loss: 0.1260 - accuracy: 0.3466 - val_loss: 0.1245 - val_accuracy: 0.2885\n",
      "Epoch 11/20\n",
      "9/9 [==============================] - 0s 4ms/step - loss: 0.1259 - accuracy: 0.2762 - val_loss: 0.1245 - val_accuracy: 0.2697\n",
      "Epoch 12/20\n",
      "9/9 [==============================] - 0s 4ms/step - loss: 0.1259 - accuracy: 0.2726 - val_loss: 0.1245 - val_accuracy: 0.2726\n",
      "Epoch 13/20\n",
      "9/9 [==============================] - 0s 4ms/step - loss: 0.1259 - accuracy: 0.2986 - val_loss: 0.1245 - val_accuracy: 0.3057\n",
      "Epoch 14/20\n",
      "9/9 [==============================] - 0s 4ms/step - loss: 0.1259 - accuracy: 0.2901 - val_loss: 0.1245 - val_accuracy: 0.2572\n",
      "Epoch 15/20\n",
      "9/9 [==============================] - 0s 4ms/step - loss: 0.1258 - accuracy: 0.2648 - val_loss: 0.1245 - val_accuracy: 0.2687\n",
      "Epoch 16/20\n",
      "9/9 [==============================] - 0s 4ms/step - loss: 0.1258 - accuracy: 0.2690 - val_loss: 0.1245 - val_accuracy: 0.2748\n",
      "Epoch 17/20\n",
      "9/9 [==============================] - 0s 4ms/step - loss: 0.1258 - accuracy: 0.3172 - val_loss: 0.1245 - val_accuracy: 0.3269\n",
      "Epoch 18/20\n"
     ]
    },
    {
     "name": "stdout",
     "output_type": "stream",
     "text": [
      "9/9 [==============================] - 0s 4ms/step - loss: 0.1258 - accuracy: 0.2766 - val_loss: 0.1245 - val_accuracy: 0.2144\n",
      "Epoch 19/20\n",
      "9/9 [==============================] - 0s 4ms/step - loss: 0.1258 - accuracy: 0.2153 - val_loss: 0.1245 - val_accuracy: 0.2332\n",
      "Epoch 20/20\n",
      "9/9 [==============================] - 0s 5ms/step - loss: 0.1258 - accuracy: 0.2722 - val_loss: 0.1245 - val_accuracy: 0.2902\n",
      "10/10 [==============================] - 0s 723us/step\n",
      "10/10 [==============================] - 0s 648us/step\n",
      "\n",
      "   -- ITERATION 2  STEP 2\n",
      "\n",
      "Epoch 1/20\n",
      "75/75 [==============================] - 1s 4ms/step - loss: 0.2085 - accuracy: 0.2535 - val_loss: 0.1656 - val_accuracy: 0.2507\n",
      "Epoch 2/20\n",
      "75/75 [==============================] - 0s 3ms/step - loss: 0.1654 - accuracy: 0.2498 - val_loss: 0.1653 - val_accuracy: 0.2507\n",
      "Epoch 3/20\n",
      "75/75 [==============================] - 0s 3ms/step - loss: 0.1654 - accuracy: 0.2498 - val_loss: 0.1653 - val_accuracy: 0.2507\n",
      "Epoch 4/20\n",
      "75/75 [==============================] - 0s 2ms/step - loss: 0.1654 - accuracy: 0.2498 - val_loss: 0.1653 - val_accuracy: 0.2507\n",
      "Epoch 5/20\n",
      "75/75 [==============================] - 0s 2ms/step - loss: 0.1654 - accuracy: 0.2498 - val_loss: 0.1653 - val_accuracy: 0.2507\n",
      "Epoch 6/20\n",
      "75/75 [==============================] - 0s 3ms/step - loss: 0.1654 - accuracy: 0.2498 - val_loss: 0.1653 - val_accuracy: 0.2507\n",
      "Epoch 7/20\n",
      "75/75 [==============================] - 0s 2ms/step - loss: 0.1654 - accuracy: 0.2498 - val_loss: 0.1653 - val_accuracy: 0.2507\n",
      "Epoch 8/20\n",
      "75/75 [==============================] - 0s 3ms/step - loss: 0.1654 - accuracy: 0.2498 - val_loss: 0.1653 - val_accuracy: 0.2507\n",
      "Epoch 9/20\n",
      "75/75 [==============================] - 0s 3ms/step - loss: 0.1654 - accuracy: 0.2498 - val_loss: 0.1653 - val_accuracy: 0.2507\n",
      "Epoch 10/20\n",
      "75/75 [==============================] - 0s 3ms/step - loss: 0.1654 - accuracy: 0.2498 - val_loss: 0.1653 - val_accuracy: 0.2507\n",
      "Epoch 11/20\n",
      "75/75 [==============================] - 0s 3ms/step - loss: 0.1654 - accuracy: 0.2498 - val_loss: 0.1653 - val_accuracy: 0.2507\n",
      "Epoch 12/20\n",
      "75/75 [==============================] - 0s 3ms/step - loss: 0.1654 - accuracy: 0.2498 - val_loss: 0.1653 - val_accuracy: 0.2507\n",
      "Epoch 13/20\n",
      "75/75 [==============================] - 0s 2ms/step - loss: 0.1654 - accuracy: 0.2498 - val_loss: 0.1653 - val_accuracy: 0.2507\n",
      "Epoch 14/20\n",
      "75/75 [==============================] - 0s 3ms/step - loss: 0.1654 - accuracy: 0.2498 - val_loss: 0.1653 - val_accuracy: 0.2507\n",
      "Epoch 15/20\n",
      "75/75 [==============================] - 0s 3ms/step - loss: 0.1654 - accuracy: 0.2498 - val_loss: 0.1653 - val_accuracy: 0.2507\n",
      "Epoch 16/20\n",
      "75/75 [==============================] - 0s 3ms/step - loss: 0.1654 - accuracy: 0.2498 - val_loss: 0.1653 - val_accuracy: 0.2507\n",
      "Epoch 17/20\n",
      "75/75 [==============================] - 0s 3ms/step - loss: 0.1654 - accuracy: 0.2498 - val_loss: 0.1653 - val_accuracy: 0.2507\n",
      "Epoch 18/20\n",
      "75/75 [==============================] - 0s 3ms/step - loss: 0.1654 - accuracy: 0.2498 - val_loss: 0.1653 - val_accuracy: 0.2507\n",
      "Epoch 19/20\n",
      "75/75 [==============================] - 0s 3ms/step - loss: 0.1654 - accuracy: 0.2498 - val_loss: 0.1653 - val_accuracy: 0.2507\n",
      "Epoch 20/20\n",
      "75/75 [==============================] - 0s 3ms/step - loss: 0.1654 - accuracy: 0.2498 - val_loss: 0.1653 - val_accuracy: 0.2507\n",
      "10/10 [==============================] - 0s 680us/step\n",
      "\n",
      "ITERATION: 3\n",
      "\n",
      "   -- ITERATION 3  STEP 1\n",
      "\n",
      "Epoch 1/20\n",
      "9/9 [==============================] - 1s 18ms/step - loss: 0.2031 - accuracy: 0.4540 - val_loss: 0.1630 - val_accuracy: 0.4561\n",
      "Epoch 2/20\n",
      "9/9 [==============================] - 0s 5ms/step - loss: 0.1560 - accuracy: 0.4540 - val_loss: 0.1374 - val_accuracy: 0.4561\n",
      "Epoch 3/20\n",
      "9/9 [==============================] - 0s 5ms/step - loss: 0.1365 - accuracy: 0.4540 - val_loss: 0.1270 - val_accuracy: 0.4561\n",
      "Epoch 4/20\n",
      "9/9 [==============================] - 0s 4ms/step - loss: 0.1283 - accuracy: 0.4489 - val_loss: 0.1235 - val_accuracy: 0.4190\n",
      "Epoch 5/20\n",
      "9/9 [==============================] - 0s 4ms/step - loss: 0.1261 - accuracy: 0.3042 - val_loss: 0.1235 - val_accuracy: 0.1343\n",
      "Epoch 6/20\n",
      "9/9 [==============================] - 0s 4ms/step - loss: 0.1261 - accuracy: 0.1213 - val_loss: 0.1236 - val_accuracy: 0.1127\n",
      "Epoch 7/20\n",
      "9/9 [==============================] - 0s 4ms/step - loss: 0.1260 - accuracy: 0.1280 - val_loss: 0.1233 - val_accuracy: 0.1555\n",
      "Epoch 8/20\n",
      "9/9 [==============================] - 0s 4ms/step - loss: 0.1259 - accuracy: 0.1926 - val_loss: 0.1232 - val_accuracy: 0.2265\n",
      "Epoch 9/20\n",
      "9/9 [==============================] - 0s 4ms/step - loss: 0.1259 - accuracy: 0.2368 - val_loss: 0.1232 - val_accuracy: 0.2395\n",
      "Epoch 10/20\n",
      "9/9 [==============================] - 0s 4ms/step - loss: 0.1258 - accuracy: 0.2332 - val_loss: 0.1232 - val_accuracy: 0.2197\n",
      "Epoch 11/20\n",
      "9/9 [==============================] - 0s 4ms/step - loss: 0.1258 - accuracy: 0.2134 - val_loss: 0.1232 - val_accuracy: 0.2048\n",
      "Epoch 12/20\n",
      "9/9 [==============================] - 0s 4ms/step - loss: 0.1258 - accuracy: 0.2019 - val_loss: 0.1232 - val_accuracy: 0.2034\n",
      "Epoch 13/20\n",
      "9/9 [==============================] - 0s 4ms/step - loss: 0.1258 - accuracy: 0.2166 - val_loss: 0.1232 - val_accuracy: 0.2230\n",
      "Epoch 14/20\n",
      "9/9 [==============================] - 0s 4ms/step - loss: 0.1258 - accuracy: 0.2235 - val_loss: 0.1232 - val_accuracy: 0.2166\n",
      "Epoch 15/20\n",
      "9/9 [==============================] - 0s 4ms/step - loss: 0.1258 - accuracy: 0.2156 - val_loss: 0.1232 - val_accuracy: 0.2089\n",
      "Epoch 16/20\n",
      "9/9 [==============================] - 0s 4ms/step - loss: 0.1258 - accuracy: 0.2057 - val_loss: 0.1232 - val_accuracy: 0.2007\n",
      "Epoch 17/20\n",
      "9/9 [==============================] - 0s 4ms/step - loss: 0.1258 - accuracy: 0.2065 - val_loss: 0.1232 - val_accuracy: 0.2091\n",
      "Epoch 18/20\n",
      "9/9 [==============================] - 0s 4ms/step - loss: 0.1258 - accuracy: 0.2149 - val_loss: 0.1232 - val_accuracy: 0.2128\n",
      "Epoch 19/20\n",
      "9/9 [==============================] - 0s 5ms/step - loss: 0.1258 - accuracy: 0.2112 - val_loss: 0.1232 - val_accuracy: 0.2020\n",
      "Epoch 20/20\n",
      "9/9 [==============================] - 0s 5ms/step - loss: 0.1258 - accuracy: 0.2050 - val_loss: 0.1232 - val_accuracy: 0.2004\n",
      "10/10 [==============================] - 0s 632us/step\n",
      "10/10 [==============================] - 0s 643us/step\n",
      "\n",
      "   -- ITERATION 3  STEP 2\n",
      "\n",
      "Epoch 1/20\n",
      "75/75 [==============================] - 1s 4ms/step - loss: 0.2054 - accuracy: 0.2551 - val_loss: 0.1679 - val_accuracy: 0.2492\n",
      "Epoch 2/20\n",
      "75/75 [==============================] - 0s 3ms/step - loss: 0.1674 - accuracy: 0.2503 - val_loss: 0.1678 - val_accuracy: 0.2492\n",
      "Epoch 3/20\n",
      "75/75 [==============================] - 0s 2ms/step - loss: 0.1674 - accuracy: 0.2503 - val_loss: 0.1678 - val_accuracy: 0.2492\n",
      "Epoch 4/20\n",
      "75/75 [==============================] - 0s 2ms/step - loss: 0.1674 - accuracy: 0.2503 - val_loss: 0.1678 - val_accuracy: 0.2492\n",
      "Epoch 5/20\n",
      "75/75 [==============================] - 0s 3ms/step - loss: 0.1674 - accuracy: 0.2503 - val_loss: 0.1678 - val_accuracy: 0.2492\n",
      "Epoch 6/20\n",
      "75/75 [==============================] - 0s 3ms/step - loss: 0.1674 - accuracy: 0.2503 - val_loss: 0.1678 - val_accuracy: 0.2492\n",
      "Epoch 7/20\n",
      "75/75 [==============================] - 0s 3ms/step - loss: 0.1674 - accuracy: 0.2503 - val_loss: 0.1678 - val_accuracy: 0.2492\n",
      "Epoch 8/20\n",
      "75/75 [==============================] - 0s 2ms/step - loss: 0.1674 - accuracy: 0.2503 - val_loss: 0.1678 - val_accuracy: 0.2492\n",
      "Epoch 9/20\n",
      "75/75 [==============================] - 0s 3ms/step - loss: 0.1674 - accuracy: 0.2503 - val_loss: 0.1678 - val_accuracy: 0.2492\n",
      "Epoch 10/20\n",
      "75/75 [==============================] - 0s 3ms/step - loss: 0.1674 - accuracy: 0.2503 - val_loss: 0.1678 - val_accuracy: 0.2492\n",
      "Epoch 11/20\n",
      "75/75 [==============================] - 0s 2ms/step - loss: 0.1674 - accuracy: 0.2503 - val_loss: 0.1678 - val_accuracy: 0.2492\n",
      "Epoch 12/20\n",
      "75/75 [==============================] - 0s 3ms/step - loss: 0.1674 - accuracy: 0.2503 - val_loss: 0.1678 - val_accuracy: 0.2492\n",
      "Epoch 13/20\n",
      "75/75 [==============================] - 0s 3ms/step - loss: 0.1674 - accuracy: 0.2503 - val_loss: 0.1678 - val_accuracy: 0.2492\n",
      "Epoch 14/20\n"
     ]
    },
    {
     "name": "stdout",
     "output_type": "stream",
     "text": [
      "75/75 [==============================] - 0s 3ms/step - loss: 0.1674 - accuracy: 0.2503 - val_loss: 0.1678 - val_accuracy: 0.2492\n",
      "Epoch 15/20\n",
      "75/75 [==============================] - 0s 3ms/step - loss: 0.1674 - accuracy: 0.2503 - val_loss: 0.1678 - val_accuracy: 0.2492\n",
      "Epoch 16/20\n",
      "75/75 [==============================] - 0s 2ms/step - loss: 0.1674 - accuracy: 0.2503 - val_loss: 0.1678 - val_accuracy: 0.2492\n",
      "Epoch 17/20\n",
      "75/75 [==============================] - 0s 2ms/step - loss: 0.1674 - accuracy: 0.2503 - val_loss: 0.1678 - val_accuracy: 0.2492\n",
      "Epoch 18/20\n",
      "75/75 [==============================] - 0s 3ms/step - loss: 0.1674 - accuracy: 0.2503 - val_loss: 0.1678 - val_accuracy: 0.2492\n",
      "Epoch 19/20\n",
      "75/75 [==============================] - 0s 3ms/step - loss: 0.1674 - accuracy: 0.2503 - val_loss: 0.1678 - val_accuracy: 0.2492\n",
      "Epoch 20/20\n",
      "75/75 [==============================] - 0s 3ms/step - loss: 0.1674 - accuracy: 0.2503 - val_loss: 0.1678 - val_accuracy: 0.2492\n",
      "10/10 [==============================] - 0s 630us/step\n",
      "\n",
      "ITERATION: 4\n",
      "\n",
      "   -- ITERATION 4  STEP 1\n",
      "\n",
      "Epoch 1/20\n",
      "9/9 [==============================] - 1s 18ms/step - loss: 0.1994 - accuracy: 0.4547 - val_loss: 0.1705 - val_accuracy: 0.4540\n",
      "Epoch 2/20\n",
      "9/9 [==============================] - 0s 5ms/step - loss: 0.1553 - accuracy: 0.4547 - val_loss: 0.1431 - val_accuracy: 0.4540\n",
      "Epoch 3/20\n",
      "9/9 [==============================] - 0s 5ms/step - loss: 0.1363 - accuracy: 0.4547 - val_loss: 0.1323 - val_accuracy: 0.4540\n",
      "Epoch 4/20\n",
      "9/9 [==============================] - 0s 5ms/step - loss: 0.1298 - accuracy: 0.4404 - val_loss: 0.1301 - val_accuracy: 0.2504\n",
      "Epoch 5/20\n",
      "9/9 [==============================] - 0s 5ms/step - loss: 0.1294 - accuracy: 0.1798 - val_loss: 0.1304 - val_accuracy: 0.1279\n",
      "Epoch 6/20\n",
      "9/9 [==============================] - 0s 5ms/step - loss: 0.1294 - accuracy: 0.1333 - val_loss: 0.1301 - val_accuracy: 0.1693\n",
      "Epoch 7/20\n",
      "9/9 [==============================] - 0s 4ms/step - loss: 0.1291 - accuracy: 0.2632 - val_loss: 0.1300 - val_accuracy: 0.3972\n",
      "Epoch 8/20\n",
      "9/9 [==============================] - 0s 4ms/step - loss: 0.1290 - accuracy: 0.4198 - val_loss: 0.1300 - val_accuracy: 0.4391\n",
      "Epoch 9/20\n",
      "9/9 [==============================] - 0s 4ms/step - loss: 0.1290 - accuracy: 0.4459 - val_loss: 0.1300 - val_accuracy: 0.4417\n",
      "Epoch 10/20\n",
      "9/9 [==============================] - 0s 4ms/step - loss: 0.1290 - accuracy: 0.4319 - val_loss: 0.1300 - val_accuracy: 0.4176\n",
      "Epoch 11/20\n",
      "9/9 [==============================] - 0s 4ms/step - loss: 0.1290 - accuracy: 0.4046 - val_loss: 0.1300 - val_accuracy: 0.3950\n",
      "Epoch 12/20\n",
      "9/9 [==============================] - 0s 4ms/step - loss: 0.1290 - accuracy: 0.3973 - val_loss: 0.1300 - val_accuracy: 0.3997\n",
      "Epoch 13/20\n",
      "9/9 [==============================] - 0s 4ms/step - loss: 0.1290 - accuracy: 0.4000 - val_loss: 0.1300 - val_accuracy: 0.3977\n",
      "Epoch 14/20\n",
      "9/9 [==============================] - 0s 4ms/step - loss: 0.1290 - accuracy: 0.3913 - val_loss: 0.1299 - val_accuracy: 0.3878\n",
      "Epoch 15/20\n",
      "9/9 [==============================] - 0s 4ms/step - loss: 0.1290 - accuracy: 0.4015 - val_loss: 0.1300 - val_accuracy: 0.4148\n",
      "Epoch 16/20\n",
      "9/9 [==============================] - 0s 4ms/step - loss: 0.1290 - accuracy: 0.4068 - val_loss: 0.1299 - val_accuracy: 0.3966\n",
      "Epoch 17/20\n",
      "9/9 [==============================] - 0s 5ms/step - loss: 0.1290 - accuracy: 0.3996 - val_loss: 0.1299 - val_accuracy: 0.4065\n",
      "Epoch 18/20\n",
      "9/9 [==============================] - 0s 4ms/step - loss: 0.1290 - accuracy: 0.4045 - val_loss: 0.1299 - val_accuracy: 0.4090\n",
      "Epoch 19/20\n",
      "9/9 [==============================] - 0s 4ms/step - loss: 0.1290 - accuracy: 0.4182 - val_loss: 0.1299 - val_accuracy: 0.4253\n",
      "Epoch 20/20\n",
      "9/9 [==============================] - 0s 4ms/step - loss: 0.1290 - accuracy: 0.4256 - val_loss: 0.1299 - val_accuracy: 0.4247\n",
      "10/10 [==============================] - 0s 583us/step\n",
      "10/10 [==============================] - 0s 657us/step\n",
      "\n",
      "   -- ITERATION 4  STEP 2\n",
      "\n",
      "Epoch 1/20\n",
      "75/75 [==============================] - 1s 4ms/step - loss: 0.1952 - accuracy: 0.2503 - val_loss: 0.1647 - val_accuracy: 0.2502\n",
      "Epoch 2/20\n",
      "75/75 [==============================] - 0s 3ms/step - loss: 0.1646 - accuracy: 0.2499 - val_loss: 0.1646 - val_accuracy: 0.2502\n",
      "Epoch 3/20\n",
      "75/75 [==============================] - 0s 3ms/step - loss: 0.1646 - accuracy: 0.2499 - val_loss: 0.1646 - val_accuracy: 0.2502\n",
      "Epoch 4/20\n",
      "75/75 [==============================] - 0s 3ms/step - loss: 0.1646 - accuracy: 0.2499 - val_loss: 0.1646 - val_accuracy: 0.2502\n",
      "Epoch 5/20\n",
      "75/75 [==============================] - 0s 3ms/step - loss: 0.1646 - accuracy: 0.2499 - val_loss: 0.1646 - val_accuracy: 0.2502\n",
      "Epoch 6/20\n",
      "75/75 [==============================] - 0s 3ms/step - loss: 0.1646 - accuracy: 0.2499 - val_loss: 0.1646 - val_accuracy: 0.2502\n",
      "Epoch 7/20\n",
      "75/75 [==============================] - 0s 3ms/step - loss: 0.1646 - accuracy: 0.2499 - val_loss: 0.1646 - val_accuracy: 0.2502\n",
      "Epoch 8/20\n",
      "75/75 [==============================] - 0s 3ms/step - loss: 0.1646 - accuracy: 0.2499 - val_loss: 0.1646 - val_accuracy: 0.2502\n",
      "Epoch 9/20\n",
      "75/75 [==============================] - 0s 3ms/step - loss: 0.1646 - accuracy: 0.2499 - val_loss: 0.1646 - val_accuracy: 0.2502\n",
      "Epoch 10/20\n",
      "75/75 [==============================] - 0s 3ms/step - loss: 0.1646 - accuracy: 0.2499 - val_loss: 0.1647 - val_accuracy: 0.2502\n",
      "Epoch 11/20\n",
      "75/75 [==============================] - 0s 3ms/step - loss: 0.1646 - accuracy: 0.2499 - val_loss: 0.1646 - val_accuracy: 0.2502\n",
      "Epoch 12/20\n",
      "75/75 [==============================] - 0s 3ms/step - loss: 0.1646 - accuracy: 0.2499 - val_loss: 0.1646 - val_accuracy: 0.2502\n",
      "Epoch 13/20\n",
      "75/75 [==============================] - 0s 3ms/step - loss: 0.1646 - accuracy: 0.2499 - val_loss: 0.1646 - val_accuracy: 0.2502\n",
      "Epoch 14/20\n",
      "75/75 [==============================] - 0s 3ms/step - loss: 0.1646 - accuracy: 0.2499 - val_loss: 0.1646 - val_accuracy: 0.2502\n",
      "Epoch 15/20\n",
      "75/75 [==============================] - 0s 3ms/step - loss: 0.1646 - accuracy: 0.2499 - val_loss: 0.1646 - val_accuracy: 0.2502\n",
      "Epoch 16/20\n",
      "75/75 [==============================] - 0s 3ms/step - loss: 0.1646 - accuracy: 0.2499 - val_loss: 0.1647 - val_accuracy: 0.2502\n",
      "Epoch 17/20\n",
      "75/75 [==============================] - 0s 3ms/step - loss: 0.1646 - accuracy: 0.2499 - val_loss: 0.1646 - val_accuracy: 0.2502\n",
      "Epoch 18/20\n",
      "75/75 [==============================] - 0s 2ms/step - loss: 0.1646 - accuracy: 0.2499 - val_loss: 0.1646 - val_accuracy: 0.2502\n",
      "Epoch 19/20\n",
      "75/75 [==============================] - 0s 3ms/step - loss: 0.1646 - accuracy: 0.2499 - val_loss: 0.1646 - val_accuracy: 0.2502\n",
      "Epoch 20/20\n",
      "75/75 [==============================] - 0s 2ms/step - loss: 0.1646 - accuracy: 0.2499 - val_loss: 0.1648 - val_accuracy: 0.2502\n",
      "10/10 [==============================] - 0s 690us/step\n",
      "CPU times: user 34.5 s, sys: 3.77 s, total: 38.3 s\n",
      "Wall time: 28.4 s\n"
     ]
    }
   ],
   "source": [
    "%%time\n",
    "\n",
    "\n",
    "verbose = True\n",
    "\n",
    "of_niter = 4\n",
    "\n",
    "of_weights = of.omnifold( train_both, true_det_pts, of_niter, model, verbose)"
   ]
  },
  {
   "cell_type": "code",
   "execution_count": null,
   "id": "a8f592ba",
   "metadata": {},
   "outputs": [],
   "source": []
  },
  {
   "cell_type": "code",
   "execution_count": 17,
   "id": "e2f4beab",
   "metadata": {},
   "outputs": [
    {
     "data": {
      "text/plain": [
       "array([[[0.09968735, 0.12589177, 0.12124477, ..., 0.02649337,\n",
       "         0.0860341 , 0.13072969],\n",
       "        [0.081437  , 0.12377141, 0.09155169, ..., 0.03558856,\n",
       "         0.10633132, 0.127243  ]],\n",
       "\n",
       "       [[0.9591381 , 1.08067596, 1.03566098, ..., 0.92807305,\n",
       "         0.87648076, 1.05715454],\n",
       "        [0.07683403, 0.13085748, 0.08125468, ..., 0.03000202,\n",
       "         0.10388789, 0.13758782]],\n",
       "\n",
       "       [[1.01966941, 1.07739294, 1.06993985, ..., 1.03449512,\n",
       "         0.99599165, 0.98901182],\n",
       "        [0.08445463, 0.1396763 , 0.08683598, ..., 0.03159605,\n",
       "         0.10725058, 0.14351305]],\n",
       "\n",
       "       [[0.90923643, 0.93977219, 0.94828796, ..., 0.90478355,\n",
       "         0.91738772, 0.93832427],\n",
       "        [0.09465298, 0.13453725, 0.09203108, ..., 0.03426026,\n",
       "         0.10854194, 0.13583712]]])"
      ]
     },
     "execution_count": 17,
     "metadata": {},
     "output_type": "execute_result"
    }
   ],
   "source": [
    "of_weights"
   ]
  },
  {
   "cell_type": "code",
   "execution_count": 18,
   "id": "c189795a",
   "metadata": {},
   "outputs": [
    {
     "data": {
      "text/plain": [
       "(4, 2, 100000)"
      ]
     },
     "execution_count": 18,
     "metadata": {},
     "output_type": "execute_result"
    }
   ],
   "source": [
    "np.shape( of_weights)"
   ]
  },
  {
   "cell_type": "code",
   "execution_count": null,
   "id": "4ee1b3b1",
   "metadata": {},
   "outputs": [],
   "source": []
  },
  {
   "cell_type": "code",
   "execution_count": null,
   "id": "27f799d0",
   "metadata": {},
   "outputs": [],
   "source": []
  },
  {
   "cell_type": "code",
   "execution_count": 19,
   "id": "3b7af418",
   "metadata": {
    "scrolled": false
   },
   "outputs": [
    {
     "data": {
      "text/plain": [
       "<function matplotlib.pyplot.show(close=None, block=None)>"
      ]
     },
     "execution_count": 19,
     "metadata": {},
     "output_type": "execute_result"
    },
    {
     "data": {
      "image/png": "[encoded data removed]",
      "text/plain": [
       "<Figure size 1296x2016 with 8 Axes>"
      ]
     },
     "metadata": {
      "needs_background": "light"
     },
     "output_type": "display_data"
    }
   ],
   "source": [
    "\n",
    "\n",
    "fig,ax = plt.subplots( of_niter, 2, figsize=(18,7*of_niter))\n",
    "\n",
    "hmin=-6\n",
    "hmax=6\n",
    "hbins=40\n",
    "\n",
    "lfontsize = 17\n",
    "\n",
    "plt.subplots_adjust( hspace=0.30)\n",
    "plt.subplots_adjust( wspace=0.25)\n",
    "\n",
    "\n",
    "\n",
    "for ofi in range(0,of_niter) :\n",
    "\n",
    "    ax[ofi][0].hist( train_pts[:,0], bins=hbins, range=[hmin,hmax], density=True, label='train particle' )\n",
    "    ax[ofi][0].hist( train_pts[:,0], weights=of_weights[ofi,1,:], bins=hbins, range=[hmin,hmax], density=True, label='OF weighted particle', alpha=0.5 )\n",
    "    ax[ofi][0].hist( true_pts[:,0], bins=hbins, range=[hmin,hmax], density=True, label='true particle', histtype='step', color='black' )\n",
    "\n",
    "    ax[ofi][1].hist( train_pts[:,1], bins=hbins, range=[hmin,hmax], density=True, label='train particle' )\n",
    "    ax[ofi][1].hist( train_pts[:,1], weights=of_weights[ofi,1,:], bins=hbins, range=[hmin,hmax], density=True, label='OF weighted particle', alpha=0.5 )\n",
    "    ax[ofi][1].hist( true_pts[:,1], bins=hbins, range=[hmin,hmax], density=True, label='true particle', histtype='step', color='black' )\n",
    "\n",
    "\n",
    "    ax[ofi][0].legend(loc='best', fontsize=13)\n",
    "    ax[ofi][1].legend(loc='best', fontsize=13)\n",
    "    \n",
    "    \n",
    "    ax[ofi][0].set_xlabel('Feature 0', fontsize=lfontsize )\n",
    "    \n",
    "    ax[ofi][1].set_xlabel('Feature 1', fontsize=lfontsize )\n",
    "    \n",
    "    ax[ofi][0].set_title('Iteration %d' % ofi, fontsize=lfontsize )\n",
    "\n",
    "\n",
    "\n",
    "plt.show"
   ]
  },
  {
   "cell_type": "code",
   "execution_count": null,
   "id": "0090778c",
   "metadata": {},
   "outputs": [],
   "source": []
  },
  {
   "cell_type": "code",
   "execution_count": 20,
   "id": "c96c300d",
   "metadata": {
    "scrolled": false
   },
   "outputs": [
    {
     "data": {
      "text/plain": [
       "<function matplotlib.pyplot.show(close=None, block=None)>"
      ]
     },
     "execution_count": 20,
     "metadata": {},
     "output_type": "execute_result"
    },
    {
     "data": {
      "image/png": "[encoded data removed]",
      "text/plain": [
       "<Figure size 1296x2016 with 12 Axes>"
      ]
     },
     "metadata": {
      "needs_background": "light"
     },
     "output_type": "display_data"
    }
   ],
   "source": [
    "fig,ax = plt.subplots( of_niter, 3, figsize=(18,7*of_niter))\n",
    "\n",
    "hmin=-6\n",
    "hmax=6\n",
    "hbins=40\n",
    "\n",
    "lfontsize = 17\n",
    "\n",
    "plt.subplots_adjust( hspace=0.30)\n",
    "plt.subplots_adjust( wspace=0.25)\n",
    "\n",
    "for ofi in range(0,of_niter) :\n",
    "\n",
    "    ax[ofi][0].hist( of_weights[ofi,0,:], bins=hbins )\n",
    "    ax[ofi][1].hist( of_weights[ofi,1,:], bins=hbins )\n",
    "    ax[ofi][2].hist2d( of_weights[ofi,0,:], of_weights[ofi,1,:], bins=[hbins,hbins] )\n",
    "    \n",
    "    ax[ofi][0].set_xlabel( 'step 1 weight', fontsize=lfontsize )\n",
    "    \n",
    "    ax[ofi][1].set_xlabel( 'step 2 weight', fontsize=lfontsize )\n",
    "    \n",
    "    ax[ofi][2].set_xlabel( 'step 1 weight', fontsize=lfontsize )\n",
    "    ax[ofi][2].set_ylabel( 'step 2 weight', fontsize=lfontsize )\n",
    "    \n",
    "    ax[ofi][0].set_title('Iteration %d' % ofi, fontsize=lfontsize )\n",
    "    \n",
    "    \n",
    "plt.show"
   ]
  },
  {
   "cell_type": "code",
   "execution_count": null,
   "id": "dca3a13f",
   "metadata": {},
   "outputs": [],
   "source": []
  },
  {
   "cell_type": "code",
   "execution_count": 21,
   "id": "4948db0a",
   "metadata": {
    "scrolled": false
   },
   "outputs": [
    {
     "data": {
      "text/plain": [
       "<function matplotlib.pyplot.show(close=None, block=None)>"
      ]
     },
     "execution_count": 21,
     "metadata": {},
     "output_type": "execute_result"
    },
    {
     "data": {
      "image/png": "[encoded data removed]",
      "text/plain": [
       "<Figure size 1296x2016 with 12 Axes>"
      ]
     },
     "metadata": {
      "needs_background": "light"
     },
     "output_type": "display_data"
    }
   ],
   "source": [
    "fig,ax = plt.subplots( of_niter, 3, figsize=(18,7*of_niter))\n",
    "\n",
    "hmin=-6\n",
    "hmax=6\n",
    "hbins=40\n",
    "\n",
    "lfontsize = 17\n",
    "\n",
    "plt.subplots_adjust( hspace=0.30)\n",
    "plt.subplots_adjust( wspace=0.25)\n",
    "\n",
    "for ofi in range(0,of_niter) :\n",
    "\n",
    "    ax[ofi][0].hist2d( train_pts[:,0], of_weights[ofi,0,:], bins=[hbins,hbins] )\n",
    "    ax[ofi][1].hist2d( train_pts[:,0], of_weights[ofi,1,:], bins=[hbins,hbins] )\n",
    "    ax[ofi][2].hist2d( of_weights[ofi,0,:], of_weights[ofi,1,:], bins=[hbins,hbins] )\n",
    "    \n",
    "    ax[ofi][0].set_xlabel( 'Feature 0', fontsize=lfontsize )\n",
    "    ax[ofi][0].set_ylabel( 'step 1 weight', fontsize=lfontsize )\n",
    "    \n",
    "    ax[ofi][1].set_xlabel( 'Feature 0', fontsize=lfontsize )\n",
    "    ax[ofi][1].set_ylabel( 'step 2 weight', fontsize=lfontsize )\n",
    "    \n",
    "    ax[ofi][2].set_xlabel( 'step 1 weight', fontsize=lfontsize )\n",
    "    ax[ofi][2].set_ylabel( 'step 2 weight', fontsize=lfontsize )\n",
    "    \n",
    "    ax[ofi][0].set_title('Iteration %d' % ofi, fontsize=lfontsize )\n",
    "    \n",
    "    \n",
    "plt.show"
   ]
  },
  {
   "cell_type": "code",
   "execution_count": null,
   "id": "632b181a",
   "metadata": {},
   "outputs": [],
   "source": []
  },
  {
   "cell_type": "code",
   "execution_count": 22,
   "id": "3b446f9b",
   "metadata": {
    "scrolled": false
   },
   "outputs": [
    {
     "data": {
      "text/plain": [
       "<function matplotlib.pyplot.show(close=None, block=None)>"
      ]
     },
     "execution_count": 22,
     "metadata": {},
     "output_type": "execute_result"
    },
    {
     "data": {
      "image/png": "[encoded data removed]",
      "text/plain": [
       "<Figure size 1296x2016 with 12 Axes>"
      ]
     },
     "metadata": {
      "needs_background": "light"
     },
     "output_type": "display_data"
    }
   ],
   "source": [
    "fig,ax = plt.subplots( of_niter, 3, figsize=(18,7*of_niter))\n",
    "\n",
    "hmin=-6\n",
    "hmax=6\n",
    "hbins=40\n",
    "\n",
    "lfontsize = 17\n",
    "\n",
    "plt.subplots_adjust( hspace=0.30)\n",
    "plt.subplots_adjust( wspace=0.25)\n",
    "\n",
    "for ofi in range(0,of_niter) :\n",
    "\n",
    "    ax[ofi][0].hist2d( train_pts[:,1], of_weights[ofi,0,:], bins=[hbins,hbins] )\n",
    "    ax[ofi][1].hist2d( train_pts[:,1], of_weights[ofi,1,:], bins=[hbins,hbins] )\n",
    "    ax[ofi][2].hist2d( of_weights[ofi,0,:], of_weights[ofi,1,:], bins=[hbins,hbins] )\n",
    "    \n",
    "    ax[ofi][0].set_xlabel( 'Feature 1', fontsize=lfontsize )\n",
    "    ax[ofi][0].set_ylabel( 'step 1 weight', fontsize=lfontsize )\n",
    "    \n",
    "    ax[ofi][1].set_xlabel( 'Feature 1', fontsize=lfontsize )\n",
    "    ax[ofi][1].set_ylabel( 'step 2 weight', fontsize=lfontsize )\n",
    "    \n",
    "    ax[ofi][2].set_xlabel( 'step 1 weight', fontsize=lfontsize )\n",
    "    ax[ofi][2].set_ylabel( 'step 2 weight', fontsize=lfontsize )\n",
    "    \n",
    "    ax[ofi][0].set_title('Iteration %d' % ofi, fontsize=lfontsize )\n",
    "    \n",
    "    \n",
    "plt.show"
   ]
  },
  {
   "cell_type": "code",
   "execution_count": null,
   "id": "3f183a7c",
   "metadata": {},
   "outputs": [],
   "source": []
  },
  {
   "cell_type": "code",
   "execution_count": null,
   "id": "a4896127",
   "metadata": {},
   "outputs": [],
   "source": []
  },
  {
   "cell_type": "code",
   "execution_count": 23,
   "id": "fab9ba7b",
   "metadata": {},
   "outputs": [],
   "source": [
    "max_step2_weight = np.max( of_weights[3,1,:] )"
   ]
  },
  {
   "cell_type": "code",
   "execution_count": null,
   "id": "dc655cf2",
   "metadata": {},
   "outputs": [],
   "source": []
  },
  {
   "cell_type": "code",
   "execution_count": 24,
   "id": "f546fd5e",
   "metadata": {},
   "outputs": [
    {
     "data": {
      "text/plain": [
       "<function matplotlib.pyplot.show(close=None, block=None)>"
      ]
     },
     "execution_count": 24,
     "metadata": {},
     "output_type": "execute_result"
    },
    {
     "data": {
      "image/png": "[encoded data removed]",
      "text/plain": [
       "<Figure size 1296x360 with 3 Axes>"
      ]
     },
     "metadata": {
      "needs_background": "light"
     },
     "output_type": "display_data"
    }
   ],
   "source": [
    "fig,ax = plt.subplots( 1, 3, figsize=(18,5))\n",
    "\n",
    "hmin=-6\n",
    "hmax=6\n",
    "hbins=80\n",
    "\n",
    "ax[0].hist2d( train_pts[:,0], of_weights[3,1,:], bins=[hbins,hbins], range=([hmin,hmax],[0.,1.1*max_step2_weight]))\n",
    "\n",
    "ax[1].hist2d( train_pts[:,1], of_weights[3,1,:], bins=[hbins,hbins], range=([hmin,hmax],[0.,1.1*max_step2_weight]))\n",
    "\n",
    "ax[2].hist2d( of_weights[3,0,:], of_weights[3,1,:], bins=[hbins,hbins], range=([0.,2.],[0.,1.1*max_step2_weight]))\n",
    "\n",
    "\n",
    "lfontsize = 17\n",
    "\n",
    "ax[0].set_xlabel( 'feature 0', fontsize=lfontsize )\n",
    "ax[0].set_ylabel( 'step 2 weight', fontsize=lfontsize )\n",
    "\n",
    "\n",
    "ax[1].set_xlabel( 'feature 1', fontsize=lfontsize )\n",
    "ax[1].set_ylabel( 'step 2 weight', fontsize=lfontsize )\n",
    "\n",
    "ax[2].set_xlabel( 'step 1 weight', fontsize=lfontsize )\n",
    "ax[2].set_ylabel( 'step 2 weight', fontsize=lfontsize )\n",
    "\n",
    "\n",
    "plt.show\n"
   ]
  },
  {
   "cell_type": "code",
   "execution_count": null,
   "id": "c489d65f",
   "metadata": {},
   "outputs": [],
   "source": []
  },
  {
   "cell_type": "markdown",
   "id": "fd4acb71",
   "metadata": {},
   "source": [
    "## Do the bootstrap samples in a loop"
   ]
  },
  {
   "cell_type": "code",
   "execution_count": 25,
   "id": "cb008aaa",
   "metadata": {},
   "outputs": [],
   "source": [
    "n_boot_samples = 100\n",
    "\n",
    "do_bootstrap = True\n",
    "\n",
    "verbose = False\n",
    "\n",
    "bootstrap_weights = np.zeros( shape=(n_boot_samples, len(train_pts) ))"
   ]
  },
  {
   "cell_type": "code",
   "execution_count": 26,
   "id": "4366c370",
   "metadata": {
    "scrolled": true
   },
   "outputs": [
    {
     "name": "stdout",
     "output_type": "stream",
     "text": [
      "\n",
      " Creating bootstrap sample   0\n",
      "10/10 [==============================] - 0s 638us/step\n",
      "10/10 [==============================] - 0s 647us/step\n",
      "10/10 [==============================] - 0s 722us/step\n",
      "10/10 [==============================] - 0s 651us/step\n",
      "10/10 [==============================] - 0s 724us/step\n",
      "10/10 [==============================] - 0s 712us/step\n",
      "10/10 [==============================] - 0s 695us/step\n",
      "10/10 [==============================] - 0s 733us/step\n",
      "10/10 [==============================] - 0s 700us/step\n",
      "10/10 [==============================] - 0s 710us/step\n",
      "10/10 [==============================] - 0s 713us/step\n",
      "10/10 [==============================] - 0s 737us/step\n",
      "\n",
      " Creating bootstrap sample   1\n",
      "10/10 [==============================] - 0s 695us/step\n",
      "10/10 [==============================] - 0s 646us/step\n",
      "10/10 [==============================] - 0s 708us/step\n",
      "10/10 [==============================] - 0s 700us/step\n",
      "10/10 [==============================] - 0s 725us/step\n",
      "10/10 [==============================] - 0s 743us/step\n",
      "10/10 [==============================] - 0s 693us/step\n",
      "10/10 [==============================] - 0s 676us/step\n",
      "10/10 [==============================] - 0s 680us/step\n",
      "10/10 [==============================] - 0s 721us/step\n",
      "10/10 [==============================] - 0s 668us/step\n",
      "10/10 [==============================] - 0s 711us/step\n",
      "\n",
      " Creating bootstrap sample   2\n",
      "10/10 [==============================] - 0s 685us/step\n",
      "10/10 [==============================] - 0s 639us/step\n",
      "10/10 [==============================] - 0s 733us/step\n",
      "10/10 [==============================] - 0s 657us/step\n",
      "10/10 [==============================] - 0s 639us/step\n",
      "10/10 [==============================] - 0s 680us/step\n",
      "10/10 [==============================] - 0s 634us/step\n",
      "10/10 [==============================] - 0s 591us/step\n",
      "10/10 [==============================] - 0s 701us/step\n",
      "10/10 [==============================] - 0s 628us/step\n",
      "10/10 [==============================] - 0s 610us/step\n",
      "10/10 [==============================] - 0s 702us/step\n",
      "\n",
      " Creating bootstrap sample   3\n",
      "10/10 [==============================] - 0s 688us/step\n",
      "10/10 [==============================] - 0s 697us/step\n",
      "10/10 [==============================] - 0s 710us/step\n",
      "10/10 [==============================] - 0s 711us/step\n",
      "10/10 [==============================] - 0s 706us/step\n",
      "10/10 [==============================] - 0s 743us/step\n",
      "10/10 [==============================] - 0s 689us/step\n",
      "10/10 [==============================] - 0s 710us/step\n",
      "10/10 [==============================] - 0s 691us/step\n",
      "10/10 [==============================] - 0s 682us/step\n",
      "10/10 [==============================] - 0s 708us/step\n",
      "10/10 [==============================] - 0s 689us/step\n",
      "\n",
      " Creating bootstrap sample   4\n",
      "10/10 [==============================] - 0s 700us/step\n",
      "10/10 [==============================] - 0s 666us/step\n",
      "10/10 [==============================] - 0s 690us/step\n",
      "10/10 [==============================] - 0s 643us/step\n",
      "10/10 [==============================] - 0s 691us/step\n",
      "10/10 [==============================] - 0s 779us/step\n",
      "10/10 [==============================] - 0s 702us/step\n",
      "10/10 [==============================] - 0s 735us/step\n",
      "10/10 [==============================] - 0s 732us/step\n",
      "10/10 [==============================] - 0s 613us/step\n",
      "10/10 [==============================] - 0s 659us/step\n",
      "10/10 [==============================] - 0s 727us/step\n",
      "\n",
      " Creating bootstrap sample   5\n",
      "10/10 [==============================] - 0s 703us/step\n",
      "10/10 [==============================] - 0s 680us/step\n",
      "10/10 [==============================] - 0s 697us/step\n",
      "10/10 [==============================] - 0s 672us/step\n",
      "10/10 [==============================] - 0s 666us/step\n",
      "10/10 [==============================] - 0s 696us/step\n",
      "10/10 [==============================] - 0s 669us/step\n",
      "10/10 [==============================] - 0s 684us/step\n",
      "10/10 [==============================] - 0s 738us/step\n",
      "10/10 [==============================] - 0s 708us/step\n",
      "10/10 [==============================] - 0s 700us/step\n",
      "10/10 [==============================] - 0s 737us/step\n",
      "\n",
      " Creating bootstrap sample   6\n",
      "10/10 [==============================] - 0s 691us/step\n",
      "10/10 [==============================] - 0s 674us/step\n",
      "10/10 [==============================] - 0s 642us/step\n",
      "10/10 [==============================] - 0s 636us/step\n",
      "10/10 [==============================] - 0s 689us/step\n",
      "10/10 [==============================] - 0s 732us/step\n",
      "10/10 [==============================] - 0s 660us/step\n",
      "10/10 [==============================] - 0s 641us/step\n",
      "10/10 [==============================] - 0s 691us/step\n",
      "10/10 [==============================] - 0s 705us/step\n",
      "10/10 [==============================] - 0s 712us/step\n",
      "10/10 [==============================] - 0s 712us/step\n",
      "\n",
      " Creating bootstrap sample   7\n",
      "10/10 [==============================] - 0s 627us/step\n",
      "10/10 [==============================] - 0s 660us/step\n",
      "10/10 [==============================] - 0s 672us/step\n",
      "10/10 [==============================] - 0s 668us/step\n",
      "10/10 [==============================] - 0s 651us/step\n",
      "10/10 [==============================] - 0s 729us/step\n",
      "10/10 [==============================] - 0s 686us/step\n",
      "10/10 [==============================] - 0s 670us/step\n",
      "10/10 [==============================] - 0s 742us/step\n",
      "10/10 [==============================] - 0s 651us/step\n",
      "10/10 [==============================] - 0s 637us/step\n",
      "10/10 [==============================] - 0s 660us/step\n",
      "\n",
      " Creating bootstrap sample   8\n",
      "10/10 [==============================] - 0s 613us/step\n",
      "10/10 [==============================] - 0s 600us/step\n",
      "10/10 [==============================] - 0s 721us/step\n",
      "10/10 [==============================] - 0s 705us/step\n",
      "10/10 [==============================] - 0s 623us/step\n",
      "10/10 [==============================] - 0s 712us/step\n",
      "10/10 [==============================] - 0s 704us/step\n",
      "10/10 [==============================] - 0s 683us/step\n",
      "10/10 [==============================] - 0s 736us/step\n",
      "10/10 [==============================] - 0s 699us/step\n",
      "10/10 [==============================] - 0s 641us/step\n",
      "10/10 [==============================] - 0s 691us/step\n",
      "\n",
      " Creating bootstrap sample   9\n",
      "10/10 [==============================] - 0s 613us/step\n",
      "10/10 [==============================] - 0s 680us/step\n",
      "10/10 [==============================] - 0s 753us/step\n",
      "10/10 [==============================] - 0s 709us/step\n",
      "10/10 [==============================] - 0s 682us/step\n",
      "10/10 [==============================] - 0s 687us/step\n",
      "10/10 [==============================] - 0s 655us/step\n",
      "10/10 [==============================] - 0s 599us/step\n",
      "10/10 [==============================] - 0s 634us/step\n",
      "10/10 [==============================] - 0s 659us/step\n",
      "10/10 [==============================] - 0s 642us/step\n",
      "10/10 [==============================] - 0s 735us/step\n",
      "\n",
      " Creating bootstrap sample  10\n",
      "10/10 [==============================] - 0s 633us/step\n",
      "10/10 [==============================] - 0s 711us/step\n",
      "10/10 [==============================] - 0s 680us/step\n",
      "10/10 [==============================] - 0s 702us/step\n",
      "10/10 [==============================] - 0s 698us/step\n",
      "10/10 [==============================] - 0s 731us/step\n",
      "10/10 [==============================] - 0s 637us/step\n",
      "10/10 [==============================] - 0s 644us/step\n",
      "10/10 [==============================] - 0s 695us/step\n",
      "10/10 [==============================] - 0s 740us/step\n",
      "10/10 [==============================] - 0s 616us/step\n",
      "10/10 [==============================] - 0s 728us/step\n",
      "\n",
      " Creating bootstrap sample  11\n",
      "10/10 [==============================] - 0s 701us/step\n",
      "10/10 [==============================] - 0s 674us/step\n",
      "10/10 [==============================] - 0s 705us/step\n",
      "10/10 [==============================] - 0s 736us/step\n",
      "10/10 [==============================] - 0s 705us/step\n",
      "10/10 [==============================] - 0s 689us/step\n",
      "10/10 [==============================] - 0s 680us/step\n",
      "10/10 [==============================] - 0s 640us/step\n",
      "10/10 [==============================] - 0s 728us/step\n",
      "10/10 [==============================] - 0s 703us/step\n"
     ]
    },
    {
     "name": "stdout",
     "output_type": "stream",
     "text": [
      "10/10 [==============================] - 0s 638us/step\n",
      "10/10 [==============================] - 0s 709us/step\n",
      "\n",
      " Creating bootstrap sample  12\n",
      "10/10 [==============================] - 0s 679us/step\n",
      "10/10 [==============================] - 0s 692us/step\n",
      "10/10 [==============================] - 0s 695us/step\n",
      "10/10 [==============================] - 0s 681us/step\n",
      "10/10 [==============================] - 0s 637us/step\n",
      "10/10 [==============================] - 0s 662us/step\n",
      "10/10 [==============================] - 0s 687us/step\n",
      "10/10 [==============================] - 0s 630us/step\n",
      "10/10 [==============================] - 0s 690us/step\n",
      "10/10 [==============================] - 0s 646us/step\n",
      "10/10 [==============================] - 0s 662us/step\n",
      "10/10 [==============================] - 0s 701us/step\n",
      "\n",
      " Creating bootstrap sample  13\n",
      "10/10 [==============================] - 0s 673us/step\n",
      "10/10 [==============================] - 0s 712us/step\n",
      "10/10 [==============================] - 0s 700us/step\n",
      "10/10 [==============================] - 0s 674us/step\n",
      "10/10 [==============================] - 0s 608us/step\n",
      "10/10 [==============================] - 0s 685us/step\n",
      "10/10 [==============================] - 0s 691us/step\n",
      "10/10 [==============================] - 0s 665us/step\n",
      "10/10 [==============================] - 0s 648us/step\n",
      "10/10 [==============================] - 0s 697us/step\n",
      "10/10 [==============================] - 0s 693us/step\n",
      "10/10 [==============================] - 0s 728us/step\n",
      "\n",
      " Creating bootstrap sample  14\n",
      "10/10 [==============================] - 0s 621us/step\n",
      "10/10 [==============================] - 0s 664us/step\n",
      "10/10 [==============================] - 0s 707us/step\n",
      "10/10 [==============================] - 0s 707us/step\n",
      "10/10 [==============================] - 0s 667us/step\n",
      "10/10 [==============================] - 0s 644us/step\n",
      "10/10 [==============================] - 0s 674us/step\n",
      "10/10 [==============================] - 0s 621us/step\n",
      "10/10 [==============================] - 0s 765us/step\n",
      "10/10 [==============================] - 0s 678us/step\n",
      "10/10 [==============================] - 0s 679us/step\n",
      "10/10 [==============================] - 0s 801us/step\n",
      "\n",
      " Creating bootstrap sample  15\n",
      "10/10 [==============================] - 0s 733us/step\n",
      "10/10 [==============================] - 0s 673us/step\n",
      "10/10 [==============================] - 0s 743us/step\n",
      "10/10 [==============================] - 0s 694us/step\n",
      "10/10 [==============================] - 0s 644us/step\n",
      "10/10 [==============================] - 0s 719us/step\n",
      "10/10 [==============================] - 0s 714us/step\n",
      "10/10 [==============================] - 0s 650us/step\n",
      "10/10 [==============================] - 0s 669us/step\n",
      "10/10 [==============================] - 0s 717us/step\n",
      "10/10 [==============================] - 0s 669us/step\n",
      "10/10 [==============================] - 0s 725us/step\n",
      "\n",
      " Creating bootstrap sample  16\n",
      "10/10 [==============================] - 0s 704us/step\n",
      "10/10 [==============================] - 0s 688us/step\n",
      "10/10 [==============================] - 0s 656us/step\n",
      "10/10 [==============================] - 0s 654us/step\n",
      "10/10 [==============================] - 0s 662us/step\n",
      "10/10 [==============================] - 0s 733us/step\n",
      "10/10 [==============================] - 0s 648us/step\n",
      "10/10 [==============================] - 0s 714us/step\n",
      "10/10 [==============================] - 0s 776us/step\n",
      "10/10 [==============================] - 0s 646us/step\n",
      "10/10 [==============================] - 0s 657us/step\n",
      "10/10 [==============================] - 0s 720us/step\n",
      "\n",
      " Creating bootstrap sample  17\n",
      "10/10 [==============================] - 0s 658us/step\n",
      "10/10 [==============================] - 0s 616us/step\n",
      "10/10 [==============================] - 0s 702us/step\n",
      "10/10 [==============================] - 0s 707us/step\n",
      "10/10 [==============================] - 0s 656us/step\n",
      "10/10 [==============================] - 0s 734us/step\n",
      "10/10 [==============================] - 0s 668us/step\n",
      "10/10 [==============================] - 0s 736us/step\n",
      "10/10 [==============================] - 0s 704us/step\n",
      "10/10 [==============================] - 0s 666us/step\n",
      "10/10 [==============================] - 0s 664us/step\n",
      "10/10 [==============================] - 0s 715us/step\n",
      "\n",
      " Creating bootstrap sample  18\n",
      "10/10 [==============================] - 0s 707us/step\n",
      "10/10 [==============================] - 0s 724us/step\n",
      "10/10 [==============================] - 0s 760us/step\n",
      "10/10 [==============================] - 0s 620us/step\n",
      "10/10 [==============================] - 0s 645us/step\n",
      "10/10 [==============================] - 0s 723us/step\n",
      "10/10 [==============================] - 0s 677us/step\n",
      "10/10 [==============================] - 0s 645us/step\n",
      "10/10 [==============================] - 0s 707us/step\n",
      "10/10 [==============================] - 0s 649us/step\n",
      "10/10 [==============================] - 0s 702us/step\n",
      "10/10 [==============================] - 0s 703us/step\n",
      "\n",
      " Creating bootstrap sample  19\n",
      "10/10 [==============================] - 0s 703us/step\n",
      "10/10 [==============================] - 0s 674us/step\n",
      "10/10 [==============================] - 0s 676us/step\n",
      "10/10 [==============================] - 0s 676us/step\n",
      "10/10 [==============================] - 0s 694us/step\n",
      "10/10 [==============================] - 0s 712us/step\n",
      "10/10 [==============================] - 0s 602us/step\n",
      "10/10 [==============================] - 0s 592us/step\n",
      "10/10 [==============================] - 0s 631us/step\n",
      "10/10 [==============================] - 0s 719us/step\n",
      "10/10 [==============================] - 0s 654us/step\n",
      "10/10 [==============================] - 0s 730us/step\n",
      "\n",
      " Creating bootstrap sample  20\n",
      "10/10 [==============================] - 0s 737us/step\n",
      "10/10 [==============================] - 0s 676us/step\n",
      "10/10 [==============================] - 0s 712us/step\n",
      "10/10 [==============================] - 0s 636us/step\n",
      "10/10 [==============================] - 0s 668us/step\n",
      "10/10 [==============================] - 0s 734us/step\n",
      "10/10 [==============================] - 0s 684us/step\n",
      "10/10 [==============================] - 0s 700us/step\n",
      "10/10 [==============================] - 0s 734us/step\n",
      "10/10 [==============================] - 0s 676us/step\n",
      "10/10 [==============================] - 0s 686us/step\n",
      "10/10 [==============================] - 0s 742us/step\n",
      "\n",
      " Creating bootstrap sample  21\n",
      "10/10 [==============================] - 0s 663us/step\n",
      "10/10 [==============================] - 0s 606us/step\n",
      "10/10 [==============================] - 0s 717us/step\n",
      "10/10 [==============================] - 0s 659us/step\n",
      "10/10 [==============================] - 0s 685us/step\n",
      "10/10 [==============================] - 0s 626us/step\n",
      "10/10 [==============================] - 0s 659us/step\n",
      "10/10 [==============================] - 0s 658us/step\n",
      "10/10 [==============================] - 0s 695us/step\n",
      "10/10 [==============================] - 0s 665us/step\n",
      "10/10 [==============================] - 0s 670us/step\n",
      "10/10 [==============================] - 0s 718us/step\n",
      "\n",
      " Creating bootstrap sample  22\n",
      "10/10 [==============================] - 0s 720us/step\n",
      "10/10 [==============================] - 0s 720us/step\n",
      "10/10 [==============================] - 0s 738us/step\n",
      "10/10 [==============================] - 0s 775us/step\n",
      "10/10 [==============================] - 0s 674us/step\n",
      "10/10 [==============================] - 0s 670us/step\n",
      "10/10 [==============================] - 0s 710us/step\n",
      "10/10 [==============================] - 0s 738us/step\n",
      "10/10 [==============================] - 0s 694us/step\n",
      "10/10 [==============================] - 0s 665us/step\n",
      "10/10 [==============================] - 0s 715us/step\n",
      "10/10 [==============================] - 0s 664us/step\n",
      "\n",
      " Creating bootstrap sample  23\n",
      "10/10 [==============================] - 0s 697us/step\n",
      "10/10 [==============================] - 0s 677us/step\n",
      "10/10 [==============================] - 0s 686us/step\n",
      "10/10 [==============================] - 0s 666us/step\n",
      "10/10 [==============================] - 0s 623us/step\n",
      "10/10 [==============================] - 0s 727us/step\n",
      "10/10 [==============================] - 0s 731us/step\n",
      "10/10 [==============================] - 0s 671us/step\n"
     ]
    },
    {
     "name": "stdout",
     "output_type": "stream",
     "text": [
      "10/10 [==============================] - 0s 698us/step\n",
      "10/10 [==============================] - 0s 681us/step\n",
      "10/10 [==============================] - 0s 637us/step\n",
      "10/10 [==============================] - 0s 686us/step\n",
      "\n",
      " Creating bootstrap sample  24\n",
      "10/10 [==============================] - 0s 703us/step\n",
      "10/10 [==============================] - 0s 697us/step\n",
      "10/10 [==============================] - 0s 667us/step\n",
      "10/10 [==============================] - 0s 728us/step\n",
      "10/10 [==============================] - 0s 682us/step\n",
      "10/10 [==============================] - 0s 707us/step\n",
      "10/10 [==============================] - 0s 724us/step\n",
      "10/10 [==============================] - 0s 594us/step\n",
      "10/10 [==============================] - 0s 690us/step\n",
      "10/10 [==============================] - 0s 622us/step\n",
      "10/10 [==============================] - 0s 680us/step\n",
      "10/10 [==============================] - 0s 725us/step\n",
      "\n",
      " Creating bootstrap sample  25\n",
      "10/10 [==============================] - 0s 649us/step\n",
      "10/10 [==============================] - 0s 690us/step\n",
      "10/10 [==============================] - 0s 644us/step\n",
      "10/10 [==============================] - 0s 650us/step\n",
      "10/10 [==============================] - 0s 680us/step\n",
      "10/10 [==============================] - 0s 727us/step\n",
      "10/10 [==============================] - 0s 651us/step\n",
      "10/10 [==============================] - 0s 657us/step\n",
      "10/10 [==============================] - 0s 854us/step\n",
      "10/10 [==============================] - 0s 688us/step\n",
      "10/10 [==============================] - 0s 711us/step\n",
      "10/10 [==============================] - 0s 714us/step\n",
      "\n",
      " Creating bootstrap sample  26\n",
      "10/10 [==============================] - 0s 627us/step\n",
      "10/10 [==============================] - 0s 729us/step\n",
      "10/10 [==============================] - 0s 704us/step\n",
      "10/10 [==============================] - 0s 683us/step\n",
      "10/10 [==============================] - 0s 633us/step\n",
      "10/10 [==============================] - 0s 652us/step\n",
      "10/10 [==============================] - 0s 700us/step\n",
      "10/10 [==============================] - 0s 614us/step\n",
      "10/10 [==============================] - 0s 668us/step\n",
      "10/10 [==============================] - 0s 679us/step\n",
      "10/10 [==============================] - 0s 652us/step\n",
      "10/10 [==============================] - 0s 698us/step\n",
      "\n",
      " Creating bootstrap sample  27\n",
      "10/10 [==============================] - 0s 648us/step\n",
      "10/10 [==============================] - 0s 646us/step\n",
      "10/10 [==============================] - 0s 648us/step\n",
      "10/10 [==============================] - 0s 645us/step\n",
      "10/10 [==============================] - 0s 683us/step\n",
      "10/10 [==============================] - 0s 688us/step\n",
      "10/10 [==============================] - 0s 696us/step\n",
      "10/10 [==============================] - 0s 700us/step\n",
      "10/10 [==============================] - 0s 670us/step\n",
      "10/10 [==============================] - 0s 671us/step\n",
      "10/10 [==============================] - 0s 616us/step\n",
      "10/10 [==============================] - 0s 680us/step\n",
      "\n",
      " Creating bootstrap sample  28\n",
      "10/10 [==============================] - 0s 638us/step\n",
      "10/10 [==============================] - 0s 692us/step\n",
      "10/10 [==============================] - 0s 665us/step\n",
      "10/10 [==============================] - 0s 710us/step\n",
      "10/10 [==============================] - 0s 733us/step\n",
      "10/10 [==============================] - 0s 785us/step\n",
      "10/10 [==============================] - 0s 648us/step\n",
      "10/10 [==============================] - 0s 698us/step\n",
      "10/10 [==============================] - 0s 691us/step\n",
      "10/10 [==============================] - 0s 688us/step\n",
      "10/10 [==============================] - 0s 690us/step\n",
      "10/10 [==============================] - 0s 695us/step\n",
      "\n",
      " Creating bootstrap sample  29\n",
      "10/10 [==============================] - 0s 629us/step\n",
      "10/10 [==============================] - 0s 654us/step\n",
      "10/10 [==============================] - 0s 733us/step\n",
      "10/10 [==============================] - 0s 697us/step\n",
      "10/10 [==============================] - 0s 644us/step\n",
      "10/10 [==============================] - 0s 771us/step\n",
      "10/10 [==============================] - 0s 705us/step\n",
      "10/10 [==============================] - 0s 700us/step\n",
      "10/10 [==============================] - 0s 709us/step\n",
      "10/10 [==============================] - 0s 694us/step\n",
      "10/10 [==============================] - 0s 691us/step\n",
      "10/10 [==============================] - 0s 744us/step\n",
      "\n",
      " Creating bootstrap sample  30\n",
      "10/10 [==============================] - 0s 666us/step\n",
      "10/10 [==============================] - 0s 687us/step\n",
      "10/10 [==============================] - 0s 641us/step\n",
      "10/10 [==============================] - 0s 663us/step\n",
      "10/10 [==============================] - 0s 663us/step\n",
      "10/10 [==============================] - 0s 720us/step\n",
      "10/10 [==============================] - 0s 621us/step\n",
      "10/10 [==============================] - 0s 585us/step\n",
      "10/10 [==============================] - 0s 729us/step\n",
      "10/10 [==============================] - 0s 753us/step\n",
      "10/10 [==============================] - 0s 698us/step\n",
      "10/10 [==============================] - 0s 692us/step\n",
      "\n",
      " Creating bootstrap sample  31\n",
      "10/10 [==============================] - 0s 654us/step\n",
      "10/10 [==============================] - 0s 644us/step\n",
      "10/10 [==============================] - 0s 713us/step\n",
      "10/10 [==============================] - 0s 624us/step\n",
      "10/10 [==============================] - 0s 704us/step\n",
      "10/10 [==============================] - 0s 698us/step\n",
      "10/10 [==============================] - 0s 715us/step\n",
      "10/10 [==============================] - 0s 667us/step\n",
      "10/10 [==============================] - 0s 733us/step\n",
      "10/10 [==============================] - 0s 719us/step\n",
      "10/10 [==============================] - 0s 664us/step\n",
      "10/10 [==============================] - 0s 721us/step\n",
      "\n",
      " Creating bootstrap sample  32\n",
      "10/10 [==============================] - 0s 703us/step\n",
      "10/10 [==============================] - 0s 635us/step\n",
      "10/10 [==============================] - 0s 701us/step\n",
      "10/10 [==============================] - 0s 626us/step\n",
      "10/10 [==============================] - 0s 629us/step\n",
      "10/10 [==============================] - 0s 664us/step\n",
      "10/10 [==============================] - 0s 717us/step\n",
      "10/10 [==============================] - 0s 680us/step\n",
      "10/10 [==============================] - 0s 778us/step\n",
      "10/10 [==============================] - 0s 683us/step\n",
      "10/10 [==============================] - 0s 685us/step\n",
      "10/10 [==============================] - 0s 840us/step\n",
      "\n",
      " Creating bootstrap sample  33\n",
      "10/10 [==============================] - 0s 689us/step\n",
      "10/10 [==============================] - 0s 686us/step\n",
      "10/10 [==============================] - 0s 722us/step\n",
      "10/10 [==============================] - 0s 684us/step\n",
      "10/10 [==============================] - 0s 632us/step\n",
      "10/10 [==============================] - 0s 682us/step\n",
      "10/10 [==============================] - 0s 669us/step\n",
      "10/10 [==============================] - 0s 648us/step\n",
      "10/10 [==============================] - 0s 679us/step\n",
      "10/10 [==============================] - 0s 666us/step\n",
      "10/10 [==============================] - 0s 645us/step\n",
      "10/10 [==============================] - 0s 707us/step\n",
      "\n",
      " Creating bootstrap sample  34\n",
      "10/10 [==============================] - 0s 695us/step\n",
      "10/10 [==============================] - 0s 682us/step\n",
      "10/10 [==============================] - 0s 719us/step\n",
      "10/10 [==============================] - 0s 684us/step\n",
      "10/10 [==============================] - 0s 653us/step\n",
      "10/10 [==============================] - 0s 686us/step\n",
      "10/10 [==============================] - 0s 699us/step\n",
      "10/10 [==============================] - 0s 692us/step\n",
      "10/10 [==============================] - 0s 707us/step\n",
      "10/10 [==============================] - 0s 733us/step\n",
      "10/10 [==============================] - 0s 712us/step\n",
      "10/10 [==============================] - 0s 684us/step\n",
      "\n",
      " Creating bootstrap sample  35\n",
      "10/10 [==============================] - 0s 618us/step\n",
      "10/10 [==============================] - 0s 698us/step\n",
      "10/10 [==============================] - 0s 733us/step\n",
      "10/10 [==============================] - 0s 657us/step\n",
      "10/10 [==============================] - 0s 678us/step\n",
      "10/10 [==============================] - 0s 706us/step\n"
     ]
    },
    {
     "name": "stdout",
     "output_type": "stream",
     "text": [
      "10/10 [==============================] - 0s 650us/step\n",
      "10/10 [==============================] - 0s 685us/step\n",
      "10/10 [==============================] - 0s 676us/step\n",
      "10/10 [==============================] - 0s 730us/step\n",
      "10/10 [==============================] - 0s 657us/step\n",
      "10/10 [==============================] - 0s 706us/step\n",
      "\n",
      " Creating bootstrap sample  36\n",
      "10/10 [==============================] - 0s 689us/step\n",
      "10/10 [==============================] - 0s 663us/step\n",
      "10/10 [==============================] - 0s 749us/step\n",
      "10/10 [==============================] - 0s 600us/step\n",
      "10/10 [==============================] - 0s 662us/step\n",
      "10/10 [==============================] - 0s 656us/step\n",
      "10/10 [==============================] - 0s 762us/step\n",
      "10/10 [==============================] - 0s 720us/step\n",
      "10/10 [==============================] - 0s 702us/step\n",
      "10/10 [==============================] - 0s 711us/step\n",
      "10/10 [==============================] - 0s 626us/step\n",
      "10/10 [==============================] - 0s 667us/step\n",
      "\n",
      " Creating bootstrap sample  37\n",
      "10/10 [==============================] - 0s 652us/step\n",
      "10/10 [==============================] - 0s 622us/step\n",
      "10/10 [==============================] - 0s 707us/step\n",
      "10/10 [==============================] - 0s 768us/step\n",
      "10/10 [==============================] - 0s 704us/step\n",
      "10/10 [==============================] - 0s 713us/step\n",
      "10/10 [==============================] - 0s 713us/step\n",
      "10/10 [==============================] - 0s 650us/step\n",
      "10/10 [==============================] - 0s 803us/step\n",
      "10/10 [==============================] - 0s 686us/step\n",
      "10/10 [==============================] - 0s 684us/step\n",
      "10/10 [==============================] - 0s 803us/step\n",
      "\n",
      " Creating bootstrap sample  38\n",
      "10/10 [==============================] - 0s 668us/step\n",
      "10/10 [==============================] - 0s 693us/step\n",
      "10/10 [==============================] - 0s 716us/step\n",
      "10/10 [==============================] - 0s 704us/step\n",
      "10/10 [==============================] - 0s 684us/step\n",
      "10/10 [==============================] - 0s 713us/step\n",
      "10/10 [==============================] - 0s 688us/step\n",
      "10/10 [==============================] - 0s 709us/step\n",
      "10/10 [==============================] - 0s 747us/step\n",
      "10/10 [==============================] - 0s 718us/step\n",
      "10/10 [==============================] - 0s 688us/step\n",
      "10/10 [==============================] - 0s 612us/step\n",
      "\n",
      " Creating bootstrap sample  39\n",
      "10/10 [==============================] - 0s 726us/step\n",
      "10/10 [==============================] - 0s 685us/step\n",
      "10/10 [==============================] - 0s 730us/step\n",
      "10/10 [==============================] - 0s 731us/step\n",
      "10/10 [==============================] - 0s 658us/step\n",
      "10/10 [==============================] - 0s 730us/step\n",
      "10/10 [==============================] - 0s 676us/step\n",
      "10/10 [==============================] - 0s 688us/step\n",
      "10/10 [==============================] - 0s 626us/step\n",
      "10/10 [==============================] - 0s 678us/step\n",
      "10/10 [==============================] - 0s 697us/step\n",
      "10/10 [==============================] - 0s 692us/step\n",
      "\n",
      " Creating bootstrap sample  40\n",
      "10/10 [==============================] - 0s 672us/step\n",
      "10/10 [==============================] - 0s 674us/step\n",
      "10/10 [==============================] - 0s 779us/step\n",
      "10/10 [==============================] - 0s 677us/step\n",
      "10/10 [==============================] - 0s 705us/step\n",
      "10/10 [==============================] - 0s 754us/step\n",
      "10/10 [==============================] - 0s 627us/step\n",
      "10/10 [==============================] - 0s 652us/step\n",
      "10/10 [==============================] - 0s 817us/step\n",
      "10/10 [==============================] - 0s 712us/step\n",
      "10/10 [==============================] - 0s 653us/step\n",
      "10/10 [==============================] - 0s 734us/step\n",
      "\n",
      " Creating bootstrap sample  41\n",
      "10/10 [==============================] - 0s 602us/step\n",
      "10/10 [==============================] - 0s 656us/step\n",
      "10/10 [==============================] - 0s 746us/step\n",
      "10/10 [==============================] - 0s 713us/step\n",
      "10/10 [==============================] - 0s 636us/step\n",
      "10/10 [==============================] - 0s 725us/step\n",
      "10/10 [==============================] - 0s 711us/step\n",
      "10/10 [==============================] - 0s 699us/step\n",
      "10/10 [==============================] - 0s 704us/step\n",
      "10/10 [==============================] - 0s 728us/step\n",
      "10/10 [==============================] - 0s 677us/step\n",
      "10/10 [==============================] - 0s 678us/step\n",
      "\n",
      " Creating bootstrap sample  42\n",
      "10/10 [==============================] - 0s 679us/step\n",
      "10/10 [==============================] - 0s 703us/step\n",
      "10/10 [==============================] - 0s 659us/step\n",
      "10/10 [==============================] - 0s 665us/step\n",
      "10/10 [==============================] - 0s 689us/step\n",
      "10/10 [==============================] - 0s 716us/step\n",
      "10/10 [==============================] - 0s 656us/step\n",
      "10/10 [==============================] - 0s 707us/step\n",
      "10/10 [==============================] - 0s 694us/step\n",
      "10/10 [==============================] - 0s 654us/step\n",
      "10/10 [==============================] - 0s 655us/step\n",
      "10/10 [==============================] - 0s 651us/step\n",
      "\n",
      " Creating bootstrap sample  43\n",
      "10/10 [==============================] - 0s 654us/step\n",
      "10/10 [==============================] - 0s 644us/step\n",
      "10/10 [==============================] - 0s 691us/step\n",
      "10/10 [==============================] - 0s 671us/step\n",
      "10/10 [==============================] - 0s 594us/step\n",
      "10/10 [==============================] - 0s 733us/step\n",
      "10/10 [==============================] - 0s 703us/step\n",
      "10/10 [==============================] - 0s 704us/step\n",
      "10/10 [==============================] - 0s 667us/step\n",
      "10/10 [==============================] - 0s 683us/step\n",
      "10/10 [==============================] - 0s 743us/step\n",
      "10/10 [==============================] - 0s 698us/step\n",
      "\n",
      " Creating bootstrap sample  44\n",
      "10/10 [==============================] - 0s 701us/step\n",
      "10/10 [==============================] - 0s 694us/step\n",
      "10/10 [==============================] - 0s 735us/step\n",
      "10/10 [==============================] - 0s 683us/step\n",
      "10/10 [==============================] - 0s 650us/step\n",
      "10/10 [==============================] - 0s 752us/step\n",
      "10/10 [==============================] - 0s 712us/step\n",
      "10/10 [==============================] - 0s 671us/step\n",
      "10/10 [==============================] - 0s 759us/step\n",
      "10/10 [==============================] - 0s 710us/step\n",
      "10/10 [==============================] - 0s 664us/step\n",
      "10/10 [==============================] - 0s 703us/step\n",
      "\n",
      " Creating bootstrap sample  45\n",
      "10/10 [==============================] - 0s 684us/step\n",
      "10/10 [==============================] - 0s 679us/step\n",
      "10/10 [==============================] - 0s 751us/step\n",
      "10/10 [==============================] - 0s 655us/step\n",
      "10/10 [==============================] - 0s 673us/step\n",
      "10/10 [==============================] - 0s 672us/step\n",
      "10/10 [==============================] - 0s 726us/step\n",
      "10/10 [==============================] - 0s 676us/step\n",
      "10/10 [==============================] - 0s 687us/step\n",
      "10/10 [==============================] - 0s 805us/step\n",
      "10/10 [==============================] - 0s 638us/step\n",
      "10/10 [==============================] - 0s 702us/step\n",
      "\n",
      " Creating bootstrap sample  46\n",
      "10/10 [==============================] - 0s 738us/step\n",
      "10/10 [==============================] - 0s 696us/step\n",
      "10/10 [==============================] - 0s 657us/step\n",
      "10/10 [==============================] - 0s 676us/step\n",
      "10/10 [==============================] - 0s 642us/step\n",
      "10/10 [==============================] - 0s 715us/step\n",
      "10/10 [==============================] - 0s 661us/step\n",
      "10/10 [==============================] - 0s 633us/step\n",
      "10/10 [==============================] - 0s 753us/step\n",
      "10/10 [==============================] - 0s 685us/step\n",
      "10/10 [==============================] - 0s 625us/step\n",
      "10/10 [==============================] - 0s 707us/step\n",
      "\n",
      " Creating bootstrap sample  47\n",
      "10/10 [==============================] - 0s 625us/step\n",
      "10/10 [==============================] - 0s 696us/step\n",
      "10/10 [==============================] - 0s 673us/step\n",
      "10/10 [==============================] - 0s 698us/step\n"
     ]
    },
    {
     "name": "stdout",
     "output_type": "stream",
     "text": [
      "10/10 [==============================] - 0s 667us/step\n",
      "10/10 [==============================] - 0s 712us/step\n",
      "10/10 [==============================] - 0s 664us/step\n",
      "10/10 [==============================] - 0s 631us/step\n",
      "10/10 [==============================] - 0s 701us/step\n",
      "10/10 [==============================] - 0s 686us/step\n",
      "10/10 [==============================] - 0s 651us/step\n",
      "10/10 [==============================] - 0s 631us/step\n",
      "\n",
      " Creating bootstrap sample  48\n",
      "10/10 [==============================] - 0s 619us/step\n",
      "10/10 [==============================] - 0s 716us/step\n",
      "10/10 [==============================] - 0s 697us/step\n",
      "10/10 [==============================] - 0s 692us/step\n",
      "10/10 [==============================] - 0s 668us/step\n",
      "10/10 [==============================] - 0s 786us/step\n",
      "10/10 [==============================] - 0s 715us/step\n",
      "10/10 [==============================] - 0s 711us/step\n",
      "10/10 [==============================] - 0s 750us/step\n",
      "10/10 [==============================] - 0s 653us/step\n",
      "10/10 [==============================] - 0s 629us/step\n",
      "10/10 [==============================] - 0s 681us/step\n",
      "\n",
      " Creating bootstrap sample  49\n",
      "10/10 [==============================] - 0s 708us/step\n",
      "10/10 [==============================] - 0s 647us/step\n",
      "10/10 [==============================] - 0s 707us/step\n",
      "10/10 [==============================] - 0s 653us/step\n",
      "10/10 [==============================] - 0s 610us/step\n",
      "10/10 [==============================] - 0s 713us/step\n",
      "10/10 [==============================] - 0s 708us/step\n",
      "10/10 [==============================] - 0s 699us/step\n",
      "10/10 [==============================] - 0s 767us/step\n",
      "10/10 [==============================] - 0s 735us/step\n",
      "10/10 [==============================] - 0s 679us/step\n",
      "10/10 [==============================] - 0s 683us/step\n",
      "\n",
      " Creating bootstrap sample  50\n",
      "10/10 [==============================] - 0s 708us/step\n",
      "10/10 [==============================] - 0s 678us/step\n",
      "10/10 [==============================] - 0s 711us/step\n",
      "10/10 [==============================] - 0s 707us/step\n",
      "10/10 [==============================] - 0s 658us/step\n",
      "10/10 [==============================] - 0s 730us/step\n",
      "10/10 [==============================] - 0s 678us/step\n",
      "10/10 [==============================] - 0s 651us/step\n",
      "10/10 [==============================] - 0s 722us/step\n",
      "10/10 [==============================] - 0s 715us/step\n",
      "10/10 [==============================] - 0s 677us/step\n",
      "10/10 [==============================] - 0s 712us/step\n",
      "\n",
      " Creating bootstrap sample  51\n",
      "10/10 [==============================] - 0s 641us/step\n",
      "10/10 [==============================] - 0s 646us/step\n",
      "10/10 [==============================] - 0s 626us/step\n",
      "10/10 [==============================] - 0s 645us/step\n",
      "10/10 [==============================] - 0s 629us/step\n",
      "10/10 [==============================] - 0s 706us/step\n",
      "10/10 [==============================] - 0s 611us/step\n",
      "10/10 [==============================] - 0s 641us/step\n",
      "10/10 [==============================] - 0s 703us/step\n",
      "10/10 [==============================] - 0s 654us/step\n",
      "10/10 [==============================] - 0s 659us/step\n",
      "10/10 [==============================] - 0s 712us/step\n",
      "\n",
      " Creating bootstrap sample  52\n",
      "10/10 [==============================] - 0s 701us/step\n",
      "10/10 [==============================] - 0s 676us/step\n",
      "10/10 [==============================] - 0s 729us/step\n",
      "10/10 [==============================] - 0s 729us/step\n",
      "10/10 [==============================] - 0s 639us/step\n",
      "10/10 [==============================] - 0s 755us/step\n",
      "10/10 [==============================] - 0s 658us/step\n",
      "10/10 [==============================] - 0s 601us/step\n",
      "10/10 [==============================] - 0s 702us/step\n",
      "10/10 [==============================] - 0s 637us/step\n",
      "10/10 [==============================] - 0s 673us/step\n",
      "10/10 [==============================] - 0s 685us/step\n",
      "\n",
      " Creating bootstrap sample  53\n",
      "10/10 [==============================] - 0s 705us/step\n",
      "10/10 [==============================] - 0s 634us/step\n",
      "10/10 [==============================] - 0s 732us/step\n",
      "10/10 [==============================] - 0s 716us/step\n",
      "10/10 [==============================] - 0s 697us/step\n",
      "10/10 [==============================] - 0s 704us/step\n",
      "10/10 [==============================] - 0s 729us/step\n",
      "10/10 [==============================] - 0s 684us/step\n",
      "10/10 [==============================] - 0s 715us/step\n",
      "10/10 [==============================] - 0s 735us/step\n",
      "10/10 [==============================] - 0s 696us/step\n",
      "10/10 [==============================] - 0s 757us/step\n",
      "\n",
      " Creating bootstrap sample  54\n",
      "10/10 [==============================] - 0s 693us/step\n",
      "10/10 [==============================] - 0s 709us/step\n",
      "10/10 [==============================] - 0s 691us/step\n",
      "10/10 [==============================] - 0s 688us/step\n",
      "10/10 [==============================] - 0s 709us/step\n",
      "10/10 [==============================] - 0s 694us/step\n",
      "10/10 [==============================] - 0s 679us/step\n",
      "10/10 [==============================] - 0s 679us/step\n",
      "10/10 [==============================] - 0s 743us/step\n",
      "10/10 [==============================] - 0s 640us/step\n",
      "10/10 [==============================] - 0s 690us/step\n",
      "10/10 [==============================] - 0s 711us/step\n",
      "\n",
      " Creating bootstrap sample  55\n",
      "10/10 [==============================] - 0s 675us/step\n",
      "10/10 [==============================] - 0s 647us/step\n",
      "10/10 [==============================] - 0s 732us/step\n",
      "10/10 [==============================] - 0s 708us/step\n",
      "10/10 [==============================] - 0s 648us/step\n",
      "10/10 [==============================] - 0s 736us/step\n",
      "10/10 [==============================] - 0s 740us/step\n",
      "10/10 [==============================] - 0s 677us/step\n",
      "10/10 [==============================] - 0s 708us/step\n",
      "10/10 [==============================] - 0s 696us/step\n",
      "10/10 [==============================] - 0s 682us/step\n",
      "10/10 [==============================] - 0s 724us/step\n",
      "\n",
      " Creating bootstrap sample  56\n",
      "10/10 [==============================] - 0s 672us/step\n",
      "10/10 [==============================] - 0s 745us/step\n",
      "10/10 [==============================] - 0s 642us/step\n",
      "10/10 [==============================] - 0s 675us/step\n",
      "10/10 [==============================] - 0s 687us/step\n",
      "10/10 [==============================] - 0s 750us/step\n",
      "10/10 [==============================] - 0s 673us/step\n",
      "10/10 [==============================] - 0s 692us/step\n",
      "10/10 [==============================] - 0s 663us/step\n",
      "10/10 [==============================] - 0s 679us/step\n",
      "10/10 [==============================] - 0s 651us/step\n",
      "10/10 [==============================] - 0s 690us/step\n",
      "\n",
      " Creating bootstrap sample  57\n",
      "10/10 [==============================] - 0s 673us/step\n",
      "10/10 [==============================] - 0s 647us/step\n",
      "10/10 [==============================] - 0s 698us/step\n",
      "10/10 [==============================] - 0s 692us/step\n",
      "10/10 [==============================] - 0s 699us/step\n",
      "10/10 [==============================] - 0s 633us/step\n",
      "10/10 [==============================] - 0s 688us/step\n",
      "10/10 [==============================] - 0s 687us/step\n",
      "10/10 [==============================] - 0s 722us/step\n",
      "10/10 [==============================] - 0s 733us/step\n",
      "10/10 [==============================] - 0s 691us/step\n",
      "10/10 [==============================] - 0s 645us/step\n",
      "\n",
      " Creating bootstrap sample  58\n",
      "10/10 [==============================] - 0s 732us/step\n",
      "10/10 [==============================] - 0s 636us/step\n",
      "10/10 [==============================] - 0s 675us/step\n",
      "10/10 [==============================] - 0s 710us/step\n",
      "10/10 [==============================] - 0s 688us/step\n",
      "10/10 [==============================] - 0s 716us/step\n",
      "10/10 [==============================] - 0s 672us/step\n",
      "10/10 [==============================] - 0s 634us/step\n",
      "10/10 [==============================] - 0s 698us/step\n",
      "10/10 [==============================] - 0s 700us/step\n",
      "10/10 [==============================] - 0s 622us/step\n",
      "10/10 [==============================] - 0s 741us/step\n",
      "\n",
      " Creating bootstrap sample  59\n",
      "10/10 [==============================] - 0s 602us/step\n",
      "10/10 [==============================] - 0s 658us/step\n"
     ]
    },
    {
     "name": "stdout",
     "output_type": "stream",
     "text": [
      "10/10 [==============================] - 0s 691us/step\n",
      "10/10 [==============================] - 0s 682us/step\n",
      "10/10 [==============================] - 0s 710us/step\n",
      "10/10 [==============================] - 0s 733us/step\n",
      "10/10 [==============================] - 0s 696us/step\n",
      "10/10 [==============================] - 0s 688us/step\n",
      "10/10 [==============================] - 0s 759us/step\n",
      "10/10 [==============================] - 0s 711us/step\n",
      "10/10 [==============================] - 0s 679us/step\n",
      "10/10 [==============================] - 0s 684us/step\n",
      "\n",
      " Creating bootstrap sample  60\n",
      "10/10 [==============================] - 0s 693us/step\n",
      "10/10 [==============================] - 0s 678us/step\n",
      "10/10 [==============================] - 0s 714us/step\n",
      "10/10 [==============================] - 0s 702us/step\n",
      "10/10 [==============================] - 0s 698us/step\n",
      "10/10 [==============================] - 0s 727us/step\n",
      "10/10 [==============================] - 0s 635us/step\n",
      "10/10 [==============================] - 0s 669us/step\n",
      "10/10 [==============================] - 0s 635us/step\n",
      "10/10 [==============================] - 0s 692us/step\n",
      "10/10 [==============================] - 0s 693us/step\n",
      "10/10 [==============================] - 0s 735us/step\n",
      "\n",
      " Creating bootstrap sample  61\n",
      "10/10 [==============================] - 0s 643us/step\n",
      "10/10 [==============================] - 0s 632us/step\n",
      "10/10 [==============================] - 0s 726us/step\n",
      "10/10 [==============================] - 0s 710us/step\n",
      "10/10 [==============================] - 0s 707us/step\n",
      "10/10 [==============================] - 0s 756us/step\n",
      "10/10 [==============================] - 0s 658us/step\n",
      "10/10 [==============================] - 0s 673us/step\n",
      "10/10 [==============================] - 0s 723us/step\n",
      "10/10 [==============================] - 0s 678us/step\n",
      "10/10 [==============================] - 0s 599us/step\n",
      "10/10 [==============================] - 0s 717us/step\n",
      "\n",
      " Creating bootstrap sample  62\n",
      "10/10 [==============================] - 0s 664us/step\n",
      "10/10 [==============================] - 0s 672us/step\n",
      "10/10 [==============================] - 0s 698us/step\n",
      "10/10 [==============================] - 0s 673us/step\n",
      "10/10 [==============================] - 0s 650us/step\n",
      "10/10 [==============================] - 0s 685us/step\n",
      "10/10 [==============================] - 0s 679us/step\n",
      "10/10 [==============================] - 0s 685us/step\n",
      "10/10 [==============================] - 0s 722us/step\n",
      "10/10 [==============================] - 0s 710us/step\n",
      "10/10 [==============================] - 0s 658us/step\n",
      "10/10 [==============================] - 0s 643us/step\n",
      "\n",
      " Creating bootstrap sample  63\n",
      "10/10 [==============================] - 0s 723us/step\n",
      "10/10 [==============================] - 0s 695us/step\n",
      "10/10 [==============================] - 0s 755us/step\n",
      "10/10 [==============================] - 0s 672us/step\n",
      "10/10 [==============================] - 0s 625us/step\n",
      "10/10 [==============================] - 0s 655us/step\n",
      "10/10 [==============================] - 0s 653us/step\n",
      "10/10 [==============================] - 0s 659us/step\n",
      "10/10 [==============================] - 0s 698us/step\n",
      "10/10 [==============================] - 0s 715us/step\n",
      "10/10 [==============================] - 0s 726us/step\n",
      "10/10 [==============================] - 0s 728us/step\n",
      "\n",
      " Creating bootstrap sample  64\n",
      "10/10 [==============================] - 0s 619us/step\n",
      "10/10 [==============================] - 0s 675us/step\n",
      "10/10 [==============================] - 0s 734us/step\n",
      "10/10 [==============================] - 0s 651us/step\n",
      "10/10 [==============================] - 0s 713us/step\n",
      "10/10 [==============================] - 0s 737us/step\n",
      "10/10 [==============================] - 0s 653us/step\n",
      "10/10 [==============================] - 0s 692us/step\n",
      "10/10 [==============================] - 0s 748us/step\n",
      "10/10 [==============================] - 0s 683us/step\n",
      "10/10 [==============================] - 0s 668us/step\n",
      "10/10 [==============================] - 0s 691us/step\n",
      "\n",
      " Creating bootstrap sample  65\n",
      "10/10 [==============================] - 0s 687us/step\n",
      "10/10 [==============================] - 0s 674us/step\n",
      "10/10 [==============================] - 0s 684us/step\n",
      "10/10 [==============================] - 0s 732us/step\n",
      "10/10 [==============================] - 0s 639us/step\n",
      "10/10 [==============================] - 0s 688us/step\n",
      "10/10 [==============================] - 0s 646us/step\n",
      "10/10 [==============================] - 0s 615us/step\n",
      "10/10 [==============================] - 0s 747us/step\n",
      "10/10 [==============================] - 0s 715us/step\n",
      "10/10 [==============================] - 0s 632us/step\n",
      "10/10 [==============================] - 0s 705us/step\n",
      "\n",
      " Creating bootstrap sample  66\n",
      "10/10 [==============================] - 0s 694us/step\n",
      "10/10 [==============================] - 0s 673us/step\n",
      "10/10 [==============================] - 0s 735us/step\n",
      "10/10 [==============================] - 0s 667us/step\n",
      "10/10 [==============================] - 0s 640us/step\n",
      "10/10 [==============================] - 0s 721us/step\n",
      "10/10 [==============================] - 0s 661us/step\n",
      "10/10 [==============================] - 0s 666us/step\n",
      "10/10 [==============================] - 0s 753us/step\n",
      "10/10 [==============================] - 0s 697us/step\n",
      "10/10 [==============================] - 0s 691us/step\n",
      "10/10 [==============================] - 0s 752us/step\n",
      "\n",
      " Creating bootstrap sample  67\n",
      "10/10 [==============================] - 0s 639us/step\n",
      "10/10 [==============================] - 0s 683us/step\n",
      "10/10 [==============================] - 0s 758us/step\n",
      "10/10 [==============================] - 0s 700us/step\n",
      "10/10 [==============================] - 0s 688us/step\n",
      "10/10 [==============================] - 0s 764us/step\n",
      "10/10 [==============================] - 0s 674us/step\n",
      "10/10 [==============================] - 0s 641us/step\n",
      "10/10 [==============================] - 0s 675us/step\n",
      "10/10 [==============================] - 0s 667us/step\n",
      "10/10 [==============================] - 0s 668us/step\n",
      "10/10 [==============================] - 0s 699us/step\n",
      "\n",
      " Creating bootstrap sample  68\n",
      "10/10 [==============================] - 0s 730us/step\n",
      "10/10 [==============================] - 0s 704us/step\n",
      "10/10 [==============================] - 0s 718us/step\n",
      "10/10 [==============================] - 0s 671us/step\n",
      "10/10 [==============================] - 0s 630us/step\n",
      "10/10 [==============================] - 0s 727us/step\n",
      "10/10 [==============================] - 0s 608us/step\n",
      "10/10 [==============================] - 0s 653us/step\n",
      "10/10 [==============================] - 0s 733us/step\n",
      "10/10 [==============================] - 0s 667us/step\n",
      "10/10 [==============================] - 0s 643us/step\n",
      "10/10 [==============================] - 0s 706us/step\n",
      "\n",
      " Creating bootstrap sample  69\n",
      "10/10 [==============================] - 0s 706us/step\n",
      "10/10 [==============================] - 0s 692us/step\n",
      "10/10 [==============================] - 0s 713us/step\n",
      "10/10 [==============================] - 0s 717us/step\n",
      "10/10 [==============================] - 0s 601us/step\n",
      "10/10 [==============================] - 0s 731us/step\n",
      "10/10 [==============================] - 0s 701us/step\n",
      "10/10 [==============================] - 0s 693us/step\n",
      "10/10 [==============================] - 0s 705us/step\n",
      "10/10 [==============================] - 0s 700us/step\n",
      "10/10 [==============================] - 0s 640us/step\n",
      "10/10 [==============================] - 0s 779us/step\n",
      "\n",
      " Creating bootstrap sample  70\n",
      "10/10 [==============================] - 0s 676us/step\n",
      "10/10 [==============================] - 0s 725us/step\n",
      "10/10 [==============================] - 0s 700us/step\n",
      "10/10 [==============================] - 0s 676us/step\n",
      "10/10 [==============================] - 0s 670us/step\n",
      "10/10 [==============================] - 0s 719us/step\n",
      "10/10 [==============================] - 0s 693us/step\n",
      "10/10 [==============================] - 0s 685us/step\n",
      "10/10 [==============================] - 0s 753us/step\n",
      "10/10 [==============================] - 0s 720us/step\n",
      "10/10 [==============================] - 0s 688us/step\n",
      "10/10 [==============================] - 0s 740us/step\n",
      "\n",
      " Creating bootstrap sample  71\n"
     ]
    },
    {
     "name": "stdout",
     "output_type": "stream",
     "text": [
      "10/10 [==============================] - 0s 667us/step\n",
      "10/10 [==============================] - 0s 673us/step\n",
      "10/10 [==============================] - 0s 684us/step\n",
      "10/10 [==============================] - 0s 652us/step\n",
      "10/10 [==============================] - 0s 707us/step\n",
      "10/10 [==============================] - 0s 678us/step\n",
      "10/10 [==============================] - 0s 632us/step\n",
      "10/10 [==============================] - 0s 649us/step\n",
      "10/10 [==============================] - 0s 656us/step\n",
      "10/10 [==============================] - 0s 730us/step\n",
      "10/10 [==============================] - 0s 711us/step\n",
      "10/10 [==============================] - 0s 727us/step\n",
      "\n",
      " Creating bootstrap sample  72\n",
      "10/10 [==============================] - 0s 691us/step\n",
      "10/10 [==============================] - 0s 649us/step\n",
      "10/10 [==============================] - 0s 749us/step\n",
      "10/10 [==============================] - 0s 698us/step\n",
      "10/10 [==============================] - 0s 682us/step\n",
      "10/10 [==============================] - 0s 685us/step\n",
      "10/10 [==============================] - 0s 713us/step\n",
      "10/10 [==============================] - 0s 669us/step\n",
      "10/10 [==============================] - 0s 692us/step\n",
      "10/10 [==============================] - 0s 634us/step\n",
      "10/10 [==============================] - 0s 679us/step\n",
      "10/10 [==============================] - 0s 687us/step\n",
      "\n",
      " Creating bootstrap sample  73\n",
      "10/10 [==============================] - 0s 627us/step\n",
      "10/10 [==============================] - 0s 678us/step\n",
      "10/10 [==============================] - 0s 725us/step\n",
      "10/10 [==============================] - 0s 702us/step\n",
      "10/10 [==============================] - 0s 653us/step\n",
      "10/10 [==============================] - 0s 705us/step\n",
      "10/10 [==============================] - 0s 666us/step\n",
      "10/10 [==============================] - 0s 698us/step\n",
      "10/10 [==============================] - 0s 699us/step\n",
      "10/10 [==============================] - 0s 661us/step\n",
      "10/10 [==============================] - 0s 651us/step\n",
      "10/10 [==============================] - 0s 704us/step\n",
      "\n",
      " Creating bootstrap sample  74\n",
      "10/10 [==============================] - 0s 683us/step\n",
      "10/10 [==============================] - 0s 631us/step\n",
      "10/10 [==============================] - 0s 741us/step\n",
      "10/10 [==============================] - 0s 680us/step\n",
      "10/10 [==============================] - 0s 673us/step\n",
      "10/10 [==============================] - 0s 608us/step\n",
      "10/10 [==============================] - 0s 714us/step\n",
      "10/10 [==============================] - 0s 708us/step\n",
      "10/10 [==============================] - 0s 715us/step\n",
      "10/10 [==============================] - 0s 690us/step\n",
      "10/10 [==============================] - 0s 693us/step\n",
      "10/10 [==============================] - 0s 677us/step\n",
      "\n",
      " Creating bootstrap sample  75\n",
      "10/10 [==============================] - 0s 661us/step\n",
      "10/10 [==============================] - 0s 672us/step\n",
      "10/10 [==============================] - 0s 704us/step\n",
      "10/10 [==============================] - 0s 669us/step\n",
      "10/10 [==============================] - 0s 672us/step\n",
      "10/10 [==============================] - 0s 726us/step\n",
      "10/10 [==============================] - 0s 664us/step\n",
      "10/10 [==============================] - 0s 605us/step\n",
      "10/10 [==============================] - 0s 722us/step\n",
      "10/10 [==============================] - 0s 694us/step\n",
      "10/10 [==============================] - 0s 691us/step\n",
      "10/10 [==============================] - 0s 726us/step\n",
      "\n",
      " Creating bootstrap sample  76\n",
      "10/10 [==============================] - 0s 718us/step\n",
      "10/10 [==============================] - 0s 719us/step\n",
      "10/10 [==============================] - 0s 651us/step\n",
      "10/10 [==============================] - 0s 717us/step\n",
      "10/10 [==============================] - 0s 647us/step\n",
      "10/10 [==============================] - 0s 673us/step\n",
      "10/10 [==============================] - 0s 692us/step\n",
      "10/10 [==============================] - 0s 657us/step\n",
      "10/10 [==============================] - 0s 764us/step\n",
      "10/10 [==============================] - 0s 675us/step\n",
      "10/10 [==============================] - 0s 650us/step\n",
      "10/10 [==============================] - 0s 694us/step\n",
      "\n",
      " Creating bootstrap sample  77\n",
      "10/10 [==============================] - 0s 714us/step\n",
      "10/10 [==============================] - 0s 653us/step\n",
      "10/10 [==============================] - 0s 737us/step\n",
      "10/10 [==============================] - 0s 634us/step\n",
      "10/10 [==============================] - 0s 629us/step\n",
      "10/10 [==============================] - 0s 681us/step\n",
      "10/10 [==============================] - 0s 641us/step\n",
      "10/10 [==============================] - 0s 652us/step\n",
      "10/10 [==============================] - 0s 775us/step\n",
      "10/10 [==============================] - 0s 670us/step\n",
      "10/10 [==============================] - 0s 712us/step\n",
      "10/10 [==============================] - 0s 766us/step\n",
      "\n",
      " Creating bootstrap sample  78\n",
      "10/10 [==============================] - 0s 761us/step\n",
      "10/10 [==============================] - 0s 724us/step\n",
      "10/10 [==============================] - 0s 711us/step\n",
      "10/10 [==============================] - 0s 688us/step\n",
      "10/10 [==============================] - 0s 737us/step\n",
      "10/10 [==============================] - 0s 651us/step\n",
      "10/10 [==============================] - 0s 615us/step\n",
      "10/10 [==============================] - 0s 693us/step\n",
      "10/10 [==============================] - 0s 702us/step\n",
      "10/10 [==============================] - 0s 631us/step\n",
      "10/10 [==============================] - 0s 667us/step\n",
      "10/10 [==============================] - 0s 685us/step\n",
      "\n",
      " Creating bootstrap sample  79\n",
      "10/10 [==============================] - 0s 694us/step\n",
      "10/10 [==============================] - 0s 670us/step\n",
      "10/10 [==============================] - 0s 750us/step\n",
      "10/10 [==============================] - 0s 697us/step\n",
      "10/10 [==============================] - 0s 715us/step\n",
      "10/10 [==============================] - 0s 719us/step\n",
      "10/10 [==============================] - 0s 693us/step\n",
      "10/10 [==============================] - 0s 608us/step\n",
      "10/10 [==============================] - 0s 695us/step\n",
      "10/10 [==============================] - 0s 673us/step\n",
      "10/10 [==============================] - 0s 693us/step\n",
      "10/10 [==============================] - 0s 700us/step\n",
      "\n",
      " Creating bootstrap sample  80\n",
      "10/10 [==============================] - 0s 668us/step\n",
      "10/10 [==============================] - 0s 720us/step\n",
      "10/10 [==============================] - 0s 758us/step\n",
      "10/10 [==============================] - 0s 646us/step\n",
      "10/10 [==============================] - 0s 616us/step\n",
      "10/10 [==============================] - 0s 634us/step\n",
      "10/10 [==============================] - 0s 669us/step\n",
      "10/10 [==============================] - 0s 648us/step\n",
      "10/10 [==============================] - 0s 669us/step\n",
      "10/10 [==============================] - 0s 666us/step\n",
      "10/10 [==============================] - 0s 683us/step\n",
      "10/10 [==============================] - 0s 713us/step\n",
      "\n",
      " Creating bootstrap sample  81\n",
      "10/10 [==============================] - 0s 656us/step\n",
      "10/10 [==============================] - 0s 668us/step\n",
      "10/10 [==============================] - 0s 691us/step\n",
      "10/10 [==============================] - 0s 646us/step\n",
      "10/10 [==============================] - 0s 667us/step\n",
      "10/10 [==============================] - 0s 745us/step\n",
      "10/10 [==============================] - 0s 652us/step\n",
      "10/10 [==============================] - 0s 677us/step\n",
      "10/10 [==============================] - 0s 718us/step\n",
      "10/10 [==============================] - 0s 690us/step\n",
      "10/10 [==============================] - 0s 682us/step\n",
      "10/10 [==============================] - 0s 720us/step\n",
      "\n",
      " Creating bootstrap sample  82\n",
      "10/10 [==============================] - 0s 665us/step\n",
      "10/10 [==============================] - 0s 584us/step\n",
      "10/10 [==============================] - 0s 732us/step\n",
      "10/10 [==============================] - 0s 629us/step\n",
      "10/10 [==============================] - 0s 693us/step\n",
      "10/10 [==============================] - 0s 711us/step\n",
      "10/10 [==============================] - 0s 690us/step\n",
      "10/10 [==============================] - 0s 678us/step\n",
      "10/10 [==============================] - 0s 700us/step\n",
      "10/10 [==============================] - 0s 703us/step\n"
     ]
    },
    {
     "name": "stdout",
     "output_type": "stream",
     "text": [
      "10/10 [==============================] - 0s 660us/step\n",
      "10/10 [==============================] - 0s 746us/step\n",
      "\n",
      " Creating bootstrap sample  83\n",
      "10/10 [==============================] - 0s 760us/step\n",
      "10/10 [==============================] - 0s 669us/step\n",
      "10/10 [==============================] - 0s 634us/step\n",
      "10/10 [==============================] - 0s 673us/step\n",
      "10/10 [==============================] - 0s 659us/step\n",
      "10/10 [==============================] - 0s 732us/step\n",
      "10/10 [==============================] - 0s 674us/step\n",
      "10/10 [==============================] - 0s 680us/step\n",
      "10/10 [==============================] - 0s 682us/step\n",
      "10/10 [==============================] - 0s 635us/step\n",
      "10/10 [==============================] - 0s 719us/step\n",
      "10/10 [==============================] - 0s 747us/step\n",
      "\n",
      " Creating bootstrap sample  84\n",
      "10/10 [==============================] - 0s 662us/step\n",
      "10/10 [==============================] - 0s 682us/step\n",
      "10/10 [==============================] - 0s 727us/step\n",
      "10/10 [==============================] - 0s 647us/step\n",
      "10/10 [==============================] - 0s 666us/step\n",
      "10/10 [==============================] - 0s 743us/step\n",
      "10/10 [==============================] - 0s 737us/step\n",
      "10/10 [==============================] - 0s 655us/step\n",
      "10/10 [==============================] - 0s 784us/step\n",
      "10/10 [==============================] - 0s 686us/step\n",
      "10/10 [==============================] - 0s 654us/step\n",
      "10/10 [==============================] - 0s 748us/step\n",
      "\n",
      " Creating bootstrap sample  85\n",
      "10/10 [==============================] - 0s 651us/step\n",
      "10/10 [==============================] - 0s 639us/step\n",
      "10/10 [==============================] - 0s 686us/step\n",
      "10/10 [==============================] - 0s 688us/step\n",
      "10/10 [==============================] - 0s 659us/step\n",
      "10/10 [==============================] - 0s 719us/step\n",
      "10/10 [==============================] - 0s 656us/step\n",
      "10/10 [==============================] - 0s 650us/step\n",
      "10/10 [==============================] - 0s 709us/step\n",
      "10/10 [==============================] - 0s 621us/step\n",
      "10/10 [==============================] - 0s 635us/step\n",
      "10/10 [==============================] - 0s 740us/step\n",
      "\n",
      " Creating bootstrap sample  86\n",
      "10/10 [==============================] - 0s 667us/step\n",
      "10/10 [==============================] - 0s 679us/step\n",
      "10/10 [==============================] - 0s 719us/step\n",
      "10/10 [==============================] - 0s 684us/step\n",
      "10/10 [==============================] - 0s 646us/step\n",
      "10/10 [==============================] - 0s 700us/step\n",
      "10/10 [==============================] - 0s 635us/step\n",
      "10/10 [==============================] - 0s 677us/step\n",
      "10/10 [==============================] - 0s 618us/step\n",
      "10/10 [==============================] - 0s 708us/step\n",
      "10/10 [==============================] - 0s 696us/step\n",
      "10/10 [==============================] - 0s 713us/step\n",
      "\n",
      " Creating bootstrap sample  87\n",
      "10/10 [==============================] - 0s 649us/step\n",
      "10/10 [==============================] - 0s 665us/step\n",
      "10/10 [==============================] - 0s 758us/step\n",
      "10/10 [==============================] - 0s 650us/step\n",
      "10/10 [==============================] - 0s 697us/step\n",
      "10/10 [==============================] - 0s 739us/step\n",
      "10/10 [==============================] - 0s 673us/step\n",
      "10/10 [==============================] - 0s 642us/step\n",
      "10/10 [==============================] - 0s 720us/step\n",
      "10/10 [==============================] - 0s 702us/step\n",
      "10/10 [==============================] - 0s 641us/step\n",
      "10/10 [==============================] - 0s 718us/step\n",
      "\n",
      " Creating bootstrap sample  88\n",
      "10/10 [==============================] - 0s 657us/step\n",
      "10/10 [==============================] - 0s 679us/step\n",
      "10/10 [==============================] - 0s 638us/step\n",
      "10/10 [==============================] - 0s 701us/step\n",
      "10/10 [==============================] - 0s 709us/step\n",
      "10/10 [==============================] - 0s 634us/step\n",
      "10/10 [==============================] - 0s 694us/step\n",
      "10/10 [==============================] - 0s 635us/step\n",
      "10/10 [==============================] - 0s 670us/step\n",
      "10/10 [==============================] - 0s 685us/step\n",
      "10/10 [==============================] - 0s 617us/step\n",
      "10/10 [==============================] - 0s 697us/step\n",
      "\n",
      " Creating bootstrap sample  89\n",
      "10/10 [==============================] - 0s 692us/step\n",
      "10/10 [==============================] - 0s 650us/step\n",
      "10/10 [==============================] - 0s 712us/step\n",
      "10/10 [==============================] - 0s 669us/step\n",
      "10/10 [==============================] - 0s 711us/step\n",
      "10/10 [==============================] - 0s 745us/step\n",
      "10/10 [==============================] - 0s 694us/step\n",
      "10/10 [==============================] - 0s 668us/step\n",
      "10/10 [==============================] - 0s 665us/step\n",
      "10/10 [==============================] - 0s 698us/step\n",
      "10/10 [==============================] - 0s 681us/step\n",
      "10/10 [==============================] - 0s 687us/step\n",
      "\n",
      " Creating bootstrap sample  90\n",
      "10/10 [==============================] - 0s 816us/step\n",
      "10/10 [==============================] - 0s 703us/step\n",
      "10/10 [==============================] - 0s 738us/step\n",
      "10/10 [==============================] - 0s 614us/step\n",
      "10/10 [==============================] - 0s 702us/step\n",
      "10/10 [==============================] - 0s 690us/step\n",
      "10/10 [==============================] - 0s 700us/step\n",
      "10/10 [==============================] - 0s 668us/step\n",
      "10/10 [==============================] - 0s 711us/step\n",
      "10/10 [==============================] - 0s 720us/step\n",
      "10/10 [==============================] - 0s 659us/step\n",
      "10/10 [==============================] - 0s 754us/step\n",
      "\n",
      " Creating bootstrap sample  91\n",
      "10/10 [==============================] - 0s 669us/step\n",
      "10/10 [==============================] - 0s 683us/step\n",
      "10/10 [==============================] - 0s 729us/step\n",
      "10/10 [==============================] - 0s 640us/step\n",
      "10/10 [==============================] - 0s 614us/step\n",
      "10/10 [==============================] - 0s 747us/step\n",
      "10/10 [==============================] - 0s 699us/step\n",
      "10/10 [==============================] - 0s 704us/step\n",
      "10/10 [==============================] - 0s 707us/step\n",
      "10/10 [==============================] - 0s 739us/step\n",
      "10/10 [==============================] - 0s 673us/step\n",
      "10/10 [==============================] - 0s 708us/step\n",
      "\n",
      " Creating bootstrap sample  92\n",
      "10/10 [==============================] - 0s 669us/step\n",
      "10/10 [==============================] - 0s 606us/step\n",
      "10/10 [==============================] - 0s 691us/step\n",
      "10/10 [==============================] - 0s 656us/step\n",
      "10/10 [==============================] - 0s 660us/step\n",
      "10/10 [==============================] - 0s 743us/step\n",
      "10/10 [==============================] - 0s 693us/step\n",
      "10/10 [==============================] - 0s 659us/step\n",
      "10/10 [==============================] - 0s 750us/step\n",
      "10/10 [==============================] - 0s 729us/step\n",
      "10/10 [==============================] - 0s 633us/step\n",
      "10/10 [==============================] - 0s 760us/step\n",
      "\n",
      " Creating bootstrap sample  93\n",
      "10/10 [==============================] - 0s 766us/step\n",
      "10/10 [==============================] - 0s 679us/step\n",
      "10/10 [==============================] - 0s 698us/step\n",
      "10/10 [==============================] - 0s 680us/step\n",
      "10/10 [==============================] - 0s 698us/step\n",
      "10/10 [==============================] - 0s 727us/step\n",
      "10/10 [==============================] - 0s 759us/step\n",
      "10/10 [==============================] - 0s 695us/step\n",
      "10/10 [==============================] - 0s 784us/step\n",
      "10/10 [==============================] - 0s 717us/step\n",
      "10/10 [==============================] - 0s 650us/step\n",
      "10/10 [==============================] - 0s 711us/step\n",
      "\n",
      " Creating bootstrap sample  94\n",
      "10/10 [==============================] - 0s 643us/step\n",
      "10/10 [==============================] - 0s 675us/step\n",
      "10/10 [==============================] - 0s 745us/step\n",
      "10/10 [==============================] - 0s 730us/step\n",
      "10/10 [==============================] - 0s 693us/step\n",
      "10/10 [==============================] - 0s 699us/step\n",
      "10/10 [==============================] - 0s 737us/step\n",
      "10/10 [==============================] - 0s 731us/step\n"
     ]
    },
    {
     "name": "stdout",
     "output_type": "stream",
     "text": [
      "10/10 [==============================] - 0s 682us/step\n",
      "10/10 [==============================] - 0s 739us/step\n",
      "10/10 [==============================] - 0s 680us/step\n",
      "10/10 [==============================] - 0s 701us/step\n",
      "\n",
      " Creating bootstrap sample  95\n",
      "10/10 [==============================] - 0s 684us/step\n",
      "10/10 [==============================] - 0s 624us/step\n",
      "10/10 [==============================] - 0s 725us/step\n",
      "10/10 [==============================] - 0s 654us/step\n",
      "10/10 [==============================] - 0s 644us/step\n",
      "10/10 [==============================] - 0s 670us/step\n",
      "10/10 [==============================] - 0s 695us/step\n",
      "10/10 [==============================] - 0s 695us/step\n",
      "10/10 [==============================] - 0s 728us/step\n",
      "10/10 [==============================] - 0s 684us/step\n",
      "10/10 [==============================] - 0s 684us/step\n",
      "10/10 [==============================] - 0s 695us/step\n",
      "\n",
      " Creating bootstrap sample  96\n",
      "10/10 [==============================] - 0s 678us/step\n",
      "10/10 [==============================] - 0s 630us/step\n",
      "10/10 [==============================] - 0s 748us/step\n",
      "10/10 [==============================] - 0s 1ms/step\n",
      "10/10 [==============================] - 0s 743us/step\n",
      "10/10 [==============================] - 0s 652us/step\n",
      "10/10 [==============================] - 0s 667us/step\n",
      "10/10 [==============================] - 0s 708us/step\n",
      "10/10 [==============================] - 0s 750us/step\n",
      "10/10 [==============================] - 0s 683us/step\n",
      "10/10 [==============================] - 0s 666us/step\n",
      "10/10 [==============================] - 0s 744us/step\n",
      "\n",
      " Creating bootstrap sample  97\n",
      "10/10 [==============================] - 0s 673us/step\n",
      "10/10 [==============================] - 0s 643us/step\n",
      "10/10 [==============================] - 0s 704us/step\n",
      "10/10 [==============================] - 0s 650us/step\n",
      "10/10 [==============================] - 0s 660us/step\n",
      "10/10 [==============================] - 0s 687us/step\n",
      "10/10 [==============================] - 0s 685us/step\n",
      "10/10 [==============================] - 0s 645us/step\n",
      "10/10 [==============================] - 0s 751us/step\n",
      "10/10 [==============================] - 0s 697us/step\n",
      "10/10 [==============================] - 0s 730us/step\n",
      "10/10 [==============================] - 0s 732us/step\n",
      "\n",
      " Creating bootstrap sample  98\n",
      "10/10 [==============================] - 0s 654us/step\n",
      "10/10 [==============================] - 0s 706us/step\n",
      "10/10 [==============================] - 0s 716us/step\n",
      "10/10 [==============================] - 0s 738us/step\n",
      "10/10 [==============================] - 0s 636us/step\n",
      "10/10 [==============================] - 0s 728us/step\n",
      "10/10 [==============================] - 0s 660us/step\n",
      "10/10 [==============================] - 0s 662us/step\n",
      "10/10 [==============================] - 0s 674us/step\n",
      "10/10 [==============================] - 0s 667us/step\n",
      "10/10 [==============================] - 0s 668us/step\n",
      "10/10 [==============================] - 0s 699us/step\n",
      "\n",
      " Creating bootstrap sample  99\n",
      "10/10 [==============================] - 0s 715us/step\n",
      "10/10 [==============================] - 0s 623us/step\n",
      "10/10 [==============================] - 0s 752us/step\n",
      "10/10 [==============================] - 0s 681us/step\n",
      "10/10 [==============================] - 0s 666us/step\n",
      "10/10 [==============================] - 0s 741us/step\n",
      "10/10 [==============================] - 0s 680us/step\n",
      "10/10 [==============================] - 0s 668us/step\n",
      "10/10 [==============================] - 0s 723us/step\n",
      "10/10 [==============================] - 0s 707us/step\n",
      "10/10 [==============================] - 0s 677us/step\n",
      "10/10 [==============================] - 0s 718us/step\n",
      "CPU times: user 55min 21s, sys: 4min 59s, total: 1h 20s\n",
      "Wall time: 44min 37s\n"
     ]
    }
   ],
   "source": [
    "%%time\n",
    "\n",
    "rng = np.random.default_rng()\n",
    "\n",
    "for bi in range(0,n_boot_samples) :\n",
    "    \n",
    "    if do_bootstrap :\n",
    "        print(\"\\n Creating bootstrap sample %3d\" % bi )\n",
    "        #boot_true_det_pts = np.random.Generator.choice( true_det_pts, size=len(true_det_pts) )\n",
    "        boot_true_det_pts = rng.choice( true_det_pts, size=len(true_det_pts) )\n",
    "        \n",
    "    else :\n",
    "        print(\"\\n Creating toy sample %3d\" % bi )\n",
    "        boot_true_pts = np.random.multivariate_normal(true_mu, true_cov, size=ngen_true)\n",
    "        boot_true_det_pts = np.random.normal( boot_true_pts, [res0, res1])\n",
    "        \n",
    "    boot_of_weights = of.omnifold( train_both, boot_true_det_pts, of_niter, model, verbose)\n",
    "    \n",
    "    bootstrap_weights[bi] = boot_of_weights[3,1,:]\n",
    "    "
   ]
  },
  {
   "cell_type": "code",
   "execution_count": null,
   "id": "b574cb8f",
   "metadata": {},
   "outputs": [],
   "source": []
  },
  {
   "cell_type": "code",
   "execution_count": 27,
   "id": "9fd6e827",
   "metadata": {},
   "outputs": [
    {
     "data": {
      "text/plain": [
       "array([[0.07861238, 0.12795757, 0.08191825, ..., 0.02706999, 0.1024921 ,\n",
       "        0.12486709],\n",
       "       [0.08653135, 0.12601443, 0.08605371, ..., 0.03294931, 0.09962975,\n",
       "        0.13069938],\n",
       "       [0.08095153, 0.12954304, 0.0831295 , ..., 0.02869027, 0.08845292,\n",
       "        0.13174871],\n",
       "       ...,\n",
       "       [0.07892848, 0.14781836, 0.08111504, ..., 0.03369312, 0.1114796 ,\n",
       "        0.14261661],\n",
       "       [0.08155078, 0.13032903, 0.08369369, ..., 0.02565151, 0.10471409,\n",
       "        0.12774353],\n",
       "       [0.08183833, 0.13605663, 0.08456939, ..., 0.02789115, 0.10248567,\n",
       "        0.13594753]])"
      ]
     },
     "execution_count": 27,
     "metadata": {},
     "output_type": "execute_result"
    }
   ],
   "source": [
    "bootstrap_weights"
   ]
  },
  {
   "cell_type": "code",
   "execution_count": 28,
   "id": "23f28982",
   "metadata": {},
   "outputs": [
    {
     "data": {
      "text/plain": [
       "array([0.09465298, 0.13453725, 0.09203108, ..., 0.03426026, 0.10854194,\n",
       "       0.13583712])"
      ]
     },
     "execution_count": 28,
     "metadata": {},
     "output_type": "execute_result"
    }
   ],
   "source": [
    "of_weights[3,1,:]"
   ]
  },
  {
   "cell_type": "code",
   "execution_count": 29,
   "id": "fe407616",
   "metadata": {},
   "outputs": [
    {
     "data": {
      "text/plain": [
       "array([0.07861238, 0.12795757, 0.08191825, ..., 0.02706999, 0.1024921 ,\n",
       "       0.12486709])"
      ]
     },
     "execution_count": 29,
     "metadata": {},
     "output_type": "execute_result"
    }
   ],
   "source": [
    "bootstrap_weights[0]"
   ]
  },
  {
   "cell_type": "code",
   "execution_count": 30,
   "id": "2f493e7d",
   "metadata": {},
   "outputs": [
    {
     "data": {
      "text/plain": [
       "array(2.20800737e-05)"
      ]
     },
     "execution_count": 30,
     "metadata": {},
     "output_type": "execute_result"
    }
   ],
   "source": [
    "np.cov( bootstrap_weights[:,0])"
   ]
  },
  {
   "cell_type": "code",
   "execution_count": 31,
   "id": "060b228a",
   "metadata": {},
   "outputs": [
    {
     "data": {
      "text/plain": [
       "array([0.05175317, 0.05767109, 0.05505211, 0.06383496, 0.05854812,\n",
       "       0.05432521, 0.05498909, 0.04977614, 0.05984133, 0.05616412,\n",
       "       0.04998958, 0.06429905, 0.05428286, 0.05516342, 0.06398666,\n",
       "       0.04977861, 0.0576578 , 0.05684428, 0.0501037 , 0.0520184 ,\n",
       "       0.05324103, 0.05802754, 0.04819135, 0.05490421, 0.05720415,\n",
       "       0.05590918, 0.05524039, 0.05355615, 0.06191519, 0.04692332,\n",
       "       0.05426606, 0.05221583, 0.04909256, 0.04905882, 0.06259485,\n",
       "       0.05338244, 0.05566807, 0.04993829, 0.05418591, 0.05496484,\n",
       "       0.04848954, 0.05372666, 0.05729003, 0.06258762, 0.05640667,\n",
       "       0.04701523, 0.05973858, 0.04772251, 0.05948761, 0.05510515,\n",
       "       0.05494946, 0.05300155, 0.05845594, 0.0562111 , 0.05529562,\n",
       "       0.05169848, 0.05899378, 0.06311288, 0.05811791, 0.05775815,\n",
       "       0.05658791, 0.06104027, 0.05715204, 0.05179932, 0.06352688,\n",
       "       0.06459213, 0.06086151, 0.06103699, 0.06114426, 0.06017745,\n",
       "       0.0549907 , 0.05745112, 0.05580344, 0.06705491, 0.06418037,\n",
       "       0.05327735, 0.05235965, 0.05499256, 0.05052846, 0.05710025,\n",
       "       0.06069992, 0.06099972, 0.06023236, 0.06828792, 0.05857449,\n",
       "       0.05818586, 0.05881177, 0.05269443, 0.05460472, 0.05882873,\n",
       "       0.06029373, 0.06187874, 0.05911732, 0.0511245 , 0.04997482,\n",
       "       0.05359189, 0.05289998, 0.05600057, 0.05579914, 0.05567395])"
      ]
     },
     "execution_count": 31,
     "metadata": {},
     "output_type": "execute_result"
    }
   ],
   "source": [
    "bootstrap_weights[:,100]"
   ]
  },
  {
   "cell_type": "code",
   "execution_count": 32,
   "id": "8ae20e80",
   "metadata": {},
   "outputs": [
    {
     "data": {
      "text/plain": [
       "<function matplotlib.pyplot.show(close=None, block=None)>"
      ]
     },
     "execution_count": 32,
     "metadata": {},
     "output_type": "execute_result"
    },
    {
     "data": {
      "image/png": "[encoded data removed]",
      "text/plain": [
       "<Figure size 432x288 with 1 Axes>"
      ]
     },
     "metadata": {
      "needs_background": "light"
     },
     "output_type": "display_data"
    }
   ],
   "source": [
    "plt.hist( bootstrap_weights[1,:], bins=40)\n",
    "plt.show"
   ]
  },
  {
   "cell_type": "code",
   "execution_count": 33,
   "id": "d89008c4",
   "metadata": {},
   "outputs": [
    {
     "data": {
      "text/plain": [
       "array([0.08471863, 0.12838423, 0.08425933, ..., 0.0252486 , 0.10245402,\n",
       "       0.13293465])"
      ]
     },
     "execution_count": 33,
     "metadata": {},
     "output_type": "execute_result"
    }
   ],
   "source": [
    "np.mean( bootstrap_weights, axis=0 )"
   ]
  },
  {
   "cell_type": "code",
   "execution_count": 34,
   "id": "38547729",
   "metadata": {},
   "outputs": [],
   "source": [
    "bootstrap_w2 = bootstrap_weights * bootstrap_weights"
   ]
  },
  {
   "cell_type": "code",
   "execution_count": 35,
   "id": "e5c9a0e0",
   "metadata": {},
   "outputs": [
    {
     "data": {
      "text/plain": [
       "array([[0.00617991, 0.01637314, 0.0067106 , ..., 0.00073278, 0.01050463,\n",
       "        0.01559179],\n",
       "       [0.00748767, 0.01587964, 0.00740524, ..., 0.00108566, 0.00992609,\n",
       "        0.01708233],\n",
       "       [0.00655315, 0.0167814 , 0.00691051, ..., 0.00082313, 0.00782392,\n",
       "        0.01735772],\n",
       "       ...,\n",
       "       [0.0062297 , 0.02185027, 0.00657965, ..., 0.00113523, 0.0124277 ,\n",
       "        0.0203395 ],\n",
       "       [0.00665053, 0.01698566, 0.00700463, ..., 0.000658  , 0.01096504,\n",
       "        0.01631841],\n",
       "       [0.00669751, 0.01851141, 0.00715198, ..., 0.00077792, 0.01050331,\n",
       "        0.01848173]])"
      ]
     },
     "execution_count": 35,
     "metadata": {},
     "output_type": "execute_result"
    }
   ],
   "source": [
    "bootstrap_w2"
   ]
  },
  {
   "cell_type": "code",
   "execution_count": 36,
   "id": "9da89463",
   "metadata": {},
   "outputs": [],
   "source": [
    "bootstrap_variance = np.mean( bootstrap_w2, axis=0 ) - np.mean( bootstrap_weights, axis=0 ) * np.mean( bootstrap_weights, axis=0 )"
   ]
  },
  {
   "cell_type": "code",
   "execution_count": 37,
   "id": "7f7c48a3",
   "metadata": {},
   "outputs": [
    {
     "data": {
      "text/plain": [
       "array([2.18592729e-05, 3.43658015e-05, 2.23174963e-05, ...,\n",
       "       4.73312882e-05, 2.20587693e-05, 3.38814091e-05])"
      ]
     },
     "execution_count": 37,
     "metadata": {},
     "output_type": "execute_result"
    }
   ],
   "source": [
    "bootstrap_variance"
   ]
  },
  {
   "cell_type": "code",
   "execution_count": 38,
   "id": "d0c962b0",
   "metadata": {},
   "outputs": [],
   "source": [
    "bootstrap_rms = np.sqrt( bootstrap_variance )"
   ]
  },
  {
   "cell_type": "code",
   "execution_count": 39,
   "id": "60d8c265",
   "metadata": {},
   "outputs": [
    {
     "data": {
      "text/plain": [
       "array([0.00467539, 0.00586224, 0.00472414, ..., 0.00687977, 0.00469668,\n",
       "       0.00582077])"
      ]
     },
     "execution_count": 39,
     "metadata": {},
     "output_type": "execute_result"
    }
   ],
   "source": [
    "bootstrap_rms"
   ]
  },
  {
   "cell_type": "code",
   "execution_count": null,
   "id": "94fb8c8b",
   "metadata": {},
   "outputs": [],
   "source": []
  },
  {
   "cell_type": "code",
   "execution_count": null,
   "id": "496d3756",
   "metadata": {},
   "outputs": [],
   "source": []
  },
  {
   "cell_type": "code",
   "execution_count": 40,
   "id": "cf73f300",
   "metadata": {},
   "outputs": [],
   "source": [
    "col_vec = np.array([[11],[22],[33]])"
   ]
  },
  {
   "cell_type": "code",
   "execution_count": 41,
   "id": "21e30ace",
   "metadata": {},
   "outputs": [
    {
     "data": {
      "text/plain": [
       "array([[11],\n",
       "       [22],\n",
       "       [33]])"
      ]
     },
     "execution_count": 41,
     "metadata": {},
     "output_type": "execute_result"
    }
   ],
   "source": [
    "col_vec"
   ]
  },
  {
   "cell_type": "code",
   "execution_count": 42,
   "id": "d8cf64fa",
   "metadata": {},
   "outputs": [],
   "source": [
    "row_vec = col_vec.T"
   ]
  },
  {
   "cell_type": "code",
   "execution_count": 43,
   "id": "af845255",
   "metadata": {},
   "outputs": [
    {
     "data": {
      "text/plain": [
       "array([[11, 22, 33]])"
      ]
     },
     "execution_count": 43,
     "metadata": {},
     "output_type": "execute_result"
    }
   ],
   "source": [
    "row_vec"
   ]
  },
  {
   "cell_type": "code",
   "execution_count": 44,
   "id": "1ed43f75",
   "metadata": {},
   "outputs": [],
   "source": [
    "col_times_row = col_vec * row_vec"
   ]
  },
  {
   "cell_type": "code",
   "execution_count": 45,
   "id": "4f84210b",
   "metadata": {},
   "outputs": [
    {
     "data": {
      "text/plain": [
       "array([[ 121,  242,  363],\n",
       "       [ 242,  484,  726],\n",
       "       [ 363,  726, 1089]])"
      ]
     },
     "execution_count": 45,
     "metadata": {},
     "output_type": "execute_result"
    }
   ],
   "source": [
    "col_times_row"
   ]
  },
  {
   "cell_type": "code",
   "execution_count": 46,
   "id": "322ed215",
   "metadata": {},
   "outputs": [
    {
     "data": {
      "text/plain": [
       "(3, 1)"
      ]
     },
     "execution_count": 46,
     "metadata": {},
     "output_type": "execute_result"
    }
   ],
   "source": [
    "col_vec.shape"
   ]
  },
  {
   "cell_type": "code",
   "execution_count": 47,
   "id": "0a057c84",
   "metadata": {},
   "outputs": [
    {
     "data": {
      "text/plain": [
       "(1, 3)"
      ]
     },
     "execution_count": 47,
     "metadata": {},
     "output_type": "execute_result"
    }
   ],
   "source": [
    "row_vec.shape"
   ]
  },
  {
   "cell_type": "code",
   "execution_count": 48,
   "id": "4459a028",
   "metadata": {},
   "outputs": [
    {
     "data": {
      "text/plain": [
       "(3, 3)"
      ]
     },
     "execution_count": 48,
     "metadata": {},
     "output_type": "execute_result"
    }
   ],
   "source": [
    "col_times_row.shape"
   ]
  },
  {
   "cell_type": "code",
   "execution_count": 49,
   "id": "c9c063d7",
   "metadata": {},
   "outputs": [],
   "source": [
    "row_times_col = row_vec * col_vec"
   ]
  },
  {
   "cell_type": "code",
   "execution_count": 50,
   "id": "623c358a",
   "metadata": {
    "scrolled": true
   },
   "outputs": [
    {
     "data": {
      "text/plain": [
       "array([[ 121,  242,  363],\n",
       "       [ 242,  484,  726],\n",
       "       [ 363,  726, 1089]])"
      ]
     },
     "execution_count": 50,
     "metadata": {},
     "output_type": "execute_result"
    }
   ],
   "source": [
    "row_times_col"
   ]
  },
  {
   "cell_type": "code",
   "execution_count": 51,
   "id": "b4e5cfd6",
   "metadata": {},
   "outputs": [],
   "source": [
    "row_times_row = row_vec * row_vec"
   ]
  },
  {
   "cell_type": "code",
   "execution_count": 52,
   "id": "3237876a",
   "metadata": {},
   "outputs": [
    {
     "data": {
      "text/plain": [
       "array([[ 121,  484, 1089]])"
      ]
     },
     "execution_count": 52,
     "metadata": {},
     "output_type": "execute_result"
    }
   ],
   "source": [
    "row_times_row"
   ]
  },
  {
   "cell_type": "code",
   "execution_count": 53,
   "id": "99e4ca2e",
   "metadata": {},
   "outputs": [],
   "source": [
    "#row_dot_row = np.dot(row_vec,row_vec)"
   ]
  },
  {
   "cell_type": "code",
   "execution_count": 54,
   "id": "a7d43b7d",
   "metadata": {},
   "outputs": [],
   "source": [
    "row_dot_col = np.dot(row_vec,col_vec)"
   ]
  },
  {
   "cell_type": "code",
   "execution_count": 55,
   "id": "8d56dffb",
   "metadata": {},
   "outputs": [
    {
     "data": {
      "text/plain": [
       "array([[1694]])"
      ]
     },
     "execution_count": 55,
     "metadata": {},
     "output_type": "execute_result"
    }
   ],
   "source": [
    "row_dot_col"
   ]
  },
  {
   "cell_type": "code",
   "execution_count": 56,
   "id": "f6aa7076",
   "metadata": {},
   "outputs": [
    {
     "data": {
      "text/plain": [
       "(1, 1)"
      ]
     },
     "execution_count": 56,
     "metadata": {},
     "output_type": "execute_result"
    }
   ],
   "source": [
    "row_dot_col.shape"
   ]
  },
  {
   "cell_type": "code",
   "execution_count": 57,
   "id": "79cb4dd0",
   "metadata": {},
   "outputs": [],
   "source": [
    "col_dot_row = np.dot(col_vec,row_vec)"
   ]
  },
  {
   "cell_type": "code",
   "execution_count": 58,
   "id": "f710d236",
   "metadata": {},
   "outputs": [
    {
     "data": {
      "text/plain": [
       "array([[ 121,  242,  363],\n",
       "       [ 242,  484,  726],\n",
       "       [ 363,  726, 1089]])"
      ]
     },
     "execution_count": 58,
     "metadata": {},
     "output_type": "execute_result"
    }
   ],
   "source": [
    "col_dot_row"
   ]
  },
  {
   "cell_type": "code",
   "execution_count": null,
   "id": "f4cab562",
   "metadata": {},
   "outputs": [],
   "source": []
  },
  {
   "cell_type": "code",
   "execution_count": 59,
   "id": "c9623bf7",
   "metadata": {},
   "outputs": [
    {
     "data": {
      "text/plain": [
       "(100, 100000)"
      ]
     },
     "execution_count": 59,
     "metadata": {},
     "output_type": "execute_result"
    }
   ],
   "source": [
    "bootstrap_weights.shape"
   ]
  },
  {
   "cell_type": "code",
   "execution_count": 60,
   "id": "a2fef579",
   "metadata": {},
   "outputs": [
    {
     "data": {
      "text/plain": [
       "array([[0.07861238, 0.08653135, 0.08095153, ..., 0.07892848, 0.08155078,\n",
       "        0.08183833],\n",
       "       [0.12795757, 0.12601443, 0.12954304, ..., 0.14781836, 0.13032903,\n",
       "        0.13605663],\n",
       "       [0.08191825, 0.08605371, 0.0831295 , ..., 0.08111504, 0.08369369,\n",
       "        0.08456939],\n",
       "       ...,\n",
       "       [0.02706999, 0.03294931, 0.02869027, ..., 0.03369312, 0.02565151,\n",
       "        0.02789115],\n",
       "       [0.1024921 , 0.09962975, 0.08845292, ..., 0.1114796 , 0.10471409,\n",
       "        0.10248567],\n",
       "       [0.12486709, 0.13069938, 0.13174871, ..., 0.14261661, 0.12774353,\n",
       "        0.13594753]])"
      ]
     },
     "execution_count": 60,
     "metadata": {},
     "output_type": "execute_result"
    }
   ],
   "source": [
    "bootstrap_weights.T"
   ]
  },
  {
   "cell_type": "code",
   "execution_count": 61,
   "id": "9ba78e93",
   "metadata": {},
   "outputs": [
    {
     "data": {
      "text/plain": [
       "(100000, 100)"
      ]
     },
     "execution_count": 61,
     "metadata": {},
     "output_type": "execute_result"
    }
   ],
   "source": [
    "bootstrap_weights.T.shape"
   ]
  },
  {
   "cell_type": "code",
   "execution_count": 62,
   "id": "47da707e",
   "metadata": {},
   "outputs": [],
   "source": [
    "bootstrap_weights_dot = np.dot( bootstrap_weights, bootstrap_weights.T )"
   ]
  },
  {
   "cell_type": "code",
   "execution_count": 63,
   "id": "c7536080",
   "metadata": {},
   "outputs": [
    {
     "data": {
      "text/plain": [
       "array([[ 994.19199288, 1036.45020355, 1010.59887054, ..., 1072.69946247,\n",
       "        1000.16957438, 1057.52795993],\n",
       "       [1036.45020355, 1086.66121001, 1057.87650647, ..., 1118.79118252,\n",
       "        1044.44104547, 1104.50049298],\n",
       "       [1010.59887054, 1057.87650647, 1033.31483964, ..., 1092.5755496 ,\n",
       "        1018.79910005, 1078.35265122],\n",
       "       ...,\n",
       "       [1072.69946247, 1118.79118252, 1092.5755496 , ..., 1165.85560944,\n",
       "        1083.29377571, 1144.58656514],\n",
       "       [1000.16957438, 1044.44104547, 1018.79910005, ..., 1083.29377571,\n",
       "        1011.95792898, 1066.67493787],\n",
       "       [1057.52795993, 1104.50049298, 1078.35265122, ..., 1144.58656514,\n",
       "        1066.67493787, 1131.11981878]])"
      ]
     },
     "execution_count": 63,
     "metadata": {},
     "output_type": "execute_result"
    }
   ],
   "source": [
    "bootstrap_weights_dot"
   ]
  },
  {
   "cell_type": "code",
   "execution_count": 64,
   "id": "e614a013",
   "metadata": {},
   "outputs": [
    {
     "data": {
      "text/plain": [
       "(100, 100)"
      ]
     },
     "execution_count": 64,
     "metadata": {},
     "output_type": "execute_result"
    }
   ],
   "source": [
    "bootstrap_weights_dot.shape"
   ]
  },
  {
   "cell_type": "code",
   "execution_count": 65,
   "id": "27b4b892",
   "metadata": {},
   "outputs": [],
   "source": [
    "#bootstrap_weights_dot2 = np.dot( bootstrap_weights.T, bootstrap_weights )"
   ]
  },
  {
   "cell_type": "code",
   "execution_count": 66,
   "id": "ca2993e0",
   "metadata": {},
   "outputs": [],
   "source": [
    "#bootstrap_weights_dot2"
   ]
  },
  {
   "cell_type": "code",
   "execution_count": null,
   "id": "43dc8838",
   "metadata": {},
   "outputs": [],
   "source": []
  },
  {
   "cell_type": "code",
   "execution_count": null,
   "id": "8b701e7e",
   "metadata": {},
   "outputs": [],
   "source": []
  },
  {
   "cell_type": "code",
   "execution_count": 67,
   "id": "bf34fc35",
   "metadata": {},
   "outputs": [
    {
     "data": {
      "text/plain": [
       "array([0.07861238, 0.08653135, 0.08095153, 0.08913858, 0.09134648,\n",
       "       0.08940109, 0.08796127, 0.09013217, 0.08218691, 0.07993989,\n",
       "       0.09126396, 0.09343757, 0.08905298, 0.08734303, 0.08616344,\n",
       "       0.08286252, 0.07413219, 0.08290002, 0.08614342, 0.07422695,\n",
       "       0.08553549, 0.08183667, 0.07041462, 0.08250339, 0.07886471,\n",
       "       0.07458941, 0.08844639, 0.0851668 , 0.09230447, 0.08243211,\n",
       "       0.08537644, 0.08432806, 0.07828302, 0.08752852, 0.08820966,\n",
       "       0.08558345, 0.08293168, 0.08395713, 0.08178336, 0.08095426,\n",
       "       0.07995801, 0.08821037, 0.08704887, 0.08559139, 0.08828282,\n",
       "       0.08761594, 0.08997069, 0.0821107 , 0.08824535, 0.08135761,\n",
       "       0.09263451, 0.087664  , 0.08213434, 0.08231508, 0.0903345 ,\n",
       "       0.08178481, 0.08649518, 0.08511048, 0.07997622, 0.08503429,\n",
       "       0.08574919, 0.08278862, 0.0839551 , 0.08905248, 0.08592856,\n",
       "       0.08348459, 0.07585691, 0.08489452, 0.07740515, 0.0833924 ,\n",
       "       0.07697336, 0.08417084, 0.08205204, 0.08899526, 0.08850869,\n",
       "       0.08014446, 0.0869387 , 0.09129941, 0.09003607, 0.08701903,\n",
       "       0.08882285, 0.0850132 , 0.08165743, 0.08959179, 0.08611355,\n",
       "       0.08761013, 0.08652977, 0.09120245, 0.08542119, 0.0852856 ,\n",
       "       0.09247226, 0.09439091, 0.08909234, 0.07665212, 0.08433668,\n",
       "       0.07871021, 0.08136547, 0.07892848, 0.08155078, 0.08183833])"
      ]
     },
     "execution_count": 67,
     "metadata": {},
     "output_type": "execute_result"
    }
   ],
   "source": [
    "bootstrap_weights[:,0]"
   ]
  },
  {
   "cell_type": "code",
   "execution_count": 68,
   "id": "f261f405",
   "metadata": {},
   "outputs": [
    {
     "data": {
      "text/plain": [
       "array([0.12795757, 0.12601443, 0.12954304, 0.13130192, 0.1299264 ,\n",
       "       0.12543373, 0.12868507, 0.14553657, 0.12995559, 0.13366111,\n",
       "       0.13351159, 0.12858598, 0.12674749, 0.12065034, 0.12806506,\n",
       "       0.13251927, 0.1246129 , 0.12470647, 0.11942384, 0.13451111,\n",
       "       0.13311452, 0.12584691, 0.12867436, 0.12352602, 0.12600148,\n",
       "       0.13042772, 0.12599424, 0.1346512 , 0.12258006, 0.12206968,\n",
       "       0.13355076, 0.12624848, 0.12573726, 0.13157213, 0.13165264,\n",
       "       0.13579418, 0.1309253 , 0.12145216, 0.12317782, 0.14692898,\n",
       "       0.13383684, 0.12093005, 0.12517208, 0.12090848, 0.13548671,\n",
       "       0.1216141 , 0.11910152, 0.12761256, 0.12738089, 0.12506962,\n",
       "       0.1304784 , 0.13642406, 0.12480313, 0.1318465 , 0.13387172,\n",
       "       0.13304608, 0.12330861, 0.12791049, 0.12069059, 0.12391466,\n",
       "       0.13197021, 0.12418193, 0.12510666, 0.12819839, 0.13555796,\n",
       "       0.13515928, 0.13034931, 0.12092679, 0.12961438, 0.1179353 ,\n",
       "       0.12190129, 0.13019805, 0.1253434 , 0.12176818, 0.11723714,\n",
       "       0.12206133, 0.1364715 , 0.13231404, 0.1236332 , 0.12821393,\n",
       "       0.12419073, 0.12857118, 0.13403088, 0.129438  , 0.12713733,\n",
       "       0.12526794, 0.12114359, 0.12931526, 0.13127835, 0.12540062,\n",
       "       0.13160901, 0.12710854, 0.13316587, 0.12417811, 0.11970861,\n",
       "       0.14015815, 0.12969197, 0.14781836, 0.13032903, 0.13605663])"
      ]
     },
     "execution_count": 68,
     "metadata": {},
     "output_type": "execute_result"
    }
   ],
   "source": [
    "bootstrap_weights[:,1]"
   ]
  },
  {
   "cell_type": "code",
   "execution_count": 69,
   "id": "1c4d40e4",
   "metadata": {},
   "outputs": [],
   "source": [
    "combined = np.column_stack( (bootstrap_weights[:,0], bootstrap_weights[:,1]))"
   ]
  },
  {
   "cell_type": "code",
   "execution_count": 70,
   "id": "884a79ad",
   "metadata": {
    "scrolled": true
   },
   "outputs": [
    {
     "data": {
      "text/plain": [
       "array([[0.07861238, 0.12795757],\n",
       "       [0.08653135, 0.12601443],\n",
       "       [0.08095153, 0.12954304],\n",
       "       [0.08913858, 0.13130192],\n",
       "       [0.09134648, 0.1299264 ],\n",
       "       [0.08940109, 0.12543373],\n",
       "       [0.08796127, 0.12868507],\n",
       "       [0.09013217, 0.14553657],\n",
       "       [0.08218691, 0.12995559],\n",
       "       [0.07993989, 0.13366111],\n",
       "       [0.09126396, 0.13351159],\n",
       "       [0.09343757, 0.12858598],\n",
       "       [0.08905298, 0.12674749],\n",
       "       [0.08734303, 0.12065034],\n",
       "       [0.08616344, 0.12806506],\n",
       "       [0.08286252, 0.13251927],\n",
       "       [0.07413219, 0.1246129 ],\n",
       "       [0.08290002, 0.12470647],\n",
       "       [0.08614342, 0.11942384],\n",
       "       [0.07422695, 0.13451111],\n",
       "       [0.08553549, 0.13311452],\n",
       "       [0.08183667, 0.12584691],\n",
       "       [0.07041462, 0.12867436],\n",
       "       [0.08250339, 0.12352602],\n",
       "       [0.07886471, 0.12600148],\n",
       "       [0.07458941, 0.13042772],\n",
       "       [0.08844639, 0.12599424],\n",
       "       [0.0851668 , 0.1346512 ],\n",
       "       [0.09230447, 0.12258006],\n",
       "       [0.08243211, 0.12206968],\n",
       "       [0.08537644, 0.13355076],\n",
       "       [0.08432806, 0.12624848],\n",
       "       [0.07828302, 0.12573726],\n",
       "       [0.08752852, 0.13157213],\n",
       "       [0.08820966, 0.13165264],\n",
       "       [0.08558345, 0.13579418],\n",
       "       [0.08293168, 0.1309253 ],\n",
       "       [0.08395713, 0.12145216],\n",
       "       [0.08178336, 0.12317782],\n",
       "       [0.08095426, 0.14692898],\n",
       "       [0.07995801, 0.13383684],\n",
       "       [0.08821037, 0.12093005],\n",
       "       [0.08704887, 0.12517208],\n",
       "       [0.08559139, 0.12090848],\n",
       "       [0.08828282, 0.13548671],\n",
       "       [0.08761594, 0.1216141 ],\n",
       "       [0.08997069, 0.11910152],\n",
       "       [0.0821107 , 0.12761256],\n",
       "       [0.08824535, 0.12738089],\n",
       "       [0.08135761, 0.12506962],\n",
       "       [0.09263451, 0.1304784 ],\n",
       "       [0.087664  , 0.13642406],\n",
       "       [0.08213434, 0.12480313],\n",
       "       [0.08231508, 0.1318465 ],\n",
       "       [0.0903345 , 0.13387172],\n",
       "       [0.08178481, 0.13304608],\n",
       "       [0.08649518, 0.12330861],\n",
       "       [0.08511048, 0.12791049],\n",
       "       [0.07997622, 0.12069059],\n",
       "       [0.08503429, 0.12391466],\n",
       "       [0.08574919, 0.13197021],\n",
       "       [0.08278862, 0.12418193],\n",
       "       [0.0839551 , 0.12510666],\n",
       "       [0.08905248, 0.12819839],\n",
       "       [0.08592856, 0.13555796],\n",
       "       [0.08348459, 0.13515928],\n",
       "       [0.07585691, 0.13034931],\n",
       "       [0.08489452, 0.12092679],\n",
       "       [0.07740515, 0.12961438],\n",
       "       [0.0833924 , 0.1179353 ],\n",
       "       [0.07697336, 0.12190129],\n",
       "       [0.08417084, 0.13019805],\n",
       "       [0.08205204, 0.1253434 ],\n",
       "       [0.08899526, 0.12176818],\n",
       "       [0.08850869, 0.11723714],\n",
       "       [0.08014446, 0.12206133],\n",
       "       [0.0869387 , 0.1364715 ],\n",
       "       [0.09129941, 0.13231404],\n",
       "       [0.09003607, 0.1236332 ],\n",
       "       [0.08701903, 0.12821393],\n",
       "       [0.08882285, 0.12419073],\n",
       "       [0.0850132 , 0.12857118],\n",
       "       [0.08165743, 0.13403088],\n",
       "       [0.08959179, 0.129438  ],\n",
       "       [0.08611355, 0.12713733],\n",
       "       [0.08761013, 0.12526794],\n",
       "       [0.08652977, 0.12114359],\n",
       "       [0.09120245, 0.12931526],\n",
       "       [0.08542119, 0.13127835],\n",
       "       [0.0852856 , 0.12540062],\n",
       "       [0.09247226, 0.13160901],\n",
       "       [0.09439091, 0.12710854],\n",
       "       [0.08909234, 0.13316587],\n",
       "       [0.07665212, 0.12417811],\n",
       "       [0.08433668, 0.11970861],\n",
       "       [0.07871021, 0.14015815],\n",
       "       [0.08136547, 0.12969197],\n",
       "       [0.07892848, 0.14781836],\n",
       "       [0.08155078, 0.13032903],\n",
       "       [0.08183833, 0.13605663]])"
      ]
     },
     "execution_count": 70,
     "metadata": {},
     "output_type": "execute_result"
    }
   ],
   "source": [
    "combined"
   ]
  },
  {
   "cell_type": "code",
   "execution_count": 71,
   "id": "a4a003a4",
   "metadata": {},
   "outputs": [],
   "source": [
    "pair_cov = np.cov( combined )"
   ]
  },
  {
   "cell_type": "code",
   "execution_count": 72,
   "id": "b48bea10",
   "metadata": {},
   "outputs": [
    {
     "data": {
      "text/plain": [
       "array([[0.00121747, 0.00097415, 0.00119888, ..., 0.00169969, 0.00120349,\n",
       "        0.00133771],\n",
       "       [0.00097415, 0.00077946, 0.00095927, ..., 0.00135999, 0.00096296,\n",
       "        0.00107035],\n",
       "       [0.00119888, 0.00095927, 0.00118057, ..., 0.00167373, 0.0011851 ,\n",
       "        0.00131727],\n",
       "       ...,\n",
       "       [0.00169969, 0.00135999, 0.00167373, ..., 0.00237291, 0.00168016,\n",
       "        0.00186755],\n",
       "       [0.00120349, 0.00096296, 0.0011851 , ..., 0.00168016, 0.00118966,\n",
       "        0.00132234],\n",
       "       [0.00133771, 0.00107035, 0.00131727, ..., 0.00186755, 0.00132234,\n",
       "        0.00146981]])"
      ]
     },
     "execution_count": 72,
     "metadata": {},
     "output_type": "execute_result"
    }
   ],
   "source": [
    "pair_cov"
   ]
  },
  {
   "cell_type": "code",
   "execution_count": 73,
   "id": "0c2a5cd0",
   "metadata": {},
   "outputs": [],
   "source": [
    "combined_row = np.row_stack( (bootstrap_weights[:,0], bootstrap_weights[:,2]))"
   ]
  },
  {
   "cell_type": "code",
   "execution_count": 74,
   "id": "f39a2235",
   "metadata": {
    "scrolled": true
   },
   "outputs": [
    {
     "data": {
      "text/plain": [
       "array([[0.07861238, 0.08653135, 0.08095153, 0.08913858, 0.09134648,\n",
       "        0.08940109, 0.08796127, 0.09013217, 0.08218691, 0.07993989,\n",
       "        0.09126396, 0.09343757, 0.08905298, 0.08734303, 0.08616344,\n",
       "        0.08286252, 0.07413219, 0.08290002, 0.08614342, 0.07422695,\n",
       "        0.08553549, 0.08183667, 0.07041462, 0.08250339, 0.07886471,\n",
       "        0.07458941, 0.08844639, 0.0851668 , 0.09230447, 0.08243211,\n",
       "        0.08537644, 0.08432806, 0.07828302, 0.08752852, 0.08820966,\n",
       "        0.08558345, 0.08293168, 0.08395713, 0.08178336, 0.08095426,\n",
       "        0.07995801, 0.08821037, 0.08704887, 0.08559139, 0.08828282,\n",
       "        0.08761594, 0.08997069, 0.0821107 , 0.08824535, 0.08135761,\n",
       "        0.09263451, 0.087664  , 0.08213434, 0.08231508, 0.0903345 ,\n",
       "        0.08178481, 0.08649518, 0.08511048, 0.07997622, 0.08503429,\n",
       "        0.08574919, 0.08278862, 0.0839551 , 0.08905248, 0.08592856,\n",
       "        0.08348459, 0.07585691, 0.08489452, 0.07740515, 0.0833924 ,\n",
       "        0.07697336, 0.08417084, 0.08205204, 0.08899526, 0.08850869,\n",
       "        0.08014446, 0.0869387 , 0.09129941, 0.09003607, 0.08701903,\n",
       "        0.08882285, 0.0850132 , 0.08165743, 0.08959179, 0.08611355,\n",
       "        0.08761013, 0.08652977, 0.09120245, 0.08542119, 0.0852856 ,\n",
       "        0.09247226, 0.09439091, 0.08909234, 0.07665212, 0.08433668,\n",
       "        0.07871021, 0.08136547, 0.07892848, 0.08155078, 0.08183833],\n",
       "       [0.08191825, 0.08605371, 0.0831295 , 0.08863056, 0.08315083,\n",
       "        0.09161364, 0.08468809, 0.08392013, 0.08540381, 0.08457209,\n",
       "        0.08571932, 0.08687505, 0.08525859, 0.07819309, 0.08427247,\n",
       "        0.08594853, 0.07807133, 0.08426194, 0.07954179, 0.07912648,\n",
       "        0.08536255, 0.08709013, 0.075703  , 0.08405706, 0.08267457,\n",
       "        0.08170094, 0.08338846, 0.08454744, 0.08385103, 0.08177408,\n",
       "        0.07871122, 0.07835682, 0.08168832, 0.08959632, 0.07953653,\n",
       "        0.08004548, 0.07630385, 0.08756571, 0.07989591, 0.0816415 ,\n",
       "        0.09005677, 0.08309013, 0.08381025, 0.08491469, 0.08373269,\n",
       "        0.08347004, 0.08629715, 0.08722011, 0.07872434, 0.08837298,\n",
       "        0.08754762, 0.08394794, 0.0805871 , 0.08477144, 0.08497183,\n",
       "        0.0811664 , 0.09395114, 0.09527095, 0.08566375, 0.08322383,\n",
       "        0.08995081, 0.08837994, 0.09587773, 0.08747707, 0.0859509 ,\n",
       "        0.09225171, 0.09905543, 0.08996704, 0.08212958, 0.09320976,\n",
       "        0.09055302, 0.07604593, 0.07830292, 0.08237538, 0.08617012,\n",
       "        0.07725625, 0.08013517, 0.08131955, 0.08110692, 0.08353181,\n",
       "        0.08348297, 0.0781145 , 0.09100185, 0.08160118, 0.07448868,\n",
       "        0.08101366, 0.07992698, 0.08655048, 0.08762629, 0.08812152,\n",
       "        0.08396994, 0.0840143 , 0.09712468, 0.0802004 , 0.08400992,\n",
       "        0.08179992, 0.07782962, 0.08111504, 0.08369369, 0.08456939]])"
      ]
     },
     "execution_count": 74,
     "metadata": {},
     "output_type": "execute_result"
    }
   ],
   "source": [
    "combined_row"
   ]
  },
  {
   "cell_type": "code",
   "execution_count": 75,
   "id": "32d60b41",
   "metadata": {},
   "outputs": [],
   "source": [
    "pair_cov_rs = np.cov( combined_row )"
   ]
  },
  {
   "cell_type": "code",
   "execution_count": 76,
   "id": "e929158d",
   "metadata": {},
   "outputs": [
    {
     "data": {
      "text/plain": [
       "array([[2.20800737e-05, 3.00215362e-06],\n",
       "       [3.00215362e-06, 2.25429255e-05]])"
      ]
     },
     "execution_count": 76,
     "metadata": {},
     "output_type": "execute_result"
    }
   ],
   "source": [
    "pair_cov_rs"
   ]
  },
  {
   "cell_type": "code",
   "execution_count": 77,
   "id": "27ca4a89",
   "metadata": {},
   "outputs": [],
   "source": [
    "pair_cor = np.corrcoef(combined_row)"
   ]
  },
  {
   "cell_type": "code",
   "execution_count": 78,
   "id": "9087cca1",
   "metadata": {},
   "outputs": [
    {
     "data": {
      "text/plain": [
       "array([[1.        , 0.13456357],\n",
       "       [0.13456357, 1.        ]])"
      ]
     },
     "execution_count": 78,
     "metadata": {},
     "output_type": "execute_result"
    }
   ],
   "source": [
    "pair_cor"
   ]
  },
  {
   "cell_type": "code",
   "execution_count": 79,
   "id": "e5c0266e",
   "metadata": {},
   "outputs": [
    {
     "data": {
      "text/plain": [
       "0.13456357406292568"
      ]
     },
     "execution_count": 79,
     "metadata": {},
     "output_type": "execute_result"
    }
   ],
   "source": [
    "pair_cor[0,1]"
   ]
  },
  {
   "cell_type": "code",
   "execution_count": 80,
   "id": "3209f565",
   "metadata": {},
   "outputs": [],
   "source": [
    "ncalc = 100000\n",
    "corr_array = np.zeros( ncalc )\n",
    "\n",
    "point_index = 53\n",
    "\n",
    "for i in range(ncalc) :\n",
    "    pair_cor = np.corrcoef( np.row_stack( (bootstrap_weights[:,point_index], bootstrap_weights[:,i]) ))\n",
    "    corr_array[i] = pair_cor[0,1]\n"
   ]
  },
  {
   "cell_type": "code",
   "execution_count": 81,
   "id": "6387aaf4",
   "metadata": {
    "scrolled": true
   },
   "outputs": [
    {
     "data": {
      "text/plain": [
       "array([-0.22193921,  0.71918472, -0.09870532, ...,  0.17817036,\n",
       "        0.50722697,  0.28391598])"
      ]
     },
     "execution_count": 81,
     "metadata": {},
     "output_type": "execute_result"
    }
   ],
   "source": [
    "corr_array"
   ]
  },
  {
   "cell_type": "code",
   "execution_count": 82,
   "id": "f872a927",
   "metadata": {},
   "outputs": [
    {
     "data": {
      "text/plain": [
       "<function matplotlib.pyplot.show(close=None, block=None)>"
      ]
     },
     "execution_count": 82,
     "metadata": {},
     "output_type": "execute_result"
    },
    {
     "data": {
      "image/png": "[encoded data removed]",
      "text/plain": [
       "<Figure size 432x288 with 1 Axes>"
      ]
     },
     "metadata": {
      "needs_background": "light"
     },
     "output_type": "display_data"
    }
   ],
   "source": [
    "plt.hist( corr_array, bins=40)\n",
    "plt.show"
   ]
  },
  {
   "cell_type": "code",
   "execution_count": 83,
   "id": "b019153c",
   "metadata": {},
   "outputs": [
    {
     "data": {
      "text/plain": [
       "array([ 0.30820627, -0.18742389])"
      ]
     },
     "execution_count": 83,
     "metadata": {},
     "output_type": "execute_result"
    }
   ],
   "source": [
    "train_pts[point_index]"
   ]
  },
  {
   "cell_type": "code",
   "execution_count": 84,
   "id": "940141d1",
   "metadata": {},
   "outputs": [],
   "source": [
    "df0 = train_pts[:,0] - train_pts[point_index,0]\n",
    "df1 = train_pts[:,1] - train_pts[point_index,1]\n",
    "dr = np.sqrt( df0*df0 + df1*df1)"
   ]
  },
  {
   "cell_type": "code",
   "execution_count": 85,
   "id": "5506f9bb",
   "metadata": {},
   "outputs": [
    {
     "data": {
      "text/plain": [
       "<function matplotlib.pyplot.show(close=None, block=None)>"
      ]
     },
     "execution_count": 85,
     "metadata": {},
     "output_type": "execute_result"
    },
    {
     "data": {
      "image/png": "[encoded data removed]",
      "text/plain": [
       "<Figure size 1296x360 with 3 Axes>"
      ]
     },
     "metadata": {
      "needs_background": "light"
     },
     "output_type": "display_data"
    }
   ],
   "source": [
    "fig,ax = plt.subplots( 1, 3, figsize=(18,5))\n",
    "ax[0].hist2d( df0, corr_array, bins=[80,80], range=([-4,4],[-1,1]))\n",
    "ax[1].hist2d( df1, corr_array, bins=[80,80], range=([-4,4],[-1,1]))\n",
    "ax[2].hist2d( dr, corr_array, bins=[80,80], range=([0,5],[-1,1]))\n",
    "plt.show"
   ]
  },
  {
   "cell_type": "code",
   "execution_count": null,
   "id": "be5b155f",
   "metadata": {},
   "outputs": [],
   "source": []
  },
  {
   "cell_type": "code",
   "execution_count": null,
   "id": "13f56a09",
   "metadata": {},
   "outputs": [],
   "source": []
  },
  {
   "cell_type": "code",
   "execution_count": 86,
   "id": "fda4ac82",
   "metadata": {},
   "outputs": [],
   "source": [
    "output_filebase = 'bootstrap-output-test1b'"
   ]
  },
  {
   "cell_type": "code",
   "execution_count": 87,
   "id": "ced7d612",
   "metadata": {},
   "outputs": [],
   "source": [
    "with open( '%s.npy' % output_filebase, 'wb') as f :\n",
    "    np.save(f, train_pts)\n",
    "    np.save(f, train_det_pts)\n",
    "    np.save(f, true_pts)\n",
    "    np.save(f, true_det_pts)\n",
    "    np.save(f, bootstrap_weights)\n",
    "    "
   ]
  },
  {
   "cell_type": "code",
   "execution_count": 88,
   "id": "281e7557",
   "metadata": {},
   "outputs": [
    {
     "data": {
      "text/plain": [
       "(100000, 2)"
      ]
     },
     "execution_count": 88,
     "metadata": {},
     "output_type": "execute_result"
    }
   ],
   "source": [
    "train_pts.shape"
   ]
  },
  {
   "cell_type": "code",
   "execution_count": 89,
   "id": "fc27b831",
   "metadata": {},
   "outputs": [
    {
     "data": {
      "text/plain": [
       "array([[ 0.39013488,  2.65056086],\n",
       "       [ 0.9036598 ,  0.91956245],\n",
       "       [ 0.42644889,  1.35766071],\n",
       "       ...,\n",
       "       [-2.10158565,  5.8157137 ],\n",
       "       [-0.96850872, -0.04008578],\n",
       "       [ 1.5098503 , -0.67659905]])"
      ]
     },
     "execution_count": 89,
     "metadata": {},
     "output_type": "execute_result"
    }
   ],
   "source": [
    "train_det_pts"
   ]
  },
  {
   "cell_type": "code",
   "execution_count": 90,
   "id": "e0408d3d",
   "metadata": {},
   "outputs": [
    {
     "data": {
      "text/plain": [
       "array([[ 0.48819728,  0.62984238],\n",
       "       [-0.54296333,  4.20650107],\n",
       "       [-1.47382645,  1.42721904],\n",
       "       ...,\n",
       "       [ 0.06113063,  3.24600645],\n",
       "       [ 1.96456326, -0.90843271],\n",
       "       [ 1.132528  ,  0.09859404]])"
      ]
     },
     "execution_count": 90,
     "metadata": {},
     "output_type": "execute_result"
    }
   ],
   "source": [
    "true_det_pts"
   ]
  },
  {
   "cell_type": "code",
   "execution_count": 91,
   "id": "b87bb853",
   "metadata": {},
   "outputs": [
    {
     "data": {
      "text/plain": [
       "(10000, 2)"
      ]
     },
     "execution_count": 91,
     "metadata": {},
     "output_type": "execute_result"
    }
   ],
   "source": [
    "true_det_pts.shape"
   ]
  },
  {
   "cell_type": "code",
   "execution_count": 92,
   "id": "09c45b8d",
   "metadata": {},
   "outputs": [
    {
     "data": {
      "text/plain": [
       "array([[0.07861238, 0.12795757, 0.08191825, ..., 0.02706999, 0.1024921 ,\n",
       "        0.12486709],\n",
       "       [0.08653135, 0.12601443, 0.08605371, ..., 0.03294931, 0.09962975,\n",
       "        0.13069938],\n",
       "       [0.08095153, 0.12954304, 0.0831295 , ..., 0.02869027, 0.08845292,\n",
       "        0.13174871],\n",
       "       ...,\n",
       "       [0.07892848, 0.14781836, 0.08111504, ..., 0.03369312, 0.1114796 ,\n",
       "        0.14261661],\n",
       "       [0.08155078, 0.13032903, 0.08369369, ..., 0.02565151, 0.10471409,\n",
       "        0.12774353],\n",
       "       [0.08183833, 0.13605663, 0.08456939, ..., 0.02789115, 0.10248567,\n",
       "        0.13594753]])"
      ]
     },
     "execution_count": 92,
     "metadata": {},
     "output_type": "execute_result"
    }
   ],
   "source": [
    "bootstrap_weights"
   ]
  },
  {
   "cell_type": "code",
   "execution_count": 93,
   "id": "a4ff5235",
   "metadata": {},
   "outputs": [
    {
     "data": {
      "text/plain": [
       "(100, 100000)"
      ]
     },
     "execution_count": 93,
     "metadata": {},
     "output_type": "execute_result"
    }
   ],
   "source": [
    "bootstrap_weights.shape"
   ]
  },
  {
   "cell_type": "code",
   "execution_count": null,
   "id": "5dfde52b",
   "metadata": {},
   "outputs": [],
   "source": []
  }
 ],
 "metadata": {
  "kernelspec": {
   "display_name": "Python 3 (ipykernel)",
   "language": "python",
   "name": "python3"
  },
  "language_info": {
   "codemirror_mode": {
    "name": "ipython",
    "version": 3
   },
   "file_extension": ".py",
   "mimetype": "text/x-python",
   "name": "python",
   "nbconvert_exporter": "python",
   "pygments_lexer": "ipython3",
   "version": "3.10.12"
  }
 },
 "nbformat": 4,
 "nbformat_minor": 5
}
