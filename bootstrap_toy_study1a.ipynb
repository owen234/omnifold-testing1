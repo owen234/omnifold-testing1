{
 "cells": [
  {
   "cell_type": "code",
   "execution_count": 1,
   "id": "2e1be84d",
   "metadata": {},
   "outputs": [],
   "source": [
    "import matplotlib.pyplot as plt\n",
    "import numpy as np\n",
    "\n",
    "import time\n",
    "\n",
    "from keras.layers import Dense, Input\n",
    "from keras.models import Model\n",
    "\n",
    "import omnifold as of\n",
    "import os\n",
    "import tensorflow as tf\n"
   ]
  },
  {
   "cell_type": "code",
   "execution_count": 2,
   "id": "a708ce4e",
   "metadata": {},
   "outputs": [
    {
     "name": "stdout",
     "output_type": "stream",
     "text": [
      "\n",
      "\n",
      "\n",
      "  numpy version:  1.21.5\n",
      "  tensorflow version:  2.11.0\n",
      "\n",
      "\n",
      "\n"
     ]
    }
   ],
   "source": [
    "print(\"\\n\\n\")\n",
    "print(\"  numpy version:  %s\" % str(np.version.version) )\n",
    "print(\"  tensorflow version:  %s\" % str(tf.__version__))\n",
    "print(\"\\n\\n\")"
   ]
  },
  {
   "cell_type": "code",
   "execution_count": null,
   "id": "744ac3fe",
   "metadata": {},
   "outputs": [],
   "source": []
  },
  {
   "cell_type": "code",
   "execution_count": null,
   "id": "c8c8ca7c",
   "metadata": {},
   "outputs": [],
   "source": []
  },
  {
   "cell_type": "markdown",
   "id": "fcd5a27a",
   "metadata": {},
   "source": [
    "## Set model and resolution parameters"
   ]
  },
  {
   "cell_type": "code",
   "execution_count": 3,
   "id": "b77c63e8",
   "metadata": {},
   "outputs": [],
   "source": [
    "train_mu0 = 0.\n",
    "train_mu1 = 1.\n",
    "train_rho01 = -0.6\n",
    "\n",
    "train_sig0 = 1.0\n",
    "train_sig1 = 1.5\n",
    "\n",
    "train_cov00 = train_sig0 * train_sig0 \n",
    "train_cov11 = train_sig1 * train_sig1\n",
    "train_cov01 = train_rho01 * train_sig0 * train_sig1\n",
    "\n",
    "train_cov = np.array( [[train_cov00, train_cov01], [train_cov01, train_cov11]] )\n",
    "train_mu = np.array( [train_mu0, train_mu1])\n",
    "\n",
    "\n",
    "\n",
    "true_mu0 = 0.2\n",
    "true_mu1 = 0.8\n",
    "true_rho01 = -0.6\n",
    "\n",
    "true_sig0 = 0.9\n",
    "true_sig1 = 1.3\n",
    "\n",
    "true_cov00 = true_sig0 * true_sig0 \n",
    "true_cov11 = true_sig1 * true_sig1\n",
    "true_cov01 = true_rho01 * true_sig0 * true_sig1\n",
    "\n",
    "true_cov = np.array( [[true_cov00, true_cov01], [true_cov01, true_cov11]] )\n",
    "true_mu = np.array( [true_mu0, true_mu1])\n",
    "\n",
    "\n",
    "\n",
    "#--- resolution is in same dimensions as features (not sigma/val)\n",
    "res0 = 0.5\n",
    "res1 = 0.8\n",
    "\n",
    "\n"
   ]
  },
  {
   "cell_type": "markdown",
   "id": "bd7b4128",
   "metadata": {},
   "source": [
    "## Plots to visualize these parameter choices"
   ]
  },
  {
   "cell_type": "code",
   "execution_count": 4,
   "id": "2ff65ef2",
   "metadata": {},
   "outputs": [],
   "source": [
    "\n",
    "ngen_train = 100000\n",
    "ngen_true = 10000\n",
    "\n",
    "train_pts = np.random.multivariate_normal(train_mu, train_cov, size=ngen_train)\n",
    "true_pts = np.random.multivariate_normal(true_mu, true_cov, size=ngen_true)\n",
    "\n",
    "train_det_pts = np.random.normal( train_pts, [res0, res1])\n",
    "\n",
    "true_det_pts = np.random.normal( true_pts, [res0, res1])\n",
    "\n"
   ]
  },
  {
   "cell_type": "code",
   "execution_count": 5,
   "id": "206826c4",
   "metadata": {},
   "outputs": [
    {
     "data": {
      "text/plain": [
       "<function matplotlib.pyplot.show(close=None, block=None)>"
      ]
     },
     "execution_count": 5,
     "metadata": {},
     "output_type": "execute_result"
    },
    {
     "data": {
      "image/png": "[encoded data removed]",
      "text/plain": [
       "<Figure size 864x864 with 4 Axes>"
      ]
     },
     "metadata": {
      "needs_background": "light"
     },
     "output_type": "display_data"
    }
   ],
   "source": [
    "fig,ax = plt.subplots( 2, 2, figsize=(12,12))\n",
    "\n",
    "hmin=-6\n",
    "hmax=6\n",
    "hbins=40\n",
    "\n",
    "ax[0][0].hist2d( train_pts[:,0], train_pts[:,1], bins=[hbins,hbins], range=([hmin,hmax],[hmin,hmax]))\n",
    "\n",
    "ax[0][1].hist2d( true_pts[:,0], true_pts[:,1], bins=[hbins,hbins], range=([hmin,hmax],[hmin,hmax]))\n",
    "\n",
    "ax[1][0].hist( train_pts[:,0], bins=hbins, range=[hmin,hmax], density=True, label='Train particle' )\n",
    "ax[1][0].hist( true_pts[:,0], bins=hbins, range=[hmin,hmax], density=True, label='True particle', alpha=0.6)\n",
    "\n",
    "ax[1][1].hist( train_pts[:,1], bins=hbins, range=[hmin,hmax], density=True, label='Train particle' )\n",
    "ax[1][1].hist( true_pts[:,1], bins=hbins, range=[hmin,hmax], density=True, label='True particle', alpha=0.6)\n",
    "\n",
    "\n",
    "ax[1][0].legend(loc='best', fontsize=13)\n",
    "ax[1][1].legend(loc='best', fontsize=13)\n",
    "\n",
    "plt.show"
   ]
  },
  {
   "cell_type": "code",
   "execution_count": 6,
   "id": "065ffe12",
   "metadata": {},
   "outputs": [],
   "source": [
    "train_diff = train_det_pts - train_pts"
   ]
  },
  {
   "cell_type": "code",
   "execution_count": 7,
   "id": "e4076f78",
   "metadata": {},
   "outputs": [],
   "source": [
    "diff_cov = np.cov( train_diff.T )"
   ]
  },
  {
   "cell_type": "code",
   "execution_count": 8,
   "id": "4fa1fc32",
   "metadata": {},
   "outputs": [
    {
     "data": {
      "text/plain": [
       "array([[0.2487226 , 0.00201261],\n",
       "       [0.00201261, 0.64357569]])"
      ]
     },
     "execution_count": 8,
     "metadata": {},
     "output_type": "execute_result"
    }
   ],
   "source": [
    "diff_cov"
   ]
  },
  {
   "cell_type": "code",
   "execution_count": 9,
   "id": "6b2431f5",
   "metadata": {},
   "outputs": [
    {
     "data": {
      "text/plain": [
       "0.498720961319625"
      ]
     },
     "execution_count": 9,
     "metadata": {},
     "output_type": "execute_result"
    }
   ],
   "source": [
    "np.sqrt(diff_cov[0,0])"
   ]
  },
  {
   "cell_type": "code",
   "execution_count": 10,
   "id": "a4f83bdf",
   "metadata": {},
   "outputs": [
    {
     "data": {
      "text/plain": [
       "0.8022316906657712"
      ]
     },
     "execution_count": 10,
     "metadata": {},
     "output_type": "execute_result"
    }
   ],
   "source": [
    "np.sqrt(diff_cov[1,1])"
   ]
  },
  {
   "cell_type": "code",
   "execution_count": 11,
   "id": "6a5b9df1",
   "metadata": {
    "scrolled": false
   },
   "outputs": [
    {
     "data": {
      "text/plain": [
       "<function matplotlib.pyplot.show(close=None, block=None)>"
      ]
     },
     "execution_count": 11,
     "metadata": {},
     "output_type": "execute_result"
    },
    {
     "data": {
      "image/png": "[encoded data removed]",
      "text/plain": [
       "<Figure size 864x864 with 4 Axes>"
      ]
     },
     "metadata": {
      "needs_background": "light"
     },
     "output_type": "display_data"
    }
   ],
   "source": [
    "fig,ax = plt.subplots( 2, 2, figsize=(12,12))\n",
    "\n",
    "hmin=-6\n",
    "hmax=6\n",
    "hbins=40\n",
    "\n",
    "ax[0][0].hist2d( train_pts[:,0], train_pts[:,1], bins=[hbins,hbins], range=([hmin,hmax],[hmin,hmax]))\n",
    "\n",
    "ax[0][1].hist2d( train_det_pts[:,0], train_det_pts[:,1], bins=[hbins,hbins], range=([hmin,hmax],[hmin,hmax]))\n",
    "\n",
    "ax[1][0].hist( train_pts[:,0], bins=hbins, range=[hmin,hmax], label='train particle' )\n",
    "ax[1][0].hist( train_det_pts[:,0], bins=hbins, range=[hmin,hmax], label='train det', alpha=0.6)\n",
    "\n",
    "ax[1][1].hist( train_pts[:,1], bins=hbins, range=[hmin,hmax], label='train particle' )\n",
    "ax[1][1].hist( train_det_pts[:,1], bins=hbins, range=[hmin,hmax], label='train det', alpha=0.6)\n",
    "\n",
    "\n",
    "ax[1][0].legend(loc='best', fontsize=13)\n",
    "ax[1][1].legend(loc='best', fontsize=13)\n",
    "\n",
    "plt.show"
   ]
  },
  {
   "cell_type": "code",
   "execution_count": null,
   "id": "ee059469",
   "metadata": {},
   "outputs": [],
   "source": []
  },
  {
   "cell_type": "code",
   "execution_count": 12,
   "id": "9fd4b4e8",
   "metadata": {},
   "outputs": [
    {
     "data": {
      "text/plain": [
       "<function matplotlib.pyplot.show(close=None, block=None)>"
      ]
     },
     "execution_count": 12,
     "metadata": {},
     "output_type": "execute_result"
    },
    {
     "data": {
      "image/png": "[encoded data removed]",
      "text/plain": [
       "<Figure size 864x864 with 4 Axes>"
      ]
     },
     "metadata": {
      "needs_background": "light"
     },
     "output_type": "display_data"
    }
   ],
   "source": [
    "fig,ax = plt.subplots( 2, 2, figsize=(12,12))\n",
    "\n",
    "hmin=-6\n",
    "hmax=6\n",
    "hbins=40\n",
    "\n",
    "ax[0][0].hist2d( true_pts[:,0], true_pts[:,1], bins=[hbins,hbins], range=([hmin,hmax],[hmin,hmax]))\n",
    "\n",
    "ax[0][1].hist2d( true_det_pts[:,0], true_det_pts[:,1], bins=[hbins,hbins], range=([hmin,hmax],[hmin,hmax]))\n",
    "\n",
    "ax[1][0].hist( true_pts[:,0], bins=hbins, range=[hmin,hmax], label='true particle' )\n",
    "ax[1][0].hist( true_det_pts[:,0], bins=hbins, range=[hmin,hmax], label='true det', alpha=0.6)\n",
    "\n",
    "ax[1][1].hist( true_pts[:,1], bins=hbins, range=[hmin,hmax], label='true particle' )\n",
    "ax[1][1].hist( true_det_pts[:,1], bins=hbins, range=[hmin,hmax], label='true det', alpha=0.6)\n",
    "\n",
    "\n",
    "ax[1][0].legend(loc='best', fontsize=13)\n",
    "ax[1][1].legend(loc='best', fontsize=13)\n",
    "\n",
    "plt.show"
   ]
  },
  {
   "cell_type": "code",
   "execution_count": null,
   "id": "267fadd1",
   "metadata": {},
   "outputs": [],
   "source": []
  },
  {
   "cell_type": "code",
   "execution_count": 13,
   "id": "7490e888",
   "metadata": {},
   "outputs": [
    {
     "data": {
      "text/plain": [
       "<function matplotlib.pyplot.show(close=None, block=None)>"
      ]
     },
     "execution_count": 13,
     "metadata": {},
     "output_type": "execute_result"
    },
    {
     "data": {
      "image/png": "[encoded data removed]",
      "text/plain": [
       "<Figure size 864x864 with 4 Axes>"
      ]
     },
     "metadata": {
      "needs_background": "light"
     },
     "output_type": "display_data"
    }
   ],
   "source": [
    "fig,ax = plt.subplots( 2, 2, figsize=(12,12))\n",
    "\n",
    "hmin=-6\n",
    "hmax=6\n",
    "hbins=40\n",
    "\n",
    "ax[0][0].hist2d( train_det_pts[:,0], train_det_pts[:,1], bins=[hbins,hbins], range=([hmin,hmax],[hmin,hmax]))\n",
    "\n",
    "ax[0][1].hist2d( true_det_pts[:,0], true_det_pts[:,1], bins=[hbins,hbins], range=([hmin,hmax],[hmin,hmax]))\n",
    "\n",
    "ax[1][0].hist( train_det_pts[:,0], bins=hbins, density=True, range=[hmin,hmax], label='Train det' )\n",
    "ax[1][0].hist( true_det_pts[:,0], bins=hbins, density=True, range=[hmin,hmax], label='True det', alpha=0.6)\n",
    "\n",
    "ax[1][1].hist( train_det_pts[:,1], bins=hbins, density=True, range=[hmin,hmax], label='Train det' )\n",
    "ax[1][1].hist( true_det_pts[:,1], bins=hbins, density=True, range=[hmin,hmax], label='True det', alpha=0.6)\n",
    "\n",
    "\n",
    "ax[1][0].legend(loc='best', fontsize=13)\n",
    "ax[1][1].legend(loc='best', fontsize=13)\n",
    "\n",
    "plt.show"
   ]
  },
  {
   "cell_type": "code",
   "execution_count": null,
   "id": "08cd4f1d",
   "metadata": {},
   "outputs": [],
   "source": []
  },
  {
   "cell_type": "markdown",
   "id": "163478c2",
   "metadata": {},
   "source": [
    "## Set up NN model for OmniFold"
   ]
  },
  {
   "cell_type": "code",
   "execution_count": 14,
   "id": "c894f0a6",
   "metadata": {},
   "outputs": [
    {
     "name": "stderr",
     "output_type": "stream",
     "text": [
      "2023-10-27 10:44:30.685750: I tensorflow/compiler/xla/stream_executor/cuda/cuda_gpu_executor.cc:981] successful NUMA node read from SysFS had negative value (-1), but there must be at least one NUMA node, so returning NUMA node zero\n",
      "2023-10-27 10:44:30.685982: I tensorflow/compiler/xla/stream_executor/cuda/cuda_gpu_executor.cc:981] successful NUMA node read from SysFS had negative value (-1), but there must be at least one NUMA node, so returning NUMA node zero\n",
      "2023-10-27 10:44:30.702521: I tensorflow/compiler/xla/stream_executor/cuda/cuda_gpu_executor.cc:981] successful NUMA node read from SysFS had negative value (-1), but there must be at least one NUMA node, so returning NUMA node zero\n",
      "2023-10-27 10:44:30.702964: I tensorflow/compiler/xla/stream_executor/cuda/cuda_gpu_executor.cc:981] successful NUMA node read from SysFS had negative value (-1), but there must be at least one NUMA node, so returning NUMA node zero\n",
      "2023-10-27 10:44:30.703138: I tensorflow/compiler/xla/stream_executor/cuda/cuda_gpu_executor.cc:981] successful NUMA node read from SysFS had negative value (-1), but there must be at least one NUMA node, so returning NUMA node zero\n",
      "2023-10-27 10:44:30.703304: I tensorflow/compiler/xla/stream_executor/cuda/cuda_gpu_executor.cc:981] successful NUMA node read from SysFS had negative value (-1), but there must be at least one NUMA node, so returning NUMA node zero\n",
      "2023-10-27 10:44:30.828382: I tensorflow/compiler/xla/stream_executor/cuda/cuda_gpu_executor.cc:981] successful NUMA node read from SysFS had negative value (-1), but there must be at least one NUMA node, so returning NUMA node zero\n",
      "2023-10-27 10:44:30.828591: I tensorflow/compiler/xla/stream_executor/cuda/cuda_gpu_executor.cc:981] successful NUMA node read from SysFS had negative value (-1), but there must be at least one NUMA node, so returning NUMA node zero\n",
      "2023-10-27 10:44:30.828771: I tensorflow/compiler/xla/stream_executor/cuda/cuda_gpu_executor.cc:981] successful NUMA node read from SysFS had negative value (-1), but there must be at least one NUMA node, so returning NUMA node zero\n",
      "2023-10-27 10:44:30.828936: I tensorflow/compiler/xla/stream_executor/cuda/cuda_gpu_executor.cc:981] successful NUMA node read from SysFS had negative value (-1), but there must be at least one NUMA node, so returning NUMA node zero\n",
      "2023-10-27 10:44:30.829100: I tensorflow/compiler/xla/stream_executor/cuda/cuda_gpu_executor.cc:981] successful NUMA node read from SysFS had negative value (-1), but there must be at least one NUMA node, so returning NUMA node zero\n",
      "2023-10-27 10:44:30.829264: I tensorflow/compiler/xla/stream_executor/cuda/cuda_gpu_executor.cc:981] successful NUMA node read from SysFS had negative value (-1), but there must be at least one NUMA node, so returning NUMA node zero\n",
      "2023-10-27 10:44:31.422519: I tensorflow/compiler/xla/stream_executor/cuda/cuda_gpu_executor.cc:981] successful NUMA node read from SysFS had negative value (-1), but there must be at least one NUMA node, so returning NUMA node zero\n",
      "2023-10-27 10:44:31.422756: I tensorflow/compiler/xla/stream_executor/cuda/cuda_gpu_executor.cc:981] successful NUMA node read from SysFS had negative value (-1), but there must be at least one NUMA node, so returning NUMA node zero\n",
      "2023-10-27 10:44:31.422946: I tensorflow/compiler/xla/stream_executor/cuda/cuda_gpu_executor.cc:981] successful NUMA node read from SysFS had negative value (-1), but there must be at least one NUMA node, so returning NUMA node zero\n",
      "2023-10-27 10:44:31.423117: I tensorflow/compiler/xla/stream_executor/cuda/cuda_gpu_executor.cc:981] successful NUMA node read from SysFS had negative value (-1), but there must be at least one NUMA node, so returning NUMA node zero\n",
      "2023-10-27 10:44:31.423284: I tensorflow/compiler/xla/stream_executor/cuda/cuda_gpu_executor.cc:981] successful NUMA node read from SysFS had negative value (-1), but there must be at least one NUMA node, so returning NUMA node zero\n",
      "2023-10-27 10:44:31.423437: I tensorflow/core/common_runtime/gpu/gpu_device.cc:1613] Created device /job:localhost/replica:0/task:0/device:GPU:0 with 21943 MB memory:  -> device: 0, name: NVIDIA GeForce RTX 3090, pci bus id: 0000:41:00.0, compute capability: 8.6\n",
      "2023-10-27 10:44:31.423799: I tensorflow/compiler/xla/stream_executor/cuda/cuda_gpu_executor.cc:981] successful NUMA node read from SysFS had negative value (-1), but there must be at least one NUMA node, so returning NUMA node zero\n",
      "2023-10-27 10:44:31.423948: I tensorflow/core/common_runtime/gpu/gpu_device.cc:1613] Created device /job:localhost/replica:0/task:0/device:GPU:1 with 22263 MB memory:  -> device: 1, name: NVIDIA GeForce RTX 3090, pci bus id: 0000:61:00.0, compute capability: 8.6\n"
     ]
    }
   ],
   "source": [
    "inputs = Input((2, ))\n",
    "hidden_layer_1 = Dense(50, activation='relu')(inputs)\n",
    "hidden_layer_2 = Dense(50, activation='relu')(hidden_layer_1)\n",
    "hidden_layer_3 = Dense(50, activation='relu')(hidden_layer_2)\n",
    "outputs = Dense(1, activation='sigmoid')(hidden_layer_3)\n",
    "model = Model(inputs=inputs, outputs=outputs)"
   ]
  },
  {
   "cell_type": "code",
   "execution_count": null,
   "id": "c8d008a4",
   "metadata": {},
   "outputs": [],
   "source": []
  },
  {
   "cell_type": "markdown",
   "id": "a90ab248",
   "metadata": {},
   "source": [
    "## Package the training data for OmniFold"
   ]
  },
  {
   "cell_type": "code",
   "execution_count": 15,
   "id": "2fdd2141",
   "metadata": {},
   "outputs": [],
   "source": [
    "train_both = np.stack([train_pts, train_det_pts], axis=1)"
   ]
  },
  {
   "cell_type": "code",
   "execution_count": null,
   "id": "2044abbc",
   "metadata": {},
   "outputs": [],
   "source": []
  },
  {
   "cell_type": "markdown",
   "id": "3785505f",
   "metadata": {},
   "source": [
    "## Run OmniFold"
   ]
  },
  {
   "cell_type": "code",
   "execution_count": 16,
   "id": "2f3d1d70",
   "metadata": {
    "scrolled": true
   },
   "outputs": [
    {
     "name": "stdout",
     "output_type": "stream",
     "text": [
      "\n",
      "\n",
      "\n",
      "  shape of theta0_S : (100000, 2)\n",
      "  shape of theta_unknown_S : (10000, 2)\n",
      "  shape of xvals_1 :  (110000, 2)\n",
      "\n",
      "\n",
      "\n",
      "  shape of labels0 : (100000,)\n",
      "  shape of labels_unknown : (10000,)\n",
      "  shape of yvals_1 :  (110000,)\n",
      "\n",
      "\n",
      "\n",
      "  shape of theta0_G : (100000, 2)\n",
      "  shape of xvals_2 :  (200000, 2)\n",
      "  shape of yvals_2 :  (200000,)\n",
      "\n",
      "\n",
      "\n",
      "\n",
      "ITERATION: 1\n",
      "\n",
      "   -- ITERATION 1  STEP 1\n",
      "\n",
      "Epoch 1/20\n"
     ]
    },
    {
     "name": "stderr",
     "output_type": "stream",
     "text": [
      "2023-10-27 10:44:32.755505: I tensorflow/compiler/xla/stream_executor/cuda/cuda_blas.cc:630] TensorFloat-32 will be used for the matrix multiplication. This will only be logged once.\n",
      "2023-10-27 10:44:32.757721: I tensorflow/compiler/xla/service/service.cc:173] XLA service 0x7f3775f44bd0 initialized for platform CUDA (this does not guarantee that XLA will be used). Devices:\n",
      "2023-10-27 10:44:32.757733: I tensorflow/compiler/xla/service/service.cc:181]   StreamExecutor device (0): NVIDIA GeForce RTX 3090, Compute Capability 8.6\n",
      "2023-10-27 10:44:32.757736: I tensorflow/compiler/xla/service/service.cc:181]   StreamExecutor device (1): NVIDIA GeForce RTX 3090, Compute Capability 8.6\n",
      "2023-10-27 10:44:32.761065: I tensorflow/compiler/mlir/tensorflow/utils/dump_mlir_util.cc:268] disabling MLIR crash reproducer, set env var `MLIR_CRASH_REPRODUCER_DIRECTORY` to enable.\n",
      "2023-10-27 10:44:32.849433: I tensorflow/compiler/jit/xla_compilation_cache.cc:477] Compiled cluster using XLA!  This line is logged at most once for the lifetime of the process.\n"
     ]
    },
    {
     "name": "stdout",
     "output_type": "stream",
     "text": [
      "9/9 [==============================] - 2s 17ms/step - loss: 0.6045 - accuracy: 0.4589 - val_loss: 0.5108 - val_accuracy: 0.4545\n",
      "Epoch 2/20\n",
      "9/9 [==============================] - 0s 5ms/step - loss: 0.4603 - accuracy: 0.4546 - val_loss: 0.3981 - val_accuracy: 0.4545\n",
      "Epoch 3/20\n",
      "9/9 [==============================] - 0s 5ms/step - loss: 0.3723 - accuracy: 0.4546 - val_loss: 0.3456 - val_accuracy: 0.4545\n",
      "Epoch 4/20\n",
      "9/9 [==============================] - 0s 5ms/step - loss: 0.3409 - accuracy: 0.4546 - val_loss: 0.3365 - val_accuracy: 0.4545\n",
      "Epoch 5/20\n",
      "9/9 [==============================] - 0s 4ms/step - loss: 0.3345 - accuracy: 0.4546 - val_loss: 0.3288 - val_accuracy: 0.4545\n",
      "Epoch 6/20\n",
      "9/9 [==============================] - 0s 5ms/step - loss: 0.3260 - accuracy: 0.4546 - val_loss: 0.3210 - val_accuracy: 0.4545\n",
      "Epoch 7/20\n",
      "9/9 [==============================] - 0s 4ms/step - loss: 0.3194 - accuracy: 0.4546 - val_loss: 0.3158 - val_accuracy: 0.4545\n",
      "Epoch 8/20\n",
      "9/9 [==============================] - 0s 4ms/step - loss: 0.3148 - accuracy: 0.4546 - val_loss: 0.3117 - val_accuracy: 0.4545\n",
      "Epoch 9/20\n",
      "9/9 [==============================] - 0s 4ms/step - loss: 0.3112 - accuracy: 0.4546 - val_loss: 0.3084 - val_accuracy: 0.4545\n",
      "Epoch 10/20\n",
      "9/9 [==============================] - 0s 4ms/step - loss: 0.3083 - accuracy: 0.4546 - val_loss: 0.3059 - val_accuracy: 0.4545\n",
      "Epoch 11/20\n",
      "9/9 [==============================] - 0s 4ms/step - loss: 0.3061 - accuracy: 0.4546 - val_loss: 0.3043 - val_accuracy: 0.4545\n",
      "Epoch 12/20\n",
      "9/9 [==============================] - 0s 4ms/step - loss: 0.3046 - accuracy: 0.4546 - val_loss: 0.3032 - val_accuracy: 0.4545\n",
      "Epoch 13/20\n",
      "9/9 [==============================] - 0s 4ms/step - loss: 0.3036 - accuracy: 0.4546 - val_loss: 0.3026 - val_accuracy: 0.4545\n",
      "Epoch 14/20\n",
      "9/9 [==============================] - 0s 5ms/step - loss: 0.3031 - accuracy: 0.4546 - val_loss: 0.3023 - val_accuracy: 0.4545\n",
      "Epoch 15/20\n",
      "9/9 [==============================] - 0s 4ms/step - loss: 0.3027 - accuracy: 0.4546 - val_loss: 0.3022 - val_accuracy: 0.4545\n",
      "Epoch 16/20\n",
      "9/9 [==============================] - 0s 5ms/step - loss: 0.3024 - accuracy: 0.4546 - val_loss: 0.3021 - val_accuracy: 0.4545\n",
      "Epoch 17/20\n",
      "9/9 [==============================] - 0s 5ms/step - loss: 0.3023 - accuracy: 0.4546 - val_loss: 0.3021 - val_accuracy: 0.4545\n",
      "Epoch 18/20\n",
      "9/9 [==============================] - 0s 4ms/step - loss: 0.3022 - accuracy: 0.4546 - val_loss: 0.3021 - val_accuracy: 0.4545\n",
      "Epoch 19/20\n",
      "9/9 [==============================] - 0s 4ms/step - loss: 0.3022 - accuracy: 0.4546 - val_loss: 0.3021 - val_accuracy: 0.4545\n",
      "Epoch 20/20\n",
      "9/9 [==============================] - 0s 4ms/step - loss: 0.3021 - accuracy: 0.4546 - val_loss: 0.3022 - val_accuracy: 0.4545\n",
      "10/10 [==============================] - 0s 643us/step\n",
      "10/10 [==============================] - 0s 664us/step\n",
      "\n",
      "   -- ITERATION 1  STEP 2\n",
      "\n",
      "Epoch 1/20\n",
      "75/75 [==============================] - 1s 4ms/step - loss: 0.1702 - accuracy: 0.2509 - val_loss: 0.1714 - val_accuracy: 0.2473\n",
      "Epoch 2/20\n",
      "75/75 [==============================] - 0s 3ms/step - loss: 0.1702 - accuracy: 0.2509 - val_loss: 0.1717 - val_accuracy: 0.2473\n",
      "Epoch 3/20\n",
      "75/75 [==============================] - 0s 3ms/step - loss: 0.1702 - accuracy: 0.2509 - val_loss: 0.1714 - val_accuracy: 0.2473\n",
      "Epoch 4/20\n",
      "75/75 [==============================] - 0s 2ms/step - loss: 0.1702 - accuracy: 0.2509 - val_loss: 0.1715 - val_accuracy: 0.2473\n",
      "Epoch 5/20\n",
      "75/75 [==============================] - 0s 3ms/step - loss: 0.1702 - accuracy: 0.2509 - val_loss: 0.1714 - val_accuracy: 0.2473\n",
      "Epoch 6/20\n",
      "75/75 [==============================] - 0s 3ms/step - loss: 0.1702 - accuracy: 0.2509 - val_loss: 0.1716 - val_accuracy: 0.2473\n",
      "Epoch 7/20\n",
      "75/75 [==============================] - 0s 3ms/step - loss: 0.1702 - accuracy: 0.2509 - val_loss: 0.1715 - val_accuracy: 0.2473\n",
      "Epoch 8/20\n",
      "75/75 [==============================] - 0s 3ms/step - loss: 0.1702 - accuracy: 0.2509 - val_loss: 0.1716 - val_accuracy: 0.2473\n",
      "Epoch 9/20\n",
      "75/75 [==============================] - 0s 3ms/step - loss: 0.1701 - accuracy: 0.2509 - val_loss: 0.1714 - val_accuracy: 0.2473\n",
      "Epoch 10/20\n",
      "75/75 [==============================] - 0s 2ms/step - loss: 0.1702 - accuracy: 0.2509 - val_loss: 0.1714 - val_accuracy: 0.2473\n",
      "Epoch 11/20\n",
      "75/75 [==============================] - 0s 3ms/step - loss: 0.1702 - accuracy: 0.2509 - val_loss: 0.1715 - val_accuracy: 0.2473\n",
      "Epoch 12/20\n",
      "75/75 [==============================] - 0s 3ms/step - loss: 0.1701 - accuracy: 0.2509 - val_loss: 0.1716 - val_accuracy: 0.2473\n",
      "Epoch 13/20\n",
      "75/75 [==============================] - 0s 3ms/step - loss: 0.1702 - accuracy: 0.2509 - val_loss: 0.1714 - val_accuracy: 0.2473\n",
      "Epoch 14/20\n",
      "75/75 [==============================] - 0s 3ms/step - loss: 0.1702 - accuracy: 0.2509 - val_loss: 0.1715 - val_accuracy: 0.2473\n",
      "Epoch 15/20\n",
      "75/75 [==============================] - 0s 3ms/step - loss: 0.1702 - accuracy: 0.2509 - val_loss: 0.1714 - val_accuracy: 0.2473\n",
      "Epoch 16/20\n",
      "75/75 [==============================] - 0s 2ms/step - loss: 0.1702 - accuracy: 0.2509 - val_loss: 0.1714 - val_accuracy: 0.2473\n",
      "Epoch 17/20\n",
      "75/75 [==============================] - 0s 3ms/step - loss: 0.1702 - accuracy: 0.2509 - val_loss: 0.1715 - val_accuracy: 0.2473\n",
      "Epoch 18/20\n",
      "75/75 [==============================] - 0s 3ms/step - loss: 0.1701 - accuracy: 0.2509 - val_loss: 0.1714 - val_accuracy: 0.2473\n",
      "Epoch 19/20\n",
      "75/75 [==============================] - 0s 3ms/step - loss: 0.1702 - accuracy: 0.2509 - val_loss: 0.1715 - val_accuracy: 0.2473\n",
      "Epoch 20/20\n",
      "75/75 [==============================] - 0s 3ms/step - loss: 0.1702 - accuracy: 0.2509 - val_loss: 0.1714 - val_accuracy: 0.2473\n",
      "10/10 [==============================] - 0s 694us/step\n",
      "\n",
      "ITERATION: 2\n",
      "\n",
      "   -- ITERATION 2  STEP 1\n",
      "\n",
      "Epoch 1/20\n",
      "9/9 [==============================] - 1s 18ms/step - loss: 0.1928 - accuracy: 0.4548 - val_loss: 0.1671 - val_accuracy: 0.4537\n",
      "Epoch 2/20\n",
      "9/9 [==============================] - 0s 5ms/step - loss: 0.1532 - accuracy: 0.4548 - val_loss: 0.1456 - val_accuracy: 0.4537\n",
      "Epoch 3/20\n",
      "9/9 [==============================] - 0s 5ms/step - loss: 0.1389 - accuracy: 0.4548 - val_loss: 0.1371 - val_accuracy: 0.4537\n",
      "Epoch 4/20\n",
      "9/9 [==============================] - 0s 4ms/step - loss: 0.1333 - accuracy: 0.4548 - val_loss: 0.1335 - val_accuracy: 0.4537\n",
      "Epoch 5/20\n",
      "9/9 [==============================] - 0s 5ms/step - loss: 0.1313 - accuracy: 0.4519 - val_loss: 0.1325 - val_accuracy: 0.4202\n",
      "Epoch 6/20\n",
      "9/9 [==============================] - 0s 5ms/step - loss: 0.1309 - accuracy: 0.3808 - val_loss: 0.1323 - val_accuracy: 0.3740\n",
      "Epoch 7/20\n",
      "9/9 [==============================] - 0s 4ms/step - loss: 0.1307 - accuracy: 0.3958 - val_loss: 0.1322 - val_accuracy: 0.4219\n",
      "Epoch 8/20\n",
      "9/9 [==============================] - 0s 5ms/step - loss: 0.1306 - accuracy: 0.4375 - val_loss: 0.1322 - val_accuracy: 0.4512\n",
      "Epoch 9/20\n",
      "9/9 [==============================] - 0s 5ms/step - loss: 0.1305 - accuracy: 0.4538 - val_loss: 0.1322 - val_accuracy: 0.4535\n",
      "Epoch 10/20\n",
      "9/9 [==============================] - 0s 5ms/step - loss: 0.1305 - accuracy: 0.4548 - val_loss: 0.1321 - val_accuracy: 0.4536\n",
      "Epoch 11/20\n",
      "9/9 [==============================] - 0s 5ms/step - loss: 0.1304 - accuracy: 0.4547 - val_loss: 0.1321 - val_accuracy: 0.4536\n",
      "Epoch 12/20\n",
      "9/9 [==============================] - 0s 4ms/step - loss: 0.1304 - accuracy: 0.4548 - val_loss: 0.1321 - val_accuracy: 0.4537\n",
      "Epoch 13/20\n",
      "9/9 [==============================] - 0s 4ms/step - loss: 0.1304 - accuracy: 0.4548 - val_loss: 0.1321 - val_accuracy: 0.4537\n",
      "Epoch 14/20\n",
      "9/9 [==============================] - 0s 5ms/step - loss: 0.1304 - accuracy: 0.4548 - val_loss: 0.1320 - val_accuracy: 0.4537\n",
      "Epoch 15/20\n",
      "9/9 [==============================] - 0s 4ms/step - loss: 0.1303 - accuracy: 0.4548 - val_loss: 0.1320 - val_accuracy: 0.4537\n",
      "Epoch 16/20\n",
      "9/9 [==============================] - 0s 5ms/step - loss: 0.1303 - accuracy: 0.4548 - val_loss: 0.1320 - val_accuracy: 0.4537\n",
      "Epoch 17/20\n",
      "9/9 [==============================] - 0s 5ms/step - loss: 0.1303 - accuracy: 0.4548 - val_loss: 0.1320 - val_accuracy: 0.4537\n",
      "Epoch 18/20\n"
     ]
    },
    {
     "name": "stdout",
     "output_type": "stream",
     "text": [
      "9/9 [==============================] - 0s 5ms/step - loss: 0.1303 - accuracy: 0.4548 - val_loss: 0.1320 - val_accuracy: 0.4537\n",
      "Epoch 19/20\n",
      "9/9 [==============================] - 0s 5ms/step - loss: 0.1303 - accuracy: 0.4503 - val_loss: 0.1320 - val_accuracy: 0.4431\n",
      "Epoch 20/20\n",
      "9/9 [==============================] - 0s 5ms/step - loss: 0.1303 - accuracy: 0.4513 - val_loss: 0.1320 - val_accuracy: 0.4523\n",
      "10/10 [==============================] - 0s 594us/step\n",
      "10/10 [==============================] - 0s 606us/step\n",
      "\n",
      "   -- ITERATION 2  STEP 2\n",
      "\n",
      "Epoch 1/20\n",
      "75/75 [==============================] - 1s 4ms/step - loss: 0.1986 - accuracy: 0.2500 - val_loss: 0.1627 - val_accuracy: 0.2501\n",
      "Epoch 2/20\n",
      "75/75 [==============================] - 0s 3ms/step - loss: 0.1626 - accuracy: 0.2500 - val_loss: 0.1626 - val_accuracy: 0.2501\n",
      "Epoch 3/20\n",
      "75/75 [==============================] - 0s 3ms/step - loss: 0.1626 - accuracy: 0.2500 - val_loss: 0.1626 - val_accuracy: 0.2501\n",
      "Epoch 4/20\n",
      "75/75 [==============================] - 0s 3ms/step - loss: 0.1626 - accuracy: 0.2500 - val_loss: 0.1626 - val_accuracy: 0.2501\n",
      "Epoch 5/20\n",
      "75/75 [==============================] - 0s 3ms/step - loss: 0.1625 - accuracy: 0.2500 - val_loss: 0.1626 - val_accuracy: 0.2501\n",
      "Epoch 6/20\n",
      "75/75 [==============================] - 0s 3ms/step - loss: 0.1626 - accuracy: 0.2500 - val_loss: 0.1626 - val_accuracy: 0.2501\n",
      "Epoch 7/20\n",
      "75/75 [==============================] - 0s 3ms/step - loss: 0.1625 - accuracy: 0.2500 - val_loss: 0.1626 - val_accuracy: 0.2501\n",
      "Epoch 8/20\n",
      "75/75 [==============================] - 0s 3ms/step - loss: 0.1626 - accuracy: 0.2500 - val_loss: 0.1626 - val_accuracy: 0.2501\n",
      "Epoch 9/20\n",
      "75/75 [==============================] - 0s 3ms/step - loss: 0.1625 - accuracy: 0.2500 - val_loss: 0.1626 - val_accuracy: 0.2501\n",
      "Epoch 10/20\n",
      "75/75 [==============================] - 0s 3ms/step - loss: 0.1626 - accuracy: 0.2500 - val_loss: 0.1626 - val_accuracy: 0.2501\n",
      "Epoch 11/20\n",
      "75/75 [==============================] - 0s 3ms/step - loss: 0.1626 - accuracy: 0.2500 - val_loss: 0.1626 - val_accuracy: 0.2501\n",
      "Epoch 12/20\n",
      "75/75 [==============================] - 0s 3ms/step - loss: 0.1626 - accuracy: 0.2500 - val_loss: 0.1626 - val_accuracy: 0.2501\n",
      "Epoch 13/20\n",
      "75/75 [==============================] - 0s 3ms/step - loss: 0.1626 - accuracy: 0.2500 - val_loss: 0.1626 - val_accuracy: 0.2501\n",
      "Epoch 14/20\n",
      "75/75 [==============================] - 0s 3ms/step - loss: 0.1626 - accuracy: 0.2500 - val_loss: 0.1626 - val_accuracy: 0.2501\n",
      "Epoch 15/20\n",
      "75/75 [==============================] - 0s 2ms/step - loss: 0.1626 - accuracy: 0.2500 - val_loss: 0.1626 - val_accuracy: 0.2501\n",
      "Epoch 16/20\n",
      "75/75 [==============================] - 0s 3ms/step - loss: 0.1626 - accuracy: 0.2500 - val_loss: 0.1626 - val_accuracy: 0.2501\n",
      "Epoch 17/20\n",
      "75/75 [==============================] - 0s 3ms/step - loss: 0.1626 - accuracy: 0.2500 - val_loss: 0.1626 - val_accuracy: 0.2501\n",
      "Epoch 18/20\n",
      "75/75 [==============================] - 0s 3ms/step - loss: 0.1626 - accuracy: 0.2500 - val_loss: 0.1626 - val_accuracy: 0.2501\n",
      "Epoch 19/20\n",
      "75/75 [==============================] - 0s 3ms/step - loss: 0.1626 - accuracy: 0.2500 - val_loss: 0.1626 - val_accuracy: 0.2501\n",
      "Epoch 20/20\n",
      "75/75 [==============================] - 0s 2ms/step - loss: 0.1626 - accuracy: 0.2500 - val_loss: 0.1626 - val_accuracy: 0.2501\n",
      "10/10 [==============================] - 0s 661us/step\n",
      "\n",
      "ITERATION: 3\n",
      "\n",
      "   -- ITERATION 3  STEP 1\n",
      "\n",
      "Epoch 1/20\n",
      "9/9 [==============================] - 1s 18ms/step - loss: 0.1977 - accuracy: 0.4547 - val_loss: 0.1666 - val_accuracy: 0.4540\n",
      "Epoch 2/20\n",
      "9/9 [==============================] - 0s 5ms/step - loss: 0.1516 - accuracy: 0.4547 - val_loss: 0.1401 - val_accuracy: 0.4540\n",
      "Epoch 3/20\n",
      "9/9 [==============================] - 0s 4ms/step - loss: 0.1336 - accuracy: 0.4547 - val_loss: 0.1296 - val_accuracy: 0.4540\n",
      "Epoch 4/20\n",
      "9/9 [==============================] - 0s 5ms/step - loss: 0.1265 - accuracy: 0.4547 - val_loss: 0.1257 - val_accuracy: 0.4212\n",
      "Epoch 5/20\n",
      "9/9 [==============================] - 0s 5ms/step - loss: 0.1245 - accuracy: 0.2669 - val_loss: 0.1254 - val_accuracy: 0.1427\n",
      "Epoch 6/20\n",
      "9/9 [==============================] - 0s 5ms/step - loss: 0.1247 - accuracy: 0.1259 - val_loss: 0.1253 - val_accuracy: 0.1265\n",
      "Epoch 7/20\n",
      "9/9 [==============================] - 0s 4ms/step - loss: 0.1245 - accuracy: 0.1368 - val_loss: 0.1252 - val_accuracy: 0.2098\n",
      "Epoch 8/20\n",
      "9/9 [==============================] - 0s 4ms/step - loss: 0.1244 - accuracy: 0.2856 - val_loss: 0.1252 - val_accuracy: 0.3340\n",
      "Epoch 9/20\n",
      "9/9 [==============================] - 0s 5ms/step - loss: 0.1244 - accuracy: 0.3291 - val_loss: 0.1252 - val_accuracy: 0.3106\n",
      "Epoch 10/20\n",
      "9/9 [==============================] - 0s 5ms/step - loss: 0.1244 - accuracy: 0.2898 - val_loss: 0.1252 - val_accuracy: 0.2617\n",
      "Epoch 11/20\n",
      "9/9 [==============================] - 0s 5ms/step - loss: 0.1243 - accuracy: 0.2470 - val_loss: 0.1252 - val_accuracy: 0.2475\n",
      "Epoch 12/20\n",
      "9/9 [==============================] - 0s 5ms/step - loss: 0.1243 - accuracy: 0.2635 - val_loss: 0.1252 - val_accuracy: 0.2786\n",
      "Epoch 13/20\n",
      "9/9 [==============================] - 0s 5ms/step - loss: 0.1243 - accuracy: 0.2744 - val_loss: 0.1251 - val_accuracy: 0.2663\n",
      "Epoch 14/20\n",
      "9/9 [==============================] - 0s 4ms/step - loss: 0.1243 - accuracy: 0.2524 - val_loss: 0.1251 - val_accuracy: 0.2518\n",
      "Epoch 15/20\n",
      "9/9 [==============================] - 0s 4ms/step - loss: 0.1243 - accuracy: 0.2603 - val_loss: 0.1252 - val_accuracy: 0.2741\n",
      "Epoch 16/20\n",
      "9/9 [==============================] - 0s 4ms/step - loss: 0.1243 - accuracy: 0.2864 - val_loss: 0.1252 - val_accuracy: 0.2882\n",
      "Epoch 17/20\n",
      "9/9 [==============================] - 0s 4ms/step - loss: 0.1243 - accuracy: 0.2860 - val_loss: 0.1252 - val_accuracy: 0.2650\n",
      "Epoch 18/20\n",
      "9/9 [==============================] - 0s 4ms/step - loss: 0.1243 - accuracy: 0.2487 - val_loss: 0.1252 - val_accuracy: 0.2450\n",
      "Epoch 19/20\n",
      "9/9 [==============================] - 0s 4ms/step - loss: 0.1243 - accuracy: 0.2518 - val_loss: 0.1252 - val_accuracy: 0.2674\n",
      "Epoch 20/20\n",
      "9/9 [==============================] - 0s 4ms/step - loss: 0.1243 - accuracy: 0.2872 - val_loss: 0.1252 - val_accuracy: 0.2854\n",
      "10/10 [==============================] - 0s 633us/step\n",
      "10/10 [==============================] - 0s 628us/step\n",
      "\n",
      "   -- ITERATION 3  STEP 2\n",
      "\n",
      "Epoch 1/20\n",
      "75/75 [==============================] - 1s 4ms/step - loss: 0.1994 - accuracy: 0.2530 - val_loss: 0.1632 - val_accuracy: 0.2514\n",
      "Epoch 2/20\n",
      "75/75 [==============================] - 0s 3ms/step - loss: 0.1636 - accuracy: 0.2495 - val_loss: 0.1632 - val_accuracy: 0.2514\n",
      "Epoch 3/20\n",
      "75/75 [==============================] - 0s 3ms/step - loss: 0.1636 - accuracy: 0.2495 - val_loss: 0.1632 - val_accuracy: 0.2514\n",
      "Epoch 4/20\n",
      "75/75 [==============================] - 0s 3ms/step - loss: 0.1636 - accuracy: 0.2495 - val_loss: 0.1632 - val_accuracy: 0.2514\n",
      "Epoch 5/20\n",
      "75/75 [==============================] - 0s 3ms/step - loss: 0.1636 - accuracy: 0.2495 - val_loss: 0.1632 - val_accuracy: 0.2514\n",
      "Epoch 6/20\n",
      "75/75 [==============================] - 0s 3ms/step - loss: 0.1636 - accuracy: 0.2495 - val_loss: 0.1633 - val_accuracy: 0.2514\n",
      "Epoch 7/20\n",
      "75/75 [==============================] - 0s 3ms/step - loss: 0.1636 - accuracy: 0.2495 - val_loss: 0.1632 - val_accuracy: 0.2514\n",
      "Epoch 8/20\n",
      "75/75 [==============================] - 0s 3ms/step - loss: 0.1636 - accuracy: 0.2495 - val_loss: 0.1632 - val_accuracy: 0.2514\n",
      "Epoch 9/20\n",
      "75/75 [==============================] - 0s 3ms/step - loss: 0.1636 - accuracy: 0.2495 - val_loss: 0.1632 - val_accuracy: 0.2514\n",
      "Epoch 10/20\n",
      "75/75 [==============================] - 0s 3ms/step - loss: 0.1636 - accuracy: 0.2495 - val_loss: 0.1632 - val_accuracy: 0.2514\n",
      "Epoch 11/20\n",
      "75/75 [==============================] - 0s 2ms/step - loss: 0.1636 - accuracy: 0.2495 - val_loss: 0.1632 - val_accuracy: 0.2514\n",
      "Epoch 12/20\n",
      "75/75 [==============================] - 0s 3ms/step - loss: 0.1636 - accuracy: 0.2495 - val_loss: 0.1632 - val_accuracy: 0.2514\n",
      "Epoch 13/20\n",
      "75/75 [==============================] - 0s 3ms/step - loss: 0.1636 - accuracy: 0.2495 - val_loss: 0.1632 - val_accuracy: 0.2514\n",
      "Epoch 14/20\n"
     ]
    },
    {
     "name": "stdout",
     "output_type": "stream",
     "text": [
      "75/75 [==============================] - 0s 3ms/step - loss: 0.1636 - accuracy: 0.2495 - val_loss: 0.1632 - val_accuracy: 0.2514\n",
      "Epoch 15/20\n",
      "75/75 [==============================] - 0s 3ms/step - loss: 0.1636 - accuracy: 0.2495 - val_loss: 0.1632 - val_accuracy: 0.2514\n",
      "Epoch 16/20\n",
      "75/75 [==============================] - 0s 3ms/step - loss: 0.1636 - accuracy: 0.2495 - val_loss: 0.1632 - val_accuracy: 0.2514\n",
      "Epoch 17/20\n",
      "75/75 [==============================] - 0s 2ms/step - loss: 0.1636 - accuracy: 0.2495 - val_loss: 0.1632 - val_accuracy: 0.2514\n",
      "Epoch 18/20\n",
      "75/75 [==============================] - 0s 3ms/step - loss: 0.1636 - accuracy: 0.2495 - val_loss: 0.1632 - val_accuracy: 0.2514\n",
      "Epoch 19/20\n",
      "75/75 [==============================] - 0s 3ms/step - loss: 0.1636 - accuracy: 0.2495 - val_loss: 0.1632 - val_accuracy: 0.2514\n",
      "Epoch 20/20\n",
      "75/75 [==============================] - 0s 3ms/step - loss: 0.1636 - accuracy: 0.2495 - val_loss: 0.1632 - val_accuracy: 0.2514\n",
      "10/10 [==============================] - 0s 696us/step\n",
      "\n",
      "ITERATION: 4\n",
      "\n",
      "   -- ITERATION 4  STEP 1\n",
      "\n",
      "Epoch 1/20\n",
      "9/9 [==============================] - 1s 18ms/step - loss: 0.2033 - accuracy: 0.4543 - val_loss: 0.1630 - val_accuracy: 0.4553\n",
      "Epoch 2/20\n",
      "9/9 [==============================] - 0s 5ms/step - loss: 0.1522 - accuracy: 0.4543 - val_loss: 0.1338 - val_accuracy: 0.4553\n",
      "Epoch 3/20\n",
      "9/9 [==============================] - 0s 4ms/step - loss: 0.1303 - accuracy: 0.4543 - val_loss: 0.1225 - val_accuracy: 0.4553\n",
      "Epoch 4/20\n",
      "9/9 [==============================] - 0s 5ms/step - loss: 0.1229 - accuracy: 0.3219 - val_loss: 0.1209 - val_accuracy: 0.1292\n",
      "Epoch 5/20\n",
      "9/9 [==============================] - 0s 5ms/step - loss: 0.1225 - accuracy: 0.1022 - val_loss: 0.1213 - val_accuracy: 0.0894\n",
      "Epoch 6/20\n",
      "9/9 [==============================] - 0s 5ms/step - loss: 0.1223 - accuracy: 0.0915 - val_loss: 0.1208 - val_accuracy: 0.0907\n",
      "Epoch 7/20\n",
      "9/9 [==============================] - 0s 4ms/step - loss: 0.1220 - accuracy: 0.0975 - val_loss: 0.1207 - val_accuracy: 0.1138\n",
      "Epoch 8/20\n",
      "9/9 [==============================] - 0s 4ms/step - loss: 0.1220 - accuracy: 0.1267 - val_loss: 0.1207 - val_accuracy: 0.1347\n",
      "Epoch 9/20\n",
      "9/9 [==============================] - 0s 4ms/step - loss: 0.1220 - accuracy: 0.1314 - val_loss: 0.1207 - val_accuracy: 0.1129\n",
      "Epoch 10/20\n",
      "9/9 [==============================] - 0s 4ms/step - loss: 0.1219 - accuracy: 0.1072 - val_loss: 0.1207 - val_accuracy: 0.0974\n",
      "Epoch 11/20\n",
      "9/9 [==============================] - 0s 4ms/step - loss: 0.1219 - accuracy: 0.0954 - val_loss: 0.1207 - val_accuracy: 0.0929\n",
      "Epoch 12/20\n",
      "9/9 [==============================] - 0s 4ms/step - loss: 0.1219 - accuracy: 0.0983 - val_loss: 0.1207 - val_accuracy: 0.1055\n",
      "Epoch 13/20\n",
      "9/9 [==============================] - 0s 4ms/step - loss: 0.1219 - accuracy: 0.1125 - val_loss: 0.1207 - val_accuracy: 0.1143\n",
      "Epoch 14/20\n",
      "9/9 [==============================] - 0s 4ms/step - loss: 0.1219 - accuracy: 0.1156 - val_loss: 0.1207 - val_accuracy: 0.1110\n",
      "Epoch 15/20\n",
      "9/9 [==============================] - 0s 4ms/step - loss: 0.1219 - accuracy: 0.1089 - val_loss: 0.1207 - val_accuracy: 0.1028\n",
      "Epoch 16/20\n",
      "9/9 [==============================] - 0s 4ms/step - loss: 0.1219 - accuracy: 0.1058 - val_loss: 0.1207 - val_accuracy: 0.1114\n",
      "Epoch 17/20\n",
      "9/9 [==============================] - 0s 4ms/step - loss: 0.1219 - accuracy: 0.1185 - val_loss: 0.1207 - val_accuracy: 0.1238\n",
      "Epoch 18/20\n",
      "9/9 [==============================] - 0s 4ms/step - loss: 0.1219 - accuracy: 0.1258 - val_loss: 0.1207 - val_accuracy: 0.1245\n",
      "Epoch 19/20\n",
      "9/9 [==============================] - 0s 4ms/step - loss: 0.1219 - accuracy: 0.1318 - val_loss: 0.1207 - val_accuracy: 0.1353\n",
      "Epoch 20/20\n",
      "9/9 [==============================] - 0s 4ms/step - loss: 0.1219 - accuracy: 0.1396 - val_loss: 0.1207 - val_accuracy: 0.1392\n",
      "10/10 [==============================] - 0s 592us/step\n",
      "10/10 [==============================] - 0s 606us/step\n",
      "\n",
      "   -- ITERATION 4  STEP 2\n",
      "\n",
      "Epoch 1/20\n",
      "75/75 [==============================] - 1s 4ms/step - loss: 0.1996 - accuracy: 0.2560 - val_loss: 0.1652 - val_accuracy: 0.2511\n",
      "Epoch 2/20\n",
      "75/75 [==============================] - 0s 2ms/step - loss: 0.1657 - accuracy: 0.2496 - val_loss: 0.1651 - val_accuracy: 0.2511\n",
      "Epoch 3/20\n",
      "75/75 [==============================] - 0s 3ms/step - loss: 0.1657 - accuracy: 0.2496 - val_loss: 0.1651 - val_accuracy: 0.2511\n",
      "Epoch 4/20\n",
      "75/75 [==============================] - 0s 3ms/step - loss: 0.1657 - accuracy: 0.2496 - val_loss: 0.1651 - val_accuracy: 0.2511\n",
      "Epoch 5/20\n",
      "75/75 [==============================] - 0s 3ms/step - loss: 0.1657 - accuracy: 0.2496 - val_loss: 0.1652 - val_accuracy: 0.2511\n",
      "Epoch 6/20\n",
      "75/75 [==============================] - 0s 3ms/step - loss: 0.1657 - accuracy: 0.2496 - val_loss: 0.1651 - val_accuracy: 0.2511\n",
      "Epoch 7/20\n",
      "75/75 [==============================] - 0s 3ms/step - loss: 0.1657 - accuracy: 0.2496 - val_loss: 0.1651 - val_accuracy: 0.2511\n",
      "Epoch 8/20\n",
      "75/75 [==============================] - 0s 3ms/step - loss: 0.1657 - accuracy: 0.2496 - val_loss: 0.1651 - val_accuracy: 0.2511\n",
      "Epoch 9/20\n",
      "75/75 [==============================] - 0s 2ms/step - loss: 0.1657 - accuracy: 0.2496 - val_loss: 0.1651 - val_accuracy: 0.2511\n",
      "Epoch 10/20\n",
      "75/75 [==============================] - 0s 2ms/step - loss: 0.1657 - accuracy: 0.2496 - val_loss: 0.1652 - val_accuracy: 0.2511\n",
      "Epoch 11/20\n",
      "75/75 [==============================] - 0s 3ms/step - loss: 0.1657 - accuracy: 0.2496 - val_loss: 0.1651 - val_accuracy: 0.2511\n",
      "Epoch 12/20\n",
      "75/75 [==============================] - 0s 3ms/step - loss: 0.1657 - accuracy: 0.2496 - val_loss: 0.1651 - val_accuracy: 0.2511\n",
      "Epoch 13/20\n",
      "75/75 [==============================] - 0s 3ms/step - loss: 0.1657 - accuracy: 0.2496 - val_loss: 0.1652 - val_accuracy: 0.2511\n",
      "Epoch 14/20\n",
      "75/75 [==============================] - 0s 3ms/step - loss: 0.1657 - accuracy: 0.2496 - val_loss: 0.1651 - val_accuracy: 0.2511\n",
      "Epoch 15/20\n",
      "75/75 [==============================] - 0s 3ms/step - loss: 0.1657 - accuracy: 0.2496 - val_loss: 0.1651 - val_accuracy: 0.2511\n",
      "Epoch 16/20\n",
      "75/75 [==============================] - 0s 2ms/step - loss: 0.1657 - accuracy: 0.2496 - val_loss: 0.1652 - val_accuracy: 0.2511\n",
      "Epoch 17/20\n",
      "75/75 [==============================] - 0s 3ms/step - loss: 0.1657 - accuracy: 0.2496 - val_loss: 0.1652 - val_accuracy: 0.2511\n",
      "Epoch 18/20\n",
      "75/75 [==============================] - 0s 3ms/step - loss: 0.1657 - accuracy: 0.2496 - val_loss: 0.1652 - val_accuracy: 0.2511\n",
      "Epoch 19/20\n",
      "75/75 [==============================] - 0s 3ms/step - loss: 0.1658 - accuracy: 0.2496 - val_loss: 0.1652 - val_accuracy: 0.2511\n",
      "Epoch 20/20\n",
      "75/75 [==============================] - 0s 2ms/step - loss: 0.1657 - accuracy: 0.2496 - val_loss: 0.1652 - val_accuracy: 0.2511\n",
      "10/10 [==============================] - 0s 672us/step\n",
      "CPU times: user 34.6 s, sys: 3.71 s, total: 38.4 s\n",
      "Wall time: 28.4 s\n"
     ]
    }
   ],
   "source": [
    "%%time\n",
    "\n",
    "\n",
    "verbose = True\n",
    "\n",
    "of_niter = 4\n",
    "\n",
    "of_weights = of.omnifold( train_both, true_det_pts, of_niter, model, verbose)"
   ]
  },
  {
   "cell_type": "code",
   "execution_count": null,
   "id": "a8f592ba",
   "metadata": {},
   "outputs": [],
   "source": []
  },
  {
   "cell_type": "code",
   "execution_count": 17,
   "id": "e2f4beab",
   "metadata": {},
   "outputs": [
    {
     "data": {
      "text/plain": [
       "array([[[0.11424162, 0.10531639, 0.11092789, ..., 0.13363035,\n",
       "         0.09064569, 0.11782184],\n",
       "        [0.12032588, 0.10010104, 0.12818137, ..., 0.12947142,\n",
       "         0.10025678, 0.09963068]],\n",
       "\n",
       "       [[0.90445864, 0.91704077, 0.91746181, ..., 0.97456646,\n",
       "         0.82585585, 0.95439553],\n",
       "        [0.1143575 , 0.09106165, 0.12172879, ..., 0.12552927,\n",
       "         0.08637606, 0.08877317]],\n",
       "\n",
       "       [[1.04471803, 1.04094887, 1.04763436, ..., 1.07784033,\n",
       "         0.96689373, 1.08265567],\n",
       "        [0.11234094, 0.08250213, 0.11829364, ..., 0.12461292,\n",
       "         0.0801382 , 0.08090886]],\n",
       "\n",
       "       [[1.07014513, 1.18532014, 1.17453694, ..., 1.10417938,\n",
       "         1.05810213, 1.17926991],\n",
       "        [0.12462258, 0.08603258, 0.13079964, ..., 0.13709782,\n",
       "         0.08384567, 0.08562738]]])"
      ]
     },
     "execution_count": 17,
     "metadata": {},
     "output_type": "execute_result"
    }
   ],
   "source": [
    "of_weights"
   ]
  },
  {
   "cell_type": "code",
   "execution_count": 18,
   "id": "c189795a",
   "metadata": {},
   "outputs": [
    {
     "data": {
      "text/plain": [
       "(4, 2, 100000)"
      ]
     },
     "execution_count": 18,
     "metadata": {},
     "output_type": "execute_result"
    }
   ],
   "source": [
    "np.shape( of_weights)"
   ]
  },
  {
   "cell_type": "code",
   "execution_count": null,
   "id": "4ee1b3b1",
   "metadata": {},
   "outputs": [],
   "source": []
  },
  {
   "cell_type": "code",
   "execution_count": null,
   "id": "27f799d0",
   "metadata": {},
   "outputs": [],
   "source": []
  },
  {
   "cell_type": "code",
   "execution_count": 19,
   "id": "3b7af418",
   "metadata": {
    "scrolled": false
   },
   "outputs": [
    {
     "data": {
      "text/plain": [
       "<function matplotlib.pyplot.show(close=None, block=None)>"
      ]
     },
     "execution_count": 19,
     "metadata": {},
     "output_type": "execute_result"
    },
    {
     "data": {
      "image/png": "[encoded data removed]",
      "text/plain": [
       "<Figure size 1296x2016 with 8 Axes>"
      ]
     },
     "metadata": {
      "needs_background": "light"
     },
     "output_type": "display_data"
    }
   ],
   "source": [
    "\n",
    "\n",
    "fig,ax = plt.subplots( of_niter, 2, figsize=(18,7*of_niter))\n",
    "\n",
    "hmin=-6\n",
    "hmax=6\n",
    "hbins=40\n",
    "\n",
    "lfontsize = 17\n",
    "\n",
    "plt.subplots_adjust( hspace=0.30)\n",
    "plt.subplots_adjust( wspace=0.25)\n",
    "\n",
    "\n",
    "\n",
    "for ofi in range(0,of_niter) :\n",
    "\n",
    "    ax[ofi][0].hist( train_pts[:,0], bins=hbins, range=[hmin,hmax], density=True, label='train particle' )\n",
    "    ax[ofi][0].hist( train_pts[:,0], weights=of_weights[ofi,1,:], bins=hbins, range=[hmin,hmax], density=True, label='OF weighted particle', alpha=0.5 )\n",
    "    ax[ofi][0].hist( true_pts[:,0], bins=hbins, range=[hmin,hmax], density=True, label='true particle', histtype='step', color='black' )\n",
    "\n",
    "    ax[ofi][1].hist( train_pts[:,1], bins=hbins, range=[hmin,hmax], density=True, label='train particle' )\n",
    "    ax[ofi][1].hist( train_pts[:,1], weights=of_weights[ofi,1,:], bins=hbins, range=[hmin,hmax], density=True, label='OF weighted particle', alpha=0.5 )\n",
    "    ax[ofi][1].hist( true_pts[:,1], bins=hbins, range=[hmin,hmax], density=True, label='true particle', histtype='step', color='black' )\n",
    "\n",
    "\n",
    "    ax[ofi][0].legend(loc='best', fontsize=13)\n",
    "    ax[ofi][1].legend(loc='best', fontsize=13)\n",
    "    \n",
    "    \n",
    "    ax[ofi][0].set_xlabel('Feature 0', fontsize=lfontsize )\n",
    "    \n",
    "    ax[ofi][1].set_xlabel('Feature 1', fontsize=lfontsize )\n",
    "    \n",
    "    ax[ofi][0].set_title('Iteration %d' % ofi, fontsize=lfontsize )\n",
    "\n",
    "\n",
    "\n",
    "plt.show"
   ]
  },
  {
   "cell_type": "code",
   "execution_count": null,
   "id": "0090778c",
   "metadata": {},
   "outputs": [],
   "source": []
  },
  {
   "cell_type": "code",
   "execution_count": 20,
   "id": "c96c300d",
   "metadata": {
    "scrolled": false
   },
   "outputs": [
    {
     "data": {
      "text/plain": [
       "<function matplotlib.pyplot.show(close=None, block=None)>"
      ]
     },
     "execution_count": 20,
     "metadata": {},
     "output_type": "execute_result"
    },
    {
     "data": {
      "image/png": "[encoded data removed]",
      "text/plain": [
       "<Figure size 1296x2016 with 12 Axes>"
      ]
     },
     "metadata": {
      "needs_background": "light"
     },
     "output_type": "display_data"
    }
   ],
   "source": [
    "fig,ax = plt.subplots( of_niter, 3, figsize=(18,7*of_niter))\n",
    "\n",
    "hmin=-6\n",
    "hmax=6\n",
    "hbins=40\n",
    "\n",
    "lfontsize = 17\n",
    "\n",
    "plt.subplots_adjust( hspace=0.30)\n",
    "plt.subplots_adjust( wspace=0.25)\n",
    "\n",
    "for ofi in range(0,of_niter) :\n",
    "\n",
    "    ax[ofi][0].hist( of_weights[ofi,0,:], bins=hbins )\n",
    "    ax[ofi][1].hist( of_weights[ofi,1,:], bins=hbins )\n",
    "    ax[ofi][2].hist2d( of_weights[ofi,0,:], of_weights[ofi,1,:], bins=[hbins,hbins] )\n",
    "    \n",
    "    ax[ofi][0].set_xlabel( 'step 1 weight', fontsize=lfontsize )\n",
    "    \n",
    "    ax[ofi][1].set_xlabel( 'step 2 weight', fontsize=lfontsize )\n",
    "    \n",
    "    ax[ofi][2].set_xlabel( 'step 1 weight', fontsize=lfontsize )\n",
    "    ax[ofi][2].set_ylabel( 'step 2 weight', fontsize=lfontsize )\n",
    "    \n",
    "    ax[ofi][0].set_title('Iteration %d' % ofi, fontsize=lfontsize )\n",
    "    \n",
    "    \n",
    "plt.show"
   ]
  },
  {
   "cell_type": "code",
   "execution_count": null,
   "id": "dca3a13f",
   "metadata": {},
   "outputs": [],
   "source": []
  },
  {
   "cell_type": "code",
   "execution_count": 21,
   "id": "4948db0a",
   "metadata": {
    "scrolled": false
   },
   "outputs": [
    {
     "data": {
      "text/plain": [
       "<function matplotlib.pyplot.show(close=None, block=None)>"
      ]
     },
     "execution_count": 21,
     "metadata": {},
     "output_type": "execute_result"
    },
    {
     "data": {
      "image/png": "[encoded data removed]",
      "text/plain": [
       "<Figure size 1296x2016 with 12 Axes>"
      ]
     },
     "metadata": {
      "needs_background": "light"
     },
     "output_type": "display_data"
    }
   ],
   "source": [
    "fig,ax = plt.subplots( of_niter, 3, figsize=(18,7*of_niter))\n",
    "\n",
    "hmin=-6\n",
    "hmax=6\n",
    "hbins=40\n",
    "\n",
    "lfontsize = 17\n",
    "\n",
    "plt.subplots_adjust( hspace=0.30)\n",
    "plt.subplots_adjust( wspace=0.25)\n",
    "\n",
    "for ofi in range(0,of_niter) :\n",
    "\n",
    "    ax[ofi][0].hist2d( train_pts[:,0], of_weights[ofi,0,:], bins=[hbins,hbins] )\n",
    "    ax[ofi][1].hist2d( train_pts[:,0], of_weights[ofi,1,:], bins=[hbins,hbins] )\n",
    "    ax[ofi][2].hist2d( of_weights[ofi,0,:], of_weights[ofi,1,:], bins=[hbins,hbins] )\n",
    "    \n",
    "    ax[ofi][0].set_xlabel( 'Feature 0', fontsize=lfontsize )\n",
    "    ax[ofi][0].set_ylabel( 'step 1 weight', fontsize=lfontsize )\n",
    "    \n",
    "    ax[ofi][1].set_xlabel( 'Feature 0', fontsize=lfontsize )\n",
    "    ax[ofi][1].set_ylabel( 'step 2 weight', fontsize=lfontsize )\n",
    "    \n",
    "    ax[ofi][2].set_xlabel( 'step 1 weight', fontsize=lfontsize )\n",
    "    ax[ofi][2].set_ylabel( 'step 2 weight', fontsize=lfontsize )\n",
    "    \n",
    "    ax[ofi][0].set_title('Iteration %d' % ofi, fontsize=lfontsize )\n",
    "    \n",
    "    \n",
    "plt.show"
   ]
  },
  {
   "cell_type": "code",
   "execution_count": null,
   "id": "632b181a",
   "metadata": {},
   "outputs": [],
   "source": []
  },
  {
   "cell_type": "code",
   "execution_count": 22,
   "id": "3b446f9b",
   "metadata": {
    "scrolled": false
   },
   "outputs": [
    {
     "data": {
      "text/plain": [
       "<function matplotlib.pyplot.show(close=None, block=None)>"
      ]
     },
     "execution_count": 22,
     "metadata": {},
     "output_type": "execute_result"
    },
    {
     "data": {
      "image/png": "[encoded data removed]",
      "text/plain": [
       "<Figure size 1296x2016 with 12 Axes>"
      ]
     },
     "metadata": {
      "needs_background": "light"
     },
     "output_type": "display_data"
    }
   ],
   "source": [
    "fig,ax = plt.subplots( of_niter, 3, figsize=(18,7*of_niter))\n",
    "\n",
    "hmin=-6\n",
    "hmax=6\n",
    "hbins=40\n",
    "\n",
    "lfontsize = 17\n",
    "\n",
    "plt.subplots_adjust( hspace=0.30)\n",
    "plt.subplots_adjust( wspace=0.25)\n",
    "\n",
    "for ofi in range(0,of_niter) :\n",
    "\n",
    "    ax[ofi][0].hist2d( train_pts[:,1], of_weights[ofi,0,:], bins=[hbins,hbins] )\n",
    "    ax[ofi][1].hist2d( train_pts[:,1], of_weights[ofi,1,:], bins=[hbins,hbins] )\n",
    "    ax[ofi][2].hist2d( of_weights[ofi,0,:], of_weights[ofi,1,:], bins=[hbins,hbins] )\n",
    "    \n",
    "    ax[ofi][0].set_xlabel( 'Feature 1', fontsize=lfontsize )\n",
    "    ax[ofi][0].set_ylabel( 'step 1 weight', fontsize=lfontsize )\n",
    "    \n",
    "    ax[ofi][1].set_xlabel( 'Feature 1', fontsize=lfontsize )\n",
    "    ax[ofi][1].set_ylabel( 'step 2 weight', fontsize=lfontsize )\n",
    "    \n",
    "    ax[ofi][2].set_xlabel( 'step 1 weight', fontsize=lfontsize )\n",
    "    ax[ofi][2].set_ylabel( 'step 2 weight', fontsize=lfontsize )\n",
    "    \n",
    "    ax[ofi][0].set_title('Iteration %d' % ofi, fontsize=lfontsize )\n",
    "    \n",
    "    \n",
    "plt.show"
   ]
  },
  {
   "cell_type": "code",
   "execution_count": null,
   "id": "3f183a7c",
   "metadata": {},
   "outputs": [],
   "source": []
  },
  {
   "cell_type": "code",
   "execution_count": null,
   "id": "a4896127",
   "metadata": {},
   "outputs": [],
   "source": []
  },
  {
   "cell_type": "code",
   "execution_count": 23,
   "id": "fab9ba7b",
   "metadata": {},
   "outputs": [],
   "source": [
    "max_step2_weight = np.max( of_weights[3,1,:] )"
   ]
  },
  {
   "cell_type": "code",
   "execution_count": null,
   "id": "dc655cf2",
   "metadata": {},
   "outputs": [],
   "source": []
  },
  {
   "cell_type": "code",
   "execution_count": 24,
   "id": "f546fd5e",
   "metadata": {},
   "outputs": [
    {
     "data": {
      "text/plain": [
       "<function matplotlib.pyplot.show(close=None, block=None)>"
      ]
     },
     "execution_count": 24,
     "metadata": {},
     "output_type": "execute_result"
    },
    {
     "data": {
      "image/png": "[encoded data removed]",
      "text/plain": [
       "<Figure size 1296x360 with 3 Axes>"
      ]
     },
     "metadata": {
      "needs_background": "light"
     },
     "output_type": "display_data"
    }
   ],
   "source": [
    "fig,ax = plt.subplots( 1, 3, figsize=(18,5))\n",
    "\n",
    "hmin=-6\n",
    "hmax=6\n",
    "hbins=80\n",
    "\n",
    "ax[0].hist2d( train_pts[:,0], of_weights[3,1,:], bins=[hbins,hbins], range=([hmin,hmax],[0.,1.1*max_step2_weight]))\n",
    "\n",
    "ax[1].hist2d( train_pts[:,1], of_weights[3,1,:], bins=[hbins,hbins], range=([hmin,hmax],[0.,1.1*max_step2_weight]))\n",
    "\n",
    "ax[2].hist2d( of_weights[3,0,:], of_weights[3,1,:], bins=[hbins,hbins], range=([0.,2.],[0.,1.1*max_step2_weight]))\n",
    "\n",
    "\n",
    "lfontsize = 17\n",
    "\n",
    "ax[0].set_xlabel( 'feature 0', fontsize=lfontsize )\n",
    "ax[0].set_ylabel( 'step 2 weight', fontsize=lfontsize )\n",
    "\n",
    "\n",
    "ax[1].set_xlabel( 'feature 1', fontsize=lfontsize )\n",
    "ax[1].set_ylabel( 'step 2 weight', fontsize=lfontsize )\n",
    "\n",
    "ax[2].set_xlabel( 'step 1 weight', fontsize=lfontsize )\n",
    "ax[2].set_ylabel( 'step 2 weight', fontsize=lfontsize )\n",
    "\n",
    "\n",
    "plt.show\n"
   ]
  },
  {
   "cell_type": "code",
   "execution_count": null,
   "id": "c489d65f",
   "metadata": {},
   "outputs": [],
   "source": []
  },
  {
   "cell_type": "markdown",
   "id": "fd4acb71",
   "metadata": {},
   "source": [
    "## Do the bootstrap samples in a loop"
   ]
  },
  {
   "cell_type": "code",
   "execution_count": 25,
   "id": "cb008aaa",
   "metadata": {},
   "outputs": [],
   "source": [
    "n_boot_samples = 80\n",
    "\n",
    "do_bootstrap = True\n",
    "\n",
    "verbose = False\n",
    "\n",
    "bootstrap_weights = np.zeros( shape=(n_boot_samples, len(train_pts) ))"
   ]
  },
  {
   "cell_type": "code",
   "execution_count": 26,
   "id": "4366c370",
   "metadata": {
    "scrolled": true
   },
   "outputs": [
    {
     "name": "stdout",
     "output_type": "stream",
     "text": [
      "\n",
      " Creating bootstrap sample   0\n",
      "10/10 [==============================] - 0s 676us/step\n",
      "10/10 [==============================] - 0s 689us/step\n",
      "10/10 [==============================] - 0s 684us/step\n",
      "10/10 [==============================] - 0s 604us/step\n",
      "10/10 [==============================] - 0s 676us/step\n",
      "10/10 [==============================] - 0s 674us/step\n",
      "10/10 [==============================] - 0s 696us/step\n",
      "10/10 [==============================] - 0s 627us/step\n",
      "10/10 [==============================] - 0s 693us/step\n",
      "10/10 [==============================] - 0s 696us/step\n",
      "10/10 [==============================] - 0s 710us/step\n",
      "10/10 [==============================] - 0s 709us/step\n",
      "\n",
      " Creating bootstrap sample   1\n",
      "10/10 [==============================] - 0s 664us/step\n",
      "10/10 [==============================] - 0s 685us/step\n",
      "10/10 [==============================] - 0s 735us/step\n",
      "10/10 [==============================] - 0s 649us/step\n",
      "10/10 [==============================] - 0s 602us/step\n",
      "10/10 [==============================] - 0s 681us/step\n",
      "10/10 [==============================] - 0s 679us/step\n",
      "10/10 [==============================] - 0s 656us/step\n",
      "10/10 [==============================] - 0s 690us/step\n",
      "10/10 [==============================] - 0s 658us/step\n",
      "10/10 [==============================] - 0s 656us/step\n",
      "10/10 [==============================] - 0s 705us/step\n",
      "\n",
      " Creating bootstrap sample   2\n",
      "10/10 [==============================] - 0s 644us/step\n",
      "10/10 [==============================] - 0s 689us/step\n",
      "10/10 [==============================] - 0s 688us/step\n",
      "10/10 [==============================] - 0s 656us/step\n",
      "10/10 [==============================] - 0s 680us/step\n",
      "10/10 [==============================] - 0s 715us/step\n",
      "10/10 [==============================] - 0s 632us/step\n",
      "10/10 [==============================] - 0s 616us/step\n",
      "10/10 [==============================] - 0s 696us/step\n",
      "10/10 [==============================] - 0s 710us/step\n",
      "10/10 [==============================] - 0s 591us/step\n",
      "10/10 [==============================] - 0s 739us/step\n",
      "\n",
      " Creating bootstrap sample   3\n",
      "10/10 [==============================] - 0s 603us/step\n",
      "10/10 [==============================] - 0s 626us/step\n",
      "10/10 [==============================] - 0s 693us/step\n",
      "10/10 [==============================] - 0s 630us/step\n",
      "10/10 [==============================] - 0s 681us/step\n",
      "10/10 [==============================] - 0s 689us/step\n",
      "10/10 [==============================] - 0s 676us/step\n",
      "10/10 [==============================] - 0s 668us/step\n",
      "10/10 [==============================] - 0s 660us/step\n",
      "10/10 [==============================] - 0s 671us/step\n",
      "10/10 [==============================] - 0s 718us/step\n",
      "10/10 [==============================] - 0s 728us/step\n",
      "\n",
      " Creating bootstrap sample   4\n",
      "10/10 [==============================] - 0s 658us/step\n",
      "10/10 [==============================] - 0s 684us/step\n",
      "10/10 [==============================] - 0s 701us/step\n",
      "10/10 [==============================] - 0s 685us/step\n",
      "10/10 [==============================] - 0s 651us/step\n",
      "10/10 [==============================] - 0s 675us/step\n",
      "10/10 [==============================] - 0s 725us/step\n",
      "10/10 [==============================] - 0s 678us/step\n",
      "10/10 [==============================] - 0s 700us/step\n",
      "10/10 [==============================] - 0s 665us/step\n",
      "10/10 [==============================] - 0s 615us/step\n",
      "10/10 [==============================] - 0s 634us/step\n",
      "\n",
      " Creating bootstrap sample   5\n",
      "10/10 [==============================] - 0s 692us/step\n",
      "10/10 [==============================] - 0s 696us/step\n",
      "10/10 [==============================] - 0s 715us/step\n",
      "10/10 [==============================] - 0s 653us/step\n",
      "10/10 [==============================] - 0s 644us/step\n",
      "10/10 [==============================] - 0s 687us/step\n",
      "10/10 [==============================] - 0s 705us/step\n",
      "10/10 [==============================] - 0s 636us/step\n",
      "10/10 [==============================] - 0s 707us/step\n",
      "10/10 [==============================] - 0s 709us/step\n",
      "10/10 [==============================] - 0s 632us/step\n",
      "10/10 [==============================] - 0s 697us/step\n",
      "\n",
      " Creating bootstrap sample   6\n",
      "10/10 [==============================] - 0s 685us/step\n",
      "10/10 [==============================] - 0s 686us/step\n",
      "10/10 [==============================] - 0s 686us/step\n",
      "10/10 [==============================] - 0s 727us/step\n",
      "10/10 [==============================] - 0s 662us/step\n",
      "10/10 [==============================] - 0s 712us/step\n",
      "10/10 [==============================] - 0s 647us/step\n",
      "10/10 [==============================] - 0s 605us/step\n",
      "10/10 [==============================] - 0s 710us/step\n",
      "10/10 [==============================] - 0s 691us/step\n",
      "10/10 [==============================] - 0s 639us/step\n",
      "10/10 [==============================] - 0s 744us/step\n",
      "\n",
      " Creating bootstrap sample   7\n",
      "10/10 [==============================] - 0s 698us/step\n",
      "10/10 [==============================] - 0s 670us/step\n",
      "10/10 [==============================] - 0s 713us/step\n",
      "10/10 [==============================] - 0s 677us/step\n",
      "10/10 [==============================] - 0s 685us/step\n",
      "10/10 [==============================] - 0s 666us/step\n",
      "10/10 [==============================] - 0s 689us/step\n",
      "10/10 [==============================] - 0s 707us/step\n",
      "10/10 [==============================] - 0s 683us/step\n",
      "10/10 [==============================] - 0s 670us/step\n",
      "10/10 [==============================] - 0s 659us/step\n",
      "10/10 [==============================] - 0s 731us/step\n",
      "\n",
      " Creating bootstrap sample   8\n",
      "10/10 [==============================] - 0s 628us/step\n",
      "10/10 [==============================] - 0s 620us/step\n",
      "10/10 [==============================] - 0s 659us/step\n",
      "10/10 [==============================] - 0s 648us/step\n",
      "10/10 [==============================] - 0s 682us/step\n",
      "10/10 [==============================] - 0s 800us/step\n",
      "10/10 [==============================] - 0s 663us/step\n",
      "10/10 [==============================] - 0s 651us/step\n",
      "10/10 [==============================] - 0s 735us/step\n",
      "10/10 [==============================] - 0s 709us/step\n",
      "10/10 [==============================] - 0s 694us/step\n",
      "10/10 [==============================] - 0s 700us/step\n",
      "\n",
      " Creating bootstrap sample   9\n",
      "10/10 [==============================] - 0s 693us/step\n",
      "10/10 [==============================] - 0s 633us/step\n",
      "10/10 [==============================] - 0s 726us/step\n",
      "10/10 [==============================] - 0s 672us/step\n",
      "10/10 [==============================] - 0s 631us/step\n",
      "10/10 [==============================] - 0s 747us/step\n",
      "10/10 [==============================] - 0s 660us/step\n",
      "10/10 [==============================] - 0s 667us/step\n",
      "10/10 [==============================] - 0s 719us/step\n",
      "10/10 [==============================] - 0s 624us/step\n",
      "10/10 [==============================] - 0s 654us/step\n",
      "10/10 [==============================] - 0s 692us/step\n",
      "\n",
      " Creating bootstrap sample  10\n",
      "10/10 [==============================] - 0s 714us/step\n",
      "10/10 [==============================] - 0s 684us/step\n",
      "10/10 [==============================] - 0s 704us/step\n",
      "10/10 [==============================] - 0s 644us/step\n",
      "10/10 [==============================] - 0s 685us/step\n",
      "10/10 [==============================] - 0s 672us/step\n",
      "10/10 [==============================] - 0s 671us/step\n",
      "10/10 [==============================] - 0s 660us/step\n",
      "10/10 [==============================] - 0s 734us/step\n",
      "10/10 [==============================] - 0s 686us/step\n",
      "10/10 [==============================] - 0s 715us/step\n",
      "10/10 [==============================] - 0s 685us/step\n",
      "\n",
      " Creating bootstrap sample  11\n",
      "10/10 [==============================] - 0s 704us/step\n",
      "10/10 [==============================] - 0s 666us/step\n",
      "10/10 [==============================] - 0s 714us/step\n",
      "10/10 [==============================] - 0s 644us/step\n",
      "10/10 [==============================] - 0s 681us/step\n",
      "10/10 [==============================] - 0s 705us/step\n",
      "10/10 [==============================] - 0s 718us/step\n",
      "10/10 [==============================] - 0s 711us/step\n",
      "10/10 [==============================] - 0s 689us/step\n",
      "10/10 [==============================] - 0s 705us/step\n"
     ]
    },
    {
     "name": "stdout",
     "output_type": "stream",
     "text": [
      "10/10 [==============================] - 0s 726us/step\n",
      "10/10 [==============================] - 0s 716us/step\n",
      "\n",
      " Creating bootstrap sample  12\n",
      "10/10 [==============================] - 0s 628us/step\n",
      "10/10 [==============================] - 0s 648us/step\n",
      "10/10 [==============================] - 0s 647us/step\n",
      "10/10 [==============================] - 0s 689us/step\n",
      "10/10 [==============================] - 0s 623us/step\n",
      "10/10 [==============================] - 0s 743us/step\n",
      "10/10 [==============================] - 0s 711us/step\n",
      "10/10 [==============================] - 0s 695us/step\n",
      "10/10 [==============================] - 0s 695us/step\n",
      "10/10 [==============================] - 0s 687us/step\n",
      "10/10 [==============================] - 0s 624us/step\n",
      "10/10 [==============================] - 0s 699us/step\n",
      "\n",
      " Creating bootstrap sample  13\n",
      "10/10 [==============================] - 0s 640us/step\n",
      "10/10 [==============================] - 0s 640us/step\n",
      "10/10 [==============================] - 0s 705us/step\n",
      "10/10 [==============================] - 0s 664us/step\n",
      "10/10 [==============================] - 0s 615us/step\n",
      "10/10 [==============================] - 0s 695us/step\n",
      "10/10 [==============================] - 0s 682us/step\n",
      "10/10 [==============================] - 0s 596us/step\n",
      "10/10 [==============================] - 0s 749us/step\n",
      "10/10 [==============================] - 0s 661us/step\n",
      "10/10 [==============================] - 0s 657us/step\n",
      "10/10 [==============================] - 0s 719us/step\n",
      "\n",
      " Creating bootstrap sample  14\n",
      "10/10 [==============================] - 0s 680us/step\n",
      "10/10 [==============================] - 0s 646us/step\n",
      "10/10 [==============================] - 0s 682us/step\n",
      "10/10 [==============================] - 0s 731us/step\n",
      "10/10 [==============================] - 0s 636us/step\n",
      "10/10 [==============================] - 0s 762us/step\n",
      "10/10 [==============================] - 0s 677us/step\n",
      "10/10 [==============================] - 0s 712us/step\n",
      "10/10 [==============================] - 0s 718us/step\n",
      "10/10 [==============================] - 0s 686us/step\n",
      "10/10 [==============================] - 0s 702us/step\n",
      "10/10 [==============================] - 0s 701us/step\n",
      "\n",
      " Creating bootstrap sample  15\n",
      "10/10 [==============================] - 0s 683us/step\n",
      "10/10 [==============================] - 0s 604us/step\n",
      "10/10 [==============================] - 0s 704us/step\n",
      "10/10 [==============================] - 0s 682us/step\n",
      "10/10 [==============================] - 0s 674us/step\n",
      "10/10 [==============================] - 0s 692us/step\n",
      "10/10 [==============================] - 0s 655us/step\n",
      "10/10 [==============================] - 0s 700us/step\n",
      "10/10 [==============================] - 0s 724us/step\n",
      "10/10 [==============================] - 0s 693us/step\n",
      "10/10 [==============================] - 0s 709us/step\n",
      "10/10 [==============================] - 0s 657us/step\n",
      "\n",
      " Creating bootstrap sample  16\n",
      "10/10 [==============================] - 0s 639us/step\n",
      "10/10 [==============================] - 0s 606us/step\n",
      "10/10 [==============================] - 0s 707us/step\n",
      "10/10 [==============================] - 0s 704us/step\n",
      "10/10 [==============================] - 0s 665us/step\n",
      "10/10 [==============================] - 0s 795us/step\n",
      "10/10 [==============================] - 0s 676us/step\n",
      "10/10 [==============================] - 0s 679us/step\n",
      "10/10 [==============================] - 0s 655us/step\n",
      "10/10 [==============================] - 0s 688us/step\n",
      "10/10 [==============================] - 0s 613us/step\n",
      "10/10 [==============================] - 0s 670us/step\n",
      "\n",
      " Creating bootstrap sample  17\n",
      "10/10 [==============================] - 0s 675us/step\n",
      "10/10 [==============================] - 0s 646us/step\n",
      "10/10 [==============================] - 0s 690us/step\n",
      "10/10 [==============================] - 0s 661us/step\n",
      "10/10 [==============================] - 0s 635us/step\n",
      "10/10 [==============================] - 0s 761us/step\n",
      "10/10 [==============================] - 0s 657us/step\n",
      "10/10 [==============================] - 0s 685us/step\n",
      "10/10 [==============================] - 0s 737us/step\n",
      "10/10 [==============================] - 0s 680us/step\n",
      "10/10 [==============================] - 0s 644us/step\n",
      "10/10 [==============================] - 0s 734us/step\n",
      "\n",
      " Creating bootstrap sample  18\n",
      "10/10 [==============================] - 0s 695us/step\n",
      "10/10 [==============================] - 0s 683us/step\n",
      "10/10 [==============================] - 0s 708us/step\n",
      "10/10 [==============================] - 0s 711us/step\n",
      "10/10 [==============================] - 0s 707us/step\n",
      "10/10 [==============================] - 0s 738us/step\n",
      "10/10 [==============================] - 0s 683us/step\n",
      "10/10 [==============================] - 0s 646us/step\n",
      "10/10 [==============================] - 0s 742us/step\n",
      "10/10 [==============================] - 0s 648us/step\n",
      "10/10 [==============================] - 0s 678us/step\n",
      "10/10 [==============================] - 0s 702us/step\n",
      "\n",
      " Creating bootstrap sample  19\n",
      "10/10 [==============================] - 0s 699us/step\n",
      "10/10 [==============================] - 0s 669us/step\n",
      "10/10 [==============================] - 0s 748us/step\n",
      "10/10 [==============================] - 0s 741us/step\n",
      "10/10 [==============================] - 0s 670us/step\n",
      "10/10 [==============================] - 0s 659us/step\n",
      "10/10 [==============================] - 0s 670us/step\n",
      "10/10 [==============================] - 0s 724us/step\n",
      "10/10 [==============================] - 0s 671us/step\n",
      "10/10 [==============================] - 0s 711us/step\n",
      "10/10 [==============================] - 0s 676us/step\n",
      "10/10 [==============================] - 0s 685us/step\n",
      "\n",
      " Creating bootstrap sample  20\n",
      "10/10 [==============================] - 0s 674us/step\n",
      "10/10 [==============================] - 0s 671us/step\n",
      "10/10 [==============================] - 0s 707us/step\n",
      "10/10 [==============================] - 0s 667us/step\n",
      "10/10 [==============================] - 0s 652us/step\n",
      "10/10 [==============================] - 0s 710us/step\n",
      "10/10 [==============================] - 0s 630us/step\n",
      "10/10 [==============================] - 0s 695us/step\n",
      "10/10 [==============================] - 0s 725us/step\n",
      "10/10 [==============================] - 0s 698us/step\n",
      "10/10 [==============================] - 0s 641us/step\n",
      "10/10 [==============================] - 0s 713us/step\n",
      "\n",
      " Creating bootstrap sample  21\n",
      "10/10 [==============================] - 0s 611us/step\n",
      "10/10 [==============================] - 0s 642us/step\n",
      "10/10 [==============================] - 0s 709us/step\n",
      "10/10 [==============================] - 0s 635us/step\n",
      "10/10 [==============================] - 0s 668us/step\n",
      "10/10 [==============================] - 0s 689us/step\n",
      "10/10 [==============================] - 0s 662us/step\n",
      "10/10 [==============================] - 0s 626us/step\n",
      "10/10 [==============================] - 0s 689us/step\n",
      "10/10 [==============================] - 0s 721us/step\n",
      "10/10 [==============================] - 0s 673us/step\n",
      "10/10 [==============================] - 0s 728us/step\n",
      "\n",
      " Creating bootstrap sample  22\n",
      "10/10 [==============================] - 0s 665us/step\n",
      "10/10 [==============================] - 0s 693us/step\n",
      "10/10 [==============================] - 0s 742us/step\n",
      "10/10 [==============================] - 0s 690us/step\n",
      "10/10 [==============================] - 0s 741us/step\n",
      "10/10 [==============================] - 0s 686us/step\n",
      "10/10 [==============================] - 0s 652us/step\n",
      "10/10 [==============================] - 0s 712us/step\n",
      "10/10 [==============================] - 0s 660us/step\n",
      "10/10 [==============================] - 0s 635us/step\n",
      "10/10 [==============================] - 0s 650us/step\n",
      "10/10 [==============================] - 0s 704us/step\n",
      "\n",
      " Creating bootstrap sample  23\n",
      "10/10 [==============================] - 0s 673us/step\n",
      "10/10 [==============================] - 0s 639us/step\n",
      "10/10 [==============================] - 0s 684us/step\n",
      "10/10 [==============================] - 0s 712us/step\n",
      "10/10 [==============================] - 0s 646us/step\n",
      "10/10 [==============================] - 0s 695us/step\n",
      "10/10 [==============================] - 0s 650us/step\n",
      "10/10 [==============================] - 0s 712us/step\n"
     ]
    },
    {
     "name": "stdout",
     "output_type": "stream",
     "text": [
      "10/10 [==============================] - 0s 740us/step\n",
      "10/10 [==============================] - 0s 674us/step\n",
      "10/10 [==============================] - 0s 663us/step\n",
      "10/10 [==============================] - 0s 657us/step\n",
      "\n",
      " Creating bootstrap sample  24\n",
      "10/10 [==============================] - 0s 709us/step\n",
      "10/10 [==============================] - 0s 662us/step\n",
      "10/10 [==============================] - 0s 744us/step\n",
      "10/10 [==============================] - 0s 684us/step\n",
      "10/10 [==============================] - 0s 668us/step\n",
      "10/10 [==============================] - 0s 707us/step\n",
      "10/10 [==============================] - 0s 670us/step\n",
      "10/10 [==============================] - 0s 689us/step\n",
      "10/10 [==============================] - 0s 868us/step\n",
      "10/10 [==============================] - 0s 658us/step\n",
      "10/10 [==============================] - 0s 670us/step\n",
      "10/10 [==============================] - 0s 696us/step\n",
      "\n",
      " Creating bootstrap sample  25\n",
      "10/10 [==============================] - 0s 667us/step\n",
      "10/10 [==============================] - 0s 648us/step\n",
      "10/10 [==============================] - 0s 696us/step\n",
      "10/10 [==============================] - 0s 707us/step\n",
      "10/10 [==============================] - 0s 648us/step\n",
      "10/10 [==============================] - 0s 774us/step\n",
      "10/10 [==============================] - 0s 697us/step\n",
      "10/10 [==============================] - 0s 682us/step\n",
      "10/10 [==============================] - 0s 720us/step\n",
      "10/10 [==============================] - 0s 629us/step\n",
      "10/10 [==============================] - 0s 665us/step\n",
      "10/10 [==============================] - 0s 656us/step\n",
      "\n",
      " Creating bootstrap sample  26\n",
      "10/10 [==============================] - 0s 629us/step\n",
      "10/10 [==============================] - 0s 612us/step\n",
      "10/10 [==============================] - 0s 652us/step\n",
      "10/10 [==============================] - 0s 676us/step\n",
      "10/10 [==============================] - 0s 659us/step\n",
      "10/10 [==============================] - 0s 727us/step\n",
      "10/10 [==============================] - 0s 696us/step\n",
      "10/10 [==============================] - 0s 656us/step\n",
      "10/10 [==============================] - 0s 685us/step\n",
      "10/10 [==============================] - 0s 710us/step\n",
      "10/10 [==============================] - 0s 693us/step\n",
      "10/10 [==============================] - 0s 713us/step\n",
      "\n",
      " Creating bootstrap sample  27\n",
      "10/10 [==============================] - 0s 687us/step\n",
      "10/10 [==============================] - 0s 696us/step\n",
      "10/10 [==============================] - 0s 746us/step\n",
      "10/10 [==============================] - 0s 715us/step\n",
      "10/10 [==============================] - 0s 667us/step\n",
      "10/10 [==============================] - 0s 707us/step\n",
      "10/10 [==============================] - 0s 661us/step\n",
      "10/10 [==============================] - 0s 705us/step\n",
      "10/10 [==============================] - 0s 696us/step\n",
      "10/10 [==============================] - 0s 631us/step\n",
      "10/10 [==============================] - 0s 666us/step\n",
      "10/10 [==============================] - 0s 711us/step\n",
      "\n",
      " Creating bootstrap sample  28\n",
      "10/10 [==============================] - 0s 766us/step\n",
      "10/10 [==============================] - 0s 681us/step\n",
      "10/10 [==============================] - 0s 706us/step\n",
      "10/10 [==============================] - 0s 667us/step\n",
      "10/10 [==============================] - 0s 684us/step\n",
      "10/10 [==============================] - 0s 720us/step\n",
      "10/10 [==============================] - 0s 734us/step\n",
      "10/10 [==============================] - 0s 710us/step\n",
      "10/10 [==============================] - 0s 710us/step\n",
      "10/10 [==============================] - 0s 688us/step\n",
      "10/10 [==============================] - 0s 639us/step\n",
      "10/10 [==============================] - 0s 644us/step\n",
      "\n",
      " Creating bootstrap sample  29\n",
      "10/10 [==============================] - 0s 626us/step\n",
      "10/10 [==============================] - 0s 673us/step\n",
      "10/10 [==============================] - 0s 712us/step\n",
      "10/10 [==============================] - 0s 624us/step\n",
      "10/10 [==============================] - 0s 583us/step\n",
      "10/10 [==============================] - 0s 734us/step\n",
      "10/10 [==============================] - 0s 673us/step\n",
      "10/10 [==============================] - 0s 663us/step\n",
      "10/10 [==============================] - 0s 762us/step\n",
      "10/10 [==============================] - 0s 650us/step\n",
      "10/10 [==============================] - 0s 658us/step\n",
      "10/10 [==============================] - 0s 705us/step\n",
      "\n",
      " Creating bootstrap sample  30\n",
      "10/10 [==============================] - 0s 710us/step\n",
      "10/10 [==============================] - 0s 621us/step\n",
      "10/10 [==============================] - 0s 743us/step\n",
      "10/10 [==============================] - 0s 723us/step\n",
      "10/10 [==============================] - 0s 697us/step\n",
      "10/10 [==============================] - 0s 719us/step\n",
      "10/10 [==============================] - 0s 690us/step\n",
      "10/10 [==============================] - 0s 621us/step\n",
      "10/10 [==============================] - 0s 682us/step\n",
      "10/10 [==============================] - 0s 700us/step\n",
      "10/10 [==============================] - 0s 641us/step\n",
      "10/10 [==============================] - 0s 713us/step\n",
      "\n",
      " Creating bootstrap sample  31\n",
      "10/10 [==============================] - 0s 624us/step\n",
      "10/10 [==============================] - 0s 685us/step\n",
      "10/10 [==============================] - 0s 671us/step\n",
      "10/10 [==============================] - 0s 731us/step\n",
      "10/10 [==============================] - 0s 662us/step\n",
      "10/10 [==============================] - 0s 730us/step\n",
      "10/10 [==============================] - 0s 688us/step\n",
      "10/10 [==============================] - 0s 659us/step\n",
      "10/10 [==============================] - 0s 768us/step\n",
      "10/10 [==============================] - 0s 662us/step\n",
      "10/10 [==============================] - 0s 651us/step\n",
      "10/10 [==============================] - 0s 690us/step\n",
      "\n",
      " Creating bootstrap sample  32\n",
      "10/10 [==============================] - 0s 703us/step\n",
      "10/10 [==============================] - 0s 678us/step\n",
      "10/10 [==============================] - 0s 722us/step\n",
      "10/10 [==============================] - 0s 693us/step\n",
      "10/10 [==============================] - 0s 644us/step\n",
      "10/10 [==============================] - 0s 704us/step\n",
      "10/10 [==============================] - 0s 686us/step\n",
      "10/10 [==============================] - 0s 689us/step\n",
      "10/10 [==============================] - 0s 698us/step\n",
      "10/10 [==============================] - 0s 670us/step\n",
      "10/10 [==============================] - 0s 642us/step\n",
      "10/10 [==============================] - 0s 663us/step\n",
      "\n",
      " Creating bootstrap sample  33\n",
      "10/10 [==============================] - 0s 655us/step\n",
      "10/10 [==============================] - 0s 680us/step\n",
      "10/10 [==============================] - 0s 673us/step\n",
      "10/10 [==============================] - 0s 664us/step\n",
      "10/10 [==============================] - 0s 685us/step\n",
      "10/10 [==============================] - 0s 728us/step\n",
      "10/10 [==============================] - 0s 632us/step\n",
      "10/10 [==============================] - 0s 657us/step\n",
      "10/10 [==============================] - 0s 719us/step\n",
      "10/10 [==============================] - 0s 716us/step\n",
      "10/10 [==============================] - 0s 702us/step\n",
      "10/10 [==============================] - 0s 733us/step\n",
      "\n",
      " Creating bootstrap sample  34\n",
      "10/10 [==============================] - 0s 660us/step\n",
      "10/10 [==============================] - 0s 655us/step\n",
      "10/10 [==============================] - 0s 647us/step\n",
      "10/10 [==============================] - 0s 644us/step\n",
      "10/10 [==============================] - 0s 711us/step\n",
      "10/10 [==============================] - 0s 718us/step\n",
      "10/10 [==============================] - 0s 686us/step\n",
      "10/10 [==============================] - 0s 672us/step\n",
      "10/10 [==============================] - 0s 737us/step\n",
      "10/10 [==============================] - 0s 733us/step\n",
      "10/10 [==============================] - 0s 686us/step\n",
      "10/10 [==============================] - 0s 679us/step\n",
      "\n",
      " Creating bootstrap sample  35\n",
      "10/10 [==============================] - 0s 701us/step\n",
      "10/10 [==============================] - 0s 707us/step\n",
      "10/10 [==============================] - 0s 726us/step\n",
      "10/10 [==============================] - 0s 706us/step\n",
      "10/10 [==============================] - 0s 663us/step\n",
      "10/10 [==============================] - 0s 687us/step\n"
     ]
    },
    {
     "name": "stdout",
     "output_type": "stream",
     "text": [
      "10/10 [==============================] - 0s 746us/step\n",
      "10/10 [==============================] - 0s 679us/step\n",
      "10/10 [==============================] - 0s 712us/step\n",
      "10/10 [==============================] - 0s 678us/step\n",
      "10/10 [==============================] - 0s 663us/step\n",
      "10/10 [==============================] - 0s 742us/step\n",
      "\n",
      " Creating bootstrap sample  36\n",
      "10/10 [==============================] - 0s 644us/step\n",
      "10/10 [==============================] - 0s 696us/step\n",
      "10/10 [==============================] - 0s 735us/step\n",
      "10/10 [==============================] - 0s 669us/step\n",
      "10/10 [==============================] - 0s 640us/step\n",
      "10/10 [==============================] - 0s 696us/step\n",
      "10/10 [==============================] - 0s 688us/step\n",
      "10/10 [==============================] - 0s 675us/step\n",
      "10/10 [==============================] - 0s 691us/step\n",
      "10/10 [==============================] - 0s 704us/step\n",
      "10/10 [==============================] - 0s 687us/step\n",
      "10/10 [==============================] - 0s 679us/step\n",
      "\n",
      " Creating bootstrap sample  37\n",
      "10/10 [==============================] - 0s 646us/step\n",
      "10/10 [==============================] - 0s 685us/step\n",
      "10/10 [==============================] - 0s 698us/step\n",
      "10/10 [==============================] - 0s 634us/step\n",
      "10/10 [==============================] - 0s 700us/step\n",
      "10/10 [==============================] - 0s 743us/step\n",
      "10/10 [==============================] - 0s 720us/step\n",
      "10/10 [==============================] - 0s 639us/step\n",
      "10/10 [==============================] - 0s 707us/step\n",
      "10/10 [==============================] - 0s 670us/step\n",
      "10/10 [==============================] - 0s 614us/step\n",
      "10/10 [==============================] - 0s 659us/step\n",
      "\n",
      " Creating bootstrap sample  38\n",
      "10/10 [==============================] - 0s 692us/step\n",
      "10/10 [==============================] - 0s 646us/step\n",
      "10/10 [==============================] - 0s 708us/step\n",
      "10/10 [==============================] - 0s 745us/step\n",
      "10/10 [==============================] - 0s 661us/step\n",
      "10/10 [==============================] - 0s 732us/step\n",
      "10/10 [==============================] - 0s 741us/step\n",
      "10/10 [==============================] - 0s 661us/step\n",
      "10/10 [==============================] - 0s 733us/step\n",
      "10/10 [==============================] - 0s 672us/step\n",
      "10/10 [==============================] - 0s 690us/step\n",
      "10/10 [==============================] - 0s 692us/step\n",
      "\n",
      " Creating bootstrap sample  39\n",
      "10/10 [==============================] - 0s 677us/step\n",
      "10/10 [==============================] - 0s 694us/step\n",
      "10/10 [==============================] - 0s 644us/step\n",
      "10/10 [==============================] - 0s 672us/step\n",
      "10/10 [==============================] - 0s 668us/step\n",
      "10/10 [==============================] - 0s 739us/step\n",
      "10/10 [==============================] - 0s 617us/step\n",
      "10/10 [==============================] - 0s 738us/step\n",
      "10/10 [==============================] - 0s 729us/step\n",
      "10/10 [==============================] - 0s 720us/step\n",
      "10/10 [==============================] - 0s 711us/step\n",
      "10/10 [==============================] - 0s 666us/step\n",
      "\n",
      " Creating bootstrap sample  40\n",
      "10/10 [==============================] - 0s 713us/step\n",
      "10/10 [==============================] - 0s 676us/step\n",
      "10/10 [==============================] - 0s 703us/step\n",
      "10/10 [==============================] - 0s 697us/step\n",
      "10/10 [==============================] - 0s 691us/step\n",
      "10/10 [==============================] - 0s 685us/step\n",
      "10/10 [==============================] - 0s 649us/step\n",
      "10/10 [==============================] - 0s 606us/step\n",
      "10/10 [==============================] - 0s 636us/step\n",
      "10/10 [==============================] - 0s 677us/step\n",
      "10/10 [==============================] - 0s 614us/step\n",
      "10/10 [==============================] - 0s 691us/step\n",
      "\n",
      " Creating bootstrap sample  41\n",
      "10/10 [==============================] - 0s 622us/step\n",
      "10/10 [==============================] - 0s 635us/step\n",
      "10/10 [==============================] - 0s 692us/step\n",
      "10/10 [==============================] - 0s 680us/step\n",
      "10/10 [==============================] - 0s 701us/step\n",
      "10/10 [==============================] - 0s 740us/step\n",
      "10/10 [==============================] - 0s 695us/step\n",
      "10/10 [==============================] - 0s 667us/step\n",
      "10/10 [==============================] - 0s 674us/step\n",
      "10/10 [==============================] - 0s 691us/step\n",
      "10/10 [==============================] - 0s 667us/step\n",
      "10/10 [==============================] - 0s 710us/step\n",
      "\n",
      " Creating bootstrap sample  42\n",
      "10/10 [==============================] - 0s 669us/step\n",
      "10/10 [==============================] - 0s 653us/step\n",
      "10/10 [==============================] - 0s 673us/step\n",
      "10/10 [==============================] - 0s 659us/step\n",
      "10/10 [==============================] - 0s 675us/step\n",
      "10/10 [==============================] - 0s 699us/step\n",
      "10/10 [==============================] - 0s 739us/step\n",
      "10/10 [==============================] - 0s 647us/step\n",
      "10/10 [==============================] - 0s 710us/step\n",
      "10/10 [==============================] - 0s 693us/step\n",
      "10/10 [==============================] - 0s 661us/step\n",
      "10/10 [==============================] - 0s 673us/step\n",
      "\n",
      " Creating bootstrap sample  43\n",
      "10/10 [==============================] - 0s 689us/step\n",
      "10/10 [==============================] - 0s 657us/step\n",
      "10/10 [==============================] - 0s 724us/step\n",
      "10/10 [==============================] - 0s 641us/step\n",
      "10/10 [==============================] - 0s 657us/step\n",
      "10/10 [==============================] - 0s 750us/step\n",
      "10/10 [==============================] - 0s 689us/step\n",
      "10/10 [==============================] - 0s 654us/step\n",
      "10/10 [==============================] - 0s 650us/step\n",
      "10/10 [==============================] - 0s 691us/step\n",
      "10/10 [==============================] - 0s 681us/step\n",
      "10/10 [==============================] - 0s 751us/step\n",
      "\n",
      " Creating bootstrap sample  44\n",
      "10/10 [==============================] - 0s 665us/step\n",
      "10/10 [==============================] - 0s 676us/step\n",
      "10/10 [==============================] - 0s 680us/step\n",
      "10/10 [==============================] - 0s 636us/step\n",
      "10/10 [==============================] - 0s 612us/step\n",
      "10/10 [==============================] - 0s 686us/step\n",
      "10/10 [==============================] - 0s 703us/step\n",
      "10/10 [==============================] - 0s 633us/step\n",
      "10/10 [==============================] - 0s 711us/step\n",
      "10/10 [==============================] - 0s 693us/step\n",
      "10/10 [==============================] - 0s 670us/step\n",
      "10/10 [==============================] - 0s 638us/step\n",
      "\n",
      " Creating bootstrap sample  45\n",
      "10/10 [==============================] - 0s 707us/step\n",
      "10/10 [==============================] - 0s 622us/step\n",
      "10/10 [==============================] - 0s 640us/step\n",
      "10/10 [==============================] - 0s 667us/step\n",
      "10/10 [==============================] - 0s 624us/step\n",
      "10/10 [==============================] - 0s 648us/step\n",
      "10/10 [==============================] - 0s 732us/step\n",
      "10/10 [==============================] - 0s 672us/step\n",
      "10/10 [==============================] - 0s 678us/step\n",
      "10/10 [==============================] - 0s 689us/step\n",
      "10/10 [==============================] - 0s 670us/step\n",
      "10/10 [==============================] - 0s 749us/step\n",
      "\n",
      " Creating bootstrap sample  46\n",
      "10/10 [==============================] - 0s 621us/step\n",
      "10/10 [==============================] - 0s 706us/step\n",
      "10/10 [==============================] - 0s 836us/step\n",
      "10/10 [==============================] - 0s 637us/step\n",
      "10/10 [==============================] - 0s 684us/step\n",
      "10/10 [==============================] - 0s 689us/step\n",
      "10/10 [==============================] - 0s 743us/step\n",
      "10/10 [==============================] - 0s 663us/step\n",
      "10/10 [==============================] - 0s 738us/step\n",
      "10/10 [==============================] - 0s 640us/step\n",
      "10/10 [==============================] - 0s 596us/step\n",
      "10/10 [==============================] - 0s 668us/step\n",
      "\n",
      " Creating bootstrap sample  47\n",
      "10/10 [==============================] - 0s 652us/step\n",
      "10/10 [==============================] - 0s 615us/step\n",
      "10/10 [==============================] - 0s 797us/step\n",
      "10/10 [==============================] - 0s 627us/step\n"
     ]
    },
    {
     "name": "stdout",
     "output_type": "stream",
     "text": [
      "10/10 [==============================] - 0s 675us/step\n",
      "10/10 [==============================] - 0s 742us/step\n",
      "10/10 [==============================] - 0s 624us/step\n",
      "10/10 [==============================] - 0s 719us/step\n",
      "10/10 [==============================] - 0s 718us/step\n",
      "10/10 [==============================] - 0s 707us/step\n",
      "10/10 [==============================] - 0s 628us/step\n",
      "10/10 [==============================] - 0s 686us/step\n",
      "\n",
      " Creating bootstrap sample  48\n",
      "10/10 [==============================] - 0s 692us/step\n",
      "10/10 [==============================] - 0s 699us/step\n",
      "10/10 [==============================] - 0s 699us/step\n",
      "10/10 [==============================] - 0s 678us/step\n",
      "10/10 [==============================] - 0s 666us/step\n",
      "10/10 [==============================] - 0s 751us/step\n",
      "10/10 [==============================] - 0s 699us/step\n",
      "10/10 [==============================] - 0s 673us/step\n",
      "10/10 [==============================] - 0s 742us/step\n",
      "10/10 [==============================] - 0s 685us/step\n",
      "10/10 [==============================] - 0s 591us/step\n",
      "10/10 [==============================] - 0s 692us/step\n",
      "\n",
      " Creating bootstrap sample  49\n",
      "10/10 [==============================] - 0s 634us/step\n",
      "10/10 [==============================] - 0s 674us/step\n",
      "10/10 [==============================] - 0s 685us/step\n",
      "10/10 [==============================] - 0s 705us/step\n",
      "10/10 [==============================] - 0s 715us/step\n",
      "10/10 [==============================] - 0s 678us/step\n",
      "10/10 [==============================] - 0s 652us/step\n",
      "10/10 [==============================] - 0s 620us/step\n",
      "10/10 [==============================] - 0s 728us/step\n",
      "10/10 [==============================] - 0s 689us/step\n",
      "10/10 [==============================] - 0s 660us/step\n",
      "10/10 [==============================] - 0s 717us/step\n",
      "\n",
      " Creating bootstrap sample  50\n",
      "10/10 [==============================] - 0s 664us/step\n",
      "10/10 [==============================] - 0s 659us/step\n",
      "10/10 [==============================] - 0s 714us/step\n",
      "10/10 [==============================] - 0s 723us/step\n",
      "10/10 [==============================] - 0s 637us/step\n",
      "10/10 [==============================] - 0s 701us/step\n",
      "10/10 [==============================] - 0s 711us/step\n",
      "10/10 [==============================] - 0s 667us/step\n",
      "10/10 [==============================] - 0s 731us/step\n",
      "10/10 [==============================] - 0s 653us/step\n",
      "10/10 [==============================] - 0s 665us/step\n",
      "10/10 [==============================] - 0s 724us/step\n",
      "\n",
      " Creating bootstrap sample  51\n",
      "10/10 [==============================] - 0s 667us/step\n",
      "10/10 [==============================] - 0s 681us/step\n",
      "10/10 [==============================] - 0s 723us/step\n",
      "10/10 [==============================] - 0s 691us/step\n",
      "10/10 [==============================] - 0s 643us/step\n",
      "10/10 [==============================] - 0s 710us/step\n",
      "10/10 [==============================] - 0s 741us/step\n",
      "10/10 [==============================] - 0s 702us/step\n",
      "10/10 [==============================] - 0s 705us/step\n",
      "10/10 [==============================] - 0s 713us/step\n",
      "10/10 [==============================] - 0s 659us/step\n",
      "10/10 [==============================] - 0s 677us/step\n",
      "\n",
      " Creating bootstrap sample  52\n",
      "10/10 [==============================] - 0s 683us/step\n",
      "10/10 [==============================] - 0s 648us/step\n",
      "10/10 [==============================] - 0s 729us/step\n",
      "10/10 [==============================] - 0s 666us/step\n",
      "10/10 [==============================] - 0s 714us/step\n",
      "10/10 [==============================] - 0s 657us/step\n",
      "10/10 [==============================] - 0s 678us/step\n",
      "10/10 [==============================] - 0s 657us/step\n",
      "10/10 [==============================] - 0s 720us/step\n",
      "10/10 [==============================] - 0s 676us/step\n",
      "10/10 [==============================] - 0s 668us/step\n",
      "10/10 [==============================] - 0s 738us/step\n",
      "\n",
      " Creating bootstrap sample  53\n",
      "10/10 [==============================] - 0s 688us/step\n",
      "10/10 [==============================] - 0s 678us/step\n",
      "10/10 [==============================] - 0s 710us/step\n",
      "10/10 [==============================] - 0s 697us/step\n",
      "10/10 [==============================] - 0s 656us/step\n",
      "10/10 [==============================] - 0s 730us/step\n",
      "10/10 [==============================] - 0s 704us/step\n",
      "10/10 [==============================] - 0s 635us/step\n",
      "10/10 [==============================] - 0s 724us/step\n",
      "10/10 [==============================] - 0s 627us/step\n",
      "10/10 [==============================] - 0s 594us/step\n",
      "10/10 [==============================] - 0s 785us/step\n",
      "\n",
      " Creating bootstrap sample  54\n",
      "10/10 [==============================] - 0s 670us/step\n",
      "10/10 [==============================] - 0s 599us/step\n",
      "10/10 [==============================] - 0s 686us/step\n",
      "10/10 [==============================] - 0s 663us/step\n",
      "10/10 [==============================] - 0s 700us/step\n",
      "10/10 [==============================] - 0s 710us/step\n",
      "10/10 [==============================] - 0s 667us/step\n",
      "10/10 [==============================] - 0s 650us/step\n",
      "10/10 [==============================] - 0s 652us/step\n",
      "10/10 [==============================] - 0s 631us/step\n",
      "10/10 [==============================] - 0s 657us/step\n",
      "10/10 [==============================] - 0s 744us/step\n",
      "\n",
      " Creating bootstrap sample  55\n",
      "10/10 [==============================] - 0s 705us/step\n",
      "10/10 [==============================] - 0s 669us/step\n",
      "10/10 [==============================] - 0s 731us/step\n",
      "10/10 [==============================] - 0s 707us/step\n",
      "10/10 [==============================] - 0s 685us/step\n",
      "10/10 [==============================] - 0s 743us/step\n",
      "10/10 [==============================] - 0s 668us/step\n",
      "10/10 [==============================] - 0s 648us/step\n",
      "10/10 [==============================] - 0s 701us/step\n",
      "10/10 [==============================] - 0s 626us/step\n",
      "10/10 [==============================] - 0s 650us/step\n",
      "10/10 [==============================] - 0s 635us/step\n",
      "\n",
      " Creating bootstrap sample  56\n",
      "10/10 [==============================] - 0s 631us/step\n",
      "10/10 [==============================] - 0s 666us/step\n",
      "10/10 [==============================] - 0s 692us/step\n",
      "10/10 [==============================] - 0s 651us/step\n",
      "10/10 [==============================] - 0s 698us/step\n",
      "10/10 [==============================] - 0s 748us/step\n",
      "10/10 [==============================] - 0s 707us/step\n",
      "10/10 [==============================] - 0s 665us/step\n",
      "10/10 [==============================] - 0s 698us/step\n",
      "10/10 [==============================] - 0s 686us/step\n",
      "10/10 [==============================] - 0s 695us/step\n",
      "10/10 [==============================] - 0s 745us/step\n",
      "\n",
      " Creating bootstrap sample  57\n",
      "10/10 [==============================] - 0s 671us/step\n",
      "10/10 [==============================] - 0s 650us/step\n",
      "10/10 [==============================] - 0s 689us/step\n",
      "10/10 [==============================] - 0s 671us/step\n",
      "10/10 [==============================] - 0s 652us/step\n",
      "10/10 [==============================] - 0s 737us/step\n",
      "10/10 [==============================] - 0s 667us/step\n",
      "10/10 [==============================] - 0s 693us/step\n",
      "10/10 [==============================] - 0s 672us/step\n",
      "10/10 [==============================] - 0s 696us/step\n",
      "10/10 [==============================] - 0s 660us/step\n",
      "10/10 [==============================] - 0s 695us/step\n",
      "\n",
      " Creating bootstrap sample  58\n",
      "10/10 [==============================] - 0s 692us/step\n",
      "10/10 [==============================] - 0s 694us/step\n",
      "10/10 [==============================] - 0s 706us/step\n",
      "10/10 [==============================] - 0s 650us/step\n",
      "10/10 [==============================] - 0s 619us/step\n",
      "10/10 [==============================] - 0s 713us/step\n",
      "10/10 [==============================] - 0s 701us/step\n",
      "10/10 [==============================] - 0s 681us/step\n",
      "10/10 [==============================] - 0s 642us/step\n",
      "10/10 [==============================] - 0s 668us/step\n",
      "10/10 [==============================] - 0s 654us/step\n",
      "10/10 [==============================] - 0s 774us/step\n",
      "\n",
      " Creating bootstrap sample  59\n",
      "10/10 [==============================] - 0s 721us/step\n",
      "10/10 [==============================] - 0s 654us/step\n"
     ]
    },
    {
     "name": "stdout",
     "output_type": "stream",
     "text": [
      "10/10 [==============================] - 0s 754us/step\n",
      "10/10 [==============================] - 0s 649us/step\n",
      "10/10 [==============================] - 0s 641us/step\n",
      "10/10 [==============================] - 0s 648us/step\n",
      "10/10 [==============================] - 0s 686us/step\n",
      "10/10 [==============================] - 0s 660us/step\n",
      "10/10 [==============================] - 0s 695us/step\n",
      "10/10 [==============================] - 0s 703us/step\n",
      "10/10 [==============================] - 0s 687us/step\n",
      "10/10 [==============================] - 0s 725us/step\n",
      "\n",
      " Creating bootstrap sample  60\n",
      "10/10 [==============================] - 0s 651us/step\n",
      "10/10 [==============================] - 0s 617us/step\n",
      "10/10 [==============================] - 0s 706us/step\n",
      "10/10 [==============================] - 0s 694us/step\n",
      "10/10 [==============================] - 0s 654us/step\n",
      "10/10 [==============================] - 0s 729us/step\n",
      "10/10 [==============================] - 0s 676us/step\n",
      "10/10 [==============================] - 0s 675us/step\n",
      "10/10 [==============================] - 0s 722us/step\n",
      "10/10 [==============================] - 0s 702us/step\n",
      "10/10 [==============================] - 0s 708us/step\n",
      "10/10 [==============================] - 0s 684us/step\n",
      "\n",
      " Creating bootstrap sample  61\n",
      "10/10 [==============================] - 0s 719us/step\n",
      "10/10 [==============================] - 0s 665us/step\n",
      "10/10 [==============================] - 0s 702us/step\n",
      "10/10 [==============================] - 0s 644us/step\n",
      "10/10 [==============================] - 0s 684us/step\n",
      "10/10 [==============================] - 0s 687us/step\n",
      "10/10 [==============================] - 0s 700us/step\n",
      "10/10 [==============================] - 0s 666us/step\n",
      "10/10 [==============================] - 0s 676us/step\n",
      "10/10 [==============================] - 0s 633us/step\n",
      "10/10 [==============================] - 0s 645us/step\n",
      "10/10 [==============================] - 0s 659us/step\n",
      "\n",
      " Creating bootstrap sample  62\n",
      "10/10 [==============================] - 0s 654us/step\n",
      "10/10 [==============================] - 0s 712us/step\n",
      "10/10 [==============================] - 0s 713us/step\n",
      "10/10 [==============================] - 0s 684us/step\n",
      "10/10 [==============================] - 0s 658us/step\n",
      "10/10 [==============================] - 0s 627us/step\n",
      "10/10 [==============================] - 0s 670us/step\n",
      "10/10 [==============================] - 0s 661us/step\n",
      "10/10 [==============================] - 0s 621us/step\n",
      "10/10 [==============================] - 0s 729us/step\n",
      "10/10 [==============================] - 0s 657us/step\n",
      "10/10 [==============================] - 0s 676us/step\n",
      "\n",
      " Creating bootstrap sample  63\n",
      "10/10 [==============================] - 0s 724us/step\n",
      "10/10 [==============================] - 0s 691us/step\n",
      "10/10 [==============================] - 0s 719us/step\n",
      "10/10 [==============================] - 0s 659us/step\n",
      "10/10 [==============================] - 0s 723us/step\n",
      "10/10 [==============================] - 0s 707us/step\n",
      "10/10 [==============================] - 0s 724us/step\n",
      "10/10 [==============================] - 0s 612us/step\n",
      "10/10 [==============================] - 0s 659us/step\n",
      "10/10 [==============================] - 0s 709us/step\n",
      "10/10 [==============================] - 0s 687us/step\n",
      "10/10 [==============================] - 0s 734us/step\n",
      "\n",
      " Creating bootstrap sample  64\n",
      "10/10 [==============================] - 0s 707us/step\n",
      "10/10 [==============================] - 0s 660us/step\n",
      "10/10 [==============================] - 0s 713us/step\n",
      "10/10 [==============================] - 0s 631us/step\n",
      "10/10 [==============================] - 0s 633us/step\n",
      "10/10 [==============================] - 0s 707us/step\n",
      "10/10 [==============================] - 0s 715us/step\n",
      "10/10 [==============================] - 0s 688us/step\n",
      "10/10 [==============================] - 0s 742us/step\n",
      "10/10 [==============================] - 0s 718us/step\n",
      "10/10 [==============================] - 0s 694us/step\n",
      "10/10 [==============================] - 0s 759us/step\n",
      "\n",
      " Creating bootstrap sample  65\n",
      "10/10 [==============================] - 0s 642us/step\n",
      "10/10 [==============================] - 0s 665us/step\n",
      "10/10 [==============================] - 0s 727us/step\n",
      "10/10 [==============================] - 0s 679us/step\n",
      "10/10 [==============================] - 0s 663us/step\n",
      "10/10 [==============================] - 0s 733us/step\n",
      "10/10 [==============================] - 0s 638us/step\n",
      "10/10 [==============================] - 0s 646us/step\n",
      "10/10 [==============================] - 0s 717us/step\n",
      "10/10 [==============================] - 0s 659us/step\n",
      "10/10 [==============================] - 0s 683us/step\n",
      "10/10 [==============================] - 0s 742us/step\n",
      "\n",
      " Creating bootstrap sample  66\n",
      "10/10 [==============================] - 0s 626us/step\n",
      "10/10 [==============================] - 0s 636us/step\n",
      "10/10 [==============================] - 0s 679us/step\n",
      "10/10 [==============================] - 0s 632us/step\n",
      "10/10 [==============================] - 0s 627us/step\n",
      "10/10 [==============================] - 0s 742us/step\n",
      "10/10 [==============================] - 0s 680us/step\n",
      "10/10 [==============================] - 0s 646us/step\n",
      "10/10 [==============================] - 0s 712us/step\n",
      "10/10 [==============================] - 0s 683us/step\n",
      "10/10 [==============================] - 0s 654us/step\n",
      "10/10 [==============================] - 0s 732us/step\n",
      "\n",
      " Creating bootstrap sample  67\n",
      "10/10 [==============================] - 0s 682us/step\n",
      "10/10 [==============================] - 0s 685us/step\n",
      "10/10 [==============================] - 0s 727us/step\n",
      "10/10 [==============================] - 0s 704us/step\n",
      "10/10 [==============================] - 0s 690us/step\n",
      "10/10 [==============================] - 0s 705us/step\n",
      "10/10 [==============================] - 0s 733us/step\n",
      "10/10 [==============================] - 0s 682us/step\n",
      "10/10 [==============================] - 0s 683us/step\n",
      "10/10 [==============================] - 0s 696us/step\n",
      "10/10 [==============================] - 0s 689us/step\n",
      "10/10 [==============================] - 0s 722us/step\n",
      "\n",
      " Creating bootstrap sample  68\n",
      "10/10 [==============================] - 0s 681us/step\n",
      "10/10 [==============================] - 0s 643us/step\n",
      "10/10 [==============================] - 0s 651us/step\n",
      "10/10 [==============================] - 0s 621us/step\n",
      "10/10 [==============================] - 0s 672us/step\n",
      "10/10 [==============================] - 0s 717us/step\n",
      "10/10 [==============================] - 0s 638us/step\n",
      "10/10 [==============================] - 0s 658us/step\n",
      "10/10 [==============================] - 0s 761us/step\n",
      "10/10 [==============================] - 0s 672us/step\n",
      "10/10 [==============================] - 0s 706us/step\n",
      "10/10 [==============================] - 0s 713us/step\n",
      "\n",
      " Creating bootstrap sample  69\n",
      "10/10 [==============================] - 0s 719us/step\n",
      "10/10 [==============================] - 0s 624us/step\n",
      "10/10 [==============================] - 0s 746us/step\n",
      "10/10 [==============================] - 0s 746us/step\n",
      "10/10 [==============================] - 0s 706us/step\n",
      "10/10 [==============================] - 0s 738us/step\n",
      "10/10 [==============================] - 0s 649us/step\n",
      "10/10 [==============================] - 0s 686us/step\n",
      "10/10 [==============================] - 0s 651us/step\n",
      "10/10 [==============================] - 0s 738us/step\n",
      "10/10 [==============================] - 0s 689us/step\n",
      "10/10 [==============================] - 0s 679us/step\n",
      "\n",
      " Creating bootstrap sample  70\n",
      "10/10 [==============================] - 0s 688us/step\n",
      "10/10 [==============================] - 0s 624us/step\n",
      "10/10 [==============================] - 0s 694us/step\n",
      "10/10 [==============================] - 0s 690us/step\n",
      "10/10 [==============================] - 0s 669us/step\n",
      "10/10 [==============================] - 0s 737us/step\n",
      "10/10 [==============================] - 0s 671us/step\n",
      "10/10 [==============================] - 0s 688us/step\n",
      "10/10 [==============================] - 0s 714us/step\n",
      "10/10 [==============================] - 0s 638us/step\n",
      "10/10 [==============================] - 0s 623us/step\n",
      "10/10 [==============================] - 0s 725us/step\n",
      "\n",
      " Creating bootstrap sample  71\n"
     ]
    },
    {
     "name": "stdout",
     "output_type": "stream",
     "text": [
      "10/10 [==============================] - 0s 666us/step\n",
      "10/10 [==============================] - 0s 652us/step\n",
      "10/10 [==============================] - 0s 683us/step\n",
      "10/10 [==============================] - 0s 701us/step\n",
      "10/10 [==============================] - 0s 647us/step\n",
      "10/10 [==============================] - 0s 682us/step\n",
      "10/10 [==============================] - 0s 611us/step\n",
      "10/10 [==============================] - 0s 667us/step\n",
      "10/10 [==============================] - 0s 736us/step\n",
      "10/10 [==============================] - 0s 661us/step\n",
      "10/10 [==============================] - 0s 612us/step\n",
      "10/10 [==============================] - 0s 702us/step\n",
      "\n",
      " Creating bootstrap sample  72\n",
      "10/10 [==============================] - 0s 708us/step\n",
      "10/10 [==============================] - 0s 639us/step\n",
      "10/10 [==============================] - 0s 721us/step\n",
      "10/10 [==============================] - 0s 690us/step\n",
      "10/10 [==============================] - 0s 659us/step\n",
      "10/10 [==============================] - 0s 703us/step\n",
      "10/10 [==============================] - 0s 643us/step\n",
      "10/10 [==============================] - 0s 671us/step\n",
      "10/10 [==============================] - 0s 637us/step\n",
      "10/10 [==============================] - 0s 637us/step\n",
      "10/10 [==============================] - 0s 663us/step\n",
      "10/10 [==============================] - 0s 645us/step\n",
      "\n",
      " Creating bootstrap sample  73\n",
      "10/10 [==============================] - 0s 724us/step\n",
      "10/10 [==============================] - 0s 705us/step\n",
      "10/10 [==============================] - 0s 693us/step\n",
      "10/10 [==============================] - 0s 656us/step\n",
      "10/10 [==============================] - 0s 670us/step\n",
      "10/10 [==============================] - 0s 692us/step\n",
      "10/10 [==============================] - 0s 693us/step\n",
      "10/10 [==============================] - 0s 693us/step\n",
      "10/10 [==============================] - 0s 695us/step\n",
      "10/10 [==============================] - 0s 745us/step\n",
      "10/10 [==============================] - 0s 695us/step\n",
      "10/10 [==============================] - 0s 669us/step\n",
      "\n",
      " Creating bootstrap sample  74\n",
      "10/10 [==============================] - 0s 716us/step\n",
      "10/10 [==============================] - 0s 652us/step\n",
      "10/10 [==============================] - 0s 742us/step\n",
      "10/10 [==============================] - 0s 690us/step\n",
      "10/10 [==============================] - 0s 624us/step\n",
      "10/10 [==============================] - 0s 700us/step\n",
      "10/10 [==============================] - 0s 752us/step\n",
      "10/10 [==============================] - 0s 691us/step\n",
      "10/10 [==============================] - 0s 682us/step\n",
      "10/10 [==============================] - 0s 628us/step\n",
      "10/10 [==============================] - 0s 602us/step\n",
      "10/10 [==============================] - 0s 672us/step\n",
      "\n",
      " Creating bootstrap sample  75\n",
      "10/10 [==============================] - 0s 741us/step\n",
      "10/10 [==============================] - 0s 660us/step\n",
      "10/10 [==============================] - 0s 679us/step\n",
      "10/10 [==============================] - 0s 678us/step\n",
      "10/10 [==============================] - 0s 670us/step\n",
      "10/10 [==============================] - 0s 723us/step\n",
      "10/10 [==============================] - 0s 703us/step\n",
      "10/10 [==============================] - 0s 640us/step\n",
      "10/10 [==============================] - 0s 633us/step\n",
      "10/10 [==============================] - 0s 623us/step\n",
      "10/10 [==============================] - 0s 702us/step\n",
      "10/10 [==============================] - 0s 689us/step\n",
      "\n",
      " Creating bootstrap sample  76\n",
      "10/10 [==============================] - 0s 766us/step\n",
      "10/10 [==============================] - 0s 686us/step\n",
      "10/10 [==============================] - 0s 752us/step\n",
      "10/10 [==============================] - 0s 693us/step\n",
      "10/10 [==============================] - 0s 655us/step\n",
      "10/10 [==============================] - 0s 729us/step\n",
      "10/10 [==============================] - 0s 716us/step\n",
      "10/10 [==============================] - 0s 644us/step\n",
      "10/10 [==============================] - 0s 714us/step\n",
      "10/10 [==============================] - 0s 657us/step\n",
      "10/10 [==============================] - 0s 655us/step\n",
      "10/10 [==============================] - 0s 703us/step\n",
      "\n",
      " Creating bootstrap sample  77\n",
      "10/10 [==============================] - 0s 664us/step\n",
      "10/10 [==============================] - 0s 616us/step\n",
      "10/10 [==============================] - 0s 725us/step\n",
      "10/10 [==============================] - 0s 678us/step\n",
      "10/10 [==============================] - 0s 683us/step\n",
      "10/10 [==============================] - 0s 716us/step\n",
      "10/10 [==============================] - 0s 638us/step\n",
      "10/10 [==============================] - 0s 640us/step\n",
      "10/10 [==============================] - 0s 704us/step\n",
      "10/10 [==============================] - 0s 673us/step\n",
      "10/10 [==============================] - 0s 645us/step\n",
      "10/10 [==============================] - 0s 723us/step\n",
      "\n",
      " Creating bootstrap sample  78\n",
      "10/10 [==============================] - 0s 642us/step\n",
      "10/10 [==============================] - 0s 676us/step\n",
      "10/10 [==============================] - 0s 689us/step\n",
      "10/10 [==============================] - 0s 613us/step\n",
      "10/10 [==============================] - 0s 633us/step\n",
      "10/10 [==============================] - 0s 706us/step\n",
      "10/10 [==============================] - 0s 693us/step\n",
      "10/10 [==============================] - 0s 683us/step\n",
      "10/10 [==============================] - 0s 679us/step\n",
      "10/10 [==============================] - 0s 696us/step\n",
      "10/10 [==============================] - 0s 697us/step\n",
      "10/10 [==============================] - 0s 696us/step\n",
      "\n",
      " Creating bootstrap sample  79\n",
      "10/10 [==============================] - 0s 690us/step\n",
      "10/10 [==============================] - 0s 694us/step\n",
      "10/10 [==============================] - 0s 662us/step\n",
      "10/10 [==============================] - 0s 724us/step\n",
      "10/10 [==============================] - 0s 688us/step\n",
      "10/10 [==============================] - 0s 702us/step\n",
      "10/10 [==============================] - 0s 664us/step\n",
      "10/10 [==============================] - 0s 705us/step\n",
      "10/10 [==============================] - 0s 670us/step\n",
      "10/10 [==============================] - 0s 692us/step\n",
      "10/10 [==============================] - 0s 669us/step\n",
      "10/10 [==============================] - 0s 645us/step\n",
      "CPU times: user 44min 11s, sys: 3min 56s, total: 48min 8s\n",
      "Wall time: 35min 35s\n"
     ]
    }
   ],
   "source": [
    "%%time\n",
    "\n",
    "rng = np.random.default_rng()\n",
    "\n",
    "for bi in range(0,n_boot_samples) :\n",
    "    \n",
    "    if do_bootstrap :\n",
    "        print(\"\\n Creating bootstrap sample %3d\" % bi )\n",
    "        #boot_true_det_pts = np.random.Generator.choice( true_det_pts, size=len(true_det_pts) )\n",
    "        boot_true_det_pts = rng.choice( true_det_pts, size=len(true_det_pts) )\n",
    "        \n",
    "    else :\n",
    "        print(\"\\n Creating toy sample %3d\" % bi )\n",
    "        boot_true_pts = np.random.multivariate_normal(true_mu, true_cov, size=ngen_true)\n",
    "        boot_true_det_pts = np.random.normal( boot_true_pts, [res0, res1])\n",
    "        \n",
    "    boot_of_weights = of.omnifold( train_both, boot_true_det_pts, of_niter, model, verbose)\n",
    "    \n",
    "    bootstrap_weights[bi] = boot_of_weights[3,1,:]\n",
    "    "
   ]
  },
  {
   "cell_type": "code",
   "execution_count": null,
   "id": "b574cb8f",
   "metadata": {},
   "outputs": [],
   "source": []
  },
  {
   "cell_type": "code",
   "execution_count": 27,
   "id": "9fd6e827",
   "metadata": {},
   "outputs": [
    {
     "data": {
      "text/plain": [
       "array([[0.13247231, 0.08639991, 0.13898715, ..., 0.13879769, 0.08087395,\n",
       "        0.0790152 ],\n",
       "       [0.12426968, 0.08955336, 0.12993053, ..., 0.14116877, 0.08338995,\n",
       "        0.08686153],\n",
       "       [0.13321391, 0.09118757, 0.13333564, ..., 0.14627579, 0.08913931,\n",
       "        0.08717971],\n",
       "       ...,\n",
       "       [0.12998101, 0.08671696, 0.14403714, ..., 0.14258783, 0.07810406,\n",
       "        0.07784241],\n",
       "       [0.12213445, 0.09515577, 0.13456137, ..., 0.12551177, 0.08964425,\n",
       "        0.08778937],\n",
       "       [0.12503999, 0.08362254, 0.13675007, ..., 0.12392125, 0.08334052,\n",
       "        0.0724555 ]])"
      ]
     },
     "execution_count": 27,
     "metadata": {},
     "output_type": "execute_result"
    }
   ],
   "source": [
    "bootstrap_weights"
   ]
  },
  {
   "cell_type": "code",
   "execution_count": 28,
   "id": "23f28982",
   "metadata": {},
   "outputs": [
    {
     "data": {
      "text/plain": [
       "array([0.12462258, 0.08603258, 0.13079964, ..., 0.13709782, 0.08384567,\n",
       "       0.08562738])"
      ]
     },
     "execution_count": 28,
     "metadata": {},
     "output_type": "execute_result"
    }
   ],
   "source": [
    "of_weights[3,1,:]"
   ]
  },
  {
   "cell_type": "code",
   "execution_count": 29,
   "id": "fe407616",
   "metadata": {},
   "outputs": [
    {
     "data": {
      "text/plain": [
       "array([0.13247231, 0.08639991, 0.13898715, ..., 0.13879769, 0.08087395,\n",
       "       0.0790152 ])"
      ]
     },
     "execution_count": 29,
     "metadata": {},
     "output_type": "execute_result"
    }
   ],
   "source": [
    "bootstrap_weights[0]"
   ]
  },
  {
   "cell_type": "code",
   "execution_count": 30,
   "id": "2f493e7d",
   "metadata": {},
   "outputs": [
    {
     "data": {
      "text/plain": [
       "array(3.62504954e-05)"
      ]
     },
     "execution_count": 30,
     "metadata": {},
     "output_type": "execute_result"
    }
   ],
   "source": [
    "np.cov( bootstrap_weights[:,0])"
   ]
  },
  {
   "cell_type": "code",
   "execution_count": 31,
   "id": "060b228a",
   "metadata": {},
   "outputs": [
    {
     "data": {
      "text/plain": [
       "array([0.12911779, 0.12545814, 0.12583436, 0.12602217, 0.13475788,\n",
       "       0.13708647, 0.13587669, 0.13308927, 0.12946633, 0.12467739,\n",
       "       0.12306727, 0.12857342, 0.1274133 , 0.12454963, 0.13796069,\n",
       "       0.14186497, 0.13334426, 0.12670878, 0.13495882, 0.1389538 ,\n",
       "       0.12859109, 0.1404434 , 0.13526826, 0.12623362, 0.12755546,\n",
       "       0.13146415, 0.13859518, 0.14378282, 0.15114248, 0.13121   ,\n",
       "       0.13134642, 0.13342968, 0.13394859, 0.12809283, 0.12629978,\n",
       "       0.14175677, 0.14358649, 0.14330564, 0.13881437, 0.13025701,\n",
       "       0.13095556, 0.13072443, 0.14619493, 0.13911156, 0.13522582,\n",
       "       0.13073386, 0.14445576, 0.14054547, 0.12327082, 0.14338264,\n",
       "       0.13959453, 0.13513663, 0.13323948, 0.12233187, 0.13539955,\n",
       "       0.13097371, 0.12047604, 0.14193922, 0.14536805, 0.13996562,\n",
       "       0.13528128, 0.12760967, 0.11611835, 0.13009033, 0.12717886,\n",
       "       0.13335894, 0.13729173, 0.12324825, 0.13553916, 0.14151439,\n",
       "       0.13635227, 0.12837851, 0.13024886, 0.13301717, 0.12935868,\n",
       "       0.12967069, 0.140689  , 0.12846133, 0.12182353, 0.12773845])"
      ]
     },
     "execution_count": 31,
     "metadata": {},
     "output_type": "execute_result"
    }
   ],
   "source": [
    "bootstrap_weights[:,100]"
   ]
  },
  {
   "cell_type": "code",
   "execution_count": 32,
   "id": "8ae20e80",
   "metadata": {},
   "outputs": [
    {
     "data": {
      "text/plain": [
       "<function matplotlib.pyplot.show(close=None, block=None)>"
      ]
     },
     "execution_count": 32,
     "metadata": {},
     "output_type": "execute_result"
    },
    {
     "data": {
      "image/png": "[encoded data removed]",
      "text/plain": [
       "<Figure size 432x288 with 1 Axes>"
      ]
     },
     "metadata": {
      "needs_background": "light"
     },
     "output_type": "display_data"
    }
   ],
   "source": [
    "plt.hist( bootstrap_weights[1,:], bins=40)\n",
    "plt.show"
   ]
  },
  {
   "cell_type": "code",
   "execution_count": 33,
   "id": "d89008c4",
   "metadata": {},
   "outputs": [
    {
     "data": {
      "text/plain": [
       "array([0.12381586, 0.08683878, 0.13773779, ..., 0.13859489, 0.08378021,\n",
       "       0.07946309])"
      ]
     },
     "execution_count": 33,
     "metadata": {},
     "output_type": "execute_result"
    }
   ],
   "source": [
    "np.mean( bootstrap_weights, axis=0 )"
   ]
  },
  {
   "cell_type": "code",
   "execution_count": 34,
   "id": "38547729",
   "metadata": {},
   "outputs": [],
   "source": [
    "bootstrap_w2 = bootstrap_weights * bootstrap_weights"
   ]
  },
  {
   "cell_type": "code",
   "execution_count": 35,
   "id": "e5c9a0e0",
   "metadata": {},
   "outputs": [
    {
     "data": {
      "text/plain": [
       "array([[0.01754891, 0.00746494, 0.01931743, ..., 0.0192648 , 0.0065406 ,\n",
       "        0.0062434 ],\n",
       "       [0.01544295, 0.0080198 , 0.01688194, ..., 0.01992862, 0.00695388,\n",
       "        0.00754493],\n",
       "       [0.01774595, 0.00831517, 0.01777839, ..., 0.02139661, 0.00794582,\n",
       "        0.0076003 ],\n",
       "       ...,\n",
       "       [0.01689506, 0.00751983, 0.0207467 , ..., 0.02033129, 0.00610024,\n",
       "        0.00605944],\n",
       "       [0.01491682, 0.00905462, 0.01810676, ..., 0.0157532 , 0.00803609,\n",
       "        0.00770697],\n",
       "       [0.015635  , 0.00699273, 0.01870058, ..., 0.01535648, 0.00694564,\n",
       "        0.0052498 ]])"
      ]
     },
     "execution_count": 35,
     "metadata": {},
     "output_type": "execute_result"
    }
   ],
   "source": [
    "bootstrap_w2"
   ]
  },
  {
   "cell_type": "code",
   "execution_count": 36,
   "id": "9da89463",
   "metadata": {},
   "outputs": [],
   "source": [
    "bootstrap_variance = np.mean( bootstrap_w2, axis=0 ) - np.mean( bootstrap_weights, axis=0 ) * np.mean( bootstrap_weights, axis=0 )"
   ]
  },
  {
   "cell_type": "code",
   "execution_count": 37,
   "id": "7f7c48a3",
   "metadata": {},
   "outputs": [
    {
     "data": {
      "text/plain": [
       "array([3.57973642e-05, 1.96674781e-05, 2.75259252e-05, ...,\n",
       "       3.51225371e-05, 1.85961854e-05, 2.88804955e-05])"
      ]
     },
     "execution_count": 37,
     "metadata": {},
     "output_type": "execute_result"
    }
   ],
   "source": [
    "bootstrap_variance"
   ]
  },
  {
   "cell_type": "code",
   "execution_count": 38,
   "id": "d0c962b0",
   "metadata": {},
   "outputs": [],
   "source": [
    "bootstrap_rms = np.sqrt( bootstrap_variance )"
   ]
  },
  {
   "cell_type": "code",
   "execution_count": 39,
   "id": "60d8c265",
   "metadata": {},
   "outputs": [
    {
     "data": {
      "text/plain": [
       "array([0.00598309, 0.0044348 , 0.00524652, ..., 0.00592643, 0.00431233,\n",
       "       0.00537406])"
      ]
     },
     "execution_count": 39,
     "metadata": {},
     "output_type": "execute_result"
    }
   ],
   "source": [
    "bootstrap_rms"
   ]
  },
  {
   "cell_type": "code",
   "execution_count": null,
   "id": "94fb8c8b",
   "metadata": {},
   "outputs": [],
   "source": []
  },
  {
   "cell_type": "code",
   "execution_count": null,
   "id": "496d3756",
   "metadata": {},
   "outputs": [],
   "source": []
  },
  {
   "cell_type": "code",
   "execution_count": 40,
   "id": "cf73f300",
   "metadata": {},
   "outputs": [],
   "source": [
    "col_vec = np.array([[11],[22],[33]])"
   ]
  },
  {
   "cell_type": "code",
   "execution_count": 41,
   "id": "21e30ace",
   "metadata": {},
   "outputs": [
    {
     "data": {
      "text/plain": [
       "array([[11],\n",
       "       [22],\n",
       "       [33]])"
      ]
     },
     "execution_count": 41,
     "metadata": {},
     "output_type": "execute_result"
    }
   ],
   "source": [
    "col_vec"
   ]
  },
  {
   "cell_type": "code",
   "execution_count": 42,
   "id": "d8cf64fa",
   "metadata": {},
   "outputs": [],
   "source": [
    "row_vec = col_vec.T"
   ]
  },
  {
   "cell_type": "code",
   "execution_count": 43,
   "id": "af845255",
   "metadata": {},
   "outputs": [
    {
     "data": {
      "text/plain": [
       "array([[11, 22, 33]])"
      ]
     },
     "execution_count": 43,
     "metadata": {},
     "output_type": "execute_result"
    }
   ],
   "source": [
    "row_vec"
   ]
  },
  {
   "cell_type": "code",
   "execution_count": 44,
   "id": "1ed43f75",
   "metadata": {},
   "outputs": [],
   "source": [
    "col_times_row = col_vec * row_vec"
   ]
  },
  {
   "cell_type": "code",
   "execution_count": 45,
   "id": "4f84210b",
   "metadata": {},
   "outputs": [
    {
     "data": {
      "text/plain": [
       "array([[ 121,  242,  363],\n",
       "       [ 242,  484,  726],\n",
       "       [ 363,  726, 1089]])"
      ]
     },
     "execution_count": 45,
     "metadata": {},
     "output_type": "execute_result"
    }
   ],
   "source": [
    "col_times_row"
   ]
  },
  {
   "cell_type": "code",
   "execution_count": 46,
   "id": "322ed215",
   "metadata": {},
   "outputs": [
    {
     "data": {
      "text/plain": [
       "(3, 1)"
      ]
     },
     "execution_count": 46,
     "metadata": {},
     "output_type": "execute_result"
    }
   ],
   "source": [
    "col_vec.shape"
   ]
  },
  {
   "cell_type": "code",
   "execution_count": 47,
   "id": "0a057c84",
   "metadata": {},
   "outputs": [
    {
     "data": {
      "text/plain": [
       "(1, 3)"
      ]
     },
     "execution_count": 47,
     "metadata": {},
     "output_type": "execute_result"
    }
   ],
   "source": [
    "row_vec.shape"
   ]
  },
  {
   "cell_type": "code",
   "execution_count": 48,
   "id": "4459a028",
   "metadata": {},
   "outputs": [
    {
     "data": {
      "text/plain": [
       "(3, 3)"
      ]
     },
     "execution_count": 48,
     "metadata": {},
     "output_type": "execute_result"
    }
   ],
   "source": [
    "col_times_row.shape"
   ]
  },
  {
   "cell_type": "code",
   "execution_count": 49,
   "id": "c9c063d7",
   "metadata": {},
   "outputs": [],
   "source": [
    "row_times_col = row_vec * col_vec"
   ]
  },
  {
   "cell_type": "code",
   "execution_count": 50,
   "id": "623c358a",
   "metadata": {
    "scrolled": true
   },
   "outputs": [
    {
     "data": {
      "text/plain": [
       "array([[ 121,  242,  363],\n",
       "       [ 242,  484,  726],\n",
       "       [ 363,  726, 1089]])"
      ]
     },
     "execution_count": 50,
     "metadata": {},
     "output_type": "execute_result"
    }
   ],
   "source": [
    "row_times_col"
   ]
  },
  {
   "cell_type": "code",
   "execution_count": 51,
   "id": "b4e5cfd6",
   "metadata": {},
   "outputs": [],
   "source": [
    "row_times_row = row_vec * row_vec"
   ]
  },
  {
   "cell_type": "code",
   "execution_count": 52,
   "id": "3237876a",
   "metadata": {},
   "outputs": [
    {
     "data": {
      "text/plain": [
       "array([[ 121,  484, 1089]])"
      ]
     },
     "execution_count": 52,
     "metadata": {},
     "output_type": "execute_result"
    }
   ],
   "source": [
    "row_times_row"
   ]
  },
  {
   "cell_type": "code",
   "execution_count": 53,
   "id": "99e4ca2e",
   "metadata": {},
   "outputs": [],
   "source": [
    "#row_dot_row = np.dot(row_vec,row_vec)"
   ]
  },
  {
   "cell_type": "code",
   "execution_count": 54,
   "id": "a7d43b7d",
   "metadata": {},
   "outputs": [],
   "source": [
    "row_dot_col = np.dot(row_vec,col_vec)"
   ]
  },
  {
   "cell_type": "code",
   "execution_count": 55,
   "id": "8d56dffb",
   "metadata": {},
   "outputs": [
    {
     "data": {
      "text/plain": [
       "array([[1694]])"
      ]
     },
     "execution_count": 55,
     "metadata": {},
     "output_type": "execute_result"
    }
   ],
   "source": [
    "row_dot_col"
   ]
  },
  {
   "cell_type": "code",
   "execution_count": 56,
   "id": "f6aa7076",
   "metadata": {},
   "outputs": [
    {
     "data": {
      "text/plain": [
       "(1, 1)"
      ]
     },
     "execution_count": 56,
     "metadata": {},
     "output_type": "execute_result"
    }
   ],
   "source": [
    "row_dot_col.shape"
   ]
  },
  {
   "cell_type": "code",
   "execution_count": 57,
   "id": "79cb4dd0",
   "metadata": {},
   "outputs": [],
   "source": [
    "col_dot_row = np.dot(col_vec,row_vec)"
   ]
  },
  {
   "cell_type": "code",
   "execution_count": 58,
   "id": "f710d236",
   "metadata": {},
   "outputs": [
    {
     "data": {
      "text/plain": [
       "array([[ 121,  242,  363],\n",
       "       [ 242,  484,  726],\n",
       "       [ 363,  726, 1089]])"
      ]
     },
     "execution_count": 58,
     "metadata": {},
     "output_type": "execute_result"
    }
   ],
   "source": [
    "col_dot_row"
   ]
  },
  {
   "cell_type": "code",
   "execution_count": null,
   "id": "f4cab562",
   "metadata": {},
   "outputs": [],
   "source": []
  },
  {
   "cell_type": "code",
   "execution_count": 59,
   "id": "c9623bf7",
   "metadata": {},
   "outputs": [
    {
     "data": {
      "text/plain": [
       "(80, 100000)"
      ]
     },
     "execution_count": 59,
     "metadata": {},
     "output_type": "execute_result"
    }
   ],
   "source": [
    "bootstrap_weights.shape"
   ]
  },
  {
   "cell_type": "code",
   "execution_count": 60,
   "id": "a2fef579",
   "metadata": {},
   "outputs": [
    {
     "data": {
      "text/plain": [
       "array([[0.13247231, 0.12426968, 0.13321391, ..., 0.12998101, 0.12213445,\n",
       "        0.12503999],\n",
       "       [0.08639991, 0.08955336, 0.09118757, ..., 0.08671696, 0.09515577,\n",
       "        0.08362254],\n",
       "       [0.13898715, 0.12993053, 0.13333564, ..., 0.14403714, 0.13456137,\n",
       "        0.13675007],\n",
       "       ...,\n",
       "       [0.13879769, 0.14116877, 0.14627579, ..., 0.14258783, 0.12551177,\n",
       "        0.12392125],\n",
       "       [0.08087395, 0.08338995, 0.08913931, ..., 0.07810406, 0.08964425,\n",
       "        0.08334052],\n",
       "       [0.0790152 , 0.08686153, 0.08717971, ..., 0.07784241, 0.08778937,\n",
       "        0.0724555 ]])"
      ]
     },
     "execution_count": 60,
     "metadata": {},
     "output_type": "execute_result"
    }
   ],
   "source": [
    "bootstrap_weights.T"
   ]
  },
  {
   "cell_type": "code",
   "execution_count": 61,
   "id": "9ba78e93",
   "metadata": {},
   "outputs": [
    {
     "data": {
      "text/plain": [
       "(100000, 80)"
      ]
     },
     "execution_count": 61,
     "metadata": {},
     "output_type": "execute_result"
    }
   ],
   "source": [
    "bootstrap_weights.T.shape"
   ]
  },
  {
   "cell_type": "code",
   "execution_count": 62,
   "id": "47da707e",
   "metadata": {},
   "outputs": [],
   "source": [
    "bootstrap_weights_dot = np.dot( bootstrap_weights, bootstrap_weights.T )"
   ]
  },
  {
   "cell_type": "code",
   "execution_count": 63,
   "id": "c7536080",
   "metadata": {},
   "outputs": [
    {
     "data": {
      "text/plain": [
       "array([[1067.09166843, 1071.34245712, 1106.00444891, ..., 1092.0798544 ,\n",
       "        1074.08635602, 1058.4967495 ],\n",
       "       [1071.34245712, 1077.96935575, 1112.74224955, ..., 1098.22085561,\n",
       "        1082.14106012, 1064.63985864],\n",
       "       [1106.00444891, 1112.74224955, 1151.44003983, ..., 1134.70135327,\n",
       "        1118.13375332, 1100.16841083],\n",
       "       ...,\n",
       "       [1092.0798544 , 1098.22085561, 1134.70135327, ..., 1124.00843285,\n",
       "        1104.21287878, 1086.76795076],\n",
       "       [1074.08635602, 1082.14106012, 1118.13375332, ..., 1104.21287878,\n",
       "        1092.73440391, 1072.22206814],\n",
       "       [1058.4967495 , 1064.63985864, 1100.16841083, ..., 1086.76795076,\n",
       "        1072.22206814, 1057.57088097]])"
      ]
     },
     "execution_count": 63,
     "metadata": {},
     "output_type": "execute_result"
    }
   ],
   "source": [
    "bootstrap_weights_dot"
   ]
  },
  {
   "cell_type": "code",
   "execution_count": 64,
   "id": "e614a013",
   "metadata": {},
   "outputs": [
    {
     "data": {
      "text/plain": [
       "(80, 80)"
      ]
     },
     "execution_count": 64,
     "metadata": {},
     "output_type": "execute_result"
    }
   ],
   "source": [
    "bootstrap_weights_dot.shape"
   ]
  },
  {
   "cell_type": "code",
   "execution_count": 65,
   "id": "27b4b892",
   "metadata": {},
   "outputs": [],
   "source": [
    "#bootstrap_weights_dot2 = np.dot( bootstrap_weights.T, bootstrap_weights )"
   ]
  },
  {
   "cell_type": "code",
   "execution_count": 66,
   "id": "ca2993e0",
   "metadata": {},
   "outputs": [],
   "source": [
    "#bootstrap_weights_dot2"
   ]
  },
  {
   "cell_type": "code",
   "execution_count": null,
   "id": "43dc8838",
   "metadata": {},
   "outputs": [],
   "source": []
  },
  {
   "cell_type": "code",
   "execution_count": null,
   "id": "8b701e7e",
   "metadata": {},
   "outputs": [],
   "source": []
  },
  {
   "cell_type": "code",
   "execution_count": 67,
   "id": "bf34fc35",
   "metadata": {},
   "outputs": [
    {
     "data": {
      "text/plain": [
       "array([0.13247231, 0.12426968, 0.13321391, 0.12781706, 0.12351473,\n",
       "       0.13062648, 0.12253537, 0.1266923 , 0.12482434, 0.11855256,\n",
       "       0.12405068, 0.11288357, 0.12424067, 0.12278402, 0.12849399,\n",
       "       0.12661774, 0.13104828, 0.12803185, 0.1118715 , 0.10950419,\n",
       "       0.12478186, 0.13340129, 0.1155692 , 0.11556774, 0.13094541,\n",
       "       0.12366161, 0.12372386, 0.11978458, 0.11545513, 0.11853323,\n",
       "       0.12445821, 0.11769042, 0.12131674, 0.12385172, 0.10950995,\n",
       "       0.1300471 , 0.13144708, 0.12825012, 0.12191087, 0.12993531,\n",
       "       0.11986737, 0.12167408, 0.13055643, 0.12153096, 0.12130584,\n",
       "       0.11819439, 0.12055115, 0.12314938, 0.12535572, 0.11688729,\n",
       "       0.12742874, 0.12399083, 0.12242248, 0.12027881, 0.11797708,\n",
       "       0.13085234, 0.11563129, 0.1174449 , 0.12850612, 0.11131986,\n",
       "       0.11403668, 0.11967916, 0.13021797, 0.12614806, 0.1308506 ,\n",
       "       0.12552638, 0.13113765, 0.12477379, 0.13197504, 0.11775675,\n",
       "       0.13073584, 0.13496312, 0.13005888, 0.12359754, 0.12954129,\n",
       "       0.12611108, 0.12219157, 0.12998101, 0.12213445, 0.12503999])"
      ]
     },
     "execution_count": 67,
     "metadata": {},
     "output_type": "execute_result"
    }
   ],
   "source": [
    "bootstrap_weights[:,0]"
   ]
  },
  {
   "cell_type": "code",
   "execution_count": 68,
   "id": "f261f405",
   "metadata": {},
   "outputs": [
    {
     "data": {
      "text/plain": [
       "array([0.08639991, 0.08955336, 0.09118757, 0.09041947, 0.08219864,\n",
       "       0.08459171, 0.08193965, 0.08366936, 0.0883038 , 0.09244302,\n",
       "       0.09290258, 0.08567068, 0.08715542, 0.08349773, 0.09322944,\n",
       "       0.086689  , 0.08015575, 0.08892978, 0.09148593, 0.08158516,\n",
       "       0.0928528 , 0.08901782, 0.08456397, 0.08896799, 0.08895847,\n",
       "       0.08449724, 0.08942937, 0.08415893, 0.08582771, 0.08322222,\n",
       "       0.08391906, 0.08522134, 0.0888513 , 0.09501541, 0.08419339,\n",
       "       0.08885456, 0.08367398, 0.08471581, 0.08378024, 0.09219813,\n",
       "       0.08960805, 0.08705391, 0.09732877, 0.08648983, 0.08491441,\n",
       "       0.09411128, 0.07969832, 0.0811718 , 0.09079526, 0.09226362,\n",
       "       0.08228909, 0.08857876, 0.09291268, 0.0865493 , 0.08682209,\n",
       "       0.09418229, 0.0862002 , 0.09441347, 0.09051216, 0.08883568,\n",
       "       0.08516563, 0.08215219, 0.08190665, 0.08763826, 0.09522505,\n",
       "       0.08436984, 0.08177537, 0.08234268, 0.08486223, 0.08555815,\n",
       "       0.07791945, 0.0846383 , 0.08537746, 0.08450831, 0.08340202,\n",
       "       0.08021587, 0.07589097, 0.08671696, 0.09515577, 0.08362254])"
      ]
     },
     "execution_count": 68,
     "metadata": {},
     "output_type": "execute_result"
    }
   ],
   "source": [
    "bootstrap_weights[:,1]"
   ]
  },
  {
   "cell_type": "code",
   "execution_count": 69,
   "id": "1c4d40e4",
   "metadata": {},
   "outputs": [],
   "source": [
    "combined = np.column_stack( (bootstrap_weights[:,0], bootstrap_weights[:,1]))"
   ]
  },
  {
   "cell_type": "code",
   "execution_count": 70,
   "id": "884a79ad",
   "metadata": {
    "scrolled": true
   },
   "outputs": [
    {
     "data": {
      "text/plain": [
       "array([[0.13247231, 0.08639991],\n",
       "       [0.12426968, 0.08955336],\n",
       "       [0.13321391, 0.09118757],\n",
       "       [0.12781706, 0.09041947],\n",
       "       [0.12351473, 0.08219864],\n",
       "       [0.13062648, 0.08459171],\n",
       "       [0.12253537, 0.08193965],\n",
       "       [0.1266923 , 0.08366936],\n",
       "       [0.12482434, 0.0883038 ],\n",
       "       [0.11855256, 0.09244302],\n",
       "       [0.12405068, 0.09290258],\n",
       "       [0.11288357, 0.08567068],\n",
       "       [0.12424067, 0.08715542],\n",
       "       [0.12278402, 0.08349773],\n",
       "       [0.12849399, 0.09322944],\n",
       "       [0.12661774, 0.086689  ],\n",
       "       [0.13104828, 0.08015575],\n",
       "       [0.12803185, 0.08892978],\n",
       "       [0.1118715 , 0.09148593],\n",
       "       [0.10950419, 0.08158516],\n",
       "       [0.12478186, 0.0928528 ],\n",
       "       [0.13340129, 0.08901782],\n",
       "       [0.1155692 , 0.08456397],\n",
       "       [0.11556774, 0.08896799],\n",
       "       [0.13094541, 0.08895847],\n",
       "       [0.12366161, 0.08449724],\n",
       "       [0.12372386, 0.08942937],\n",
       "       [0.11978458, 0.08415893],\n",
       "       [0.11545513, 0.08582771],\n",
       "       [0.11853323, 0.08322222],\n",
       "       [0.12445821, 0.08391906],\n",
       "       [0.11769042, 0.08522134],\n",
       "       [0.12131674, 0.0888513 ],\n",
       "       [0.12385172, 0.09501541],\n",
       "       [0.10950995, 0.08419339],\n",
       "       [0.1300471 , 0.08885456],\n",
       "       [0.13144708, 0.08367398],\n",
       "       [0.12825012, 0.08471581],\n",
       "       [0.12191087, 0.08378024],\n",
       "       [0.12993531, 0.09219813],\n",
       "       [0.11986737, 0.08960805],\n",
       "       [0.12167408, 0.08705391],\n",
       "       [0.13055643, 0.09732877],\n",
       "       [0.12153096, 0.08648983],\n",
       "       [0.12130584, 0.08491441],\n",
       "       [0.11819439, 0.09411128],\n",
       "       [0.12055115, 0.07969832],\n",
       "       [0.12314938, 0.0811718 ],\n",
       "       [0.12535572, 0.09079526],\n",
       "       [0.11688729, 0.09226362],\n",
       "       [0.12742874, 0.08228909],\n",
       "       [0.12399083, 0.08857876],\n",
       "       [0.12242248, 0.09291268],\n",
       "       [0.12027881, 0.0865493 ],\n",
       "       [0.11797708, 0.08682209],\n",
       "       [0.13085234, 0.09418229],\n",
       "       [0.11563129, 0.0862002 ],\n",
       "       [0.1174449 , 0.09441347],\n",
       "       [0.12850612, 0.09051216],\n",
       "       [0.11131986, 0.08883568],\n",
       "       [0.11403668, 0.08516563],\n",
       "       [0.11967916, 0.08215219],\n",
       "       [0.13021797, 0.08190665],\n",
       "       [0.12614806, 0.08763826],\n",
       "       [0.1308506 , 0.09522505],\n",
       "       [0.12552638, 0.08436984],\n",
       "       [0.13113765, 0.08177537],\n",
       "       [0.12477379, 0.08234268],\n",
       "       [0.13197504, 0.08486223],\n",
       "       [0.11775675, 0.08555815],\n",
       "       [0.13073584, 0.07791945],\n",
       "       [0.13496312, 0.0846383 ],\n",
       "       [0.13005888, 0.08537746],\n",
       "       [0.12359754, 0.08450831],\n",
       "       [0.12954129, 0.08340202],\n",
       "       [0.12611108, 0.08021587],\n",
       "       [0.12219157, 0.07589097],\n",
       "       [0.12998101, 0.08671696],\n",
       "       [0.12213445, 0.09515577],\n",
       "       [0.12503999, 0.08362254]])"
      ]
     },
     "execution_count": 70,
     "metadata": {},
     "output_type": "execute_result"
    }
   ],
   "source": [
    "combined"
   ]
  },
  {
   "cell_type": "code",
   "execution_count": 71,
   "id": "a4a003a4",
   "metadata": {},
   "outputs": [],
   "source": [
    "pair_cov = np.cov( combined )"
   ]
  },
  {
   "cell_type": "code",
   "execution_count": 72,
   "id": "b48bea10",
   "metadata": {},
   "outputs": [
    {
     "data": {
      "text/plain": [
       "array([[0.00106133, 0.00079973, 0.00096813, ..., 0.00099664, 0.00062149,\n",
       "        0.0009541 ],\n",
       "       [0.00079973, 0.00060261, 0.0007295 , ..., 0.00075098, 0.0004683 ,\n",
       "        0.00071893],\n",
       "       [0.00096813, 0.0007295 , 0.00088311, ..., 0.00090911, 0.00056691,\n",
       "        0.00087031],\n",
       "       ...,\n",
       "       [0.00099664, 0.00075098, 0.00090911, ..., 0.00093589, 0.0005836 ,\n",
       "        0.00089594],\n",
       "       [0.00062149, 0.0004683 , 0.00056691, ..., 0.0005836 , 0.00036392,\n",
       "        0.00055869],\n",
       "       [0.0009541 , 0.00071893, 0.00087031, ..., 0.00089594, 0.00055869,\n",
       "        0.0008577 ]])"
      ]
     },
     "execution_count": 72,
     "metadata": {},
     "output_type": "execute_result"
    }
   ],
   "source": [
    "pair_cov"
   ]
  },
  {
   "cell_type": "code",
   "execution_count": 73,
   "id": "0c2a5cd0",
   "metadata": {},
   "outputs": [],
   "source": [
    "combined_row = np.row_stack( (bootstrap_weights[:,0], bootstrap_weights[:,2]))"
   ]
  },
  {
   "cell_type": "code",
   "execution_count": 74,
   "id": "f39a2235",
   "metadata": {
    "scrolled": true
   },
   "outputs": [
    {
     "data": {
      "text/plain": [
       "array([[0.13247231, 0.12426968, 0.13321391, 0.12781706, 0.12351473,\n",
       "        0.13062648, 0.12253537, 0.1266923 , 0.12482434, 0.11855256,\n",
       "        0.12405068, 0.11288357, 0.12424067, 0.12278402, 0.12849399,\n",
       "        0.12661774, 0.13104828, 0.12803185, 0.1118715 , 0.10950419,\n",
       "        0.12478186, 0.13340129, 0.1155692 , 0.11556774, 0.13094541,\n",
       "        0.12366161, 0.12372386, 0.11978458, 0.11545513, 0.11853323,\n",
       "        0.12445821, 0.11769042, 0.12131674, 0.12385172, 0.10950995,\n",
       "        0.1300471 , 0.13144708, 0.12825012, 0.12191087, 0.12993531,\n",
       "        0.11986737, 0.12167408, 0.13055643, 0.12153096, 0.12130584,\n",
       "        0.11819439, 0.12055115, 0.12314938, 0.12535572, 0.11688729,\n",
       "        0.12742874, 0.12399083, 0.12242248, 0.12027881, 0.11797708,\n",
       "        0.13085234, 0.11563129, 0.1174449 , 0.12850612, 0.11131986,\n",
       "        0.11403668, 0.11967916, 0.13021797, 0.12614806, 0.1308506 ,\n",
       "        0.12552638, 0.13113765, 0.12477379, 0.13197504, 0.11775675,\n",
       "        0.13073584, 0.13496312, 0.13005888, 0.12359754, 0.12954129,\n",
       "        0.12611108, 0.12219157, 0.12998101, 0.12213445, 0.12503999],\n",
       "       [0.13898715, 0.12993053, 0.13333564, 0.13750616, 0.13613234,\n",
       "        0.14465524, 0.13247728, 0.14132202, 0.13923518, 0.13577847,\n",
       "        0.13862067, 0.13384931, 0.1294338 , 0.13525169, 0.14833142,\n",
       "        0.13655716, 0.1394819 , 0.13570984, 0.13990635, 0.13196708,\n",
       "        0.13404422, 0.14327228, 0.13628526, 0.12833688, 0.13652751,\n",
       "        0.14153902, 0.140172  , 0.13554375, 0.14194392, 0.13707876,\n",
       "        0.13806245, 0.14313251, 0.13579775, 0.13129592, 0.12675102,\n",
       "        0.14268592, 0.14682451, 0.14769027, 0.14002173, 0.14397663,\n",
       "        0.13383396, 0.13680707, 0.14657335, 0.13959117, 0.14376701,\n",
       "        0.13547128, 0.1338466 , 0.1401058 , 0.12917417, 0.14636607,\n",
       "        0.13987203, 0.13606514, 0.13409324, 0.14215845, 0.13324222,\n",
       "        0.14624223, 0.13753586, 0.14582287, 0.14800277, 0.13574381,\n",
       "        0.126173  , 0.13587737, 0.12622441, 0.14262167, 0.13912694,\n",
       "        0.13931096, 0.13672151, 0.13017687, 0.13487613, 0.13637365,\n",
       "        0.14428189, 0.14033368, 0.13434196, 0.1307307 , 0.13777065,\n",
       "        0.1357684 , 0.13919829, 0.14403714, 0.13456137, 0.13675007]])"
      ]
     },
     "execution_count": 74,
     "metadata": {},
     "output_type": "execute_result"
    }
   ],
   "source": [
    "combined_row"
   ]
  },
  {
   "cell_type": "code",
   "execution_count": 75,
   "id": "32d60b41",
   "metadata": {},
   "outputs": [],
   "source": [
    "pair_cov_rs = np.cov( combined_row )"
   ]
  },
  {
   "cell_type": "code",
   "execution_count": 76,
   "id": "e929158d",
   "metadata": {},
   "outputs": [
    {
     "data": {
      "text/plain": [
       "array([[3.62504954e-05, 1.07675779e-05],\n",
       "       [1.07675779e-05, 2.78743547e-05]])"
      ]
     },
     "execution_count": 76,
     "metadata": {},
     "output_type": "execute_result"
    }
   ],
   "source": [
    "pair_cov_rs"
   ]
  },
  {
   "cell_type": "code",
   "execution_count": 77,
   "id": "27ca4a89",
   "metadata": {},
   "outputs": [],
   "source": [
    "pair_cor = np.corrcoef(combined_row)"
   ]
  },
  {
   "cell_type": "code",
   "execution_count": 78,
   "id": "9087cca1",
   "metadata": {},
   "outputs": [
    {
     "data": {
      "text/plain": [
       "array([[1.        , 0.33873388],\n",
       "       [0.33873388, 1.        ]])"
      ]
     },
     "execution_count": 78,
     "metadata": {},
     "output_type": "execute_result"
    }
   ],
   "source": [
    "pair_cor"
   ]
  },
  {
   "cell_type": "code",
   "execution_count": 79,
   "id": "e5c0266e",
   "metadata": {},
   "outputs": [
    {
     "data": {
      "text/plain": [
       "0.3387338801767052"
      ]
     },
     "execution_count": 79,
     "metadata": {},
     "output_type": "execute_result"
    }
   ],
   "source": [
    "pair_cor[0,1]"
   ]
  },
  {
   "cell_type": "code",
   "execution_count": 330,
   "id": "3209f565",
   "metadata": {},
   "outputs": [],
   "source": [
    "ncalc = 100000\n",
    "corr_array = np.zeros( ncalc )\n",
    "\n",
    "point_index = 53\n",
    "\n",
    "for i in range(ncalc) :\n",
    "    pair_cor = np.corrcoef( np.row_stack( (bootstrap_weights[:,point_index], bootstrap_weights[:,i]) ))\n",
    "    corr_array[i] = pair_cor[0,1]\n"
   ]
  },
  {
   "cell_type": "code",
   "execution_count": 331,
   "id": "6387aaf4",
   "metadata": {
    "scrolled": true
   },
   "outputs": [
    {
     "data": {
      "text/plain": [
       "array([-0.01723241, -0.165116  ,  0.41010126, ...,  0.07198338,\n",
       "        0.02624528, -0.14003612])"
      ]
     },
     "execution_count": 331,
     "metadata": {},
     "output_type": "execute_result"
    }
   ],
   "source": [
    "corr_array"
   ]
  },
  {
   "cell_type": "code",
   "execution_count": 332,
   "id": "f872a927",
   "metadata": {},
   "outputs": [
    {
     "data": {
      "text/plain": [
       "<function matplotlib.pyplot.show(close=None, block=None)>"
      ]
     },
     "execution_count": 332,
     "metadata": {},
     "output_type": "execute_result"
    },
    {
     "data": {
      "image/png": "[encoded data removed]",
      "text/plain": [
       "<Figure size 432x288 with 1 Axes>"
      ]
     },
     "metadata": {
      "needs_background": "light"
     },
     "output_type": "display_data"
    }
   ],
   "source": [
    "plt.hist( corr_array, bins=40)\n",
    "plt.show"
   ]
  },
  {
   "cell_type": "code",
   "execution_count": 333,
   "id": "b019153c",
   "metadata": {},
   "outputs": [
    {
     "data": {
      "text/plain": [
       "array([0.70199258, 1.42800043])"
      ]
     },
     "execution_count": 333,
     "metadata": {},
     "output_type": "execute_result"
    }
   ],
   "source": [
    "train_pts[point_index]"
   ]
  },
  {
   "cell_type": "code",
   "execution_count": 334,
   "id": "940141d1",
   "metadata": {},
   "outputs": [],
   "source": [
    "df0 = train_pts[:,0] - train_pts[point_index,0]\n",
    "df1 = train_pts[:,1] - train_pts[point_index,1]\n",
    "dr = np.sqrt( df0*df0 + df1*df1)"
   ]
  },
  {
   "cell_type": "code",
   "execution_count": 335,
   "id": "5506f9bb",
   "metadata": {},
   "outputs": [
    {
     "data": {
      "text/plain": [
       "<function matplotlib.pyplot.show(close=None, block=None)>"
      ]
     },
     "execution_count": 335,
     "metadata": {},
     "output_type": "execute_result"
    },
    {
     "data": {
      "image/png": "[encoded data removed]",
      "text/plain": [
       "<Figure size 1296x360 with 3 Axes>"
      ]
     },
     "metadata": {
      "needs_background": "light"
     },
     "output_type": "display_data"
    }
   ],
   "source": [
    "fig,ax = plt.subplots( 1, 3, figsize=(18,5))\n",
    "ax[0].hist2d( df0, corr_array, bins=[80,80], range=([-4,4],[-1,1]))\n",
    "ax[1].hist2d( df1, corr_array, bins=[80,80], range=([-4,4],[-1,1]))\n",
    "ax[2].hist2d( dr, corr_array, bins=[80,80], range=([0,5],[-1,1]))\n",
    "plt.show"
   ]
  },
  {
   "cell_type": "code",
   "execution_count": null,
   "id": "be5b155f",
   "metadata": {},
   "outputs": [],
   "source": []
  },
  {
   "cell_type": "code",
   "execution_count": null,
   "id": "c673d70c",
   "metadata": {},
   "outputs": [],
   "source": []
  }
 ],
 "metadata": {
  "kernelspec": {
   "display_name": "Python 3 (ipykernel)",
   "language": "python",
   "name": "python3"
  },
  "language_info": {
   "codemirror_mode": {
    "name": "ipython",
    "version": 3
   },
   "file_extension": ".py",
   "mimetype": "text/x-python",
   "name": "python",
   "nbconvert_exporter": "python",
   "pygments_lexer": "ipython3",
   "version": "3.10.12"
  }
 },
 "nbformat": 4,
 "nbformat_minor": 5
}
