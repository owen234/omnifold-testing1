{
 "cells": [
  {
   "cell_type": "code",
   "execution_count": 1,
   "id": "a498f19f",
   "metadata": {},
   "outputs": [
    {
     "name": "stdout",
     "output_type": "stream",
     "text": [
      "Welcome to JupyROOT 6.24/07\n"
     ]
    }
   ],
   "source": [
    "import ROOT"
   ]
  },
  {
   "cell_type": "code",
   "execution_count": 2,
   "id": "170f794d",
   "metadata": {},
   "outputs": [
    {
     "data": {
      "text/plain": [
       "0"
      ]
     },
     "execution_count": 2,
     "metadata": {},
     "output_type": "execute_result"
    },
    {
     "name": "stdout",
     "output_type": "stream",
     "text": [
      "\n",
      "\u001b[1mRooFit v3.60 -- Developed by Wouter Verkerke and David Kirkby\u001b[0m \n",
      "                Copyright (C) 2000-2013 NIKHEF, University of California & Stanford University\n",
      "                All rights reserved, please read http://roofit.sourceforge.net/license.txt\n",
      "\n"
     ]
    }
   ],
   "source": [
    "ROOT.gSystem.Load('./RooMvn2d_cxx.so')"
   ]
  },
  {
   "cell_type": "code",
   "execution_count": 3,
   "id": "bc5ac81b",
   "metadata": {},
   "outputs": [],
   "source": [
    "true_mean_x = 0.2\n",
    "true_mean_y = 0.8\n",
    "true_sigma_x = 1.0\n",
    "true_sigma_y = 1.5\n",
    "true_rho_xy = -0.6\n",
    "true_sigma2_x = true_sigma_x * true_sigma_x\n",
    "true_sigma2_y = true_sigma_y * true_sigma_y\n",
    "true_cov_xy = true_rho_xy * true_sigma_x * true_sigma_y"
   ]
  },
  {
   "cell_type": "code",
   "execution_count": 4,
   "id": "16d49222",
   "metadata": {},
   "outputs": [],
   "source": [
    "x = ROOT.RooRealVar(\"x\",\"x\",-10.,10.)\n",
    "y = ROOT.RooRealVar(\"y\",\"y\",-10.,10.)\n",
    "mean_x = ROOT.RooRealVar(\"mean_x\",\"mean_x\", true_mean_x, -3., 3.)\n",
    "mean_y = ROOT.RooRealVar(\"mean_y\",\"mean_y\", true_mean_y, -3., 3.)\n",
    "sigma2_x = ROOT.RooRealVar(\"sigma2_x\",\"sigma2_x\", true_sigma2_x, 0.1, 9. )\n",
    "sigma2_y = ROOT.RooRealVar(\"sigma2_y\",\"sigma2_y\", true_sigma2_y, 0.1, 9. )\n",
    "cov_xy = ROOT.RooRealVar(\"cov_xy\",\"cov_xy\", true_cov_xy, -9., 9.)"
   ]
  },
  {
   "cell_type": "code",
   "execution_count": 5,
   "id": "ac43244e",
   "metadata": {},
   "outputs": [],
   "source": [
    "rmvn = ROOT.RooMvn2d( \"rmvn\", \"rmvn\", x, y, mean_x, mean_y, sigma2_x, sigma2_y, cov_xy )"
   ]
  },
  {
   "cell_type": "code",
   "execution_count": 6,
   "id": "8cbbf840",
   "metadata": {},
   "outputs": [
    {
     "name": "stdout",
     "output_type": "stream",
     "text": [
      "[#1] INFO:NumericIntegration -- RooRealIntegral::init(rmvn_Int[x,y]) using numeric integrator RooAdaptiveIntegratorND to calculate Int(x,y)\n"
     ]
    }
   ],
   "source": [
    "data = rmvn.generate( ROOT.RooArgSet(x,y), 100000 )"
   ]
  },
  {
   "cell_type": "code",
   "execution_count": 7,
   "id": "dc8bd676",
   "metadata": {
    "scrolled": true
   },
   "outputs": [
    {
     "name": "stdout",
     "output_type": "stream",
     "text": [
      "[#1] INFO:Minization -- RooMinimizer::optimizeConst: activating const optimization\n",
      " **********\n",
      " **    1 **SET PRINT           1\n",
      " **********\n",
      " **********\n",
      " **    2 **SET NOGRAD\n",
      " **********\n",
      " PARAMETER DEFINITIONS:\n",
      "    NO.   NAME         VALUE      STEP SIZE      LIMITS\n",
      "     1 cov_xy      -9.00000e-01  1.80000e+00   -9.00000e+00  9.00000e+00\n",
      "     2 mean_x       2.00000e-01  6.00000e-01   -3.00000e+00  3.00000e+00\n",
      "     3 mean_y       8.00000e-01  6.00000e-01   -3.00000e+00  3.00000e+00\n",
      "     4 sigma2_x     1.00000e+00  4.50000e-01    1.00000e-01  9.00000e+00\n",
      "     5 sigma2_y     2.25000e+00  8.90000e-01    1.00000e-01  9.00000e+00\n",
      " **********\n",
      " **    3 **SET ERR         0.5\n",
      " **********\n",
      " **********\n",
      " **    4 **SET PRINT           1\n",
      " **********\n",
      " **********\n",
      " **    5 **SET STR           1\n",
      " **********\n",
      " NOW USING STRATEGY  1: TRY TO BALANCE SPEED AGAINST RELIABILITY\n",
      " **********\n",
      " **    6 **MIGRAD        2500           1\n",
      " **********\n",
      " FIRST CALL TO USER FUNCTION AT NEW START POINT, WITH IFLAG=4.\n",
      " START MIGRAD MINIMIZATION.  STRATEGY  1.  CONVERGENCE WHEN EDM .LT. 1.00e-03\n",
      "[#1] INFO:NumericIntegration -- RooRealIntegral::init(rmvn_Int[x,y]) using numeric integrator RooAdaptiveIntegratorND to calculate Int(x,y)\n",
      " FCN=302074 FROM MIGRAD    STATUS=INITIATE       28 CALLS          29 TOTAL\n",
      "                     EDM= unknown      STRATEGY= 1      NO ERROR MATRIX       \n",
      "  EXT PARAMETER               CURRENT GUESS       STEP         FIRST   \n",
      "  NO.   NAME      VALUE            ERROR          SIZE      DERIVATIVE \n",
      "   1  cov_xy      -9.00000e-01   1.80000e+00   2.02430e-01   1.98477e+03\n",
      "   2  mean_x       2.00000e-01   6.00000e-01   2.01832e-01  -3.07975e+03\n",
      "   3  mean_y       8.00000e-01   6.00000e-01   2.09401e-01  -1.25438e+03\n",
      "   4  sigma2_x     1.00000e+00   4.50000e-01   1.73255e-01   1.54024e+02\n",
      "   5  sigma2_y     2.25000e+00   8.90000e-01   2.38434e-01   1.53135e+02\n",
      "                               ERR DEF= 0.5\n",
      " MIGRAD MINIMIZATION HAS CONVERGED.\n",
      " MIGRAD WILL VERIFY CONVERGENCE AND ERROR MATRIX.\n",
      " COVARIANCE MATRIX CALCULATED SUCCESSFULLY\n",
      " FCN=302071 FROM MIGRAD    STATUS=CONVERGED     132 CALLS         133 TOTAL\n",
      "                     EDM=6.00721e-05    STRATEGY= 1      ERROR MATRIX ACCURATE \n",
      "  EXT PARAMETER                                   STEP         FIRST   \n",
      "  NO.   NAME      VALUE            ERROR          SIZE      DERIVATIVE \n",
      "   1  cov_xy      -9.04238e-01   5.40757e-03   1.10149e-04  -1.02879e+01\n",
      "   2  mean_x       2.06402e-01   3.16447e-03   3.20701e-04   5.45958e+00\n",
      "   3  mean_y       8.00482e-01   4.74583e-03   4.97954e-04  -7.98122e-01\n",
      "   4  sigma2_x     1.00221e+00   4.41054e-03   4.04053e-04  -2.82387e+00\n",
      "   5  sigma2_y     2.25413e+00   9.89997e-03   6.40577e-04  -1.97506e-01\n",
      "                               ERR DEF= 0.5\n",
      " EXTERNAL ERROR MATRIX.    NDIM=  25    NPAR=  5    ERR DEF=0.5\n",
      "  2.924e-05  9.680e-09  1.592e-08 -1.715e-05 -3.843e-05 \n",
      "  9.680e-09  1.001e-05 -9.031e-06  4.150e-09 -2.578e-08 \n",
      "  1.592e-08 -9.031e-06  2.252e-05 -1.788e-08  1.124e-08 \n",
      " -1.715e-05  4.150e-09 -1.788e-08  1.945e-05  1.494e-05 \n",
      " -3.843e-05 -2.578e-08  1.124e-08  1.494e-05  9.801e-05 \n",
      " PARAMETER  CORRELATION COEFFICIENTS  \n",
      "       NO.  GLOBAL      1      2      3      4      5\n",
      "        1  0.87705   1.000  0.001  0.001 -0.719 -0.718\n",
      "        2  0.60135   0.001  1.000 -0.601  0.000 -0.001\n",
      "        3  0.60135   0.001 -0.601  1.000 -0.001  0.000\n",
      "        4  0.76124  -0.719  0.000 -0.001  1.000  0.342\n",
      "        5  0.76036  -0.718 -0.001  0.000  0.342  1.000\n",
      " **********\n",
      " **    7 **SET ERR         0.5\n",
      " **********\n",
      " **********\n",
      " **    8 **SET PRINT           1\n",
      " **********\n",
      " **********\n",
      " **    9 **HESSE        2500\n",
      " **********\n",
      " COVARIANCE MATRIX CALCULATED SUCCESSFULLY\n",
      " FCN=302071 FROM HESSE     STATUS=OK             33 CALLS         166 TOTAL\n",
      "                     EDM=0.000114556    STRATEGY= 1      ERROR MATRIX ACCURATE \n",
      "  EXT PARAMETER                                INTERNAL      INTERNAL  \n",
      "  NO.   NAME      VALUE            ERROR       STEP SIZE       VALUE   \n",
      "   1  cov_xy      -9.04238e-01   1.02159e-02   4.40596e-06  -1.00641e-01\n",
      "   2  mean_x       2.06402e-01   3.14527e-03   6.41402e-05   6.88549e-02\n",
      "   3  mean_y       8.00482e-01   4.73665e-03   1.99182e-05   2.70099e-01\n",
      "   4  sigma2_x     1.00221e+00   4.74685e-03   1.61621e-05  -9.22738e-01\n",
      "   5  sigma2_y     2.25413e+00   2.10865e-02   2.56231e-05  -5.42088e-01\n",
      "                               ERR DEF= 0.5\n",
      " EXTERNAL ERROR MATRIX.    NDIM=  25    NPAR=  5    ERR DEF=0.5\n",
      "  1.044e-04  4.088e-09 -3.140e-09 -3.295e-05 -2.000e-04 \n",
      "  4.088e-09  9.893e-06 -8.926e-06  1.250e-09 -1.010e-08 \n",
      " -3.140e-09 -8.926e-06  2.244e-05 -1.152e-09  8.639e-09 \n",
      " -3.295e-05  1.250e-09 -1.152e-09  2.253e-05  4.756e-05 \n",
      " -2.000e-04 -1.010e-08  8.639e-09  4.756e-05  4.446e-04 \n",
      " PARAMETER  CORRELATION COEFFICIENTS  \n",
      "       NO.  GLOBAL      1      2      3      4      5\n",
      "        1  0.96711   1.000  0.000 -0.000 -0.679 -0.928\n",
      "        2  0.59911   0.000  1.000 -0.599  0.000 -0.000\n",
      "        3  0.59911  -0.000 -0.599  1.000 -0.000  0.000\n",
      "        4  0.79815  -0.679  0.000 -0.000  1.000  0.475\n",
      "        5  0.95234  -0.928 -0.000  0.000  0.475  1.000\n",
      "[#1] INFO:Minization -- RooMinimizer::optimizeConst: deactivating const optimization\n"
     ]
    }
   ],
   "source": [
    "rfr = rmvn.fitTo( data, ROOT.RooFit.Save(True))"
   ]
  },
  {
   "cell_type": "code",
   "execution_count": 8,
   "id": "ad7d8d67",
   "metadata": {},
   "outputs": [
    {
     "name": "stdout",
     "output_type": "stream",
     "text": [
      "\n",
      " true mean_x = 0.20\n",
      " true mean_y = 0.80\n",
      " true sigma2_x = 1.00\n",
      " true sigma2_y = 2.25\n",
      " true cov_xy = -0.900\n",
      "\n",
      "RooRealVar::mean_x = 0.206402 +/- 0.00314527  L(-3 - 3) \n",
      "RooRealVar::mean_y = 0.800482 +/- 0.00473665  L(-3 - 3) \n",
      "RooRealVar::sigma2_x = 1.00221 +/- 0.00474685  L(0.1 - 9) \n",
      "RooRealVar::sigma2_y = 2.25413 +/- 0.0210865  L(0.1 - 9) \n",
      "RooRealVar::cov_xy = -0.904238 +/- 0.0102159  L(-9 - 9) \n"
     ]
    }
   ],
   "source": [
    "print('')\n",
    "print(' true mean_x = %.2f' % true_mean_x )\n",
    "print(' true mean_y = %.2f' % true_mean_y )\n",
    "print(' true sigma2_x = %.2f' % true_sigma2_x )\n",
    "print(' true sigma2_y = %.2f' % true_sigma2_y )\n",
    "print(' true cov_xy = %.3f' % true_cov_xy )\n",
    "print('')\n",
    "mean_x.Print()\n",
    "mean_y.Print()\n",
    "sigma2_x.Print()\n",
    "sigma2_y.Print()\n",
    "cov_xy.Print()"
   ]
  },
  {
   "cell_type": "code",
   "execution_count": 9,
   "id": "e56bd743",
   "metadata": {},
   "outputs": [
    {
     "name": "stdout",
     "output_type": "stream",
     "text": [
      "[#1] INFO:Plotting -- RooAbsReal::plotOn(rmvn) plot on x integrates over variables (y)\n",
      "[#1] INFO:NumericIntegration -- RooRealIntegral::init(rmvn_Int[y]_Norm[x,y]) using numeric integrator RooIntegrator1D to calculate Int(y)\n",
      "[#1] INFO:Plotting -- RooAbsReal::plotOn(rmvn) plot on y integrates over variables (x)\n",
      "[#1] INFO:NumericIntegration -- RooRealIntegral::init(rmvn_Int[x]_Norm[x,y]) using numeric integrator RooIntegrator1D to calculate Int(x)\n"
     ]
    },
    {
     "data": {
      "image/png": "[encoded data removed]",
      "text/plain": [
       "<IPython.core.display.Image object>"
      ]
     },
     "metadata": {},
     "output_type": "display_data"
    }
   ],
   "source": [
    "can = ROOT.TCanvas(\"can\",\"can\", 1200, 500)\n",
    "can.Divide(2,1)\n",
    "\n",
    "can.cd(1)\n",
    "xframe = x.frame(ROOT.RooFit.Title(\"data\"))\n",
    "data.plotOn(xframe)\n",
    "rmvn.plotOn(xframe)\n",
    "xframe.Draw()\n",
    "can.Draw()\n",
    "\n",
    "can.cd(2)\n",
    "yframe = y.frame(ROOT.RooFit.Title(\"data\"))\n",
    "data.plotOn(yframe)\n",
    "rmvn.plotOn(yframe)\n",
    "yframe.Draw()\n",
    "can.Draw()\n"
   ]
  },
  {
   "cell_type": "code",
   "execution_count": null,
   "id": "b33d4cb8",
   "metadata": {},
   "outputs": [],
   "source": []
  }
 ],
 "metadata": {
  "kernelspec": {
   "display_name": "Python 3 (ipykernel)",
   "language": "python",
   "name": "python3"
  },
  "language_info": {
   "codemirror_mode": {
    "name": "ipython",
    "version": 3
   },
   "file_extension": ".py",
   "mimetype": "text/x-python",
   "name": "python",
   "nbconvert_exporter": "python",
   "pygments_lexer": "ipython3",
   "version": "3.10.12"
  }
 },
 "nbformat": 4,
 "nbformat_minor": 5
}
