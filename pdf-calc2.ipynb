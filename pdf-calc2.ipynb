{
 "cells": [
  {
   "cell_type": "code",
   "execution_count": 1,
   "id": "101a4f62",
   "metadata": {},
   "outputs": [
    {
     "name": "stderr",
     "output_type": "stream",
     "text": [
      "Module libc not found.\n"
     ]
    },
    {
     "name": "stdout",
     "output_type": "stream",
     "text": [
      "Welcome to JupyROOT 6.24/07\n"
     ]
    }
   ],
   "source": [
    "import ROOT"
   ]
  },
  {
   "cell_type": "code",
   "execution_count": 2,
   "id": "7e2b2407",
   "metadata": {},
   "outputs": [
    {
     "data": {
      "text/plain": [
       "0"
      ]
     },
     "execution_count": 2,
     "metadata": {},
     "output_type": "execute_result"
    },
    {
     "name": "stdout",
     "output_type": "stream",
     "text": [
      "\n",
      "\u001b[1mRooFit v3.60 -- Developed by Wouter Verkerke and David Kirkby\u001b[0m \n",
      "                Copyright (C) 2000-2013 NIKHEF, University of California & Stanford University\n",
      "                All rights reserved, please read http://roofit.sourceforge.net/license.txt\n",
      "\n"
     ]
    }
   ],
   "source": [
    "ROOT.gSystem.Load('./RooMultiVarGaussian2e_cxx.so')"
   ]
  },
  {
   "cell_type": "code",
   "execution_count": 3,
   "id": "1e590dc8",
   "metadata": {},
   "outputs": [],
   "source": [
    "import matplotlib.pyplot as plt\n",
    "import numpy as np\n",
    "\n",
    "from os.path import exists\n",
    "\n",
    "import read_config_utils as cu"
   ]
  },
  {
   "cell_type": "code",
   "execution_count": 4,
   "id": "3309b69e",
   "metadata": {},
   "outputs": [],
   "source": [
    "import sys\n",
    "import time"
   ]
  },
  {
   "cell_type": "code",
   "execution_count": 5,
   "id": "3783a672",
   "metadata": {},
   "outputs": [],
   "source": [
    "input_dir = 'output-files-bootstrap-test6b-4d-1a'\n",
    "points_file = 'train-and-true-samples.npy'\n",
    "\n",
    "\n",
    "weights_file = 'omnifold-output-weights.npy'\n",
    "#weights_file = 'bootstrap-weights-000.npy'\n"
   ]
  },
  {
   "cell_type": "code",
   "execution_count": 6,
   "id": "20011728",
   "metadata": {},
   "outputs": [],
   "source": [
    "config_file = '%s/config.txt' % (input_dir)\n",
    "\n",
    "if not exists(config_file) :\n",
    "    \n",
    "    print(\"\\n\\n\\n ******* Input file does not exist: %s\\n\\n\\n\" % config_file )\n",
    "    sys.exit()\n",
    "    "
   ]
  },
  {
   "cell_type": "code",
   "execution_count": 7,
   "id": "7921ec66",
   "metadata": {},
   "outputs": [
    {
     "name": "stdout",
     "output_type": "stream",
     "text": [
      "\n",
      "\n",
      " Number of feature dimensions: 4\n",
      "\n",
      "\n"
     ]
    }
   ],
   "source": [
    "ndim = int(cu.get_par( config_file, \"ndim\"))\n",
    "print(\"\\n\\n Number of feature dimensions: %d\\n\\n\" % ndim)"
   ]
  },
  {
   "cell_type": "code",
   "execution_count": 8,
   "id": "1f7b51fb",
   "metadata": {},
   "outputs": [],
   "source": [
    "with open( '%s/config-pars.npy' % input_dir, 'rb') as f :\n",
    "    train_mu = np.load(f, allow_pickle=True )\n",
    "    train_rho = np.load(f, allow_pickle=True)\n",
    "    train_sig = np.load(f, allow_pickle=True)    \n",
    "    true_mu = np.load(f, allow_pickle=True )\n",
    "    true_rho = np.load(f, allow_pickle=True)\n",
    "    true_sig = np.load(f, allow_pickle=True)  \n",
    "    resolution = np.load(f, allow_pickle=True)"
   ]
  },
  {
   "cell_type": "code",
   "execution_count": 9,
   "id": "19fc02b7",
   "metadata": {},
   "outputs": [],
   "source": [
    "with open('%s/%s' % (input_dir, points_file),'rb') as f :\n",
    "    train_pts = np.load(f)\n",
    "    train_det_pts = np.load(f)\n",
    "    true_pts = np.load(f)\n",
    "    true_det_pts = np.load(f)\n"
   ]
  },
  {
   "cell_type": "code",
   "execution_count": 10,
   "id": "260f06fe",
   "metadata": {},
   "outputs": [],
   "source": [
    "with open('%s/%s' % (input_dir, weights_file),'rb') as f :\n",
    "    sample_weights = np.load(f)"
   ]
  },
  {
   "cell_type": "code",
   "execution_count": 11,
   "id": "dbe18ead",
   "metadata": {},
   "outputs": [
    {
     "name": "stdout",
     "output_type": "stream",
     "text": [
      "train_pts shape:  (4000000, 4)\n",
      "weights:  (4000000,)\n",
      "number of MC events: 4000000\n"
     ]
    }
   ],
   "source": [
    "\n",
    "nmcevts = len(train_pts)\n",
    "\n",
    "print( \"train_pts shape:  %s\" % str(train_pts.shape))\n",
    "print( \"weights:  %s\" % str(sample_weights.shape))\n",
    "\n",
    "print( \"number of MC events: %d\" % nmcevts)"
   ]
  },
  {
   "cell_type": "code",
   "execution_count": 12,
   "id": "8b0d43e6",
   "metadata": {},
   "outputs": [
    {
     "name": "stdout",
     "output_type": "stream",
     "text": [
      "\n",
      " sample_sf = 0.100000\n"
     ]
    }
   ],
   "source": [
    "sample_sf = (1.*len(true_pts))/(1.*len(train_pts))\n",
    "print('\\n sample_sf = %f' % sample_sf )"
   ]
  },
  {
   "cell_type": "code",
   "execution_count": null,
   "id": "c8991c36",
   "metadata": {},
   "outputs": [],
   "source": []
  },
  {
   "cell_type": "code",
   "execution_count": null,
   "id": "dc86507e",
   "metadata": {},
   "outputs": [],
   "source": []
  },
  {
   "cell_type": "code",
   "execution_count": 13,
   "id": "325cb01a",
   "metadata": {
    "scrolled": true
   },
   "outputs": [
    {
     "name": "stdout",
     "output_type": "stream",
     "text": [
      "   0,  0 : diagonal    0.6400\n",
      "   0,  1 : diagonal     0.800 *    0.600 *    0.000 =   0.0000\n",
      "   0,  2 : diagonal     0.800 *    1.000 *   -0.300 =  -0.2400\n",
      "   0,  3 : diagonal     0.800 *    0.600 *    0.400 =   0.1920\n",
      "   1,  1 : diagonal    0.3600\n",
      "   1,  2 : diagonal     0.600 *    1.000 *    0.200 =   0.1200\n",
      "   1,  3 : diagonal     0.600 *    0.600 *    0.000 =   0.0000\n",
      "   2,  2 : diagonal    1.0000\n",
      "   2,  3 : diagonal     1.000 *    0.600 *    0.500 =   0.3000\n",
      "   3,  3 : diagonal    0.3600\n"
     ]
    }
   ],
   "source": [
    "\n",
    "\n",
    "true_cov  = np.zeros( shape=(ndim,ndim) )\n",
    "\n",
    "for i in range(ndim) :\n",
    "    for j in range(ndim) :\n",
    "        if j < i : continue\n",
    "        if i == j :\n",
    "            true_cov[i][j] = true_sig[i] * true_sig[j]\n",
    "            print(\"  %2d, %2d : diagonal  %8.4f\" % (i,j, true_cov[i][j]))\n",
    "        else :\n",
    "            k = ndim - j - 1\n",
    "            true_cov[i][j] = true_sig[i] * true_sig[j] * true_rho[i][k]\n",
    "            true_cov[j][i] = true_cov[i][j]\n",
    "            print(\"  %2d, %2d : diagonal  %8.3f * %8.3f * %8.3f = %8.4f\" % \n",
    "                  (i,j, true_sig[i], true_sig[j], true_rho[i][k], true_cov[i][j]))\n",
    "            \n",
    "            \n",
    "   "
   ]
  },
  {
   "cell_type": "code",
   "execution_count": 14,
   "id": "9c886671",
   "metadata": {},
   "outputs": [
    {
     "name": "stdout",
     "output_type": "stream",
     "text": [
      "   0,  0 : diagonal    1.0000\n",
      "   0,  1 : diagonal     1.000 *    0.700 *    0.100 =   0.0700\n",
      "   0,  2 : diagonal     1.000 *    1.100 *   -0.200 =  -0.2200\n",
      "   0,  3 : diagonal     1.000 *    0.800 *    0.300 =   0.2400\n",
      "   1,  1 : diagonal    0.4900\n",
      "   1,  2 : diagonal     0.700 *    1.100 *    0.100 =   0.0770\n",
      "   1,  3 : diagonal     0.700 *    0.800 *    0.000 =   0.0000\n",
      "   2,  2 : diagonal    1.2100\n",
      "   2,  3 : diagonal     1.100 *    0.800 *    0.700 =   0.6160\n",
      "   3,  3 : diagonal    0.6400\n"
     ]
    }
   ],
   "source": [
    "train_cov  = np.zeros( shape=(ndim,ndim) )\n",
    "\n",
    "for i in range(ndim) :\n",
    "    for j in range(ndim) :\n",
    "        if j < i : continue\n",
    "        if i == j :\n",
    "            train_cov[i][j] = train_sig[i] * train_sig[j]\n",
    "            print(\"  %2d, %2d : diagonal  %8.4f\" % (i,j, train_cov[i][j]))\n",
    "        else :\n",
    "            k = ndim - j - 1\n",
    "            train_cov[i][j] = train_sig[i] * train_sig[j] * train_rho[i][k]\n",
    "            train_cov[j][i] = train_cov[i][j]\n",
    "            print(\"  %2d, %2d : diagonal  %8.3f * %8.3f * %8.3f = %8.4f\" % \n",
    "                  (i,j, train_sig[i], train_sig[j], train_rho[i][k], train_cov[i][j]))\n",
    "            \n",
    "            \n",
    "   "
   ]
  },
  {
   "cell_type": "code",
   "execution_count": 15,
   "id": "2ad2435c",
   "metadata": {},
   "outputs": [
    {
     "data": {
      "text/plain": [
       "array([[ 0.64 ,  0.   , -0.24 ,  0.192],\n",
       "       [ 0.   ,  0.36 ,  0.12 ,  0.   ],\n",
       "       [-0.24 ,  0.12 ,  1.   ,  0.3  ],\n",
       "       [ 0.192,  0.   ,  0.3  ,  0.36 ]])"
      ]
     },
     "execution_count": 15,
     "metadata": {},
     "output_type": "execute_result"
    }
   ],
   "source": [
    "true_cov"
   ]
  },
  {
   "cell_type": "code",
   "execution_count": 16,
   "id": "2c965c80",
   "metadata": {},
   "outputs": [
    {
     "data": {
      "text/plain": [
       "array([[ 1.   ,  0.07 , -0.22 ,  0.24 ],\n",
       "       [ 0.07 ,  0.49 ,  0.077,  0.   ],\n",
       "       [-0.22 ,  0.077,  1.21 ,  0.616],\n",
       "       [ 0.24 ,  0.   ,  0.616,  0.64 ]])"
      ]
     },
     "execution_count": 16,
     "metadata": {},
     "output_type": "execute_result"
    }
   ],
   "source": [
    "train_cov"
   ]
  },
  {
   "cell_type": "markdown",
   "id": "89178255",
   "metadata": {},
   "source": [
    "## Read in the simple calculation results to set the fit parameter limits."
   ]
  },
  {
   "cell_type": "code",
   "execution_count": 17,
   "id": "b4aca616",
   "metadata": {},
   "outputs": [],
   "source": [
    "with open( '%s/simple-calc-results.npy' % input_dir, 'rb') as f :\n",
    "    sc_ave_mean_val = np.load(f, allow_pickle=True )\n",
    "    sc_ave_mean_rms = np.load(f, allow_pickle=True)\n",
    "    sc_ave_cov_val  = np.load(f, allow_pickle=True)    \n",
    "    sc_ave_cov_rms  = np.load(f, allow_pickle=True )\n",
    "\n"
   ]
  },
  {
   "cell_type": "code",
   "execution_count": 18,
   "id": "d98a0365",
   "metadata": {},
   "outputs": [
    {
     "data": {
      "text/plain": [
       "array([[ 0.64409427, -0.00116918, -0.23995938,  0.19084559],\n",
       "       [ 0.        ,  0.36303313,  0.12056718,  0.00117447],\n",
       "       [ 0.        ,  0.        ,  1.00080573,  0.29981677],\n",
       "       [ 0.        ,  0.        ,  0.        ,  0.3603733 ]])"
      ]
     },
     "execution_count": 18,
     "metadata": {},
     "output_type": "execute_result"
    }
   ],
   "source": [
    "sc_ave_cov_val"
   ]
  },
  {
   "cell_type": "code",
   "execution_count": 19,
   "id": "ffb3823f",
   "metadata": {},
   "outputs": [
    {
     "name": "stdout",
     "output_type": "stream",
     "text": [
      "\n",
      "\n",
      "\n",
      "  Simple direct calculation results from the bootstrap samples.\n",
      "\n",
      "  feature 0  mean:     0.7987  (true   0.8000) RMS    0.0018\n",
      "  feature 1  mean:     0.1015  (true   0.1000) RMS    0.0016\n",
      "  feature 2  mean:    -0.5979  (true  -0.6000) RMS    0.0026\n",
      "  feature 3  mean:     0.6996  (true   0.7000) RMS    0.0012\n",
      "\n",
      "\n",
      "   0, 0  cov:     0.6441  (true   0.6400) RMS    0.0027\n",
      "   0, 1  cov:    -0.0012  (true   0.0000) RMS    0.0011\n",
      "   0, 2  cov:    -0.2400  (true  -0.2400) RMS    0.0023\n",
      "   0, 3  cov:     0.1908  (true   0.1920) RMS    0.0013\n",
      "   1, 1  cov:     0.3630  (true   0.3600) RMS    0.0014\n",
      "   1, 2  cov:     0.1206  (true   0.1200) RMS    0.0016\n",
      "   1, 3  cov:     0.0012  (true   0.0000) RMS    0.0007\n",
      "   2, 2  cov:     1.0008  (true   1.0000) RMS    0.0039\n",
      "   2, 3  cov:     0.2998  (true   0.3000) RMS    0.0017\n",
      "   3, 3  cov:     0.3604  (true   0.3600) RMS    0.0013\n",
      "\n",
      "\n",
      "\n"
     ]
    }
   ],
   "source": [
    "print('\\n\\n')\n",
    "print('  Simple direct calculation results from the bootstrap samples.\\n')\n",
    "\n",
    "for fi in range(ndim) :\n",
    "    print('  feature %d  mean:   %8.4f  (true %8.4f) RMS  %8.4f'\n",
    "         % (fi, sc_ave_mean_val[fi], true_mu[fi], sc_ave_mean_rms[fi]) )\n",
    "    \n",
    "print('\\n')\n",
    "\n",
    "for i in range(ndim) :\n",
    "    for j in range(i,ndim) :\n",
    "        print('   %d, %d  cov:   %8.4f  (true %8.4f) RMS  %8.4f'\n",
    "              % ( i, j, sc_ave_cov_val[i][j], true_cov[i,j], sc_ave_cov_rms[i][j]) )\n",
    "\n",
    "print('\\n\\n')"
   ]
  },
  {
   "cell_type": "code",
   "execution_count": null,
   "id": "76735149",
   "metadata": {},
   "outputs": [],
   "source": []
  },
  {
   "cell_type": "code",
   "execution_count": null,
   "id": "4886c3fa",
   "metadata": {},
   "outputs": [],
   "source": []
  },
  {
   "cell_type": "code",
   "execution_count": null,
   "id": "c2f93708",
   "metadata": {},
   "outputs": [],
   "source": []
  },
  {
   "cell_type": "code",
   "execution_count": null,
   "id": "1317a79b",
   "metadata": {},
   "outputs": [],
   "source": []
  },
  {
   "cell_type": "code",
   "execution_count": 20,
   "id": "b352efb8",
   "metadata": {},
   "outputs": [
    {
     "data": {
      "text/plain": [
       "array([[ 0.82082805, -0.21774975,  0.04423324,  0.03093148],\n",
       "       [ 0.32498961, -0.85976132, -1.17427534, -0.32490174],\n",
       "       [ 1.58839359, -0.74675734, -0.78807108,  0.7832948 ],\n",
       "       ...,\n",
       "       [ 0.82928569, -0.02724371, -0.53917483, -0.02518337],\n",
       "       [ 1.69335577, -0.03809841, -1.15527327,  0.49819183],\n",
       "       [ 1.2623747 ,  0.1369309 ,  0.31983617,  0.55766802]])"
      ]
     },
     "execution_count": 20,
     "metadata": {},
     "output_type": "execute_result"
    }
   ],
   "source": [
    "train_pts"
   ]
  },
  {
   "cell_type": "code",
   "execution_count": 21,
   "id": "33431033",
   "metadata": {},
   "outputs": [
    {
     "data": {
      "text/plain": [
       "(4000000, 4)"
      ]
     },
     "execution_count": 21,
     "metadata": {},
     "output_type": "execute_result"
    }
   ],
   "source": [
    "train_pts.shape"
   ]
  },
  {
   "cell_type": "code",
   "execution_count": null,
   "id": "63cdd631",
   "metadata": {},
   "outputs": [],
   "source": []
  },
  {
   "cell_type": "code",
   "execution_count": 22,
   "id": "060e1fed",
   "metadata": {},
   "outputs": [
    {
     "data": {
      "text/plain": [
       "array([ 0.8,  0.1, -0.6,  0.7])"
      ]
     },
     "execution_count": 22,
     "metadata": {},
     "output_type": "execute_result"
    }
   ],
   "source": [
    "true_mu"
   ]
  },
  {
   "cell_type": "code",
   "execution_count": 23,
   "id": "406fedf1",
   "metadata": {},
   "outputs": [
    {
     "name": "stdout",
     "output_type": "stream",
     "text": [
      "[[ 0.02082805 -0.31774975  0.64423324 -0.66906852]\n",
      " [-0.47501039 -0.95976132 -0.57427534 -1.02490174]\n",
      " [ 0.78839359 -0.84675734 -0.18807108  0.0832948 ]\n",
      " ...\n",
      " [ 0.02928569 -0.12724371  0.06082517 -0.72518337]\n",
      " [ 0.89335577 -0.13809841 -0.55527327 -0.20180817]\n",
      " [ 0.4623747   0.0369309   0.91983617 -0.14233198]]\n"
     ]
    }
   ],
   "source": [
    "train_pts_minus_true_mu = train_pts - true_mu\n",
    "print(train_pts_minus_true_mu)"
   ]
  },
  {
   "cell_type": "code",
   "execution_count": 24,
   "id": "c203851b",
   "metadata": {},
   "outputs": [
    {
     "data": {
      "text/plain": [
       "array([ 1. ,  0. , -0.5,  0.5])"
      ]
     },
     "execution_count": 24,
     "metadata": {},
     "output_type": "execute_result"
    }
   ],
   "source": [
    "train_mu"
   ]
  },
  {
   "cell_type": "code",
   "execution_count": 25,
   "id": "df1f829e",
   "metadata": {},
   "outputs": [
    {
     "name": "stdout",
     "output_type": "stream",
     "text": [
      "[[-0.17917195 -0.21774975  0.54423324 -0.46906852]\n",
      " [-0.67501039 -0.85976132 -0.67427534 -0.82490174]\n",
      " [ 0.58839359 -0.74675734 -0.28807108  0.2832948 ]\n",
      " ...\n",
      " [-0.17071431 -0.02724371 -0.03917483 -0.52518337]\n",
      " [ 0.69335577 -0.03809841 -0.65527327 -0.00180817]\n",
      " [ 0.2623747   0.1369309   0.81983617  0.05766802]]\n"
     ]
    }
   ],
   "source": [
    "train_pts_minus_train_mu = train_pts - train_mu\n",
    "print(train_pts_minus_train_mu)"
   ]
  },
  {
   "cell_type": "code",
   "execution_count": null,
   "id": "50e6fe18",
   "metadata": {},
   "outputs": [],
   "source": []
  },
  {
   "cell_type": "code",
   "execution_count": null,
   "id": "a64052df",
   "metadata": {},
   "outputs": [],
   "source": []
  },
  {
   "cell_type": "code",
   "execution_count": null,
   "id": "254b550d",
   "metadata": {},
   "outputs": [],
   "source": []
  },
  {
   "cell_type": "code",
   "execution_count": 26,
   "id": "236a5a8d",
   "metadata": {},
   "outputs": [
    {
     "data": {
      "text/plain": [
       "array([[ 0.64 ,  0.   , -0.24 ,  0.192],\n",
       "       [ 0.   ,  0.36 ,  0.12 ,  0.   ],\n",
       "       [-0.24 ,  0.12 ,  1.   ,  0.3  ],\n",
       "       [ 0.192,  0.   ,  0.3  ,  0.36 ]])"
      ]
     },
     "execution_count": 26,
     "metadata": {},
     "output_type": "execute_result"
    }
   ],
   "source": [
    "true_cov"
   ]
  },
  {
   "cell_type": "code",
   "execution_count": null,
   "id": "8fac080b",
   "metadata": {},
   "outputs": [],
   "source": []
  },
  {
   "cell_type": "code",
   "execution_count": null,
   "id": "ba11c1b6",
   "metadata": {},
   "outputs": [],
   "source": []
  },
  {
   "cell_type": "code",
   "execution_count": null,
   "id": "2b379b2e",
   "metadata": {},
   "outputs": [],
   "source": []
  },
  {
   "cell_type": "code",
   "execution_count": 27,
   "id": "7a5fd794",
   "metadata": {},
   "outputs": [],
   "source": [
    "true_cov_inv = np.linalg.inv( true_cov )"
   ]
  },
  {
   "cell_type": "code",
   "execution_count": 28,
   "id": "7c9955f5",
   "metadata": {},
   "outputs": [
    {
     "data": {
      "text/plain": [
       "array([[ 3.20258372, -0.60142417,  1.80427252, -3.21160508],\n",
       "       [-0.60142417,  3.04721581, -0.80831409,  0.99435463],\n",
       "       [ 1.80427252, -0.80831409,  2.42494226, -2.9830639 ],\n",
       "       [-3.21160508,  0.99435463, -2.9830639 ,  6.9765204 ]])"
      ]
     },
     "execution_count": 28,
     "metadata": {},
     "output_type": "execute_result"
    }
   ],
   "source": [
    "true_cov_inv"
   ]
  },
  {
   "cell_type": "code",
   "execution_count": 29,
   "id": "24d75898",
   "metadata": {},
   "outputs": [],
   "source": [
    "inv_check = np.matmul( true_cov, true_cov_inv )"
   ]
  },
  {
   "cell_type": "code",
   "execution_count": 30,
   "id": "751d0044",
   "metadata": {},
   "outputs": [
    {
     "data": {
      "text/plain": [
       "array([[ 1.00000000e+00, -2.48915592e-17,  4.49207005e-17,\n",
       "         3.14364906e-17],\n",
       "       [-1.24534717e-17,  1.00000000e+00,  1.58764457e-17,\n",
       "        -6.73654956e-18],\n",
       "       [ 2.35496123e-16, -1.10395541e-17,  1.00000000e+00,\n",
       "         1.13629062e-17],\n",
       "       [-1.61493862e-16,  8.95699561e-18, -7.57207999e-17,\n",
       "         1.00000000e+00]])"
      ]
     },
     "execution_count": 30,
     "metadata": {},
     "output_type": "execute_result"
    }
   ],
   "source": [
    "inv_check"
   ]
  },
  {
   "cell_type": "code",
   "execution_count": 31,
   "id": "61bebefd",
   "metadata": {},
   "outputs": [
    {
     "name": "stdout",
     "output_type": "stream",
     "text": [
      "\n",
      "\n",
      " true_cov determinant:  0.028732\n",
      "\n"
     ]
    }
   ],
   "source": [
    "true_cov_det = np.linalg.det( true_cov )\n",
    "print(\"\\n\\n true_cov determinant:  %.6f\\n\" % true_cov_det )"
   ]
  },
  {
   "cell_type": "code",
   "execution_count": 32,
   "id": "7104027e",
   "metadata": {},
   "outputs": [
    {
     "name": "stdout",
     "output_type": "stream",
     "text": [
      "train_pts shape:    (4000000, 4)\n",
      "train_pts.T shape:  (4, 4000000)\n"
     ]
    }
   ],
   "source": [
    "print(\"train_pts shape:    %s\" % str(train_pts.shape))\n",
    "print(\"train_pts.T shape:  %s\" % str(train_pts.T.shape))"
   ]
  },
  {
   "cell_type": "code",
   "execution_count": 33,
   "id": "1bb60d00",
   "metadata": {},
   "outputs": [
    {
     "name": "stdout",
     "output_type": "stream",
     "text": [
      "\n",
      "\n",
      " shape of true_cov_inv_times_v   :  (4, 4000000)\n",
      "\n",
      "\n"
     ]
    }
   ],
   "source": [
    "true_cov_inv_times_v = np.tensordot( true_cov_inv, train_pts_minus_true_mu.T, axes=(1,0) )\n",
    "print(\"\\n\\n shape of true_cov_inv_times_v   :  %s\\n\\n\"\n",
    "     % str(true_cov_inv_times_v.shape))"
   ]
  },
  {
   "cell_type": "code",
   "execution_count": 34,
   "id": "e550cf65",
   "metadata": {},
   "outputs": [
    {
     "name": "stdout",
     "output_type": "stream",
     "text": [
      "\n",
      "\n",
      " shape of v_times_true_cov_inv_times_v   :  (4000000,)\n",
      "\n",
      "\n"
     ]
    }
   ],
   "source": [
    "v_times_true_cov_inv_times_v =  np.sum( train_pts_minus_true_mu.T * true_cov_inv_times_v, axis=0)\n",
    "print(\"\\n\\n shape of v_times_true_cov_inv_times_v   :  %s\\n\\n\"\n",
    "     % str(v_times_true_cov_inv_times_v.shape))"
   ]
  },
  {
   "cell_type": "code",
   "execution_count": 35,
   "id": "f33b96e4",
   "metadata": {},
   "outputs": [
    {
     "name": "stdout",
     "output_type": "stream",
     "text": [
      "\n",
      "\n",
      " v_times_true_cov_inv_times_v   :   [7.90978023 6.5201456  3.85151823 ... 4.33645015 2.42512754 5.5345607 ]\n",
      "\n",
      "\n",
      "  shape  (4000000,) \n"
     ]
    }
   ],
   "source": [
    "\n",
    "print(\"\\n\\n v_times_true_cov_inv_times_v   :   %s\\n\\n\" % v_times_true_cov_inv_times_v )\n",
    "print(\"  shape  %s \"  % str(v_times_true_cov_inv_times_v.shape))"
   ]
  },
  {
   "cell_type": "code",
   "execution_count": null,
   "id": "4e5ad9a2",
   "metadata": {},
   "outputs": [],
   "source": []
  },
  {
   "cell_type": "code",
   "execution_count": 36,
   "id": "d0f69b06",
   "metadata": {},
   "outputs": [
    {
     "data": {
      "text/plain": [
       "array([[ 0.82082805, -0.21774975,  0.04423324,  0.03093148],\n",
       "       [ 0.32498961, -0.85976132, -1.17427534, -0.32490174],\n",
       "       [ 1.58839359, -0.74675734, -0.78807108,  0.7832948 ],\n",
       "       ...,\n",
       "       [ 0.82928569, -0.02724371, -0.53917483, -0.02518337],\n",
       "       [ 1.69335577, -0.03809841, -1.15527327,  0.49819183],\n",
       "       [ 1.2623747 ,  0.1369309 ,  0.31983617,  0.55766802]])"
      ]
     },
     "execution_count": 36,
     "metadata": {},
     "output_type": "execute_result"
    }
   ],
   "source": [
    "train_pts"
   ]
  },
  {
   "cell_type": "code",
   "execution_count": 37,
   "id": "053458bd",
   "metadata": {},
   "outputs": [
    {
     "data": {
      "text/plain": [
       "array([7.90978023, 6.5201456 , 3.85151823, ..., 4.33645015, 2.42512754,\n",
       "       5.5345607 ])"
      ]
     },
     "execution_count": 37,
     "metadata": {},
     "output_type": "execute_result"
    }
   ],
   "source": [
    "v_times_true_cov_inv_times_v"
   ]
  },
  {
   "cell_type": "code",
   "execution_count": null,
   "id": "0044be21",
   "metadata": {},
   "outputs": [],
   "source": []
  },
  {
   "cell_type": "code",
   "execution_count": null,
   "id": "d0fcc000",
   "metadata": {},
   "outputs": [],
   "source": []
  },
  {
   "cell_type": "code",
   "execution_count": 38,
   "id": "934b3163",
   "metadata": {},
   "outputs": [
    {
     "name": "stdout",
     "output_type": "stream",
     "text": [
      "[ 0.02082805 -0.31774975  0.64423324 -0.66906852]\n"
     ]
    }
   ],
   "source": [
    "test_v0 = train_pts_minus_true_mu.T[:,0]\n",
    "print(test_v0)"
   ]
  },
  {
   "cell_type": "code",
   "execution_count": 39,
   "id": "233b362b",
   "metadata": {},
   "outputs": [
    {
     "data": {
      "text/plain": [
       "array([[ 3.20258372, -0.60142417,  1.80427252, -3.21160508],\n",
       "       [-0.60142417,  3.04721581, -0.80831409,  0.99435463],\n",
       "       [ 1.80427252, -0.80831409,  2.42494226, -2.9830639 ],\n",
       "       [-3.21160508,  0.99435463, -2.9830639 ,  6.9765204 ]])"
      ]
     },
     "execution_count": 39,
     "metadata": {},
     "output_type": "execute_result"
    }
   ],
   "source": [
    "true_cov_inv"
   ]
  },
  {
   "cell_type": "code",
   "execution_count": 40,
   "id": "9f223df4",
   "metadata": {},
   "outputs": [],
   "source": [
    "ci_times_tv0 = np.tensordot( true_cov_inv, test_v0, axes=(1,0))"
   ]
  },
  {
   "cell_type": "code",
   "execution_count": 41,
   "id": "56b2fb52",
   "metadata": {},
   "outputs": [
    {
     "data": {
      "text/plain": [
       "array([ 3.56896215, -2.16681273,  3.85252364, -6.97240652])"
      ]
     },
     "execution_count": 41,
     "metadata": {},
     "output_type": "execute_result"
    }
   ],
   "source": [
    "ci_times_tv0"
   ]
  },
  {
   "cell_type": "code",
   "execution_count": null,
   "id": "2a3ec2b1",
   "metadata": {},
   "outputs": [],
   "source": []
  },
  {
   "cell_type": "code",
   "execution_count": 42,
   "id": "f61ce2cc",
   "metadata": {},
   "outputs": [
    {
     "name": "stdout",
     "output_type": "stream",
     "text": [
      "7.909780232425117\n"
     ]
    }
   ],
   "source": [
    "tv0_times_ci_times_tv0 = np.sum(  test_v0 * ci_times_tv0 )\n",
    "print( tv0_times_ci_times_tv0 )"
   ]
  },
  {
   "cell_type": "code",
   "execution_count": null,
   "id": "2af4e59e",
   "metadata": {},
   "outputs": [],
   "source": []
  },
  {
   "cell_type": "code",
   "execution_count": 43,
   "id": "d87b369e",
   "metadata": {},
   "outputs": [
    {
     "name": "stdout",
     "output_type": "stream",
     "text": [
      "[[ 1.82748538 -0.48036759  1.39553429 -2.02850877]\n",
      " [-0.48036759  2.2079007  -0.62656642  0.78320802]\n",
      " [ 1.39553429 -0.62656642  2.71857329 -3.13995215]\n",
      " [-2.02850877  0.78320802 -3.13995215  5.34539474]]\n"
     ]
    }
   ],
   "source": [
    "train_cov_inv = np.linalg.inv( train_cov )\n",
    "print(train_cov_inv)"
   ]
  },
  {
   "cell_type": "code",
   "execution_count": 44,
   "id": "46476043",
   "metadata": {},
   "outputs": [
    {
     "name": "stdout",
     "output_type": "stream",
     "text": [
      "[[ 1.00000000e+00 -1.13971767e-17  1.12265327e-16  1.74567962e-16]\n",
      " [-2.67694780e-17  1.00000000e+00  2.39091527e-17 -1.84557314e-17]\n",
      " [ 3.83920965e-16 -7.68708405e-17  1.00000000e+00 -3.09182504e-16]\n",
      " [ 2.31004300e-17  4.85381715e-17 -1.74023475e-17  1.00000000e+00]]\n"
     ]
    }
   ],
   "source": [
    "train_inv_check = np.matmul( train_cov, train_cov_inv )\n",
    "print(train_inv_check)"
   ]
  },
  {
   "cell_type": "code",
   "execution_count": 45,
   "id": "75ad211d",
   "metadata": {},
   "outputs": [
    {
     "name": "stdout",
     "output_type": "stream",
     "text": [
      "\n",
      "\n",
      " train_cov determinant : 0.103819\n",
      "\n",
      "\n"
     ]
    }
   ],
   "source": [
    "train_cov_det = np.linalg.det( train_cov )\n",
    "print(\"\\n\\n train_cov determinant : %f\\n\\n\" % train_cov_det )"
   ]
  },
  {
   "cell_type": "code",
   "execution_count": null,
   "id": "69c981e1",
   "metadata": {},
   "outputs": [],
   "source": []
  },
  {
   "cell_type": "code",
   "execution_count": 46,
   "id": "78f72bd2",
   "metadata": {},
   "outputs": [],
   "source": [
    "train_cov_inv_times_v = np.tensordot( train_cov_inv, train_pts_minus_train_mu.T, axes=(1,0) )"
   ]
  },
  {
   "cell_type": "code",
   "execution_count": 47,
   "id": "db9b7b8f",
   "metadata": {},
   "outputs": [],
   "source": [
    "v_times_train_cov_inv_times_v =  np.sum( train_pts_minus_train_mu.T * train_cov_inv_times_v, axis=0)"
   ]
  },
  {
   "cell_type": "code",
   "execution_count": null,
   "id": "ab3cd75b",
   "metadata": {},
   "outputs": [],
   "source": []
  },
  {
   "cell_type": "code",
   "execution_count": 48,
   "id": "b6b7cb95",
   "metadata": {},
   "outputs": [
    {
     "data": {
      "text/plain": [
       "array([3.40572741, 2.68334153, 1.70285299, ..., 1.07575628, 0.77284154,\n",
       "       2.0914753 ])"
      ]
     },
     "execution_count": 48,
     "metadata": {},
     "output_type": "execute_result"
    }
   ],
   "source": [
    "v_times_train_cov_inv_times_v"
   ]
  },
  {
   "cell_type": "code",
   "execution_count": 49,
   "id": "1c450e71",
   "metadata": {},
   "outputs": [
    {
     "data": {
      "text/plain": [
       "array([7.90978023, 6.5201456 , 3.85151823, ..., 4.33645015, 2.42512754,\n",
       "       5.5345607 ])"
      ]
     },
     "execution_count": 49,
     "metadata": {},
     "output_type": "execute_result"
    }
   ],
   "source": [
    "v_times_true_cov_inv_times_v"
   ]
  },
  {
   "cell_type": "code",
   "execution_count": 50,
   "id": "ffc01b98",
   "metadata": {},
   "outputs": [
    {
     "data": {
      "text/plain": [
       "array([0.02269743, 0.028491  , 0.06222004, ..., 0.0362311 , 0.08268605,\n",
       "       0.04356154])"
      ]
     },
     "execution_count": 50,
     "metadata": {},
     "output_type": "execute_result"
    }
   ],
   "source": [
    "sample_weights"
   ]
  },
  {
   "cell_type": "code",
   "execution_count": 51,
   "id": "6307f220",
   "metadata": {},
   "outputs": [],
   "source": [
    "exp_v_times_train_cov_inv_times_v = np.exp( -0.5 * v_times_train_cov_inv_times_v )\n",
    "exp_v_times_true_cov_inv_times_v  = np.exp( -0.5 * v_times_true_cov_inv_times_v  )\n",
    "pdf_ratio = exp_v_times_true_cov_inv_times_v / exp_v_times_train_cov_inv_times_v"
   ]
  },
  {
   "cell_type": "code",
   "execution_count": 52,
   "id": "d2613c3b",
   "metadata": {},
   "outputs": [
    {
     "name": "stdout",
     "output_type": "stream",
     "text": [
      "    0 :  w   0.022697  pdf ratio   0.105186  r/w =      4.634  vcv true   7.909780  vcv train   3.405727\n",
      "    1 :  w   0.028491  pdf ratio   0.146841  r/w =      5.154  vcv true   6.520146  vcv train   2.683342\n",
      "    2 :  w   0.062220  pdf ratio   0.341526  r/w =      5.489  vcv true   3.851518  vcv train   1.702853\n",
      "    3 :  w   0.049795  pdf ratio   0.271399  r/w =      5.450  vcv true   6.735697  vcv train   4.127367\n",
      "    4 :  w   0.022585  pdf ratio   0.113726  r/w =      5.035  vcv true   5.812097  vcv train   1.464173\n",
      "    5 :  w   0.052671  pdf ratio   0.278311  r/w =      5.284  vcv true   4.568051  vcv train   2.010017\n",
      "    6 :  w   0.425607  pdf ratio   2.423982  r/w =      5.695  vcv true   0.998248  vcv train   2.769071\n",
      "    7 :  w   0.247273  pdf ratio   1.463407  r/w =      5.918  vcv true   1.714543  vcv train   2.476077\n",
      "    8 :  w   0.101946  pdf ratio   0.570145  r/w =      5.593  vcv true   4.561198  vcv train   3.437469\n",
      "    9 :  w   0.126535  pdf ratio   0.696166  r/w =      5.502  vcv true   1.007586  vcv train   0.283251\n",
      "   10 :  w   0.115078  pdf ratio   0.657604  r/w =      5.714  vcv true   3.867628  vcv train   3.029324\n",
      "   11 :  w   0.027748  pdf ratio   0.111439  r/w =      4.016  vcv true  11.982922  vcv train   7.594359\n",
      "   12 :  w   0.026436  pdf ratio   0.143496  r/w =      5.428  vcv true   6.623776  vcv train   2.740873\n",
      "   13 :  w   0.236135  pdf ratio   1.296236  r/w =      5.489  vcv true   3.461855  vcv train   3.980784\n",
      "   14 :  w   0.148758  pdf ratio   0.803550  r/w =      5.402  vcv true   2.407776  vcv train   1.970343\n",
      "   15 :  w   0.398551  pdf ratio   2.230069  r/w =      5.595  vcv true   2.403776  vcv train   4.007841\n",
      "   16 :  w   0.055448  pdf ratio   0.264558  r/w =      4.771  vcv true   7.627601  vcv train   4.968215\n",
      "   17 :  w   0.207897  pdf ratio   1.090107  r/w =      5.243  vcv true   1.021281  vcv train   1.193833\n",
      "   18 :  w   0.017244  pdf ratio   0.078530  r/w =      4.554  vcv true  10.994214  vcv train   5.905653\n",
      "   19 :  w   0.290308  pdf ratio   1.453286  r/w =      5.006  vcv true   1.648156  vcv train   2.395810\n",
      "   20 :  w   0.027086  pdf ratio   0.154128  r/w =      5.690  vcv true   7.718995  vcv train   3.979056\n",
      "   21 :  w   0.068171  pdf ratio   0.346510  r/w =      5.083  vcv true   6.307548  vcv train   4.187861\n",
      "   22 :  w   0.016910  pdf ratio   0.096172  r/w =      5.687  vcv true   6.775163  vcv train   2.091923\n",
      "   23 :  w   0.073937  pdf ratio   0.303642  r/w =      4.107  vcv true   7.331803  vcv train   4.947991\n",
      "   24 :  w   0.124415  pdf ratio   0.580780  r/w =      4.668  vcv true   6.204255  vcv train   5.117488\n",
      "   25 :  w   0.039154  pdf ratio   0.177215  r/w =      4.526  vcv true   7.360628  vcv train   3.899839\n",
      "   26 :  w   0.014026  pdf ratio   0.075964  r/w =      5.416  vcv true   7.449865  vcv train   2.294873\n",
      "   27 :  w   0.075696  pdf ratio   0.398875  r/w =      5.269  vcv true   3.720816  vcv train   1.882604\n",
      "   28 :  w   0.207219  pdf ratio   1.214706  r/w =      5.862  vcv true   3.280284  vcv train   3.669289\n",
      "   29 :  w   0.034270  pdf ratio   0.158451  r/w =      4.624  vcv true   6.342479  vcv train   2.657860\n",
      "   30 :  w   0.051592  pdf ratio   0.249701  r/w =      4.840  vcv true   5.084429  vcv train   2.309445\n",
      "   31 :  w   0.149376  pdf ratio   0.728099  r/w =      4.874  vcv true   5.141699  vcv train   4.507062\n",
      "   32 :  w   0.036594  pdf ratio   0.201244  r/w =      5.499  vcv true   6.447747  vcv train   3.241268\n",
      "   33 :  w   0.065452  pdf ratio   0.373076  r/w =      5.700  vcv true   3.084297  vcv train   1.112353\n",
      "   34 :  w   0.006577  pdf ratio   0.029406  r/w =      4.471  vcv true  11.083037  vcv train   4.029902\n",
      "   35 :  w   0.289768  pdf ratio   1.683414  r/w =      5.810  vcv true   1.424189  vcv train   2.465837\n",
      "   36 :  w   0.159353  pdf ratio   0.907122  r/w =      5.693  vcv true   1.956507  vcv train   1.761552\n",
      "   37 :  w   0.265355  pdf ratio   1.260809  r/w =      4.751  vcv true   2.295137  vcv train   2.758644\n",
      "   38 :  w   0.069727  pdf ratio   0.373562  r/w =      5.358  vcv true   3.649070  vcv train   1.679728\n",
      "   39 :  w   0.428106  pdf ratio   2.232336  r/w =      5.214  vcv true   6.283340  vcv train   7.889437\n",
      "   40 :  w   0.161235  pdf ratio   0.842676  r/w =      5.226  vcv true   2.673693  vcv train   2.331348\n",
      "   41 :  w   0.127648  pdf ratio   0.644086  r/w =      5.046  vcv true   3.861084  vcv train   2.981239\n",
      "   42 :  w   0.001359  pdf ratio   0.004724  r/w =      3.475  vcv true  17.789796  vcv train   7.079398\n",
      "   43 :  w   0.040871  pdf ratio   0.215072  r/w =      5.262  vcv true   5.560896  vcv train   2.487335\n",
      "   44 :  w   0.275314  pdf ratio   1.270225  r/w =      4.614  vcv true   2.511621  vcv train   2.990009\n",
      "   45 :  w   0.043193  pdf ratio   0.201040  r/w =      4.654  vcv true   4.496268  vcv train   1.287767\n",
      "   46 :  w   0.055033  pdf ratio   0.287499  r/w =      5.224  vcv true   6.839472  vcv train   4.346397\n",
      "   47 :  w   1.311213  pdf ratio   6.600265  r/w =      5.034  vcv true   7.591664  vcv train  11.365883\n",
      "   48 :  w   0.034422  pdf ratio   0.191301  r/w =      5.558  vcv true   4.567852  vcv train   1.260043\n",
      "   49 :  w   0.207930  pdf ratio   1.072140  r/w =      5.156  vcv true   1.589691  vcv train   1.729004\n"
     ]
    }
   ],
   "source": [
    "for i in range(50) :\n",
    "    print(\"  %3d :  w %10.6f  pdf ratio %10.6f  r/w = %10.3f  vcv true %10.6f  vcv train %10.6f\" \n",
    "          % (i, sample_weights[i], pdf_ratio[i], pdf_ratio[i]/sample_weights[i],\n",
    "             v_times_true_cov_inv_times_v[i], v_times_train_cov_inv_times_v[i] ))"
   ]
  },
  {
   "cell_type": "code",
   "execution_count": null,
   "id": "5cf45f4f",
   "metadata": {},
   "outputs": [],
   "source": []
  },
  {
   "cell_type": "code",
   "execution_count": 53,
   "id": "8cf0702e",
   "metadata": {},
   "outputs": [
    {
     "name": "stdout",
     "output_type": "stream",
     "text": [
      "\n",
      " norm2_true : 2.798739\n",
      "\n"
     ]
    }
   ],
   "source": [
    "norm2_true = np.power( 3.14159265, ndim) * true_cov_det\n",
    "print(\"\\n norm2_true : %f\\n\" % norm2_true )"
   ]
  },
  {
   "cell_type": "code",
   "execution_count": 54,
   "id": "c00c1f44",
   "metadata": {},
   "outputs": [
    {
     "name": "stdout",
     "output_type": "stream",
     "text": [
      "\n",
      " norm2_train : 10.112930\n",
      "\n"
     ]
    }
   ],
   "source": [
    "norm2_train = np.power( 3.14159265, ndim) * train_cov_det\n",
    "print(\"\\n norm2_train : %f\\n\" % norm2_train )"
   ]
  },
  {
   "cell_type": "code",
   "execution_count": 55,
   "id": "e198e297",
   "metadata": {},
   "outputs": [
    {
     "name": "stdout",
     "output_type": "stream",
     "text": [
      "[0.05728187 0.08220179 0.1342121  ... 0.18363861 0.21366879 0.11051046]\n"
     ]
    }
   ],
   "source": [
    "pdf_train = exp_v_times_train_cov_inv_times_v / np.sqrt(norm2_train)\n",
    "print(pdf_train)"
   ]
  },
  {
   "cell_type": "code",
   "execution_count": 56,
   "id": "8303a758",
   "metadata": {},
   "outputs": [
    {
     "name": "stdout",
     "output_type": "stream",
     "text": [
      "[0.01145333 0.02294495 0.08713091 ... 0.0683708  0.17779071 0.03755815]\n"
     ]
    }
   ],
   "source": [
    "pdf_true = exp_v_times_true_cov_inv_times_v / np.sqrt(norm2_true)\n",
    "print(pdf_true)"
   ]
  },
  {
   "cell_type": "code",
   "execution_count": 57,
   "id": "b9fe059d",
   "metadata": {},
   "outputs": [],
   "source": [
    "pdf_ratio = pdf_true / pdf_train"
   ]
  },
  {
   "cell_type": "code",
   "execution_count": 58,
   "id": "58cc9f82",
   "metadata": {},
   "outputs": [],
   "source": [
    "calc_weight = sample_sf * pdf_ratio"
   ]
  },
  {
   "cell_type": "code",
   "execution_count": 59,
   "id": "92d338c3",
   "metadata": {},
   "outputs": [
    {
     "name": "stdout",
     "output_type": "stream",
     "text": [
      "    0 :  w   0.022697  calc w   0.019995  r/w =      0.881  vcv true   7.909780  vcv train   3.405727\n",
      "    1 :  w   0.028491  calc w   0.027913  r/w =      0.980  vcv true   6.520146  vcv train   2.683342\n",
      "    2 :  w   0.062220  calc w   0.064920  r/w =      1.043  vcv true   3.851518  vcv train   1.702853\n",
      "    3 :  w   0.049795  calc w   0.051590  r/w =      1.036  vcv true   6.735697  vcv train   4.127367\n",
      "    4 :  w   0.022585  calc w   0.021618  r/w =      0.957  vcv true   5.812097  vcv train   1.464173\n",
      "    5 :  w   0.052671  calc w   0.052904  r/w =      1.004  vcv true   4.568051  vcv train   2.010017\n",
      "    6 :  w   0.425607  calc w   0.460773  r/w =      1.083  vcv true   0.998248  vcv train   2.769071\n",
      "    7 :  w   0.247273  calc w   0.278178  r/w =      1.125  vcv true   1.714543  vcv train   2.476077\n",
      "    8 :  w   0.101946  calc w   0.108378  r/w =      1.063  vcv true   4.561198  vcv train   3.437469\n",
      "    9 :  w   0.126535  calc w   0.132334  r/w =      1.046  vcv true   1.007586  vcv train   0.283251\n",
      "   10 :  w   0.115078  calc w   0.125003  r/w =      1.086  vcv true   3.867628  vcv train   3.029324\n",
      "   11 :  w   0.027748  calc w   0.021183  r/w =      0.763  vcv true  11.982922  vcv train   7.594359\n",
      "   12 :  w   0.026436  calc w   0.027277  r/w =      1.032  vcv true   6.623776  vcv train   2.740873\n",
      "   13 :  w   0.236135  calc w   0.246400  r/w =      1.043  vcv true   3.461855  vcv train   3.980784\n",
      "   14 :  w   0.148758  calc w   0.152746  r/w =      1.027  vcv true   2.407776  vcv train   1.970343\n",
      "   15 :  w   0.398551  calc w   0.423912  r/w =      1.064  vcv true   2.403776  vcv train   4.007841\n",
      "   16 :  w   0.055448  calc w   0.050290  r/w =      0.907  vcv true   7.627601  vcv train   4.968215\n",
      "   17 :  w   0.207897  calc w   0.207218  r/w =      0.997  vcv true   1.021281  vcv train   1.193833\n",
      "   18 :  w   0.017244  calc w   0.014928  r/w =      0.866  vcv true  10.994214  vcv train   5.905653\n",
      "   19 :  w   0.290308  calc w   0.276254  r/w =      0.952  vcv true   1.648156  vcv train   2.395810\n",
      "   20 :  w   0.027086  calc w   0.029298  r/w =      1.082  vcv true   7.718995  vcv train   3.979056\n",
      "   21 :  w   0.068171  calc w   0.065868  r/w =      0.966  vcv true   6.307548  vcv train   4.187861\n",
      "   22 :  w   0.016910  calc w   0.018281  r/w =      1.081  vcv true   6.775163  vcv train   2.091923\n",
      "   23 :  w   0.073937  calc w   0.057719  r/w =      0.781  vcv true   7.331803  vcv train   4.947991\n",
      "   24 :  w   0.124415  calc w   0.110400  r/w =      0.887  vcv true   6.204255  vcv train   5.117488\n",
      "   25 :  w   0.039154  calc w   0.033687  r/w =      0.860  vcv true   7.360628  vcv train   3.899839\n",
      "   26 :  w   0.014026  calc w   0.014440  r/w =      1.030  vcv true   7.449865  vcv train   2.294873\n",
      "   27 :  w   0.075696  calc w   0.075822  r/w =      1.002  vcv true   3.720816  vcv train   1.882604\n",
      "   28 :  w   0.207219  calc w   0.230902  r/w =      1.114  vcv true   3.280284  vcv train   3.669289\n",
      "   29 :  w   0.034270  calc w   0.030120  r/w =      0.879  vcv true   6.342479  vcv train   2.657860\n",
      "   30 :  w   0.051592  calc w   0.047465  r/w =      0.920  vcv true   5.084429  vcv train   2.309445\n",
      "   31 :  w   0.149376  calc w   0.138404  r/w =      0.927  vcv true   5.141699  vcv train   4.507062\n",
      "   32 :  w   0.036594  calc w   0.038254  r/w =      1.045  vcv true   6.447747  vcv train   3.241268\n",
      "   33 :  w   0.065452  calc w   0.070918  r/w =      1.084  vcv true   3.084297  vcv train   1.112353\n",
      "   34 :  w   0.006577  calc w   0.005590  r/w =      0.850  vcv true  11.083037  vcv train   4.029902\n",
      "   35 :  w   0.289768  calc w   0.319999  r/w =      1.104  vcv true   1.424189  vcv train   2.465837\n",
      "   36 :  w   0.159353  calc w   0.172434  r/w =      1.082  vcv true   1.956507  vcv train   1.761552\n",
      "   37 :  w   0.265355  calc w   0.239666  r/w =      0.903  vcv true   2.295137  vcv train   2.758644\n",
      "   38 :  w   0.069727  calc w   0.071010  r/w =      1.018  vcv true   3.649070  vcv train   1.679728\n",
      "   39 :  w   0.428106  calc w   0.424343  r/w =      0.991  vcv true   6.283340  vcv train   7.889437\n",
      "   40 :  w   0.161235  calc w   0.160184  r/w =      0.993  vcv true   2.673693  vcv train   2.331348\n",
      "   41 :  w   0.127648  calc w   0.122434  r/w =      0.959  vcv true   3.861084  vcv train   2.981239\n",
      "   42 :  w   0.001359  calc w   0.000898  r/w =      0.661  vcv true  17.789796  vcv train   7.079398\n",
      "   43 :  w   0.040871  calc w   0.040883  r/w =      1.000  vcv true   5.560896  vcv train   2.487335\n",
      "   44 :  w   0.275314  calc w   0.241456  r/w =      0.877  vcv true   2.511621  vcv train   2.990009\n",
      "   45 :  w   0.043193  calc w   0.038216  r/w =      0.885  vcv true   4.496268  vcv train   1.287767\n",
      "   46 :  w   0.055033  calc w   0.054650  r/w =      0.993  vcv true   6.839472  vcv train   4.346397\n",
      "   47 :  w   1.311213  calc w   1.254639  r/w =      0.957  vcv true   7.591664  vcv train  11.365883\n",
      "   48 :  w   0.034422  calc w   0.036364  r/w =      1.056  vcv true   4.567852  vcv train   1.260043\n",
      "   49 :  w   0.207930  calc w   0.203802  r/w =      0.980  vcv true   1.589691  vcv train   1.729004\n"
     ]
    }
   ],
   "source": [
    "for i in range(50) :\n",
    "    print(\"  %3d :  w %10.6f  calc w %10.6f  r/w = %10.3f  vcv true %10.6f  vcv train %10.6f\" \n",
    "          % (i, sample_weights[i], calc_weight[i], calc_weight[i]/sample_weights[i],\n",
    "             v_times_true_cov_inv_times_v[i], v_times_train_cov_inv_times_v[i] ))"
   ]
  },
  {
   "cell_type": "code",
   "execution_count": null,
   "id": "a8062c1a",
   "metadata": {},
   "outputs": [],
   "source": []
  },
  {
   "cell_type": "code",
   "execution_count": 60,
   "id": "eb78d075",
   "metadata": {},
   "outputs": [
    {
     "data": {
      "text/plain": [
       "<function matplotlib.pyplot.show(close=None, block=None)>"
      ]
     },
     "execution_count": 60,
     "metadata": {},
     "output_type": "execute_result"
    },
    {
     "data": {
      "image/png": "[encoded data removed]",
      "text/plain": [
       "<Figure size 432x288 with 1 Axes>"
      ]
     },
     "metadata": {
      "needs_background": "light"
     },
     "output_type": "display_data"
    }
   ],
   "source": [
    "npts=1000\n",
    "plt.scatter( sample_weights[0:npts], v_times_true_cov_inv_times_v[0:npts])\n",
    "plt.show"
   ]
  },
  {
   "cell_type": "code",
   "execution_count": null,
   "id": "2302c651",
   "metadata": {},
   "outputs": [],
   "source": []
  },
  {
   "cell_type": "code",
   "execution_count": null,
   "id": "065f9621",
   "metadata": {},
   "outputs": [],
   "source": []
  },
  {
   "cell_type": "code",
   "execution_count": 61,
   "id": "0c4461b6",
   "metadata": {},
   "outputs": [
    {
     "data": {
      "text/plain": [
       "<function matplotlib.pyplot.show(close=None, block=None)>"
      ]
     },
     "execution_count": 61,
     "metadata": {},
     "output_type": "execute_result"
    },
    {
     "data": {
      "image/png": "[encoded data removed]",
      "text/plain": [
       "<Figure size 432x288 with 1 Axes>"
      ]
     },
     "metadata": {
      "needs_background": "light"
     },
     "output_type": "display_data"
    }
   ],
   "source": [
    "npts=1000\n",
    "plt.scatter( v_times_train_cov_inv_times_v[0:npts], v_times_true_cov_inv_times_v[0:npts])\n",
    "plt.show"
   ]
  },
  {
   "cell_type": "code",
   "execution_count": 62,
   "id": "737ee310",
   "metadata": {},
   "outputs": [
    {
     "data": {
      "text/plain": [
       "<function matplotlib.pyplot.show(close=None, block=None)>"
      ]
     },
     "execution_count": 62,
     "metadata": {},
     "output_type": "execute_result"
    },
    {
     "data": {
      "image/png": "[encoded data removed]",
      "text/plain": [
       "<Figure size 432x288 with 1 Axes>"
      ]
     },
     "metadata": {
      "needs_background": "light"
     },
     "output_type": "display_data"
    }
   ],
   "source": [
    "plt.scatter( train_pts[0:npts,0], sample_weights[0:npts])\n",
    "plt.show"
   ]
  },
  {
   "cell_type": "code",
   "execution_count": 63,
   "id": "03cd3215",
   "metadata": {},
   "outputs": [
    {
     "data": {
      "text/plain": [
       "<function matplotlib.pyplot.show(close=None, block=None)>"
      ]
     },
     "execution_count": 63,
     "metadata": {},
     "output_type": "execute_result"
    },
    {
     "data": {
      "image/png": "[encoded data removed]",
      "text/plain": [
       "<Figure size 432x288 with 1 Axes>"
      ]
     },
     "metadata": {
      "needs_background": "light"
     },
     "output_type": "display_data"
    }
   ],
   "source": [
    "plt.scatter( train_pts[0:npts,0], np.log10(sample_weights[0:npts]))\n",
    "plt.show"
   ]
  },
  {
   "cell_type": "code",
   "execution_count": 64,
   "id": "290cf4c8",
   "metadata": {},
   "outputs": [
    {
     "data": {
      "text/plain": [
       "<function matplotlib.pyplot.show(close=None, block=None)>"
      ]
     },
     "execution_count": 64,
     "metadata": {},
     "output_type": "execute_result"
    },
    {
     "data": {
      "image/png": "[encoded data removed]",
      "text/plain": [
       "<Figure size 432x288 with 1 Axes>"
      ]
     },
     "metadata": {
      "needs_background": "light"
     },
     "output_type": "display_data"
    }
   ],
   "source": [
    "plt.scatter( train_pts[0:npts,1], np.log10(sample_weights[0:npts]))\n",
    "plt.show"
   ]
  },
  {
   "cell_type": "code",
   "execution_count": 65,
   "id": "a9ee103e",
   "metadata": {},
   "outputs": [
    {
     "data": {
      "text/plain": [
       "<function matplotlib.pyplot.show(close=None, block=None)>"
      ]
     },
     "execution_count": 65,
     "metadata": {},
     "output_type": "execute_result"
    },
    {
     "data": {
      "image/png": "[encoded data removed]",
      "text/plain": [
       "<Figure size 432x288 with 1 Axes>"
      ]
     },
     "metadata": {
      "needs_background": "light"
     },
     "output_type": "display_data"
    }
   ],
   "source": [
    "plt.scatter( train_pts[0:npts,2], np.log10(sample_weights[0:npts]))\n",
    "plt.show"
   ]
  },
  {
   "cell_type": "code",
   "execution_count": 66,
   "id": "494ca646",
   "metadata": {},
   "outputs": [
    {
     "data": {
      "text/plain": [
       "<function matplotlib.pyplot.show(close=None, block=None)>"
      ]
     },
     "execution_count": 66,
     "metadata": {},
     "output_type": "execute_result"
    },
    {
     "data": {
      "image/png": "[encoded data removed]",
      "text/plain": [
       "<Figure size 432x288 with 1 Axes>"
      ]
     },
     "metadata": {
      "needs_background": "light"
     },
     "output_type": "display_data"
    }
   ],
   "source": [
    "plt.scatter( train_pts[0:npts,3], np.log10(sample_weights[0:npts]))\n",
    "plt.show"
   ]
  },
  {
   "cell_type": "code",
   "execution_count": null,
   "id": "519b190f",
   "metadata": {},
   "outputs": [],
   "source": []
  },
  {
   "cell_type": "code",
   "execution_count": null,
   "id": "cdcb9a01",
   "metadata": {},
   "outputs": [],
   "source": []
  },
  {
   "cell_type": "code",
   "execution_count": null,
   "id": "6fb1f741",
   "metadata": {},
   "outputs": [],
   "source": []
  },
  {
   "cell_type": "code",
   "execution_count": 67,
   "id": "4189da9c",
   "metadata": {},
   "outputs": [
    {
     "data": {
      "text/plain": [
       "array([0.1999469 , 0.27912961, 0.64920312, ..., 0.37231167, 0.83208555,\n",
       "       0.33986061])"
      ]
     },
     "execution_count": 67,
     "metadata": {},
     "output_type": "execute_result"
    }
   ],
   "source": [
    "pdf_ratio"
   ]
  },
  {
   "cell_type": "code",
   "execution_count": 68,
   "id": "9ac2fc3b",
   "metadata": {},
   "outputs": [
    {
     "data": {
      "text/plain": [
       "array([0.18216112, 0.26140855, 0.42680566, ..., 0.58398607, 0.67948456,\n",
       "       0.35143249])"
      ]
     },
     "execution_count": 68,
     "metadata": {},
     "output_type": "execute_result"
    }
   ],
   "source": [
    "exp_v_times_train_cov_inv_times_v"
   ]
  },
  {
   "cell_type": "code",
   "execution_count": 69,
   "id": "968a8ae6",
   "metadata": {},
   "outputs": [
    {
     "data": {
      "text/plain": [
       "array([0.01916077, 0.0383856 , 0.14576506, ..., 0.11438045, 0.29743375,\n",
       "       0.06283266])"
      ]
     },
     "execution_count": 69,
     "metadata": {},
     "output_type": "execute_result"
    }
   ],
   "source": [
    "exp_v_times_true_cov_inv_times_v"
   ]
  },
  {
   "cell_type": "code",
   "execution_count": 70,
   "id": "c258b70f",
   "metadata": {},
   "outputs": [
    {
     "data": {
      "text/plain": [
       "array([0.02269743, 0.028491  , 0.06222004, ..., 0.0362311 , 0.08268605,\n",
       "       0.04356154])"
      ]
     },
     "execution_count": 70,
     "metadata": {},
     "output_type": "execute_result"
    }
   ],
   "source": [
    "sample_weights"
   ]
  },
  {
   "cell_type": "code",
   "execution_count": null,
   "id": "c33fa15a",
   "metadata": {},
   "outputs": [],
   "source": []
  },
  {
   "cell_type": "code",
   "execution_count": null,
   "id": "f7aca7ab",
   "metadata": {},
   "outputs": [],
   "source": []
  },
  {
   "cell_type": "code",
   "execution_count": 71,
   "id": "aa5123cd",
   "metadata": {},
   "outputs": [
    {
     "data": {
      "text/plain": [
       "<function matplotlib.pyplot.show(close=None, block=None)>"
      ]
     },
     "execution_count": 71,
     "metadata": {},
     "output_type": "execute_result"
    },
    {
     "data": {
      "image/png": "[encoded data removed]",
      "text/plain": [
       "<Figure size 432x288 with 1 Axes>"
      ]
     },
     "metadata": {
      "needs_background": "light"
     },
     "output_type": "display_data"
    }
   ],
   "source": [
    "plt.hist(calc_weight, bins=40)\n",
    "ax=plt.gca()\n",
    "ax.set_yscale('log')\n",
    "plt.show"
   ]
  },
  {
   "cell_type": "code",
   "execution_count": 72,
   "id": "50b01343",
   "metadata": {},
   "outputs": [
    {
     "data": {
      "text/plain": [
       "<function matplotlib.pyplot.show(close=None, block=None)>"
      ]
     },
     "execution_count": 72,
     "metadata": {},
     "output_type": "execute_result"
    },
    {
     "data": {
      "image/png": "[encoded data removed]",
      "text/plain": [
       "<Figure size 432x288 with 1 Axes>"
      ]
     },
     "metadata": {
      "needs_background": "light"
     },
     "output_type": "display_data"
    }
   ],
   "source": [
    "plt.hist( np.log10(pdf_ratio), bins=40)\n",
    "plt.show"
   ]
  },
  {
   "cell_type": "code",
   "execution_count": 73,
   "id": "78859680",
   "metadata": {},
   "outputs": [
    {
     "data": {
      "text/plain": [
       "<function matplotlib.pyplot.show(close=None, block=None)>"
      ]
     },
     "execution_count": 73,
     "metadata": {},
     "output_type": "execute_result"
    },
    {
     "data": {
      "image/png": "[encoded data removed]",
      "text/plain": [
       "<Figure size 432x288 with 1 Axes>"
      ]
     },
     "metadata": {
      "needs_background": "light"
     },
     "output_type": "display_data"
    }
   ],
   "source": [
    "npts=1000\n",
    "plt.scatter( np.log10(sample_weights[0:npts]), np.log10(calc_weight[0:npts]))\n",
    "plt.show"
   ]
  },
  {
   "cell_type": "code",
   "execution_count": 74,
   "id": "9555e133",
   "metadata": {},
   "outputs": [
    {
     "data": {
      "text/plain": [
       "<function matplotlib.pyplot.show(close=None, block=None)>"
      ]
     },
     "execution_count": 74,
     "metadata": {},
     "output_type": "execute_result"
    },
    {
     "data": {
      "image/png": "[encoded data removed]",
      "text/plain": [
       "<Figure size 432x288 with 1 Axes>"
      ]
     },
     "metadata": {
      "needs_background": "light"
     },
     "output_type": "display_data"
    }
   ],
   "source": [
    "plt.hist2d( np.log10(sample_weights[0:npts]), np.log10(calc_weight[0:npts]), bins=[100,100])\n",
    "plt.show"
   ]
  },
  {
   "cell_type": "code",
   "execution_count": 75,
   "id": "069d2849",
   "metadata": {},
   "outputs": [
    {
     "data": {
      "text/plain": [
       "<function matplotlib.pyplot.show(close=None, block=None)>"
      ]
     },
     "execution_count": 75,
     "metadata": {},
     "output_type": "execute_result"
    },
    {
     "data": {
      "image/png": "[encoded data removed]",
      "text/plain": [
       "<Figure size 432x288 with 1 Axes>"
      ]
     },
     "metadata": {
      "needs_background": "light"
     },
     "output_type": "display_data"
    }
   ],
   "source": [
    "npts=1000\n",
    "plt.scatter( (sample_weights[0:npts][sample_weights[0:npts]<100]), (calc_weight[0:npts][sample_weights[0:npts]<100]))\n",
    "plt.show"
   ]
  },
  {
   "cell_type": "code",
   "execution_count": null,
   "id": "1142b59e",
   "metadata": {},
   "outputs": [],
   "source": []
  },
  {
   "cell_type": "code",
   "execution_count": 76,
   "id": "0f21bdae",
   "metadata": {},
   "outputs": [
    {
     "data": {
      "text/plain": [
       "<function matplotlib.pyplot.show(close=None, block=None)>"
      ]
     },
     "execution_count": 76,
     "metadata": {},
     "output_type": "execute_result"
    },
    {
     "data": {
      "image/png": "[encoded data removed]",
      "text/plain": [
       "<Figure size 432x288 with 1 Axes>"
      ]
     },
     "metadata": {
      "needs_background": "light"
     },
     "output_type": "display_data"
    }
   ],
   "source": [
    "plt.hist( sample_weights/calc_weight, bins=40, range=[0,4])\n",
    "plt.show"
   ]
  },
  {
   "cell_type": "code",
   "execution_count": null,
   "id": "5e6dbe31",
   "metadata": {},
   "outputs": [],
   "source": []
  },
  {
   "cell_type": "code",
   "execution_count": 77,
   "id": "d778d631",
   "metadata": {},
   "outputs": [
    {
     "data": {
      "text/plain": [
       "<function matplotlib.pyplot.show(close=None, block=None)>"
      ]
     },
     "execution_count": 77,
     "metadata": {},
     "output_type": "execute_result"
    },
    {
     "data": {
      "image/png": "[encoded data removed]",
      "text/plain": [
       "<Figure size 432x288 with 1 Axes>"
      ]
     },
     "metadata": {
      "needs_background": "light"
     },
     "output_type": "display_data"
    }
   ],
   "source": [
    "hbins=40\n",
    "plt.hist( train_pts[:,3], bins=hbins, density=True, range=[-6,6] )\n",
    "plt.hist( true_pts[:,3], bins=hbins, density=True, range=[-6,6], alpha=0.5 )\n",
    "plt.show"
   ]
  },
  {
   "cell_type": "code",
   "execution_count": 78,
   "id": "c8dd327a",
   "metadata": {},
   "outputs": [
    {
     "data": {
      "text/plain": [
       "<function matplotlib.pyplot.show(close=None, block=None)>"
      ]
     },
     "execution_count": 78,
     "metadata": {},
     "output_type": "execute_result"
    },
    {
     "data": {
      "image/png": "[encoded data removed]",
      "text/plain": [
       "<Figure size 432x288 with 1 Axes>"
      ]
     },
     "metadata": {
      "needs_background": "light"
     },
     "output_type": "display_data"
    }
   ],
   "source": [
    "hbins=40\n",
    "plt.hist( train_pts[:,3], bins=hbins, density=True, range=[-6,6] )\n",
    "plt.hist( train_pts[:,3], weights=sample_weights, bins=hbins, density=True, range=[-6,6], alpha=0.5 )\n",
    "plt.show"
   ]
  },
  {
   "cell_type": "code",
   "execution_count": 79,
   "id": "8fb635cd",
   "metadata": {},
   "outputs": [
    {
     "data": {
      "text/plain": [
       "<function matplotlib.pyplot.show(close=None, block=None)>"
      ]
     },
     "execution_count": 79,
     "metadata": {},
     "output_type": "execute_result"
    },
    {
     "data": {
      "image/png": "[encoded data removed]",
      "text/plain": [
       "<Figure size 432x288 with 1 Axes>"
      ]
     },
     "metadata": {
      "needs_background": "light"
     },
     "output_type": "display_data"
    }
   ],
   "source": [
    "hbins=40\n",
    "plt.hist( train_pts[:,3], bins=hbins, density=True, range=[-6,6] )\n",
    "plt.hist( train_pts[:,3], weights=pdf_ratio, bins=hbins, density=True, range=[-6,6], alpha=0.5 )\n",
    "plt.show"
   ]
  },
  {
   "cell_type": "code",
   "execution_count": 80,
   "id": "80fe0c34",
   "metadata": {},
   "outputs": [
    {
     "data": {
      "text/plain": [
       "<function matplotlib.pyplot.show(close=None, block=None)>"
      ]
     },
     "execution_count": 80,
     "metadata": {},
     "output_type": "execute_result"
    },
    {
     "data": {
      "image/png": "[encoded data removed]",
      "text/plain": [
       "<Figure size 432x288 with 1 Axes>"
      ]
     },
     "metadata": {
      "needs_background": "light"
     },
     "output_type": "display_data"
    }
   ],
   "source": [
    "hbins=40\n",
    "plt.hist( true_pts[:,3], bins=hbins, density=True, range=[-6,6] )\n",
    "plt.hist( train_pts[:,3], weights=pdf_ratio, bins=hbins, density=True, range=[-6,6], alpha=0.5 )\n",
    "plt.show"
   ]
  },
  {
   "cell_type": "code",
   "execution_count": 81,
   "id": "6fc5d9b7",
   "metadata": {},
   "outputs": [
    {
     "data": {
      "text/plain": [
       "<function matplotlib.pyplot.show(close=None, block=None)>"
      ]
     },
     "execution_count": 81,
     "metadata": {},
     "output_type": "execute_result"
    },
    {
     "data": {
      "image/png": "[encoded data removed]",
      "text/plain": [
       "<Figure size 432x288 with 1 Axes>"
      ]
     },
     "metadata": {
      "needs_background": "light"
     },
     "output_type": "display_data"
    }
   ],
   "source": [
    "hbins=40\n",
    "plt.hist( true_pts[:,3], bins=hbins, density=True, range=[-6,6] )\n",
    "plt.hist( train_pts[:,3], weights=sample_weights, bins=hbins, density=True, range=[-6,6], alpha=0.5 )\n",
    "plt.show"
   ]
  },
  {
   "cell_type": "code",
   "execution_count": null,
   "id": "77ceb947",
   "metadata": {},
   "outputs": [],
   "source": []
  },
  {
   "cell_type": "code",
   "execution_count": 82,
   "id": "d037a813",
   "metadata": {},
   "outputs": [
    {
     "data": {
      "text/plain": [
       "<function matplotlib.pyplot.show(close=None, block=None)>"
      ]
     },
     "execution_count": 82,
     "metadata": {},
     "output_type": "execute_result"
    },
    {
     "data": {
      "image/png": "[encoded data removed]",
      "text/plain": [
       "<Figure size 1440x1440 with 16 Axes>"
      ]
     },
     "metadata": {
      "needs_background": "light"
     },
     "output_type": "display_data"
    }
   ],
   "source": [
    "fig,ax = plt.subplots( 4, ndim, figsize=(5*ndim,5*4))\n",
    "\n",
    "hbins = 40\n",
    "hxmin = -4\n",
    "hxmax = 4\n",
    "\n",
    "for fi in range(ndim) :\n",
    "    \n",
    "    ax[0][fi].hist( train_pts[:,fi], bins=hbins, density=True, range=[hxmin,hxmax], label='train' )\n",
    "    ax[0][fi].hist( true_pts[:,fi], bins=hbins, density=True, range=[hxmin,hxmax], label='true', alpha=0.5 )\n",
    "    \n",
    "    ax[1][fi].hist( true_pts[:,fi], bins=hbins, density=True, range=[hxmin,hxmax], label='true')\n",
    "    ax[1][fi].hist( train_pts[:,fi], weights=sample_weights, bins=hbins, density=True, \n",
    "                   label='train*OFw', range=[hxmin,hxmax], alpha=0.5 )\n",
    "\n",
    "    ax[2][fi].hist( true_pts[:,fi], bins=hbins, density=True, range=[hxmin,hxmax], label='true' )\n",
    "    ax[2][fi].hist( train_pts[:,fi], weights=pdf_ratio, bins=hbins, density=True, \n",
    "                   label='train*PDFr', range=[hxmin,hxmax], alpha=0.5 )\n",
    "\n",
    "    ax[3][fi].hist( train_pts[:,fi], bins=hbins, density=True, range=[hxmin,hxmax], label='train' )\n",
    "    ax[3][fi].hist( train_pts[:,fi], weights=pdf_ratio, bins=hbins, density=True, \n",
    "                   label='train*PDFr', range=[hxmin,hxmax], alpha=0.5 )\n",
    " \n",
    "\n",
    "    ax[0][0].legend()\n",
    "    ax[1][0].legend()\n",
    "    ax[2][0].legend()\n",
    "    ax[3][0].legend()\n",
    "    \n",
    "plt.show"
   ]
  },
  {
   "cell_type": "code",
   "execution_count": null,
   "id": "20575855",
   "metadata": {},
   "outputs": [],
   "source": []
  },
  {
   "cell_type": "code",
   "execution_count": 83,
   "id": "2fb77026",
   "metadata": {},
   "outputs": [],
   "source": [
    "delta_weight = sample_weights - calc_weight"
   ]
  },
  {
   "cell_type": "code",
   "execution_count": 84,
   "id": "3042bffb",
   "metadata": {},
   "outputs": [
    {
     "data": {
      "text/plain": [
       "<function matplotlib.pyplot.show(close=None, block=None)>"
      ]
     },
     "execution_count": 84,
     "metadata": {},
     "output_type": "execute_result"
    },
    {
     "data": {
      "image/png": "[encoded data removed]",
      "text/plain": [
       "<Figure size 432x288 with 1 Axes>"
      ]
     },
     "metadata": {
      "needs_background": "light"
     },
     "output_type": "display_data"
    }
   ],
   "source": [
    "plt.hist( delta_weight, bins=40, range=[-0.1,0.1])\n",
    "plt.show"
   ]
  },
  {
   "cell_type": "code",
   "execution_count": 85,
   "id": "9b48da2c",
   "metadata": {},
   "outputs": [
    {
     "data": {
      "text/plain": [
       "<function matplotlib.pyplot.show(close=None, block=None)>"
      ]
     },
     "execution_count": 85,
     "metadata": {},
     "output_type": "execute_result"
    },
    {
     "data": {
      "image/png": "[encoded data removed]",
      "text/plain": [
       "<Figure size 432x288 with 1 Axes>"
      ]
     },
     "metadata": {
      "needs_background": "light"
     },
     "output_type": "display_data"
    }
   ],
   "source": [
    "hbins=100\n",
    "plt.hist2d( train_pts[:,0], delta_weight, bins=[hbins,hbins], range=([-6,6],[-0.01,0.01]))\n",
    "plt.show"
   ]
  },
  {
   "cell_type": "code",
   "execution_count": 86,
   "id": "741d02ed",
   "metadata": {},
   "outputs": [
    {
     "data": {
      "text/plain": [
       "<function matplotlib.pyplot.show(close=None, block=None)>"
      ]
     },
     "execution_count": 86,
     "metadata": {},
     "output_type": "execute_result"
    },
    {
     "data": {
      "image/png": "[encoded data removed]",
      "text/plain": [
       "<Figure size 1440x360 with 4 Axes>"
      ]
     },
     "metadata": {
      "needs_background": "light"
     },
     "output_type": "display_data"
    }
   ],
   "source": [
    "fig,ax = plt.subplots( 1, ndim, figsize=(ndim*5,5))\n",
    "\n",
    "hxmin=-4\n",
    "hxmax=4\n",
    "\n",
    "hbins=100\n",
    "\n",
    "for fi in range(ndim) :\n",
    "    ax[fi].hist2d( train_pts[:,fi], delta_weight, bins=[hbins,hbins], range=([hxmin,hxmax],[-0.01,0.01]))\n",
    "    \n",
    "plt.show\n"
   ]
  },
  {
   "cell_type": "code",
   "execution_count": null,
   "id": "a3d6a446",
   "metadata": {},
   "outputs": [],
   "source": []
  }
 ],
 "metadata": {
  "kernelspec": {
   "display_name": "Python 3 (ipykernel)",
   "language": "python",
   "name": "python3"
  },
  "language_info": {
   "codemirror_mode": {
    "name": "ipython",
    "version": 3
   },
   "file_extension": ".py",
   "mimetype": "text/x-python",
   "name": "python",
   "nbconvert_exporter": "python",
   "pygments_lexer": "ipython3",
   "version": "3.10.12"
  }
 },
 "nbformat": 4,
 "nbformat_minor": 5
}
