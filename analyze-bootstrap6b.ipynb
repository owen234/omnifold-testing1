{
 "cells": [
  {
   "cell_type": "code",
   "execution_count": 1,
   "id": "c4827ba1",
   "metadata": {},
   "outputs": [],
   "source": [
    "import matplotlib.pyplot as plt\n",
    "import numpy as np"
   ]
  },
  {
   "cell_type": "code",
   "execution_count": 2,
   "id": "b2b52003",
   "metadata": {},
   "outputs": [],
   "source": [
    "import read_config_utils as cu\n",
    "\n",
    "import time\n",
    "\n",
    "import sys\n",
    "import os\n",
    "\n",
    "from os.path import exists"
   ]
  },
  {
   "cell_type": "code",
   "execution_count": 3,
   "id": "c2b45d22",
   "metadata": {},
   "outputs": [],
   "source": [
    "\n",
    "#input_dir = 'output-files-bootstrap-test6b-4d-2a'\n",
    "\n",
    "#input_dir = 'bootstrap-simple-pdf-toy-study6b-2d-v1b'\n",
    "\n",
    "input_dir = 'output-files-bootstrap-test6b-2d-2a-100k'\n",
    "\n",
    "\n",
    "\n",
    "ncalc = 1000\n",
    "npoints = 1000"
   ]
  },
  {
   "cell_type": "code",
   "execution_count": 4,
   "id": "d9cb4843",
   "metadata": {},
   "outputs": [],
   "source": [
    "with open('%s/train-and-true-samples.npy' % input_dir,'rb') as f :\n",
    "    train_pts = np.load(f)\n",
    "    train_det_pts = np.load(f)\n",
    "    true_pts = np.load(f)\n",
    "    true_det_pts = np.load(f)\n"
   ]
  },
  {
   "cell_type": "code",
   "execution_count": 5,
   "id": "8577ae8d",
   "metadata": {},
   "outputs": [
    {
     "data": {
      "text/plain": [
       "(100000, 2)"
      ]
     },
     "execution_count": 5,
     "metadata": {},
     "output_type": "execute_result"
    }
   ],
   "source": [
    "train_pts.shape"
   ]
  },
  {
   "cell_type": "markdown",
   "id": "41c69d97",
   "metadata": {},
   "source": [
    "## Check the particle and detector distributions"
   ]
  },
  {
   "cell_type": "code",
   "execution_count": 6,
   "id": "d89cdc77",
   "metadata": {},
   "outputs": [
    {
     "data": {
      "text/plain": [
       "<function matplotlib.pyplot.show(close=None, block=None)>"
      ]
     },
     "execution_count": 6,
     "metadata": {},
     "output_type": "execute_result"
    },
    {
     "data": {
      "image/png": "[encoded data removed]",
      "text/plain": [
       "<Figure size 792x360 with 2 Axes>"
      ]
     },
     "metadata": {
      "needs_background": "light"
     },
     "output_type": "display_data"
    }
   ],
   "source": [
    "fig,ax = plt.subplots( 1, 2, figsize=(11,5))\n",
    "\n",
    "hbins=40\n",
    "x0min=-5\n",
    "x0max=5\n",
    "x1min=-6\n",
    "x1max=6\n",
    "\n",
    "ax[0].hist( train_pts[:,0], bins=hbins, range=[x0min,x0max] )\n",
    "ax[0].hist( train_det_pts[:,0], bins=hbins, range=[x0min,x0max], alpha=0.5 )\n",
    "\n",
    "ax[1].hist( train_pts[:,1], bins=hbins, range=[x1min,x1max] )\n",
    "ax[1].hist( train_det_pts[:,1], bins=hbins, range=[x1min,x1max], alpha=0.5 )\n",
    "\n",
    "plt.show"
   ]
  },
  {
   "cell_type": "code",
   "execution_count": null,
   "id": "c72b896a",
   "metadata": {},
   "outputs": [],
   "source": []
  },
  {
   "cell_type": "code",
   "execution_count": 7,
   "id": "8b0f8f8b",
   "metadata": {},
   "outputs": [
    {
     "name": "stdout",
     "output_type": "stream",
     "text": [
      "\n",
      "\n",
      " Found 45 bootstrap samples.\n",
      "\n",
      "\n"
     ]
    }
   ],
   "source": [
    "n_samples = 0\n",
    "\n",
    "for fi in range(1000) :\n",
    "    \n",
    "    fname = '%s/bootstrap-weights-%03d.npy' % (input_dir, fi)\n",
    "    \n",
    "    if exists(fname) :\n",
    "        n_samples = n_samples + 1\n",
    "        \n",
    "print(\"\\n\\n Found %d bootstrap samples.\\n\\n\" % n_samples )"
   ]
  },
  {
   "cell_type": "code",
   "execution_count": null,
   "id": "14e87c2e",
   "metadata": {},
   "outputs": [],
   "source": []
  },
  {
   "cell_type": "markdown",
   "id": "b011ef24",
   "metadata": {},
   "source": [
    "## Load the weights for the first ncalc events from all of the bootstraps"
   ]
  },
  {
   "cell_type": "code",
   "execution_count": 8,
   "id": "69823be1",
   "metadata": {},
   "outputs": [],
   "source": [
    "bootstrap_weights = np.zeros( shape = (n_samples, ncalc) )"
   ]
  },
  {
   "cell_type": "code",
   "execution_count": 9,
   "id": "6d5db985",
   "metadata": {
    "scrolled": true
   },
   "outputs": [
    {
     "name": "stdout",
     "output_type": "stream",
     "text": [
      "loading output-files-bootstrap-test6b-2d-2a-100k/bootstrap-weights-000.npy\n",
      "loading output-files-bootstrap-test6b-2d-2a-100k/bootstrap-weights-001.npy\n",
      "loading output-files-bootstrap-test6b-2d-2a-100k/bootstrap-weights-002.npy\n",
      "loading output-files-bootstrap-test6b-2d-2a-100k/bootstrap-weights-003.npy\n",
      "loading output-files-bootstrap-test6b-2d-2a-100k/bootstrap-weights-004.npy\n",
      "loading output-files-bootstrap-test6b-2d-2a-100k/bootstrap-weights-005.npy\n",
      "loading output-files-bootstrap-test6b-2d-2a-100k/bootstrap-weights-006.npy\n",
      "loading output-files-bootstrap-test6b-2d-2a-100k/bootstrap-weights-007.npy\n",
      "loading output-files-bootstrap-test6b-2d-2a-100k/bootstrap-weights-008.npy\n",
      "loading output-files-bootstrap-test6b-2d-2a-100k/bootstrap-weights-009.npy\n",
      "loading output-files-bootstrap-test6b-2d-2a-100k/bootstrap-weights-010.npy\n",
      "loading output-files-bootstrap-test6b-2d-2a-100k/bootstrap-weights-011.npy\n",
      "loading output-files-bootstrap-test6b-2d-2a-100k/bootstrap-weights-012.npy\n",
      "loading output-files-bootstrap-test6b-2d-2a-100k/bootstrap-weights-013.npy\n",
      "loading output-files-bootstrap-test6b-2d-2a-100k/bootstrap-weights-014.npy\n",
      "loading output-files-bootstrap-test6b-2d-2a-100k/bootstrap-weights-015.npy\n",
      "loading output-files-bootstrap-test6b-2d-2a-100k/bootstrap-weights-016.npy\n",
      "loading output-files-bootstrap-test6b-2d-2a-100k/bootstrap-weights-017.npy\n",
      "loading output-files-bootstrap-test6b-2d-2a-100k/bootstrap-weights-018.npy\n",
      "loading output-files-bootstrap-test6b-2d-2a-100k/bootstrap-weights-019.npy\n",
      "loading output-files-bootstrap-test6b-2d-2a-100k/bootstrap-weights-020.npy\n",
      "loading output-files-bootstrap-test6b-2d-2a-100k/bootstrap-weights-021.npy\n",
      "loading output-files-bootstrap-test6b-2d-2a-100k/bootstrap-weights-022.npy\n",
      "loading output-files-bootstrap-test6b-2d-2a-100k/bootstrap-weights-023.npy\n",
      "loading output-files-bootstrap-test6b-2d-2a-100k/bootstrap-weights-024.npy\n",
      "loading output-files-bootstrap-test6b-2d-2a-100k/bootstrap-weights-025.npy\n",
      "loading output-files-bootstrap-test6b-2d-2a-100k/bootstrap-weights-026.npy\n",
      "loading output-files-bootstrap-test6b-2d-2a-100k/bootstrap-weights-027.npy\n",
      "loading output-files-bootstrap-test6b-2d-2a-100k/bootstrap-weights-028.npy\n",
      "loading output-files-bootstrap-test6b-2d-2a-100k/bootstrap-weights-029.npy\n",
      "loading output-files-bootstrap-test6b-2d-2a-100k/bootstrap-weights-030.npy\n",
      "loading output-files-bootstrap-test6b-2d-2a-100k/bootstrap-weights-031.npy\n",
      "loading output-files-bootstrap-test6b-2d-2a-100k/bootstrap-weights-032.npy\n",
      "loading output-files-bootstrap-test6b-2d-2a-100k/bootstrap-weights-033.npy\n",
      "loading output-files-bootstrap-test6b-2d-2a-100k/bootstrap-weights-034.npy\n",
      "loading output-files-bootstrap-test6b-2d-2a-100k/bootstrap-weights-035.npy\n",
      "loading output-files-bootstrap-test6b-2d-2a-100k/bootstrap-weights-036.npy\n",
      "loading output-files-bootstrap-test6b-2d-2a-100k/bootstrap-weights-037.npy\n",
      "loading output-files-bootstrap-test6b-2d-2a-100k/bootstrap-weights-038.npy\n",
      "loading output-files-bootstrap-test6b-2d-2a-100k/bootstrap-weights-039.npy\n",
      "loading output-files-bootstrap-test6b-2d-2a-100k/bootstrap-weights-040.npy\n",
      "loading output-files-bootstrap-test6b-2d-2a-100k/bootstrap-weights-041.npy\n",
      "loading output-files-bootstrap-test6b-2d-2a-100k/bootstrap-weights-042.npy\n",
      "loading output-files-bootstrap-test6b-2d-2a-100k/bootstrap-weights-043.npy\n",
      "loading output-files-bootstrap-test6b-2d-2a-100k/bootstrap-weights-044.npy\n"
     ]
    }
   ],
   "source": [
    "for fi in range(n_samples) :\n",
    "    \n",
    "    fname = '%s/bootstrap-weights-%03d.npy' % (input_dir, fi)\n",
    "    \n",
    "    if exists(fname) :\n",
    "        print( 'loading %s' % fname )\n",
    "        with open(fname,'rb') as f :\n",
    "            this_bootstrap_weights = np.load(f)\n",
    "        bootstrap_weights[fi,:] = this_bootstrap_weights[0:ncalc]\n",
    "        \n",
    "    else :\n",
    "        print(\"\\n\\n *** file %s does not exist!\\n\\n\" % fname )\n",
    "        sys.exit()\n",
    "        \n"
   ]
  },
  {
   "cell_type": "code",
   "execution_count": 10,
   "id": "6ed9a8ef",
   "metadata": {},
   "outputs": [
    {
     "name": "stdout",
     "output_type": "stream",
     "text": [
      " ncalc = 1000\n"
     ]
    }
   ],
   "source": [
    "\n",
    "corr_array = np.zeros( ncalc )\n",
    "print(\" ncalc = %d\" % ncalc)\n",
    "\n",
    "point_index = 57\n",
    "\n",
    "for i in range(ncalc) :\n",
    "    pair_cor = np.corrcoef( np.row_stack( (bootstrap_weights[:,point_index], bootstrap_weights[:,i]) ))\n",
    "    corr_array[i] = pair_cor[0,1]\n"
   ]
  },
  {
   "cell_type": "code",
   "execution_count": 11,
   "id": "d2ef1b44",
   "metadata": {},
   "outputs": [
    {
     "data": {
      "text/plain": [
       "<function matplotlib.pyplot.show(close=None, block=None)>"
      ]
     },
     "execution_count": 11,
     "metadata": {},
     "output_type": "execute_result"
    },
    {
     "data": {
      "image/png": "[encoded data removed]",
      "text/plain": [
       "<Figure size 432x288 with 1 Axes>"
      ]
     },
     "metadata": {
      "needs_background": "light"
     },
     "output_type": "display_data"
    }
   ],
   "source": [
    "plt.hist( corr_array, bins=40)\n",
    "plt.show"
   ]
  },
  {
   "cell_type": "code",
   "execution_count": 12,
   "id": "53d51898",
   "metadata": {},
   "outputs": [],
   "source": [
    "df0 = train_pts[:,0] - train_pts[point_index,0]\n",
    "df1 = train_pts[:,1] - train_pts[point_index,1]\n",
    "dr = np.sqrt( df0*df0 + df1*df1)"
   ]
  },
  {
   "cell_type": "code",
   "execution_count": null,
   "id": "44353a7c",
   "metadata": {},
   "outputs": [],
   "source": []
  },
  {
   "cell_type": "code",
   "execution_count": 13,
   "id": "d585fa8c",
   "metadata": {},
   "outputs": [
    {
     "data": {
      "text/plain": [
       "<function matplotlib.pyplot.show(close=None, block=None)>"
      ]
     },
     "execution_count": 13,
     "metadata": {},
     "output_type": "execute_result"
    },
    {
     "data": {
      "image/png": "[encoded data removed]",
      "text/plain": [
       "<Figure size 1296x360 with 3 Axes>"
      ]
     },
     "metadata": {
      "needs_background": "light"
     },
     "output_type": "display_data"
    }
   ],
   "source": [
    "fig,ax = plt.subplots( 1, 3, figsize=(18,5))\n",
    "ax[0].hist2d( df0[:ncalc], corr_array, bins=[80,80], range=([-4,4],[-1,1]))\n",
    "ax[1].hist2d( df1[:ncalc], corr_array, bins=[80,80], range=([-4,4],[-1,1]))\n",
    "ax[2].hist2d( dr[:ncalc], corr_array, bins=[80,80], range=([0,5],[-1,1]))\n",
    "plt.show"
   ]
  },
  {
   "cell_type": "code",
   "execution_count": null,
   "id": "ee3776c7",
   "metadata": {},
   "outputs": [],
   "source": []
  },
  {
   "cell_type": "code",
   "execution_count": 14,
   "id": "56ad5952",
   "metadata": {
    "scrolled": true
   },
   "outputs": [
    {
     "name": "stdout",
     "output_type": "stream",
     "text": [
      " Working on point   0\n",
      " Working on point 100\n",
      " Working on point 200\n",
      " Working on point 300\n",
      " Working on point 400\n",
      " Working on point 500\n",
      " Working on point 600\n",
      " Working on point 700\n",
      " Working on point 800\n",
      " Working on point 900\n",
      "CPU times: user 56.2 s, sys: 5.65 s, total: 1min 1s\n",
      "Wall time: 1min 1s\n"
     ]
    }
   ],
   "source": [
    "%%time\n",
    "\n",
    "\n",
    "\n",
    "for point_index in range(npoints) :\n",
    "    \n",
    "    if (point_index % (npoints/10) == 0 ) :\n",
    "        print(\" Working on point %3d\" % point_index)\n",
    "        \n",
    "    this_point_corr_array = np.zeros(ncalc)\n",
    "    \n",
    "    for i in range(ncalc) :\n",
    "        #if i == point_index : continue\n",
    "        pair_cor = np.corrcoef( np.row_stack( (bootstrap_weights[:,point_index], bootstrap_weights[:,i]) ))\n",
    "        this_point_corr_array[i] = pair_cor[0,1]\n",
    "    \n",
    "    if point_index == 0 :\n",
    "        all_points_df0 = train_pts[:ncalc,0] - train_pts[point_index,0]\n",
    "        all_points_df1 = train_pts[:ncalc,1] - train_pts[point_index,1]\n",
    "        all_points_dr = np.sqrt( all_points_df0*all_points_df0 + all_points_df1*all_points_df1)\n",
    "        all_points_corr_array = this_point_corr_array\n",
    "        all_points_f0b = train_pts[:ncalc,0]\n",
    "        all_points_f1b = train_pts[:ncalc,1]\n",
    "    else :\n",
    "        this_point_df0 = train_pts[:ncalc,0] - train_pts[point_index,0]\n",
    "        this_point_df1 = train_pts[:ncalc,1] - train_pts[point_index,1]  \n",
    "        this_point_dr = np.sqrt( this_point_df0*this_point_df0 + this_point_df1*this_point_df1 )\n",
    "        all_points_df0 = np.append( all_points_df0, this_point_df0 )\n",
    "        all_points_df1 = np.append( all_points_df1, this_point_df1 )\n",
    "        all_points_dr = np.append( all_points_dr, this_point_dr )\n",
    "        all_points_corr_array = np.append(all_points_corr_array, this_point_corr_array)\n",
    "        all_points_f0b = np.append(all_points_f0b, train_pts[:ncalc,0] )\n",
    "        all_points_f1b = np.append(all_points_f1b, train_pts[:ncalc,1] )\n"
   ]
  },
  {
   "cell_type": "code",
   "execution_count": 15,
   "id": "29820da0",
   "metadata": {},
   "outputs": [
    {
     "data": {
      "text/plain": [
       "(1000000,)"
      ]
     },
     "execution_count": 15,
     "metadata": {},
     "output_type": "execute_result"
    }
   ],
   "source": [
    "all_points_corr_array.shape"
   ]
  },
  {
   "cell_type": "code",
   "execution_count": 16,
   "id": "d2785a9d",
   "metadata": {},
   "outputs": [
    {
     "data": {
      "text/plain": [
       "(1000000,)"
      ]
     },
     "execution_count": 16,
     "metadata": {},
     "output_type": "execute_result"
    }
   ],
   "source": [
    "all_points_df0.shape"
   ]
  },
  {
   "cell_type": "code",
   "execution_count": null,
   "id": "5c2ac87b",
   "metadata": {},
   "outputs": [],
   "source": []
  },
  {
   "cell_type": "code",
   "execution_count": 17,
   "id": "60ec7e63",
   "metadata": {},
   "outputs": [
    {
     "data": {
      "text/plain": [
       "<function matplotlib.pyplot.show(close=None, block=None)>"
      ]
     },
     "execution_count": 17,
     "metadata": {},
     "output_type": "execute_result"
    },
    {
     "data": {
      "image/png": "[encoded data removed]",
      "text/plain": [
       "<Figure size 1296x360 with 3 Axes>"
      ]
     },
     "metadata": {
      "needs_background": "light"
     },
     "output_type": "display_data"
    }
   ],
   "source": [
    "fig,ax = plt.subplots( 1, 3, figsize=(18,5))\n",
    "ax[0].hist2d( all_points_df0, all_points_corr_array, bins=[80,80], range=([-4,4],[-1,1]))\n",
    "ax[1].hist2d( all_points_df1, all_points_corr_array, bins=[80,80], range=([-4,4],[-1,1]))\n",
    "ax[2].hist2d( all_points_dr, all_points_corr_array, bins=[80,80], range=([0,5],[-1,1]))\n",
    "\n",
    "#plt.savefig('plots/correlation-vs-distance-%s.png' % sample_name, bbox_inches='tight')\n",
    "#plt.savefig('plots/correlation-vs-distance-%s.pdf' % sample_name, bbox_inches='tight')\n",
    "\n",
    "plt.show"
   ]
  },
  {
   "cell_type": "code",
   "execution_count": null,
   "id": "f1bc181e",
   "metadata": {},
   "outputs": [],
   "source": []
  },
  {
   "cell_type": "code",
   "execution_count": 18,
   "id": "38f4d955",
   "metadata": {},
   "outputs": [
    {
     "data": {
      "text/plain": [
       "<function matplotlib.pyplot.show(close=None, block=None)>"
      ]
     },
     "execution_count": 18,
     "metadata": {},
     "output_type": "execute_result"
    },
    {
     "data": {
      "image/png": "[encoded data removed]",
      "text/plain": [
       "<Figure size 432x288 with 1 Axes>"
      ]
     },
     "metadata": {
      "needs_background": "light"
     },
     "output_type": "display_data"
    }
   ],
   "source": [
    "plt.hist2d( all_points_f0b, all_points_f1b, bins=[80,80] )\n",
    "plt.show"
   ]
  },
  {
   "cell_type": "code",
   "execution_count": 19,
   "id": "a803d4f0",
   "metadata": {},
   "outputs": [
    {
     "data": {
      "text/plain": [
       "<function matplotlib.pyplot.show(close=None, block=None)>"
      ]
     },
     "execution_count": 19,
     "metadata": {},
     "output_type": "execute_result"
    },
    {
     "data": {
      "image/png": "[encoded data removed]",
      "text/plain": [
       "<Figure size 432x288 with 1 Axes>"
      ]
     },
     "metadata": {
      "needs_background": "light"
     },
     "output_type": "display_data"
    }
   ],
   "source": [
    "plt.hist2d( all_points_f0b[all_points_corr_array>0.8], all_points_f1b[all_points_corr_array>0.8], bins=[80,80] )\n",
    "plt.show"
   ]
  },
  {
   "cell_type": "markdown",
   "id": "2810d336",
   "metadata": {},
   "source": [
    "## Save the output"
   ]
  },
  {
   "cell_type": "code",
   "execution_count": 20,
   "id": "e4be7434",
   "metadata": {},
   "outputs": [],
   "source": [
    "with open( '%s/correlations.npy' % input_dir, 'wb') as f :\n",
    "    np.save(f, all_points_df0)\n",
    "    np.save(f, all_points_df1)\n",
    "    np.save(f, all_points_dr)\n",
    "    np.save(f, all_points_corr_array)\n",
    "    "
   ]
  },
  {
   "cell_type": "code",
   "execution_count": 21,
   "id": "6ffe6e49",
   "metadata": {},
   "outputs": [],
   "source": [
    "with open( '%s/correlation-points-feature-coords.npy' % input_dir, 'wb') as f :\n",
    "    np.save(f, all_points_f0b)\n",
    "    np.save(f, all_points_f1b)"
   ]
  },
  {
   "cell_type": "code",
   "execution_count": null,
   "id": "d0b81bdc",
   "metadata": {},
   "outputs": [],
   "source": []
  },
  {
   "cell_type": "code",
   "execution_count": null,
   "id": "3126b147",
   "metadata": {},
   "outputs": [],
   "source": []
  },
  {
   "cell_type": "code",
   "execution_count": null,
   "id": "43312fd5",
   "metadata": {},
   "outputs": [],
   "source": []
  },
  {
   "cell_type": "code",
   "execution_count": null,
   "id": "edd29869",
   "metadata": {},
   "outputs": [],
   "source": []
  },
  {
   "cell_type": "code",
   "execution_count": null,
   "id": "49ddfda6",
   "metadata": {},
   "outputs": [],
   "source": []
  }
 ],
 "metadata": {
  "kernelspec": {
   "display_name": "Python 3 (ipykernel)",
   "language": "python",
   "name": "python3"
  },
  "language_info": {
   "codemirror_mode": {
    "name": "ipython",
    "version": 3
   },
   "file_extension": ".py",
   "mimetype": "text/x-python",
   "name": "python",
   "nbconvert_exporter": "python",
   "pygments_lexer": "ipython3",
   "version": "3.10.12"
  }
 },
 "nbformat": 4,
 "nbformat_minor": 5
}
