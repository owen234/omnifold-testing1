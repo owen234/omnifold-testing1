{
 "cells": [
  {
   "cell_type": "code",
   "execution_count": 1,
   "id": "c4827ba1",
   "metadata": {},
   "outputs": [],
   "source": [
    "import matplotlib.pyplot as plt\n",
    "import numpy as np"
   ]
  },
  {
   "cell_type": "code",
   "execution_count": 2,
   "id": "b2b52003",
   "metadata": {},
   "outputs": [],
   "source": [
    "import read_config_utils as cu\n",
    "\n",
    "import time\n",
    "\n",
    "import sys\n",
    "import os\n",
    "\n",
    "from os.path import exists"
   ]
  },
  {
   "cell_type": "code",
   "execution_count": 3,
   "id": "c2b45d22",
   "metadata": {},
   "outputs": [],
   "source": [
    "\n",
    "#input_dir = 'output-files-bootstrap-test6b-4d-2a'\n",
    "\n",
    "#input_dir = 'bootstrap-simple-pdf-toy-study6b-2d-v1b'\n",
    "\n",
    "#input_dir = 'output-files-bootstrap-test6b-2d-2a-100k'\n",
    "\n",
    "#input_dir = 'bootstrap-toy-study6b-2d-4c'\n",
    "#input_dir = 'bootstrap-simple-pdf-toy-study6b-2d-4c'\n",
    "\n",
    "\n",
    "#input_dir = 'freshtoys-toy-study6b-2d-4c'\n",
    "#input_dir = 'freshtoys-simple-pdf-toy-study6b-2d-4c'\n",
    "\n",
    "#input_dir = 'freshtoys-toy-study6b-2d-4c-save-model'\n",
    "#input_dir = 'freshtoys-toy-study6b-2d-4c-save-model/freshmc-01'\n",
    "#input_dir = 'freshtoys-toy-study6b-2d-4c-save-model/freshmc-02'\n",
    "\n",
    "\n",
    "#input_dir = 'bootstrap-toy-study6b-1d-1a'\n",
    "\n",
    "\n",
    "\n",
    "input_dir = 'fit-pdf-toy-study-2d-1a'\n",
    "\n",
    "\n",
    "\n",
    "\n",
    "ncalc = 1000\n",
    "npoints = 1000"
   ]
  },
  {
   "cell_type": "code",
   "execution_count": 4,
   "id": "d9cb4843",
   "metadata": {},
   "outputs": [],
   "source": [
    "with open('%s/train-and-true-samples.npy' % input_dir,'rb') as f :\n",
    "    train_pts = np.load(f)\n",
    "    train_det_pts = np.load(f)\n",
    "    true_pts = np.load(f)\n",
    "    true_det_pts = np.load(f)\n"
   ]
  },
  {
   "cell_type": "code",
   "execution_count": 5,
   "id": "8577ae8d",
   "metadata": {},
   "outputs": [
    {
     "data": {
      "text/plain": [
       "(100000, 2)"
      ]
     },
     "execution_count": 5,
     "metadata": {},
     "output_type": "execute_result"
    }
   ],
   "source": [
    "train_pts.shape"
   ]
  },
  {
   "cell_type": "code",
   "execution_count": 6,
   "id": "2659fb59",
   "metadata": {},
   "outputs": [],
   "source": [
    "config_file = '%s/config.txt' % (input_dir)\n",
    "\n",
    "if not exists(config_file) :\n",
    "    \n",
    "    print(\"\\n\\n\\n ******* Input file does not exist: %s\\n\\n\\n\" % config_file )\n",
    "    sys.exit()"
   ]
  },
  {
   "cell_type": "code",
   "execution_count": 7,
   "id": "620e338e",
   "metadata": {},
   "outputs": [
    {
     "name": "stdout",
     "output_type": "stream",
     "text": [
      "\n",
      "\n",
      " Number of feature dimensions: 2\n",
      "\n",
      "\n"
     ]
    }
   ],
   "source": [
    "ndim = int(cu.get_par( config_file, \"ndim\"))\n",
    "print(\"\\n\\n Number of feature dimensions: %d\\n\\n\" % ndim)"
   ]
  },
  {
   "cell_type": "markdown",
   "id": "41c69d97",
   "metadata": {},
   "source": [
    "## Check the particle and detector distributions"
   ]
  },
  {
   "cell_type": "code",
   "execution_count": 8,
   "id": "d89cdc77",
   "metadata": {},
   "outputs": [
    {
     "data": {
      "text/plain": [
       "<function matplotlib.pyplot.show(close=None, block=None)>"
      ]
     },
     "execution_count": 8,
     "metadata": {},
     "output_type": "execute_result"
    },
    {
     "data": {
      "image/png": "[encoded data removed]",
      "text/plain": [
       "<Figure size 720x360 with 2 Axes>"
      ]
     },
     "metadata": {
      "needs_background": "light"
     },
     "output_type": "display_data"
    }
   ],
   "source": [
    "fig,ax = plt.subplots( 1, ndim, figsize=(5*ndim,5))\n",
    "\n",
    "hbins=40\n",
    "x0min=-5\n",
    "x0max=5\n",
    "x1min=-6\n",
    "x1max=6\n",
    "\n",
    "for fi in range(ndim) :\n",
    "    \n",
    "    if ndim > 1 :\n",
    "        thisax = ax[fi]\n",
    "    else :\n",
    "        thisax = ax\n",
    "        \n",
    "    thisax.hist( train_pts[:,fi], bins=hbins, range=[x0min,x0max] )\n",
    "    thisax.hist( train_det_pts[:,fi], bins=hbins, range=[x0min,x0max], alpha=0.5 )\n",
    "    \n",
    "\n",
    "plt.show"
   ]
  },
  {
   "cell_type": "code",
   "execution_count": null,
   "id": "c72b896a",
   "metadata": {},
   "outputs": [],
   "source": []
  },
  {
   "cell_type": "code",
   "execution_count": 9,
   "id": "8b0f8f8b",
   "metadata": {},
   "outputs": [
    {
     "name": "stdout",
     "output_type": "stream",
     "text": [
      "\n",
      "\n",
      " Found 500 bootstrap samples.\n",
      "\n",
      "\n"
     ]
    }
   ],
   "source": [
    "n_samples = 0\n",
    "\n",
    "for fi in range(1000) :\n",
    "    \n",
    "    fname = '%s/bootstrap-weights-%03d.npy' % (input_dir, fi)\n",
    "    \n",
    "    if exists(fname) :\n",
    "        n_samples = n_samples + 1\n",
    "        \n",
    "print(\"\\n\\n Found %d bootstrap samples.\\n\\n\" % n_samples )"
   ]
  },
  {
   "cell_type": "code",
   "execution_count": null,
   "id": "14e87c2e",
   "metadata": {},
   "outputs": [],
   "source": []
  },
  {
   "cell_type": "markdown",
   "id": "b011ef24",
   "metadata": {},
   "source": [
    "## Load the weights for the first ncalc events from all of the bootstraps"
   ]
  },
  {
   "cell_type": "code",
   "execution_count": 10,
   "id": "69823be1",
   "metadata": {},
   "outputs": [],
   "source": [
    "bootstrap_weights = np.zeros( shape = (n_samples, ncalc) )"
   ]
  },
  {
   "cell_type": "code",
   "execution_count": 11,
   "id": "6d5db985",
   "metadata": {
    "scrolled": true
   },
   "outputs": [
    {
     "name": "stdout",
     "output_type": "stream",
     "text": [
      "loading fit-pdf-toy-study-2d-1a/bootstrap-weights-000.npy\n",
      "loading fit-pdf-toy-study-2d-1a/bootstrap-weights-001.npy\n",
      "loading fit-pdf-toy-study-2d-1a/bootstrap-weights-002.npy\n",
      "loading fit-pdf-toy-study-2d-1a/bootstrap-weights-003.npy\n",
      "loading fit-pdf-toy-study-2d-1a/bootstrap-weights-004.npy\n",
      "loading fit-pdf-toy-study-2d-1a/bootstrap-weights-005.npy\n",
      "loading fit-pdf-toy-study-2d-1a/bootstrap-weights-006.npy\n",
      "loading fit-pdf-toy-study-2d-1a/bootstrap-weights-007.npy\n",
      "loading fit-pdf-toy-study-2d-1a/bootstrap-weights-008.npy\n",
      "loading fit-pdf-toy-study-2d-1a/bootstrap-weights-009.npy\n",
      "loading fit-pdf-toy-study-2d-1a/bootstrap-weights-010.npy\n",
      "loading fit-pdf-toy-study-2d-1a/bootstrap-weights-011.npy\n",
      "loading fit-pdf-toy-study-2d-1a/bootstrap-weights-012.npy\n",
      "loading fit-pdf-toy-study-2d-1a/bootstrap-weights-013.npy\n",
      "loading fit-pdf-toy-study-2d-1a/bootstrap-weights-014.npy\n",
      "loading fit-pdf-toy-study-2d-1a/bootstrap-weights-015.npy\n",
      "loading fit-pdf-toy-study-2d-1a/bootstrap-weights-016.npy\n",
      "loading fit-pdf-toy-study-2d-1a/bootstrap-weights-017.npy\n",
      "loading fit-pdf-toy-study-2d-1a/bootstrap-weights-018.npy\n",
      "loading fit-pdf-toy-study-2d-1a/bootstrap-weights-019.npy\n",
      "loading fit-pdf-toy-study-2d-1a/bootstrap-weights-020.npy\n",
      "loading fit-pdf-toy-study-2d-1a/bootstrap-weights-021.npy\n",
      "loading fit-pdf-toy-study-2d-1a/bootstrap-weights-022.npy\n",
      "loading fit-pdf-toy-study-2d-1a/bootstrap-weights-023.npy\n",
      "loading fit-pdf-toy-study-2d-1a/bootstrap-weights-024.npy\n",
      "loading fit-pdf-toy-study-2d-1a/bootstrap-weights-025.npy\n",
      "loading fit-pdf-toy-study-2d-1a/bootstrap-weights-026.npy\n",
      "loading fit-pdf-toy-study-2d-1a/bootstrap-weights-027.npy\n",
      "loading fit-pdf-toy-study-2d-1a/bootstrap-weights-028.npy\n",
      "loading fit-pdf-toy-study-2d-1a/bootstrap-weights-029.npy\n",
      "loading fit-pdf-toy-study-2d-1a/bootstrap-weights-030.npy\n",
      "loading fit-pdf-toy-study-2d-1a/bootstrap-weights-031.npy\n",
      "loading fit-pdf-toy-study-2d-1a/bootstrap-weights-032.npy\n",
      "loading fit-pdf-toy-study-2d-1a/bootstrap-weights-033.npy\n",
      "loading fit-pdf-toy-study-2d-1a/bootstrap-weights-034.npy\n",
      "loading fit-pdf-toy-study-2d-1a/bootstrap-weights-035.npy\n",
      "loading fit-pdf-toy-study-2d-1a/bootstrap-weights-036.npy\n",
      "loading fit-pdf-toy-study-2d-1a/bootstrap-weights-037.npy\n",
      "loading fit-pdf-toy-study-2d-1a/bootstrap-weights-038.npy\n",
      "loading fit-pdf-toy-study-2d-1a/bootstrap-weights-039.npy\n",
      "loading fit-pdf-toy-study-2d-1a/bootstrap-weights-040.npy\n",
      "loading fit-pdf-toy-study-2d-1a/bootstrap-weights-041.npy\n",
      "loading fit-pdf-toy-study-2d-1a/bootstrap-weights-042.npy\n",
      "loading fit-pdf-toy-study-2d-1a/bootstrap-weights-043.npy\n",
      "loading fit-pdf-toy-study-2d-1a/bootstrap-weights-044.npy\n",
      "loading fit-pdf-toy-study-2d-1a/bootstrap-weights-045.npy\n",
      "loading fit-pdf-toy-study-2d-1a/bootstrap-weights-046.npy\n",
      "loading fit-pdf-toy-study-2d-1a/bootstrap-weights-047.npy\n",
      "loading fit-pdf-toy-study-2d-1a/bootstrap-weights-048.npy\n",
      "loading fit-pdf-toy-study-2d-1a/bootstrap-weights-049.npy\n",
      "loading fit-pdf-toy-study-2d-1a/bootstrap-weights-050.npy\n",
      "loading fit-pdf-toy-study-2d-1a/bootstrap-weights-051.npy\n",
      "loading fit-pdf-toy-study-2d-1a/bootstrap-weights-052.npy\n",
      "loading fit-pdf-toy-study-2d-1a/bootstrap-weights-053.npy\n",
      "loading fit-pdf-toy-study-2d-1a/bootstrap-weights-054.npy\n",
      "loading fit-pdf-toy-study-2d-1a/bootstrap-weights-055.npy\n",
      "loading fit-pdf-toy-study-2d-1a/bootstrap-weights-056.npy\n",
      "loading fit-pdf-toy-study-2d-1a/bootstrap-weights-057.npy\n",
      "loading fit-pdf-toy-study-2d-1a/bootstrap-weights-058.npy\n",
      "loading fit-pdf-toy-study-2d-1a/bootstrap-weights-059.npy\n",
      "loading fit-pdf-toy-study-2d-1a/bootstrap-weights-060.npy\n",
      "loading fit-pdf-toy-study-2d-1a/bootstrap-weights-061.npy\n",
      "loading fit-pdf-toy-study-2d-1a/bootstrap-weights-062.npy\n",
      "loading fit-pdf-toy-study-2d-1a/bootstrap-weights-063.npy\n",
      "loading fit-pdf-toy-study-2d-1a/bootstrap-weights-064.npy\n",
      "loading fit-pdf-toy-study-2d-1a/bootstrap-weights-065.npy\n",
      "loading fit-pdf-toy-study-2d-1a/bootstrap-weights-066.npy\n",
      "loading fit-pdf-toy-study-2d-1a/bootstrap-weights-067.npy\n",
      "loading fit-pdf-toy-study-2d-1a/bootstrap-weights-068.npy\n",
      "loading fit-pdf-toy-study-2d-1a/bootstrap-weights-069.npy\n",
      "loading fit-pdf-toy-study-2d-1a/bootstrap-weights-070.npy\n",
      "loading fit-pdf-toy-study-2d-1a/bootstrap-weights-071.npy\n",
      "loading fit-pdf-toy-study-2d-1a/bootstrap-weights-072.npy\n",
      "loading fit-pdf-toy-study-2d-1a/bootstrap-weights-073.npy\n",
      "loading fit-pdf-toy-study-2d-1a/bootstrap-weights-074.npy\n",
      "loading fit-pdf-toy-study-2d-1a/bootstrap-weights-075.npy\n",
      "loading fit-pdf-toy-study-2d-1a/bootstrap-weights-076.npy\n",
      "loading fit-pdf-toy-study-2d-1a/bootstrap-weights-077.npy\n",
      "loading fit-pdf-toy-study-2d-1a/bootstrap-weights-078.npy\n",
      "loading fit-pdf-toy-study-2d-1a/bootstrap-weights-079.npy\n",
      "loading fit-pdf-toy-study-2d-1a/bootstrap-weights-080.npy\n",
      "loading fit-pdf-toy-study-2d-1a/bootstrap-weights-081.npy\n",
      "loading fit-pdf-toy-study-2d-1a/bootstrap-weights-082.npy\n",
      "loading fit-pdf-toy-study-2d-1a/bootstrap-weights-083.npy\n",
      "loading fit-pdf-toy-study-2d-1a/bootstrap-weights-084.npy\n",
      "loading fit-pdf-toy-study-2d-1a/bootstrap-weights-085.npy\n",
      "loading fit-pdf-toy-study-2d-1a/bootstrap-weights-086.npy\n",
      "loading fit-pdf-toy-study-2d-1a/bootstrap-weights-087.npy\n",
      "loading fit-pdf-toy-study-2d-1a/bootstrap-weights-088.npy\n",
      "loading fit-pdf-toy-study-2d-1a/bootstrap-weights-089.npy\n",
      "loading fit-pdf-toy-study-2d-1a/bootstrap-weights-090.npy\n",
      "loading fit-pdf-toy-study-2d-1a/bootstrap-weights-091.npy\n",
      "loading fit-pdf-toy-study-2d-1a/bootstrap-weights-092.npy\n",
      "loading fit-pdf-toy-study-2d-1a/bootstrap-weights-093.npy\n",
      "loading fit-pdf-toy-study-2d-1a/bootstrap-weights-094.npy\n",
      "loading fit-pdf-toy-study-2d-1a/bootstrap-weights-095.npy\n",
      "loading fit-pdf-toy-study-2d-1a/bootstrap-weights-096.npy\n",
      "loading fit-pdf-toy-study-2d-1a/bootstrap-weights-097.npy\n",
      "loading fit-pdf-toy-study-2d-1a/bootstrap-weights-098.npy\n",
      "loading fit-pdf-toy-study-2d-1a/bootstrap-weights-099.npy\n",
      "loading fit-pdf-toy-study-2d-1a/bootstrap-weights-100.npy\n",
      "loading fit-pdf-toy-study-2d-1a/bootstrap-weights-101.npy\n",
      "loading fit-pdf-toy-study-2d-1a/bootstrap-weights-102.npy\n",
      "loading fit-pdf-toy-study-2d-1a/bootstrap-weights-103.npy\n",
      "loading fit-pdf-toy-study-2d-1a/bootstrap-weights-104.npy\n",
      "loading fit-pdf-toy-study-2d-1a/bootstrap-weights-105.npy\n",
      "loading fit-pdf-toy-study-2d-1a/bootstrap-weights-106.npy\n",
      "loading fit-pdf-toy-study-2d-1a/bootstrap-weights-107.npy\n",
      "loading fit-pdf-toy-study-2d-1a/bootstrap-weights-108.npy\n",
      "loading fit-pdf-toy-study-2d-1a/bootstrap-weights-109.npy\n",
      "loading fit-pdf-toy-study-2d-1a/bootstrap-weights-110.npy\n",
      "loading fit-pdf-toy-study-2d-1a/bootstrap-weights-111.npy\n",
      "loading fit-pdf-toy-study-2d-1a/bootstrap-weights-112.npy\n",
      "loading fit-pdf-toy-study-2d-1a/bootstrap-weights-113.npy\n",
      "loading fit-pdf-toy-study-2d-1a/bootstrap-weights-114.npy\n",
      "loading fit-pdf-toy-study-2d-1a/bootstrap-weights-115.npy\n",
      "loading fit-pdf-toy-study-2d-1a/bootstrap-weights-116.npy\n",
      "loading fit-pdf-toy-study-2d-1a/bootstrap-weights-117.npy\n",
      "loading fit-pdf-toy-study-2d-1a/bootstrap-weights-118.npy\n",
      "loading fit-pdf-toy-study-2d-1a/bootstrap-weights-119.npy\n",
      "loading fit-pdf-toy-study-2d-1a/bootstrap-weights-120.npy\n",
      "loading fit-pdf-toy-study-2d-1a/bootstrap-weights-121.npy\n",
      "loading fit-pdf-toy-study-2d-1a/bootstrap-weights-122.npy\n",
      "loading fit-pdf-toy-study-2d-1a/bootstrap-weights-123.npy\n",
      "loading fit-pdf-toy-study-2d-1a/bootstrap-weights-124.npy\n",
      "loading fit-pdf-toy-study-2d-1a/bootstrap-weights-125.npy\n",
      "loading fit-pdf-toy-study-2d-1a/bootstrap-weights-126.npy\n",
      "loading fit-pdf-toy-study-2d-1a/bootstrap-weights-127.npy\n",
      "loading fit-pdf-toy-study-2d-1a/bootstrap-weights-128.npy\n",
      "loading fit-pdf-toy-study-2d-1a/bootstrap-weights-129.npy\n",
      "loading fit-pdf-toy-study-2d-1a/bootstrap-weights-130.npy\n",
      "loading fit-pdf-toy-study-2d-1a/bootstrap-weights-131.npy\n",
      "loading fit-pdf-toy-study-2d-1a/bootstrap-weights-132.npy\n",
      "loading fit-pdf-toy-study-2d-1a/bootstrap-weights-133.npy\n",
      "loading fit-pdf-toy-study-2d-1a/bootstrap-weights-134.npy\n",
      "loading fit-pdf-toy-study-2d-1a/bootstrap-weights-135.npy\n",
      "loading fit-pdf-toy-study-2d-1a/bootstrap-weights-136.npy\n",
      "loading fit-pdf-toy-study-2d-1a/bootstrap-weights-137.npy\n",
      "loading fit-pdf-toy-study-2d-1a/bootstrap-weights-138.npy\n",
      "loading fit-pdf-toy-study-2d-1a/bootstrap-weights-139.npy\n",
      "loading fit-pdf-toy-study-2d-1a/bootstrap-weights-140.npy\n",
      "loading fit-pdf-toy-study-2d-1a/bootstrap-weights-141.npy\n",
      "loading fit-pdf-toy-study-2d-1a/bootstrap-weights-142.npy\n",
      "loading fit-pdf-toy-study-2d-1a/bootstrap-weights-143.npy\n",
      "loading fit-pdf-toy-study-2d-1a/bootstrap-weights-144.npy\n",
      "loading fit-pdf-toy-study-2d-1a/bootstrap-weights-145.npy\n",
      "loading fit-pdf-toy-study-2d-1a/bootstrap-weights-146.npy\n",
      "loading fit-pdf-toy-study-2d-1a/bootstrap-weights-147.npy\n",
      "loading fit-pdf-toy-study-2d-1a/bootstrap-weights-148.npy\n",
      "loading fit-pdf-toy-study-2d-1a/bootstrap-weights-149.npy\n",
      "loading fit-pdf-toy-study-2d-1a/bootstrap-weights-150.npy\n",
      "loading fit-pdf-toy-study-2d-1a/bootstrap-weights-151.npy\n",
      "loading fit-pdf-toy-study-2d-1a/bootstrap-weights-152.npy\n",
      "loading fit-pdf-toy-study-2d-1a/bootstrap-weights-153.npy\n",
      "loading fit-pdf-toy-study-2d-1a/bootstrap-weights-154.npy\n",
      "loading fit-pdf-toy-study-2d-1a/bootstrap-weights-155.npy\n",
      "loading fit-pdf-toy-study-2d-1a/bootstrap-weights-156.npy\n",
      "loading fit-pdf-toy-study-2d-1a/bootstrap-weights-157.npy\n",
      "loading fit-pdf-toy-study-2d-1a/bootstrap-weights-158.npy\n",
      "loading fit-pdf-toy-study-2d-1a/bootstrap-weights-159.npy\n",
      "loading fit-pdf-toy-study-2d-1a/bootstrap-weights-160.npy\n",
      "loading fit-pdf-toy-study-2d-1a/bootstrap-weights-161.npy\n",
      "loading fit-pdf-toy-study-2d-1a/bootstrap-weights-162.npy\n",
      "loading fit-pdf-toy-study-2d-1a/bootstrap-weights-163.npy\n",
      "loading fit-pdf-toy-study-2d-1a/bootstrap-weights-164.npy\n",
      "loading fit-pdf-toy-study-2d-1a/bootstrap-weights-165.npy\n",
      "loading fit-pdf-toy-study-2d-1a/bootstrap-weights-166.npy\n",
      "loading fit-pdf-toy-study-2d-1a/bootstrap-weights-167.npy\n",
      "loading fit-pdf-toy-study-2d-1a/bootstrap-weights-168.npy\n",
      "loading fit-pdf-toy-study-2d-1a/bootstrap-weights-169.npy\n",
      "loading fit-pdf-toy-study-2d-1a/bootstrap-weights-170.npy\n",
      "loading fit-pdf-toy-study-2d-1a/bootstrap-weights-171.npy\n",
      "loading fit-pdf-toy-study-2d-1a/bootstrap-weights-172.npy\n",
      "loading fit-pdf-toy-study-2d-1a/bootstrap-weights-173.npy\n",
      "loading fit-pdf-toy-study-2d-1a/bootstrap-weights-174.npy\n",
      "loading fit-pdf-toy-study-2d-1a/bootstrap-weights-175.npy\n",
      "loading fit-pdf-toy-study-2d-1a/bootstrap-weights-176.npy\n",
      "loading fit-pdf-toy-study-2d-1a/bootstrap-weights-177.npy\n",
      "loading fit-pdf-toy-study-2d-1a/bootstrap-weights-178.npy\n",
      "loading fit-pdf-toy-study-2d-1a/bootstrap-weights-179.npy\n",
      "loading fit-pdf-toy-study-2d-1a/bootstrap-weights-180.npy\n",
      "loading fit-pdf-toy-study-2d-1a/bootstrap-weights-181.npy\n",
      "loading fit-pdf-toy-study-2d-1a/bootstrap-weights-182.npy\n",
      "loading fit-pdf-toy-study-2d-1a/bootstrap-weights-183.npy\n",
      "loading fit-pdf-toy-study-2d-1a/bootstrap-weights-184.npy\n",
      "loading fit-pdf-toy-study-2d-1a/bootstrap-weights-185.npy\n",
      "loading fit-pdf-toy-study-2d-1a/bootstrap-weights-186.npy\n",
      "loading fit-pdf-toy-study-2d-1a/bootstrap-weights-187.npy\n",
      "loading fit-pdf-toy-study-2d-1a/bootstrap-weights-188.npy\n",
      "loading fit-pdf-toy-study-2d-1a/bootstrap-weights-189.npy\n",
      "loading fit-pdf-toy-study-2d-1a/bootstrap-weights-190.npy\n",
      "loading fit-pdf-toy-study-2d-1a/bootstrap-weights-191.npy\n",
      "loading fit-pdf-toy-study-2d-1a/bootstrap-weights-192.npy\n",
      "loading fit-pdf-toy-study-2d-1a/bootstrap-weights-193.npy\n",
      "loading fit-pdf-toy-study-2d-1a/bootstrap-weights-194.npy\n",
      "loading fit-pdf-toy-study-2d-1a/bootstrap-weights-195.npy\n",
      "loading fit-pdf-toy-study-2d-1a/bootstrap-weights-196.npy\n",
      "loading fit-pdf-toy-study-2d-1a/bootstrap-weights-197.npy\n",
      "loading fit-pdf-toy-study-2d-1a/bootstrap-weights-198.npy\n",
      "loading fit-pdf-toy-study-2d-1a/bootstrap-weights-199.npy\n",
      "loading fit-pdf-toy-study-2d-1a/bootstrap-weights-200.npy\n",
      "loading fit-pdf-toy-study-2d-1a/bootstrap-weights-201.npy\n",
      "loading fit-pdf-toy-study-2d-1a/bootstrap-weights-202.npy\n",
      "loading fit-pdf-toy-study-2d-1a/bootstrap-weights-203.npy\n",
      "loading fit-pdf-toy-study-2d-1a/bootstrap-weights-204.npy\n",
      "loading fit-pdf-toy-study-2d-1a/bootstrap-weights-205.npy\n",
      "loading fit-pdf-toy-study-2d-1a/bootstrap-weights-206.npy\n",
      "loading fit-pdf-toy-study-2d-1a/bootstrap-weights-207.npy\n",
      "loading fit-pdf-toy-study-2d-1a/bootstrap-weights-208.npy\n",
      "loading fit-pdf-toy-study-2d-1a/bootstrap-weights-209.npy\n",
      "loading fit-pdf-toy-study-2d-1a/bootstrap-weights-210.npy\n",
      "loading fit-pdf-toy-study-2d-1a/bootstrap-weights-211.npy\n",
      "loading fit-pdf-toy-study-2d-1a/bootstrap-weights-212.npy\n",
      "loading fit-pdf-toy-study-2d-1a/bootstrap-weights-213.npy\n",
      "loading fit-pdf-toy-study-2d-1a/bootstrap-weights-214.npy\n",
      "loading fit-pdf-toy-study-2d-1a/bootstrap-weights-215.npy\n",
      "loading fit-pdf-toy-study-2d-1a/bootstrap-weights-216.npy\n",
      "loading fit-pdf-toy-study-2d-1a/bootstrap-weights-217.npy\n",
      "loading fit-pdf-toy-study-2d-1a/bootstrap-weights-218.npy\n",
      "loading fit-pdf-toy-study-2d-1a/bootstrap-weights-219.npy\n",
      "loading fit-pdf-toy-study-2d-1a/bootstrap-weights-220.npy\n",
      "loading fit-pdf-toy-study-2d-1a/bootstrap-weights-221.npy\n",
      "loading fit-pdf-toy-study-2d-1a/bootstrap-weights-222.npy\n",
      "loading fit-pdf-toy-study-2d-1a/bootstrap-weights-223.npy\n",
      "loading fit-pdf-toy-study-2d-1a/bootstrap-weights-224.npy\n",
      "loading fit-pdf-toy-study-2d-1a/bootstrap-weights-225.npy\n",
      "loading fit-pdf-toy-study-2d-1a/bootstrap-weights-226.npy\n",
      "loading fit-pdf-toy-study-2d-1a/bootstrap-weights-227.npy\n",
      "loading fit-pdf-toy-study-2d-1a/bootstrap-weights-228.npy\n",
      "loading fit-pdf-toy-study-2d-1a/bootstrap-weights-229.npy\n",
      "loading fit-pdf-toy-study-2d-1a/bootstrap-weights-230.npy\n",
      "loading fit-pdf-toy-study-2d-1a/bootstrap-weights-231.npy\n",
      "loading fit-pdf-toy-study-2d-1a/bootstrap-weights-232.npy\n",
      "loading fit-pdf-toy-study-2d-1a/bootstrap-weights-233.npy\n",
      "loading fit-pdf-toy-study-2d-1a/bootstrap-weights-234.npy\n",
      "loading fit-pdf-toy-study-2d-1a/bootstrap-weights-235.npy\n",
      "loading fit-pdf-toy-study-2d-1a/bootstrap-weights-236.npy\n",
      "loading fit-pdf-toy-study-2d-1a/bootstrap-weights-237.npy\n",
      "loading fit-pdf-toy-study-2d-1a/bootstrap-weights-238.npy\n",
      "loading fit-pdf-toy-study-2d-1a/bootstrap-weights-239.npy\n",
      "loading fit-pdf-toy-study-2d-1a/bootstrap-weights-240.npy\n",
      "loading fit-pdf-toy-study-2d-1a/bootstrap-weights-241.npy\n",
      "loading fit-pdf-toy-study-2d-1a/bootstrap-weights-242.npy\n",
      "loading fit-pdf-toy-study-2d-1a/bootstrap-weights-243.npy\n",
      "loading fit-pdf-toy-study-2d-1a/bootstrap-weights-244.npy\n",
      "loading fit-pdf-toy-study-2d-1a/bootstrap-weights-245.npy\n",
      "loading fit-pdf-toy-study-2d-1a/bootstrap-weights-246.npy\n",
      "loading fit-pdf-toy-study-2d-1a/bootstrap-weights-247.npy\n",
      "loading fit-pdf-toy-study-2d-1a/bootstrap-weights-248.npy\n",
      "loading fit-pdf-toy-study-2d-1a/bootstrap-weights-249.npy\n",
      "loading fit-pdf-toy-study-2d-1a/bootstrap-weights-250.npy\n",
      "loading fit-pdf-toy-study-2d-1a/bootstrap-weights-251.npy\n",
      "loading fit-pdf-toy-study-2d-1a/bootstrap-weights-252.npy\n",
      "loading fit-pdf-toy-study-2d-1a/bootstrap-weights-253.npy\n",
      "loading fit-pdf-toy-study-2d-1a/bootstrap-weights-254.npy\n",
      "loading fit-pdf-toy-study-2d-1a/bootstrap-weights-255.npy\n",
      "loading fit-pdf-toy-study-2d-1a/bootstrap-weights-256.npy\n",
      "loading fit-pdf-toy-study-2d-1a/bootstrap-weights-257.npy\n",
      "loading fit-pdf-toy-study-2d-1a/bootstrap-weights-258.npy\n",
      "loading fit-pdf-toy-study-2d-1a/bootstrap-weights-259.npy\n",
      "loading fit-pdf-toy-study-2d-1a/bootstrap-weights-260.npy\n",
      "loading fit-pdf-toy-study-2d-1a/bootstrap-weights-261.npy\n",
      "loading fit-pdf-toy-study-2d-1a/bootstrap-weights-262.npy\n",
      "loading fit-pdf-toy-study-2d-1a/bootstrap-weights-263.npy\n",
      "loading fit-pdf-toy-study-2d-1a/bootstrap-weights-264.npy\n",
      "loading fit-pdf-toy-study-2d-1a/bootstrap-weights-265.npy\n",
      "loading fit-pdf-toy-study-2d-1a/bootstrap-weights-266.npy\n",
      "loading fit-pdf-toy-study-2d-1a/bootstrap-weights-267.npy\n",
      "loading fit-pdf-toy-study-2d-1a/bootstrap-weights-268.npy\n",
      "loading fit-pdf-toy-study-2d-1a/bootstrap-weights-269.npy\n",
      "loading fit-pdf-toy-study-2d-1a/bootstrap-weights-270.npy\n",
      "loading fit-pdf-toy-study-2d-1a/bootstrap-weights-271.npy\n",
      "loading fit-pdf-toy-study-2d-1a/bootstrap-weights-272.npy\n",
      "loading fit-pdf-toy-study-2d-1a/bootstrap-weights-273.npy\n",
      "loading fit-pdf-toy-study-2d-1a/bootstrap-weights-274.npy\n",
      "loading fit-pdf-toy-study-2d-1a/bootstrap-weights-275.npy\n",
      "loading fit-pdf-toy-study-2d-1a/bootstrap-weights-276.npy\n",
      "loading fit-pdf-toy-study-2d-1a/bootstrap-weights-277.npy\n",
      "loading fit-pdf-toy-study-2d-1a/bootstrap-weights-278.npy\n",
      "loading fit-pdf-toy-study-2d-1a/bootstrap-weights-279.npy\n",
      "loading fit-pdf-toy-study-2d-1a/bootstrap-weights-280.npy\n",
      "loading fit-pdf-toy-study-2d-1a/bootstrap-weights-281.npy\n",
      "loading fit-pdf-toy-study-2d-1a/bootstrap-weights-282.npy\n",
      "loading fit-pdf-toy-study-2d-1a/bootstrap-weights-283.npy\n",
      "loading fit-pdf-toy-study-2d-1a/bootstrap-weights-284.npy\n",
      "loading fit-pdf-toy-study-2d-1a/bootstrap-weights-285.npy\n",
      "loading fit-pdf-toy-study-2d-1a/bootstrap-weights-286.npy\n",
      "loading fit-pdf-toy-study-2d-1a/bootstrap-weights-287.npy\n",
      "loading fit-pdf-toy-study-2d-1a/bootstrap-weights-288.npy\n",
      "loading fit-pdf-toy-study-2d-1a/bootstrap-weights-289.npy\n",
      "loading fit-pdf-toy-study-2d-1a/bootstrap-weights-290.npy\n",
      "loading fit-pdf-toy-study-2d-1a/bootstrap-weights-291.npy\n",
      "loading fit-pdf-toy-study-2d-1a/bootstrap-weights-292.npy\n",
      "loading fit-pdf-toy-study-2d-1a/bootstrap-weights-293.npy\n",
      "loading fit-pdf-toy-study-2d-1a/bootstrap-weights-294.npy\n",
      "loading fit-pdf-toy-study-2d-1a/bootstrap-weights-295.npy\n",
      "loading fit-pdf-toy-study-2d-1a/bootstrap-weights-296.npy\n",
      "loading fit-pdf-toy-study-2d-1a/bootstrap-weights-297.npy\n",
      "loading fit-pdf-toy-study-2d-1a/bootstrap-weights-298.npy\n",
      "loading fit-pdf-toy-study-2d-1a/bootstrap-weights-299.npy\n",
      "loading fit-pdf-toy-study-2d-1a/bootstrap-weights-300.npy\n",
      "loading fit-pdf-toy-study-2d-1a/bootstrap-weights-301.npy\n",
      "loading fit-pdf-toy-study-2d-1a/bootstrap-weights-302.npy\n",
      "loading fit-pdf-toy-study-2d-1a/bootstrap-weights-303.npy\n",
      "loading fit-pdf-toy-study-2d-1a/bootstrap-weights-304.npy\n",
      "loading fit-pdf-toy-study-2d-1a/bootstrap-weights-305.npy\n",
      "loading fit-pdf-toy-study-2d-1a/bootstrap-weights-306.npy\n",
      "loading fit-pdf-toy-study-2d-1a/bootstrap-weights-307.npy\n",
      "loading fit-pdf-toy-study-2d-1a/bootstrap-weights-308.npy\n",
      "loading fit-pdf-toy-study-2d-1a/bootstrap-weights-309.npy\n",
      "loading fit-pdf-toy-study-2d-1a/bootstrap-weights-310.npy\n",
      "loading fit-pdf-toy-study-2d-1a/bootstrap-weights-311.npy\n",
      "loading fit-pdf-toy-study-2d-1a/bootstrap-weights-312.npy\n",
      "loading fit-pdf-toy-study-2d-1a/bootstrap-weights-313.npy\n",
      "loading fit-pdf-toy-study-2d-1a/bootstrap-weights-314.npy\n",
      "loading fit-pdf-toy-study-2d-1a/bootstrap-weights-315.npy\n",
      "loading fit-pdf-toy-study-2d-1a/bootstrap-weights-316.npy\n",
      "loading fit-pdf-toy-study-2d-1a/bootstrap-weights-317.npy\n",
      "loading fit-pdf-toy-study-2d-1a/bootstrap-weights-318.npy\n",
      "loading fit-pdf-toy-study-2d-1a/bootstrap-weights-319.npy\n",
      "loading fit-pdf-toy-study-2d-1a/bootstrap-weights-320.npy\n",
      "loading fit-pdf-toy-study-2d-1a/bootstrap-weights-321.npy\n",
      "loading fit-pdf-toy-study-2d-1a/bootstrap-weights-322.npy\n",
      "loading fit-pdf-toy-study-2d-1a/bootstrap-weights-323.npy\n",
      "loading fit-pdf-toy-study-2d-1a/bootstrap-weights-324.npy\n",
      "loading fit-pdf-toy-study-2d-1a/bootstrap-weights-325.npy\n",
      "loading fit-pdf-toy-study-2d-1a/bootstrap-weights-326.npy\n",
      "loading fit-pdf-toy-study-2d-1a/bootstrap-weights-327.npy\n",
      "loading fit-pdf-toy-study-2d-1a/bootstrap-weights-328.npy\n",
      "loading fit-pdf-toy-study-2d-1a/bootstrap-weights-329.npy\n",
      "loading fit-pdf-toy-study-2d-1a/bootstrap-weights-330.npy\n",
      "loading fit-pdf-toy-study-2d-1a/bootstrap-weights-331.npy\n",
      "loading fit-pdf-toy-study-2d-1a/bootstrap-weights-332.npy\n",
      "loading fit-pdf-toy-study-2d-1a/bootstrap-weights-333.npy\n",
      "loading fit-pdf-toy-study-2d-1a/bootstrap-weights-334.npy\n",
      "loading fit-pdf-toy-study-2d-1a/bootstrap-weights-335.npy\n",
      "loading fit-pdf-toy-study-2d-1a/bootstrap-weights-336.npy\n",
      "loading fit-pdf-toy-study-2d-1a/bootstrap-weights-337.npy\n",
      "loading fit-pdf-toy-study-2d-1a/bootstrap-weights-338.npy\n",
      "loading fit-pdf-toy-study-2d-1a/bootstrap-weights-339.npy\n",
      "loading fit-pdf-toy-study-2d-1a/bootstrap-weights-340.npy\n",
      "loading fit-pdf-toy-study-2d-1a/bootstrap-weights-341.npy\n",
      "loading fit-pdf-toy-study-2d-1a/bootstrap-weights-342.npy\n",
      "loading fit-pdf-toy-study-2d-1a/bootstrap-weights-343.npy\n",
      "loading fit-pdf-toy-study-2d-1a/bootstrap-weights-344.npy\n",
      "loading fit-pdf-toy-study-2d-1a/bootstrap-weights-345.npy\n",
      "loading fit-pdf-toy-study-2d-1a/bootstrap-weights-346.npy\n",
      "loading fit-pdf-toy-study-2d-1a/bootstrap-weights-347.npy\n",
      "loading fit-pdf-toy-study-2d-1a/bootstrap-weights-348.npy\n",
      "loading fit-pdf-toy-study-2d-1a/bootstrap-weights-349.npy\n",
      "loading fit-pdf-toy-study-2d-1a/bootstrap-weights-350.npy\n",
      "loading fit-pdf-toy-study-2d-1a/bootstrap-weights-351.npy\n",
      "loading fit-pdf-toy-study-2d-1a/bootstrap-weights-352.npy\n",
      "loading fit-pdf-toy-study-2d-1a/bootstrap-weights-353.npy\n",
      "loading fit-pdf-toy-study-2d-1a/bootstrap-weights-354.npy\n",
      "loading fit-pdf-toy-study-2d-1a/bootstrap-weights-355.npy\n",
      "loading fit-pdf-toy-study-2d-1a/bootstrap-weights-356.npy\n",
      "loading fit-pdf-toy-study-2d-1a/bootstrap-weights-357.npy\n",
      "loading fit-pdf-toy-study-2d-1a/bootstrap-weights-358.npy\n",
      "loading fit-pdf-toy-study-2d-1a/bootstrap-weights-359.npy\n",
      "loading fit-pdf-toy-study-2d-1a/bootstrap-weights-360.npy\n",
      "loading fit-pdf-toy-study-2d-1a/bootstrap-weights-361.npy\n",
      "loading fit-pdf-toy-study-2d-1a/bootstrap-weights-362.npy\n",
      "loading fit-pdf-toy-study-2d-1a/bootstrap-weights-363.npy\n",
      "loading fit-pdf-toy-study-2d-1a/bootstrap-weights-364.npy\n",
      "loading fit-pdf-toy-study-2d-1a/bootstrap-weights-365.npy\n",
      "loading fit-pdf-toy-study-2d-1a/bootstrap-weights-366.npy\n",
      "loading fit-pdf-toy-study-2d-1a/bootstrap-weights-367.npy\n",
      "loading fit-pdf-toy-study-2d-1a/bootstrap-weights-368.npy\n",
      "loading fit-pdf-toy-study-2d-1a/bootstrap-weights-369.npy\n",
      "loading fit-pdf-toy-study-2d-1a/bootstrap-weights-370.npy\n",
      "loading fit-pdf-toy-study-2d-1a/bootstrap-weights-371.npy\n",
      "loading fit-pdf-toy-study-2d-1a/bootstrap-weights-372.npy\n",
      "loading fit-pdf-toy-study-2d-1a/bootstrap-weights-373.npy\n",
      "loading fit-pdf-toy-study-2d-1a/bootstrap-weights-374.npy\n",
      "loading fit-pdf-toy-study-2d-1a/bootstrap-weights-375.npy\n",
      "loading fit-pdf-toy-study-2d-1a/bootstrap-weights-376.npy\n",
      "loading fit-pdf-toy-study-2d-1a/bootstrap-weights-377.npy\n",
      "loading fit-pdf-toy-study-2d-1a/bootstrap-weights-378.npy\n",
      "loading fit-pdf-toy-study-2d-1a/bootstrap-weights-379.npy\n",
      "loading fit-pdf-toy-study-2d-1a/bootstrap-weights-380.npy\n",
      "loading fit-pdf-toy-study-2d-1a/bootstrap-weights-381.npy\n",
      "loading fit-pdf-toy-study-2d-1a/bootstrap-weights-382.npy\n",
      "loading fit-pdf-toy-study-2d-1a/bootstrap-weights-383.npy\n",
      "loading fit-pdf-toy-study-2d-1a/bootstrap-weights-384.npy\n",
      "loading fit-pdf-toy-study-2d-1a/bootstrap-weights-385.npy\n",
      "loading fit-pdf-toy-study-2d-1a/bootstrap-weights-386.npy\n",
      "loading fit-pdf-toy-study-2d-1a/bootstrap-weights-387.npy\n",
      "loading fit-pdf-toy-study-2d-1a/bootstrap-weights-388.npy\n",
      "loading fit-pdf-toy-study-2d-1a/bootstrap-weights-389.npy\n",
      "loading fit-pdf-toy-study-2d-1a/bootstrap-weights-390.npy\n",
      "loading fit-pdf-toy-study-2d-1a/bootstrap-weights-391.npy\n",
      "loading fit-pdf-toy-study-2d-1a/bootstrap-weights-392.npy\n",
      "loading fit-pdf-toy-study-2d-1a/bootstrap-weights-393.npy\n",
      "loading fit-pdf-toy-study-2d-1a/bootstrap-weights-394.npy\n",
      "loading fit-pdf-toy-study-2d-1a/bootstrap-weights-395.npy\n",
      "loading fit-pdf-toy-study-2d-1a/bootstrap-weights-396.npy\n",
      "loading fit-pdf-toy-study-2d-1a/bootstrap-weights-397.npy\n",
      "loading fit-pdf-toy-study-2d-1a/bootstrap-weights-398.npy\n",
      "loading fit-pdf-toy-study-2d-1a/bootstrap-weights-399.npy\n",
      "loading fit-pdf-toy-study-2d-1a/bootstrap-weights-400.npy\n",
      "loading fit-pdf-toy-study-2d-1a/bootstrap-weights-401.npy\n",
      "loading fit-pdf-toy-study-2d-1a/bootstrap-weights-402.npy\n",
      "loading fit-pdf-toy-study-2d-1a/bootstrap-weights-403.npy\n",
      "loading fit-pdf-toy-study-2d-1a/bootstrap-weights-404.npy\n",
      "loading fit-pdf-toy-study-2d-1a/bootstrap-weights-405.npy\n",
      "loading fit-pdf-toy-study-2d-1a/bootstrap-weights-406.npy\n",
      "loading fit-pdf-toy-study-2d-1a/bootstrap-weights-407.npy\n",
      "loading fit-pdf-toy-study-2d-1a/bootstrap-weights-408.npy\n",
      "loading fit-pdf-toy-study-2d-1a/bootstrap-weights-409.npy\n",
      "loading fit-pdf-toy-study-2d-1a/bootstrap-weights-410.npy\n",
      "loading fit-pdf-toy-study-2d-1a/bootstrap-weights-411.npy\n",
      "loading fit-pdf-toy-study-2d-1a/bootstrap-weights-412.npy\n",
      "loading fit-pdf-toy-study-2d-1a/bootstrap-weights-413.npy\n",
      "loading fit-pdf-toy-study-2d-1a/bootstrap-weights-414.npy\n",
      "loading fit-pdf-toy-study-2d-1a/bootstrap-weights-415.npy\n",
      "loading fit-pdf-toy-study-2d-1a/bootstrap-weights-416.npy\n",
      "loading fit-pdf-toy-study-2d-1a/bootstrap-weights-417.npy\n",
      "loading fit-pdf-toy-study-2d-1a/bootstrap-weights-418.npy\n",
      "loading fit-pdf-toy-study-2d-1a/bootstrap-weights-419.npy\n",
      "loading fit-pdf-toy-study-2d-1a/bootstrap-weights-420.npy\n",
      "loading fit-pdf-toy-study-2d-1a/bootstrap-weights-421.npy\n",
      "loading fit-pdf-toy-study-2d-1a/bootstrap-weights-422.npy\n",
      "loading fit-pdf-toy-study-2d-1a/bootstrap-weights-423.npy\n",
      "loading fit-pdf-toy-study-2d-1a/bootstrap-weights-424.npy\n",
      "loading fit-pdf-toy-study-2d-1a/bootstrap-weights-425.npy\n",
      "loading fit-pdf-toy-study-2d-1a/bootstrap-weights-426.npy\n",
      "loading fit-pdf-toy-study-2d-1a/bootstrap-weights-427.npy\n",
      "loading fit-pdf-toy-study-2d-1a/bootstrap-weights-428.npy\n",
      "loading fit-pdf-toy-study-2d-1a/bootstrap-weights-429.npy\n",
      "loading fit-pdf-toy-study-2d-1a/bootstrap-weights-430.npy\n",
      "loading fit-pdf-toy-study-2d-1a/bootstrap-weights-431.npy\n",
      "loading fit-pdf-toy-study-2d-1a/bootstrap-weights-432.npy\n",
      "loading fit-pdf-toy-study-2d-1a/bootstrap-weights-433.npy\n",
      "loading fit-pdf-toy-study-2d-1a/bootstrap-weights-434.npy\n",
      "loading fit-pdf-toy-study-2d-1a/bootstrap-weights-435.npy\n",
      "loading fit-pdf-toy-study-2d-1a/bootstrap-weights-436.npy\n",
      "loading fit-pdf-toy-study-2d-1a/bootstrap-weights-437.npy\n",
      "loading fit-pdf-toy-study-2d-1a/bootstrap-weights-438.npy\n",
      "loading fit-pdf-toy-study-2d-1a/bootstrap-weights-439.npy\n",
      "loading fit-pdf-toy-study-2d-1a/bootstrap-weights-440.npy\n",
      "loading fit-pdf-toy-study-2d-1a/bootstrap-weights-441.npy\n",
      "loading fit-pdf-toy-study-2d-1a/bootstrap-weights-442.npy\n",
      "loading fit-pdf-toy-study-2d-1a/bootstrap-weights-443.npy\n",
      "loading fit-pdf-toy-study-2d-1a/bootstrap-weights-444.npy\n",
      "loading fit-pdf-toy-study-2d-1a/bootstrap-weights-445.npy\n",
      "loading fit-pdf-toy-study-2d-1a/bootstrap-weights-446.npy\n",
      "loading fit-pdf-toy-study-2d-1a/bootstrap-weights-447.npy\n",
      "loading fit-pdf-toy-study-2d-1a/bootstrap-weights-448.npy\n",
      "loading fit-pdf-toy-study-2d-1a/bootstrap-weights-449.npy\n",
      "loading fit-pdf-toy-study-2d-1a/bootstrap-weights-450.npy\n",
      "loading fit-pdf-toy-study-2d-1a/bootstrap-weights-451.npy\n",
      "loading fit-pdf-toy-study-2d-1a/bootstrap-weights-452.npy\n",
      "loading fit-pdf-toy-study-2d-1a/bootstrap-weights-453.npy\n",
      "loading fit-pdf-toy-study-2d-1a/bootstrap-weights-454.npy\n",
      "loading fit-pdf-toy-study-2d-1a/bootstrap-weights-455.npy\n",
      "loading fit-pdf-toy-study-2d-1a/bootstrap-weights-456.npy\n",
      "loading fit-pdf-toy-study-2d-1a/bootstrap-weights-457.npy\n",
      "loading fit-pdf-toy-study-2d-1a/bootstrap-weights-458.npy\n",
      "loading fit-pdf-toy-study-2d-1a/bootstrap-weights-459.npy\n",
      "loading fit-pdf-toy-study-2d-1a/bootstrap-weights-460.npy\n",
      "loading fit-pdf-toy-study-2d-1a/bootstrap-weights-461.npy\n",
      "loading fit-pdf-toy-study-2d-1a/bootstrap-weights-462.npy\n",
      "loading fit-pdf-toy-study-2d-1a/bootstrap-weights-463.npy\n",
      "loading fit-pdf-toy-study-2d-1a/bootstrap-weights-464.npy\n",
      "loading fit-pdf-toy-study-2d-1a/bootstrap-weights-465.npy\n",
      "loading fit-pdf-toy-study-2d-1a/bootstrap-weights-466.npy\n",
      "loading fit-pdf-toy-study-2d-1a/bootstrap-weights-467.npy\n",
      "loading fit-pdf-toy-study-2d-1a/bootstrap-weights-468.npy\n",
      "loading fit-pdf-toy-study-2d-1a/bootstrap-weights-469.npy\n",
      "loading fit-pdf-toy-study-2d-1a/bootstrap-weights-470.npy\n",
      "loading fit-pdf-toy-study-2d-1a/bootstrap-weights-471.npy\n",
      "loading fit-pdf-toy-study-2d-1a/bootstrap-weights-472.npy\n",
      "loading fit-pdf-toy-study-2d-1a/bootstrap-weights-473.npy\n",
      "loading fit-pdf-toy-study-2d-1a/bootstrap-weights-474.npy\n",
      "loading fit-pdf-toy-study-2d-1a/bootstrap-weights-475.npy\n",
      "loading fit-pdf-toy-study-2d-1a/bootstrap-weights-476.npy\n",
      "loading fit-pdf-toy-study-2d-1a/bootstrap-weights-477.npy\n",
      "loading fit-pdf-toy-study-2d-1a/bootstrap-weights-478.npy\n",
      "loading fit-pdf-toy-study-2d-1a/bootstrap-weights-479.npy\n",
      "loading fit-pdf-toy-study-2d-1a/bootstrap-weights-480.npy\n",
      "loading fit-pdf-toy-study-2d-1a/bootstrap-weights-481.npy\n",
      "loading fit-pdf-toy-study-2d-1a/bootstrap-weights-482.npy\n",
      "loading fit-pdf-toy-study-2d-1a/bootstrap-weights-483.npy\n",
      "loading fit-pdf-toy-study-2d-1a/bootstrap-weights-484.npy\n",
      "loading fit-pdf-toy-study-2d-1a/bootstrap-weights-485.npy\n",
      "loading fit-pdf-toy-study-2d-1a/bootstrap-weights-486.npy\n",
      "loading fit-pdf-toy-study-2d-1a/bootstrap-weights-487.npy\n",
      "loading fit-pdf-toy-study-2d-1a/bootstrap-weights-488.npy\n",
      "loading fit-pdf-toy-study-2d-1a/bootstrap-weights-489.npy\n",
      "loading fit-pdf-toy-study-2d-1a/bootstrap-weights-490.npy\n",
      "loading fit-pdf-toy-study-2d-1a/bootstrap-weights-491.npy\n",
      "loading fit-pdf-toy-study-2d-1a/bootstrap-weights-492.npy\n",
      "loading fit-pdf-toy-study-2d-1a/bootstrap-weights-493.npy\n",
      "loading fit-pdf-toy-study-2d-1a/bootstrap-weights-494.npy\n",
      "loading fit-pdf-toy-study-2d-1a/bootstrap-weights-495.npy\n",
      "loading fit-pdf-toy-study-2d-1a/bootstrap-weights-496.npy\n",
      "loading fit-pdf-toy-study-2d-1a/bootstrap-weights-497.npy\n",
      "loading fit-pdf-toy-study-2d-1a/bootstrap-weights-498.npy\n",
      "loading fit-pdf-toy-study-2d-1a/bootstrap-weights-499.npy\n"
     ]
    }
   ],
   "source": [
    "for fi in range(n_samples) :\n",
    "    \n",
    "    fname = '%s/bootstrap-weights-%03d.npy' % (input_dir, fi)\n",
    "    \n",
    "    if exists(fname) :\n",
    "        print( 'loading %s' % fname )\n",
    "        with open(fname,'rb') as f :\n",
    "            this_bootstrap_weights = np.load(f)\n",
    "        bootstrap_weights[fi,:] = this_bootstrap_weights[0:ncalc]\n",
    "        \n",
    "    else :\n",
    "        print(\"\\n\\n *** file %s does not exist!\\n\\n\" % fname )\n",
    "        sys.exit()\n",
    "        \n"
   ]
  },
  {
   "cell_type": "code",
   "execution_count": 12,
   "id": "6ed9a8ef",
   "metadata": {},
   "outputs": [
    {
     "name": "stdout",
     "output_type": "stream",
     "text": [
      " ncalc = 1000\n"
     ]
    }
   ],
   "source": [
    "\n",
    "corr_array = np.zeros( ncalc )\n",
    "print(\" ncalc = %d\" % ncalc)\n",
    "\n",
    "point_index = 57\n",
    "\n",
    "for i in range(ncalc) :\n",
    "    pair_cor = np.corrcoef( np.row_stack( (bootstrap_weights[:,point_index], bootstrap_weights[:,i]) ))\n",
    "    corr_array[i] = pair_cor[0,1]\n"
   ]
  },
  {
   "cell_type": "code",
   "execution_count": 13,
   "id": "d2ef1b44",
   "metadata": {},
   "outputs": [
    {
     "data": {
      "text/plain": [
       "<function matplotlib.pyplot.show(close=None, block=None)>"
      ]
     },
     "execution_count": 13,
     "metadata": {},
     "output_type": "execute_result"
    },
    {
     "data": {
      "image/png": "[encoded data removed]",
      "text/plain": [
       "<Figure size 432x288 with 1 Axes>"
      ]
     },
     "metadata": {
      "needs_background": "light"
     },
     "output_type": "display_data"
    }
   ],
   "source": [
    "plt.hist( corr_array, bins=40)\n",
    "plt.show"
   ]
  },
  {
   "cell_type": "code",
   "execution_count": 14,
   "id": "53d51898",
   "metadata": {},
   "outputs": [],
   "source": [
    "df0 = train_pts[:,0] - train_pts[point_index,0]\n",
    "df1 = train_pts[:,1] - train_pts[point_index,1]\n",
    "dr = np.sqrt( df0*df0 + df1*df1)"
   ]
  },
  {
   "cell_type": "code",
   "execution_count": null,
   "id": "44353a7c",
   "metadata": {},
   "outputs": [],
   "source": []
  },
  {
   "cell_type": "code",
   "execution_count": 15,
   "id": "d585fa8c",
   "metadata": {},
   "outputs": [
    {
     "data": {
      "text/plain": [
       "<function matplotlib.pyplot.show(close=None, block=None)>"
      ]
     },
     "execution_count": 15,
     "metadata": {},
     "output_type": "execute_result"
    },
    {
     "data": {
      "image/png": "[encoded data removed]",
      "text/plain": [
       "<Figure size 1296x360 with 3 Axes>"
      ]
     },
     "metadata": {
      "needs_background": "light"
     },
     "output_type": "display_data"
    }
   ],
   "source": [
    "fig,ax = plt.subplots( 1, 3, figsize=(18,5))\n",
    "ax[0].hist2d( df0[:ncalc], corr_array, bins=[80,80], range=([-4,4],[-1,1]))\n",
    "ax[1].hist2d( df1[:ncalc], corr_array, bins=[80,80], range=([-4,4],[-1,1]))\n",
    "ax[2].hist2d( dr[:ncalc], corr_array, bins=[80,80], range=([0,5],[-1,1]))\n",
    "plt.show"
   ]
  },
  {
   "cell_type": "code",
   "execution_count": null,
   "id": "ee3776c7",
   "metadata": {},
   "outputs": [],
   "source": []
  },
  {
   "cell_type": "code",
   "execution_count": 16,
   "id": "56ad5952",
   "metadata": {
    "scrolled": true
   },
   "outputs": [
    {
     "name": "stdout",
     "output_type": "stream",
     "text": [
      " Working on point   0\n",
      " Working on point 100\n",
      " Working on point 200\n",
      " Working on point 300\n",
      " Working on point 400\n",
      " Working on point 500\n",
      " Working on point 600\n",
      " Working on point 700\n",
      " Working on point 800\n",
      " Working on point 900\n",
      "CPU times: user 52.5 s, sys: 5.78 s, total: 58.3 s\n",
      "Wall time: 58.3 s\n"
     ]
    }
   ],
   "source": [
    "%%time\n",
    "\n",
    "\n",
    "\n",
    "for point_index in range(npoints) :\n",
    "    \n",
    "    if (point_index % (npoints/10) == 0 ) :\n",
    "        print(\" Working on point %3d\" % point_index)\n",
    "        \n",
    "    this_point_corr_array = np.zeros(ncalc)\n",
    "    \n",
    "    for i in range(ncalc) :\n",
    "        #if i == point_index : continue\n",
    "        pair_cor = np.corrcoef( np.row_stack( (bootstrap_weights[:,point_index], bootstrap_weights[:,i]) ))\n",
    "        this_point_corr_array[i] = pair_cor[0,1]\n",
    "    \n",
    "    if point_index == 0 :\n",
    "        all_points_df0 = train_pts[:ncalc,0] - train_pts[point_index,0]\n",
    "        all_points_df1 = train_pts[:ncalc,1] - train_pts[point_index,1]\n",
    "        all_points_dr = np.sqrt( all_points_df0*all_points_df0 + all_points_df1*all_points_df1)\n",
    "        all_points_corr_array = this_point_corr_array\n",
    "        all_points_f0b = train_pts[:ncalc,0]\n",
    "        all_points_f1b = train_pts[:ncalc,1]\n",
    "    else :\n",
    "        this_point_df0 = train_pts[:ncalc,0] - train_pts[point_index,0]\n",
    "        this_point_df1 = train_pts[:ncalc,1] - train_pts[point_index,1]  \n",
    "        this_point_dr = np.sqrt( this_point_df0*this_point_df0 + this_point_df1*this_point_df1 )\n",
    "        all_points_df0 = np.append( all_points_df0, this_point_df0 )\n",
    "        all_points_df1 = np.append( all_points_df1, this_point_df1 )\n",
    "        all_points_dr = np.append( all_points_dr, this_point_dr )\n",
    "        all_points_corr_array = np.append(all_points_corr_array, this_point_corr_array)\n",
    "        all_points_f0b = np.append(all_points_f0b, train_pts[:ncalc,0] )\n",
    "        all_points_f1b = np.append(all_points_f1b, train_pts[:ncalc,1] )\n"
   ]
  },
  {
   "cell_type": "code",
   "execution_count": 17,
   "id": "29820da0",
   "metadata": {},
   "outputs": [
    {
     "data": {
      "text/plain": [
       "(1000000,)"
      ]
     },
     "execution_count": 17,
     "metadata": {},
     "output_type": "execute_result"
    }
   ],
   "source": [
    "all_points_corr_array.shape"
   ]
  },
  {
   "cell_type": "code",
   "execution_count": 18,
   "id": "d2785a9d",
   "metadata": {},
   "outputs": [
    {
     "data": {
      "text/plain": [
       "(1000000,)"
      ]
     },
     "execution_count": 18,
     "metadata": {},
     "output_type": "execute_result"
    }
   ],
   "source": [
    "all_points_df0.shape"
   ]
  },
  {
   "cell_type": "code",
   "execution_count": null,
   "id": "5c2ac87b",
   "metadata": {},
   "outputs": [],
   "source": []
  },
  {
   "cell_type": "code",
   "execution_count": 19,
   "id": "60ec7e63",
   "metadata": {},
   "outputs": [
    {
     "data": {
      "text/plain": [
       "<function matplotlib.pyplot.show(close=None, block=None)>"
      ]
     },
     "execution_count": 19,
     "metadata": {},
     "output_type": "execute_result"
    },
    {
     "data": {
      "image/png": "[encoded data removed]",
      "text/plain": [
       "<Figure size 1296x360 with 3 Axes>"
      ]
     },
     "metadata": {
      "needs_background": "light"
     },
     "output_type": "display_data"
    }
   ],
   "source": [
    "fig,ax = plt.subplots( 1, 3, figsize=(18,5))\n",
    "ax[0].hist2d( all_points_df0, all_points_corr_array, bins=[80,80], range=([-4,4],[-1,1]))\n",
    "ax[1].hist2d( all_points_df1, all_points_corr_array, bins=[80,80], range=([-4,4],[-1,1]))\n",
    "ax[2].hist2d( all_points_dr, all_points_corr_array, bins=[80,80], range=([0,5],[-1,1]))\n",
    "\n",
    "#plt.savefig('plots/correlation-vs-distance-%s.png' % sample_name, bbox_inches='tight')\n",
    "#plt.savefig('plots/correlation-vs-distance-%s.pdf' % sample_name, bbox_inches='tight')\n",
    "\n",
    "plt.show"
   ]
  },
  {
   "cell_type": "code",
   "execution_count": null,
   "id": "f1bc181e",
   "metadata": {},
   "outputs": [],
   "source": []
  },
  {
   "cell_type": "code",
   "execution_count": 20,
   "id": "38f4d955",
   "metadata": {},
   "outputs": [
    {
     "data": {
      "text/plain": [
       "<function matplotlib.pyplot.show(close=None, block=None)>"
      ]
     },
     "execution_count": 20,
     "metadata": {},
     "output_type": "execute_result"
    },
    {
     "data": {
      "image/png": "[encoded data removed]",
      "text/plain": [
       "<Figure size 432x288 with 1 Axes>"
      ]
     },
     "metadata": {
      "needs_background": "light"
     },
     "output_type": "display_data"
    }
   ],
   "source": [
    "plt.hist2d( all_points_f0b, all_points_f1b, bins=[80,80] )\n",
    "plt.show"
   ]
  },
  {
   "cell_type": "code",
   "execution_count": 21,
   "id": "a803d4f0",
   "metadata": {},
   "outputs": [
    {
     "data": {
      "text/plain": [
       "<function matplotlib.pyplot.show(close=None, block=None)>"
      ]
     },
     "execution_count": 21,
     "metadata": {},
     "output_type": "execute_result"
    },
    {
     "data": {
      "image/png": "[encoded data removed]",
      "text/plain": [
       "<Figure size 432x288 with 1 Axes>"
      ]
     },
     "metadata": {
      "needs_background": "light"
     },
     "output_type": "display_data"
    }
   ],
   "source": [
    "plt.hist2d( all_points_f0b[all_points_corr_array>0.8], all_points_f1b[all_points_corr_array>0.8], bins=[80,80] )\n",
    "plt.show"
   ]
  },
  {
   "cell_type": "markdown",
   "id": "2810d336",
   "metadata": {},
   "source": [
    "## Save the output"
   ]
  },
  {
   "cell_type": "code",
   "execution_count": 22,
   "id": "e4be7434",
   "metadata": {},
   "outputs": [],
   "source": [
    "with open( '%s/correlations.npy' % input_dir, 'wb') as f :\n",
    "    np.save(f, all_points_df0)\n",
    "    np.save(f, all_points_df1)\n",
    "    np.save(f, all_points_dr)\n",
    "    np.save(f, all_points_corr_array)\n",
    "    "
   ]
  },
  {
   "cell_type": "code",
   "execution_count": 23,
   "id": "6ffe6e49",
   "metadata": {},
   "outputs": [],
   "source": [
    "with open( '%s/correlation-points-feature-coords.npy' % input_dir, 'wb') as f :\n",
    "    np.save(f, all_points_f0b)\n",
    "    np.save(f, all_points_f1b)"
   ]
  },
  {
   "cell_type": "code",
   "execution_count": null,
   "id": "d0b81bdc",
   "metadata": {},
   "outputs": [],
   "source": []
  },
  {
   "cell_type": "code",
   "execution_count": null,
   "id": "3126b147",
   "metadata": {},
   "outputs": [],
   "source": []
  },
  {
   "cell_type": "code",
   "execution_count": null,
   "id": "43312fd5",
   "metadata": {},
   "outputs": [],
   "source": []
  },
  {
   "cell_type": "code",
   "execution_count": null,
   "id": "edd29869",
   "metadata": {},
   "outputs": [],
   "source": []
  },
  {
   "cell_type": "code",
   "execution_count": null,
   "id": "49ddfda6",
   "metadata": {},
   "outputs": [],
   "source": []
  }
 ],
 "metadata": {
  "kernelspec": {
   "display_name": "Python 3 (ipykernel)",
   "language": "python",
   "name": "python3"
  },
  "language_info": {
   "codemirror_mode": {
    "name": "ipython",
    "version": 3
   },
   "file_extension": ".py",
   "mimetype": "text/x-python",
   "name": "python",
   "nbconvert_exporter": "python",
   "pygments_lexer": "ipython3",
   "version": "3.10.12"
  }
 },
 "nbformat": 4,
 "nbformat_minor": 5
}
