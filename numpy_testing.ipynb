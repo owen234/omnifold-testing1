{
 "cells": [
  {
   "cell_type": "code",
   "execution_count": 1,
   "id": "5a28ab99",
   "metadata": {},
   "outputs": [],
   "source": [
    "import numpy as np"
   ]
  },
  {
   "cell_type": "code",
   "execution_count": 2,
   "id": "a461509a",
   "metadata": {},
   "outputs": [],
   "source": [
    "col_vec = np.array([[11],[22],[33]])"
   ]
  },
  {
   "cell_type": "code",
   "execution_count": 3,
   "id": "4d9ada62",
   "metadata": {},
   "outputs": [
    {
     "data": {
      "text/plain": [
       "array([[11],\n",
       "       [22],\n",
       "       [33]])"
      ]
     },
     "execution_count": 3,
     "metadata": {},
     "output_type": "execute_result"
    }
   ],
   "source": [
    "col_vec"
   ]
  },
  {
   "cell_type": "code",
   "execution_count": 4,
   "id": "63bb8f35",
   "metadata": {},
   "outputs": [],
   "source": [
    "row_vec = col_vec.T"
   ]
  },
  {
   "cell_type": "code",
   "execution_count": 5,
   "id": "245a3aa2",
   "metadata": {},
   "outputs": [
    {
     "data": {
      "text/plain": [
       "array([[11, 22, 33]])"
      ]
     },
     "execution_count": 5,
     "metadata": {},
     "output_type": "execute_result"
    }
   ],
   "source": [
    "row_vec"
   ]
  },
  {
   "cell_type": "code",
   "execution_count": 6,
   "id": "6f43bfd1",
   "metadata": {},
   "outputs": [],
   "source": [
    "col_times_row = col_vec * row_vec"
   ]
  },
  {
   "cell_type": "code",
   "execution_count": 7,
   "id": "553e56b9",
   "metadata": {},
   "outputs": [
    {
     "data": {
      "text/plain": [
       "array([[ 121,  242,  363],\n",
       "       [ 242,  484,  726],\n",
       "       [ 363,  726, 1089]])"
      ]
     },
     "execution_count": 7,
     "metadata": {},
     "output_type": "execute_result"
    }
   ],
   "source": [
    "col_times_row"
   ]
  },
  {
   "cell_type": "code",
   "execution_count": 8,
   "id": "9d625477",
   "metadata": {},
   "outputs": [
    {
     "data": {
      "text/plain": [
       "(3, 1)"
      ]
     },
     "execution_count": 8,
     "metadata": {},
     "output_type": "execute_result"
    }
   ],
   "source": [
    "col_vec.shape"
   ]
  },
  {
   "cell_type": "code",
   "execution_count": 9,
   "id": "ae33656f",
   "metadata": {},
   "outputs": [
    {
     "data": {
      "text/plain": [
       "(1, 3)"
      ]
     },
     "execution_count": 9,
     "metadata": {},
     "output_type": "execute_result"
    }
   ],
   "source": [
    "row_vec.shape"
   ]
  },
  {
   "cell_type": "code",
   "execution_count": 10,
   "id": "1afef761",
   "metadata": {},
   "outputs": [
    {
     "data": {
      "text/plain": [
       "(3, 3)"
      ]
     },
     "execution_count": 10,
     "metadata": {},
     "output_type": "execute_result"
    }
   ],
   "source": [
    "col_times_row.shape"
   ]
  },
  {
   "cell_type": "code",
   "execution_count": 11,
   "id": "665a890f",
   "metadata": {},
   "outputs": [],
   "source": [
    "row_times_col = row_vec * col_vec"
   ]
  },
  {
   "cell_type": "code",
   "execution_count": 12,
   "id": "4c928d0f",
   "metadata": {},
   "outputs": [
    {
     "data": {
      "text/plain": [
       "array([[ 121,  242,  363],\n",
       "       [ 242,  484,  726],\n",
       "       [ 363,  726, 1089]])"
      ]
     },
     "execution_count": 12,
     "metadata": {},
     "output_type": "execute_result"
    }
   ],
   "source": [
    "row_times_col"
   ]
  },
  {
   "cell_type": "code",
   "execution_count": 13,
   "id": "c71154d0",
   "metadata": {},
   "outputs": [],
   "source": [
    "row_times_row = row_vec * row_vec"
   ]
  },
  {
   "cell_type": "code",
   "execution_count": 14,
   "id": "9e5ebb2c",
   "metadata": {},
   "outputs": [
    {
     "data": {
      "text/plain": [
       "array([[ 121,  484, 1089]])"
      ]
     },
     "execution_count": 14,
     "metadata": {},
     "output_type": "execute_result"
    }
   ],
   "source": [
    "row_times_row"
   ]
  },
  {
   "cell_type": "code",
   "execution_count": 15,
   "id": "b89835c4",
   "metadata": {},
   "outputs": [],
   "source": [
    "#row_dot_row = np.dot(row_vec,row_vec)"
   ]
  },
  {
   "cell_type": "code",
   "execution_count": 16,
   "id": "ec0cf7bc",
   "metadata": {},
   "outputs": [],
   "source": [
    "row_dot_col = np.dot(row_vec,col_vec)"
   ]
  },
  {
   "cell_type": "code",
   "execution_count": 17,
   "id": "b3afbf0d",
   "metadata": {},
   "outputs": [
    {
     "data": {
      "text/plain": [
       "array([[1694]])"
      ]
     },
     "execution_count": 17,
     "metadata": {},
     "output_type": "execute_result"
    }
   ],
   "source": [
    "row_dot_col"
   ]
  },
  {
   "cell_type": "code",
   "execution_count": 18,
   "id": "235f12ad",
   "metadata": {},
   "outputs": [
    {
     "data": {
      "text/plain": [
       "(1, 1)"
      ]
     },
     "execution_count": 18,
     "metadata": {},
     "output_type": "execute_result"
    }
   ],
   "source": [
    "row_dot_col.shape"
   ]
  },
  {
   "cell_type": "code",
   "execution_count": 19,
   "id": "12ac8560",
   "metadata": {},
   "outputs": [],
   "source": [
    "col_dot_row = np.dot(col_vec,row_vec)"
   ]
  },
  {
   "cell_type": "code",
   "execution_count": 20,
   "id": "fc691972",
   "metadata": {},
   "outputs": [
    {
     "data": {
      "text/plain": [
       "array([[ 121,  242,  363],\n",
       "       [ 242,  484,  726],\n",
       "       [ 363,  726, 1089]])"
      ]
     },
     "execution_count": 20,
     "metadata": {},
     "output_type": "execute_result"
    }
   ],
   "source": [
    "col_dot_row"
   ]
  },
  {
   "cell_type": "code",
   "execution_count": null,
   "id": "439bedee",
   "metadata": {},
   "outputs": [],
   "source": []
  },
  {
   "cell_type": "code",
   "execution_count": 21,
   "id": "8d56d6ea",
   "metadata": {},
   "outputs": [],
   "source": [
    "arr1 = np.ones(3)"
   ]
  },
  {
   "cell_type": "code",
   "execution_count": 22,
   "id": "dca1e244",
   "metadata": {},
   "outputs": [
    {
     "data": {
      "text/plain": [
       "array([1., 1., 1.])"
      ]
     },
     "execution_count": 22,
     "metadata": {},
     "output_type": "execute_result"
    }
   ],
   "source": [
    "arr1"
   ]
  },
  {
   "cell_type": "code",
   "execution_count": 23,
   "id": "b4743ca2",
   "metadata": {},
   "outputs": [],
   "source": [
    "arr2 = 2*np.ones(3)"
   ]
  },
  {
   "cell_type": "code",
   "execution_count": 24,
   "id": "04fd5a9c",
   "metadata": {},
   "outputs": [
    {
     "data": {
      "text/plain": [
       "array([2., 2., 2.])"
      ]
     },
     "execution_count": 24,
     "metadata": {},
     "output_type": "execute_result"
    }
   ],
   "source": [
    "arr2"
   ]
  },
  {
   "cell_type": "code",
   "execution_count": 28,
   "id": "3f7579ef",
   "metadata": {},
   "outputs": [],
   "source": [
    "arrcomb = np.append(arr1,arr2)"
   ]
  },
  {
   "cell_type": "code",
   "execution_count": 29,
   "id": "c29ddce0",
   "metadata": {},
   "outputs": [
    {
     "data": {
      "text/plain": [
       "array([1., 1., 1., 2., 2., 2.])"
      ]
     },
     "execution_count": 29,
     "metadata": {},
     "output_type": "execute_result"
    }
   ],
   "source": [
    "arrcomb"
   ]
  },
  {
   "cell_type": "code",
   "execution_count": null,
   "id": "700c964b",
   "metadata": {},
   "outputs": [],
   "source": []
  }
 ],
 "metadata": {
  "kernelspec": {
   "display_name": "Python 3 (ipykernel)",
   "language": "python",
   "name": "python3"
  },
  "language_info": {
   "codemirror_mode": {
    "name": "ipython",
    "version": 3
   },
   "file_extension": ".py",
   "mimetype": "text/x-python",
   "name": "python",
   "nbconvert_exporter": "python",
   "pygments_lexer": "ipython3",
   "version": "3.10.12"
  }
 },
 "nbformat": 4,
 "nbformat_minor": 5
}
